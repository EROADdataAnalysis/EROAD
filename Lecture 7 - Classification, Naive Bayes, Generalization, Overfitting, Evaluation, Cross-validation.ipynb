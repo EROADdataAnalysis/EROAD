{
 "cells": [
  {
   "cell_type": "code",
   "execution_count": 2,
   "metadata": {
    "collapsed": false
   },
   "outputs": [
    {
     "data": {
      "text/html": [
       "<style>.container { width:100% !important; }</style>"
      ],
      "text/plain": [
       "<IPython.core.display.HTML object>"
      ]
     },
     "metadata": {},
     "output_type": "display_data"
    }
   ],
   "source": [
    "from IPython.core.display import display, HTML\n",
    "display(HTML(\"<style>.container { width:80% !important; }</style>\"))"
   ]
  },
  {
   "cell_type": "markdown",
   "metadata": {},
   "source": [
    "# Lecture 7 - Classification, Naive Bayes, Generalization, Overfitting, Evaluation, Cross-validation and Scikit-learn"
   ]
  },
  {
   "cell_type": "markdown",
   "metadata": {},
   "source": [
    "# Table of Contents\n",
    "* [Lecture 7- Classification, Naive Bayes, Generalization, Overfitting, Evaluation, Cross-validation and Scikit-learn](#Lecture-6--Classification,-Naive-Bayes,-Generalization,-Overfitting,-Evaluation,-Cross-validation-and-Scikit-learn)\n",
    "\t* &nbsp;\n",
    "\t\t* [Content](#Content)\n",
    "\t\t* [Learning Outcomes](#Learning-Outcomes)\n",
    "* [Classification](#Classification)\n",
    "\t* &nbsp;\n",
    "\t\t* [Example dataset - Wine](#Example-dataset---Wine)\n",
    "* [Naive Bayes](#Naive-Bayes)\n",
    "\t* &nbsp;\n",
    "\t\t* &nbsp;\n",
    "\t\t\t* [Probabilities](#Probabilities)\n",
    "\t\t\t* [Joint probabilities](#Joint-probabilities)\n",
    "\t\t* [Probability density functions](#Probability-density-functions)\n",
    "\t\t* [Steps for calculating the classification for naive Bayes](#Steps-for-calculating-the-classification-for-naive-Bayes)\n",
    "\t\t* [Comparing Naive Bayes to k-NN](#Comparing-Naive-Bayes-to-k-NN)\n",
    "* [Generalization](#Generalization)\n",
    "* [Overfitting](#Overfitting)\n",
    "* [Classifier Evaluation](#Classifier-Evaluation)\n",
    "* [Cross-Validation](#Cross-Validation)\n",
    "* [Machine Learning - Evaluating Multiple Algorithms](#Machine-Learning---Evaluating-Multiple-Algorithms)\n",
    "* [No Free Lunch](#No-Free-Lunch)\n",
    "* [Classification Process Summarized](#Classification-Process-Summarized)\n",
    "* [Putting it all together in scikit-learn](#Putting-it-all-together-in-scikit-learn)\n"
   ]
  },
  {
   "cell_type": "markdown",
   "metadata": {},
   "source": [
    "---"
   ]
  },
  {
   "cell_type": "markdown",
   "metadata": {},
   "source": [
    "### Content"
   ]
  },
  {
   "cell_type": "markdown",
   "metadata": {},
   "source": [
    "1. Classification\n",
    "2. Naive Bayes\n",
    "3. Generalization\n",
    "4. Overfitting\n",
    "5. Classifiers goodness-of-fit\n",
    "6. Cross-validation\n",
    "7. Comparing multiple classifiers\n",
    "8. Scikit-learn"
   ]
  },
  {
   "cell_type": "markdown",
   "metadata": {},
   "source": [
    "### Learning Outcomes"
   ]
  },
  {
   "cell_type": "markdown",
   "metadata": {},
   "source": [
    "At the end of this lecture, you should be able to:\n",
    "\n",
    "* explain the difference between classification and regression\n",
    "* program and apply the Naive Bayes to classification tasks\n",
    "* explain the theory of generalization, the phenomenon of overfitting, and the 'no free lunch' theorem\n",
    "* discuss and apply various measures for evaluating classifier accuracy\n",
    "* use cross-validation for training and evaluating classifiers\n",
    "* compare the accuracies of multiple classification algorithms across multiple datasets\n",
    "* use the scikit-learn module to train and test Naive Bayes classifiers\n",
    "---"
   ]
  },
  {
   "cell_type": "markdown",
   "metadata": {},
   "source": [
    "# Classification"
   ]
  },
  {
   "cell_type": "markdown",
   "metadata": {},
   "source": [
    "In machine learning, classification is the task of devising a *classifier* capable of assigning a particular class/category to an unknown instance/sample from a set of possible classes. A machine learning algorithm builds, evaluates and optimises a classifier on the training data in  such a way that it discriminate instances of different classes from each other, in the hope that these patterns will *generalise* and be valid on data which the algorithm has not *seen* during the training phase. \n",
    "\n",
    "Classification (like regression) belong to a family of **supervised learning** methods. In order to be able to perform supervised learning, a training set is required where all of the samples' **class values are known in advance**. The classifier is **trained** to learn how to map each of the samples' features/attributes to their corresponding class labels.\n",
    "\n",
    "Once the classifier is trained to do this on a fully labelled dataset, the classifier is then used to classify unknown samples into class labels given the samples feature vectors only. If there are two classes used in the prediction, then this is referred to as a **binary classification problem**. If there are more than just two classes in the dataset, this is than called a **multiclass classification problem**. \n",
    "\n",
    "As the number of classes in a prediction problem increase, so does the difficulty in maintaining high accuracy. \n",
    "\n",
    "A classifier can be fixed-size (irrespective of the amount of data provided for training), or it can be variable, and thus grow in complexity with the amount of available data, allowing it to capture and encode complex decision boundaries.\n",
    "\n",
    "Classification is an immensely vital and widely used technique. Examples of classification are found in classifying whether or not a given email is of a class \"spam\" or \"non-spam\"; banks use it to classify if a given transaction is \"legitimate\" or \"fraudulent\" class; medical staff have technologies to assigning a diagnosis to a given patient as described by observed characteristics of the patient; financial analysts use it to predict if a given stock should be classified as \"invest now\" or \"do not invest\" at a given point in time given a range of accompanying indicators. \n",
    "\n",
    "In order to perform classification, an algorithm is first needed that creates a classifier. There are many types of machine learning classification algorithms. \n",
    "\n",
    "We have looked kNN and seen how it can be used as a classification algorithm. Some of the other well known ones are Neural Networks, Support Vector Machines, Tree classifiers, Boosted Ensembles, Bagging, Random Forests as well as Naive Bayes."
   ]
  },
  {
   "cell_type": "markdown",
   "metadata": {},
   "source": [
    "### Example dataset - Wine"
   ]
  },
  {
   "cell_type": "markdown",
   "metadata": {},
   "source": [
    "We will return to the Wine dataset to explore classification."
   ]
  },
  {
   "cell_type": "code",
   "execution_count": 4,
   "metadata": {
    "collapsed": false
   },
   "outputs": [
    {
     "data": {
      "text/html": [
       "<div>\n",
       "<table border=\"1\" class=\"dataframe\">\n",
       "  <thead>\n",
       "    <tr style=\"text-align: right;\">\n",
       "      <th></th>\n",
       "      <th>Class</th>\n",
       "      <th>Magnesium</th>\n",
       "      <th>Flavanoids</th>\n",
       "    </tr>\n",
       "  </thead>\n",
       "  <tbody>\n",
       "    <tr>\n",
       "      <th>0</th>\n",
       "      <td>1</td>\n",
       "      <td>2.80</td>\n",
       "      <td>3.06</td>\n",
       "    </tr>\n",
       "    <tr>\n",
       "      <th>1</th>\n",
       "      <td>1</td>\n",
       "      <td>2.65</td>\n",
       "      <td>2.76</td>\n",
       "    </tr>\n",
       "    <tr>\n",
       "      <th>2</th>\n",
       "      <td>1</td>\n",
       "      <td>2.80</td>\n",
       "      <td>3.24</td>\n",
       "    </tr>\n",
       "    <tr>\n",
       "      <th>3</th>\n",
       "      <td>1</td>\n",
       "      <td>3.85</td>\n",
       "      <td>3.49</td>\n",
       "    </tr>\n",
       "    <tr>\n",
       "      <th>4</th>\n",
       "      <td>1</td>\n",
       "      <td>2.80</td>\n",
       "      <td>2.69</td>\n",
       "    </tr>\n",
       "  </tbody>\n",
       "</table>\n",
       "</div>"
      ],
      "text/plain": [
       "   Class  Magnesium  Flavanoids\n",
       "0      1       2.80        3.06\n",
       "1      1       2.65        2.76\n",
       "2      1       2.80        3.24\n",
       "3      1       3.85        3.49\n",
       "4      1       2.80        2.69"
      ]
     },
     "execution_count": 4,
     "metadata": {},
     "output_type": "execute_result"
    }
   ],
   "source": [
    "import pandas as pd\n",
    "import numpy as np\n",
    "import matplotlib as mtpl\n",
    "#import mpld3\n",
    "import seaborn as sns\n",
    "\n",
    "%matplotlib inline\n",
    "\n",
    "df = pd.io.parsers.read_csv(\n",
    "    'wine_data.csv',\n",
    "     usecols=[0,6,7]\n",
    "    )\n",
    "\n",
    "df.columns=['Class','Magnesium','Flavanoids']\n",
    "\n",
    "df['Class'].replace('3', 0, inplace=True)\n",
    "df.to_csv('wine_data_test.csv', header=None, index=None)\n",
    "\n",
    "df.head(5)"
   ]
  },
  {
   "cell_type": "markdown",
   "metadata": {},
   "source": [
    "Confirm we have 3 class labels:"
   ]
  },
  {
   "cell_type": "code",
   "execution_count": 5,
   "metadata": {
    "collapsed": false
   },
   "outputs": [
    {
     "data": {
      "text/plain": [
       "array([1, 2, 0], dtype=int64)"
      ]
     },
     "execution_count": 5,
     "metadata": {},
     "output_type": "execute_result"
    }
   ],
   "source": [
    "df.Class.unique()\n"
   ]
  },
  {
   "cell_type": "markdown",
   "metadata": {},
   "source": [
    "Confirm data types:"
   ]
  },
  {
   "cell_type": "code",
   "execution_count": 6,
   "metadata": {
    "collapsed": false
   },
   "outputs": [
    {
     "data": {
      "text/plain": [
       "Class           int64\n",
       "Magnesium     float64\n",
       "Flavanoids    float64\n",
       "dtype: object"
      ]
     },
     "execution_count": 6,
     "metadata": {},
     "output_type": "execute_result"
    }
   ],
   "source": [
    "df.dtypes\n"
   ]
  },
  {
   "cell_type": "markdown",
   "metadata": {},
   "source": [
    "In classification problems, the **ability to separate classes** from one another is the most important consideration. Histograms of the feature values per class type, can be a useful tool for **eyeballing** some features and to get a rough feeling for their **discriminative power**. \n",
    "\n",
    "Here we are visualising the histograms of the two features for each of the three classes:"
   ]
  },
  {
   "cell_type": "code",
   "execution_count": 7,
   "metadata": {
    "collapsed": false
   },
   "outputs": [
    {
     "data": {
      "image/png": "[encoded data removed]",
      "text/plain": [
       "<matplotlib.figure.Figure at 0x84767f0>"
      ]
     },
     "metadata": {},
     "output_type": "display_data"
    }
   ],
   "source": [
    "from matplotlib import pyplot as plt\n",
    "\n",
    "plt.figure(figsize=(10,8))\n",
    "\n",
    "colors = ('blue', 'red', 'green')\n",
    "\n",
    "for label,color in zip(range(0,3), colors):\n",
    "    mean = np.mean(df['Magnesium'][df['Class'] == label]) # class sample mean\n",
    "    stdev = np.std(df['Magnesium'][df['Class'] == label]) # class standard deviation\n",
    "    df['Magnesium'][df['Class'] == label].hist(alpha=0.3, # opacity level\n",
    "             label='class {} ($\\mu={:.2f}$, $\\sigma={:.2f}$)'.format(label, mean, stdev), \n",
    "             color=color,\n",
    "             bins=15)\n",
    "\n",
    "plt.title('Wine data set - Distribution of Magnesium content')\n",
    "plt.xlabel('Magnesium content', fontsize=14)\n",
    "plt.ylabel('count', fontsize=14)\n",
    "plt.legend(loc='upper right')\n",
    "\n",
    "plt.show()"
   ]
  },
  {
   "cell_type": "code",
   "execution_count": 8,
   "metadata": {
    "collapsed": false
   },
   "outputs": [
    {
     "data": {
      "image/png": "[encoded data removed]",
      "text/plain": [
       "<matplotlib.figure.Figure at 0x8476940>"
      ]
     },
     "metadata": {},
     "output_type": "display_data"
    }
   ],
   "source": [
    "from matplotlib import pyplot as plt\n",
    "\n",
    "plt.figure(figsize=(10,8))\n",
    "\n",
    "colors = ('blue', 'red', 'green')\n",
    "\n",
    "for label,color in zip(range(0,3), colors):\n",
    "    mean = np.mean(df['Flavanoids'][df['Class'] == label]) # class sample mean\n",
    "    stdev = np.std(df['Flavanoids'][df['Class'] == label]) # class standard deviation\n",
    "    df['Flavanoids'][df['Class'] == label].hist(alpha=0.3, # opacity level\n",
    "             label='class {} ($\\mu={:.2f}$, $\\sigma={:.2f}$)'.format(label, mean, stdev), \n",
    "             color=color,\n",
    "             bins=15)\n",
    "\n",
    "plt.title('Wine data set - Distribution of Flavanoids content')\n",
    "plt.xlabel('Flavanoids content', fontsize=14)\n",
    "plt.ylabel('count', fontsize=14)\n",
    "plt.legend(loc='upper right')\n",
    "\n",
    "plt.show()"
   ]
  },
  {
   "cell_type": "markdown",
   "metadata": {},
   "source": [
    "# Naive Bayes"
   ]
  },
  {
   "cell_type": "markdown",
   "metadata": {},
   "source": [
    "Naive Bayes (NB) is a classical statistical machine learning algorithm. It is based on one of the most important equations both in statistics as well as in science as whole - the **Bayes Theorem**. \n",
    "\n",
    "The Bayes Theorem is the foundation of a large branch of statistics that has an increasing relevance in solving real-world data science problems called **Bayesian Statistics**. Under this subfield of statistics, advanced methods like, Bayesian networks, Hidden Markov Models, Markov Random fields and probabilistic relational models are situated.\n",
    "\n",
    "With the Bayes Theorem the **evidence about the true state of the world is expressed in terms of degrees of belief (probabilities)**. As such, the Bayes Theorem deals with **conditional probabilities between different events**. \n",
    "\n",
    "*It allows us to calculate the probability of some even A occurring given that some evidence B is true.*"
   ]
  },
  {
   "cell_type": "markdown",
   "metadata": {},
   "source": [
    "#### Probabilities"
   ]
  },
  {
   "cell_type": "markdown",
   "metadata": {},
   "source": [
    "Say we are developing an email spam filter. We are dealing with two classes, **spam** and **non-spam**. We look through all the spam emails in our email account and we find that 20% of them have the word 'Viagra' in them, while 80% contain the word 'Bank'. We would express this as: \n",
    "\n",
    "\\begin{equation}\n",
    "p(Viagra) = 0.2\n",
    "\\end{equation}\n",
    "\n",
    "and\n",
    "\n",
    "\\begin{equation}\n",
    "p(Bank) = 0.8\n",
    "\\end{equation}\n",
    "\n",
    "If we assume that the occurrence of the above words in the emails is independent of each other (which means that one does not influence the other), than we can calculate the probability of encountering a spam email having both these words is:\n",
    "\n",
    "0.2 $\\times$ 0.8 = 0.16, which is p(Viagra)p(Bank).\n",
    "\n",
    "This can be fully expressed as:\n",
    "\n",
    "\\begin{equation}\n",
    "p(Viagra\\ and\\ Bank | Spam)\n",
    "\\end{equation}\n",
    "\n",
    "meaning the probability of Viagra and Bank occurring together, given a spam email.\n",
    "\n",
    "The above in effect expresses:\n",
    "\n",
    "\\begin{equation}\n",
    "p(Words | Class)\n",
    "\\end{equation}\n",
    "\n",
    "meaning the probability of certain words occurring for a given class which could be spam or non-spam. However, we are interested in prediction, so for us the above needs to be inverted because we want to know what is the probability of something being spam or non-spam given certain words we have come across in an email. In effect, what we are interested in is:\n",
    "\n",
    "\\begin{equation}\n",
    "p(Class | Words)\n",
    "\\end{equation}\n",
    "\n",
    "Our problem is that \n",
    "\n",
    "\\begin{equation}\n",
    "p(Class | Words) \\neq p(Words | Class)\n",
    "\\end{equation}\n",
    "\n",
    "\n",
    "Fortunately, 250 years ago, the British mathematician **Thomas Bayes** figured out how to resolve this."
   ]
  },
  {
   "cell_type": "markdown",
   "metadata": {},
   "source": [
    "#### Joint probabilities"
   ]
  },
  {
   "cell_type": "markdown",
   "metadata": {},
   "source": [
    "Since\n",
    "\n",
    "\\begin{equation}\n",
    "p(A\\ and\\ B) = p(B)p(A) \n",
    "\\end{equation}\n",
    "\n",
    "**is not always true**, generally the joint probability of two events is therefore expressed as follows:\n",
    "\n",
    "\\begin{equation}\n",
    "p(A\\ and\\ B) = p(B|A)p(A)\n",
    "\\end{equation}\n",
    "\n",
    "where p(B|A) represents the probability of B occurring, given that A has occurred. The above equation is also  interchangeable as:\n",
    "\n",
    "\\begin{equation}\n",
    "p(A\\ and\\ B) = p(A|B)p(B)\n",
    "\\end{equation}\n",
    "\n",
    "by pulling the two pieces together we have: \n",
    "\n",
    "\\begin{equation}\n",
    "p(B|A)p(A) = p(A|B)p(B)\n",
    "\\end{equation}\n",
    "\n",
    "This now brings us to the Bayes Theorem and to the solution to our problem. For our problem, if we make B the class label of 'spam' (which is the probability we would like to predict), and A the words in the email (like viagra or bank), then we can solve by re-arranging this equation as:\n",
    "\n",
    "\\begin{equation}\n",
    "P(B|A) = \\frac{P(A | B)\\, P(B)}{P(A)}\\cdot\n",
    "\\end{equation}\n",
    "\n",
    "By plugging in our problem into the formula, we would get:\n",
    "\n",
    "\\begin{equation}\n",
    "P(Class|Words) = \\frac{P(Words | Class)\\, P(Class)}{P(Words)}\\cdot\n",
    "\\end{equation}"
   ]
  },
  {
   "cell_type": "markdown",
   "metadata": {},
   "source": [
    "Breaking the formula down, P(Words|Class) is called the **likelihood** and we can calculate this from our training set. The likelihood can be phrased as given all the spam emails, what is the probability that the words like 'viagra' and 'bank' occur in any document. It is essentially the product of each of the probabilities for every individual word.\n",
    "\n",
    "Naive Bayes is naive, because it assumes independence amongst the features in the calculation of the likelihood which in our example we express simply as p(Viagra)p(Bank).\n",
    "\n",
    "The P(Class) is called the **prior**. This we can also calculate from our dataset as being the proportion of emails that are classed as spam.\n",
    "\n",
    "The P(Words) is called the **normalising constant** (which is simply the probability of seeing this pattern without knowing what class it belongs to  - this is the least important component and in the end reduces down to simply the sum of all class probabilities), while the P(Class|Words) is called the **posterior** and is the result we are looking for.\n",
    "\n",
    "Let us continue the email spam filter example, but before we proceed we will need to complete the describing our dataset.\n",
    "\n",
    "Say we were examining a total of 100 emails, both spam and non-spam. 40 of those were spam and the rest were not. Of the 60 emails that were not spam, the word 'Viagra' appeared 5% and the word 'Bank' 10%. Across the entire dataset, the probability of finding 'Viagra' and 'Bank' in the emails, irrespective of what class the email belonged to was 7% (but this part can be left out).\n",
    "\n",
    "Our goal is to find out which class label is the most probable given the particular word features:\n"
   ]
  },
  {
   "cell_type": "code",
   "execution_count": 9,
   "metadata": {
    "collapsed": false
   },
   "outputs": [
    {
     "data": {
      "text/plain": [
       "0.9142857142857144"
      ]
     },
     "execution_count": 9,
     "metadata": {},
     "output_type": "execute_result"
    }
   ],
   "source": [
    "#caclulate p(spam| viagra and bank)\n",
    "((0.2 * 0.8) * 0.4) / (0.07)\n",
    "\n"
   ]
  },
  {
   "cell_type": "code",
   "execution_count": 10,
   "metadata": {
    "collapsed": false
   },
   "outputs": [
    {
     "data": {
      "text/plain": [
       "0.04285714285714286"
      ]
     },
     "execution_count": 10,
     "metadata": {},
     "output_type": "execute_result"
    }
   ],
   "source": [
    "#caclulate p(non-spam| viagra and bank)\n",
    "((0.05 * 0.1) * 0.6) / (0.07)\n",
    "\n"
   ]
  },
  {
   "cell_type": "markdown",
   "metadata": {},
   "source": [
    "From this we can say that the probability of an email containing words viagra and bank is more probable to be spam than non-spam and we therefore assign the class label to the feature ['Viagra','Bank'] as **spam**.\n",
    "\n",
    "In many classification tasks, you have to deal with incomplete or missing values. As it turns out **Naive Bayes is really good for dealing with missing values and is able to produce a classification without having all the features, whereby the likelihood is simply calculated by excluding the particular missing feature.**\n",
    "\n",
    "The above simplistic example considered features that were **categorical** and were represented as frequencies. \n",
    "\n",
    "How would we apply Naive Bayes to the wine dataset where the features for 'Magnesium' and 'Flavanoids' are numerical?"
   ]
  },
  {
   "cell_type": "markdown",
   "metadata": {},
   "source": [
    "### Probability density functions"
   ]
  },
  {
   "cell_type": "markdown",
   "metadata": {},
   "source": [
    "Below is an example of the Gaussian (normal) probability density function (PDF)."
   ]
  },
  {
   "cell_type": "markdown",
   "metadata": {},
   "source": [
    "\n"
   ]
  },
  {
   "cell_type": "code",
   "execution_count": 11,
   "metadata": {
    "collapsed": false
   },
   "outputs": [
    {
     "data": {
      "text/plain": [
       "<matplotlib.text.Text at 0xbd24518>"
      ]
     },
     "execution_count": 11,
     "metadata": {},
     "output_type": "execute_result"
    },
    {
     "data": {
      "image/png": "[encoded data removed]",
      "text/plain": [
       "<matplotlib.figure.Figure at 0xc037e80>"
      ]
     },
     "metadata": {},
     "output_type": "display_data"
    }
   ],
   "source": [
    "import numpy as np\n",
    "import scipy.stats as stats\n",
    "\n",
    "h = np.random.randn(1000)\n",
    "h.sort()\n",
    "fit = stats.norm.pdf(h, np.mean(h), np.std(h))  #this is a fitting indeed\n",
    "\n",
    "plt.figure(figsize=(10,8))\n",
    "plt.plot(h,fit,'-')\n",
    "plt.title('Gaussion PDF')\n",
    "plt.xlabel('X with mean 0 and std 1')\n",
    "plt.ylabel('Probability')\n",
    "\n"
   ]
  },
  {
   "cell_type": "markdown",
   "metadata": {},
   "source": [
    "The PDF for the normal distribution is given by a rather formidable looking expression:\n",
    "<div style=\"font-size: 150%;\"> \n",
    "\\begin{equation}\n",
    "f(x, \\mu, \\sigma) = \\frac{1}{\\sigma\\sqrt{2\\pi}} e^{ -\\frac{(x-\\mu)^2}{2\\sigma^2} }\n",
    "\\end{equation}\n",
    "\n"
   ]
  },
  {
   "cell_type": "markdown",
   "metadata": {},
   "source": [
    "Take a deep breath and relax though. \n",
    "\n",
    "All we need to do is calculate the mean $\\mu$, standard deviation $\\sigma$ and plug them together with our value $x$ into the equation in order to get the probability that our quantity lies within a small region of $x$ for each of the class labels."
   ]
  },
  {
   "cell_type": "markdown",
   "metadata": {},
   "source": [
    "### Steps for calculating the classification for naive Bayes"
   ]
  },
  {
   "cell_type": "markdown",
   "metadata": {},
   "source": [
    "For each class:\n",
    "\n",
    "1. Calculate the probability for each of the features and then calculate their product - this represents the likelihood component of the Bayes Theorem.\n",
    "\n",
    "2. Multiply the likelihood by the prior for a given class (the proportion of all samples belonging to this class that make up the training dataset) - to give us the posterior probability that we are finally looking for.\n",
    "\n",
    "3. The class with the largest posterior probability is the class that wins the classification.\n",
    "\n",
    "4. Divide the posterior of each class with the sum of all posteriors in order to normalize and to finish up with a more interpretable probability."
   ]
  },
  {
   "cell_type": "markdown",
   "metadata": {},
   "source": [
    "**Exercise:** write a function to calculate the PDF for a normal distribution as below:"
   ]
  },
  {
   "cell_type": "code",
   "execution_count": null,
   "metadata": {
    "collapsed": true
   },
   "outputs": [],
   "source": [
    "def pdf_gaussian(x, mean, std):\n",
    "    return \n"
   ]
  },
  {
   "cell_type": "code",
   "execution_count": null,
   "metadata": {
    "collapsed": false
   },
   "outputs": [],
   "source": [
    "x = 66 \n",
    "mean = 73\n",
    "std = 6.2\n",
    "pdf_gaussian(x, mean, std)\n",
    "\n"
   ]
  },
  {
   "cell_type": "markdown",
   "metadata": {},
   "source": [
    "Given the wine dataset we saw previously: "
   ]
  },
  {
   "cell_type": "code",
   "execution_count": null,
   "metadata": {
    "collapsed": false
   },
   "outputs": [],
   "source": [
    "df.head(5)"
   ]
  },
  {
   "cell_type": "code",
   "execution_count": null,
   "metadata": {
    "collapsed": false
   },
   "outputs": [],
   "source": [
    "df = pd.read_csv(\n",
    "    '../datasets/wine_data.csv',\n",
    "     usecols=[0,6,7]\n",
    "    )\n",
    "print df.columns\n",
    "df.columns=['Class','Magnesium','Flavanoids']\n",
    "df['Class'].replace(3, 0, inplace=True)\n",
    "df.head()"
   ]
  },
  {
   "cell_type": "markdown",
   "metadata": {},
   "source": [
    "**Exercise:** Write a function takes a data frame and a class label and returns a dictionary containing the keys for each of the feature names in the dataset with an associated list having 2 elements, where the first is the mean and the second the standard deviation of the given feature:"
   ]
  },
  {
   "cell_type": "code",
   "execution_count": null,
   "metadata": {
    "collapsed": false
   },
   "outputs": [],
   "source": [
    "def calculate_class_statistics(df, class_label):\n",
    "    class_distr = {}\n",
    "    feature_types = []\n",
    "    \n",
    "    feature_types =  df.columns[1:]\n",
    "    means = (df[feature_types][df.Class == class_label]).mean()\n",
    "    stds = (df[feature_types][df.Class == class_label]).std()\n",
    "    \n",
    "    for feat in feature_types:\n",
    "        #YOUR CODE HERE\n",
    "        \n",
    "    return class_distr\n",
    "\n"
   ]
  },
  {
   "cell_type": "code",
   "execution_count": null,
   "metadata": {
    "collapsed": false
   },
   "outputs": [],
   "source": [
    "calculate_class_statistics(df, 1)\n",
    "#SHOULD RETURN:\n",
    "#{'Flavanoids': [2.982372881355932, 0.39749360863676325],\n",
    "# 'Magnesium': [2.8401694915254234, 0.33896135231546792]}"
   ]
  },
  {
   "cell_type": "markdown",
   "metadata": {},
   "source": [
    "**Exercise:** Write a function to train a NB classifier that takes in a data frame and returns a dictionary containing the following:\n"
   ]
  },
  {
   "cell_type": "raw",
   "metadata": {},
   "source": [
    "{'0': \n",
    "  {'Flavanoids': [0.78145833333333314, 0.29350406560186298],\n",
    "  'Magnesium': [1.6787500000000002, 0.35697085523801758],\n",
    "  'Prior': 0.2696629213483146},\n",
    " '1': \n",
    "  {'Flavanoids': [2.982372881355932, 0.3974936086367577],\n",
    "  'Magnesium': [2.8401694915254234, 0.33896135231546692],\n",
    "  'Prior': 0.33146067415730335},\n",
    " '2': \n",
    "  {'Flavanoids': [2.0808450704225359, 0.70570075908150276],\n",
    "  'Magnesium': [2.2588732394366198, 0.54536108430437336],\n",
    "  'Prior': 0.398876404494382}}\n",
    "  "
   ]
  },
  {
   "cell_type": "markdown",
   "metadata": {},
   "source": [
    "where the key is the class label and the value is a dictionary, containing means and standard deviations for each feature for each class, as well as a key for the prior and its associated value:"
   ]
  },
  {
   "cell_type": "code",
   "execution_count": null,
   "metadata": {
    "collapsed": false
   },
   "outputs": [],
   "source": [
    "def train_naive_bayes(df):\n",
    "    NB_classifier = {}\n",
    "    class_labels = df.Class.unique()\n",
    "    \n",
    "    for i in class_labels:\n",
    "        #YOUR CODE HERE\n",
    "        \n",
    "        \n",
    "    return NB_classifier\n",
    "\n"
   ]
  },
  {
   "cell_type": "code",
   "execution_count": null,
   "metadata": {
    "collapsed": false
   },
   "outputs": [],
   "source": [
    "NB_classifer = train_naive_bayes(df)\n",
    "NB_classifer\n"
   ]
  },
  {
   "cell_type": "markdown",
   "metadata": {},
   "source": [
    "**Exercise:** We are now going to move to classification. Write a function that takes as input a tuple from the dictionary above as well as a series object to classify and returns the Bayes probability for this class:"
   ]
  },
  {
   "cell_type": "code",
   "execution_count": null,
   "metadata": {
    "collapsed": true
   },
   "outputs": [],
   "source": [
    "def calculate_NB_probability_single_class(nb_classifier, series_x):\n",
    "    likelihood = 1.0 \n",
    "    \n",
    "    for feat in nb_classifier.keys():\n",
    "        #YOUR CODE HERE\n",
    "            \n",
    "\n",
    "    return posterior\n",
    "\n"
   ]
  },
  {
   "cell_type": "code",
   "execution_count": null,
   "metadata": {
    "collapsed": false
   },
   "outputs": [],
   "source": [
    "series_x = pd.Series([2.0, 2.3], index=['Flavanoids', 'Magnesium'])\n",
    "\n",
    "calculate_NB_probability_single_class(NB_classifer[str(1)], series_x)\n",
    "#SHOULD RETURN 0.0051879593513192053\n",
    "\n"
   ]
  },
  {
   "cell_type": "markdown",
   "metadata": {},
   "source": [
    "**Exercise:** Write a function that classifies a series object into a class and returns its probability:"
   ]
  },
  {
   "cell_type": "code",
   "execution_count": null,
   "metadata": {
    "collapsed": false
   },
   "outputs": [],
   "source": [
    "def classify_naive_bayes(NB_classifer, series_x):\n",
    "    classification = -1\n",
    "    classification_probabilities = []\n",
    "    prob = 0.0\n",
    "    total_ptobabilities = 0.0\n",
    "    \n",
    "    \n",
    "    for i in NB_classifer:\n",
    "        #YOUR CODE HERE\n",
    "    \n",
    "    #select winning class\n",
    "    for i in range(len(classification_probabilities)):\n",
    "        #YOUR CODE HERE\n",
    "    \n",
    "    #normalize probability\n",
    "    return classification, prob / total_ptobabilities\n",
    "\n"
   ]
  },
  {
   "cell_type": "code",
   "execution_count": null,
   "metadata": {
    "collapsed": false
   },
   "outputs": [],
   "source": [
    "series_x = pd.Series([4.0, 2.3], index=['Flavanoids', 'Magnesium'])\n",
    "\n",
    "winning_class, prob = classify_naive_bayes(NB_classifer, series_x)\n",
    "winning_class, prob\n",
    "#SHOULD RETURN ('1', 0.50456450520692542)\n",
    "\n"
   ]
  },
  {
   "cell_type": "markdown",
   "metadata": {},
   "source": [
    "**Congratulations you have now fully implemented, trained and deployed your first classifier!**\n",
    "\n",
    "**Exercise:** Write a function that takes in at NB classifier and a dataset and classifies each sample in the dataset. It creates two new columns on the dataset called 'Classification' and 'Probability' of the classification and returns the data frame:"
   ]
  },
  {
   "cell_type": "code",
   "execution_count": null,
   "metadata": {
    "collapsed": true
   },
   "outputs": [],
   "source": [
    "def classify_dataset(NB_classifer, df):\n",
    "    res = []\n",
    "\n",
    "    for i in range(len(df)):\n",
    "        #YOUR CODE HERE\n",
    "\n",
    "    return pd.concat([df, res_df], axis=1)\n",
    "\n"
   ]
  },
  {
   "cell_type": "code",
   "execution_count": null,
   "metadata": {
    "collapsed": false,
    "scrolled": true
   },
   "outputs": [],
   "source": [
    "df_result = classify_dataset(NB_classifer, df)\n",
    "df_result.head(100)\n",
    "\n"
   ]
  },
  {
   "cell_type": "raw",
   "metadata": {},
   "source": [
    "#SHOULD RETURN SOMETHING LIKE:\n",
    "   Class \tMagnesium \tFlavanoids \tClassification \tProbability\n",
    "0 \t1          2.80 \t3.06                1       0.908310\n",
    "1 \t1          2.65 \t2.76                1       0.780886\n",
    "2 \t1          2.80 \t3.24                1       0.923342\n",
    "3 \t1          3.85 \t3.49                1       0.865404\n"
   ]
  },
  {
   "cell_type": "markdown",
   "metadata": {},
   "source": [
    "### Comparing Naive Bayes to k-NN"
   ]
  },
  {
   "cell_type": "markdown",
   "metadata": {},
   "source": [
    ">  Naive Bayes is a linear classifier, while k-NN is not. The\n",
    "curse of dimensionality and large feature sets are a problem for k-NN,\n",
    "while Naive Bayes performs well. k-NN requires no training (just load\n",
    "in the dataset), whereas Naive Bayes does. Both are examples of supervised\n",
    "learning (the data comes labeled). \n",
    "\n",
    "Schutt, R., & O'Neil, C. (2013). Doing Data Science: Straight Talk from the Frontline. \" O'Reilly Media, Inc.\".\n",
    "\n",
    "\n",
    "kNN is in many ways a special case of a supervised machine learning algorithm. It is unique in that the data itself is the model and no training of a classifier takes place explicitly. kNN is particularly susceptible to deteriorating accuracy if there are meaningless features in the dataset. Hence, feature analysis should always be performed together with dimensionality reduction if using kNN.\n",
    "\n",
    "Naive Bayes is more robust against outliers as well as un-informative features than kNN. However, one has to be careful with Naive Bayes because it is naive in terms of assuming independence between features, which is almost never true in reality. Therefore Naive Bayes is vulnerable when this assumption is strongly violated and when there is a large presence of highly correlated and redundant features, the training will bias the final result towards those features, and the final probabilities are unlikely to be accurate for interpretation."
   ]
  },
  {
   "cell_type": "markdown",
   "metadata": {},
   "source": [
    "# Generalization"
   ]
  },
  {
   "cell_type": "markdown",
   "metadata": {},
   "source": [
    "The goal of training a classifier, or creating a predictive model on a particular dataset is not so that it would make accurate predictions only on these samples. To use an absurd scenario, we could potentially create a look-up table, or an immense set of if-else statements for every example in a dataset and thereby achieve 100% accuracy. This process would be called memorising the data and is practically useless for the task of predictive analytics.\n",
    "\n",
    "Instead, the goal is that the classifier would uncover and encode patterns describing the underlying structural relationships, with the intention of them generalising and thus being able to accurately predict data that the algorithm has not previously \"seen\". This is referred to as  generalization. In essence, machine learning is the attempts to take the limited amount of information it can gather and generalise. it embodies the movement from the 'specific to the general'.\n",
    "\n",
    "Generalization is the property of a classifier or modelling process, whereby the classifier is relevant for prediction purposes on data that were not used to train it. We must keep in mind that every dataset is a finite sample of a total population for a given domain (unless you have a dataset that contains all samples that will ever be used to describe a given problem.). And we want the classifier to be fit-for-purpose on the population of a given domain as a whole.\n",
    "\n",
    "Hence, creating a classifier that is perfectly accurate on one a training dataset is no guarantee of it being accurate at predicting unseen samples. In fact, machine learning algorithms are notoriously susceptible to finding meaningless, or phantom patterns that are random idiosyncrasies within a given dataset sample, and have no value beyond the data outside of the training dataset. \n",
    "\n",
    "Sometimes we may have concerns that the training data were not representative of the true population which leads to bad generalization - and this does happen, often. The data can be noisy (mislabelled or erroneous data), have lots of outliers (valid but extreme values). But often it is the case that the algorithm used to train a classifier or build a model, created too good of a \"fit\" (too complex) on the training dataset that is ultimately useless and misleading beyond the samples it trained on.\n",
    "\n",
    "Training classifiers which are variable-size (optimisable) and can thus increase in complexity, often leads to the pattern below. Both the training and generalisation (test) error decrease initially during the early stages of classifier training. If the training ceases too early, then the classifier has usually not been given enough time to learn the separating class decision boundary sufficiently. This is referred to as underfitting. As the training algorithm builds a more complex classifier (model), the training error will continue to decrease. As the training error approaches zero, the training algorithm is said to 'converge'. However, complete convergence does not necessarily mean that the classifier will generalise well. It is usually quite easy to achieve full convergence on a training set. The difference between the final training error (convergence) and the generalisation (test) error is the indicator of the degree of overfitting that has occurred. Generalisation error will always be greater than the training error. However, we want this difference to be as small as possible.   "
   ]
  },
  {
   "cell_type": "markdown",
   "metadata": {},
   "source": [
    "![Source Wikipedia](figures/generalization_overfitting.jpg)\n",
    "\n",
    "Source: Janert, P. K. (2010). Data analysis with open source tools.  O'Reilly Media, Inc"
   ]
  },
  {
   "cell_type": "markdown",
   "metadata": {},
   "source": [
    "# Overfitting"
   ]
  },
  {
   "cell_type": "markdown",
   "metadata": {},
   "source": [
    "Overfitting is usually what happens when classifier generalization is not achieved. It is the tendency of machine learning and data mining algorithms to tailor classifiers to the training data, at the expense of generalization to previously unseen data points. \n",
    "\n",
    "It should be noted that inherent within all machine learning and data mining algorithms is the tendency to overfit to some degree. Some algorithms will accentuate this tendency more than others and it will often depend on the dataset and the type of the problem.\n",
    "\n",
    "If we try hard enough and push the classifiers to become more and more complex, the algorithms will invariably find patterns in a dataset. The Nobel Laureate Ronald Coase one said\n",
    "\n",
    "> “If you torture the data long enough, it will confess.”\n",
    "\n",
    "The problem of overfitting is probably one of the greatest challenges for a data scientist.\n",
    "\n",
    "> The answer is not to use a data mining procedure\n",
    "that doesn’t overfit because all of them do. Nor is the answer to simply use models\n",
    "that produce less overfitting, because there is a fundamental trade-off between model\n",
    "complexity and the possibility of overfitting. Sometimes we may simply want more\n",
    "complex models, because they will better capture the real complexities of the application\n",
    "and thereby be more accurate. There is no single choice or procedure that will eliminate\n",
    "overfitting. The best strategy is to recognize overfitting and to manage complexity in a\n",
    "principled way.\n",
    "\n",
    "Provost, F., & Fawcett, T. (2013). Data Science for Business: What you need to know about data mining and data-analytic thinking. \" O'Reilly Media, Inc.\"."
   ]
  },
  {
   "cell_type": "markdown",
   "metadata": {},
   "source": [
    "# Classifier Evaluation"
   ]
  },
  {
   "cell_type": "markdown",
   "metadata": {},
   "source": [
    "In order to be able to ascertain if our classifier is both learning the training dataset (converging) or overfitting on previously unseen data, we need to have some evaluation metrics at our disposal. \n",
    "\n",
    "Fortunately the field of machine learning and data mining has been around for a long time so there are some very well established metric that enables us to evaluate our classifiers.\n",
    "\n",
    "Multiclass classification problems are treated similarly, however, there is usually a greater need in multiclass problems to break down the classification results at per-class label level in order to examine the performance. This is often necessary in the presence of unbalanced class distributions. \n",
    "\n",
    "A binary class confusion-matrix is a good starting point to visualize and understand the performance of a classifier. Each column of the matrix represents the instances in a predicted class, while each row represents the instances in an actual class. The name stems from the fact that it makes it easy to see if the system is confusing two classes (i.e. commonly mislabelling one as another)."
   ]
  },
  {
   "cell_type": "markdown",
   "metadata": {},
   "source": [
    "\n",
    "![Source Wikipedia](figures/confusion_matrix.jpg)\n",
    "\n",
    "Source: http://en.wikipedia.org/wiki/Confusion_matrix\n",
    "\n"
   ]
  },
  {
   "cell_type": "markdown",
   "metadata": {},
   "source": [
    "![Source Wikipedia](figures/classification_terms.jpg)\n",
    "\n",
    "Source: http://en.wikipedia.org/wiki/Confusion_matrix"
   ]
  },
  {
   "cell_type": "code",
   "execution_count": 13,
   "metadata": {
    "collapsed": false
   },
   "outputs": [
    {
     "ename": "NameError",
     "evalue": "name 'df_result' is not defined",
     "output_type": "error",
     "traceback": [
      "\u001b[1;31m---------------------------------------------------------------------------\u001b[0m",
      "\u001b[1;31mNameError\u001b[0m                                 Traceback (most recent call last)",
      "\u001b[1;32m<ipython-input-13-36c4af5e6595>\u001b[0m in \u001b[0;36m<module>\u001b[1;34m()\u001b[0m\n\u001b[1;32m----> 1\u001b[1;33m \u001b[0mdf_result\u001b[0m\u001b[1;33m.\u001b[0m\u001b[0mhead\u001b[0m\u001b[1;33m(\u001b[0m\u001b[1;36m100\u001b[0m\u001b[1;33m)\u001b[0m\u001b[1;33m\u001b[0m\u001b[0m\n\u001b[0m",
      "\u001b[1;31mNameError\u001b[0m: name 'df_result' is not defined"
     ]
    }
   ],
   "source": [
    "df_result.head(100)\n"
   ]
  },
  {
   "cell_type": "code",
   "execution_count": null,
   "metadata": {
    "collapsed": false
   },
   "outputs": [],
   "source": [
    "df_result.dtypes\n"
   ]
  },
  {
   "cell_type": "code",
   "execution_count": null,
   "metadata": {
    "collapsed": false
   },
   "outputs": [],
   "source": [
    "df_result['Classification'] = df_result['Classification'].astype(int)\n"
   ]
  },
  {
   "cell_type": "markdown",
   "metadata": {},
   "source": [
    "**Exercise:** Given the Wine df_result from above, write a function that accepts it and returns a confusion matrix data frame:"
   ]
  },
  {
   "cell_type": "code",
   "execution_count": null,
   "metadata": {
    "collapsed": true
   },
   "outputs": [],
   "source": [
    "def calculate_confusion_matrix(df):\n",
    "    #YOUR CODE HERE\n",
    "            \n",
    "    return confusion_matrix_df\n",
    "    \n",
    "    "
   ]
  },
  {
   "cell_type": "code",
   "execution_count": null,
   "metadata": {
    "collapsed": false
   },
   "outputs": [],
   "source": [
    "print calculate_confusion_matrix(df_result)\n"
   ]
  },
  {
   "cell_type": "raw",
   "metadata": {},
   "source": [
    "#SHOULD RETURN\n",
    "    0   1   2\n",
    "0  43   0   4\n",
    "1   0  50   9\n",
    "2   9  17  45"
   ]
  },
  {
   "cell_type": "code",
   "execution_count": null,
   "metadata": {
    "collapsed": false
   },
   "outputs": [],
   "source": [
    "idx = list(df.Class.unique())\n",
    "idx.sort()\n",
    "print idx"
   ]
  },
  {
   "cell_type": "markdown",
   "metadata": {},
   "source": [
    "In a multiclass scenario, the confusion matrix can easily be extended it an $n \\times n$ matrix where $n$ is the number of classes. In a multiclass setting it is particularly informative to know which classes are being misclassified as labels of another class. \n",
    "\n",
    "Below is an example of a multiclass matrix from  a real-word dataset having 5 class labels:\n",
    "\n",
    "![Source Wikipedia](figures/multiclass_confusion_matrix.jpg)\n",
    "\n",
    "Another important measure that is insightful in respect to the accuracy of each given class label is the F-value (known also as the F-measure or the F-score), whose calculation can be made using the following:\n",
    "\n",
    "\n",
    "\n"
   ]
  },
  {
   "cell_type": "markdown",
   "metadata": {},
   "source": [
    "\n",
    "<div style=\"font-size: 150%;\"> \n",
    "$F_i = 2 \\times \\frac{\\mathrm{Precision_i} \\times \\mathrm{Recall_i}}{\\mathrm{Precision_i} + \\mathrm{Recall_i}}$\n",
    "</div>\n",
    "\n",
    "\n"
   ]
  },
  {
   "cell_type": "markdown",
   "metadata": {},
   "source": [
    "\n",
    "\n",
    "The example below gives another real-world example (using the Yeast dataset from https://archive.ics.uci.edu/ml/datasets/Yeast) of how the F-values metric can be displayed. This example particularly demonstrates the problem of datasets that possess uneven class distributions. Training classifier on such problem is very difficult and all algorithms struggle to produce classifiers that accurately generalises on all class labels within such datasets. Evaluating datasets with such problems is to some degree elevated using the F-value metric:\n",
    "\n",
    "![Source Wikipedia](figures/f_value_example_on_yeast_dataset.jpg)\n",
    "\n",
    "Often though, on class-unbalanced problems, it is necessary to derive a single value to express the accuracy of a dataset. In these cases the total error (or accuracy) metrics as completely inadequate and a very good alternative is the Geometric mean:\n",
    "\n",
    "\n",
    "<div style=\"font-size: 120%;\">  \n",
    "$Geometric\\ mean = \\left(\\prod_{i=1}^n Recall_i \\right)^{1/n}$\n",
    "</div>"
   ]
  },
  {
   "cell_type": "markdown",
   "metadata": {},
   "source": [
    "**Exercise:** Write a function that calculates the geometric mean for the data frame below:"
   ]
  },
  {
   "cell_type": "code",
   "execution_count": null,
   "metadata": {
    "collapsed": false
   },
   "outputs": [],
   "source": [
    "df_result.head()"
   ]
  },
  {
   "cell_type": "code",
   "execution_count": null,
   "metadata": {
    "collapsed": true
   },
   "outputs": [],
   "source": [
    "def calculate_geometric_mean(df):\n",
    "    gmean = 1.0\n",
    "    matrix = calculate_confusion_matrix(df)\n",
    "    \n",
    "    for i in range(len(matrix)):\n",
    "        #YOUR CODE HERE\n",
    "   \n",
    "    return np.power(gmean, 1.0 / float(len(matrix)))\n",
    "    \n",
    "    "
   ]
  },
  {
   "cell_type": "code",
   "execution_count": null,
   "metadata": {
    "collapsed": false
   },
   "outputs": [],
   "source": [
    "calculate_geometric_mean(df_result)\n",
    "#SHOULD PRODUCE 0.78912823939580679\n"
   ]
  },
  {
   "cell_type": "markdown",
   "metadata": {},
   "source": [
    "# Cross-Validation"
   ]
  },
  {
   "cell_type": "markdown",
   "metadata": {},
   "source": [
    "Under generalization and overfitting, we discussed the importance of developing classifiers that do not just remember the training data but are able to generalize on data that the machine learning algorithms had not previously seen. One solution is to split datasets into training and test sets. The training is performed on one, and the generalization is determined on the other.\n",
    "\n",
    "There are some problems with doing it this way. By defining  two sets, we reduce the number of samples which can be used for learning the model, and the results can depend on a particular random choice for the pair of (train, test) sets. Also, what proportion of data do we use for training and what for testing?\n",
    "\n",
    "Another approach which is more robust, is to split the whole data several consecutive times in different\n",
    "train set and test set combinations, and to return the averaged value of the prediction\n",
    "scores obtained with the different sets. This technique is called **k-fold cross-validation**. Where the k determines the number segments that the data is to be split into. In this procedure, 1 fold is retained for testing the classifier and the other k-1 folds are used for training.\n",
    "\n",
    "In the image example below, k=4 (4 folds). The classifier will be trained on the combination of 3 folds and  evaluated on the 4th fold (the test fold). This procedure is then repeated 4 times until every fold has been used as the test set once so that we can eventually calculate the average error rate of our model from the error rate of every iteration, which gives us an idea of how well our model generalizes."
   ]
  },
  {
   "cell_type": "markdown",
   "metadata": {},
   "source": [
    "\n",
    "![Source Wikipedia](figures/cross-validation-001_small.png)\n",
    "\n",
    "Source: https://github.com/rasbt/pattern_classification/blob/master/machine_learning/supervised_intro/images/cross-validation-001_small.png"
   ]
  },
  {
   "cell_type": "markdown",
   "metadata": {},
   "source": [
    "Keep in mind that the algorithm at all times is provided with the correct answers, but when the algorithm makes predictions, it does not refer to them, but instead uses the correct answers only to compare its own prediction to.\n",
    "\n",
    "Give the serious problem of class-imbalanced datasets, the most robust way to implement the above procedure is by using what is called the **stratified k-fold cross-validation**. By stratified, we mean that every fold will not only be of equal size as the other folds in terms of the number of samples, but every fold will also have an identical distribution of all class labels.\n",
    "\n",
    "Overall, the cross-validation approach can be computationally expensive but it is worth the extra effort and it does not waste too much data\n",
    "when creating the classifiers as it occurs  when fixing an arbitrary test set. This is an advantage in problems where the number of samples is very small. The question once you have trained and tested all your k classifiers is, which classifier to deploy in your application?\n",
    "\n",
    "Below is an example of a script that I have written to create a stratified k-fold cross-validation datasets.\n"
   ]
  },
  {
   "cell_type": "code",
   "execution_count": 12,
   "metadata": {
    "collapsed": false
   },
   "outputs": [
    {
     "name": "stdout",
     "output_type": "stream",
     "text": [
      "1 ['1', '2.8', '3.06']\n",
      "1 ['1', '2.65', '2.76']\n",
      "1 ['1', '2.8', '3.24']\n",
      "1 ['1', '3.85', '3.49']\n",
      "1 ['1', '2.8', '2.69']\n",
      "1 ['1', '3.27', '3.39']\n",
      "1 ['1', '2.5', '2.52']\n",
      "1 ['1', '2.6', '2.51']\n",
      "1 ['1', '2.8', '2.98']\n",
      "1 ['1', '2.98', '3.15']\n",
      "1 ['1', '2.95', '3.32']\n",
      "1 ['1', '2.2', '2.43']\n",
      "1 ['1', '2.6', '2.76']\n",
      "1 ['1', '3.1', '3.69']\n",
      "1 ['1', '3.3', '3.64']\n",
      "1 ['1', '2.85', '2.91']\n",
      "1 ['1', '2.8', '3.14']\n",
      "1 ['1', '2.95', '3.4']\n",
      "1 ['1', '3.3', '3.93']\n",
      "1 ['1', '2.7', '3.03']\n",
      "1 ['1', '3.0', '3.17']\n",
      "1 ['1', '2.41', '2.41']\n",
      "1 ['1', '2.61', '2.88']\n",
      "1 ['1', '2.48', '2.37']\n",
      "1 ['1', '2.53', '2.61']\n",
      "1 ['1', '2.63', '2.68']\n",
      "1 ['1', '2.85', '2.94']\n",
      "1 ['1', '2.4', '2.19']\n",
      "1 ['1', '2.95', '2.97']\n",
      "1 ['1', '2.65', '2.33']\n",
      "1 ['1', '3.0', '3.25']\n",
      "1 ['1', '2.86', '3.19']\n",
      "1 ['1', '2.42', '2.69']\n",
      "1 ['1', '2.95', '2.74']\n",
      "1 ['1', '2.35', '2.53']\n",
      "1 ['1', '2.7', '2.98']\n",
      "1 ['1', '2.6', '2.68']\n",
      "1 ['1', '2.45', '2.43']\n",
      "1 ['1', '2.4', '2.64']\n",
      "1 ['1', '3.0', '3.04']\n",
      "1 ['1', '3.15', '3.29']\n",
      "1 ['1', '2.45', '2.68']\n",
      "1 ['1', '3.25', '3.56']\n",
      "1 ['1', '2.64', '2.63']\n",
      "1 ['1', '3.0', '3.0']\n",
      "1 ['1', '2.85', '2.65']\n",
      "1 ['1', '3.25', '3.17']\n",
      "1 ['1', '3.1', '3.39']\n",
      "1 ['1', '2.75', '2.92']\n",
      "1 ['1', '2.88', '3.54']\n",
      "1 ['1', '2.72', '3.27']\n",
      "1 ['1', '2.45', '2.99']\n",
      "1 ['1', '3.88', '3.74']\n",
      "1 ['1', '3.0', '2.79']\n",
      "1 ['1', '2.6', '2.9']\n",
      "1 ['1', '2.96', '2.78']\n",
      "1 ['1', '3.2', '3.0']\n",
      "1 ['1', '3.0', '3.23']\n",
      "1 ['1', '3.4', '3.67']\n",
      "2 ['2', '1.98', '0.57']\n",
      "2 ['2', '2.05', '1.09']\n",
      "2 ['2', '2.02', '1.41']\n",
      "2 ['2', '2.1', '1.79']\n",
      "2 ['2', '3.5', '3.1']\n",
      "2 ['2', '1.89', '1.75']\n",
      "2 ['2', '2.42', '2.65']\n",
      "2 ['2', '2.98', '3.18']\n",
      "2 ['2', '2.11', '2.0']\n",
      "2 ['2', '2.53', '1.3']\n",
      "2 ['2', '1.85', '1.28']\n",
      "2 ['2', '1.1', '1.02']\n",
      "2 ['2', '2.95', '2.86']\n",
      "2 ['2', '1.88', '1.84']\n",
      "2 ['2', '3.3', '2.89']\n",
      "2 ['2', '3.38', '2.14']\n",
      "2 ['2', '1.61', '1.57']\n",
      "2 ['2', '1.95', '2.03']\n",
      "2 ['2', '1.72', '1.32']\n",
      "2 ['2', '1.9', '1.85']\n",
      "2 ['2', '2.83', '2.55']\n",
      "2 ['2', '2.42', '2.26']\n",
      "2 ['2', '2.2', '2.53']\n",
      "2 ['2', '2.0', '1.58']\n",
      "2 ['2', '1.65', '1.59']\n",
      "2 ['2', '2.2', '2.21']\n",
      "2 ['2', '2.2', '1.94']\n",
      "2 ['2', '1.78', '1.69']\n",
      "2 ['2', '1.92', '1.61']\n",
      "2 ['2', '1.95', '1.69']\n",
      "2 ['2', '2.2', '1.59']\n",
      "2 ['2', '1.6', '1.5']\n",
      "2 ['2', '1.45', '1.25']\n",
      "2 ['2', '1.38', '1.46']\n",
      "2 ['2', '2.45', '2.25']\n",
      "2 ['2', '3.02', '2.26']\n",
      "2 ['2', '2.5', '2.27']\n",
      "2 ['2', '1.6', '0.99']\n",
      "2 ['2', '2.55', '2.5']\n",
      "2 ['2', '3.52', '3.75']\n",
      "2 ['2', '2.85', '2.99']\n",
      "2 ['2', '2.23', '2.17']\n",
      "2 ['2', '1.45', '1.36']\n",
      "2 ['2', '2.56', '2.11']\n",
      "2 ['2', '2.5', '1.64']\n",
      "2 ['2', '2.2', '1.92']\n",
      "2 ['2', '1.68', '1.84']\n",
      "2 ['2', '1.65', '2.03']\n",
      "2 ['2', '1.38', '1.76']\n",
      "2 ['2', '2.36', '2.04']\n",
      "2 ['2', '2.74', '2.92']\n",
      "2 ['2', '3.18', '2.58']\n",
      "2 ['2', '2.55', '2.27']\n",
      "2 ['2', '1.75', '2.03']\n",
      "2 ['2', '2.48', '2.01']\n",
      "2 ['2', '2.56', '2.29']\n",
      "2 ['2', '2.46', '2.17']\n",
      "2 ['2', '1.98', '1.6']\n",
      "2 ['2', '2.0', '2.09']\n",
      "2 ['2', '1.63', '1.25']\n",
      "2 ['2', '2.0', '1.64']\n",
      "2 ['2', '2.9', '2.79']\n",
      "2 ['2', '3.18', '5.08']\n",
      "2 ['2', '2.2', '2.13']\n",
      "2 ['2', '2.62', '2.65']\n",
      "2 ['2', '2.86', '3.03']\n",
      "2 ['2', '2.6', '2.65']\n",
      "2 ['2', '2.74', '3.15']\n",
      "2 ['2', '2.13', '2.24']\n",
      "2 ['2', '2.22', '2.45']\n",
      "2 ['2', '2.1', '1.75']\n",
      "0 ['0', '1.51', '1.25']\n",
      "0 ['0', '1.3', '1.22']\n",
      "0 ['0', '1.15', '1.09']\n",
      "0 ['0', '1.7', '1.2']\n",
      "0 ['0', '2.0', '0.58']\n",
      "0 ['0', '1.62', '0.66']\n",
      "0 ['0', '1.38', '0.47']\n",
      "0 ['0', '1.79', '0.6']\n",
      "0 ['0', '1.62', '0.48']\n",
      "0 ['0', '2.32', '0.6']\n",
      "0 ['0', '1.54', '0.5']\n",
      "0 ['0', '1.4', '0.5']\n",
      "0 ['0', '1.55', '0.52']\n",
      "0 ['0', '2.0', '0.8']\n",
      "0 ['0', '1.38', '0.78']\n",
      "0 ['0', '1.5', '0.55']\n",
      "0 ['0', '0.98', '0.34']\n",
      "0 ['0', '1.7', '0.65']\n",
      "0 ['0', '1.93', '0.76']\n",
      "0 ['0', '1.41', '1.39']\n",
      "0 ['0', '1.4', '1.57']\n",
      "0 ['0', '1.48', '1.36']\n",
      "0 ['0', '2.2', '1.28']\n",
      "0 ['0', '1.8', '0.83']\n",
      "0 ['0', '1.48', '0.58']\n",
      "0 ['0', '1.74', '0.63']\n",
      "0 ['0', '1.8', '0.83']\n",
      "0 ['0', '1.9', '0.58']\n",
      "0 ['0', '2.8', '1.31']\n",
      "0 ['0', '2.6', '1.1']\n",
      "0 ['0', '2.3', '0.92']\n",
      "0 ['0', '1.83', '0.56']\n",
      "0 ['0', '1.65', '0.6']\n",
      "0 ['0', '1.39', '0.7']\n",
      "0 ['0', '1.35', '0.68']\n",
      "0 ['0', '1.28', '0.47']\n",
      "0 ['0', '1.7', '0.92']\n",
      "0 ['0', '1.48', '0.66']\n",
      "0 ['0', '1.55', '0.84']\n",
      "0 ['0', '1.98', '0.96']\n",
      "0 ['0', '1.25', '0.49']\n",
      "0 ['0', '1.39', '0.51']\n",
      "0 ['0', '1.68', '0.7']\n",
      "0 ['0', '1.68', '0.61']\n",
      "0 ['0', '1.8', '0.75']\n",
      "0 ['0', '1.59', '0.69']\n",
      "0 ['0', '1.65', '0.68']\n",
      "0 ['0', '2.05', '0.76']\n",
      "opening 0\n",
      "opening 1\n",
      "opening 2\n",
      "opening 3\n",
      "opening 4\n"
     ]
    }
   ],
   "source": [
    "import random as rand\n",
    "\n",
    "kfolds = 5\n",
    "class_index = 0\n",
    "num_of_features = 13\n",
    "num_of_classes = 3\n",
    "\n",
    "file_name = ['fold_' + str(x) for x in range(kfolds)]\n",
    "\n",
    "# 1 load all samples into a list of lists\n",
    "feature_vectors_per_class = [[] * 1 for i in xrange(num_of_classes)]# [[]] * num_of_classes\n",
    "with open('wine_data_test.csv') as input_file:\n",
    "    for feature_vector_line in input_file:\n",
    "        feature_vector_line = feature_vector_line.rstrip()\n",
    "        elements = feature_vector_line.split(',')\n",
    "        class_type = int(elements[class_index])\n",
    "        if class_index > 0:\n",
    "            del elements[class_index]\n",
    "            elements.insert(0, str(class_type))\n",
    "        print class_type, elements\n",
    "        feature_vectors_per_class[class_type].append(elements)\n",
    "\n",
    "\n",
    "# 2 check len on lists and kfolds - figure out distributions\n",
    "num_of_samples = 0\n",
    "for i in range(num_of_classes):\n",
    "    samples = len(feature_vectors_per_class[i])\n",
    "    num_of_samples += samples\n",
    "    if len(feature_vectors_per_class[i]) < kfolds:\n",
    "        print('Cannot create stratified splits as number of kfolds greater than the size of samples in class {0}'.format(i))\n",
    "        exit()\n",
    "\n",
    "# 3 figure out the distribution per class per samples\n",
    "sample_from_each_class = []\n",
    "for i in range(num_of_classes):\n",
    "    samples = len(feature_vectors_per_class[i])\n",
    "    sample_from_each_class.append(samples / kfolds)\n",
    "\n",
    "\n",
    "# 4 for each fold randomly selct samples and delete from list\n",
    "fold = [[] * 1 for i in xrange(kfolds)]\n",
    "for k in range(kfolds):\n",
    "  for class_type in range(num_of_classes):\n",
    "    samples = sample_from_each_class[class_type]\n",
    "    if k  == kfolds - 1:\n",
    "          for s in range(len(feature_vectors_per_class[class_type])):\n",
    "                fold[k].append(feature_vectors_per_class[class_type][s])\n",
    "                value = feature_vectors_per_class[class_type][s]\n",
    "          continue\n",
    "    for s in range(samples):\n",
    "            if len(feature_vectors_per_class[class_type]) == 0:\n",
    "                break\n",
    "            idx = rand.randrange(0, len(feature_vectors_per_class[class_type]))\n",
    "            fold[k].append(feature_vectors_per_class[class_type][idx])\n",
    "            value = feature_vectors_per_class[class_type][idx]\n",
    "            feature_vectors_per_class[class_type].remove(value) \n",
    "\n",
    "# 5 save folds into file_content -  write into files the size and feature info\n",
    "#open each file and write sample size and features - followed by vectors\n",
    "output_files = []\n",
    "for i in range(0, int(kfolds)):\n",
    "    print \"opening \" + str(i)\n",
    "    output_files.append( open(file_name[i], 'w'))\n",
    "    output_files[i].write(str(len(fold[i])) + \" \" + str(num_of_features) + \"\\n\")\n",
    "    for sample in range(0, len(fold[i])):\n",
    "           output_files[i].write(' '.join(fold[i][sample]) + \"\\n\")\n",
    "           output_files[i].flush()\n",
    "    output_files[i].close()\n",
    "    \n",
    "    "
   ]
  },
  {
   "cell_type": "markdown",
   "metadata": {},
   "source": [
    "# Machine Learning - Evaluating Multiple Algorithms"
   ]
  },
  {
   "cell_type": "markdown",
   "metadata": {},
   "source": [
    "Working in the fields of machine learning inevitably requires the practitioner to **compare the generalizability of one (or more) algorithm against others** in order to determine which might be a better solution for a given problem.\n",
    "\n",
    "When performing such comparisons, it is important to realize that same algorithms, having different settings (such as the value for k in kNN) are seen as different algorithms and should be treated as such in the comparisons.\n",
    "\n",
    "The question is: how to best summarize a series of algorithms with different settings and their performances across multiple datasets? \n",
    "\n",
    "In such circumstances, the practitioner is referred to **statistical techniques** to provide answers. In particular, the practitioner is expected to provide summaries of every algorithm's accuracy in terms of **mean ranks** across all datasets. The mean ranks provides an informative summary of the **overall performance** of all algorithms that can then be analysed even further using **non-parametric** tests such as Friedman's test and a range of post hoc-tests. \n",
    "\n",
    "In essence, these tests evaluate if the difference in the mean ranks is statistically different enough from the expected mean. The rejection of the null-hypothesis then opens the door to detailing further which algorithm's mean ranks differ significantly from others'.\n",
    "\n",
    "Interested readers are referred to Demšar's article which provides examples on how to conduct statistical comparisons between multiple classifiers' results on multiple datasets:\n",
    "\n",
    "> Demšar, J. (2006). Statistical comparisons of classifiers over multiple data sets. The Journal of Machine Learning Research, 7, 1-30.\n",
    "\n",
    "The image below shows an example of how to display a summary of algorithms' performances using the geometric mean and the mean ranks: \n",
    "\n",
    "![Source Teo Susnjak](figures/ml_mean_rank_example.jpg)"
   ]
  },
  {
   "cell_type": "markdown",
   "metadata": {},
   "source": [
    "# No Free Lunch"
   ]
  },
  {
   "cell_type": "markdown",
   "metadata": {},
   "source": [
    "Every model/classifier is a simplified representation of reality. By their very definition, simplifications discard irrelevant detail in order to enable a greater emphasis of some aspect of reality of interest for further study.  \n",
    "\n",
    "These simplifications are founded on assumptions that every machine learning algorithm embodies to varying degrees. These assumptions may hold in some situations, but not others. The consequence is, that a classifier that operates well in a certain situation well may fail in another. Making bold claims that a given machine learning algorithm is more accurate than another is therefore strongly frowned upon.\n",
    "\n",
    "In 1997, Wolpert and Macready described the “No Free Lunch” theorem which simply states that there is no one model/classifier that works best for every problem. The truth is that assumptions of a really effective and accurate classifier for one problem may not hold for different one. Because of this, it is common in machine learning to try multiple models and find one that works best for a particular problem.  This is especially true in supervised learning; validation or cross-validation is commonly used to assess the predictive accuracies of multiple models of varying complexity to find the best model.  \n",
    "\n",
    "Therefore, depending on the problem domain and requirements, it is important consider multiple factors before settling on a machine learning algorithm. One must assess the trade-offs between speed, accuracy, and complexity/interpretability of different machine learning algorithms and their classifiers, and select one that works best for that particular problem and a set of requirements."
   ]
  },
  {
   "cell_type": "markdown",
   "metadata": {},
   "source": [
    "# Classification Process Summarized"
   ]
  },
  {
   "cell_type": "markdown",
   "metadata": {},
   "source": [
    "1. We **begin with a data set** containing multiple samples, elements, records, or instances (all are the same terms used by different disciplines). \n",
    "\n",
    "2. Each instance is a **feature vector** consists of a number of features or attributes.  \n",
    "\n",
    "3. One of the features is special: it represents the instance's class - the **class label**. Each instance **belongs to exactly one class**.\n",
    "\n",
    "4. Classification problems are either **binary** or **multiclass**.\n",
    "\n",
    "5. A number of classification algorithms are limited to only binary classification. However, multiclass problems can be **decomposed into series of binary classification problems** ie. an instance belongs to the target class or to any other class.\n",
    "\n",
    "6. A classifier takes as input an instance (i.e., a feature vector) and **produces a class label**.\n",
    "\n",
    "7. Creating and using a classifier entails a three-step process of: **training, testing, and deployment** in an application.\n",
    "\n",
    "8. We first split the existing data set into a **training set** and a **test set**. \n",
    "\n",
    "9. In the training phase, we present each instance from the training set to the classification algorithm. \n",
    "\n",
    "10. Then compare the class label produced by the algorithm to the true class label of the record in question.\n",
    "\n",
    "11. If possible, then we adjust the algorithm's **“parameters”** to achieve the greatest possible **accuracy** or, equivalently, the lowest possible **error rate**. \n",
    "\n",
    "12. The results can be **summarized** in a so-called **confusion matrix** whose entries are the number of records in each category.\n",
    "\n",
    "13. Unfortunately, the **error rate derived from the training set** (the training error) is typically **too optimistic** as an indicator of the error rate the classifier would achieve on new data — that is, on data that was not used during the learning phase. \n",
    "\n",
    "13. This is the purpose of the test set: after we have optimized the algorithm using only the training data, we let the classifier operate on the elements of the test set to see how well it classifies them. The error rate obtained in this way is the **generalization error** and is a much more reliable indicator of the accuracy of the classifier.\n",
    "\n",
    "14. Keep in mind the **trade-off** between **classifier complexity** and **overfitting**. The classifier can usually be tweaked to become more complex and  correctly learn all the training samples. But this is called overfitting and memorizing the data. On the other hand, if it is too simple, then it cannot learn the relationships within the data and both its training and generalization error will be poor; this is known as underfitting.\n",
    "\n",
    "15. Once a classifier has been developed and tested, it can be used to **classify truly new and unknown data points** — that is, data points for which the correct class label is not known. (This is in contrast to the test set, where the class labels were known but not used by the classifier when making a prediction.) \n",
    "\n",
    "Adapted from: \n",
    "> Source: Janert, P. K. (2010). Data analysis with open source tools.  O'Reilly Media, Inc"
   ]
  },
  {
   "cell_type": "markdown",
   "metadata": {},
   "source": [
    "# Putting it all together in scikit-learn"
   ]
  },
  {
   "cell_type": "code",
   "execution_count": 14,
   "metadata": {
    "collapsed": false
   },
   "outputs": [],
   "source": [
    "from sklearn.naive_bayes import GaussianNB\n",
    "nb = GaussianNB()\n"
   ]
  },
  {
   "cell_type": "code",
   "execution_count": 15,
   "metadata": {
    "collapsed": false
   },
   "outputs": [
    {
     "data": {
      "text/html": [
       "<div>\n",
       "<table border=\"1\" class=\"dataframe\">\n",
       "  <thead>\n",
       "    <tr style=\"text-align: right;\">\n",
       "      <th></th>\n",
       "      <th>Class</th>\n",
       "      <th>Magnesium</th>\n",
       "      <th>Flavanoids</th>\n",
       "    </tr>\n",
       "  </thead>\n",
       "  <tbody>\n",
       "    <tr>\n",
       "      <th>0</th>\n",
       "      <td>1</td>\n",
       "      <td>2.80</td>\n",
       "      <td>3.06</td>\n",
       "    </tr>\n",
       "    <tr>\n",
       "      <th>1</th>\n",
       "      <td>1</td>\n",
       "      <td>2.65</td>\n",
       "      <td>2.76</td>\n",
       "    </tr>\n",
       "    <tr>\n",
       "      <th>2</th>\n",
       "      <td>1</td>\n",
       "      <td>2.80</td>\n",
       "      <td>3.24</td>\n",
       "    </tr>\n",
       "    <tr>\n",
       "      <th>3</th>\n",
       "      <td>1</td>\n",
       "      <td>3.85</td>\n",
       "      <td>3.49</td>\n",
       "    </tr>\n",
       "    <tr>\n",
       "      <th>4</th>\n",
       "      <td>1</td>\n",
       "      <td>2.80</td>\n",
       "      <td>2.69</td>\n",
       "    </tr>\n",
       "  </tbody>\n",
       "</table>\n",
       "</div>"
      ],
      "text/plain": [
       "   Class  Magnesium  Flavanoids\n",
       "0      1       2.80        3.06\n",
       "1      1       2.65        2.76\n",
       "2      1       2.80        3.24\n",
       "3      1       3.85        3.49\n",
       "4      1       2.80        2.69"
      ]
     },
     "execution_count": 15,
     "metadata": {},
     "output_type": "execute_result"
    }
   ],
   "source": [
    "df.head()"
   ]
  },
  {
   "cell_type": "markdown",
   "metadata": {},
   "source": [
    "We can train a Naive Bayes classifier on all our training data as follows and use the model for prediction:"
   ]
  },
  {
   "cell_type": "code",
   "execution_count": 16,
   "metadata": {
    "collapsed": false
   },
   "outputs": [
    {
     "data": {
      "text/plain": [
       "GaussianNB()"
      ]
     },
     "execution_count": 16,
     "metadata": {},
     "output_type": "execute_result"
    }
   ],
   "source": [
    "classifier = nb.fit(df[['Magnesium','Flavanoids']], df['Class'])\n",
    "classifier\n"
   ]
  },
  {
   "cell_type": "markdown",
   "metadata": {},
   "source": [
    "We can find out how well our classifier learned the training dataset based on overall accuracy:"
   ]
  },
  {
   "cell_type": "code",
   "execution_count": 17,
   "metadata": {
    "collapsed": false
   },
   "outputs": [
    {
     "data": {
      "text/plain": [
       "0.7808988764044944"
      ]
     },
     "execution_count": 17,
     "metadata": {},
     "output_type": "execute_result"
    }
   ],
   "source": [
    "classifier.score(df[['Magnesium','Flavanoids']], df['Class'])\n"
   ]
  },
  {
   "cell_type": "markdown",
   "metadata": {},
   "source": [
    "Or we can use the classifier to classifier individual samples:"
   ]
  },
  {
   "cell_type": "code",
   "execution_count": 18,
   "metadata": {
    "collapsed": false
   },
   "outputs": [
    {
     "name": "stdout",
     "output_type": "stream",
     "text": [
      "Predicted class:  1\n"
     ]
    },
    {
     "name": "stderr",
     "output_type": "stream",
     "text": [
      "D:\\Program Files\\Anaconda\\lib\\site-packages\\sklearn\\utils\\validation.py:386: DeprecationWarning: Passing 1d arrays as data is deprecated in 0.17 and willraise ValueError in 0.19. Reshape your data either using X.reshape(-1, 1) if your data has a single feature or X.reshape(1, -1) if it contains a single sample.\n",
      "  DeprecationWarning)\n"
     ]
    }
   ],
   "source": [
    "print 'Predicted class: ', classifier.predict([2.2, 3.3])[0]\n"
   ]
  },
  {
   "cell_type": "markdown",
   "metadata": {},
   "source": [
    "If we want to split the dataset into a training and test set with the test set comprising 20% is the dataset, we do as follows:"
   ]
  },
  {
   "cell_type": "code",
   "execution_count": 19,
   "metadata": {
    "collapsed": false
   },
   "outputs": [
    {
     "name": "stdout",
     "output_type": "stream",
     "text": [
      "(142, 2)\n",
      "(36, 2)\n",
      "(142L,)\n",
      "(36L,)\n"
     ]
    }
   ],
   "source": [
    "# split into training and testing sets\n",
    "from sklearn.cross_validation import train_test_split\n",
    "X_train, X_test, y_train, y_test = train_test_split(df[['Magnesium','Flavanoids']], df['Class'], random_state=1, test_size=0.2)\n",
    "print X_train.shape\n",
    "print X_test.shape\n",
    "\n",
    "print y_train.shape\n",
    "print y_test.shape\n"
   ]
  },
  {
   "cell_type": "markdown",
   "metadata": {},
   "source": [
    "We can now train the classifier on the training dataset and test it on the unseen dataset:"
   ]
  },
  {
   "cell_type": "code",
   "execution_count": 20,
   "metadata": {
    "collapsed": false
   },
   "outputs": [
    {
     "data": {
      "text/plain": [
       "array([0, 2, 1, 2, 1, 0, 2, 1, 0, 2, 2, 1, 2, 1, 2, 2, 2, 1, 2, 1, 1, 1, 0,\n",
       "       1, 1, 0, 1, 2, 1, 0, 1, 2, 2, 1, 1, 1], dtype=int64)"
      ]
     },
     "execution_count": 20,
     "metadata": {},
     "output_type": "execute_result"
    }
   ],
   "source": [
    "classifier = nb.fit(X_train, y_train)\n",
    "y_pred = classifier.predict(X_test)\n",
    "y_pred\n"
   ]
  },
  {
   "cell_type": "code",
   "execution_count": 21,
   "metadata": {
    "collapsed": false
   },
   "outputs": [
    {
     "data": {
      "text/plain": [
       "0.72222222222222221"
      ]
     },
     "execution_count": 21,
     "metadata": {},
     "output_type": "execute_result"
    }
   ],
   "source": [
    "classifier.score(X_test, y_test)\n"
   ]
  },
  {
   "cell_type": "markdown",
   "metadata": {},
   "source": [
    "We can generate a more comprehensive accuracy report:"
   ]
  },
  {
   "cell_type": "code",
   "execution_count": 22,
   "metadata": {
    "collapsed": false
   },
   "outputs": [
    {
     "name": "stdout",
     "output_type": "stream",
     "text": [
      "             precision    recall  f1-score   support\n",
      "\n",
      "          0       1.00      0.67      0.80         9\n",
      "          1       0.71      0.86      0.77        14\n",
      "          2       0.62      0.62      0.62        13\n",
      "\n",
      "avg / total       0.75      0.72      0.72        36\n",
      "\n"
     ]
    }
   ],
   "source": [
    "from sklearn import metrics\n",
    "print metrics.classification_report(y_test, y_pred)\n"
   ]
  },
  {
   "cell_type": "markdown",
   "metadata": {},
   "source": [
    "Let's see what the confusion matrix looks like:"
   ]
  },
  {
   "cell_type": "code",
   "execution_count": 23,
   "metadata": {
    "collapsed": false
   },
   "outputs": [
    {
     "name": "stdout",
     "output_type": "stream",
     "text": [
      "[[ 6  0  3]\n",
      " [ 0 12  2]\n",
      " [ 0  5  8]]\n"
     ]
    }
   ],
   "source": [
    "print metrics.confusion_matrix(y_test, y_pred)\n"
   ]
  },
  {
   "cell_type": "markdown",
   "metadata": {},
   "source": [
    "If we would prefer to use stratified cross-fold validations, then:"
   ]
  },
  {
   "cell_type": "code",
   "execution_count": 24,
   "metadata": {
    "collapsed": false
   },
   "outputs": [
    {
     "data": {
      "text/plain": [
       "array([ 0.875     ,  0.875     ,  0.875     ,  0.57142857,  0.6       ])"
      ]
     },
     "execution_count": 24,
     "metadata": {},
     "output_type": "execute_result"
    }
   ],
   "source": [
    "from sklearn.cross_validation import cross_val_score\n",
    "classifierNB = GaussianNB()\n",
    "scores = cross_val_score(classifierNB, X_test, y_test, cv=5, scoring='accuracy')\n",
    "scores\n"
   ]
  },
  {
   "cell_type": "markdown",
   "metadata": {},
   "source": [
    "The code above uses 5 folds and uses accuracy for a general evaluation metric. The returned result is accuracy for each of the folds.\n",
    "\n",
    "We can find the mean and standard deviation of all the results:"
   ]
  },
  {
   "cell_type": "code",
   "execution_count": 25,
   "metadata": {
    "collapsed": false
   },
   "outputs": [
    {
     "name": "stdout",
     "output_type": "stream",
     "text": [
      "mean is:  0.759285714286\n",
      "STD is:  0.142008191773\n"
     ]
    }
   ],
   "source": [
    "print 'mean is: ', scores.mean()\n",
    "print 'STD is: ', scores.std()\n"
   ]
  },
  {
   "cell_type": "markdown",
   "metadata": {},
   "source": [
    "**Exercise:** Load the student grade dataset and use the Naive Bayes classifier to predict the class grade based on all the assignment results.\n",
    "\n",
    "First train all the data and test the accuracy.\n",
    "\n",
    "Then use different number of folds to test the accuracy of the generalization of your classifiers.\n",
    "\n",
    "Lastly, experiment with using different combinations of assignment features and observe if the accuracy increases/decreases as you omit some of them."
   ]
  },
  {
   "cell_type": "code",
   "execution_count": null,
   "metadata": {
    "collapsed": false
   },
   "outputs": [],
   "source": []
  },
  {
   "cell_type": "code",
   "execution_count": null,
   "metadata": {
    "collapsed": false
   },
   "outputs": [],
   "source": [
    "%%javascript\n",
    "require(['base/js/utils'],\n",
    "function(utils) {\n",
    "   utils.load_extensions('calico-spell-check', 'calico-document-tools', 'calico-cell-tools');\n",
    "});\n"
   ]
  },
  {
   "cell_type": "code",
   "execution_count": null,
   "metadata": {
    "collapsed": false
   },
   "outputs": [],
   "source": []
  }
 ],
 "metadata": {
  "anaconda-cloud": {},
  "kernelspec": {
   "display_name": "Python [Root]",
   "language": "python",
   "name": "Python [Root]"
  },
  "language_info": {
   "codemirror_mode": {
    "name": "ipython",
    "version": 2
   },
   "file_extension": ".py",
   "mimetype": "text/x-python",
   "name": "python",
   "nbconvert_exporter": "python",
   "pygments_lexer": "ipython2",
   "version": "2.7.12"
  }
 },
 "nbformat": 4,
 "nbformat_minor": 0
}
