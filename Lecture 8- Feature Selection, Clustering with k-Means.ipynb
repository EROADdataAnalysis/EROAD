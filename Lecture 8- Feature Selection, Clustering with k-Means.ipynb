{
 "cells": [
  {
   "cell_type": "markdown",
   "metadata": {},
   "source": [
    "# Lecture 8 - Feature Selection, Clustering with k-Means  *"
   ]
  },
  {
   "cell_type": "markdown",
   "metadata": {},
   "source": [
    "# Table of Contents\n",
    "* [Lecture 8 - Feature Selection, Clustering with k-Means  *](#Lecture-8---Feature-Selection,-Clustering-with-k-Means--*)\n",
    "\t* &nbsp;\n",
    "\t\t* [Content](#Content)\n",
    "\t\t* [Learning Outcomes](#Learning-Outcomes)\n",
    "* [Feature Selection $^1$](#Feature-Selection-$^1$)\n",
    "\t* [Demo](#Demo)\n",
    "\t\t* [Machine learning with no feature selection](#Machine-learning-with-no-feature-selection)\n",
    "\t\t* [Machine learning with feature selection](#Machine-learning-with-feature-selection)\n",
    "* [Unsupervised Machine Learning (Clustering)](#Unsupervised-Machine-Learning-%28Clustering%29)\n",
    "\t* [What is a cluster?](#What-is-a-cluster?)\n",
    "\t* [Distance and Similarity Measures](#Distance-and-Similarity-Measures)\n",
    "\t* [Clustering Algorithms](#Clustering-Algorithms)\n",
    "\t\t* [Tree Builders](#Tree-Builders)\n",
    "\t\t* [Centre Seekers](#Centre-Seekers)\n",
    "\t\t* [Issues with k-means:](#Issues-with-k-means:)\n",
    "\t\t* [Evaluating clustering](#Evaluating-clustering)\n",
    "\t\t\t* [Cohesion and Separation](#Cohesion-and-Separation)\n",
    "\t\t* [Warning](#Warning)\n",
    "\t\t* [To summarize:](#To-summarize:)\n",
    "\t* [Clustering Using scikit-learn](#Clustering-Using-scikit-learn)\n"
   ]
  },
  {
   "cell_type": "code",
   "execution_count": null,
   "metadata": {
    "collapsed": false
   },
   "outputs": [],
   "source": [
    "from IPython.core.display import display, HTML\n",
    "display(HTML(\"<style>.container { width:80% !important; }</style>\"))"
   ]
  },
  {
   "cell_type": "markdown",
   "metadata": {},
   "source": [
    "---"
   ]
  },
  {
   "cell_type": "markdown",
   "metadata": {},
   "source": [
    "### Content"
   ]
  },
  {
   "cell_type": "markdown",
   "metadata": {},
   "source": [
    "1. How do features affect generalisability of classifiers? \n",
    "2. What is unsupervised learning?\n",
    "3. Clustering with k-Means\n",
    "4. Evaluating clustering - cluster cohesion and separation\n",
    "5. Using scikit-learn for clustering"
   ]
  },
  {
   "cell_type": "markdown",
   "metadata": {},
   "source": [
    "### Learning Outcomes"
   ]
  },
  {
   "cell_type": "markdown",
   "metadata": {},
   "source": [
    "At the end of this lecture, you should be able to:\n",
    "\n",
    "* perform feature analysis\n",
    "* explain the motivation behind clustering\n",
    "* recognise the types of problems that unsupervised machine learning (clustering) is applied to \n",
    "* explain the k-means clustering algorithm\n",
    "* apply the k-means algorithm and interpret its output\n",
    "* evaluate the results of clustering\n",
    "* apply clustering from scikit-learn\n",
    "\n",
    "\n",
    "---\n",
    "\n",
    "\\* Some material on clustering is sourced from Janert, P. K. (2010). Data analysis with open source tools. O'Reilly Media, Inc"
   ]
  },
  {
   "cell_type": "markdown",
   "metadata": {},
   "source": [
    "# Feature Selection $^1$"
   ]
  },
  {
   "cell_type": "markdown",
   "metadata": {},
   "source": [
    "The main purpose of machine learning is to produce classifiers that generalise in their predictive accuracy beyond the datasets used to train them. To a large degree, **their final accuracy is dependent on the descriptive strength and quality of the features** that constitute the training dataset. \n",
    "\n",
    "**It is often tempting to simply provide a machine learning algorithm with as many features as are available for a given dataset. However, doing so has been consistently shown to be associated with negative outcomes.**\n",
    "\n",
    "The inclusion of large feature numbers in a training dataset presents **computational challenges** that mostly arise during the training phase and can be prohibitive for some algorithms, but can also be a **strain during the detection time** for real-time systems processing high-volume data streams. Unnecessary and **redundant features** increase the search space for a machine learning algorithm. This in turn**dilutes the signal strength of a true pattern** and makes it more likely that due to the presence of noisy and irrelevant features, a spurious pattern will be discovered instead. \n",
    "\n",
    "In general it is not known *a priori* which features are meaningful, and **finding the optimal feature subset has been proven to be a NP-complete problem**. Nonetheless, it is still imperative that feature selection algorithms be applied to a dataset as a pre-processing step before training classifiers, in order to reduce feature dimensionality. \n",
    "\n",
    "**Not only are both the computational complexity and the generalisability improved by selecting the most concise subset, but the resulting model is more interpretable due to the fact that it is generated with the fewest possible number of parameters.** \n",
    "\n",
    "There are many algorithms and techniques available to perform feature selection. Some of the more commonly used are: Chi$^2$, Information Gain, PCA, LDA, Gain Ratiom Gini Index, SVM. \n",
    "\n",
    "Feature selection techniques can generally be divided into two broad categories. **Filter methods** are univariate techniques which consider the relevance of a particular feature in isolation to the other features and rank the features according to a metric. These algorithms are computationally efficient since they do not integrate the machine learning algorithm in its evaluation. However, they can be susceptible to selecting subsets of features that may not produce favourable results when combined with a chosen machine learning algorithm. These methods lack the ability to detect interactions among features as well as feature redundancy. \n",
    "\n",
    "On the other hand, **wrapper methods** overcome some of these shortcomings. They explicitly use the chosen machine learning algorithm to select the feature subsets and tend to outperform filter methods in predictive accuracy. However, these techniques exhibit bias in favour of a specific machine learning algorithm, and since they are computationally more intensive, they are also frequently impractical on large datasets.\n",
    "\n",
    "Hybrid filter-wrapper methods have been a subject of recent research due to their ability to exploit the strengths of both strategies. Hybrid approached essentially allow any combination of filter and wrapper methods to be combined. Due to this, some novel and interesting hybrid approaches have recently been proposed such as: using the union of feature-subset outputs from Information Gain, Gain Ratio, Gini Index and correlation filter methods as inputs to the the wrapper Genetic Algorithm, hybridization of the Gravitational Search Algorithm with Support Vector Machine and using Particle Swarm Optimisation-based multi-objective feature selection approach in combination with k-Nearest-Neighbour. Given their flexibility, hybrid approaches thus offer some degree of tuning the trade-offs between accuracy and performance. Nonetheless, devising a feature selection algorithm that is both highly accurate and computationally efficient is still an open question.\n",
    "\n",
    "For reasons of simplicity, we will consider only filter methods here, and more specifically we will look at Chi$^2$. Chi$^2$ performs a statistical test which ascertains if a given feature and class label are independent. A test result which indicates strong dependence between feature values and the associated class label, means that the given feature possesses discriminative ability. The scores of all feature vectors are then ranked resulting in an ordering of feature usefulness. The Chi$^2$ test does not take into account dependence between feature vectors themselves and is thus unable to detect feature redundancy.\n",
    "\n",
    "Chi$^2$ is designed to work with feature counts on categorical data that results in non-negative values. However, Chi$^2$ can be used on continuous data by discretizing the feature vectors and counting the occurrences of feature values in the given bins. \n",
    "\n",
    "> $^1$ Susnjak, T., Kerry, D., Barczak, A., Reyes, N., & Gal, Y. (2015, November). Wisdom of Crowds: An Empirical Study of Ensemble-Based Feature Selection Strategies. In Australasian Joint Conference on Artificial Intelligence (pp. 526-538). Springer International Publishing."
   ]
  },
  {
   "cell_type": "markdown",
   "metadata": {},
   "source": [
    "## Demo "
   ]
  },
  {
   "cell_type": "code",
   "execution_count": 42,
   "metadata": {
    "collapsed": false,
    "scrolled": true
   },
   "outputs": [],
   "source": [
    "import pandas as pd\n",
    "import matplotlib.pyplot as plt\n",
    "import matplotlib as mpl\n",
    "import numpy as np\n",
    "import math \n",
    "#import mpld3\n",
    "from sklearn import preprocessing\n",
    "from sklearn import neighbors\n",
    "\n",
    "%matplotlib inline"
   ]
  },
  {
   "cell_type": "code",
   "execution_count": 44,
   "metadata": {
    "collapsed": false
   },
   "outputs": [],
   "source": [
    "import seaborn as sns\n",
    "from pylab import rcParams\n",
    "rcParams['figure.figsize'] = 14, 8\n",
    "rcParams['font.size'] = 20\n",
    "rcParams['figure.dpi'] = 350\n",
    "rcParams['lines.linewidth'] = 2\n",
    "rcParams['axes.facecolor'] = 'white'\n",
    "rcParams['patch.edgecolor'] = 'white'\n",
    "rcParams['font.family'] = 'StixGeneral'"
   ]
  },
  {
   "cell_type": "code",
   "execution_count": 45,
   "metadata": {
    "collapsed": false
   },
   "outputs": [
    {
     "name": "stdout",
     "output_type": "stream",
     "text": [
      "   Unnamed: 0   A1    A2   A3    A4    A5     CW  Exam  Total Grade Mode\n",
      "0           0  3.5  5.50  7.5   6.5   7.5  30.50  30.0  60.50    B-  INT\n",
      "1           1  2.5  4.50  3.2   3.8   NaN  14.00  10.0  24.00     E  INT\n",
      "2           2  4.0  5.25  7.1  10.2  11.5  38.05  31.0  69.05     B  INT\n",
      "3           3  4.0   NaN  3.0   7.7   9.5  24.20  23.0  47.20     R  INT\n",
      "4           4  4.5  4.75  7.4  10.3   8.8  35.75  40.0  75.75    B+  EXT\n"
     ]
    }
   ],
   "source": [
    "grades = pd.read_csv('grades_prediction_mode.csv')\n",
    "print grades.head()\n",
    "grades = grades.dropna()"
   ]
  },
  {
   "cell_type": "markdown",
   "metadata": {},
   "source": [
    "### Machine learning with no feature selection "
   ]
  },
  {
   "cell_type": "code",
   "execution_count": 46,
   "metadata": {
    "collapsed": false
   },
   "outputs": [],
   "source": [
    "# create numeric column for the response\n",
    "# note: features and response must both be entirely numeric!\n",
    "mapping = {'A+':0, 'A':1, 'A-':2 ,'B+':3, 'B':4, 'B-':5, 'C+':6, 'C':7, 'R':8, 'D':9,'E':10, 'DNC':11}\n",
    "#mapping = {'A+':0, 'A':0, 'A-':0 ,'B+':1, 'B':1, 'B-':1, 'C+':2, 'C':2, 'R':3, 'D':4,'E':4, 'DNC':4}\n",
    "grades['grade_num'] = grades.Grade.map(mapping)\n",
    "\n",
    "# create X (features) three different ways\n",
    "X = grades [['A1', 'A2', 'A3', 'A4', 'A5', 'Exam']]\n",
    "\n",
    "# create y (response)\n",
    "y = grades.grade_num"
   ]
  },
  {
   "cell_type": "code",
   "execution_count": 47,
   "metadata": {
    "collapsed": false
   },
   "outputs": [],
   "source": [
    "from sklearn.naive_bayes import GaussianNB\n",
    "nb = GaussianNB()"
   ]
  },
  {
   "cell_type": "code",
   "execution_count": 48,
   "metadata": {
    "collapsed": false
   },
   "outputs": [],
   "source": [
    "from sklearn.tree import DecisionTreeClassifier\n",
    "treeclf = DecisionTreeClassifier(max_depth=3, random_state=1)"
   ]
  },
  {
   "cell_type": "code",
   "execution_count": 49,
   "metadata": {
    "collapsed": false
   },
   "outputs": [
    {
     "name": "stdout",
     "output_type": "stream",
     "text": [
      "(72, 6)\n"
     ]
    }
   ],
   "source": [
    "from sklearn.cross_validation import train_test_split\n",
    "X_train, X_test, y_train, y_test = train_test_split(X, y, random_state=1, test_size=0.2)\n",
    "print X_train.shape"
   ]
  },
  {
   "cell_type": "code",
   "execution_count": 50,
   "metadata": {
    "collapsed": false
   },
   "outputs": [
    {
     "name": "stdout",
     "output_type": "stream",
     "text": [
      "Test accuracy for NB (no feature selection): 0.263157894737\n",
      "Test accuracy for Tree (no feature selection): 0.263157894737\n"
     ]
    }
   ],
   "source": [
    "print \"Test accuracy for NB (no feature selection):\", nb.fit(X_train, y_train).score(X_test, y_test)\n",
    "print \"Test accuracy for Tree (no feature selection):\", treeclf.fit(X_train, y_train).score(X_test, y_test)"
   ]
  },
  {
   "cell_type": "code",
   "execution_count": 51,
   "metadata": {
    "collapsed": false
   },
   "outputs": [
    {
     "name": "stdout",
     "output_type": "stream",
     "text": [
      "NB              precision    recall  f1-score   support\n",
      "\n",
      "          1       0.00      0.00      0.00         0\n",
      "          2       0.00      0.00      0.00         1\n",
      "          3       0.50      0.25      0.33         4\n",
      "          4       0.40      0.40      0.40         5\n",
      "          5       0.25      1.00      0.40         1\n",
      "          6       0.17      0.50      0.25         2\n",
      "          7       0.00      0.00      0.00         3\n",
      "          8       0.00      0.00      0.00         2\n",
      "         10       0.00      0.00      0.00         1\n",
      "\n",
      "avg / total       0.24      0.26      0.22        19\n",
      "\n",
      "tree              precision    recall  f1-score   support\n",
      "\n",
      "          1       0.00      0.00      0.00         0\n",
      "          2       0.00      0.00      0.00         1\n",
      "          3       0.75      0.75      0.75         4\n",
      "          4       1.00      0.20      0.33         5\n",
      "          5       0.09      1.00      0.17         1\n",
      "          6       0.00      0.00      0.00         2\n",
      "          7       0.00      0.00      0.00         3\n",
      "          8       0.00      0.00      0.00         2\n",
      "         10       0.00      0.00      0.00         1\n",
      "\n",
      "avg / total       0.43      0.26      0.25        19\n",
      "\n"
     ]
    }
   ],
   "source": [
    "from sklearn import metrics\n",
    "print 'NB', metrics.classification_report(y_test, nb.predict(X_test))\n",
    "print 'tree', metrics.classification_report(y_test, treeclf.predict(X_test))"
   ]
  },
  {
   "cell_type": "code",
   "execution_count": 52,
   "metadata": {
    "collapsed": false
   },
   "outputs": [
    {
     "name": "stdout",
     "output_type": "stream",
     "text": [
      "NB \n",
      "[[0 0 0 0 0 0 0 0 0]\n",
      " [1 0 0 0 0 0 0 0 0]\n",
      " [0 0 1 3 0 0 0 0 0]\n",
      " [0 0 1 2 1 1 0 0 0]\n",
      " [0 0 0 0 1 0 0 0 0]\n",
      " [0 0 0 0 1 1 0 0 0]\n",
      " [0 0 0 0 1 1 0 1 0]\n",
      " [0 0 0 0 0 2 0 0 0]\n",
      " [0 0 0 0 0 1 0 0 0]]\n",
      "tree \n",
      "[[0 0 0 0 0 0 0 0 0]\n",
      " [1 0 0 0 0 0 0 0 0]\n",
      " [1 0 3 0 0 0 0 0 0]\n",
      " [0 0 1 1 3 0 0 0 0]\n",
      " [0 0 0 0 1 0 0 0 0]\n",
      " [0 0 0 0 2 0 0 0 0]\n",
      " [0 0 0 0 3 0 0 0 0]\n",
      " [0 0 0 0 2 0 0 0 0]\n",
      " [0 0 0 0 0 0 0 1 0]]\n"
     ]
    }
   ],
   "source": [
    "print 'NB \\n',metrics.confusion_matrix(y_test, nb.predict(X_test))\n",
    "print 'tree \\n',metrics.confusion_matrix(y_test, treeclf.predict(X_test))"
   ]
  },
  {
   "cell_type": "markdown",
   "metadata": {},
   "source": [
    "### Machine learning with feature selection"
   ]
  },
  {
   "cell_type": "code",
   "execution_count": 53,
   "metadata": {
    "collapsed": false
   },
   "outputs": [],
   "source": [
    "from sklearn.feature_selection import SelectKBest\n",
    "from sklearn.feature_selection import chi2"
   ]
  },
  {
   "cell_type": "code",
   "execution_count": 54,
   "metadata": {
    "collapsed": false
   },
   "outputs": [
    {
     "data": {
      "text/plain": [
       "(91L, 4L)"
      ]
     },
     "execution_count": 54,
     "metadata": {},
     "output_type": "execute_result"
    }
   ],
   "source": [
    "X_new = SelectKBest(chi2, k=4).fit_transform(X, y)\n",
    "X_new.shape"
   ]
  },
  {
   "cell_type": "code",
   "execution_count": 55,
   "metadata": {
    "collapsed": false
   },
   "outputs": [],
   "source": [
    "X_train, X_test, y_train, y_test = train_test_split(X_new, y, random_state=1, test_size=0.2)"
   ]
  },
  {
   "cell_type": "code",
   "execution_count": 56,
   "metadata": {
    "collapsed": false
   },
   "outputs": [
    {
     "name": "stdout",
     "output_type": "stream",
     "text": [
      "Test accuracy for NB (with feature selection): 0.421052631579\n",
      "Test accuracy for Tree (with feature selection): 0.263157894737\n"
     ]
    }
   ],
   "source": [
    "print \"Test accuracy for NB (with feature selection):\", nb.fit(X_train, y_train).score(X_test, y_test)\n",
    "print \"Test accuracy for Tree (with feature selection):\", treeclf.fit(X_train, y_train).score(X_test, y_test)"
   ]
  },
  {
   "cell_type": "markdown",
   "metadata": {},
   "source": [
    "**Exercise:** Given the Wine dataset, perform classification as above using all features for classification and then using a subset of the features. Split your train/test datasets 50/50. Report on the experimental findings. "
   ]
  },
  {
   "cell_type": "code",
   "execution_count": 57,
   "metadata": {
    "collapsed": false
   },
   "outputs": [],
   "source": [
    "#from sklearn.feature_selection import SelectKBest\n",
    "#from sklearn.feature_selection import chi2\n",
    "\n"
   ]
  },
  {
   "cell_type": "code",
   "execution_count": null,
   "metadata": {
    "collapsed": false
   },
   "outputs": [],
   "source": []
  },
  {
   "cell_type": "markdown",
   "metadata": {},
   "source": [
    "---"
   ]
  },
  {
   "cell_type": "markdown",
   "metadata": {},
   "source": [
    "# Unsupervised Machine Learning (Clustering)"
   ]
  },
  {
   "cell_type": "markdown",
   "metadata": {},
   "source": [
    "So far we have learned how to use **supervised machine learning** techniques like classification and regression. \n",
    "\n",
    "In supervised learning, we new exactly what the inputs and its expected outputs were. We would provide our machine learning algorithm with the **inputs** and ask it to **learn** to uncover the underlying patterns which would allow it to **correctly map to the provided corresponding outputs**. \n",
    "\n",
    "When deploying a classifier of this type, we would subsequently provide it with inputs that it has not seen before and expect it to **produce informed outputs** (class labels or continuous values) based on what the classifier has learned before.\n",
    "\n",
    "**Clustering** is a family of **unsupervised machine learning techniques**. It operates in a fundamentally different way to classification and regression. \n",
    "\n",
    "Clustering is a **method for discovering and visualising distinct groups** of similar data points. The purpose of clustering is to **find structure** and **discover patterns** in a dataset where no one piece of data within it provides a definitive answer. \n",
    "\n",
    "Clustering is often seen as an **exploratory method** which is a computationally-driven approach to discovering structure in data. It is to a large degree subjective and requires a strong understanding of the problem domain in order to ascribe meaning to the results.  The result of clustering are always sets of clusters; however, this does not necessarily mean that the clusters are significant, possess any real meaning and thus are present in the real-world domain from which the data originated. Many times the results will be devoid of meaning or very hard to make sense of. \n",
    "\n",
    "Clustering is heavily used in data-intensive domains. Examples of usage: groups of customers with similar buying patterns can automatically be detected by retailers who track customer purchases (loyalty/reward cards) and **marketing or retail strategies** can be developed from this; identification of areas of similar land use in an **earth observation** database; in **insurance** settings, groups of motor insurance policy holders with a high average claim cost can be identified; groups of similar houses according to their house type, value, and geographical location can be identified in **city planning** scenarios; in **medicine**, clustering can be used in automatically identifying cancerous cells in datasets without any prior labelling; **computational biology** also employs clustering to discover groups of genes that exhibit similar behaviour, which might indicate that they respond to a treatment in the same way or are part of the same biological pathway."
   ]
  },
  {
   "cell_type": "markdown",
   "metadata": {},
   "source": [
    "## What is a cluster?"
   ]
  },
  {
   "cell_type": "markdown",
   "metadata": {},
   "source": [
    "The concept of a \"cluster\" is in fact not well defined and lacks theoretical rigour.\n",
    "\n",
    "Simply saying **\"a cluster is a set of similar points\"** is in many ways **insufficient**. The same goes for **\"a cluster is a group of points that are close together\"**. The reason that these descriptions are insufficient is because clusters **must also be well separated** from each other.\n",
    "\n",
    "![Source Janert, P. K. (2010). Data analysis with open source tools.  O'Reilly Media, Inc](figures/cluster_uniform.jpg)\n",
    "\n",
    "Source: Janert, P. K. (2010). Data analysis with open source tools.  O'Reilly Media, Inc"
   ]
  },
  {
   "cell_type": "markdown",
   "metadata": {},
   "source": [
    "\n",
    "An arguably more precise definition of what a cluster is: **\"contiguous regions of high data point density separated by regions of lower point density\".**\n",
    "\n",
    "\n",
    "![Source Janert, P. K. (2010). Data analysis with open source tools.  O'Reilly Media, Inc](figures/cluster_smile.jpg)\n",
    "\n",
    "> Source: Janert, P. K. (2010). Data analysis with open source tools.  O'Reilly Media, Inc"
   ]
  },
  {
   "cell_type": "markdown",
   "metadata": {},
   "source": [
    "The previous definition of what regions of clusters should be opens up the possibilities for many types of very different clusters.\n",
    "\n",
    "The image below depicts regions of clusters made up of **graph-like relationships** rather than **point density**. In addition, this example depicts  scenarios where we observe **nested clusters** within other clusters. \n",
    "\n",
    "![Source Janert, P. K. (2010). Data analysis with open source tools.  O'Reilly Media, Inc](figures/cluster_graph.jpg)\n",
    "\n",
    "> Source: Janert, P. K. (2010). Data analysis with open source tools.  O'Reilly Media, Inc\n"
   ]
  },
  {
   "cell_type": "markdown",
   "metadata": {},
   "source": [
    "Cluster analysis does not need to be limited to just points in space, but can involve **strings as well non-geometric data like time-series**. The challenge in these scenarious then becomes of **how we define the notion of \"similarity\".** \n",
    "\n",
    "![Source Janert, P. K. (2010). Data analysis with open source tools.  O'Reilly Media, Inc](figures/cluster_strings_time_series.jpg)\n",
    "\n",
    "> Source: Janert, P. K. (2010). Data analysis with open source tools.  O'Reilly Media, Inc"
   ]
  },
  {
   "cell_type": "markdown",
   "metadata": {},
   "source": [
    "Final examples of clusters which are easily discernible by human eyes but difficult to train computers to do are expressed in the images below. The **intertwining of the clusters** in one dataset and the **intersection of two clusters** in the other are a particular **challenge** to clustering algorithms and not trivially solved.\n",
    "\n",
    "\n",
    "![Source Janert, P. K. (2010). Data analysis with open source tools.  O'Reilly Media, Inc](figures/cluster_complexity.jpg)\n",
    "\n",
    "> Source: Janert, P. K. (2010). Data analysis with open source tools.  O'Reilly Media, Inc"
   ]
  },
  {
   "cell_type": "markdown",
   "metadata": {},
   "source": [
    "## Distance and Similarity Measures"
   ]
  },
  {
   "cell_type": "markdown",
   "metadata": {},
   "source": [
    "In the same way that we defined distance metrics in our usage of the kNN algorithm, the **clustering algorithms also require the definition of a function that returns a scalar value to denote distance or similarity between two points**. Whether the function expresses the distance or similarity between two points is a matter of choice and the domain - distance can be transformed into similarity and vice versa.\n",
    "\n",
    "The image below shows examples of some of the popular distance and similarity measures, including some we have already covered in this course. Despite its simplicity, the **Euclidean** distance metric remains one of the most widely used on numerical domains.\n",
    "\n",
    "Just as we discovered that data comprising of **different scales** can have a **negative effect** on the kNN algorithm, the same is true in clustering. Whenever we employ distance metrics like Euclidean, we **must perform normalization** before applying the clustering algorithm. Correlation-based similarity metrics are however resistant to range variability within data.\n",
    "\n",
    "\n",
    "![Source Janert, P. K. (2010). Data analysis with open source tools.  O'Reilly Media, Inc](figures/cluster_distance_similarity.jpg)\n",
    "\n",
    "> Source: Janert, P. K. (2010). Data analysis with open source tools.  O'Reilly Media, Inc"
   ]
  },
  {
   "cell_type": "markdown",
   "metadata": {},
   "source": [
    "## Clustering Algorithms"
   ]
  },
  {
   "cell_type": "markdown",
   "metadata": {},
   "source": [
    "There are different families of clustering algorithms."
   ]
  },
  {
   "cell_type": "markdown",
   "metadata": {},
   "source": [
    "### Tree Builders"
   ]
  },
  {
   "cell_type": "markdown",
   "metadata": {},
   "source": [
    "Tree building clustering algorithms construct **decision tree-like structures** by successively combining clusters that are “close” to each\n",
    "other into a larger cluster until only a single cluster remains. This technique is known as\n",
    "**agglomerative hierarchical clustering**. The final cluster representation is a tree-like hierarchy of clusters. \n",
    "\n",
    "Clusters that exhibit similarity are merged early, constituting the leaves part of a tree. More dissimilar \n",
    "clusters are joined later in the process, nearer the root of the tree. \n",
    "\n",
    "The resulting structure can be represented graphically in a **dendrogram** (seen in the image below that depicts clusters of blogs based on word usage from which topics emerge). To extract actual clusters from it, we need to walk the tree, evaluate the cluster properties for each subtree,\n",
    "and then cut the tree to obtain clusters.\n",
    "\n",
    "![Source Janert, P. K. (2010). Data analysis with open source tools.  O'Reilly Media, Inc](figures/cluster_dendrogram.jpg)\n",
    "\n",
    "Tree building clustering algorithms are very **computationally intensive**. However, their advantage is that they do not just produce a flat list of clusters, but instead **explicitly show the relationships** between the clusters that can then be interpreted for meaning."
   ]
  },
  {
   "cell_type": "markdown",
   "metadata": {},
   "source": [
    "### Centre Seekers"
   ]
  },
  {
   "cell_type": "markdown",
   "metadata": {},
   "source": [
    "The most widely used category of clustering algorithms is the **k-means** family. \n",
    "\n",
    "The k-means algorithm is an **iterative algorithm**. The algorithm requires at the outset that the number of **expected clusters k be specified** as input to it. The key principle behind the algorithm is to **repeatedly re-calculate the centre or the centroid of each cluster**, and re-assign all the points to each centroid depending on their distance from it. This process is repeated until a predefined convergence is achieved or the maximum number of iterations are carried out.\n",
    "\n",
    "\n",
    "![Segaran, T. (2007). Programming collective intelligence: building smart web 2.0 applications.  O'Reilly Media, Inc.](figures/cluster_kmeans.jpg)\n",
    "\n",
    "\n",
    "> Image Source: Segaran, T. (2007). Programming collective intelligence: building smart web 2.0 applications. \" O'Reilly Media, Inc.\"."
   ]
  },
  {
   "cell_type": "code",
   "execution_count": 60,
   "metadata": {
    "collapsed": false
   },
   "outputs": [
    {
     "data": {
      "text/html": [
       "<div>\n",
       "<table border=\"1\" class=\"dataframe\">\n",
       "  <thead>\n",
       "    <tr style=\"text-align: right;\">\n",
       "      <th></th>\n",
       "      <th>Class</th>\n",
       "      <th>Magnesium</th>\n",
       "      <th>Flavanoids</th>\n",
       "    </tr>\n",
       "  </thead>\n",
       "  <tbody>\n",
       "    <tr>\n",
       "      <th>0</th>\n",
       "      <td>1</td>\n",
       "      <td>2.80</td>\n",
       "      <td>3.06</td>\n",
       "    </tr>\n",
       "    <tr>\n",
       "      <th>1</th>\n",
       "      <td>1</td>\n",
       "      <td>2.65</td>\n",
       "      <td>2.76</td>\n",
       "    </tr>\n",
       "    <tr>\n",
       "      <th>2</th>\n",
       "      <td>1</td>\n",
       "      <td>2.80</td>\n",
       "      <td>3.24</td>\n",
       "    </tr>\n",
       "    <tr>\n",
       "      <th>3</th>\n",
       "      <td>1</td>\n",
       "      <td>3.85</td>\n",
       "      <td>3.49</td>\n",
       "    </tr>\n",
       "    <tr>\n",
       "      <th>4</th>\n",
       "      <td>1</td>\n",
       "      <td>2.80</td>\n",
       "      <td>2.69</td>\n",
       "    </tr>\n",
       "  </tbody>\n",
       "</table>\n",
       "</div>"
      ],
      "text/plain": [
       "   Class  Magnesium  Flavanoids\n",
       "0      1       2.80        3.06\n",
       "1      1       2.65        2.76\n",
       "2      1       2.80        3.24\n",
       "3      1       3.85        3.49\n",
       "4      1       2.80        2.69"
      ]
     },
     "execution_count": 60,
     "metadata": {},
     "output_type": "execute_result"
    }
   ],
   "source": [
    "import pandas as pd\n",
    "import numpy as np\n",
    "import matplotlib as mtpl\n",
    "#import mpld3\n",
    "import math \n",
    "import matplotlib.pyplot as plt\n",
    "import random\n",
    "\n",
    "%matplotlib inline\n",
    "\n",
    "df = pd.io.parsers.read_csv(\n",
    "    'wine_data.csv',\n",
    "     usecols=[0,6,7]\n",
    "    )\n",
    "\n",
    "df.columns=['Class','Magnesium','Flavanoids']\n",
    "df.head()"
   ]
  },
  {
   "cell_type": "code",
   "execution_count": 61,
   "metadata": {
    "collapsed": false,
    "scrolled": false
   },
   "outputs": [
    {
     "data": {
      "text/plain": [
       "<matplotlib.collections.PathCollection at 0xe01df28>"
      ]
     },
     "execution_count": 61,
     "metadata": {},
     "output_type": "execute_result"
    },
    {
     "data": {
      "image/png": "[encoded data removed]",
      "text/plain": [
       "<matplotlib.figure.Figure at 0xdf64908>"
      ]
     },
     "metadata": {},
     "output_type": "display_data"
    }
   ],
   "source": [
    "fig, axes = plt.subplots()\n",
    "fig.set_size_inches(10,10)\n",
    "\n",
    "axes.grid()\n",
    "axes.set_xlabel('Magnesium',fontsize=30)\n",
    "axes.set_ylabel('Flavanoids',fontsize=30)\n",
    "plt.title('Wine Dataset',fontsize=30)\n",
    "axes.scatter(df.Magnesium, df.Flavanoids, s=90, alpha=0.6, c='red')"
   ]
  },
  {
   "cell_type": "markdown",
   "metadata": {},
   "source": [
    "We first need to normalise the data:"
   ]
  },
  {
   "cell_type": "code",
   "execution_count": 62,
   "metadata": {
    "collapsed": false
   },
   "outputs": [],
   "source": [
    "minmax_scale = preprocessing.MinMaxScaler().fit(df[['Magnesium','Flavanoids']])\n",
    "df[['Magnesium','Flavanoids']] = minmax_scale.transform(df[['Magnesium','Flavanoids']])"
   ]
  },
  {
   "cell_type": "code",
   "execution_count": 63,
   "metadata": {
    "collapsed": false
   },
   "outputs": [
    {
     "data": {
      "text/plain": [
       "<matplotlib.collections.PathCollection at 0xe77bc88>"
      ]
     },
     "execution_count": 63,
     "metadata": {},
     "output_type": "execute_result"
    },
    {
     "data": {
      "image/png": "[encoded data removed]",
      "text/plain": [
       "<matplotlib.figure.Figure at 0xded9d68>"
      ]
     },
     "metadata": {},
     "output_type": "display_data"
    }
   ],
   "source": [
    "fig, axes = plt.subplots()\n",
    "fig.set_size_inches(10,10)\n",
    "axes.set_xlabel('Magnesium',fontsize=30)\n",
    "axes.set_ylabel('Flavanoids',fontsize=30)\n",
    "plt.title('Wine Dataset',fontsize=30)\n",
    "axes.scatter(df.Magnesium, df.Flavanoids, s=90, alpha=0.6, c='red')"
   ]
  },
  {
   "cell_type": "code",
   "execution_count": null,
   "metadata": {
    "collapsed": false
   },
   "outputs": [],
   "source": []
  },
  {
   "cell_type": "markdown",
   "metadata": {},
   "source": [
    "The cetroid is critical to understanding k-means. It is the average position of all the points in a set of data instances. In our often n-dimensional spaces, the centroid is the mean position of all the points in all of the coordinate directions i.e. it is the mean of each feature type.\n",
    "\n",
    "**Exercise 1:** Find the centroid for all the data points in the above graph and plot it as a black dot in the graph:"
   ]
  },
  {
   "cell_type": "code",
   "execution_count": null,
   "metadata": {
    "collapsed": false
   },
   "outputs": [],
   "source": [
    "fig, axes = plt.subplots()\n",
    "fig.set_size_inches(10,10)\n",
    "axes.set_xlabel('Magnesium',fontsize=30)\n",
    "axes.set_ylabel('Flavanoids',fontsize=30)\n",
    "plt.title('Wine Dataset',fontsize=30)\n",
    "\n",
    "axes.scatter(df.Magnesium, df.Flavanoids, s=90, alpha=0.6, c='red')\n",
    "#YOUR CODE HERE\n"
   ]
  },
  {
   "cell_type": "markdown",
   "metadata": {},
   "source": [
    "The basic algorithm can be summarized as follows: \n",
    "\n",
    "1. Randomly pick **k** centroids (or points that will be the center of your clusters) in multi dimensional d-space. Strive to make them near the data but away from each another.\n",
    "2. Assign each data point to the closest centroid.\n",
    "3. Move the centroids to the average location of the data points assigned to it.\n",
    "4. Repeat the preceding two steps until the assignments no longer change - or change very little."
   ]
  },
  {
   "cell_type": "markdown",
   "metadata": {},
   "source": [
    "When randomly selecting the initial centroid(s) for the kmeans algorithm, it is important that the randomly chosen centroid is within the data range for each of the feature types.\n",
    "\n",
    "**Exercise 2:**  Using the data above, randomly select a centroid that is within the range of values for Flavanoids and Magnesium and plot it as a black dot. (Use random.uniform(x_min,x_max) to generate a random number in the range x_min amd x_max)"
   ]
  },
  {
   "cell_type": "code",
   "execution_count": null,
   "metadata": {
    "collapsed": false
   },
   "outputs": [],
   "source": [
    "fig, axes = plt.subplots()\n",
    "fig.set_size_inches(10,10)\n",
    "\n",
    "axes.grid()\n",
    "axes.set_xlabel('Magnesium',fontsize=30)\n",
    "axes.set_ylabel('Flavanoids',fontsize=30)\n",
    "plt.title('Wine Dataset',fontsize=30)\n",
    "axes.scatter(df.Magnesium, df.Flavanoids, s=90, alpha=0.6, c='red')\n",
    "\n",
    "#YOUR CODE HERE\n"
   ]
  },
  {
   "cell_type": "markdown",
   "metadata": {},
   "source": [
    "**Exercise 3:** Given two centroids ([1,3] and [1.5,3]) in the graph below, calculate the closest points to each of the centroids using the Euclidean distance defined below. Then, calculate the centroid of each of the samples assigned to each of the centroids. Make the centroids of each of the two groups of points the new centroid, and plot"
   ]
  },
  {
   "cell_type": "code",
   "execution_count": null,
   "metadata": {
    "collapsed": false
   },
   "outputs": [],
   "source": [
    "def eucledean_distance(x, y):\n",
    "    d = 0.0\n",
    "    \n",
    "    for i in range(len(x)):\n",
    "        d += (x[i] - y[i])**2\n",
    "    d = math.sqrt(d)\n",
    "    \n",
    "    return d"
   ]
  },
  {
   "cell_type": "code",
   "execution_count": null,
   "metadata": {
    "collapsed": false
   },
   "outputs": [],
   "source": [
    "fig, axes = plt.subplots()\n",
    "fig.set_size_inches(10,10)\n",
    "axes.set_xlabel('Magnesium',fontsize=30)\n",
    "axes.set_ylabel('Flavanoids',fontsize=30)\n",
    "plt.title('Wine Dataset',fontsize=30)\n",
    "axes.scatter(df.Magnesium, df.Flavanoids, s=90, alpha=0.6, c='red')\n",
    "axes.scatter(0.1, 0.6, s=150, alpha=1, c='black')\n",
    "axes.scatter(0.3, 0.6, s=150, alpha=1, c='black')\n",
    "\n",
    "#YOUR CODE HERE\n",
    "\n"
   ]
  },
  {
   "cell_type": "markdown",
   "metadata": {},
   "source": [
    "The k-means algorithm is **nondeterministic**. This means that different starting values may produce very **different results**. Given this, it is expected that the algorithm be **run multiple times** with different randomly selected starting values and to then compare results."
   ]
  },
  {
   "cell_type": "markdown",
   "metadata": {},
   "source": [
    "**k-means cannot be used for categorical data** unless the distance/similarity function is redefined for categorical data. One option is to use Jaccard similarity:"
   ]
  },
  {
   "cell_type": "code",
   "execution_count": null,
   "metadata": {
    "collapsed": false
   },
   "outputs": [],
   "source": [
    "def jaccard_similarity(x,y):\n",
    "    x = set(x)\n",
    "    y = set(y)\n",
    "    intersection = len(set.intersection(x,y))\n",
    "    union = len(set.union(x, y))\n",
    "    return intersection / float(union)"
   ]
  },
  {
   "cell_type": "code",
   "execution_count": null,
   "metadata": {
    "collapsed": false
   },
   "outputs": [],
   "source": [
    "1 - jaccard_similarity(['apples','bananas','oranges','kiwi','chrries'],['apples','bananas','oranges','grapefruit','grapes'])"
   ]
  },
  {
   "cell_type": "code",
   "execution_count": null,
   "metadata": {
    "collapsed": false
   },
   "outputs": [],
   "source": [
    "1 - jaccard_similarity(['apples','bananas','oranges','kiwi','chrries'],['apples','berries','pears','grapefruit','grapes'])"
   ]
  },
  {
   "cell_type": "code",
   "execution_count": null,
   "metadata": {
    "collapsed": false
   },
   "outputs": [],
   "source": [
    "def categorical_variable_distance(s1, s2):\n",
    "    if len(s1) != len(s2):\n",
    "        raise ValueError(\"Sequences are of unequal length\")\n",
    "    number_of_matches = sum(ch1 == ch2 for ch1, ch2 in zip(s1, s2))\n",
    "    \n",
    "    return (number_of_matches) / float(len(s1))"
   ]
  },
  {
   "cell_type": "code",
   "execution_count": null,
   "metadata": {
    "collapsed": false
   },
   "outputs": [],
   "source": [
    "1 - categorical_variable_distance(['apples','bananas','oranges','kiwi','chrries'],['apples','bananas','oranges','grapefruit','grapes'])"
   ]
  },
  {
   "cell_type": "code",
   "execution_count": null,
   "metadata": {
    "collapsed": false
   },
   "outputs": [],
   "source": [
    "1 - categorical_variable_distance(['apples','bananas','oranges','kiwi','chrries'],['apples','berries','pears','grapefruit','grapes'])"
   ]
  },
  {
   "cell_type": "markdown",
   "metadata": {},
   "source": [
    "### Issues with k-means:"
   ]
  },
  {
   "cell_type": "markdown",
   "metadata": {},
   "source": [
    "- **Choosing k is more an art than a science**, although there are bounds: 1≤k ≤n, where n is number of data points.\n",
    "\n",
    "- There are **convergence issues** — the solution can fail to exist, if the algorithm falls into a loop, for example, and keeps going back and forth between two possible solutions, or in other words, there isn’t a single unique solution.\n",
    "\n",
    "- **Interpretability** can be a problem—sometimes the answer isn’t at all useful. Indeed that’s often the biggest problem. In spite of these issues, it’s pretty fast (compared to other clustering algorithms), and there are broad applications in marketing, computer vision (partitioning an image), or as a starting point for other models\n",
    "\n",
    "> Schutt, R., & O'Neil, C. (2013). Doing Data Science: Straight Talk from the Frontline. \" O'Reilly Media, Inc.\".\n",
    "\n",
    "Below is adapted python code for kmeans from:\n",
    "\n",
    "> Segaran, T. (2007). Programming collective intelligence: building smart web 2.0 applications. \" O'Reilly Media, Inc.\"."
   ]
  },
  {
   "cell_type": "code",
   "execution_count": null,
   "metadata": {
    "collapsed": false
   },
   "outputs": [],
   "source": [
    "fig, axes = plt.subplots()\n",
    "fig.set_size_inches(10,10)\n",
    "\n",
    "axes.set_xlabel('Magnesium',fontsize=30)\n",
    "axes.set_ylabel('Flavanoids',fontsize=30)\n",
    "plt.title('Wine Dataset',fontsize=30)\n",
    "axes.grid()\n",
    "axes.scatter(df.Magnesium.where(df.Class == 1), df.Flavanoids.where(df.Class == 1), s=90, alpha=0.6, c='red')\n",
    "axes.scatter(df.Magnesium.where(df.Class == 2), df.Flavanoids.where(df.Class == 2), s=90, alpha=0.6, c='blue')\n",
    "axes.scatter(df.Magnesium.where(df.Class == 3), df.Flavanoids.where(df.Class == 3), s=90, alpha=0.6, c='green')\n",
    "\n",
    "#[[0,0.9],[0.1,0.6],[0, 0.3]]\n",
    "\n",
    "axes.scatter(0,0.9, s=150, alpha=1, c='black')\n",
    "axes.scatter(0.1,0.6, s=150, alpha=1, c='black')\n",
    "axes.scatter(0, 0.3, s=150, alpha=1, c='black')"
   ]
  },
  {
   "cell_type": "code",
   "execution_count": null,
   "metadata": {
    "collapsed": false
   },
   "outputs": [],
   "source": [
    "def kmeans_cluster(rows, distance = eucledean_distance, k = 3, iter = 10):\n",
    "    \n",
    "    # Determine the minimum and maximum values for each point\n",
    "    ranges=[(min([row[i] for row in rows]),max([row[i] for row in rows])) for i in range(len(rows[0]))]\n",
    "    print ranges\n",
    "    \n",
    "    # Create k randomly placed centroids\n",
    "    #centroids=[[random.random( ) * (ranges[i][1] - ranges[i][0]) + ranges[i][0]  for i in range(len(rows[0]))] for j in range(k)]\n",
    "    centroids=[[0,0.9],[0.1,0.6],[0, 0.3]]\n",
    "    print centroids\n",
    "    \n",
    "    prev_cluster_labels = None\n",
    "    for t in range(iter):\n",
    "        #print 'Iteration %d' % t\n",
    "        cluster_labels = [[] for i in range(k)]\n",
    "        #print cluster_labels\n",
    "        # Find which centroid is the closest for each row\n",
    "        for j in range(len(rows)):\n",
    "            row = rows[j]\n",
    "            best_match = 0\n",
    "            for i in range(k):\n",
    "                d = distance(centroids[i],row)\n",
    "                if d < distance(centroids[best_match],row): \n",
    "                    best_match=i\n",
    "            cluster_labels[best_match].append(j)\n",
    "            \n",
    "        # If the results are the same as last time, this is complete\n",
    "        if cluster_labels == prev_cluster_labels:\n",
    "            break\n",
    "        prev_cluster_labels = cluster_labels\n",
    "    \n",
    "        # Move the centroids to the average of their members\n",
    "        for i in range(k):\n",
    "            avgs = [0.0] * len(rows[0])\n",
    "            if len(cluster_labels[i]) > 0:\n",
    "                for rowid in cluster_labels[i]:\n",
    "                    for m in range(len(rows[rowid])):\n",
    "                        avgs[m] += rows[rowid][m]\n",
    "                for j in range(len(avgs)):\n",
    "                    avgs[j] /= len(cluster_labels[i])\n",
    "                centroids[i] = avgs\n",
    "            \n",
    "    return cluster_labels, centroids"
   ]
  },
  {
   "cell_type": "code",
   "execution_count": null,
   "metadata": {
    "collapsed": false
   },
   "outputs": [],
   "source": [
    "labels, centroids = kmeans_cluster(rows=df[['Magnesium','Flavanoids']].values,k = 3, iter = 100)\n",
    "#print labels, centroids\n",
    "fig, axes = plt.subplots()\n",
    "fig.set_size_inches(10,10)\n",
    "\n",
    "axes.set_xlabel('Magnesium',fontsize=30)\n",
    "axes.set_ylabel('Flavanoids',fontsize=30)\n",
    "plt.title('Wine Dataset',fontsize=30)\n",
    "axes.grid()\n",
    "\n",
    "axes.scatter(df.Magnesium.where(df.Class == 1), df.Flavanoids.where(df.Class == 1), s=90, alpha=0.6, c='red')\n",
    "axes.scatter(df.Magnesium.where(df.Class == 2), df.Flavanoids.where(df.Class == 2), s=90, alpha=0.6, c='blue')\n",
    "axes.scatter(df.Magnesium.where(df.Class == 3), df.Flavanoids.where(df.Class == 3), s=90, alpha=0.6, c='green')\n",
    "\n",
    "\n",
    "axes.scatter(centroids[0][0],centroids[0][1], s=150, alpha=1, c='black')\n",
    "axes.scatter(centroids[1][0], centroids[1][1], s=150, alpha=1, c='black')\n",
    "axes.scatter(centroids[2][0], centroids[2][1], s=150, alpha=1, c='black')\n",
    "\n",
    "plt.show()"
   ]
  },
  {
   "cell_type": "markdown",
   "metadata": {},
   "source": [
    "### Evaluating clustering"
   ]
  },
  {
   "cell_type": "markdown",
   "metadata": {},
   "source": [
    "#### Cohesion and Separation"
   ]
  },
  {
   "cell_type": "markdown",
   "metadata": {},
   "source": [
    "We can evaluate each cluster based and its **cohesion** value. Cohesion describes the **closeness of the points within a cluster**. It is **average distance** of all the points in the cluster to the cluster centroid.\n",
    " \n",
    "\n",
    "**Separation** defines the average distance between a cluster and all the points outside of the cluster.\n",
    "\n",
    "Given the definition of the cohesion and separation for a single cluster, this can easily be extended to produce a measure of the overall clustering for a given problem. We can use the average cohesion and average separation (preferably weighted by each cluster mass which is the number of samples in each cluster) to give us global metrics for evaluating a clustering solution.  \n",
    " \n",
    "![.](figures/cluster_cohesion_separation.jpg)\n",
    "\n",
    "\n",
    "Once we have calculated the global cohesion and separation values for each cluster, we can combine them into a single value that represents the ratio:\n",
    "\n",
    "$\\frac{separation}{cohesion}$\n",
    "\n",
    "where we expect the ratio to increase as the separability and the cohesion of a clustering solution improve.\n",
    "\n",
    "> Janert, P. K. (2010). Data analysis with open source tools. O'Reilly Media, Inc"
   ]
  },
  {
   "cell_type": "markdown",
   "metadata": {},
   "source": [
    "**Exercise 4:** The kmeans_cluster cluster function above returned a list of labels (indexes) of all samples assigned to each cluster as well as a list of centroids for each cluster. Calculate the cohesion for cluster [0]."
   ]
  },
  {
   "cell_type": "code",
   "execution_count": null,
   "metadata": {
    "collapsed": false
   },
   "outputs": [],
   "source": [
    "rows = df[['Magnesium','Flavanoids']].values\n",
    "\n",
    "dist = 0.0\n",
    "mass = 0\n",
    "\n",
    "for row in labels[0]:\n",
    "    #YOUR CODE HERE\n",
    "    "
   ]
  },
  {
   "cell_type": "markdown",
   "metadata": {},
   "source": [
    "**Exercise 5:**  Calculate the separation of cluster [0] to elements in cluster [1]."
   ]
  },
  {
   "cell_type": "code",
   "execution_count": null,
   "metadata": {
    "collapsed": false
   },
   "outputs": [],
   "source": [
    "sep = 0.0\n",
    "num = 0\n",
    "for row in labels[1]:\n",
    "    #YOUR CODE HERE\n"
   ]
  },
  {
   "cell_type": "markdown",
   "metadata": {},
   "source": [
    "**Exercise 6:**  Calculate the separation of cluster [0] to all clusters."
   ]
  },
  {
   "cell_type": "code",
   "execution_count": null,
   "metadata": {
    "collapsed": false
   },
   "outputs": [],
   "source": [
    "total_sep = 0.0\n",
    "num = 0\n",
    "for c in range(1,3):\n",
    "    for row in labels[c]:\n",
    "        #YOUR CODE HERE\n",
    "        "
   ]
  },
  {
   "cell_type": "markdown",
   "metadata": {},
   "source": [
    "### Warning"
   ]
  },
  {
   "cell_type": "markdown",
   "metadata": {},
   "source": [
    "- Clustering is fun and fascinating but it can also lead you astray and become a waste of time. Obtaining useful results is often difficult. Interpretation is a challenge.\n",
    "\n",
    "- We tend to assume that our dataset has clusters, or a certain number, and this may prove to be wrong assumption.\n",
    "\n",
    "- Assuming you have found clusters and are able to draw out some meaning from them, the field is still lacking rigorous tools to evaluate the findings and even to know exactly what to do with them.\n",
    "\n",
    "- A good starting point with clustering is to formulate the question you are wanting to answer at the outset, together with hypotheses and then use the data to validate or disprove them."
   ]
  },
  {
   "cell_type": "markdown",
   "metadata": {},
   "source": [
    "### To summarize:"
   ]
  },
  {
   "cell_type": "markdown",
   "metadata": {},
   "source": [
    "• The k-means algorithms and its variants work best for globular (at least star-convex)\n",
    "clusters. The results will be meaningless for clusters with complicated shapes and for\n",
    "nested clusters.\n",
    "\n",
    "• The expected number of clusters is required as an input. If this number is not known, it\n",
    "will be necessary to repeat the algorithm with different values and compare the results.\n",
    "\n",
    "• The algorithm is iterative and nondeterministic; the specific outcome may depend on\n",
    "the choice of starting values.\n",
    "\n",
    "• The k-means algorithm requires vector data; use a different distance method for categorical data\n",
    "\n",
    "• The algorithm can be misled if there are clusters of highly different size or different\n",
    "density.\n",
    "\n",
    "• The k-means algorithm is linear in the number of data points; the k-medoids algorithm\n",
    "is quadratic in the number of points.\n",
    "\n",
    "> Janert, P. K. (2010). Data analysis with open source tools. O'Reilly Media, Inc"
   ]
  },
  {
   "cell_type": "markdown",
   "metadata": {},
   "source": [
    "## Clustering Using scikit-learn"
   ]
  },
  {
   "cell_type": "code",
   "execution_count": null,
   "metadata": {
    "collapsed": false
   },
   "outputs": [],
   "source": [
    "from sklearn.cluster import KMeans\n",
    "from sklearn import preprocessing"
   ]
  },
  {
   "cell_type": "code",
   "execution_count": null,
   "metadata": {
    "collapsed": false
   },
   "outputs": [],
   "source": [
    "km = KMeans(n_clusters=3, init='random')"
   ]
  },
  {
   "cell_type": "code",
   "execution_count": null,
   "metadata": {
    "collapsed": false
   },
   "outputs": [],
   "source": [
    "km.fit(df[['Magnesium','Flavanoids']].values)"
   ]
  },
  {
   "cell_type": "code",
   "execution_count": null,
   "metadata": {
    "collapsed": false
   },
   "outputs": [],
   "source": [
    "predictions = km.predict(df[['Magnesium','Flavanoids']].values)\n",
    "predictions"
   ]
  },
  {
   "cell_type": "markdown",
   "metadata": {},
   "source": [
    "Another useful measure that provides a useful global figure that expresses how well the clustering has performed is the **Silhouette Coefficient (SC)**.\n",
    "\n",
    "The SC is calculated for each point as follows:\n",
    "\n",
    "a = average distance to all other points in its cluster\n",
    "\n",
    "b = average distance to all other points in the next nearest cluster\n",
    "\n",
    "SC = (b-a)/max(a, b)\n",
    "\n",
    "SC is in the range from -1 (worst) to 1 (best).\n",
    "\n",
    "A global SC is calculated by taking the average of the SC for all points."
   ]
  },
  {
   "cell_type": "code",
   "execution_count": null,
   "metadata": {
    "collapsed": false
   },
   "outputs": [],
   "source": [
    "from sklearn import metrics\n",
    "metrics.silhouette_score(df[['Magnesium','Flavanoids']].values, predictions)"
   ]
  },
  {
   "cell_type": "markdown",
   "metadata": {},
   "source": [
    "Since k-means essentially attempts to minimise the within-cluster sum of squares (WCSS), we can experimentally visualise this property for a range of k values in order to ascertain what is the ideal number of clusters - aiming for the smallest possible and the lowest WCSS."
   ]
  },
  {
   "cell_type": "code",
   "execution_count": null,
   "metadata": {
    "collapsed": false
   },
   "outputs": [],
   "source": [
    "k_rng = range(1,10)\n",
    "est = [KMeans(n_clusters = k).fit(df[['Magnesium','Flavanoids']].values) for k in k_rng]\n",
    "\n",
    "# Generally want to minimize WSS, while also minimizing k\n",
    "within_cluster_sum_squares = [e.inertia_ for e in est]\n",
    "fig, axes = plt.subplots()\n",
    "fig.set_size_inches(15,20)\n",
    "# Plot the results\n",
    "plt.subplot(212)\n",
    "plt.plot(k_rng, within_cluster_sum_squares, 'b*-')\n",
    "plt.xlim([1,10])\n",
    "plt.grid(True)\n",
    "plt.xlabel('k', fontsize=20)\n",
    "plt.ylabel('Within Cluster Sum of Squares', fontsize=20)\n",
    "plt.title('Within Cluster Sum of Squares versus number of Clusters', fontsize=20)"
   ]
  },
  {
   "cell_type": "markdown",
   "metadata": {},
   "source": [
    "**Exercise:**\n",
    "\n",
    "Given below is a dataset sourced from https://raw.githubusercontent.com/justmarkham/DAT7/master/data/beer.txt which contains information on properties of some of the most popular beer brands in the US:\n"
   ]
  },
  {
   "cell_type": "code",
   "execution_count": 64,
   "metadata": {
    "collapsed": false
   },
   "outputs": [
    {
     "data": {
      "text/html": [
       "<div>\n",
       "<table border=\"1\" class=\"dataframe\">\n",
       "  <thead>\n",
       "    <tr style=\"text-align: right;\">\n",
       "      <th></th>\n",
       "      <th>name</th>\n",
       "      <th>calories</th>\n",
       "      <th>sodium</th>\n",
       "      <th>alcohol</th>\n",
       "      <th>cost</th>\n",
       "    </tr>\n",
       "  </thead>\n",
       "  <tbody>\n",
       "    <tr>\n",
       "      <th>0</th>\n",
       "      <td>Budweiser</td>\n",
       "      <td>144</td>\n",
       "      <td>15</td>\n",
       "      <td>4.7</td>\n",
       "      <td>0.43</td>\n",
       "    </tr>\n",
       "    <tr>\n",
       "      <th>1</th>\n",
       "      <td>Schlitz</td>\n",
       "      <td>151</td>\n",
       "      <td>19</td>\n",
       "      <td>4.9</td>\n",
       "      <td>0.43</td>\n",
       "    </tr>\n",
       "    <tr>\n",
       "      <th>2</th>\n",
       "      <td>Lowenbrau</td>\n",
       "      <td>157</td>\n",
       "      <td>15</td>\n",
       "      <td>0.9</td>\n",
       "      <td>0.48</td>\n",
       "    </tr>\n",
       "    <tr>\n",
       "      <th>3</th>\n",
       "      <td>Kronenbourg</td>\n",
       "      <td>170</td>\n",
       "      <td>7</td>\n",
       "      <td>5.2</td>\n",
       "      <td>0.73</td>\n",
       "    </tr>\n",
       "    <tr>\n",
       "      <th>4</th>\n",
       "      <td>Heineken</td>\n",
       "      <td>152</td>\n",
       "      <td>11</td>\n",
       "      <td>5.0</td>\n",
       "      <td>0.77</td>\n",
       "    </tr>\n",
       "    <tr>\n",
       "      <th>5</th>\n",
       "      <td>Old_Milwaukee</td>\n",
       "      <td>145</td>\n",
       "      <td>23</td>\n",
       "      <td>4.6</td>\n",
       "      <td>0.28</td>\n",
       "    </tr>\n",
       "    <tr>\n",
       "      <th>6</th>\n",
       "      <td>Augsberger</td>\n",
       "      <td>175</td>\n",
       "      <td>24</td>\n",
       "      <td>5.5</td>\n",
       "      <td>0.40</td>\n",
       "    </tr>\n",
       "    <tr>\n",
       "      <th>7</th>\n",
       "      <td>Srohs_Bohemian_Style</td>\n",
       "      <td>149</td>\n",
       "      <td>27</td>\n",
       "      <td>4.7</td>\n",
       "      <td>0.42</td>\n",
       "    </tr>\n",
       "    <tr>\n",
       "      <th>8</th>\n",
       "      <td>Miller_Lite</td>\n",
       "      <td>99</td>\n",
       "      <td>10</td>\n",
       "      <td>4.3</td>\n",
       "      <td>0.43</td>\n",
       "    </tr>\n",
       "    <tr>\n",
       "      <th>9</th>\n",
       "      <td>Budweiser_Light</td>\n",
       "      <td>113</td>\n",
       "      <td>8</td>\n",
       "      <td>3.7</td>\n",
       "      <td>0.40</td>\n",
       "    </tr>\n",
       "    <tr>\n",
       "      <th>10</th>\n",
       "      <td>Coors</td>\n",
       "      <td>140</td>\n",
       "      <td>18</td>\n",
       "      <td>4.6</td>\n",
       "      <td>0.44</td>\n",
       "    </tr>\n",
       "    <tr>\n",
       "      <th>11</th>\n",
       "      <td>Coors_Light</td>\n",
       "      <td>102</td>\n",
       "      <td>15</td>\n",
       "      <td>4.1</td>\n",
       "      <td>0.46</td>\n",
       "    </tr>\n",
       "    <tr>\n",
       "      <th>12</th>\n",
       "      <td>Michelob_Light</td>\n",
       "      <td>135</td>\n",
       "      <td>11</td>\n",
       "      <td>4.2</td>\n",
       "      <td>0.50</td>\n",
       "    </tr>\n",
       "    <tr>\n",
       "      <th>13</th>\n",
       "      <td>Becks</td>\n",
       "      <td>150</td>\n",
       "      <td>19</td>\n",
       "      <td>4.7</td>\n",
       "      <td>0.76</td>\n",
       "    </tr>\n",
       "    <tr>\n",
       "      <th>14</th>\n",
       "      <td>Kirin</td>\n",
       "      <td>149</td>\n",
       "      <td>6</td>\n",
       "      <td>5.0</td>\n",
       "      <td>0.79</td>\n",
       "    </tr>\n",
       "    <tr>\n",
       "      <th>15</th>\n",
       "      <td>Pabst_Extra_Light</td>\n",
       "      <td>68</td>\n",
       "      <td>15</td>\n",
       "      <td>2.3</td>\n",
       "      <td>0.38</td>\n",
       "    </tr>\n",
       "    <tr>\n",
       "      <th>16</th>\n",
       "      <td>Hamms</td>\n",
       "      <td>139</td>\n",
       "      <td>19</td>\n",
       "      <td>4.4</td>\n",
       "      <td>0.43</td>\n",
       "    </tr>\n",
       "    <tr>\n",
       "      <th>17</th>\n",
       "      <td>Heilemans_Old_Style</td>\n",
       "      <td>144</td>\n",
       "      <td>24</td>\n",
       "      <td>4.9</td>\n",
       "      <td>0.43</td>\n",
       "    </tr>\n",
       "    <tr>\n",
       "      <th>18</th>\n",
       "      <td>Olympia_Goled_Light</td>\n",
       "      <td>72</td>\n",
       "      <td>6</td>\n",
       "      <td>2.9</td>\n",
       "      <td>0.46</td>\n",
       "    </tr>\n",
       "    <tr>\n",
       "      <th>19</th>\n",
       "      <td>Schlitz_Light</td>\n",
       "      <td>97</td>\n",
       "      <td>7</td>\n",
       "      <td>4.2</td>\n",
       "      <td>0.47</td>\n",
       "    </tr>\n",
       "  </tbody>\n",
       "</table>\n",
       "</div>"
      ],
      "text/plain": [
       "                    name  calories  sodium  alcohol  cost\n",
       "0              Budweiser       144      15      4.7  0.43\n",
       "1                Schlitz       151      19      4.9  0.43\n",
       "2              Lowenbrau       157      15      0.9  0.48\n",
       "3            Kronenbourg       170       7      5.2  0.73\n",
       "4               Heineken       152      11      5.0  0.77\n",
       "5          Old_Milwaukee       145      23      4.6  0.28\n",
       "6             Augsberger       175      24      5.5  0.40\n",
       "7   Srohs_Bohemian_Style       149      27      4.7  0.42\n",
       "8            Miller_Lite        99      10      4.3  0.43\n",
       "9        Budweiser_Light       113       8      3.7  0.40\n",
       "10                 Coors       140      18      4.6  0.44\n",
       "11           Coors_Light       102      15      4.1  0.46\n",
       "12        Michelob_Light       135      11      4.2  0.50\n",
       "13                 Becks       150      19      4.7  0.76\n",
       "14                 Kirin       149       6      5.0  0.79\n",
       "15     Pabst_Extra_Light        68      15      2.3  0.38\n",
       "16                 Hamms       139      19      4.4  0.43\n",
       "17   Heilemans_Old_Style       144      24      4.9  0.43\n",
       "18   Olympia_Goled_Light        72       6      2.9  0.46\n",
       "19         Schlitz_Light        97       7      4.2  0.47"
      ]
     },
     "execution_count": 64,
     "metadata": {},
     "output_type": "execute_result"
    }
   ],
   "source": [
    "beer_df = pd.read_csv('beer.csv')\n",
    "beer_df\n"
   ]
  },
  {
   "cell_type": "markdown",
   "metadata": {},
   "source": [
    "Your task it to perform clustering on this dataset and evaluate the meaning of the clusters. "
   ]
  },
  {
   "cell_type": "code",
   "execution_count": null,
   "metadata": {
    "collapsed": false
   },
   "outputs": [],
   "source": [
    "#YOUR CODE HERE\n",
    "\n",
    "\n"
   ]
  },
  {
   "cell_type": "code",
   "execution_count": null,
   "metadata": {
    "collapsed": false
   },
   "outputs": [],
   "source": [
    "%%javascript\n",
    "require(['base/js/utils'],\n",
    "function(utils) {\n",
    "   utils.load_extensions('calico-spell-check', 'calico-document-tools', 'calico-cell-tools');\n",
    "});"
   ]
  },
  {
   "cell_type": "code",
   "execution_count": null,
   "metadata": {
    "collapsed": false
   },
   "outputs": [],
   "source": []
  }
 ],
 "metadata": {
  "celltoolbar": "Raw Cell Format",
  "kernelspec": {
   "display_name": "Python [Root]",
   "language": "python",
   "name": "Python [Root]"
  },
  "language_info": {
   "codemirror_mode": {
    "name": "ipython",
    "version": 2
   },
   "file_extension": ".py",
   "mimetype": "text/x-python",
   "name": "python",
   "nbconvert_exporter": "python",
   "pygments_lexer": "ipython2",
   "version": "2.7.12"
  }
 },
 "nbformat": 4,
 "nbformat_minor": 0
}
