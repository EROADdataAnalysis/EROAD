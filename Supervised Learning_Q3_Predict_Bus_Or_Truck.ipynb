{
 "cells": [
  {
   "cell_type": "markdown",
   "metadata": {},
   "source": [
    "## Q3 - Predict Bus or Truck"
   ]
  },
  {
   "cell_type": "markdown",
   "metadata": {},
   "source": [
    "**Classification Process Summarized**\n",
    "\n",
    "1. We **begin with a data set** containing multiple samples, elements, records, or instances (all are the same terms used by different disciplines). \n",
    "\n",
    "2. Each instance is a **feature vector** consists of a number of features or attributes.  \n",
    "\n",
    "3. One of the features is special: it represents the instance's class - the **class label**. Each instance **belongs to exactly one class**.\n",
    "\n",
    "4. Classification problems are either **binary** or **multiclass**.\n",
    "\n",
    "5. A number of classification algorithms are limited to only binary classification. However, multiclass problems can be **decomposed into series of binary classification problems** ie. an instance belongs to the target class or to any other class.\n",
    "\n",
    "6. A classifier takes as input an instance (i.e., a feature vector) and **produces a class label**.\n",
    "\n",
    "7. Creating and using a classifier entails a three-step process of: **training, testing, and deployment** in an application.\n",
    "\n",
    "8. We first split the existing data set into a **training set** and a **test set**. \n",
    "\n",
    "9. In the training phase, we present each instance from the training set to the classification algorithm. \n",
    "\n",
    "10. Then compare the class label produced by the algorithm to the true class label of the record in question.\n",
    "\n",
    "11. If possible, then we adjust the algorithm's **“parameters”** to achieve the greatest possible **accuracy** or, equivalently, the lowest possible **error rate**. \n",
    "\n",
    "12. The results can be **summarized** in a so-called **confusion matrix** whose entries are the number of records in each category.\n",
    "\n",
    "13. Unfortunately, the **error rate derived from the training set** (the training error) is typically **too optimistic** as an indicator of the error rate the classifier would achieve on new data — that is, on data that was not used during the learning phase. \n",
    "\n",
    "13. This is the purpose of the test set: after we have optimized the algorithm using only the training data, we let the classifier operate on the elements of the test set to see how well it classifies them. The error rate obtained in this way is the **generalization error** and is a much more reliable indicator of the accuracy of the classifier.\n",
    "\n",
    "14. Keep in mind the **trade-off** between **classifier complexity** and **overfitting**. The classifier can usually be tweaked to become more complex and  correctly learn all the training samples. But this is called overfitting and memorizing the data. On the other hand, if it is too simple, then it cannot learn the relationships within the data and both its training and generalization error will be poor; this is known as underfitting.\n",
    "\n",
    "15. Once a classifier has been developed and tested, it can be used to **classify truly new and unknown data points** — that is, data points for which the correct class label is not known. (This is in contrast to the test set, where the class labels were known but not used by the classifier when making a prediction.) "
   ]
  },
  {
   "cell_type": "markdown",
   "metadata": {},
   "source": [
    "Hi all, \n",
    "\n",
    "(excuse my grammar) \n",
    "\n",
    "This is roughly how you supposed to do your data cleaning:\n",
    "\n",
    "1.Fix all the abbreviations and non English words to their actual English words in your twitter-labelled.csv \n",
    "\n",
    "2.Run the bag of words and re-split the file like you did in checkpoint 1\n",
    "\n",
    "3.Do the attribute selection (play around with the criteria that you used to measure the usefulness of an attribute) as mentioned in my previous email.  Remember that an attribute selection criteria suitable for j48 may not be suitable (producing good result)  for other classifiers. \n",
    "\n",
    "4.Use cross validation or the validation set on the 4 classifiers that you have chosen to see whether or not you need to clean some more of your data\n",
    "\n",
    "5.If you need to clean it some more,  use clustering method. First, make sure that the cluster produce groups that if you total all of its class distribution is sort of similar (closest) to the one that you want. Next, see what attributes are used to strongly define each cluster. Try to remove attribute that does not define a cluster (I. E they almost belong to two or more clusters with different label) \n",
    "\n",
    "6.Repeat 3-5 until you are happy with the cleaning \n",
    "\n",
    "7.Modify the parameters on each classifier to improve the performance \n",
    "\n",
    "8.Lastly Test it on the test set.  Remember don't use the test set at all during data cleaning or parameter tuning \n",
    "\n",
    "Aim to get 60-80% performance on validation or cross validation set.  You don't have to do both. Just cross validation is ok smile \n",
    "\n",
    " Sorry I am not going to be in front of my computer this weekend so can't help you run your arff. However, you can email me if you have any questions. \n",
    "\n",
    "Regards, \n",
    "\n",
    "Veronica "
   ]
  },
  {
   "cell_type": "markdown",
   "metadata": {},
   "source": [
    "**Exercise:** Load the student grade dataset and use the Naive Bayes classifier to predict the class grade based on all the assignment results.\n",
    "\n",
    "First train all the data and test the accuracy.\n",
    "\n",
    "Then use different number of folds to test the accuracy of the generalization of your classifiers.\n",
    "\n",
    "Lastly, experiment with using different combinations of assignment features and observe if the accuracy increases/decreases as you omit some of them."
   ]
  },
  {
   "cell_type": "code",
   "execution_count": 1,
   "metadata": {
    "collapsed": true
   },
   "outputs": [],
   "source": [
    "import pandas as pd\n",
    "from pandas import Series,DataFrame\n",
    "import numpy as np\n",
    "  \n",
    "import matplotlib.pyplot as plt\n",
    "import matplotlib\n",
    "matplotlib.style.use(\"ggplot\")\n",
    "%matplotlib inline\n",
    "\n",
    "from __future__ import division\n",
    "\n",
    "import seaborn as sns\n",
    "sns.set_style(\"whitegrid\")\n",
    "\n",
    "#pd.set_option(\"display.notebook_repr_html\",True)\n",
    "pd.set_option(\"display.max_columns\",15)\n",
    "pd.set_option(\"display.max_rows\",6)\n",
    "pd.set_option(\"display.width\",78)\n",
    "pd.set_option(\"precision\",4)\n",
    "from pylab import rcParams\n",
    "\n",
    "sns.set(style=\"ticks\")\n",
    "rcParams['figure.dpi'] = 350\n",
    "rcParams['lines.linewidth'] = 2\n",
    "rcParams['axes.facecolor'] = 'white'\n",
    "rcParams['patch.edgecolor'] = 'white'\n",
    "rcParams['font.family'] = 'StixGeneral'\n",
    "rcParams['figure.figsize'] = 10,8\n",
    "rcParams['font.size'] = 15\n",
    "\n",
    "rcParams['axes.labelsize'] = 'large'\n",
    "rcParams['xtick.labelsize'] = 15\n",
    "rcParams['ytick.labelsize'] = 15"
   ]
  },
  {
   "cell_type": "code",
   "execution_count": 2,
   "metadata": {
    "collapsed": true
   },
   "outputs": [],
   "source": [
    "#from ftplib import FTP, error_perm\n",
    "import os\n",
    "import glob\n",
    "#import pandas as pd\n",
    "#import numpy as np\n",
    "#import patoolib\n",
    "import seaborn as sns\n",
    "import simplekml"
   ]
  },
  {
   "cell_type": "code",
   "execution_count": 3,
   "metadata": {
    "collapsed": true
   },
   "outputs": [],
   "source": [
    "from sklearn.naive_bayes import GaussianNB\n",
    "nb = GaussianNB()"
   ]
  },
  {
   "cell_type": "code",
   "execution_count": 4,
   "metadata": {
    "collapsed": false
   },
   "outputs": [],
   "source": [
    "df_machine_data = pd.read_csv(\"Concatenated_machine_data.csv\", index_col=\"id\")\n",
    "#df=pandas.read_csv(filename,sep=\";\",index_col=\"id\",header=0)"
   ]
  },
  {
   "cell_type": "code",
   "execution_count": 5,
   "metadata": {
    "collapsed": false
   },
   "outputs": [
    {
     "data": {
      "text/html": [
       "<div>\n",
       "<table border=\"1\" class=\"dataframe\">\n",
       "  <thead>\n",
       "    <tr style=\"text-align: right;\">\n",
       "      <th></th>\n",
       "      <th>event_timestamp</th>\n",
       "      <th>course_over_ground</th>\n",
       "      <th>machine_id</th>\n",
       "      <th>vehicle_weight_type</th>\n",
       "      <th>speed_gps_kph</th>\n",
       "      <th>latitude</th>\n",
       "      <th>longitude</th>\n",
       "    </tr>\n",
       "    <tr>\n",
       "      <th>id</th>\n",
       "      <th></th>\n",
       "      <th></th>\n",
       "      <th></th>\n",
       "      <th></th>\n",
       "      <th></th>\n",
       "      <th></th>\n",
       "      <th></th>\n",
       "    </tr>\n",
       "  </thead>\n",
       "  <tbody>\n",
       "    <tr>\n",
       "      <th>1.4642e+10</th>\n",
       "      <td>2015-11-15 17:46:40</td>\n",
       "      <td>177</td>\n",
       "      <td>10051</td>\n",
       "      <td>HEAVY</td>\n",
       "      <td>3</td>\n",
       "      <td>-36.7256</td>\n",
       "      <td>174.7148</td>\n",
       "    </tr>\n",
       "    <tr>\n",
       "      <th>1.4643e+10</th>\n",
       "      <td>2015-11-15 18:12:41</td>\n",
       "      <td>156</td>\n",
       "      <td>10051</td>\n",
       "      <td>HEAVY</td>\n",
       "      <td>13</td>\n",
       "      <td>-36.7695</td>\n",
       "      <td>174.7416</td>\n",
       "    </tr>\n",
       "    <tr>\n",
       "      <th>1.4642e+10</th>\n",
       "      <td>2015-11-15 17:44:30</td>\n",
       "      <td>169</td>\n",
       "      <td>10051</td>\n",
       "      <td>HEAVY</td>\n",
       "      <td>0</td>\n",
       "      <td>-36.7231</td>\n",
       "      <td>174.7144</td>\n",
       "    </tr>\n",
       "    <tr>\n",
       "      <th>1.4642e+10</th>\n",
       "      <td>2015-11-15 18:00:47</td>\n",
       "      <td>150</td>\n",
       "      <td>10051</td>\n",
       "      <td>HEAVY</td>\n",
       "      <td>17</td>\n",
       "      <td>-36.7474</td>\n",
       "      <td>174.7234</td>\n",
       "    </tr>\n",
       "    <tr>\n",
       "      <th>1.4642e+10</th>\n",
       "      <td>2015-11-15 17:49:43</td>\n",
       "      <td>249</td>\n",
       "      <td>10051</td>\n",
       "      <td>HEAVY</td>\n",
       "      <td>6</td>\n",
       "      <td>-36.7283</td>\n",
       "      <td>174.7151</td>\n",
       "    </tr>\n",
       "  </tbody>\n",
       "</table>\n",
       "</div>"
      ],
      "text/plain": [
       "                event_timestamp  course_over_ground  machine_id  \\\n",
       "id                                                                \n",
       "1.4642e+10  2015-11-15 17:46:40                 177       10051   \n",
       "1.4643e+10  2015-11-15 18:12:41                 156       10051   \n",
       "1.4642e+10  2015-11-15 17:44:30                 169       10051   \n",
       "1.4642e+10  2015-11-15 18:00:47                 150       10051   \n",
       "1.4642e+10  2015-11-15 17:49:43                 249       10051   \n",
       "\n",
       "           vehicle_weight_type  speed_gps_kph  latitude  longitude  \n",
       "id                                                                  \n",
       "1.4642e+10               HEAVY              3  -36.7256   174.7148  \n",
       "1.4643e+10               HEAVY             13  -36.7695   174.7416  \n",
       "1.4642e+10               HEAVY              0  -36.7231   174.7144  \n",
       "1.4642e+10               HEAVY             17  -36.7474   174.7234  \n",
       "1.4642e+10               HEAVY              6  -36.7283   174.7151  "
      ]
     },
     "execution_count": 5,
     "metadata": {},
     "output_type": "execute_result"
    }
   ],
   "source": [
    "df_machine_data.head()"
   ]
  },
  {
   "cell_type": "code",
   "execution_count": 6,
   "metadata": {
    "collapsed": true
   },
   "outputs": [],
   "source": [
    "df= df_machine_data.dropna()"
   ]
  },
  {
   "cell_type": "code",
   "execution_count": null,
   "metadata": {
    "collapsed": true
   },
   "outputs": [],
   "source": [
    "# Set up our figure by naming it fig, call PairPLot on the DataFrame\n",
    "#fig = sns.PairGrid(df[[2,5]])\n",
    "\n",
    "# Using map_upper we can specify what the upper triangle will look like.\n",
    "#fig.map_upper(plt.scatter,color='purple')\n",
    "\n",
    "# We can also define the lower triangle in the figure, inclufing the plot type (kde) or the color map (BluePurple)\n",
    "#fig.map_lower(sns.kdeplot,cmap='cool_d')\n",
    "\n",
    "# Finally we'll define the diagonal as a series of histogram plots of the daily return\n",
    "#fig.map_diag(plt.hist,bins=30)"
   ]
  },
  {
   "cell_type": "code",
   "execution_count": 9,
   "metadata": {
    "collapsed": false
   },
   "outputs": [
    {
     "data": {
      "image/png": "[encoded data removed]",
      "text/plain": [
       "<matplotlib.figure.Figure at 0xc8d34e0>"
      ]
     },
     "metadata": {},
     "output_type": "display_data"
    }
   ],
   "source": [
    "fig = sns.PairGrid(df[[1,4]])"
   ]
  },
  {
   "cell_type": "code",
   "execution_count": 27,
   "metadata": {
    "collapsed": false
   },
   "outputs": [
    {
     "data": {
      "text/plain": [
       "array(['HEAVY', 'LIGHT'], dtype=object)"
      ]
     },
     "execution_count": 27,
     "metadata": {},
     "output_type": "execute_result"
    }
   ],
   "source": [
    "#df.Class.unique()\n",
    "#df.dtypes\n",
    "df.vehicle_weight_type.unique()"
   ]
  },
  {
   "cell_type": "code",
   "execution_count": 10,
   "metadata": {
    "collapsed": false
   },
   "outputs": [
    {
     "data": {
      "text/plain": [
       "event_timestamp        object\n",
       "course_over_ground      int64\n",
       "machine_id              int64\n",
       "                       ...   \n",
       "speed_gps_kph           int64\n",
       "latitude              float64\n",
       "longitude             float64\n",
       "dtype: object"
      ]
     },
     "execution_count": 10,
     "metadata": {},
     "output_type": "execute_result"
    }
   ],
   "source": [
    "df.dtypes"
   ]
  },
  {
   "cell_type": "code",
   "execution_count": 48,
   "metadata": {
    "collapsed": true
   },
   "outputs": [],
   "source": [
    "#df['Class'].replace('3', 0, inplace=True)"
   ]
  },
  {
   "cell_type": "markdown",
   "metadata": {},
   "source": [
    "In classification problems, the **ability to separate classes** from one another is the most important consideration. Histograms of the feature values per class type, can be a useful tool for **eyeballing** some features and to get a rough feeling for their **discriminative power**. \n",
    "\n",
    "Here we are visualising the histograms of the two features for each of the two vehicle weight type:"
   ]
  },
  {
   "cell_type": "code",
   "execution_count": 56,
   "metadata": {
    "collapsed": false
   },
   "outputs": [
    {
     "data": {
      "image/png": "[encoded data removed]",
      "text/plain": [
       "<matplotlib.figure.Figure at 0x173a76a0>"
      ]
     },
     "metadata": {},
     "output_type": "display_data"
    }
   ],
   "source": [
    "from matplotlib import pyplot as plt\n",
    "\n",
    "plt.figure(figsize=(10,8))\n",
    "\n",
    "colors = ('blue', 'red')\n",
    "\n",
    "for label,color in zip(['HEAVY', 'LIGHT'], colors):\n",
    "    mean = np.mean(df['course_over_ground'][df['vehicle_weight_type'] == label]) # class sample mean\n",
    "    stdev = np.std(df['course_over_ground'][df['vehicle_weight_type'] == label]) # class standard deviation\n",
    "    df['course_over_ground'][df['vehicle_weight_type'] == label].hist(alpha=0.3, # opacity level\n",
    "             label='Vehicle_Weight-Type {} ($\\mu={:.2f}$, $\\sigma={:.2f}$)'.format(label, mean, stdev), \n",
    "             color=color,\n",
    "             bins=15)\n",
    "\n",
    "plt.title('Machine data set - Distribution of Course Over Ground')\n",
    "plt.xlabel('Course Over Ground', fontsize=14)\n",
    "plt.ylabel('count', fontsize=14)\n",
    "plt.legend(loc='upper right')\n",
    "\n",
    "plt.show()"
   ]
  },
  {
   "cell_type": "code",
   "execution_count": 58,
   "metadata": {
    "collapsed": false
   },
   "outputs": [
    {
     "data": {
      "image/png": "[encoded data removed]",
      "text/plain": [
       "<matplotlib.figure.Figure at 0x1250a780>"
      ]
     },
     "metadata": {},
     "output_type": "display_data"
    }
   ],
   "source": [
    "from matplotlib import pyplot as plt\n",
    "\n",
    "plt.figure(figsize=(10,8))\n",
    "\n",
    "colors = ('blue', 'red')\n",
    "\n",
    "for label,color in zip(['HEAVY', 'LIGHT'], colors):\n",
    "    mean = np.mean(df['speed_gps_kph'][df['vehicle_weight_type'] == label]) # class sample mean\n",
    "    stdev = np.std(df['speed_gps_kph'][df['vehicle_weight_type'] == label]) # class standard deviation\n",
    "    df['speed_gps_kph'][df['vehicle_weight_type'] == label].hist(alpha=0.3, # opacity level\n",
    "             label='Vehicle_Weight-Type {} ($\\mu={:.2f}$, $\\sigma={:.2f}$)'.format(label, mean, stdev), \n",
    "             color=color,\n",
    "             bins=15)\n",
    "\n",
    "plt.title('Machine data set - Distribution of Speed Kph')\n",
    "plt.xlabel('Speed Kph', fontsize=14)\n",
    "plt.ylabel('count', fontsize=14)\n",
    "plt.legend(loc='upper right')\n",
    "\n",
    "plt.show()"
   ]
  },
  {
   "cell_type": "code",
   "execution_count": null,
   "metadata": {
    "collapsed": true
   },
   "outputs": [],
   "source": []
  },
  {
   "cell_type": "markdown",
   "metadata": {
    "collapsed": true
   },
   "source": [
    "### Classifier - Naive Bayes"
   ]
  },
  {
   "cell_type": "markdown",
   "metadata": {},
   "source": [
    "We can train a Naive Bayes classifier on all our training data as follows and use the model for prediction:"
   ]
  },
  {
   "cell_type": "code",
   "execution_count": 29,
   "metadata": {
    "collapsed": false
   },
   "outputs": [
    {
     "data": {
      "text/plain": [
       "GaussianNB()"
      ]
     },
     "execution_count": 29,
     "metadata": {},
     "output_type": "execute_result"
    }
   ],
   "source": [
    "classifier = nb.fit(df[['course_over_ground','speed_gps_kph']], df['vehicle_weight_type'])\n",
    "classifier"
   ]
  },
  {
   "cell_type": "markdown",
   "metadata": {},
   "source": [
    "We can find out how well our classifier learned the training dataset based on overall accuracy:"
   ]
  },
  {
   "cell_type": "code",
   "execution_count": 30,
   "metadata": {
    "collapsed": false
   },
   "outputs": [
    {
     "data": {
      "text/plain": [
       "0.8198157232196468"
      ]
     },
     "execution_count": 30,
     "metadata": {},
     "output_type": "execute_result"
    }
   ],
   "source": [
    "classifier.score(df[['course_over_ground','speed_gps_kph']], df['vehicle_weight_type'])"
   ]
  },
  {
   "cell_type": "markdown",
   "metadata": {},
   "source": [
    "If we want to split the dataset into a training and test set with the test set comprising 20% is the dataset, we do as follows:"
   ]
  },
  {
   "cell_type": "code",
   "execution_count": 31,
   "metadata": {
    "collapsed": false
   },
   "outputs": [
    {
     "name": "stdout",
     "output_type": "stream",
     "text": [
      "(455662, 2)\n",
      "(113916, 2)\n",
      "(455662L,)\n",
      "(113916L,)\n"
     ]
    }
   ],
   "source": [
    "# split into training and testing sets\n",
    "from sklearn.cross_validation import train_test_split\n",
    "X_train, X_test, y_train, y_test = train_test_split(df[['course_over_ground','speed_gps_kph']], df['vehicle_weight_type'], random_state=1, test_size=0.2)\n",
    "print X_train.shape\n",
    "print X_test.shape\n",
    "\n",
    "print y_train.shape\n",
    "print y_test.shape"
   ]
  },
  {
   "cell_type": "markdown",
   "metadata": {},
   "source": [
    "We can now train the classifier on the training dataset and test it on the unseen dataset:"
   ]
  },
  {
   "cell_type": "code",
   "execution_count": 39,
   "metadata": {
    "collapsed": false
   },
   "outputs": [
    {
     "data": {
      "text/plain": [
       "array(['HEAVY', 'HEAVY', 'HEAVY', ..., 'HEAVY', 'HEAVY', 'HEAVY'], \n",
       "      dtype='|S5')"
      ]
     },
     "execution_count": 39,
     "metadata": {},
     "output_type": "execute_result"
    }
   ],
   "source": [
    "classifier = nb.fit(X_train, y_train)\n",
    "y_pred = classifier.predict(X_test)\n",
    "y_pred"
   ]
  },
  {
   "cell_type": "code",
   "execution_count": 40,
   "metadata": {
    "collapsed": false
   },
   "outputs": [
    {
     "data": {
      "text/plain": [
       "0.81962147547315567"
      ]
     },
     "execution_count": 40,
     "metadata": {},
     "output_type": "execute_result"
    }
   ],
   "source": [
    "classifier.score(X_test, y_test)"
   ]
  },
  {
   "cell_type": "markdown",
   "metadata": {},
   "source": [
    "We can generate a more comprehensive accuracy report:"
   ]
  },
  {
   "cell_type": "code",
   "execution_count": 42,
   "metadata": {
    "collapsed": false
   },
   "outputs": [
    {
     "name": "stdout",
     "output_type": "stream",
     "text": [
      "             precision    recall  f1-score   support\n",
      "\n",
      "      HEAVY       0.82      1.00      0.90     93409\n",
      "      LIGHT       0.46      0.01      0.02     20507\n",
      "\n",
      "avg / total       0.76      0.82      0.74    113916\n",
      "\n"
     ]
    }
   ],
   "source": [
    "from sklearn import metrics\n",
    "print metrics.classification_report(y_test, y_pred)"
   ]
  },
  {
   "cell_type": "markdown",
   "metadata": {},
   "source": [
    "Let's see what the confusion matrix looks like:"
   ]
  },
  {
   "cell_type": "code",
   "execution_count": 43,
   "metadata": {
    "collapsed": false
   },
   "outputs": [
    {
     "name": "stdout",
     "output_type": "stream",
     "text": [
      "[[93155   254]\n",
      " [20294   213]]\n"
     ]
    }
   ],
   "source": [
    "print metrics.confusion_matrix(y_test, y_pred)"
   ]
  },
  {
   "cell_type": "markdown",
   "metadata": {},
   "source": [
    "If we would prefer to use stratified cross-fold validations, then:"
   ]
  },
  {
   "cell_type": "code",
   "execution_count": 44,
   "metadata": {
    "collapsed": false
   },
   "outputs": [
    {
     "data": {
      "text/plain": [
       "array([ 0.81947858,  0.8193908 ,  0.81916341,  0.82004126,  0.82003336])"
      ]
     },
     "execution_count": 44,
     "metadata": {},
     "output_type": "execute_result"
    }
   ],
   "source": [
    "from sklearn.cross_validation import cross_val_score\n",
    "classifierNB = GaussianNB()\n",
    "scores = cross_val_score(classifierNB, X_test, y_test, cv=5, scoring='accuracy')\n",
    "scores"
   ]
  },
  {
   "cell_type": "markdown",
   "metadata": {},
   "source": [
    "The code above uses 5 folds and uses accuracy for a general evaluation metric. The returned result is accuracy for each of the folds.\n",
    "\n",
    "We can find the mean and standard deviation of all the results:"
   ]
  },
  {
   "cell_type": "code",
   "execution_count": 45,
   "metadata": {
    "collapsed": false,
    "scrolled": true
   },
   "outputs": [
    {
     "name": "stdout",
     "output_type": "stream",
     "text": [
      "mean is:  0.819621482368\n",
      "STD is:  0.000354772898315\n"
     ]
    }
   ],
   "source": [
    "print 'mean is: ', scores.mean()\n",
    "print 'STD is: ', scores.std()"
   ]
  },
  {
   "cell_type": "markdown",
   "metadata": {},
   "source": [
    "If we want to split the dataset into a training and test set with the test set comprising 20% is the dataset, we do as follows:"
   ]
  }
 ],
 "metadata": {
  "anaconda-cloud": {},
  "kernelspec": {
   "display_name": "Python [Root]",
   "language": "python",
   "name": "Python [Root]"
  },
  "language_info": {
   "codemirror_mode": {
    "name": "ipython",
    "version": 2
   },
   "file_extension": ".py",
   "mimetype": "text/x-python",
   "name": "python",
   "nbconvert_exporter": "python",
   "pygments_lexer": "ipython2",
   "version": "2.7.12"
  }
 },
 "nbformat": 4,
 "nbformat_minor": 0
}
