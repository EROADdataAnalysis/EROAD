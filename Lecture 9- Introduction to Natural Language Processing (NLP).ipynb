{
 "cells": [
  {
   "cell_type": "code",
   "execution_count": null,
   "metadata": {
    "collapsed": true
   },
   "outputs": [],
   "source": [
    "from IPython.core.display import display, HTML\n",
    "display(HTML(\"<style>.container { width:90% !important; }</style>\"))"
   ]
  },
  {
   "cell_type": "markdown",
   "metadata": {},
   "source": [
    "# Lecture 9- Introduction to Natural Language Processing"
   ]
  },
  {
   "cell_type": "markdown",
   "metadata": {},
   "source": [
    "# Table of Contents\n",
    "* [Lecture 9- Introduction to Natural Language Processing](#Lecture-9--Introduction-to-Natural-Language-Processing)\n",
    "\t* &nbsp;\n",
    "\t\t* [Content](#Content)\n",
    "\t\t* [Learning Outcomes](#Learning-Outcomes)\n",
    "* [1 NLP Basics](#1-NLP-Basics)\n",
    "\t* [Natural Language Toolkit (NLTK)](#Natural-Language-Toolkit-%28NLTK%29)\n",
    "\t* [Working with corpora text](#Working-with-corpora-text)\n",
    "\t* [Create a user-defined tokenizer](#Create-a-user-defined-tokenizer)\n",
    "\t* [Working with non-corpora text](#Working-with-non-corpora-text)\n",
    "\t* [1.1 Acquire Data](#1.1-Acquire-Data)\n",
    "\t* [1.2 Clean Text](#1.2-Clean-Text)\n",
    "\t* [1.3 Tokenize Text](#1.3-Tokenize-Text)\n",
    "\t* [1.4 Text Normalization](#1.4-Text-Normalization)\n",
    "\t\t* [Stemming](#Stemming)\n",
    "\t\t* [Lemmatization](#Lemmatization)\n",
    "* [2. Text Semantic Analysis](#2.-Text-Semantic-Analysis)\n",
    "\t* [Analysing text - Collocations and n-grams](#Analysing-text---Collocations-and-n-grams)\n",
    "* [3. Text Mining - Automated Document Summarization](#3.-Text-Mining---Automated-Document-Summarization)\n",
    "\t* &nbsp;\n",
    "\t\t* [Document topic discovery](#Document-topic-discovery)\n",
    "\t\t* [Text summarization](#Text-summarization)\n"
   ]
  },
  {
   "cell_type": "markdown",
   "metadata": {},
   "source": [
    "---"
   ]
  },
  {
   "cell_type": "markdown",
   "metadata": {},
   "source": [
    "### Content"
   ]
  },
  {
   "cell_type": "markdown",
   "metadata": {},
   "source": [
    "1. Intro to NLP \n",
    "2. NLTK basics - working with corpora, free text, tokenization, stemming\n",
    "3. Introductory semantic analysis - collocations, part-of-speech, chunking\n",
    "4. Automatic document summarization"
   ]
  },
  {
   "cell_type": "markdown",
   "metadata": {},
   "source": [
    "### Learning Outcomes"
   ]
  },
  {
   "cell_type": "markdown",
   "metadata": {},
   "source": [
    "At the end of this lecture, you should be able to:\n",
    "\n",
    "* describe the basic components of conducting NLP\n",
    "* perform basic operations using the NLTK\n",
    "* apply algorithms to documents in order to produce summaries\n",
    "* perform introductory level text analysis\n",
    "\n",
    "Content in this notebook is based on material in :\n",
    ">Russell, M. A. (2013). Mining the Social Web: Data Mining Facebook, Twitter, LinkedIn, Google+, GitHub, and More. \" O'Reilly Media, Inc.\". Chicago\n",
    "\n",
    "> Bird, S., Klein, E., & Loper, E. (2009). Natural language processing with Python. \" O'Reilly Media, Inc.\".\n",
    "\n",
    "---"
   ]
  },
  {
   "cell_type": "code",
   "execution_count": 1,
   "metadata": {
    "collapsed": false,
    "scrolled": true
   },
   "outputs": [
    {
     "data": {
      "text/html": [
       "<iframe src=http://www.wsj.com/articles/googles-open-source-parsey-mcparseface-helps-machines-understand-english-1463088180 width=1000 height=450></iframe>"
      ],
      "text/plain": [
       "<IPython.core.display.HTML object>"
      ]
     },
     "execution_count": 1,
     "metadata": {},
     "output_type": "execute_result"
    }
   ],
   "source": [
    "from IPython.core.display import HTML\n",
    "HTML(\"<iframe src=http://www.wsj.com/articles/googles-open-source-parsey-mcparseface-helps-machines-understand-english-1463088180 width=1000 height=450></iframe>\")"
   ]
  },
  {
   "cell_type": "code",
   "execution_count": 2,
   "metadata": {
    "collapsed": false
   },
   "outputs": [
    {
     "data": {
      "text/html": [
       "<iframe src=https://www.rt.com/usa/342982-google-artificial-intelligence-software/ width=1000 height=450></iframe>"
      ],
      "text/plain": [
       "<IPython.core.display.HTML object>"
      ]
     },
     "execution_count": 2,
     "metadata": {},
     "output_type": "execute_result"
    }
   ],
   "source": [
    "from IPython.core.display import HTML\n",
    "HTML(\"<iframe src=https://www.rt.com/usa/342982-google-artificial-intelligence-software/ width=1000 height=450></iframe>\")\n"
   ]
  },
  {
   "cell_type": "markdown",
   "metadata": {},
   "source": [
    "http://www.cnet.com/news/google-offers-parsey-mcparseface-and-syntaxnet-ai-software-for-free/"
   ]
  },
  {
   "cell_type": "markdown",
   "metadata": {},
   "source": [
    "# 1 NLP Basics"
   ]
  },
  {
   "cell_type": "markdown",
   "metadata": {},
   "source": [
    "Technologies based on NLP are becoming increasingly widespread. For example,\n",
    "phones and handheld computers support predictive text and handwriting recognition;\n",
    "web search engines give access to information locked up in unstructured text and machine\n",
    "translation. On top of this, with the explosion in social media, text mining, text analytics and semantic analysis have become big areas or research.\n",
    "\n",
    "NLP is important for scientific, economic, social, and cultural reasons. \n",
    "\n",
    "NLP is experiencing rapid growth as its theories and methods are deployed in a variety of new language\n",
    "technologies. For this reason it is important for a wide range of people to have a\n",
    "working knowledge of NLP. \n",
    "\n",
    "Within industry, this includes people in human-computer\n",
    "interaction, business information analysis, and web software development. Within\n",
    "academia, it includes people in areas from humanities computing and corpus linguistics\n",
    "through to computer science and artificial intelligence. In academia, NLP is known by the name of “Computational Linguistics.”\n",
    "\n",
    "> Bird, S., Klein, E., & Loper, E. (2009). Natural language processing with Python. \" O'Reilly Media, Inc.\"."
   ]
  },
  {
   "cell_type": "markdown",
   "metadata": {},
   "source": [
    "## Natural Language Toolkit (NLTK)"
   ]
  },
  {
   "cell_type": "markdown",
   "metadata": {},
   "source": [
    "NLTK was originally created in 2001 as part of a computational linguistics course in\n",
    "the Department of Computer and Information Science at the University of Pennsylvania.\n",
    "Since then it has been developed and expanded with the help of dozens of contributors.\n",
    "It has now been adopted in courses in dozens of universities, and serves as\n",
    "the basis of many research projects."
   ]
  },
  {
   "cell_type": "markdown",
   "metadata": {},
   "source": [
    "## Working with corpora text"
   ]
  },
  {
   "cell_type": "markdown",
   "metadata": {},
   "source": [
    "Some text documents have been compiled into corpora which are available for analysis."
   ]
  },
  {
   "cell_type": "code",
   "execution_count": 3,
   "metadata": {
    "collapsed": true
   },
   "outputs": [],
   "source": [
    "import pandas as pd\n",
    "import numpy as np\n",
    "import matplotlib as mtpl\n",
    "import matplotlib.pyplot as plt\n",
    "import seaborn as sns"
   ]
  },
  {
   "cell_type": "code",
   "execution_count": 4,
   "metadata": {
    "collapsed": true
   },
   "outputs": [],
   "source": [
    "from pylab import rcParams\n",
    "rcParams['figure.figsize'] = 15, 10\n",
    "rcParams['font.size'] = 20\n",
    "rcParams['figure.dpi'] = 350\n",
    "rcParams['lines.linewidth'] = 2\n",
    "rcParams['axes.facecolor'] = 'white'\n",
    "rcParams['patch.edgecolor'] = 'white'\n",
    "rcParams['font.family'] = 'StixGeneral'"
   ]
  },
  {
   "cell_type": "code",
   "execution_count": 5,
   "metadata": {
    "collapsed": true
   },
   "outputs": [],
   "source": [
    "import nltk"
   ]
  },
  {
   "cell_type": "markdown",
   "metadata": {
    "collapsed": true
   },
   "source": [
    "The following command enables us to download and install text corpora and extra packages through NLTK:"
   ]
  },
  {
   "cell_type": "code",
   "execution_count": 6,
   "metadata": {
    "collapsed": false
   },
   "outputs": [
    {
     "name": "stdout",
     "output_type": "stream",
     "text": [
      "showing info https://raw.githubusercontent.com/nltk/nltk_data/gh-pages/index.xml\n"
     ]
    },
    {
     "data": {
      "text/plain": [
       "True"
      ]
     },
     "execution_count": 6,
     "metadata": {},
     "output_type": "execute_result"
    }
   ],
   "source": [
    "#make sure you set up your massey log in credentials if you are doing this in the lab\n",
    "#nltk.set_proxy('http://alb-cache.massey.ac.nz/:8080', ('<YOUR_USERNAME>', '<YOUR_PASSWORD>'))\n",
    "\n",
    "nltk.download()\n",
    "#when the NLTK Donwloader window pops up, select the 'book' identifier and then press the download button to download att the necessary corpora"
   ]
  },
  {
   "cell_type": "markdown",
   "metadata": {},
   "source": [
    "The Reuters Corpus contains 10,788 news documents totalling 1.3 million words. The\n",
    "documents have been classified into 90 topics, and grouped into two sets, called “training”\n",
    "and “test”; thus, the text with fileid 'test/14826' is a document drawn from the\n",
    "test set. \n",
    "\n",
    "This split is for training and testing algorithms that automatically detect the\n",
    "topic of a document. Each corpus is a compiled object that encapsulates the text and can perform a range of operations on.\n"
   ]
  },
  {
   "cell_type": "code",
   "execution_count": 8,
   "metadata": {
    "collapsed": false
   },
   "outputs": [],
   "source": [
    "from nltk.corpus import reuters"
   ]
  },
  {
   "cell_type": "code",
   "execution_count": 9,
   "metadata": {
    "collapsed": false,
    "scrolled": true
   },
   "outputs": [
    {
     "data": {
      "text/plain": [
       "u\"ASIAN EXPORTERS FEAR DAMAGE FROM U.S.-JAPAN RIFT\\n  Mounting trade friction between the\\n  U.S. And Japan has raised fears among many of Asia's exporting\\n  nations that the row could inflict far-reaching economic\\n  damage, businessmen and officials said.\\n      They told Reuter correspondents in Asian capitals a U.S.\\n  Move against Japan might boost protectionist sentiment in the\\n  U.S. And lead to curbs on American imports of their products.\\n      But some exporters said that while the conflict would hurt\\n  them in the long-run, in the short-term Tokyo's loss might be\\n  their gain.\\n      The U.S. Has said it will impose 300 mln dlrs of tariffs on\\n  imports of Japanese electronics goods on April 17, in\\n  retaliation for Japan's alleged failure to stick to a pact not\\n  to sell semiconductors on world markets at below cost.\\n      Unofficial Japanese estimates put the impact of the tariffs\\n  at 10 billion dlrs and spokesmen for major electronics firms\\n  said they would virtually halt exports\""
      ]
     },
     "execution_count": 9,
     "metadata": {},
     "output_type": "execute_result"
    }
   ],
   "source": [
    "raw = reuters.raw()\n",
    "raw[:1000]"
   ]
  },
  {
   "cell_type": "markdown",
   "metadata": {},
   "source": [
    "Some of the corpora that have been compiled come with categories:"
   ]
  },
  {
   "cell_type": "code",
   "execution_count": 10,
   "metadata": {
    "collapsed": false,
    "scrolled": true
   },
   "outputs": [
    {
     "data": {
      "text/plain": [
       "[u'acq',\n",
       " u'alum',\n",
       " u'barley',\n",
       " u'bop',\n",
       " u'carcass',\n",
       " u'castor-oil',\n",
       " u'cocoa',\n",
       " u'coconut',\n",
       " u'coconut-oil',\n",
       " u'coffee']"
      ]
     },
     "execution_count": 10,
     "metadata": {},
     "output_type": "execute_result"
    }
   ],
   "source": [
    "reuters.categories()[:10]"
   ]
  },
  {
   "cell_type": "code",
   "execution_count": 11,
   "metadata": {
    "collapsed": false,
    "scrolled": false
   },
   "outputs": [
    {
     "data": {
      "text/plain": [
       "[u'ASIAN',\n",
       " u'EXPORTERS',\n",
       " u'FEAR',\n",
       " u'DAMAGE',\n",
       " u'FROM',\n",
       " u'U',\n",
       " u'.',\n",
       " u'S',\n",
       " u'.-',\n",
       " u'JAPAN',\n",
       " u'RIFT',\n",
       " u'Mounting',\n",
       " u'trade',\n",
       " u'friction',\n",
       " u'between',\n",
       " u'the',\n",
       " u'U',\n",
       " u'.',\n",
       " u'S',\n",
       " u'.',\n",
       " u'And',\n",
       " u'Japan',\n",
       " u'has',\n",
       " u'raised',\n",
       " u'fears',\n",
       " u'among',\n",
       " u'many',\n",
       " u'of',\n",
       " u'Asia',\n",
       " u\"'\"]"
      ]
     },
     "execution_count": 11,
     "metadata": {},
     "output_type": "execute_result"
    }
   ],
   "source": [
    "reuters.words()[:30]"
   ]
  },
  {
   "cell_type": "code",
   "execution_count": 12,
   "metadata": {
    "collapsed": false
   },
   "outputs": [
    {
     "data": {
      "text/plain": [
       "[u'U', u'.', u'S', u'.', u'INDUSTRIAL', u'CAPACITY', ...]"
      ]
     },
     "execution_count": 12,
     "metadata": {},
     "output_type": "execute_result"
    }
   ],
   "source": [
    "reuters.words(categories=['cpu'])"
   ]
  },
  {
   "cell_type": "markdown",
   "metadata": {},
   "source": [
    "The following command gives us the files that are part of the corpus:"
   ]
  },
  {
   "cell_type": "code",
   "execution_count": 13,
   "metadata": {
    "collapsed": false,
    "scrolled": true
   },
   "outputs": [
    {
     "data": {
      "text/plain": [
       "['test/14826',\n",
       " 'test/14828',\n",
       " 'test/14829',\n",
       " 'test/14832',\n",
       " 'test/14833',\n",
       " 'test/14839',\n",
       " 'test/14840',\n",
       " 'test/14841',\n",
       " 'test/14842',\n",
       " 'test/14843',\n",
       " 'test/14844',\n",
       " 'test/14849',\n",
       " 'test/14852',\n",
       " 'test/14854',\n",
       " 'test/14858',\n",
       " 'test/14859',\n",
       " 'test/14860',\n",
       " 'test/14861',\n",
       " 'test/14862',\n",
       " 'test/14863',\n",
       " 'test/14865',\n",
       " 'test/14867',\n",
       " 'test/14872',\n",
       " 'test/14873',\n",
       " 'test/14875',\n",
       " 'test/14876',\n",
       " 'test/14877',\n",
       " 'test/14881',\n",
       " 'test/14882',\n",
       " 'test/14885']"
      ]
     },
     "execution_count": 13,
     "metadata": {},
     "output_type": "execute_result"
    }
   ],
   "source": [
    "reuters.fileids()[:30]"
   ]
  },
  {
   "cell_type": "markdown",
   "metadata": {},
   "source": [
    "Below are function names that can be called on each compiled corpus:"
   ]
  },
  {
   "cell_type": "raw",
   "metadata": {},
   "source": [
    "fileids()                 The files of the corpus\n",
    "fileids([categories])     The files of the corpus corresponding to these categories\n",
    "categories()              The categories of the corpus\n",
    "categories([fileids])     The categories of the corpus corresponding to these files\n",
    "raw()                     The raw content of the corpus\n",
    "raw(fileids=[f1,f2,f3])   The raw content of the specified files\n",
    "raw(categories=[c1,c2])   The raw content of the specified categories\n",
    "words()                   The words of the whole corpus\n",
    "words(fileids=[f1,f2,f3]) The words of the specified fileids\n",
    "words(categories=[c1,c2]) The words of the specified categories\n",
    "sents()                   The sentences of the specified categories\n",
    "sents(fileids=[f1,f2,f3]) The sentences of the specified fileids\n",
    "sents(categories=[c1,c2]) The sentences of the specified categories\n",
    "abspath(fileid)           The location of the given file on disk\n",
    "encoding(fileid)          The encoding of the file (if known)\n",
    "open(fileid)              Open a stream for reading the given corpus file\n",
    "root()                    The path to the root of locally installed corpus\n",
    "readme()                  The contents of the README file of the corpus"
   ]
  },
  {
   "cell_type": "code",
   "execution_count": 14,
   "metadata": {
    "collapsed": false,
    "scrolled": true
   },
   "outputs": [
    {
     "data": {
      "text/plain": [
       "[[u'ASIAN',\n",
       "  u'EXPORTERS',\n",
       "  u'FEAR',\n",
       "  u'DAMAGE',\n",
       "  u'FROM',\n",
       "  u'U',\n",
       "  u'.',\n",
       "  u'S',\n",
       "  u'.-',\n",
       "  u'JAPAN',\n",
       "  u'RIFT',\n",
       "  u'Mounting',\n",
       "  u'trade',\n",
       "  u'friction',\n",
       "  u'between',\n",
       "  u'the',\n",
       "  u'U',\n",
       "  u'.',\n",
       "  u'S',\n",
       "  u'.',\n",
       "  u'And',\n",
       "  u'Japan',\n",
       "  u'has',\n",
       "  u'raised',\n",
       "  u'fears',\n",
       "  u'among',\n",
       "  u'many',\n",
       "  u'of',\n",
       "  u'Asia',\n",
       "  u\"'\",\n",
       "  u's',\n",
       "  u'exporting',\n",
       "  u'nations',\n",
       "  u'that',\n",
       "  u'the',\n",
       "  u'row',\n",
       "  u'could',\n",
       "  u'inflict',\n",
       "  u'far',\n",
       "  u'-',\n",
       "  u'reaching',\n",
       "  u'economic',\n",
       "  u'damage',\n",
       "  u',',\n",
       "  u'businessmen',\n",
       "  u'and',\n",
       "  u'officials',\n",
       "  u'said',\n",
       "  u'.'],\n",
       " [u'They',\n",
       "  u'told',\n",
       "  u'Reuter',\n",
       "  u'correspondents',\n",
       "  u'in',\n",
       "  u'Asian',\n",
       "  u'capitals',\n",
       "  u'a',\n",
       "  u'U',\n",
       "  u'.',\n",
       "  u'S',\n",
       "  u'.',\n",
       "  u'Move',\n",
       "  u'against',\n",
       "  u'Japan',\n",
       "  u'might',\n",
       "  u'boost',\n",
       "  u'protectionist',\n",
       "  u'sentiment',\n",
       "  u'in',\n",
       "  u'the',\n",
       "  u'U',\n",
       "  u'.',\n",
       "  u'S',\n",
       "  u'.',\n",
       "  u'And',\n",
       "  u'lead',\n",
       "  u'to',\n",
       "  u'curbs',\n",
       "  u'on',\n",
       "  u'American',\n",
       "  u'imports',\n",
       "  u'of',\n",
       "  u'their',\n",
       "  u'products',\n",
       "  u'.']]"
      ]
     },
     "execution_count": 14,
     "metadata": {},
     "output_type": "execute_result"
    }
   ],
   "source": [
    "reuters.sents()[:2]"
   ]
  },
  {
   "cell_type": "markdown",
   "metadata": {},
   "source": [
    "We can calculate the distribution frequency of each of the words as follows: "
   ]
  },
  {
   "cell_type": "code",
   "execution_count": 15,
   "metadata": {
    "collapsed": false,
    "scrolled": true
   },
   "outputs": [
    {
     "data": {
      "text/plain": [
       "FreqDist({u'Durapipe': 1,\n",
       "          u'EXPLAIN': 2,\n",
       "          u'woods': 2,\n",
       "          u'hanging': 3,\n",
       "          u'hastily': 2,\n",
       "          u'localized': 1,\n",
       "          u'Schuster': 5,\n",
       "          u'regularize': 1,\n",
       "          u'LASR': 1,\n",
       "          u'LAST': 22,\n",
       "          u'Gelch': 2,\n",
       "          u'Gelco': 26,\n",
       "          u'refunding': 4,\n",
       "          u'Western': 224,\n",
       "          u'LASL': 2,\n",
       "          u'Spiridellis': 3,\n",
       "          u'passsengers': 1,\n",
       "          u'Valli': 1,\n",
       "          u'stipulate': 1,\n",
       "          u'replaces': 8,\n",
       "          u'Glatfelter': 4,\n",
       "          u'Elex': 2,\n",
       "          u'PORTLAND': 6,\n",
       "          u'bringing': 65,\n",
       "          u'XIDEX': 1,\n",
       "          u'OMMEREN': 1,\n",
       "          u'ASSETS': 46,\n",
       "          u'wooden': 1,\n",
       "          u'Pergamon': 3,\n",
       "          u'Loeb': 1,\n",
       "          u'wednesday': 1,\n",
       "          u'ORIENTED': 1,\n",
       "          u'Larsen': 2,\n",
       "          u'Cahit': 2,\n",
       "          u'shows': 54,\n",
       "          u'Chalaby': 3,\n",
       "          u'0053': 1,\n",
       "          u'elections': 27,\n",
       "          u'feasibility': 31,\n",
       "          u'271': 34,\n",
       "          u'272': 19,\n",
       "          u'273': 35,\n",
       "          u'274': 36,\n",
       "          u'275': 41,\n",
       "          u'276': 33,\n",
       "          u'277': 30,\n",
       "          u'278': 33,\n",
       "          u'279': 22,\n",
       "          u'Pampa': 11,\n",
       "          u'STRATEGY': 3,\n",
       "          u'dormancy': 7,\n",
       "          u'errors': 4,\n",
       "          u'reopens': 4,\n",
       "          u'Initially': 7,\n",
       "          u'cooking': 6,\n",
       "          u'Pharmacologist': 1,\n",
       "          u'BLOEDEL': 2,\n",
       "          u'Hamilton': 3,\n",
       "          u'designing': 2,\n",
       "          u'Niagara': 4,\n",
       "          u'Agfa': 1,\n",
       "          u'shocks': 1,\n",
       "          u'sation': 1,\n",
       "          u'SPY': 3,\n",
       "          u'WYOMING': 1,\n",
       "          u'perforations': 1,\n",
       "          u'affiliates': 26,\n",
       "          u'27p': 1,\n",
       "          u'china': 2,\n",
       "          u'wagyu': 2,\n",
       "          u'affiliated': 33,\n",
       "          u'doldrums': 2,\n",
       "          u'MATCHES': 3,\n",
       "          u'climbed': 33,\n",
       "          u'controversy': 11,\n",
       "          u'MONSANTO': 7,\n",
       "          u'Bandied': 1,\n",
       "          u'Shelbourne': 1,\n",
       "          u'BILLBOARD': 3,\n",
       "          u'spotty': 2,\n",
       "          u'LAWSUIT': 3,\n",
       "          u'Stearn': 3,\n",
       "          u'sharemarket': 1,\n",
       "          u'CALLON': 1,\n",
       "          u'millimetres': 1,\n",
       "          u'golden': 6,\n",
       "          u'projection': 18,\n",
       "          u'Harvey': 6,\n",
       "          u'\\xfcside': 1,\n",
       "          u'RETALIATE': 4,\n",
       "          u'stern': 2,\n",
       "          u'Aker': 3,\n",
       "          u'ARTW': 1,\n",
       "          u'marine': 28,\n",
       "          u'hodler': 1,\n",
       "          u'MEMBER': 2,\n",
       "          u'Vernon': 3,\n",
       "          u'Belgians': 1,\n",
       "          u'music': 1,\n",
       "          u'therefore': 60,\n",
       "          u'ARTG': 1,\n",
       "          u'distortions': 11,\n",
       "          u'Duvel': 4,\n",
       "          u'NatNed': 3,\n",
       "          u'PAGURIAN': 2,\n",
       "          u'Distilling': 1,\n",
       "          u'Nyhammer': 1,\n",
       "          u'meteorologist': 5,\n",
       "          u'seams': 1,\n",
       "          u'UNITS': 44,\n",
       "          u'TDCX': 1,\n",
       "          u'circumstances': 60,\n",
       "          u'RLM': 2,\n",
       "          u'ROYEX': 5,\n",
       "          u'ANSBACHER': 1,\n",
       "          u'UNDERVALUED': 4,\n",
       "          u'SPD': 1,\n",
       "          u'RLC': 2,\n",
       "          u'Reichhold': 15,\n",
       "          u'CHEMICAL': 34,\n",
       "          u'Colombia': 112,\n",
       "          u'anode': 1,\n",
       "          u'Euro': 1,\n",
       "          u'Le': 6,\n",
       "          u'La': 42,\n",
       "          u'Lo': 10,\n",
       "          u'Li': 14,\n",
       "          u'titanium': 3,\n",
       "          u'Lt': 1,\n",
       "          u'Lu': 1,\n",
       "          u'want': 205,\n",
       "          u'Broking': 1,\n",
       "          u'CF6': 1,\n",
       "          u'Elliott': 3,\n",
       "          u'absolute': 10,\n",
       "          u'LF': 1,\n",
       "          u'LE': 2,\n",
       "          u'LB': 5,\n",
       "          u'ADJOURNS': 1,\n",
       "          u'LA': 6,\n",
       "          u'Malapai': 1,\n",
       "          u'travel': 16,\n",
       "          u'LM': 4,\n",
       "          u'Businessland': 1,\n",
       "          u'cutback': 11,\n",
       "          u'LT': 1,\n",
       "          u'LU': 1,\n",
       "          u'LP': 39,\n",
       "          u'Falcon': 2,\n",
       "          u'PEPCO': 1,\n",
       "          u'HEAD': 8,\n",
       "          u'RESERVED': 1,\n",
       "          u'RETENDER': 4,\n",
       "          u'wrong': 15,\n",
       "          u'RESERVES': 111,\n",
       "          u'FOUND': 1,\n",
       "          u'Centerre': 3,\n",
       "          u'adoped': 1,\n",
       "          u'CFI': 1,\n",
       "          u'CFF': 1,\n",
       "          u'Kasier': 1,\n",
       "          u'KOHLBERG': 1,\n",
       "          u'CFC': 2,\n",
       "          u'CFA': 3,\n",
       "          u'18th': 1,\n",
       "          u'nonsensical': 1,\n",
       "          u'CFS': 2,\n",
       "          u'Willy': 15,\n",
       "          u'623': 27,\n",
       "          u'Buhindi': 1,\n",
       "          u'JOBLESS': 12,\n",
       "          u'welcomed': 48,\n",
       "          u'BEDDING': 1,\n",
       "          u'benefited': 10,\n",
       "          u'Willa': 2,\n",
       "          u'Robertson': 5,\n",
       "          u'activating': 1,\n",
       "          u'welcomes': 3,\n",
       "          u'Abbott': 4,\n",
       "          u'His': 36,\n",
       "          u'Royex': 15,\n",
       "          u'tailings': 5,\n",
       "          u'fit': 24,\n",
       "          u'lifeline': 2,\n",
       "          u'BOOST': 19,\n",
       "          u'fix': 17,\n",
       "          u'striking': 18,\n",
       "          u'INFLUENCE': 2,\n",
       "          u'Koido': 1,\n",
       "          u'CHIPMAKERS': 3,\n",
       "          u'Fumio': 6,\n",
       "          u'Luyten': 1,\n",
       "          u'fio': 5,\n",
       "          u'Galanter': 1,\n",
       "          u'REGIONAL': 4,\n",
       "          u'ceremenony': 1,\n",
       "          u'REVERSED': 3,\n",
       "          u'INGOT': 4,\n",
       "          u'LIGHTNING': 2,\n",
       "          u'HIGH': 22,\n",
       "          u'HFAG': 5,\n",
       "          u'hurting': 12,\n",
       "          u'effects': 75,\n",
       "          u'RCBI': 1,\n",
       "          u'Thera': 2,\n",
       "          u'undeveloped': 8,\n",
       "          u'glutted': 3,\n",
       "          u'DECISION': 17,\n",
       "          u'Less': 7,\n",
       "          u'Munford': 1,\n",
       "          u'Airdrome': 2,\n",
       "          u'Statute': 3,\n",
       "          u'ANNOUNCES': 17,\n",
       "          u'374p': 1,\n",
       "          u'393': 30,\n",
       "          u'392': 30,\n",
       "          u'391': 26,\n",
       "          u'390': 35,\n",
       "          u'397': 25,\n",
       "          u'396': 14,\n",
       "          u'395': 13,\n",
       "          u'394': 28,\n",
       "          u'Doulton': 1,\n",
       "          u'Ragsdale': 1,\n",
       "          u'399': 13,\n",
       "          u'398': 27,\n",
       "          u'stabilised': 10,\n",
       "          u'forwarding': 2,\n",
       "          u'stearine': 1,\n",
       "          u'TEXACO': 14,\n",
       "          u'enviroment': 1,\n",
       "          u'PERKINS': 1,\n",
       "          u'encourage': 86,\n",
       "          u'adapt': 10,\n",
       "          u'Spree': 1,\n",
       "          u'Correcting': 1,\n",
       "          u'Prudential': 35,\n",
       "          u'CHEESE': 1,\n",
       "          u'PAYX': 1,\n",
       "          u'stamping': 2,\n",
       "          u'MEDIA': 14,\n",
       "          u'MAINLY': 4,\n",
       "          u'PAYN': 1,\n",
       "          u'corrects': 12,\n",
       "          u'JNJ': 2,\n",
       "          u'MEDIQ': 5,\n",
       "          u'estimate': 219,\n",
       "          u'mirrored': 2,\n",
       "          u'universally': 1,\n",
       "          u'SLCN': 2,\n",
       "          u'PAYE': 1,\n",
       "          u'competes': 2,\n",
       "          u'Nigel': 42,\n",
       "          u'Speciality': 1,\n",
       "          u'Domestically': 3,\n",
       "          u'parities': 8,\n",
       "          u'ministries': 8,\n",
       "          u'disturbed': 6,\n",
       "          u'ComputerKnowledge': 1,\n",
       "          u'competed': 3,\n",
       "          u'KENYA': 3,\n",
       "          u'hostels': 1,\n",
       "          u'SIGNET': 2,\n",
       "          u'kfw': 2,\n",
       "          u'CHRONICLE': 1,\n",
       "          u'reintroduced': 6,\n",
       "          u'maladies': 1,\n",
       "          u'LANE': 3,\n",
       "          u'LAND': 10,\n",
       "          u'ENDOTRONICS': 5,\n",
       "          u'service': 188,\n",
       "          u'Fearless': 1,\n",
       "          u'needed': 209,\n",
       "          u'Mlotok': 4,\n",
       "          u'master': 6,\n",
       "          u'IDBX': 1,\n",
       "          u'PLANT': 35,\n",
       "          u'task': 9,\n",
       "          u'Oracle': 2,\n",
       "          u'Discontinued': 1,\n",
       "          u'positively': 9,\n",
       "          u'270': 52,\n",
       "          u'Diceon': 3,\n",
       "          u'idly': 2,\n",
       "          u'IINC': 1,\n",
       "          u'idle': 18,\n",
       "          u'Chalabi': 4,\n",
       "          u'SOCS': 3,\n",
       "          u'SPAR': 2,\n",
       "          u'FIGURES': 12,\n",
       "          u'feeling': 18,\n",
       "          u'SPEED': 3,\n",
       "          u'Chicago': 132,\n",
       "          u'sustaining': 7,\n",
       "          u'Generally': 5,\n",
       "          u'spectrum': 4,\n",
       "          u'AWARDED': 1,\n",
       "          u'consenting': 1,\n",
       "          u'GLGVF': 2,\n",
       "          u'recapitalized': 3,\n",
       "          u'CORPORATE': 9,\n",
       "          u'sailed': 4,\n",
       "          u'PURSUES': 1,\n",
       "          u'dozen': 11,\n",
       "          u'affairs': 29,\n",
       "          u'mostly': 55,\n",
       "          u'Fontaine': 1,\n",
       "          u'Sahlen': 3,\n",
       "          u'Component': 2,\n",
       "          u'Juvena': 2,\n",
       "          u'They': 562,\n",
       "          u'Dothan': 1,\n",
       "          u'shipments': 199,\n",
       "          u'EXHIBIT': 1,\n",
       "          u'FORTRAN': 1,\n",
       "          u'committing': 3,\n",
       "          u'sugarcane': 16,\n",
       "          u'diminishing': 7,\n",
       "          u'vexing': 2,\n",
       "          u'simplify': 4,\n",
       "          u'mouth': 15,\n",
       "          u'conceded': 7,\n",
       "          u'CENTURION': 2,\n",
       "          u'WALLBOARD': 1,\n",
       "          u'Paragon': 3,\n",
       "          u'107': 50,\n",
       "          u'tech': 6,\n",
       "          u'Copperworkers': 1,\n",
       "          u'saying': 287,\n",
       "          u'sweetner': 1,\n",
       "          u'Jacobson': 4,\n",
       "          u'tehran': 1,\n",
       "          u'ulcer': 1,\n",
       "          u'cheaply': 3,\n",
       "          u'Resources': 186,\n",
       "          u'BPMI': 1,\n",
       "          u'Diantronics': 1,\n",
       "          u'excavator': 1,\n",
       "          u'REUTER': 45,\n",
       "          u'Tian': 8,\n",
       "          u'LIVE': 1,\n",
       "          u'rich': 18,\n",
       "          u'MAWR': 1,\n",
       "          u'rice': 148,\n",
       "          u'Winnemucca': 1,\n",
       "          u'rica': 1,\n",
       "          u'plate': 16,\n",
       "          u'TRICIL': 1,\n",
       "          u'anxious': 8,\n",
       "          u'altogether': 6,\n",
       "          u'Qtr': 86,\n",
       "          u'Senators': 4,\n",
       "          u'Cyacq': 49,\n",
       "          u'Albani': 1,\n",
       "          u'Samudio': 3,\n",
       "          u'Andover': 5,\n",
       "          u'patch': 5,\n",
       "          u'Rio': 46,\n",
       "          u'ELXA': 6,\n",
       "          u'Senegalese': 1,\n",
       "          u'boarded': 2,\n",
       "          u'Ria': 1,\n",
       "          u'precluding': 2,\n",
       "          u'WMPY': 2,\n",
       "          u'Sennen': 1,\n",
       "          u'clarified': 2,\n",
       "          u'sensitivity': 1,\n",
       "          u'Centerbank': 1,\n",
       "          u'EXPECTS': 63,\n",
       "          u'Anderson': 11,\n",
       "          u'alternative': 88,\n",
       "          u'clarifies': 3,\n",
       "          u'EAUX': 2,\n",
       "          u'Mosle': 2,\n",
       "          u'lots': 20,\n",
       "          u'Heinken': 1,\n",
       "          u'Heidrun': 6,\n",
       "          u'Guayana': 2,\n",
       "          u'Sinhalese': 1,\n",
       "          u'cordoned': 1,\n",
       "          u'Marcxh': 2,\n",
       "          u'Advanced': 14,\n",
       "          u'HINS': 2,\n",
       "          u'SOLAR': 3,\n",
       "          u'extend': 67,\n",
       "          u'nature': 25,\n",
       "          u'fruits': 7,\n",
       "          u'Amrel': 1,\n",
       "          u'extent': 59,\n",
       "          u'PANCANADIAN': 3,\n",
       "          u'UNTIL': 5,\n",
       "          u'RAPITECH': 1,\n",
       "          u'Spectradyne': 1,\n",
       "          u'Elaborating': 1,\n",
       "          u'restrcitions': 1,\n",
       "          u'heating': 41,\n",
       "          u'Motech': 2,\n",
       "          u'outsanding': 1,\n",
       "          u'FACTOR': 7,\n",
       "          u'southeastern': 6,\n",
       "          u'eradicate': 3,\n",
       "          u'foreclosing': 1,\n",
       "          u'Resalat': 1,\n",
       "          u'WESTAR': 1,\n",
       "          u'HNH': 1,\n",
       "          u'Reuter': 35,\n",
       "          u'HNM': 1,\n",
       "          u'BANCSHARES': 11,\n",
       "          u'FAIRVIEW': 3,\n",
       "          u'MCANDREWS': 2,\n",
       "          u'HNZ': 4,\n",
       "          u'Montagne': 3,\n",
       "          u'source': 136,\n",
       "          u'union': 176,\n",
       "          u'BASIS': 4,\n",
       "          u'SWEDEN': 13,\n",
       "          u'.': 94687,\n",
       "          u'Halted': 1,\n",
       "          u'much': 478,\n",
       "          u'Jorio': 17,\n",
       "          u'Herstatt': 4,\n",
       "          u'mothball': 1,\n",
       "          u'MALAWI': 2,\n",
       "          u'Adventist': 1,\n",
       "          u'premier': 3,\n",
       "          u'spit': 1,\n",
       "          u'007050': 1,\n",
       "          u'freehold': 2,\n",
       "          u'Donovan': 1,\n",
       "          u'COLECO': 2,\n",
       "          u'doubts': 17,\n",
       "          u'Indemnity': 2,\n",
       "          u'spin': 24,\n",
       "          u'wildcat': 3,\n",
       "          u'TDK': 6,\n",
       "          u'TDI': 1,\n",
       "          u'contingencies': 6,\n",
       "          u'professionally': 1,\n",
       "          u'TDD': 2,\n",
       "          u'employ': 7,\n",
       "          u'TDY': 1,\n",
       "          u'TDS': 2,\n",
       "          u'elaborate': 53,\n",
       "          u'securitiesd': 1,\n",
       "          u'deferring': 2,\n",
       "          u'BASIC': 4,\n",
       "          u'conditioned': 43,\n",
       "          u'Potomac': 1,\n",
       "          u'Sword': 3,\n",
       "          u'Brookings': 2,\n",
       "          u'memorial': 1,\n",
       "          u'Arrayanes': 1,\n",
       "          u'Elders': 35,\n",
       "          u'democracies': 11,\n",
       "          u'microcomputers': 1,\n",
       "          u'split': 437,\n",
       "          u'principals': 3,\n",
       "          u'HOSPITALS': 1,\n",
       "          u'BARRICINI': 1,\n",
       "          u'spying': 1,\n",
       "          u'inadvertently': 1,\n",
       "          u'Maybe': 4,\n",
       "          u'COMERICA': 3,\n",
       "          u'workforce': 63,\n",
       "          u'Ferruzzi': 56,\n",
       "          u'marched': 1,\n",
       "          u'Liquidating': 7,\n",
       "          u'boiler': 1,\n",
       "          u'Bentsen': 18,\n",
       "          u'torpedoed': 2,\n",
       "          u'indidate': 1,\n",
       "          u'downwardly': 2,\n",
       "          u'EBC': 1,\n",
       "          u'Syscom': 1,\n",
       "          u'Syscon': 1,\n",
       "          u'Malmgreen': 3,\n",
       "          u'Gavin': 1,\n",
       "          u'academic': 2,\n",
       "          u'GUATEMALA': 3,\n",
       "          u'Jolfa': 1,\n",
       "          u'BELEGGINGEN': 1,\n",
       "          u'CANAMAX': 2,\n",
       "          u'architecural': 1,\n",
       "          u'corporate': 129,\n",
       "          u'Rapid': 2,\n",
       "          u'appropriately': 1,\n",
       "          u'WAUSAU': 1,\n",
       "          u'DOWNWARDS': 2,\n",
       "          u'fairer': 2,\n",
       "          u'portrayed': 1,\n",
       "          u'PECN': 2,\n",
       "          u'Ewing': 1,\n",
       "          u'Oscar': 2,\n",
       "          u'had': 2947,\n",
       "          u'SPECIALTY': 3,\n",
       "          u'SPECIFIC': 1,\n",
       "          u'stockdraws': 3,\n",
       "          u'Baghdad': 9,\n",
       "          u'Noblee': 3,\n",
       "          u'has': 4679,\n",
       "          u'BUILDERS': 1,\n",
       "          u'Spence': 1,\n",
       "          u'municipal': 4,\n",
       "          u'IDYN': 1,\n",
       "          u'Stuarts': 1,\n",
       "          u'survival': 5,\n",
       "          u'REQUEST': 4,\n",
       "          u'unequivocally': 1,\n",
       "          u'objective': 51,\n",
       "          u'indicative': 13,\n",
       "          u'shadow': 5,\n",
       "          u'Nonthapanthawat': 2,\n",
       "          u'riskiness': 1,\n",
       "          u'positiive': 1,\n",
       "          u'Brenda': 1,\n",
       "          u'Sekiyu': 1,\n",
       "          u'festivities': 2,\n",
       "          u'Steven': 10,\n",
       "          u'Growers': 41,\n",
       "          u'Swedish': 58,\n",
       "          u'beneficial': 29,\n",
       "          u'Maanagement': 1,\n",
       "          u'crowd': 1,\n",
       "          u'crown': 24,\n",
       "          u'begin': 149,\n",
       "          u'captive': 2,\n",
       "          u'Between': 20,\n",
       "          u'fiduciary': 13,\n",
       "          u'Goodyear': 29,\n",
       "          u'AUTHORIZES': 1,\n",
       "          u'Nixdorf': 2,\n",
       "          u'bottom': 33,\n",
       "          u'MARKETING': 22,\n",
       "          u'plucked': 1,\n",
       "          u'PRODUCTION': 48,\n",
       "          u'AUTHORIZED': 7,\n",
       "          u'locksmithing': 1,\n",
       "          u'ADJOURN': 2,\n",
       "          u'SIZZ': 1,\n",
       "          u'Calls': 7,\n",
       "          u'IBCP': 2,\n",
       "          u'Gerrit': 1,\n",
       "          u'REPEAL': 1,\n",
       "          u'IBCA': 1,\n",
       "          u'IBCC': 1,\n",
       "          u'DIAMOND': 18,\n",
       "          u'Soctt': 1,\n",
       "          u'Vaca': 1,\n",
       "          u'match': 26,\n",
       "          u'Suspensions': 1,\n",
       "          u'maxwell': 1,\n",
       "          u'Concerned': 1,\n",
       "          u'honeymoon': 2,\n",
       "          u'PROBLEMS': 13,\n",
       "          u'administer': 1,\n",
       "          u'CARLING': 5,\n",
       "          u'shoots': 1,\n",
       "          u'Seelig': 2,\n",
       "          u'foothold': 6,\n",
       "          u'fabric': 3,\n",
       "          u'suffice': 1,\n",
       "          u'lastest': 1,\n",
       "          u'Moengo': 5,\n",
       "          u'spokemsan': 1,\n",
       "          u'Carolco': 5,\n",
       "          u'GERMANY': 9,\n",
       "          u'5865': 2,\n",
       "          u'acquainting': 1,\n",
       "          u'Dataproducts': 2,\n",
       "          u'Endo': 1,\n",
       "          u'perfumes': 1,\n",
       "          u'dns': 1,\n",
       "          u'nonvoting': 1,\n",
       "          u'AHOLD': 1,\n",
       "          u'FRESH': 2,\n",
       "          u'safeguard': 4,\n",
       "          u'Petrocelli': 1,\n",
       "          u'arrays': 1,\n",
       "          u'Household': 7,\n",
       "          u'morning': 209,\n",
       "          u'County': 63,\n",
       "          u'Pleasanton': 1,\n",
       "          u'ACQUISTION': 1,\n",
       "          u'PEGASUS': 4,\n",
       "          u'complications': 4,\n",
       "          u'pesos': 82,\n",
       "          u'relabelling': 1,\n",
       "          u'passenger': 22,\n",
       "          u'FOODARAMA': 1,\n",
       "          u'Sentiment': 2,\n",
       "          u'VARIAN': 2,\n",
       "          u'CLAYMONT': 1,\n",
       "          u'RAPS': 1,\n",
       "          u'eventual': 10,\n",
       "          u'Resler': 2,\n",
       "          u'crowns': 132,\n",
       "          u'role': 90,\n",
       "          u'Tamils': 2,\n",
       "          u'OHIO': 16,\n",
       "          u'vegetative': 3,\n",
       "          u'roll': 20,\n",
       "          u'E': 193,\n",
       "          u'NACCO': 1,\n",
       "          u'palms': 2,\n",
       "          u'transported': 1,\n",
       "          u'Melbourne': 8,\n",
       "          u'intent': 126,\n",
       "          u'variable': 12,\n",
       "          u'transporter': 1,\n",
       "          u'Napco': 2,\n",
       "          u'Gardens': 2,\n",
       "          u'preseving': 1,\n",
       "          u'INDQA': 1,\n",
       "          u'bnls': 2,\n",
       "          u'filing': 220,\n",
       "          u'MCIC': 4,\n",
       "          u'Sudanese': 2,\n",
       "          u'Fifth': 4,\n",
       "          u'Gruop': 1,\n",
       "          u'TEXTRON': 1,\n",
       "          u'overturned': 4,\n",
       "          u'GWTI': 1,\n",
       "          u'BUOY': 2,\n",
       "          u'BURNHAM': 2,\n",
       "          u'PUBLISHERS': 4,\n",
       "          u'chain': 44,\n",
       "          u'whoever': 1,\n",
       "          u'osp': 2,\n",
       "          u'Sarlos': 4,\n",
       "          u'Northeast': 16,\n",
       "          u'Artisan': 1,\n",
       "          u'Ipswich': 5,\n",
       "          u'chair': 2,\n",
       "          u'CANTERRA': 1,\n",
       "          u'690': 18,\n",
       "          u'grapples': 1,\n",
       "          u'ADDITIONAL': 9,\n",
       "          u'QUOTE': 1,\n",
       "          u'calcium': 1,\n",
       "          u'QUOTA': 29,\n",
       "          u'CCON': 1,\n",
       "          u'CCOM': 1,\n",
       "          u'CITADEL': 1,\n",
       "          u'oversight': 3,\n",
       "          u'INVOLVES': 1,\n",
       "          u'paychecks': 1,\n",
       "          u'choice': 23,\n",
       "          u'Lyle': 13,\n",
       "          u'embark': 8,\n",
       "          u'gloomy': 7,\n",
       "          u'stays': 6,\n",
       "          u'locked': 6,\n",
       "          u'exact': 27,\n",
       "          u'minute': 18,\n",
       "          u'WUR': 1,\n",
       "          u'MMIC': 1,\n",
       "          u'Hellman': 1,\n",
       "          u'went': 96,\n",
       "          u'Cityquest': 7,\n",
       "          u'Tax': 88,\n",
       "          u'Tay': 1,\n",
       "          u'picul': 1,\n",
       "          u'skewed': 1,\n",
       "          u'defaults': 3,\n",
       "          u'CLAIMS': 9,\n",
       "          u'Tan': 2,\n",
       "          u'Tak': 3,\n",
       "          u'HMTE': 3,\n",
       "          u'RSCH': 1,\n",
       "          u'hindered': 4,\n",
       "          u'Silvia': 2,\n",
       "          u'rulings': 2,\n",
       "          u'lengthened': 1,\n",
       "          u'M1': 17,\n",
       "          u'shirts': 1,\n",
       "          u'M3': 45,\n",
       "          u'collaspe': 1,\n",
       "          u'MIRTONE': 1,\n",
       "          u'Sebaana': 2,\n",
       "          u'OFFTAKE': 2,\n",
       "          u'celebrated': 1,\n",
       "          u'300': 451,\n",
       "          u'BROWING': 1,\n",
       "          u'Firms': 27,\n",
       "          u'Magna': 4,\n",
       "          u'Uclaf': 1,\n",
       "          u'ground': 38,\n",
       "          u'boost': 203,\n",
       "          u'Lopez': 2,\n",
       "          u'Me': 2,\n",
       "          u'drafted': 6,\n",
       "          u'Samjens': 23,\n",
       "          u'climbs': 2,\n",
       "          u'honour': 7,\n",
       "          u'Mo': 11,\n",
       "          u'Mi': 3,\n",
       "          u'Mt': 3,\n",
       "          u'306': 21,\n",
       "          u'address': 30,\n",
       "          u'dwindling': 4,\n",
       "          u'My': 17,\n",
       "          u'Datel': 1,\n",
       "          u'Webb': 5,\n",
       "          u'MD': 5,\n",
       "          u'enroll': 4,\n",
       "          u'revenues': 360,\n",
       "          u'MA': 5,\n",
       "          u'ALOG': 1,\n",
       "          u'MC': 2,\n",
       "          u'MM': 22,\n",
       "          u'impacted': 3,\n",
       "          u'MO': 11,\n",
       "          u'MN': 4,\n",
       "          u'MI': 13,\n",
       "          u'MH': 1,\n",
       "          u'LME': 62,\n",
       "          u'MT': 1,\n",
       "          u'accomplished': 5,\n",
       "          u'throughput': 9,\n",
       "          u'MP': 2,\n",
       "          u'MS': 6,\n",
       "          u'MR': 3,\n",
       "          u'Bofors': 1,\n",
       "          u'Rydin': 4,\n",
       "          u'influx': 5,\n",
       "          u'REAL': 21,\n",
       "          u'stockbuilding': 2,\n",
       "          u'raise': 275,\n",
       "          u'aproximates': 1,\n",
       "          u'proportion': 32,\n",
       "          u'EXCEL': 2,\n",
       "          u'SUITS': 1,\n",
       "          u'RELEASE': 7,\n",
       "          u'Enough': 1,\n",
       "          u'OKAYS': 2,\n",
       "          u'BOOSTS': 27,\n",
       "          u'RPCH': 4,\n",
       "          u'opposes': 14,\n",
       "          u'August': 247,\n",
       "          u'working': 190,\n",
       "          u'POWR': 1,\n",
       "          u'wane': 4,\n",
       "          u'PHAR': 1,\n",
       "          u'Royalty': 6,\n",
       "          u'opposed': 72,\n",
       "          u'STOKELY': 1,\n",
       "          u'unjust': 2,\n",
       "          u'liberalizing': 2,\n",
       "          u'PHAB': 2,\n",
       "          u'Those': 23,\n",
       "          u'Iris': 2,\n",
       "          u'EMERGING': 2,\n",
       "          u'Klaus': 4,\n",
       "          u'ADVANCES': 10,\n",
       "          u'Proposals': 3,\n",
       "          u'moored': 2,\n",
       "          u'Henley': 32,\n",
       "          u'CONTENT': 4,\n",
       "          u'ULTRAMAR': 5,\n",
       "          u'Opelika': 1,\n",
       "          u'ADVANCED': 8,\n",
       "          u'entrepot': 1,\n",
       "          u'EXPORTS': 78,\n",
       "          u'PERSONAL': 8,\n",
       "          u'Beijar': 1,\n",
       "          u'originally': 87,\n",
       "          u'Glenn': 11,\n",
       "          u'valorem': 2,\n",
       "          u'Showers': 3,\n",
       "          u'following': 354,\n",
       "          u'Amoskeag': 7,\n",
       "          u'Paye': 2,\n",
       "          u'ITCF': 1,\n",
       "          u'MATERIAL': 1,\n",
       "          u'Hecht': 1,\n",
       "          u'locks': 4,\n",
       "          u'incremental': 3,\n",
       "          u'Bijan': 1,\n",
       "          u'Mantha': 1,\n",
       "          u'litre': 12,\n",
       "          u'QLTV': 3,\n",
       "          u'ESTIMATES': 35,\n",
       "          u'Significant': 2,\n",
       "          u'Joliet': 2,\n",
       "          u'ESTIMATED': 10,\n",
       "          u'Taikoo': 5,\n",
       "          u'minicomputers': 1,\n",
       "          u'STE': 3,\n",
       "          u'STG': 122,\n",
       "          u'STA': 3,\n",
       "          u'STB': 4,\n",
       "          u'STC': 12,\n",
       "          u'STM': 1,\n",
       "          u'STN': 3,\n",
       "          u'STO': 3,\n",
       "          u'STH': 1,\n",
       "          u'STI': 2,\n",
       "          u'3rd': 55,\n",
       "          u'fueled': 6,\n",
       "          u'vested': 2,\n",
       "          u'reassessment': 3,\n",
       "          u'STR': 2,\n",
       "          u'HERSTATT': 1,\n",
       "          u'Corporate': 15,\n",
       "          u'STY': 4,\n",
       "          u'conscious': 7,\n",
       "          u'finalize': 7,\n",
       "          u'GERBER': 3,\n",
       "          u'herbicidesand': 1,\n",
       "          u'subdivisions': 1,\n",
       "          u'swollen': 3,\n",
       "          u'pulled': 9,\n",
       "          u'LL': 1,\n",
       "          u'Rowntree': 5,\n",
       "          u'Encouraged': 1,\n",
       "          u'LIF': 3,\n",
       "          u'LIG': 2,\n",
       "          u'Reichold': 1,\n",
       "          u'SEPARATE': 2,\n",
       "          u'LIL': 1,\n",
       "          u'LIO': 1,\n",
       "          u'years': 839,\n",
       "          u'structuring': 1,\n",
       "          u'Aslaminas': 2,\n",
       "          u'Elias': 2,\n",
       "          u'QUALITIES': 1,\n",
       "          u'Cromwell': 1,\n",
       "          u'NORDBANKEN': 1,\n",
       "          u'OFFER': 183,\n",
       "          u'jin': 1,\n",
       "          u'Cypress': 2,\n",
       "          u'jim': 1,\n",
       "          u'troubles': 6,\n",
       "          u'Agencies': 1,\n",
       "          u'SILVER': 16,\n",
       "          u'workforces': 3,\n",
       "          u'suspension': 46,\n",
       "          u'troubled': 25,\n",
       "          u'Vein': 1,\n",
       "          u'Wedndsday': 1,\n",
       "          u'modestly': 9,\n",
       "          u'recipients': 4,\n",
       "          u'civilian': 8,\n",
       "          u'Iraqis': 1,\n",
       "          u'ENERGY': 82,\n",
       "          u'MURPHY': 9,\n",
       "          u'Deutsche': 35,\n",
       "          u'Reinforcement': 1,\n",
       "          u'indigenous': 2,\n",
       "          u'overpowering': 1,\n",
       "          u'Gordon': 20,\n",
       "          u'Kemp': 1,\n",
       "          u'sorted': 1,\n",
       "          u'PIER': 3,\n",
       "          u'bedevil': 1,\n",
       "          u'didn': 22,\n",
       "          u'Yellow': 5,\n",
       "          u'Lesotho': 2,\n",
       "          u'dispite': 1,\n",
       "          u'Morenci': 1,\n",
       "          u'Certified': 1,\n",
       "          u'battleships': 2,\n",
       "          u'instability': 15,\n",
       "          u'quarter': 1766,\n",
       "          u'MFTN': 2,\n",
       "          u'Felix': 6,\n",
       "          u'ENRICH': 1,\n",
       "          u'receipt': 47,\n",
       "          u'Live': 7,\n",
       "          u'sponsor': 6,\n",
       "          u'entering': 24,\n",
       "          u'Bates': 2,\n",
       "          u'salads': 3,\n",
       "          u'disasters': 4,\n",
       "          u'797': 10,\n",
       "          u'796': 13,\n",
       "          u'Jiangsu': 3,\n",
       "          u'794': 20,\n",
       "          u'793': 20,\n",
       "          u'792': 14,\n",
       "          u'791': 20,\n",
       "          u'790': 22,\n",
       "          u'PRESTON': 2,\n",
       "          u'799': 18,\n",
       "          u'798': 18,\n",
       "          u'seriously': 54,\n",
       "          u'trauma': 2,\n",
       "          u'Transfers': 1,\n",
       "          u'DRCO': 1,\n",
       "          u'ARBED': 2,\n",
       "          u'curbs': 36,\n",
       "          u'DRCH': 1,\n",
       "          u'Westpac': 16,\n",
       "          u'adddition': 1,\n",
       "          u'incentives': 54,\n",
       "          u'TELECHARGE': 1,\n",
       "          u'Roughly': 1,\n",
       "          u'lucrative': 7,\n",
       "          u'Yaacobi': 6,\n",
       "          u'reevaluating': 1,\n",
       "          u'thatching': 1,\n",
       "          u'.\\'\"': 1,\n",
       "          u'79p': 1,\n",
       "          u'SUNSTATES': 1,\n",
       "          u'modest': 74,\n",
       "          u'initiate': 8,\n",
       "          u'KAUFHOF': 1,\n",
       "          u'aboard': 1,\n",
       "          u'Owens': 15,\n",
       "          u'CENTERS': 8,\n",
       "          u'reassess': 5,\n",
       "          u'saving': 11,\n",
       "          u'spoken': 6,\n",
       "          u'reprisal': 1,\n",
       "          u'one': 2584,\n",
       "          u'LIfetime': 1,\n",
       "          u'LIBYA': 3,\n",
       "          u'Monday': 233,\n",
       "          u'Sabhavasu': 1,\n",
       "          u'LAKES': 2,\n",
       "          u'MASKS': 1,\n",
       "          u'stifled': 3,\n",
       "          u'Safeguard': 6,\n",
       "          u'RAISED': 17,\n",
       "          u'surges': 2,\n",
       "          u'ADJOURNED': 1,\n",
       "          u'Handelsblad': 2,\n",
       "          u'WOODHOUSE': 1,\n",
       "          u'IMTEC': 1,\n",
       "          u'RAISES': 256,\n",
       "          u'LETTER': 6,\n",
       "          u'herds': 4,\n",
       "          u'specialists': 14,\n",
       "          u'surged': 17,\n",
       "          u'TONNE': 8,\n",
       "          u'Equinox': 2,\n",
       "          u'crossroads': 2,\n",
       "          u'Hubert': 1,\n",
       "          u'DISCUSS': 12,\n",
       "          u'shakeup': 1,\n",
       "          u'disasterous': 1,\n",
       "          u'illness': 5,\n",
       "          u'CFB': 1,\n",
       "          u'turned': 37,\n",
       "          u'locations': 23,\n",
       "          u'Field': 6,\n",
       "          u'minesweepers': 2,\n",
       "          u'borough': 1,\n",
       "          u'underlines': 4,\n",
       "          u'fashionable': 1,\n",
       "          u'INVEST': 2,\n",
       "          u'dilutions': 2,\n",
       "          u'Remittances': 1,\n",
       "          u'MEATPACKERS': 3,\n",
       "          u'intends': 95,\n",
       "          u'unlawfully': 5,\n",
       "          u'Hale': 8,\n",
       "          u'Half': 4,\n",
       "          u'concern': 181,\n",
       "          u'Hall': 18,\n",
       "          u'LDC': 3,\n",
       "          u'printer': 2,\n",
       "          u'offload': 1,\n",
       "          u'opposite': 3,\n",
       "          u'buffer': 278,\n",
       "          u'Sycamore': 2,\n",
       "          u'Darman': 23,\n",
       "          u'Concessionaires': 1,\n",
       "          u'Allison': 1,\n",
       "          u'Wong': 1,\n",
       "          u'printed': 5,\n",
       "          u'RECOMMENDATIONS': 2,\n",
       "          u'Depository': 2,\n",
       "          u'knowingly': 1,\n",
       "          u'MAILING': 1,\n",
       "          u'staged': 7,\n",
       "          u'rents': 5,\n",
       "          u'Chew': 3,\n",
       "          u'CFR': 1,\n",
       "          u'LOMK': 2,\n",
       "          u'contingents': 1,\n",
       "          u'Landa': 1,\n",
       "          u'jitters': 3,\n",
       "          u'Chee': 3,\n",
       "          u'Chen': 4,\n",
       "          u'BIOSEARCH': 1,\n",
       "          u'Schilling': 1,\n",
       "          u'Sibley': 1,\n",
       "          u'stockpiled': 8,\n",
       "          u'Geelong': 2,\n",
       "          u'Danworth': 2,\n",
       "          u'friction': 28,\n",
       "          u'fecal': 2,\n",
       "          u'Ethiopia': 7,\n",
       "          u'CABRE': 1,\n",
       "          u'inconsistent': 6,\n",
       "          u'heeding': 1,\n",
       "          u'aggressive': 40,\n",
       "          u'Ski': 1,\n",
       "          u'HANDLING': 2,\n",
       "          ...})"
      ]
     },
     "execution_count": 15,
     "metadata": {},
     "output_type": "execute_result"
    }
   ],
   "source": [
    "freq = nltk.FreqDist(reuters.words())\n",
    "freq"
   ]
  },
  {
   "cell_type": "markdown",
   "metadata": {},
   "source": [
    "Notice that the **collection of elements from the text comprises of elements which are not all words**. \n",
    "\n",
    "Some words may be misspelled as well in which case we might want to take them out. \n",
    "\n",
    "Below is an example of how we can extract only words from a given text that appear in a dictionary from a corpus. This command is not something you want to execute on  a large corpus though since it is slow:"
   ]
  },
  {
   "cell_type": "code",
   "execution_count": 16,
   "metadata": {
    "collapsed": false,
    "scrolled": false
   },
   "outputs": [
    {
     "data": {
      "text/plain": [
       "[u'A',\n",
       " u'a',\n",
       " u'aa',\n",
       " u'aal',\n",
       " u'aalii',\n",
       " u'aam',\n",
       " u'Aani',\n",
       " u'aardvark',\n",
       " u'aardwolf',\n",
       " u'Aaron',\n",
       " u'Aaronic',\n",
       " u'Aaronical',\n",
       " u'Aaronite',\n",
       " u'Aaronitic',\n",
       " u'Aaru',\n",
       " u'Ab',\n",
       " u'aba',\n",
       " u'Ababdeh',\n",
       " u'Ababua',\n",
       " u'abac',\n",
       " u'abaca',\n",
       " u'abacate',\n",
       " u'abacay',\n",
       " u'abacinate',\n",
       " u'abacination',\n",
       " u'abaciscus',\n",
       " u'abacist',\n",
       " u'aback',\n",
       " u'abactinal',\n",
       " u'abactinally']"
      ]
     },
     "execution_count": 16,
     "metadata": {},
     "output_type": "execute_result"
    }
   ],
   "source": [
    "#all valid English words according to this corpus\n",
    "nltk.corpus.words.words()[:30]"
   ]
  },
  {
   "cell_type": "code",
   "execution_count": null,
   "metadata": {
    "collapsed": false
   },
   "outputs": [],
   "source": [
    "#valid_words = set(word for word in reuters.words() if  word.lower() in nltk.corpus.words.words())\n",
    "#valid_words"
   ]
  },
  {
   "cell_type": "markdown",
   "metadata": {},
   "source": [
    "There is also a corpus of **stopwords**, that is, high-frequency words such as: the, to etc that we sometimes want to filter out of a document before further processing. \n",
    "\n",
    "Stopwords usually have little lexical content or meaning, and their presence in a text thus fails to distinguish\n",
    "it from other texts."
   ]
  },
  {
   "cell_type": "code",
   "execution_count": 17,
   "metadata": {
    "collapsed": false,
    "scrolled": true
   },
   "outputs": [
    {
     "data": {
      "text/plain": [
       "[u'i',\n",
       " u'me',\n",
       " u'my',\n",
       " u'myself',\n",
       " u'we',\n",
       " u'our',\n",
       " u'ours',\n",
       " u'ourselves',\n",
       " u'you',\n",
       " u'your',\n",
       " u'yours',\n",
       " u'yourself',\n",
       " u'yourselves',\n",
       " u'he',\n",
       " u'him',\n",
       " u'his',\n",
       " u'himself',\n",
       " u'she',\n",
       " u'her',\n",
       " u'hers',\n",
       " u'herself',\n",
       " u'it',\n",
       " u'its',\n",
       " u'itself',\n",
       " u'they',\n",
       " u'them',\n",
       " u'their',\n",
       " u'theirs',\n",
       " u'themselves',\n",
       " u'what']"
      ]
     },
     "execution_count": 17,
     "metadata": {},
     "output_type": "execute_result"
    }
   ],
   "source": [
    "from nltk.corpus import stopwords\n",
    "stopwords = stopwords.words('english')\n",
    "stopwords[0:30]"
   ]
  },
  {
   "cell_type": "markdown",
   "metadata": {},
   "source": [
    "You can expand stopwords to include symbols as well"
   ]
  },
  {
   "cell_type": "code",
   "execution_count": 18,
   "metadata": {
    "collapsed": false
   },
   "outputs": [],
   "source": [
    "stop_words = nltk.corpus.stopwords.words('english') + [\n",
    "    '.',\n",
    "    ',',\n",
    "    '--',\n",
    "    '\\'s',\n",
    "    '?',\n",
    "    ')',\n",
    "    '(',\n",
    "    ':',\n",
    "    '\\'',\n",
    "    '\\'re',\n",
    "    '\"',\n",
    "    '-',\n",
    "    '}',\n",
    "    '{',\n",
    "    u'—',\n",
    "    ]"
   ]
  },
  {
   "cell_type": "markdown",
   "metadata": {},
   "source": [
    "Let’s define a function to compute what fraction of words in a text are not in the stopwords\n",
    "list:"
   ]
  },
  {
   "cell_type": "code",
   "execution_count": 19,
   "metadata": {
    "collapsed": true
   },
   "outputs": [],
   "source": [
    "def content_fraction(text):\n",
    "    stopwords = nltk.corpus.stopwords.words('english')\n",
    "    #normalise text\n",
    "    content = [w for w in text if w.lower() not in stopwords]\n",
    "    return (len(content) * 1.0) / (len(text) * 1.0)"
   ]
  },
  {
   "cell_type": "markdown",
   "metadata": {},
   "source": [
    "Let's run the reuters corpus through our function:"
   ]
  },
  {
   "cell_type": "code",
   "execution_count": 20,
   "metadata": {
    "collapsed": false
   },
   "outputs": [
    {
     "data": {
      "text/plain": [
       "0.735240435097661"
      ]
     },
     "execution_count": 20,
     "metadata": {},
     "output_type": "execute_result"
    }
   ],
   "source": [
    "content_fraction(nltk.corpus.reuters.words())"
   ]
  },
  {
   "cell_type": "markdown",
   "metadata": {},
   "source": [
    "In compiler and linguistic technical terms, characters combine to define **tokens**. \n",
    "\n",
    "**Tokens** are are individual words, symbols or numbers that have some meaning. Before any sense can be made of a text, it must first be tokenized into individual tokens."
   ]
  },
  {
   "cell_type": "code",
   "execution_count": 21,
   "metadata": {
    "collapsed": false
   },
   "outputs": [
    {
     "data": {
      "text/plain": [
       "['I', 'went', 'to', 'uni', 'today', '.', 'I', 'had', 'lots', 'of', 'fun', '!']"
      ]
     },
     "execution_count": 21,
     "metadata": {},
     "output_type": "execute_result"
    }
   ],
   "source": [
    "some_text  = 'I went to uni today. I had lots of fun!'\n",
    "\n",
    "tokens = nltk.word_tokenize(some_text)\n",
    "tokens"
   ]
  },
  {
   "cell_type": "markdown",
   "metadata": {},
   "source": [
    "## Create a user-defined tokenizer"
   ]
  },
  {
   "cell_type": "markdown",
   "metadata": {},
   "source": [
    "In order to do full semantic analysis or machine translation of a piece of text, it is necessary to retain symbols that might be a part of speech and impart meaning. \n",
    "\n",
    "There are however times when we want to remove them altogether. Below is a piece of code that creates a custom tokenizer which strips symbols from a string and converts into a list of tokens."
   ]
  },
  {
   "cell_type": "code",
   "execution_count": 22,
   "metadata": {
    "collapsed": true
   },
   "outputs": [],
   "source": [
    "from nltk.tokenize import RegexpTokenizer\n",
    "\n",
    "#w means tokens are made of only alphanumeric characters where + indicates that they comprise of one or more of such characters\n",
    "tokenizer = RegexpTokenizer('\\w+')"
   ]
  },
  {
   "cell_type": "markdown",
   "metadata": {},
   "source": [
    "Rules for writing regular expressions can be found here: https://docs.python.org/2/howto/regex.html"
   ]
  },
  {
   "cell_type": "code",
   "execution_count": 23,
   "metadata": {
    "collapsed": false
   },
   "outputs": [
    {
     "data": {
      "text/plain": [
       "['I', 'went', 'to', 'uni', 'today', 'I', 'had', 'lots', 'of', 'fun']"
      ]
     },
     "execution_count": 23,
     "metadata": {},
     "output_type": "execute_result"
    }
   ],
   "source": [
    "tokens_cleaned = tokenizer.tokenize(some_text)\n",
    "tokens_cleaned"
   ]
  },
  {
   "cell_type": "markdown",
   "metadata": {},
   "source": [
    "Lets remove stopwords from the list of tokens:"
   ]
  },
  {
   "cell_type": "code",
   "execution_count": 24,
   "metadata": {
    "collapsed": false
   },
   "outputs": [
    {
     "data": {
      "text/plain": [
       "['went', 'uni', 'today', 'lots', 'fun']"
      ]
     },
     "execution_count": 24,
     "metadata": {},
     "output_type": "execute_result"
    }
   ],
   "source": [
    "stopwords = nltk.corpus.stopwords.words('english')\n",
    "content = [w for w in tokens_cleaned if w.lower() not in stopwords]\n",
    "content"
   ]
  },
  {
   "cell_type": "markdown",
   "metadata": {},
   "source": [
    "## Working with non-corpora text"
   ]
  },
  {
   "cell_type": "markdown",
   "metadata": {},
   "source": [
    "One of the most important sources of texts is undoubtedly the Web. \n",
    "\n",
    "It’s convenient to have existing text collections to explore, such as the compiled corpora, but there is much analysis to be done on non compiled texts."
   ]
  },
  {
   "cell_type": "code",
   "execution_count": 25,
   "metadata": {
    "collapsed": false
   },
   "outputs": [
    {
     "name": "stdout",
     "output_type": "stream",
     "text": [
      "Collecting feedparser\n",
      "  Downloading feedparser-5.2.1.zip (1.2MB)\n",
      "Building wheels for collected packages: feedparser\n",
      "  Running setup.py bdist_wheel for feedparser: started\n",
      "  Running setup.py bdist_wheel for feedparser: finished with status 'done'\n",
      "  Stored in directory: C:\\Users\\OEM\\AppData\\Local\\pip\\Cache\\wheels\\15\\ce\\10\\b500f745822ea6db6ea8ed225c06b15c000d71016b89ef9037\n",
      "Successfully built feedparser\n",
      "Installing collected packages: feedparser\n",
      "Successfully installed feedparser-5.2.1\n"
     ]
    }
   ],
   "source": [
    "!pip install feedparser"
   ]
  },
  {
   "cell_type": "code",
   "execution_count": 26,
   "metadata": {
    "collapsed": false
   },
   "outputs": [],
   "source": [
    "import os\n",
    "import sys\n",
    "import json\n",
    "import feedparser\n",
    "import requests\n",
    "import pandas as pd\n",
    "from nltk import clean_html\n",
    "import urllib2\n",
    "from bs4 import BeautifulSoup as bs\n",
    "\n",
    "massey_proxies = {\n",
    "  \"http\": \"http://alb-cache.massey.ac.nz/\",\n",
    "  \"https\": \"http://alb-cache.massey.ac.nz/\",\n",
    "}\n",
    "\n",
    "#massey_proxies = \"\""
   ]
  },
  {
   "cell_type": "markdown",
   "metadata": {},
   "source": [
    "## 1.1 Acquire Data"
   ]
  },
  {
   "cell_type": "markdown",
   "metadata": {},
   "source": [
    "Let's get text from an article on the web and do some processing of it:"
   ]
  },
  {
   "cell_type": "code",
   "execution_count": 27,
   "metadata": {
    "collapsed": false
   },
   "outputs": [
    {
     "data": {
      "text/html": [
       "<iframe src=http://www.nzherald.co.nz/best-of-political-analysis/news/article.cfm?c_id=1502734&objectid=11325925 width=1000 height=350></iframe>"
      ],
      "text/plain": [
       "<IPython.core.display.HTML object>"
      ]
     },
     "execution_count": 27,
     "metadata": {},
     "output_type": "execute_result"
    }
   ],
   "source": [
    "from IPython.core.display import HTML\n",
    "HTML(\"<iframe src=http://www.nzherald.co.nz/best-of-political-analysis/news/article.cfm?c_id=1502734&objectid=11325925 width=1000 height=350></iframe>\")"
   ]
  },
  {
   "cell_type": "code",
   "execution_count": 28,
   "metadata": {
    "collapsed": false
   },
   "outputs": [
    {
     "data": {
      "text/plain": [
       "<Response [200]>"
      ]
     },
     "execution_count": 28,
     "metadata": {},
     "output_type": "execute_result"
    }
   ],
   "source": [
    "HTML_PAGE = 'http://www.nzherald.co.nz/best-of-political-analysis/news/article.cfm?c_id=1502734&objectid=11325925'\n",
    "\n",
    "response = requests.get(HTML_PAGE, proxies=massey_proxies)\n",
    "response"
   ]
  },
  {
   "cell_type": "code",
   "execution_count": 29,
   "metadata": {
    "collapsed": false
   },
   "outputs": [],
   "source": [
    "page = response.content"
   ]
  },
  {
   "cell_type": "markdown",
   "metadata": {},
   "source": [
    "## 1.2 Clean Text"
   ]
  },
  {
   "cell_type": "markdown",
   "metadata": {},
   "source": [
    "The page variable has all the markup symbols which we need to strip away first of all."
   ]
  },
  {
   "cell_type": "code",
   "execution_count": 30,
   "metadata": {
    "collapsed": false
   },
   "outputs": [
    {
     "data": {
      "text/plain": [
       "u'   \\nwindow.NREUM||(NREUM={}),__nr_require=function(t,e,n){function r(n){if(!e[n]){var o=e[n]={exports:{}};t[n][0].call(o.exports,function(e){var o=t[n][1][e];return r(o||e)},o,o.exports)}return e[n].exports}if(\"function\"==typeof __nr_require)return __nr_require;for(var o=0;o<n.length;o++)r(n[o]);return r}({QJf3ax:[function(t,e){function n(){}function r(t){function e(t){return t&&t instanceof n?t:t?a(t,i,o):o()}function s(n,r,o){t&&t(n,r,o);for(var i=e(o),a=f(n),s=a.length,c=0;s>c;c++)a[c].apply(i,r);return i}function c(t,e){d[t]=f(t).concat(e)}function f(t){return d[t]||[]}function u(){return r(s)}var d={};return{on:c,emit:s,create:u,listeners:f,context:e,_events:d}}function o(){return new n}var i=\"nr@context\",a=t(\"gos\");e.exports=r()},{gos:\"7eSDFh\"}],ee:[function(t,e){e.exports=t(\"QJf3ax\")},{}],3:[function(t){function e(t){try{i.console&&console.log(t)}catch(e){}}var n,r=t(\"ee\"),o=t(1),i={};try{n=localStorage.getItem(\"__nr_flags\").split(\",\"),console&&\"function\"==typeof console.log&&(i'"
      ]
     },
     "execution_count": 30,
     "metadata": {},
     "output_type": "execute_result"
    }
   ],
   "source": [
    "bs_object = bs(page, \"lxml\")  \n",
    "raw = bs_object.get_text()\n",
    "raw[:1000]"
   ]
  },
  {
   "cell_type": "markdown",
   "metadata": {},
   "source": [
    "We only get a partial job done. There is still a lot of rubbish in the text. "
   ]
  },
  {
   "cell_type": "code",
   "execution_count": 31,
   "metadata": {
    "collapsed": false
   },
   "outputs": [
    {
     "name": "stdout",
     "output_type": "stream",
     "text": [
      "31602\n",
      "34503\n"
     ]
    }
   ],
   "source": [
    "#print len(raw)\n",
    "print raw.find('Hell hath no fury')\n",
    "print raw.find(' sights, not Key.')\n",
    "\n",
    "start = raw.find('Hell hath no fury')\n",
    "end = raw.find(' sights, not Key.')"
   ]
  },
  {
   "cell_type": "code",
   "execution_count": 32,
   "metadata": {
    "collapsed": false,
    "scrolled": true
   },
   "outputs": [
    {
     "data": {
      "text/plain": [
       "u'Hell hath no fury like a voter who feels he or she has been treated like a fool. The political left was already paying a heavy price at this election for displaying the characteristics which leave voters stone cold - namely disunity, political incompetence and not a little arrogance. The left may now pay an even bigger price on Saturday thanks to Kim Dotcom\\'s Moment of Truth evaporating into a Moment of Struth - as in \"struth, was that all he had to reveal\" after months of squashing much else far more worthy of debate out of the political picture. So robust was Dotcom\\'s evidence of prime ministerial untruths supposed to be that it would sink John Key faster than the Bismarck. Instead it is Dotcom who is now facing a backlash for failing to deliver. So far, that backlash is confined to media who have been strung along for months. Voters may be more tolerant - but only up to a point. They take objection to being hoodwinked.  \\raimRenderAd(300, 250, \\'RECTANGLE\\',\\'ContentRect\\',\\'/SR=0/POS=2/VA=NO\\');\\rif(!$.browser.msie && $(\"#ContentRect\").length){\\rContentRect_frame = $(\"#ContentRect\")[0];\\rContentRect_frame.src = ContentRect_frame.src;\\r}\\r  Perhaps the only saving grace for Internet-Mana is that in treating voters like fools, Dotcom has shown himself to be an even bigger one. He is now a national laughing stock. But it could have been worse. At least someone in the Internet-Mana camp was smart enough not to allow Dotcom to wreck Monday night\\'s compelling testimony from whistle-blower Edward Snowden and journalist Glenn Greenwald regarding whether or not there is or has been mass surveillance of New Zealanders by the Government Communications Security Bureau. Likewise it was also smart to send Dotcom\\'s \"evidence\" against Key to Parliament\\'s Speaker for reference to its privileges committee. This consists of just one email deemed to be a fake which implicates Key in a conspiracy which would have seen Dotcom extradited to the US to face copyright theft and money laundering charges following him being granted New Zealand residency. The ruse by Internet-Mana\\'s leaders has given them an excuse not to talk about the email on the grounds that it is now part of a judicial process. It was a cynical move - as cynical as Key declassifying previously highly-sensitive documents to defend himself from the accusations of Snowden and Greenwald, something to which Hone Harawira and Laila Harre took strong exception. But if you declare you have the means of turfing a prime minister out of office, you have to be pretty naive to think you are not going to get both barrels in return when you fail. What the left have miscalculated yet again is that however worthy their pursuit of Key on the matter of surveillance, it is not something that excites the silent majority. They are fed up. On Saturday, they may exact awful revenge - and it will be Opposition parties who will be in their sights, not Key.'"
      ]
     },
     "execution_count": 32,
     "metadata": {},
     "output_type": "execute_result"
    }
   ],
   "source": [
    "cleaned = raw[start : end + len(' sights, not Key.')]\n",
    "cleaned"
   ]
  },
  {
   "cell_type": "code",
   "execution_count": 33,
   "metadata": {
    "collapsed": false,
    "scrolled": true
   },
   "outputs": [
    {
     "data": {
      "text/plain": [
       "u'Hell hath no fury like a voter who feels he or she has been treated like a fool. The political left was already paying a heavy price at this election for displaying the characteristics which leave voters stone cold - namely disunity, political incompetence and not a little arrogance. The left may now pay an even bigger price on Saturday thanks to Kim Dotcom\\'s Moment of Truth evaporating into a Moment of Struth - as in \"struth, was that all he had to reveal\" after months of squashing much else far more worthy of debate out of the political picture. So robust was Dotcom\\'s evidence of prime ministerial untruths supposed to be that it would sink John Key faster than the Bismarck. Instead it is Dotcom who is now facing a backlash for failing to deliver. So far, that backlash is confined to media who have been strung along for months. Voters may be more tolerant - but only up to a point. They take objection to being hoodwinked.  \\raimRenderAd(300, 250, \\'RECTANGLE\\',\\'ContentRect\\',\\'/SR=0/POS=2/VA=NO\\');\\rif(!$.browser.msie && $(\"#ContentRect\").length){\\rContentRect_frame = $(\"#ContentRect\")[0];\\rContentRect_frame.src = ContentRect_frame.src;\\r}\\r  Perhaps the only saving grace for Internet-Mana is that in treating voters like fools, Dotcom has shown himself to be an even bigger one. He is now a national laughing stock. But it could have been worse. At least someone in the Internet-Mana camp was smart enough not to allow Dotcom to wreck Monday night\\'s compelling testimony from whistle-blower Edward Snowden and journalist Glenn Greenwald regarding whether or not there is or has been mass surveillance of New Zealanders by the Government Communications Security Bureau. Likewise it was also smart to send Dotcom\\'s \"evidence\" against Key to Parliament\\'s Speaker for reference to its privileges committee. This consists of just one email deemed to be a fake which implicates Key in a conspiracy which would have seen Dotcom extradited to the US to face copyright theft and money laundering charges following him being granted New Zealand residency. The ruse by Internet-Mana\\'s leaders has given them an excuse not to talk about the email on the grounds that it is now part of a judicial process. It was a cynical move - as cynical as Key declassifying previously highly-sensitive documents to defend himself from the accusations of Snowden and Greenwald, something to which Hone Harawira and Laila Harre took strong exception. But if you declare you have the means of turfing a prime minister out of office, you have to be pretty naive to think you are not going to get both barrels in return when you fail. What the left have miscalculated yet again is that however worthy their pursuit of Key on the matter of surveillance, it is not something that excites the silent majority. They are fed up. On Saturday, they may exact awful revenge - and it will be Opposition parties who will be in their sights, not Key.'"
      ]
     },
     "execution_count": 33,
     "metadata": {},
     "output_type": "execute_result"
    }
   ],
   "source": [
    "cleaned_article = cleaned.replace('''\\n\\n\\t\\t\\t\\t\\t\\t\\n\\t\\t\\t\\t\\t\\t\\t\\taimRenderAd(300, 250, \\'RECTANGLE\\',\\'ContentRect\\',\\'/SR=0/POS=2/VA=NO\\');\\n\\t\\t\\t\\t\\t\\t\\t\\n\\t\\t\\t\\t\\t\\tif(!$.browser.msie && $(\"#ContentRect\").length){\\n\\t\\t\\t\\t\\t\\t\\tContentRect_frame = $(\"#ContentRect\")[0];\\n\\t\\t\\t\\t\\t\\t\\tContentRect_frame.src = ContentRect_frame.src;\\n\\t\\t\\t\\t\\t\\t}\\n\\t\\t\\t\\t\\t\\n''', '')\n",
    "cleaned_article "
   ]
  },
  {
   "cell_type": "markdown",
   "metadata": {},
   "source": [
    "**Exercise:** Below is journalistic article covering the government spying in NZ. Your goal is to extract the relevant text from the url below, clean it, and store it as a string called 'cleaned2'."
   ]
  },
  {
   "cell_type": "code",
   "execution_count": 34,
   "metadata": {
    "collapsed": false
   },
   "outputs": [
    {
     "data": {
      "text/html": [
       "<iframe src=https://firstlook.org/theintercept/2014/09/15/new-zealand-gcsb-speargun-mass-surveillance/ width=1000 height=450></iframe>"
      ],
      "text/plain": [
       "<IPython.core.display.HTML object>"
      ]
     },
     "execution_count": 34,
     "metadata": {},
     "output_type": "execute_result"
    }
   ],
   "source": [
    "HTML(\"<iframe src=https://firstlook.org/theintercept/2014/09/15/new-zealand-gcsb-speargun-mass-surveillance/ width=1000 height=450></iframe>\")"
   ]
  },
  {
   "cell_type": "code",
   "execution_count": 47,
   "metadata": {
    "collapsed": false
   },
   "outputs": [
    {
     "name": "stdout",
     "output_type": "stream",
     "text": [
      "479\n",
      "4895\n"
     ]
    },
    {
     "data": {
      "text/plain": [
       "u'AUCKLAND, New Zealand\\u2014The New Zealand spy agency, the Government Communications Security Bureau (GCSB), worked in 2012 and 2013 to implement a mass metadata surveillance system even as top government officials publicly insisted no such program was being planned and would not be legally permitted.\\nDocuments provided by NSA whistleblower Edward Snowden show that the government worked in secret to exploit a new internet surveillance law enacted in the wake of revelations of illegal domestic spying to initiate a new metadata collection program that appeared designed to collect information about the communications of New Zealanders. Those actions are in direct conflict with the assurances given to the public\\xa0by Prime Minister John Key (pictured above), who said\\xa0the law was merely designed to fix \\u201can ambiguous legal framework\\u201d by expressly allowing the agency to do what it had done for years, that it \\u201cisn\\u2019t and will never be wholesale spying on New Zealanders,\\u201d and the law \\u201cisn\\u2019t a revolution in the way New Zealand conducts its intelligence operations.\\u201d\\nSnowden, in a post for The Intercept\\xa0published today, accused Prime Minster Key of fundamentally misleading the public about GCSB\\u2019s role in mass surveillance. \\u201cThe Prime Minister\\u2019s claim to the public, that \\u2018there is no and there never has been any mass surveillance\\u2019, is false,\\u201d the former NSA analyst wrote. \\u201cThe GCSB, whose operations he is responsible for, is directly involved in the untargeted, bulk interception and algorithmic analysis of private communications sent via internet, satellite, radio, and phone networks.\\u201d\\nSnowden explained that \\u201cat the NSA, I routinely came across the communications of New Zealanders in my work with a mass surveillance tool we share with GCSB,\\xa0called \\u2018X KEYSCORE.\\u201d\\u201d He further detailed that \\u201cthe GCSB provides mass surveillance data into XKEYSCORE. They also provide access to the communications of millions of New Zealanders to the NSA at facilities such as the GCSB facility in Waihopai, and the Prime Minister is personally aware of this fact.\\u201d\\nTop secret documents provided by the whistleblower demonstrate that the GCSB, with ongoing NSA cooperation, implemented Phase I of the mass surveillance program code-named \\u201cSpeargun\\u201d at some point in 2012 or early 2013. \\u201cSpeargun\\u201d involved the covert installation of \\u201ccable access\\u201d equipment,\\xa0which appears to refer to surveillance of the country\\u2019s main undersea cable link, the Southern Cross cable. This cable carries the vast majority of internet traffic between New Zealand and the rest of the world, and mass collection from it would mark the greatest expansion of GCSB spying activities in decades.\\nUpon completion of the first stage, Speargun moved to Phase II, under which \\u201cmetadata probes\\u201d were to be inserted into those cables. The NSA documents note that the first such metadata probe was scheduled for \\u201cmid-2013.\\u201d\\xa0Surveillance probes of this sort are commonly used by NSA and their partners to tap into huge flows of information from communication cables in real time, enabling them to extract the dates, times, senders, and recipients of emails, phone calls, and the like. The technique is almost by definition a form of mass surveillance; metadata is relatively useless for intelligence purposes without a massive amount of similar data to analyze it against and trace connections through.\\nThe NSA declined to comment for this story. A GCSB spokesperson would only say: \\u201cWe don\\u2019t comment on matters that may or may not be operational.\\u201d\\nOver the weekend, in anticipation of this report, Key\\xa0admitted for the first time\\xa0that the GCSB did plan a program of mass surveillance aimed at his own citizens, but claimed that he ultimately rejected the program before implementation. Yesterday, after The Intercept sought comment from the NSA,\\xa0the Prime Minister told reporters in Auckland that this reporting was referring merely to \\u201ca proposed widespread cyber protection programme that never got off the ground.\\u201d\\xa0He vowed to declassify documents confirming his decision.\\nBut the documents indicate that Speargun was not just an idea that stalled at the discussion stage. It was a system GCSB actively worked to implement. One top secret 2012 NSA document states: \\u201cProject Speargun underway.\\u201d Another top secret NSA document discussing the activities of its surveillance partners reports, under the heading \\u201cNew Zealand,\\u201d that \\u201cPartner cable access program achieves Phase I.'"
      ]
     },
     "execution_count": 47,
     "metadata": {},
     "output_type": "execute_result"
    }
   ],
   "source": [
    "HTML_PAGE = 'https://firstlook.org/theintercept/2014/09/15/new-zealand-gcsb-speargun-mass-surveillance/'\n",
    "\n",
    "response = requests.get(HTML_PAGE, proxies=massey_proxies)\n",
    "response\n",
    "\n",
    "page = response.content\n",
    "bs_object = bs(page, \"lxml\")  \n",
    "raw = bs_object.get_text()\n",
    "raw[:1000]\n",
    "\n",
    "#print len(raw)\n",
    "print raw.find('AUCKLAND, New Zealand')\n",
    "print raw.find(' achieves Phase I.')\n",
    "\n",
    "start = raw.find('AUCKLAND, New Zealand')\n",
    "end = raw.find(' achieves Phase I.')\n",
    "\n",
    "cleaned = raw[start : end + len(' achieves Phase I.')]\n",
    "cleaned\n",
    "\n",
    "cleaned2 = cleaned.replace('''\\n\\n\\t\\t\\t\\t\\t\\t\\n\\t\\t\\t\\t\\t\\t\\t\\taimRenderAd(300, 250, \\'RECTANGLE\\',\\'ContentRect\\',\\'/SR=0/POS=2/VA=NO\\');\\n\\t\\t\\t\\t\\t\\t\\t\\n\\t\\t\\t\\t\\t\\tif(!$.browser.msie && $(\"#ContentRect\").length){\\n\\t\\t\\t\\t\\t\\t\\tContentRect_frame = $(\"#ContentRect\")[0];\\n\\t\\t\\t\\t\\t\\t\\tContentRect_frame.src = ContentRect_frame.src;\\n\\t\\t\\t\\t\\t\\t}\\n\\t\\t\\t\\t\\t\\n''', '')\n",
    "cleaned2 "
   ]
  },
  {
   "cell_type": "markdown",
   "metadata": {},
   "source": [
    "You will notice that after the text has been cleaned, there are still many special unicode characters in the text, which you may or may not want to remove for further processing."
   ]
  },
  {
   "cell_type": "code",
   "execution_count": 48,
   "metadata": {
    "collapsed": false
   },
   "outputs": [
    {
     "data": {
      "text/plain": [
       "unicode"
      ]
     },
     "execution_count": 48,
     "metadata": {},
     "output_type": "execute_result"
    }
   ],
   "source": [
    "type(cleaned2)"
   ]
  },
  {
   "cell_type": "markdown",
   "metadata": {},
   "source": [
    "Here is how to covert a unicode to ascii, ignoring and removing all unicode chars that cannot be represented in ascii:"
   ]
  },
  {
   "cell_type": "code",
   "execution_count": 49,
   "metadata": {
    "collapsed": false,
    "scrolled": true
   },
   "outputs": [
    {
     "data": {
      "text/plain": [
       "'AUCKLAND, New ZealandThe New Zealand spy agency, the Government Communications Security Bureau (GCSB), worked in 2012 and 2013 to implement a mass metadata surveillance system even as top government officials publicly insisted no such program was being planned and would not be legally permitted.\\nDocuments provided by NSA whistleblower Edward Snowden show that the government worked in secret to exploit a new internet surveillance law enacted in the wake of revelations of illegal domestic spying to initiate a new metadata collection program that appeared designed to collect information about the communications of New Zealanders. Those actions are in direct conflict with the assurances given to the publicby Prime Minister John Key (pictured above), who saidthe law was merely designed to fix an ambiguous legal framework by expressly allowing the agency to do what it had done for years, that it isnt and will never be wholesale spying on New Zealanders, and the law isnt a revolution in the w'"
      ]
     },
     "execution_count": 49,
     "metadata": {},
     "output_type": "execute_result"
    }
   ],
   "source": [
    "cleaned2_str = cleaned2.encode('ascii','ignore')\n",
    "cleaned2_str[:1000]"
   ]
  },
  {
   "cell_type": "markdown",
   "metadata": {},
   "source": [
    "## 1.3 Tokenize Text"
   ]
  },
  {
   "cell_type": "markdown",
   "metadata": {},
   "source": [
    "Once the text has been cleaned, it can then be tokenized\n",
    "\n",
    "**Exercise:** Your task now is to tokenize the above article string into a list of tokens."
   ]
  },
  {
   "cell_type": "code",
   "execution_count": null,
   "metadata": {
    "collapsed": false,
    "scrolled": true
   },
   "outputs": [],
   "source": []
  },
  {
   "cell_type": "markdown",
   "metadata": {},
   "source": [
    "We can take the *cleaned_article* string from the first example and create a NLTK Text object out of it which enables us to perform some additional operations on the text."
   ]
  },
  {
   "cell_type": "code",
   "execution_count": 53,
   "metadata": {
    "collapsed": false,
    "scrolled": true
   },
   "outputs": [
    {
     "data": {
      "text/plain": [
       "[u'Hell',\n",
       " u'hath',\n",
       " u'no',\n",
       " u'fury',\n",
       " u'like',\n",
       " u'a',\n",
       " u'voter',\n",
       " u'who',\n",
       " u'feels',\n",
       " u'he']"
      ]
     },
     "execution_count": 53,
     "metadata": {},
     "output_type": "execute_result"
    }
   ],
   "source": [
    "tokenized_article = tokenizer.tokenize(cleaned_article)\n",
    "tokenized_article[:10]"
   ]
  },
  {
   "cell_type": "markdown",
   "metadata": {},
   "source": [
    "We now create the Text object from it which gives us a number of methods that we can perform on it."
   ]
  },
  {
   "cell_type": "code",
   "execution_count": 54,
   "metadata": {
    "collapsed": false
   },
   "outputs": [
    {
     "data": {
      "text/plain": [
       "<Text: Hell hath no fury like a voter who...>"
      ]
     },
     "execution_count": 54,
     "metadata": {},
     "output_type": "execute_result"
    }
   ],
   "source": [
    "text_article = nltk.Text(tokenized_article)\n",
    "text_article"
   ]
  },
  {
   "cell_type": "markdown",
   "metadata": {},
   "source": [
    "We can now search for words or phrases in this Text and be shown the context in which they appear:"
   ]
  },
  {
   "cell_type": "code",
   "execution_count": 55,
   "metadata": {
    "collapsed": false
   },
   "outputs": [
    {
     "name": "stdout",
     "output_type": "stream",
     "text": [
      "Displaying 7 of 7 matches:\n",
      "ger price on Saturday thanks to Kim Dotcom s Moment of Truth evaporating into \n",
      "the political picture So robust was Dotcom s evidence of prime ministerial unt\n",
      "ter than the Bismarck Instead it is Dotcom who is now facing a backlash for fa\n",
      " that in treating voters like fools Dotcom has shown himself to be an even big\n",
      " camp was smart enough not to allow Dotcom to wreck Monday night s compelling \n",
      " Likewise it was also smart to send Dotcom s evidence against Key to Parliamen\n",
      " a conspiracy which would have seen Dotcom extradited to the US to face copyri\n"
     ]
    }
   ],
   "source": [
    "text_article.concordance('Dotcom')"
   ]
  },
  {
   "cell_type": "markdown",
   "metadata": {},
   "source": [
    "**Exercise:** Perform the same steps in order to create a Text object from the article you cleaned previously and perform a concordance search for the word \"spying\"."
   ]
  },
  {
   "cell_type": "code",
   "execution_count": null,
   "metadata": {
    "collapsed": false
   },
   "outputs": [],
   "source": []
  },
  {
   "cell_type": "markdown",
   "metadata": {},
   "source": [
    "We can plot the frequencies of the most commonly occuring words (30 in this example):"
   ]
  },
  {
   "cell_type": "code",
   "execution_count": 56,
   "metadata": {
    "collapsed": false
   },
   "outputs": [
    {
     "data": {
      "image/png": "[encoded data removed]",
      "text/plain": [
       "<matplotlib.figure.Figure at 0x17408fd0>"
      ]
     },
     "metadata": {},
     "output_type": "display_data"
    }
   ],
   "source": [
    "%matplotlib inline\n",
    "f = plt.figure( figsize=(18, 6))\n",
    "plt.xlabel('Words', size=50)\n",
    "plt.ylabel('Counts', size=50)\n",
    "plt.title('Sorted histogram of word frequencies', size=50)\n",
    "rcParams['xtick.labelsize'] = 40\n",
    "rcParams['ytick.labelsize'] = 30\n",
    "text_article.plot(30)\n",
    "ax = f.get_axes()\n",
    "\n"
   ]
  },
  {
   "cell_type": "markdown",
   "metadata": {},
   "source": [
    "We can remove all the stop words from our list of tokens:"
   ]
  },
  {
   "cell_type": "code",
   "execution_count": 57,
   "metadata": {
    "collapsed": false,
    "scrolled": true
   },
   "outputs": [
    {
     "name": "stdout",
     "output_type": "stream",
     "text": [
      "[u'Hell', u'hath', u'no', u'fury', u'like', u'a', u'voter', u'who', u'feels', u'he', u'or', u'she', u'has', u'been', u'treated', u'like', u'a', u'fool', u'The', u'political', u'left', u'was', u'already', u'paying', u'a', u'heavy', u'price', u'at', u'this', u'election', u'for', u'displaying', u'the', u'characteristics', u'which', u'leave', u'voters', u'stone', u'cold', u'namely', u'disunity', u'political', u'incompetence', u'and', u'not', u'a', u'little', u'arrogance', u'The', u'left', u'may', u'now', u'pay', u'an', u'even', u'bigger', u'price', u'on', u'Saturday', u'thanks', u'to', u'Kim', u'Dotcom', u's', u'Moment', u'of', u'Truth', u'evaporating', u'into', u'a', u'Moment', u'of', u'Struth', u'as', u'in', u'struth', u'was', u'that', u'all', u'he', u'had', u'to', u'reveal', u'after', u'months', u'of', u'squashing', u'much', u'else', u'far', u'more', u'worthy', u'of', u'debate', u'out', u'of', u'the', u'political', u'picture', u'So', u'robust', u'was', u'Dotcom', u's', u'evidence', u'of', u'prime', u'ministerial', u'untruths', u'supposed', u'to', u'be', u'that', u'it', u'would', u'sink', u'John', u'Key', u'faster', u'than', u'the', u'Bismarck', u'Instead', u'it', u'is', u'Dotcom', u'who', u'is', u'now', u'facing', u'a', u'backlash', u'for', u'failing', u'to', u'deliver', u'So', u'far', u'that', u'backlash', u'is', u'confined', u'to', u'media', u'who', u'have', u'been', u'strung', u'along', u'for', u'months', u'Voters', u'may', u'be', u'more', u'tolerant', u'but', u'only', u'up', u'to', u'a', u'point', u'They', u'take', u'objection', u'to', u'being', u'hoodwinked', u'aimRenderAd', u'300', u'250', u'RECTANGLE', u'ContentRect', u'SR', u'0', u'POS', u'2', u'VA', u'NO', u'if', u'browser', u'msie', u'ContentRect', u'length', u'ContentRect_frame', u'ContentRect', u'0', u'ContentRect_frame', u'src', u'ContentRect_frame', u'src', u'Perhaps', u'the', u'only', u'saving', u'grace', u'for', u'Internet', u'Mana', u'is', u'that', u'in', u'treating', u'voters', u'like', u'fools', u'Dotcom', u'has', u'shown', u'himself', u'to', u'be', u'an', u'even', u'bigger', u'one', u'He', u'is', u'now', u'a', u'national', u'laughing', u'stock', u'But', u'it', u'could', u'have', u'been', u'worse', u'At', u'least', u'someone', u'in', u'the', u'Internet', u'Mana', u'camp', u'was', u'smart', u'enough', u'not', u'to', u'allow', u'Dotcom', u'to', u'wreck', u'Monday', u'night', u's', u'compelling', u'testimony', u'from', u'whistle', u'blower', u'Edward', u'Snowden', u'and', u'journalist', u'Glenn', u'Greenwald', u'regarding', u'whether', u'or', u'not', u'there', u'is', u'or', u'has', u'been', u'mass', u'surveillance', u'of', u'New', u'Zealanders', u'by', u'the', u'Government', u'Communications', u'Security', u'Bureau', u'Likewise', u'it', u'was', u'also', u'smart', u'to', u'send', u'Dotcom', u's', u'evidence', u'against', u'Key', u'to', u'Parliament', u's', u'Speaker', u'for', u'reference', u'to', u'its', u'privileges', u'committee', u'This', u'consists', u'of', u'just', u'one', u'email', u'deemed', u'to', u'be', u'a', u'fake', u'which', u'implicates', u'Key', u'in', u'a', u'conspiracy', u'which', u'would', u'have', u'seen', u'Dotcom', u'extradited', u'to', u'the', u'US', u'to', u'face', u'copyright', u'theft', u'and', u'money', u'laundering', u'charges', u'following', u'him', u'being', u'granted', u'New', u'Zealand', u'residency', u'The', u'ruse', u'by', u'Internet', u'Mana', u's', u'leaders', u'has', u'given', u'them', u'an', u'excuse', u'not', u'to', u'talk', u'about', u'the', u'email', u'on', u'the', u'grounds', u'that', u'it', u'is', u'now', u'part', u'of', u'a', u'judicial', u'process', u'It', u'was', u'a', u'cynical', u'move', u'as', u'cynical', u'as', u'Key', u'declassifying', u'previously', u'highly', u'sensitive', u'documents', u'to', u'defend', u'himself', u'from', u'the', u'accusations', u'of', u'Snowden', u'and', u'Greenwald', u'something', u'to', u'which', u'Hone', u'Harawira', u'and', u'Laila', u'Harre', u'took', u'strong', u'exception', u'But', u'if', u'you', u'declare', u'you', u'have', u'the', u'means', u'of', u'turfing', u'a', u'prime', u'minister', u'out', u'of', u'office', u'you', u'have', u'to', u'be', u'pretty', u'naive', u'to', u'think', u'you', u'are', u'not', u'going', u'to', u'get', u'both', u'barrels', u'in', u'return', u'when', u'you', u'fail', u'What', u'the', u'left', u'have', u'miscalculated', u'yet', u'again', u'is', u'that', u'however', u'worthy', u'their', u'pursuit', u'of', u'Key', u'on', u'the', u'matter', u'of', u'surveillance', u'it', u'is', u'not', u'something', u'that', u'excites', u'the', u'silent', u'majority', u'They', u'are', u'fed', u'up', u'On', u'Saturday', u'they', u'may', u'exact', u'awful', u'revenge', u'and', u'it', u'will', u'be', u'Opposition', u'parties', u'who', u'will', u'be', u'in', u'their', u'sights', u'not', u'Key']\n"
     ]
    },
    {
     "data": {
      "text/plain": [
       "[u'Hell',\n",
       " u'hath',\n",
       " u'fury',\n",
       " u'like',\n",
       " u'voter',\n",
       " u'feels',\n",
       " u'treated',\n",
       " u'like',\n",
       " u'fool',\n",
       " u'political',\n",
       " u'left',\n",
       " u'already',\n",
       " u'paying',\n",
       " u'heavy',\n",
       " u'price',\n",
       " u'election',\n",
       " u'displaying',\n",
       " u'characteristics',\n",
       " u'leave',\n",
       " u'voters',\n",
       " u'stone',\n",
       " u'cold',\n",
       " u'namely',\n",
       " u'disunity',\n",
       " u'political',\n",
       " u'incompetence',\n",
       " u'little',\n",
       " u'arrogance',\n",
       " u'left',\n",
       " u'may']"
      ]
     },
     "execution_count": 57,
     "metadata": {},
     "output_type": "execute_result"
    }
   ],
   "source": [
    "print tokenized_article[:1000]\n",
    "[word for word in tokenized_article if word.lower() not in stopwords][:30]"
   ]
  },
  {
   "cell_type": "markdown",
   "metadata": {},
   "source": [
    "**Exercise:** Create another Text object from the article in the previous exercises which this time has all the stopwords removed from it and plot the 20 most frequently occuring words:"
   ]
  },
  {
   "cell_type": "code",
   "execution_count": 59,
   "metadata": {
    "collapsed": false
   },
   "outputs": [
    {
     "data": {
      "image/png": "[encoded data removed]",
      "text/plain": [
       "<matplotlib.figure.Figure at 0xef5e278>"
      ]
     },
     "metadata": {},
     "output_type": "display_data"
    }
   ],
   "source": [
    "tokenized_article2 = tokenizer.tokenize(cleaned2)\n",
    "[word for word in tokenized_article2 if word.lower() not in stopwords][:20]\n",
    "text_article2 = nltk.Text(tokenized_article2)\n",
    "text_article2\n",
    "%matplotlib inline\n",
    "f = plt.figure( figsize=(18, 6))\n",
    "plt.xlabel('Words', size=50)\n",
    "plt.ylabel('Counts', size=50)\n",
    "plt.title('Sorted histogram of word frequencies', size=50)\n",
    "rcParams['xtick.labelsize'] = 40\n",
    "rcParams['ytick.labelsize'] = 30\n",
    "text_article2.plot(20)\n",
    "ax = f.get_axes()"
   ]
  },
  {
   "cell_type": "code",
   "execution_count": null,
   "metadata": {
    "collapsed": false
   },
   "outputs": [],
   "source": []
  },
  {
   "cell_type": "markdown",
   "metadata": {},
   "source": [
    "If we needed to, we could remove all words from a piece of text which are not spelled correctly or are not words by verifying if they occur in an english dictionary:"
   ]
  },
  {
   "cell_type": "code",
   "execution_count": 58,
   "metadata": {
    "collapsed": false,
    "scrolled": true
   },
   "outputs": [
    {
     "name": "stdout",
     "output_type": "stream",
     "text": [
      "[u'Hell', u'hath', u'no', u'fury', u'like', u'a', u'voter', u'who', u'he', u'or', u'she', u'been', u'like', u'a', u'fool', u'The', u'political', u'left', u'was', u'already', u'paying', u'a', u'heavy', u'price', u'at', u'this', u'election', u'for', u'the', u'which', u'leave', u'stone', u'cold', u'namely', u'disunity', u'political', u'incompetence', u'and', u'not', u'a', u'little', u'arrogance', u'The', u'left', u'may', u'now', u'pay', u'an', u'even', u'bigger', u'price', u'on', u'thanks', u'to', u'Kim', u's', u'Moment', u'of', u'Truth', u'into', u'a', u'Moment', u'of', u'Struth', u'as', u'in', u'struth', u'was', u'that', u'all', u'he', u'had', u'to', u'reveal', u'after', u'of', u'much', u'else', u'far', u'more', u'worthy', u'of', u'debate', u'out', u'of', u'the', u'political', u'picture', u'So', u'robust', u'was', u's', u'evidence', u'of', u'prime', u'ministerial', u'supposed', u'to', u'be', u'that']\n"
     ]
    }
   ],
   "source": [
    "valid_words = [word for word in tokenized_article if  word.lower() in nltk.corpus.words.words()]\n",
    "print valid_words[:100]"
   ]
  },
  {
   "cell_type": "markdown",
   "metadata": {},
   "source": [
    "We can from this, if we wish, create a vocabulary of the words used in a given text:"
   ]
  },
  {
   "cell_type": "code",
   "execution_count": 60,
   "metadata": {
    "collapsed": false,
    "scrolled": true
   },
   "outputs": [
    {
     "data": {
      "text/plain": [
       "[u'a',\n",
       " u'about',\n",
       " u'after',\n",
       " u'again',\n",
       " u'against',\n",
       " u'all',\n",
       " u'allow',\n",
       " u'along',\n",
       " u'already',\n",
       " u'also',\n",
       " u'an',\n",
       " u'and',\n",
       " u'are',\n",
       " u'arrogance',\n",
       " u'as',\n",
       " u'at',\n",
       " u'awful',\n",
       " u'backlash',\n",
       " u'be',\n",
       " u'been',\n",
       " u'being',\n",
       " u'bigger',\n",
       " u'blower',\n",
       " u'both',\n",
       " u'browser',\n",
       " u'bureau',\n",
       " u'but',\n",
       " u'by',\n",
       " u'camp',\n",
       " u'cold',\n",
       " u'committee',\n",
       " u'compelling',\n",
       " u'confined',\n",
       " u'conspiracy',\n",
       " u'copyright',\n",
       " u'could',\n",
       " u'cynical',\n",
       " u'debate',\n",
       " u'declare',\n",
       " u'defend',\n",
       " u'deliver',\n",
       " u'disunity',\n",
       " u'election',\n",
       " u'else',\n",
       " u'enough',\n",
       " u'even',\n",
       " u'evidence',\n",
       " u'exact',\n",
       " u'exception',\n",
       " u'excuse',\n",
       " u'face',\n",
       " u'facing',\n",
       " u'fail',\n",
       " u'failing',\n",
       " u'fake',\n",
       " u'far',\n",
       " u'faster',\n",
       " u'fed',\n",
       " u'following',\n",
       " u'fool',\n",
       " u'for',\n",
       " u'from',\n",
       " u'fury',\n",
       " u'get',\n",
       " u'given',\n",
       " u'going',\n",
       " u'government',\n",
       " u'grace',\n",
       " u'grounds',\n",
       " u'had',\n",
       " u'hath',\n",
       " u'have',\n",
       " u'he',\n",
       " u'heavy',\n",
       " u'hell',\n",
       " u'highly',\n",
       " u'him',\n",
       " u'himself',\n",
       " u'hone',\n",
       " u'however',\n",
       " u'if',\n",
       " u'in',\n",
       " u'incompetence',\n",
       " u'instead',\n",
       " u'into',\n",
       " u'is',\n",
       " u'it',\n",
       " u'its',\n",
       " u'journalist',\n",
       " u'judicial',\n",
       " u'just',\n",
       " u'key',\n",
       " u'kim',\n",
       " u'laughing',\n",
       " u'least',\n",
       " u'leave',\n",
       " u'left',\n",
       " u'length',\n",
       " u'like',\n",
       " u'likewise',\n",
       " u'little',\n",
       " u'majority',\n",
       " u'mana',\n",
       " u'mass',\n",
       " u'matter',\n",
       " u'may',\n",
       " u'media',\n",
       " u'minister',\n",
       " u'ministerial',\n",
       " u'moment',\n",
       " u'money',\n",
       " u'more',\n",
       " u'move',\n",
       " u'much',\n",
       " u'naive',\n",
       " u'namely',\n",
       " u'national',\n",
       " u'new',\n",
       " u'night',\n",
       " u'no',\n",
       " u'not',\n",
       " u'now',\n",
       " u'objection',\n",
       " u'of',\n",
       " u'office',\n",
       " u'on',\n",
       " u'one',\n",
       " u'only',\n",
       " u'opposition',\n",
       " u'or',\n",
       " u'out',\n",
       " u'parliament',\n",
       " u'part',\n",
       " u'pay',\n",
       " u'paying',\n",
       " u'perhaps',\n",
       " u'picture',\n",
       " u'point',\n",
       " u'political',\n",
       " u'pretty',\n",
       " u'previously',\n",
       " u'price',\n",
       " u'prime',\n",
       " u'process',\n",
       " u'pursuit',\n",
       " u'rectangle',\n",
       " u'reference',\n",
       " u'regarding',\n",
       " u'residency',\n",
       " u'return',\n",
       " u'reveal',\n",
       " u'revenge',\n",
       " u'robust',\n",
       " u'ruse',\n",
       " u's',\n",
       " u'saving',\n",
       " u'security',\n",
       " u'seen',\n",
       " u'send',\n",
       " u'sensitive',\n",
       " u'she',\n",
       " u'shown',\n",
       " u'silent',\n",
       " u'sink',\n",
       " u'smart',\n",
       " u'so',\n",
       " u'someone',\n",
       " u'something',\n",
       " u'speaker',\n",
       " u'stock',\n",
       " u'stone',\n",
       " u'strong',\n",
       " u'strung',\n",
       " u'struth',\n",
       " u'supposed',\n",
       " u'surveillance',\n",
       " u'take',\n",
       " u'talk',\n",
       " u'testimony',\n",
       " u'than',\n",
       " u'thanks',\n",
       " u'that',\n",
       " u'the',\n",
       " u'theft',\n",
       " u'their',\n",
       " u'them',\n",
       " u'there',\n",
       " u'they',\n",
       " u'think',\n",
       " u'this',\n",
       " u'to',\n",
       " u'tolerant',\n",
       " u'took',\n",
       " u'treating',\n",
       " u'truth',\n",
       " u'turfing',\n",
       " u'up',\n",
       " u'us',\n",
       " u'voter',\n",
       " u'was',\n",
       " u'what',\n",
       " u'when',\n",
       " u'whether',\n",
       " u'which',\n",
       " u'whistle',\n",
       " u'who',\n",
       " u'will',\n",
       " u'worse',\n",
       " u'worthy',\n",
       " u'would',\n",
       " u'wreck',\n",
       " u'yet',\n",
       " u'you']"
      ]
     },
     "execution_count": 60,
     "metadata": {},
     "output_type": "execute_result"
    }
   ],
   "source": [
    "valid_words_lower = [ word.lower() for word in valid_words]\n",
    "text_vocab = sorted(set(valid_words_lower))\n",
    "text_vocab"
   ]
  },
  {
   "cell_type": "markdown",
   "metadata": {},
   "source": [
    "We can combine the above to reduce the text to only a valid word and non-stopword collection for a distribution frequency:"
   ]
  },
  {
   "cell_type": "code",
   "execution_count": 61,
   "metadata": {
    "collapsed": false
   },
   "outputs": [
    {
     "data": {
      "image/png": "[encoded data removed]",
      "text/plain": [
       "<matplotlib.figure.Figure at 0x11c3d208>"
      ]
     },
     "metadata": {},
     "output_type": "display_data"
    }
   ],
   "source": [
    "valid_text = nltk.Text(valid_words_lower)\n",
    "no_stops = [word for word in valid_text if word.lower() not in stopwords]\n",
    "no_stops = nltk.Text(no_stops)\n",
    "f = plt.figure( figsize=(18, 6))\n",
    "plt.xlabel('Samples', size=50)\n",
    "plt.ylabel('Counts', size=50)\n",
    "plt.title('Sorted histogram of word frequencies', size=50)\n",
    "rcParams['xtick.labelsize'] = 40\n",
    "no_stops.plot(30)"
   ]
  },
  {
   "cell_type": "markdown",
   "metadata": {},
   "source": [
    "## 1.4 Text Normalization"
   ]
  },
  {
   "cell_type": "markdown",
   "metadata": {},
   "source": [
    "Text normalization reduce a word to its base or stem form so that text analysis can be more accurate and meaningful by considering words that differ slightly as being same. There are two startegies for this: stemming and lemmatization."
   ]
  },
  {
   "cell_type": "markdown",
   "metadata": {},
   "source": [
    "### Stemming"
   ]
  },
  {
   "cell_type": "markdown",
   "metadata": {},
   "source": [
    "Stemming is the simplest and computationally least expensive strategy which essentially chops off the ending of words in order to arrive at a normalized form."
   ]
  },
  {
   "cell_type": "code",
   "execution_count": 62,
   "metadata": {
    "collapsed": false
   },
   "outputs": [
    {
     "data": {
      "text/plain": [
       "[u'women', u'run', u'run', u'run', u'ran']"
      ]
     },
     "execution_count": 62,
     "metadata": {},
     "output_type": "execute_result"
    }
   ],
   "source": [
    "from nltk.stem import PorterStemmer\n",
    "porter_stemmer = PorterStemmer()\n",
    "\n",
    "text = tokenizer.tokenize('women run running runs ran')\n",
    "[ porter_stemmer.stem(word) for word in text]"
   ]
  },
  {
   "cell_type": "code",
   "execution_count": 63,
   "metadata": {
    "collapsed": false
   },
   "outputs": [],
   "source": [
    "from nltk.stem.snowball import SnowballStemmer\n",
    "snowball_stemmer = SnowballStemmer('english')"
   ]
  },
  {
   "cell_type": "code",
   "execution_count": 64,
   "metadata": {
    "collapsed": false
   },
   "outputs": [
    {
     "name": "stdout",
     "output_type": "stream",
     "text": [
      "charg\n",
      "charg\n",
      "charg\n",
      "charg\n"
     ]
    }
   ],
   "source": [
    "# example stemming\n",
    "print snowball_stemmer.stem('charge')\n",
    "print snowball_stemmer.stem('charging')\n",
    "print snowball_stemmer.stem('charged')\n",
    "print snowball_stemmer.stem('charges')"
   ]
  },
  {
   "cell_type": "code",
   "execution_count": 65,
   "metadata": {
    "collapsed": false,
    "scrolled": true
   },
   "outputs": [
    {
     "data": {
      "text/plain": [
       "[u'hell',\n",
       " u'hath',\n",
       " u'no',\n",
       " u'furi',\n",
       " u'like',\n",
       " u'a',\n",
       " u'voter',\n",
       " u'who',\n",
       " u'feel',\n",
       " u'he',\n",
       " u'or',\n",
       " u'she',\n",
       " u'has',\n",
       " u'been',\n",
       " u'treat',\n",
       " u'like',\n",
       " u'a',\n",
       " u'fool',\n",
       " u'the',\n",
       " u'polit',\n",
       " u'left',\n",
       " u'was',\n",
       " u'alreadi',\n",
       " u'pay',\n",
       " u'a']"
      ]
     },
     "execution_count": 65,
     "metadata": {},
     "output_type": "execute_result"
    }
   ],
   "source": [
    "# stem the tokens\n",
    "clean_tokens = tokenizer.tokenize(cleaned_article) \n",
    "stemmed_tokens = [snowball_stemmer.stem(t) for t in clean_tokens]\n",
    "stemmed_tokens[:25]"
   ]
  },
  {
   "cell_type": "markdown",
   "metadata": {},
   "source": [
    "### Lemmatization"
   ]
  },
  {
   "cell_type": "markdown",
   "metadata": {},
   "source": [
    "Lemmatization is much more powerful since it employs a dictionary. Lemmatization employs a broader scope of fuzzy word matching."
   ]
  },
  {
   "cell_type": "code",
   "execution_count": 66,
   "metadata": {
    "collapsed": false
   },
   "outputs": [
    {
     "name": "stdout",
     "output_type": "stream",
     "text": [
      "dog\n",
      "dog\n",
      "wolv\n",
      "wolf\n",
      "automobil\n",
      "automobile\n"
     ]
    }
   ],
   "source": [
    "lemmatizer = nltk.WordNetLemmatizer()\n",
    "\n",
    "# compare stemmer to lemmatizer\n",
    "print porter_stemmer.stem('dogs')\n",
    "print lemmatizer.lemmatize('dogs')\n",
    "\n",
    "print porter_stemmer.stem('wolves') # Beter for information retrieval and search\n",
    "print lemmatizer.lemmatize('wolves') # Better for text analysis\n",
    "\n",
    "# compare stemmer to lemmatizer\n",
    "print porter_stemmer.stem('automobiles')\n",
    "print lemmatizer.lemmatize('automobiles')"
   ]
  },
  {
   "cell_type": "markdown",
   "metadata": {},
   "source": [
    "WorldNet Lemmatizer accepts the word if it is in the dictionary: "
   ]
  },
  {
   "cell_type": "code",
   "execution_count": 67,
   "metadata": {
    "collapsed": false,
    "scrolled": true
   },
   "outputs": [
    {
     "data": {
      "text/plain": [
       "[u'Hell',\n",
       " u'hath',\n",
       " u'no',\n",
       " u'fury',\n",
       " u'like',\n",
       " u'a',\n",
       " u'voter',\n",
       " u'who',\n",
       " u'feel',\n",
       " u'he',\n",
       " u'or',\n",
       " u'she',\n",
       " u'ha',\n",
       " u'been',\n",
       " u'treated',\n",
       " u'like',\n",
       " u'a',\n",
       " u'fool',\n",
       " u'The',\n",
       " u'political',\n",
       " u'left',\n",
       " u'wa',\n",
       " u'already',\n",
       " u'paying',\n",
       " u'a',\n",
       " u'heavy',\n",
       " u'price',\n",
       " u'at',\n",
       " u'this',\n",
       " u'election',\n",
       " u'for',\n",
       " u'displaying',\n",
       " u'the',\n",
       " u'characteristic',\n",
       " u'which']"
      ]
     },
     "execution_count": 67,
     "metadata": {},
     "output_type": "execute_result"
    }
   ],
   "source": [
    "lemmatizer_tokens = [lemmatizer.lemmatize(t) for t in clean_tokens]\n",
    "lemmatizer_tokens[:35]"
   ]
  },
  {
   "cell_type": "markdown",
   "metadata": {},
   "source": [
    "**Exercise:** Come up with a list of five nouns with irregular plurals and compare how lemmatization and stemming performs:\n"
   ]
  },
  {
   "cell_type": "code",
   "execution_count": null,
   "metadata": {
    "collapsed": true
   },
   "outputs": [],
   "source": []
  },
  {
   "cell_type": "markdown",
   "metadata": {},
   "source": [
    "# 2. Text Semantic Analysis"
   ]
  },
  {
   "cell_type": "markdown",
   "metadata": {},
   "source": [
    "The usual NLP pipeline involved in semantic analysis of text consists of the following steps depending on the domain and purpose of analysis: \n",
    "\n",
    "1. End of Sentence (EOS) Detection, then\n",
    "2. Tokenization, then\n",
    "3. Part-of-Speech (POS) Tagging, then\n",
    "4. Chunking, then\n",
    "5. Information Extraction"
   ]
  },
  {
   "cell_type": "markdown",
   "metadata": {},
   "source": [
    "http://googleresearch.blogspot.co.nz/2016/05/announcing-syntaxnet-worlds-most.html"
   ]
  },
  {
   "cell_type": "markdown",
   "metadata": {},
   "source": [
    "We have seen what tokenization and normalization are and how they are used at the most basic level of text processing. In order to make meaning of text though, words must be organised into sentences and then words in sentences must be identified according to their types.\n",
    "\n",
    "The (EOS) Detection part looks at a text and first attempts to segment it based on sentences. It looks for beginning and the end of each sentence in order to give text structure."
   ]
  },
  {
   "cell_type": "code",
   "execution_count": 68,
   "metadata": {
    "collapsed": false
   },
   "outputs": [
    {
     "data": {
      "text/plain": [
       "['Dr. Sheldon Cooper can be very abraisive to others with what he says.',\n",
       " 'Dr. Sheldon Cooper is sometimes not much liked, but is very amusing.']"
      ]
     },
     "execution_count": 68,
     "metadata": {},
     "output_type": "execute_result"
    }
   ],
   "source": [
    "text = 'Dr. Sheldon Cooper can be very abraisive to others with what he says. Dr. Sheldon Cooper is sometimes not much liked, but is very amusing.'\n",
    "sentences = nltk.tokenize.sent_tokenize(text)\n",
    "sentences"
   ]
  },
  {
   "cell_type": "markdown",
   "metadata": {},
   "source": [
    "Following the EOS segmentation, the individual sentences are then tokenized as we have seen before."
   ]
  },
  {
   "cell_type": "code",
   "execution_count": 69,
   "metadata": {
    "collapsed": false
   },
   "outputs": [
    {
     "data": {
      "text/plain": [
       "[['Dr',\n",
       "  'Sheldon',\n",
       "  'Cooper',\n",
       "  'can',\n",
       "  'be',\n",
       "  'very',\n",
       "  'abraisive',\n",
       "  'to',\n",
       "  'others',\n",
       "  'with',\n",
       "  'what',\n",
       "  'he',\n",
       "  'says'],\n",
       " ['Dr',\n",
       "  'Sheldon',\n",
       "  'Cooper',\n",
       "  'is',\n",
       "  'sometimes',\n",
       "  'not',\n",
       "  'much',\n",
       "  'liked',\n",
       "  'but',\n",
       "  'is',\n",
       "  'very',\n",
       "  'amusing']]"
      ]
     },
     "execution_count": 69,
     "metadata": {},
     "output_type": "execute_result"
    }
   ],
   "source": [
    "tokens = [tokenizer.tokenize(sentence) for sentence in sentences] \n",
    "tokens"
   ]
  },
  {
   "cell_type": "markdown",
   "metadata": {},
   "source": [
    "POS tagging is very important for semantic analysis. \n",
    "\n",
    "Each word/token is decorated with a part of the speech or linguistic construct it belongs to. \n",
    "\n",
    "This can later be used for deriving meaning from a text and for example, for applying machine learning. "
   ]
  },
  {
   "cell_type": "raw",
   "metadata": {},
   "source": [
    "Number  Tag    Description\n",
    "1.  \tCC  \tCoordinating conjunction\n",
    "2.  \tCD  \tCardinal number\n",
    "3. \t    DT  \tDeterminer\n",
    "4.  \tEX  \tExistential there\n",
    "5.  \tFW  \tForeign word\n",
    "6.  \tIN  \tPreposition or subordinating conjunction\n",
    "7.  \tJJ  \tAdjective\n",
    "8.  \tJJR \tAdjective, comparative\n",
    "9.  \tJJS \tAdjective, superlative\n",
    "10. \tLS  \tList item marker\n",
    "11. \tMD  \tModal\n",
    "12. \tNN  \tNoun, singular or mass\n",
    "13. \tNNS \tNoun, plural\n",
    "14. \tNNP \tProper noun, singular\n",
    "15. \tNNPS \tProper noun, plural\n",
    "16. \tPDT \tPredeterminer\n",
    "17. \tPOS \tPossessive ending\n",
    "18. \tPRP \tPersonal pronoun\n",
    "19. \tPRP$ \tPossessive pronoun\n",
    "20. \tRB  \tAdverb\n",
    "21. \tRBR \tAdverb, comparative\n",
    "22. \tRBS \tAdverb, superlative\n",
    "23. \tRP  \tParticle\n",
    "24. \tSYM \tSymbol\n",
    "25. \tTO  \tto\n",
    "26. \tUH  \tInterjection\n",
    "27. \tVB  \tVerb, base form\n",
    "28. \tVBD \tVerb, past tense\n",
    "29. \tVBG \tVerb, gerund or present participle\n",
    "30. \tVBN \tVerb, past participle\n",
    "31. \tVBP \tVerb, non-3rd person singular present\n",
    "32. \tVBZ \tVerb, 3rd person singular present\n",
    "33. \tWDT \tWh-determiner\n",
    "34. \tWP  \tWh-pronoun\n",
    "35. \tWP$ \tPossessive wh-pronoun\n",
    "36. \tWRB \tWh-adverb \n",
    "\n",
    "Source: http://www.ling.upenn.edu/courses/Fall_2003/ling001/penn_treebank_pos.html"
   ]
  },
  {
   "cell_type": "code",
   "execution_count": 70,
   "metadata": {
    "collapsed": false,
    "scrolled": true
   },
   "outputs": [
    {
     "data": {
      "text/plain": [
       "[[('Dr', 'NNP'),\n",
       "  ('Sheldon', 'NNP'),\n",
       "  ('Cooper', 'NNP'),\n",
       "  ('can', 'MD'),\n",
       "  ('be', 'VB'),\n",
       "  ('very', 'RB'),\n",
       "  ('abraisive', 'JJ'),\n",
       "  ('to', 'TO'),\n",
       "  ('others', 'NNS'),\n",
       "  ('with', 'IN'),\n",
       "  ('what', 'WP'),\n",
       "  ('he', 'PRP'),\n",
       "  ('says', 'VBZ')],\n",
       " [('Dr', 'NNP'),\n",
       "  ('Sheldon', 'NNP'),\n",
       "  ('Cooper', 'NNP'),\n",
       "  ('is', 'VBZ'),\n",
       "  ('sometimes', 'RB'),\n",
       "  ('not', 'RB'),\n",
       "  ('much', 'JJ'),\n",
       "  ('liked', 'VBN'),\n",
       "  ('but', 'CC'),\n",
       "  ('is', 'VBZ'),\n",
       "  ('very', 'RB'),\n",
       "  ('amusing', 'JJ')]]"
      ]
     },
     "execution_count": 70,
     "metadata": {},
     "output_type": "execute_result"
    }
   ],
   "source": [
    "pos_tagged_tokens = [nltk.pos_tag(token) for token in tokens] \n",
    "pos_tagged_tokens"
   ]
  },
  {
   "cell_type": "markdown",
   "metadata": {},
   "source": [
    "Chunk extraction is a useful step towards achieving information extraction. It generates a parse trees from unstructured text. Given a parse tree of a sentence,  more specific information extraction like named entity recognition and relation extraction can be accomplished as a final step."
   ]
  },
  {
   "cell_type": "code",
   "execution_count": 71,
   "metadata": {
    "collapsed": false
   },
   "outputs": [
    {
     "data": {
      "text/plain": [
       "[Tree('S', [('Dr', 'NNP'), ('Sheldon', 'NNP'), ('Cooper', 'NNP'), ('can', 'MD'), ('be', 'VB'), ('very', 'RB'), ('abraisive', 'JJ'), ('to', 'TO'), ('others', 'NNS'), ('with', 'IN'), ('what', 'WP'), ('he', 'PRP'), ('says', 'VBZ')]),\n",
       " Tree('S', [('Dr', 'NNP'), ('Sheldon', 'NNP'), ('Cooper', 'NNP'), ('is', 'VBZ'), ('sometimes', 'RB'), ('not', 'RB'), ('much', 'JJ'), ('liked', 'VBN'), ('but', 'CC'), ('is', 'VBZ'), ('very', 'RB'), ('amusing', 'JJ')])]"
      ]
     },
     "execution_count": 71,
     "metadata": {},
     "output_type": "execute_result"
    }
   ],
   "source": [
    "pos_tagged_chunks = [nltk.ne_chunk(chunk) for chunk in pos_tagged_tokens] \n",
    "pos_tagged_chunks"
   ]
  },
  {
   "cell_type": "markdown",
   "metadata": {},
   "source": [
    "The chunks can  be visually portrayed:"
   ]
  },
  {
   "cell_type": "code",
   "execution_count": 72,
   "metadata": {
    "collapsed": false
   },
   "outputs": [
    {
     "name": "stdout",
     "output_type": "stream",
     "text": [
      "(S\n",
      "  Dr/NNP\n",
      "  Sheldon/NNP\n",
      "  Cooper/NNP\n",
      "  can/MD\n",
      "  be/VB\n",
      "  very/RB\n",
      "  abraisive/JJ\n",
      "  to/TO\n",
      "  others/NNS\n",
      "  with/IN\n",
      "  what/WP\n",
      "  he/PRP\n",
      "  says/VBZ)\n"
     ]
    }
   ],
   "source": [
    "pos_tagged_chunks[0].pprint()"
   ]
  },
  {
   "cell_type": "code",
   "execution_count": 73,
   "metadata": {
    "collapsed": false
   },
   "outputs": [],
   "source": [
    "pos_tagged_chunks[0].draw()"
   ]
  },
  {
   "cell_type": "markdown",
   "metadata": {},
   "source": [
    "Information Extraction involves analyzing each chunk and associating it with an additional tag. Information Extraction standardly consists of three subtasks: Named Entity Recognition, Relation Extraction and Template Filling.\n"
   ]
  },
  {
   "cell_type": "markdown",
   "metadata": {},
   "source": [
    "## Analysing text - Collocations and n-grams"
   ]
  },
  {
   "cell_type": "markdown",
   "metadata": {},
   "source": [
    "A collocation is a sequence of words that occur together unusually often. Examples: *red\n",
    "wine*, *cosmetic surgery*, *large house* or a verbal phrase like *pick up*. \n",
    "\n",
    "The above are examples of bigrams, but of course this can be expanded to n-grams. \n",
    "\n",
    "n-gram models are very effective in modeling language data. This is a core part in statistical language applications. While n-gram analysis is a crucial part of many of the exiting applications NLP models such as machine translation applications, they are also complemented with other models such as Bayesian inference.\n",
    " \n",
    "To get a handle on collocations, we start off by extracting from a text a list of word\n",
    "pairs, also known as bigrams. This is easily accomplished with the function bigrams():"
   ]
  },
  {
   "cell_type": "code",
   "execution_count": 74,
   "metadata": {
    "collapsed": false
   },
   "outputs": [
    {
     "name": "stdout",
     "output_type": "stream",
     "text": [
      "('more', 'is')\n",
      "('is', 'said')\n",
      "('said', 'than')\n",
      "('than', 'done')\n"
     ]
    }
   ],
   "source": [
    "from nltk import bigrams\n",
    "bgrs = bigrams(['more', 'is', 'said', 'than', 'done'])\n",
    "\n",
    "for i in range(4):\n",
    "    print bgrs.next()"
   ]
  },
  {
   "cell_type": "markdown",
   "metadata": {},
   "source": [
    "Now, collocations are essentially just frequent bigrams or n-grams.\n",
    "\n",
    "Below is an example of performing collocation analysis in order to draw out some meaning from the text by performing 2 and 3 word collocation analysis: \n",
    "\n"
   ]
  },
  {
   "cell_type": "code",
   "execution_count": 75,
   "metadata": {
    "collapsed": false
   },
   "outputs": [
    {
     "name": "stdout",
     "output_type": "stream",
     "text": [
      "Bigram analysis\n",
      "[(u'even', u'bigger'), (u'ContentRect_frame', u'src'), (u'Internet', u'Mana'), (u'an', u'even'), (u'Snowden', u'and'), (u's', u'evidence'), (u'will', u'be'), (u'has', u'been'), (u'is', u'now'), (u'have', u'been'), (u'Moment', u'of'), (u'out', u'of'), (u'Dotcom', u's'), (u'you', u'have'), (u'like', u'a')]\n"
     ]
    }
   ],
   "source": [
    "from nltk.collocations import *\n",
    "\n",
    "#tokenized_article = [word for word in tokenized_article if word not in stopwords]\n",
    "bigram_measures = nltk.collocations.BigramAssocMeasures()\n",
    "\n",
    "\n",
    "# change this to read in your data\n",
    "finder = BigramCollocationFinder.from_words(tokenized_article)\n",
    "\n",
    "# only bigrams that appear 2+ times\n",
    "finder.apply_freq_filter(2) \n",
    "\n",
    "# return the 10 n-grams with the highest PMI\n",
    "print \"Bigram analysis\"\n",
    "print finder.nbest(bigram_measures.pmi, 15) "
   ]
  },
  {
   "cell_type": "code",
   "execution_count": 76,
   "metadata": {
    "collapsed": false
   },
   "outputs": [
    {
     "name": "stdout",
     "output_type": "stream",
     "text": [
      "Trigram analysis\n",
      "[(u'an', u'even', u'bigger'), (u'Dotcom', u's', u'evidence')]\n"
     ]
    }
   ],
   "source": [
    "# change this to read in your data\n",
    "finder = nltk.collocations.TrigramCollocationFinder.from_words(tokenized_article)\n",
    "\n",
    "# only trigrams that appear 2+ times\n",
    "finder.apply_freq_filter(2) \n",
    "\n",
    "trigram_measures = nltk.collocations.TrigramAssocMeasures()\n",
    "\n",
    "print \"Trigram analysis\"\n",
    "print finder.nbest(trigram_measures.pmi, 15) "
   ]
  },
  {
   "cell_type": "markdown",
   "metadata": {},
   "source": [
    "**Exercise:** Perform bi and tri gram analysis on the article from the previous exercise but this time remove all the stop words before the analysis:"
   ]
  },
  {
   "cell_type": "code",
   "execution_count": 77,
   "metadata": {
    "collapsed": false
   },
   "outputs": [
    {
     "name": "stdout",
     "output_type": "stream",
     "text": [
      "Bigram analysis\n",
      "[(u'isn', u't'), (u'Phase', u'I'), (u'Prime', u'Minister'), (u'not', u'be'), (u'provided', u'by'), (u'top', u'secret'), (u'cable', u'access'), (u'The', u'Intercept'), (u'New', u'Zealand'), (u'New', u'Zealanders'), (u'NSA', u'document'), (u'a', u'new'), (u'mass', u'surveillance'), (u'designed', u'to'), (u'to', u'implement')]\n"
     ]
    }
   ],
   "source": [
    "from nltk.collocations import *\n",
    "\n",
    "#tokenized_article = [word for word in tokenized_article if word not in stopwords]\n",
    "bigram_measures = nltk.collocations.BigramAssocMeasures()\n",
    "\n",
    "\n",
    "# change this to read in your data\n",
    "finder = BigramCollocationFinder.from_words(tokenized_article2)\n",
    "\n",
    "# only bigrams that appear 2+ times\n",
    "finder.apply_freq_filter(2) \n",
    "\n",
    "# return the 10 n-grams with the highest PMI\n",
    "print \"Bigram analysis\"\n",
    "print finder.nbest(bigram_measures.pmi, 15) "
   ]
  },
  {
   "cell_type": "markdown",
   "metadata": {},
   "source": [
    "Putting it all together:\n",
    "\n",
    "**Exercise:** Write a function that accepts an article/document as a string and then prints the following:\n",
    "\n",
    "- number of sentences in it\n",
    "- number of words\n",
    "- number of unique words\n",
    "- number of hapaxes (words that appear only once: call hapaxes() on the frequency distribution object)\n",
    "- plot frequency distribution of the top 10 words\n",
    "- print 10 most frequent words\n",
    "- list of bigrams\n",
    "- list of trigrams"
   ]
  },
  {
   "cell_type": "code",
   "execution_count": null,
   "metadata": {
    "collapsed": false
   },
   "outputs": [],
   "source": [
    "import json\n",
    "import nltk\n",
    "from nltk import bigrams\n",
    "from nltk.collocations import *\n",
    "\n",
    "def summarise_text_features(text):\n",
    "    #YOUR CODE HERE\n",
    "\n",
    "summarise_text_features(cleaned_article)"
   ]
  },
  {
   "cell_type": "markdown",
   "metadata": {
    "collapsed": true
   },
   "source": [
    "Semantic analysis is a very large field of study. The above steps represents the building of the foundations on top of which more sophisticated analysis can then be performed. "
   ]
  },
  {
   "cell_type": "markdown",
   "metadata": {
    "collapsed": true
   },
   "source": [
    "# 3. Text Mining - Automated Document Summarization "
   ]
  },
  {
   "cell_type": "markdown",
   "metadata": {},
   "source": [
    "Automatic text summarization reduces a text document in order to create a summary that retains the most important points from the original. \n",
    "\n",
    "Due to the increasing problem of information overload, applications and research into interest automatic summarization has also increased and this has become an important area within machine learning and data mining.\n",
    "\n",
    "Summarization technologies are used today in many industry sectors. Google is the best example. But news and media outlets also heavily use these technologies."
   ]
  },
  {
   "cell_type": "code",
   "execution_count": 78,
   "metadata": {
    "collapsed": false
   },
   "outputs": [
    {
     "name": "stdout",
     "output_type": "stream",
     "text": [
      "Collecting lda\n",
      "  Downloading lda-1.0.4-cp27-cp27m-win_amd64.whl (313kB)\n",
      "Requirement already satisfied (use --upgrade to upgrade): numpy<2.0,>=1.6.1 in d:\\program files\\anaconda\\lib\\site-packages (from lda)\n",
      "Collecting pbr>=0.6 (from lda)\n",
      "  Downloading pbr-1.10.0-py2.py3-none-any.whl (96kB)\n",
      "Installing collected packages: pbr, lda\n",
      "Successfully installed lda-1.0.4 pbr-1.10.0\n"
     ]
    }
   ],
   "source": [
    "!pip install lda"
   ]
  },
  {
   "cell_type": "markdown",
   "metadata": {},
   "source": [
    "### Document topic discovery"
   ]
  },
  {
   "cell_type": "markdown",
   "metadata": {},
   "source": [
    "Latent Dirichlet Allocation (LDA) is a powerful algorithm which can automatically discover topics from sentences.\n",
    "\n",
    "LDA defines each topic as a bag of words, though it does not determne what the topis is. You have to label the topics as you deem fit.\n",
    "\n",
    "The algorithm is essentially iterative. It will check and update topic assignments, looping through each word in every document. For each word, its topic assignment is updated based on two criteria:\n",
    "\n",
    "    How prevalent is that word across topics?\n",
    "\n",
    "    How prevalent are topics in the document?"
   ]
  },
  {
   "cell_type": "code",
   "execution_count": 79,
   "metadata": {
    "collapsed": false
   },
   "outputs": [],
   "source": [
    "import lda\n",
    "from sklearn.feature_extraction.text import CountVectorizer\n",
    "\n",
    "# Instantiate a count vectorizer with two additional parameters\n",
    "vect = CountVectorizer(stop_words='english', ngram_range=[1,3]) \n",
    "sentences_train = vect.fit_transform( nltk.tokenize.sent_tokenize(cleaned_article) )"
   ]
  },
  {
   "cell_type": "code",
   "execution_count": 80,
   "metadata": {
    "collapsed": false
   },
   "outputs": [
    {
     "name": "stdout",
     "output_type": "stream",
     "text": [
      "Topic 0: residency, seen dotcom, facing, face copyright theft, extradited face copyright, extradited face, email grounds judicial, email deemed, election displaying characteristics\n",
      "Topic 1: key, saturday, prime, rectangle contentrect, supposed sink, supposed sink john, office, office pretty naive, opposition parties\n",
      "Topic 2: internet, internet mana, mana, naive, testimony, testimony whistle, testimony whistle blower, communications security, saving grace\n",
      "Topic 3: dotcom, bigger, months, far, key faster bismarck, moment truth, msie contentrect length, debate political picture, debate political\n",
      "Topic 4: voters, surveillance, sensitive documents defend, edward snowden, dotcom wreck monday, browser, dotcom shown, point, tolerant\n",
      "Topic 5: dotcom, email, key, backlash, greenwald, consists, snowden greenwald hone, glenn greenwald, deliver\n",
      "Topic 6: left, political, struth, moment, worthy, price, paying heavy price, paying heavy, saturday thanks kim\n",
      "Topic 7: contentrect, evidence, src, robust dotcom evidence, miscalculated, msie, msie contentrect, parliament speaker, prime ministerial untruths\n",
      "Topic 8: like, contentrect_frame, contentrect_frame src, hath, feels treated, fool, committee, cold disunity political, saving grace internet\n",
      "Topic 9: cynical, new, snowden, laughing stock, harawira laila, cynical cynical key, cynical cynical, stock, harre took\n"
     ]
    }
   ],
   "source": [
    "# Instantiate an LDA model\n",
    "model = lda.LDA(n_topics=10, n_iter=500)\n",
    "model.fit(sentences_train) # Fit the model \n",
    "n_top_words = 10\n",
    "topic_word = model.topic_word_\n",
    "for i, topic_dist in enumerate(topic_word):\n",
    "    topic_words = np.array(vect.get_feature_names())[np.argsort(topic_dist)][:-n_top_words:-1]\n",
    "    print('Topic {}: {}'.format(i, ', '.join(topic_words)))"
   ]
  },
  {
   "cell_type": "markdown",
   "metadata": {},
   "source": [
    "**Exercise:** Extract a web based document and run topic discovery on it using LDA. How meaningful are the results?"
   ]
  },
  {
   "cell_type": "code",
   "execution_count": 82,
   "metadata": {
    "collapsed": false
   },
   "outputs": [],
   "source": [
    "import lda\n",
    "from sklearn.feature_extraction.text import CountVectorizer\n",
    "\n",
    "# Instantiate a count vectorizer with two additional parameters\n",
    "vect = CountVectorizer(stop_words='english', ngram_range=[1,3]) \n",
    "sentences_train = vect.fit_transform( nltk.tokenize.sent_tokenize(cleaned_article) )"
   ]
  },
  {
   "cell_type": "code",
   "execution_count": 83,
   "metadata": {
    "collapsed": false
   },
   "outputs": [
    {
     "name": "stdout",
     "output_type": "stream",
     "text": [
      "Topic 0: contentrect_frame, internet, mana, internet mana, snowden, dotcom, contentrect_frame src, src saving grace, msie\n",
      "Topic 1: far, months, backlash, moment, saturday, struth, instead, reveal months, reveal months squashing\n",
      "Topic 2: prime, think, following granted new, means turfing, means, seen dotcom, seen, office pretty, dotcom evidence prime\n",
      "Topic 3: political, worthy, left, price, bigger, incompetence, displaying, incompetence little arrogance, characteristics leave voters\n",
      "Topic 4: key, money laundering charges, untruths supposed, surveillance excites silent, revenge opposition parties, robust, excites silent, robust dotcom evidence, money laundering\n",
      "Topic 5: dotcom, evidence, smart, new, dotcom evidence, send dotcom, ministerial, send, parliament speaker reference\n",
      "Topic 6: like, voters, contentrect, src, like voter feels, grace internet mana, src saving, browser msie, src contentrect_frame src\n",
      "Topic 7: cynical, greenwald, harawira, highly, harre took, harre took strong, sensitive documents defend, sensitive documents, sensitive\n",
      "Topic 8: surveillance, zealanders government communications, parties sights key, matter, matter surveillance, miscalculated, miscalculated worthy, miscalculated worthy pursuit, monday night\n",
      "Topic 9: email, grounds judicial process, consists just email, national, copyright theft money, stock, grounds, hath fury like, conspiracy\n"
     ]
    }
   ],
   "source": [
    "# Instantiate an LDA model\n",
    "model = lda.LDA(n_topics=10, n_iter=500)\n",
    "model.fit(sentences_train) # Fit the model \n",
    "n_top_words = 10\n",
    "topic_word = model.topic_word_\n",
    "for i, topic_dist in enumerate(topic_word):\n",
    "    topic_words = np.array(vect.get_feature_names())[np.argsort(topic_dist)][:-n_top_words:-1]\n",
    "    print('Topic {}: {}'.format(i, ', '.join(topic_words)))"
   ]
  },
  {
   "cell_type": "markdown",
   "metadata": {},
   "source": [
    "### Text summarization"
   ]
  },
  {
   "cell_type": "markdown",
   "metadata": {},
   "source": [
    "The following algorithm is attributed to H.P. Luhn\n",
    "\n",
    "> Luhn, H. P. (1958). The automatic creation of literature abstracts. IBM Journal of research and development, 2(2), 159-165.\n",
    "\n",
    "The algorithm is implemented in the book:\n",
    "\n",
    "> Russell, M. A. (2013). Mining the Social Web: Data Mining Facebook, Twitter, LinkedIn, Google+, GitHub, and More. \" O'Reilly Media, Inc.\".\n",
    "\n",
    "\n",
    "The algorithm is based on sentence detection and frequency distribution analysis. Essentially, the algorithms filters out sentences containing frequently occurring words that occur in close proximity to one another."
   ]
  },
  {
   "cell_type": "code",
   "execution_count": 84,
   "metadata": {
    "collapsed": true
   },
   "outputs": [],
   "source": [
    "# -*- coding: utf-8 -*-\n",
    "\n",
    "#source https://github.com/ptwobrussell/Mining-the-Social-Web/blob/master/python_code/blogs_and_nlp__summarize.py\n",
    "\n",
    "import sys\n",
    "import json\n",
    "import nltk\n",
    "import numpy\n",
    "\n",
    "N = 50  # Number of words to consider\n",
    "CLUSTER_THRESHOLD = 5  # Distance between words to consider\n",
    "TOP_SENTENCES = 3  # Number of sentences to return for a \"top n\" summary\n",
    "\n",
    "# Approach taken from \"The Automatic Creation of Literature Abstracts\" by H.P. Luhn\n",
    "\n",
    "def _score_sentences(sentences, important_words):\n",
    "    scores = []\n",
    "    sentence_idx = -1\n",
    "\n",
    "    for s in [nltk.tokenize.word_tokenize(s) for s in sentences]:\n",
    "\n",
    "        sentence_idx += 1\n",
    "        word_idx = []\n",
    "\n",
    "        # For each word in the word list...\n",
    "        for w in important_words:\n",
    "            try:\n",
    "                # Compute an index for where any important words occur in the sentence\n",
    "                word_idx.append(s.index(w))\n",
    "            except ValueError, e: # w not in this particular sentence\n",
    "                pass\n",
    "\n",
    "        word_idx.sort()\n",
    "\n",
    "        # It is possible that some sentences may not contain any important words at all\n",
    "        if len(word_idx)== 0: continue\n",
    "\n",
    "        # Using the word index, compute clusters by using a max distance threshold\n",
    "        # for any two consecutive words\n",
    "\n",
    "        clusters = []\n",
    "        cluster = [word_idx[0]]\n",
    "        i = 1\n",
    "        while i < len(word_idx):\n",
    "            if word_idx[i] - word_idx[i - 1] < CLUSTER_THRESHOLD:\n",
    "                cluster.append(word_idx[i])\n",
    "            else:\n",
    "                clusters.append(cluster[:])\n",
    "                cluster = [word_idx[i]]\n",
    "            i += 1\n",
    "        clusters.append(cluster)\n",
    "\n",
    "        # Score each cluster. The max score for any given cluster is the score \n",
    "        # for the sentence\n",
    "\n",
    "        max_cluster_score = 0\n",
    "        for c in clusters:\n",
    "            significant_words_in_cluster = len(c)\n",
    "            total_words_in_cluster = c[-1] - c[0] + 1\n",
    "            score = 1.0 * significant_words_in_cluster \\\n",
    "                * significant_words_in_cluster / total_words_in_cluster\n",
    "\n",
    "            if score > max_cluster_score:\n",
    "                max_cluster_score = score\n",
    "\n",
    "        scores.append((sentence_idx, score))\n",
    "\n",
    "    return scores"
   ]
  },
  {
   "cell_type": "code",
   "execution_count": 85,
   "metadata": {
    "collapsed": false
   },
   "outputs": [],
   "source": [
    "def summarize(txt):\n",
    "    sentences = [s for s in nltk.tokenize.sent_tokenize(txt)]\n",
    "    normalized_sentences = [s.lower() for s in sentences]\n",
    "\n",
    "    words = [w.lower() for sentence in normalized_sentences for w in\n",
    "             nltk.tokenize.word_tokenize(sentence)]\n",
    "\n",
    "    fdist = nltk.FreqDist(words)\n",
    "\n",
    "    top_n_words = [w[0] for w in fdist.items() \n",
    "            if w[0] not in nltk.corpus.stopwords.words('english')][:N]\n",
    "\n",
    "    scored_sentences = _score_sentences(normalized_sentences, top_n_words)\n",
    "\n",
    "    # Summaization Approach 1:\n",
    "    # Filter out non-significant sentences by using the average score plus a\n",
    "    # fraction of the std dev as a filter\n",
    "\n",
    "    avg = numpy.mean([s[1] for s in scored_sentences])\n",
    "    std = numpy.std([s[1] for s in scored_sentences])\n",
    "    mean_scored = [(sent_idx, score) for (sent_idx, score) in scored_sentences\n",
    "                   if score > avg + 0.5 * std]\n",
    "\n",
    "    # Summarization Approach 2:\n",
    "    # Another approach would be to return only the top N ranked sentences\n",
    "\n",
    "    top_n_scored = sorted(scored_sentences, key=lambda s: s[1])[-TOP_SENTENCES:]\n",
    "    top_n_scored = sorted(top_n_scored, key=lambda s: s[0])\n",
    "\n",
    "    # Decorate the post object with summaries\n",
    "\n",
    "    return dict(top_n_summary=[sentences[idx] for (idx, score) in top_n_scored],\n",
    "                mean_scored_summary=[sentences[idx] for (idx, score) in mean_scored])"
   ]
  },
  {
   "cell_type": "markdown",
   "metadata": {},
   "source": [
    "Take time to study the algorithm yourself if you wish. Understanding the details however is not crucial. In essence, the algorithm works by setting the parameter N that determines how many key words you assume are key in the document. The value or score of each sentence is determined by the number of the key words appearing in them. The key words are determined by their frequency. The document is then summarized by the selected number of top sentences.  "
   ]
  },
  {
   "cell_type": "code",
   "execution_count": 86,
   "metadata": {
    "collapsed": false,
    "scrolled": true
   },
   "outputs": [
    {
     "name": "stdout",
     "output_type": "stream",
     "text": [
      "Hell hath no fury like a voter who feels he or she has been treated like a fool. The political left was already paying a heavy price at this election for displaying the characteristics which leave voters stone cold - namely disunity, political incompetence and not a little arrogance. The left may now pay an even bigger price on Saturday thanks to Kim Dotcom's Moment of Truth evaporating into a Moment of Struth - as in \"struth, was that all he had to reveal\" after months of squashing much else far more worthy of debate out of the political picture. So robust was Dotcom's evidence of prime ministerial untruths supposed to be that it would sink John Key faster than the Bismarck. Instead it is Dotcom who is now facing a backlash for failing to deliver. So far, that backlash is confined to media who have been strung along for months. Voters may be more tolerant - but only up to a point. They take objection to being hoodwinked.  \r",
      "aimRenderAd(300, 250, 'RECTANGLE','ContentRect','/SR=0/POS=2/VA=NO');\r",
      "if(!$.browser.msie && $(\"#ContentRect\").length){\r",
      "ContentRect_frame = $(\"#ContentRect\")[0];\r",
      "ContentRect_frame.src = ContentRect_frame.src;\r",
      "}\r",
      "  Perhaps the only saving grace for Internet-Mana is that in treating voters like fools, Dotcom has shown himself to be an even bigger one. He is now a national laughing stock. But it could have been worse. At least someone in the Internet-Mana camp was smart enough not to allow Dotcom to wreck Monday night's compelling testimony from whistle-blower Edward Snowden and journalist Glenn Greenwald regarding whether or not there is or has been mass surveillance of New Zealanders by the Government Communications Security Bureau. Likewise it was also smart to send Dotcom's \"evidence\" against Key to Parliament's Speaker for reference to its privileges committee. This consists of just one email deemed to be a fake which implicates Key in a conspiracy which would have seen Dotcom extradited to the US to face copyright theft and money laundering charges following him being granted New Zealand residency. The ruse by Internet-Mana's leaders has given them an excuse not to talk about the email on the grounds that it is now part of a judicial process. It was a cynical move - as cynical as Key declassifying previously highly-sensitive documents to defend himself from the accusations of Snowden and Greenwald, something to which Hone Harawira and Laila Harre took strong exception. But if you declare you have the means of turfing a prime minister out of office, you have to be pretty naive to think you are not going to get both barrels in return when you fail. What the left have miscalculated yet again is that however worthy their pursuit of Key on the matter of surveillance, it is not something that excites the silent majority. They are fed up. On Saturday, they may exact awful revenge - and it will be Opposition parties who will be in their sights, not Key.\n",
      "20\n"
     ]
    },
    {
     "data": {
      "text/plain": [
       "unicode"
      ]
     },
     "execution_count": 86,
     "metadata": {},
     "output_type": "execute_result"
    }
   ],
   "source": [
    "print cleaned_article\n",
    "\n",
    "print len(nltk.tokenize.sent_tokenize(cleaned_article))\n",
    "\n",
    "type(cleaned_article)"
   ]
  },
  {
   "cell_type": "code",
   "execution_count": 87,
   "metadata": {
    "collapsed": false
   },
   "outputs": [
    {
     "name": "stdout",
     "output_type": "stream",
     "text": [
      "[u'The left may now pay an even bigger price on Saturday thanks to Kim Dotcom\\'s Moment of Truth evaporating into a Moment of Struth - as in \"struth, was that all he had to reveal\" after months of squashing much else far more worthy of debate out of the political picture.', u'So far, that backlash is confined to media who have been strung along for months.', u'On Saturday, they may exact awful revenge - and it will be Opposition parties who will be in their sights, not Key.']\n",
      "3\n"
     ]
    }
   ],
   "source": [
    "print summarize(cleaned_article)['top_n_summary']\n",
    "print len(summarize(cleaned_article)['top_n_summary'])"
   ]
  },
  {
   "cell_type": "code",
   "execution_count": 88,
   "metadata": {
    "collapsed": false
   },
   "outputs": [
    {
     "name": "stdout",
     "output_type": "stream",
     "text": [
      "[u'So far, that backlash is confined to media who have been strung along for months.']\n",
      "1\n"
     ]
    }
   ],
   "source": [
    "print summarize(cleaned_article)['mean_scored_summary']\n",
    "print len(summarize(cleaned_article)['mean_scored_summary'])"
   ]
  },
  {
   "cell_type": "code",
   "execution_count": null,
   "metadata": {
    "collapsed": false
   },
   "outputs": [],
   "source": []
  },
  {
   "cell_type": "markdown",
   "metadata": {},
   "source": [
    "**Exercise:** Extract a web based document and summarize it using the above code. \n",
    "\n",
    "Experiment with different number of N for key words, number of sentences and the distance between the clusters:"
   ]
  },
  {
   "cell_type": "code",
   "execution_count": 89,
   "metadata": {
    "collapsed": false
   },
   "outputs": [
    {
     "name": "stdout",
     "output_type": "stream",
     "text": [
      "[u'Those actions are in direct conflict with the assurances given to the public\\xa0by Prime Minister John Key (pictured above), who said\\xa0the law was merely designed to fix \\u201can ambiguous legal framework\\u201d by expressly allowing the agency to do what it had done for years, that it \\u201cisn\\u2019t and will never be wholesale spying on New Zealanders,\\u201d and the law \\u201cisn\\u2019t a revolution in the way New Zealand conducts its intelligence operations.\\u201d\\nSnowden, in a post for The Intercept\\xa0published today, accused Prime Minster Key of fundamentally misleading the public about GCSB\\u2019s role in mass surveillance.', u'They also provide access to the communications of millions of New Zealanders to the NSA at facilities such as the GCSB facility in Waihopai, and the Prime Minister is personally aware of this fact.\\u201d\\nTop secret documents provided by the whistleblower demonstrate that the GCSB, with ongoing NSA cooperation, implemented Phase I of the mass surveillance program code-named \\u201cSpeargun\\u201d at some point in 2012 or early 2013.', u'One top secret 2012 NSA document states: \\u201cProject Speargun underway.\\u201d Another top secret NSA document discussing the activities of its surveillance partners reports, under the heading \\u201cNew Zealand,\\u201d that \\u201cPartner cable access program achieves Phase I.']\n"
     ]
    }
   ],
   "source": [
    "print summarize(cleaned2)['top_n_summary']"
   ]
  },
  {
   "cell_type": "code",
   "execution_count": 90,
   "metadata": {
    "collapsed": false
   },
   "outputs": [
    {
     "name": "stdout",
     "output_type": "stream",
     "text": [
      "[u'Those actions are in direct conflict with the assurances given to the public\\xa0by Prime Minister John Key (pictured above), who said\\xa0the law was merely designed to fix \\u201can ambiguous legal framework\\u201d by expressly allowing the agency to do what it had done for years, that it \\u201cisn\\u2019t and will never be wholesale spying on New Zealanders,\\u201d and the law \\u201cisn\\u2019t a revolution in the way New Zealand conducts its intelligence operations.\\u201d\\nSnowden, in a post for The Intercept\\xa0published today, accused Prime Minster Key of fundamentally misleading the public about GCSB\\u2019s role in mass surveillance.', u'They also provide access to the communications of millions of New Zealanders to the NSA at facilities such as the GCSB facility in Waihopai, and the Prime Minister is personally aware of this fact.\\u201d\\nTop secret documents provided by the whistleblower demonstrate that the GCSB, with ongoing NSA cooperation, implemented Phase I of the mass surveillance program code-named \\u201cSpeargun\\u201d at some point in 2012 or early 2013.', u'Yesterday, after The Intercept sought comment from the NSA,\\xa0the Prime Minister told reporters in Auckland that this reporting was referring merely to \\u201ca proposed widespread cyber protection programme that never got off the ground.\\u201d\\xa0He vowed to declassify documents confirming his decision.', u'One top secret 2012 NSA document states: \\u201cProject Speargun underway.\\u201d Another top secret NSA document discussing the activities of its surveillance partners reports, under the heading \\u201cNew Zealand,\\u201d that \\u201cPartner cable access program achieves Phase I.']\n"
     ]
    }
   ],
   "source": [
    "print summarize(cleaned2)['mean_scored_summary']"
   ]
  },
  {
   "cell_type": "markdown",
   "metadata": {},
   "source": [
    "It is always important and helpful to be able to visualize the results from summarization.\n",
    "\n",
    "The code below writes the summaries in an HTML format and writes it to a file, showing in detail which components of a document are extracted."
   ]
  },
  {
   "cell_type": "code",
   "execution_count": 91,
   "metadata": {
    "collapsed": false
   },
   "outputs": [
    {
     "name": "stdout",
     "output_type": "stream",
     "text": [
      "{'top_n_summary': [u'The left may now pay an even bigger price on Saturday thanks to Kim Dotcom\\'s Moment of Truth evaporating into a Moment of Struth - as in \"struth, was that all he had to reveal\" after months of squashing much else far more worthy of debate out of the political picture.', u'So far, that backlash is confined to media who have been strung along for months.', u'On Saturday, they may exact awful revenge - and it will be Opposition parties who will be in their sights, not Key.'], 'mean_scored_summary': [u'So far, that backlash is confined to media who have been strung along for months.'], 'title': 'NZSpying'}\n"
     ]
    },
    {
     "name": "stderr",
     "output_type": "stream",
     "text": [
      "Data written to out\\summarize\\NZSpying.summary.top_n_summary.html\n",
      "Data written to out\\summarize\\NZSpying.summary.mean_scored_summary.html\n"
     ]
    }
   ],
   "source": [
    "#code source = https://github.com/ptwobrussell/Mining-the-Social-Web/blob/master/python_code/blogs_and_nlp__summarize_markedup_output.py\n",
    "\n",
    "HTML_TEMPLATE = \"\"\"<html>\n",
    "    <head>\n",
    "        <title>%s</title>\n",
    "        <meta http-equiv=\"Content-Type\" content=\"text/html; charset=UTF-8\"/>\n",
    "    </head>\n",
    "    <body>%s</body>\n",
    "</html>\"\"\"\n",
    "\n",
    "if not os.path.isdir('out/summarize'):\n",
    "    os.makedirs('out/summarize')\n",
    "\n",
    "post = {}\n",
    "post.update(summarize(cleaned_article))\n",
    "post['title'] = 'NZSpying'\n",
    "\n",
    "print post\n",
    "# You could also store a version of the full post with key sentences markedup\n",
    "# for analysis with simple string replacement...\n",
    "\n",
    "for summary_type in ['top_n_summary', 'mean_scored_summary']:\n",
    "    post[summary_type + '_marked_up'] = '<p>%s</p>' % (cleaned_article, )\n",
    "    for s in post[summary_type]:\n",
    "        post[summary_type + '_marked_up'] = \\\n",
    "        post[summary_type + '_marked_up'].replace(s, '<strong>%s</strong>' % (s, ))\n",
    "\n",
    "    filename = post['title'] + '.summary.' + summary_type + '.html'\n",
    "    f = open(os.path.join('out', 'summarize', filename), 'w')\n",
    "    html = HTML_TEMPLATE % (post['title'] + ' Summary', post[summary_type + '_marked_up'],)\n",
    "    f.write(html.encode('utf-8'))\n",
    "    f.close()\n",
    "\n",
    "    print >> sys.stderr, \"Data written to\", f.name"
   ]
  },
  {
   "cell_type": "code",
   "execution_count": 92,
   "metadata": {
    "collapsed": false
   },
   "outputs": [
    {
     "data": {
      "text/html": [
       "<a href='out/summarize/NZSpying.summary.top_n_summary.html' target='_blank'>out/summarize/NZSpying.summary.top_n_summary.html</a><br>"
      ],
      "text/plain": [
       "D:\\Jupyter\\out\\summarize\\NZSpying.summary.top_n_summary.html"
      ]
     },
     "metadata": {},
     "output_type": "display_data"
    },
    {
     "data": {
      "text/html": [
       "<a href='out/summarize/NZSpying.summary.mean_scored_summary.html' target='_blank'>out/summarize/NZSpying.summary.mean_scored_summary.html</a><br>"
      ],
      "text/plain": [
       "D:\\Jupyter\\out\\summarize\\NZSpying.summary.mean_scored_summary.html"
      ]
     },
     "metadata": {},
     "output_type": "display_data"
    }
   ],
   "source": [
    "import IPython.lib.display\n",
    "from IPython.display import display\n",
    "\n",
    "local_file = IPython.lib.display.FileLink(\"out/summarize/NZSpying.summary.top_n_summary.html\")\n",
    "display(local_file)\n",
    "local_file = IPython.lib.display.FileLink(\"out/summarize/NZSpying.summary.mean_scored_summary.html\")\n",
    "display(local_file)"
   ]
  },
  {
   "cell_type": "code",
   "execution_count": 93,
   "metadata": {
    "collapsed": false
   },
   "outputs": [
    {
     "data": {
      "application/javascript": [
       "require(['base/js/utils'],\n",
       "function(utils) {\n",
       "   utils.load_extensions('calico-spell-check', 'calico-document-tools', 'calico-cell-tools');\n",
       "});"
      ],
      "text/plain": [
       "<IPython.core.display.Javascript object>"
      ]
     },
     "metadata": {},
     "output_type": "display_data"
    }
   ],
   "source": [
    "%%javascript\n",
    "require(['base/js/utils'],\n",
    "function(utils) {\n",
    "   utils.load_extensions('calico-spell-check', 'calico-document-tools', 'calico-cell-tools');\n",
    "});"
   ]
  },
  {
   "cell_type": "code",
   "execution_count": null,
   "metadata": {
    "collapsed": true
   },
   "outputs": [],
   "source": []
  }
 ],
 "metadata": {
  "kernelspec": {
   "display_name": "Python [Root]",
   "language": "python",
   "name": "Python [Root]"
  },
  "language_info": {
   "codemirror_mode": {
    "name": "ipython",
    "version": 2
   },
   "file_extension": ".py",
   "mimetype": "text/x-python",
   "name": "python",
   "nbconvert_exporter": "python",
   "pygments_lexer": "ipython2",
   "version": "2.7.12"
  }
 },
 "nbformat": 4,
 "nbformat_minor": 0
}
