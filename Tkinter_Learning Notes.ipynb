{
 "cells": [
  {
   "cell_type": "markdown",
   "metadata": {},
   "source": [
    "添加Label"
   ]
  },
  {
   "cell_type": "code",
   "execution_count": 8,
   "metadata": {
    "collapsed": true
   },
   "outputs": [],
   "source": [
    "import Tkinter as tk\n",
    "\n",
    "root = tk.Tk() # 建立主窗口\n",
    "myLabel = tk.Label(root,text=\"Hello World\") # 添加'Hello world'标签\n",
    "myLabel.pack() # 为标签安排在主窗口中的位置\n",
    "root.mainloop() # 运行Tk程序"
   ]
  },
  {
   "cell_type": "code",
   "execution_count": 2,
   "metadata": {
    "collapsed": true
   },
   "outputs": [],
   "source": [
    "import Tkinter as tk\n",
    "root = tk.Tk()\n",
    "tk.Label(root,text=\"Hello World\").pack()\n",
    "root.mainloop()"
   ]
  },
  {
   "cell_type": "markdown",
   "metadata": {},
   "source": [
    "添加输入框"
   ]
  },
  {
   "cell_type": "code",
   "execution_count": 3,
   "metadata": {
    "collapsed": true
   },
   "outputs": [],
   "source": [
    "#import Tkinter as tk\n",
    "\n",
    "root = tk.Tk()\n",
    "tk.Label(root,text=\"Hello World\").pack()\n",
    "message = tk.Entry(root) # 添加Entry组件\n",
    "message.pack()\n",
    "root.mainloop()"
   ]
  },
  {
   "cell_type": "markdown",
   "metadata": {},
   "source": [
    "接收输入信息"
   ]
  },
  {
   "cell_type": "code",
   "execution_count": 6,
   "metadata": {
    "collapsed": false
   },
   "outputs": [
    {
     "name": "stdout",
     "output_type": "stream",
     "text": [
      "ds\n"
     ]
    }
   ],
   "source": [
    "import Tkinter as tk\n",
    "\n",
    "root = tk.Tk()\n",
    "tk.Label(root,text=\"Hello World\").pack()\n",
    "message = tk.Entry(root)\n",
    "message.pack()\n",
    "\n",
    "def print_content():   # 先写一个打印entry内容的函数，然后赋到button的command属性上\n",
    "    print message.get()\n",
    "tk.Button(root,text=\"print\",command=print_content).pack()\n",
    "\n",
    "root.mainloop()"
   ]
  },
  {
   "cell_type": "markdown",
   "metadata": {},
   "source": [
    "删除输入框保留的信息"
   ]
  },
  {
   "cell_type": "code",
   "execution_count": 5,
   "metadata": {
    "collapsed": false
   },
   "outputs": [
    {
     "name": "stdout",
     "output_type": "stream",
     "text": [
      "123\n"
     ]
    }
   ],
   "source": [
    "import Tkinter as tk\n",
    "\n",
    "root = tk.Tk()\n",
    "tk.Label(root,text=\"Hello World\").pack()\n",
    "message = tk.Entry(root)\n",
    "message.pack()\n",
    "\n",
    "def print_content():\n",
    "    print message.get()\n",
    "    message.delete(0,'end')\n",
    "tk.Button(root,text=\"print\",command=print_content).pack()\n",
    "\n",
    "root.mainloop()"
   ]
  },
  {
   "cell_type": "markdown",
   "metadata": {},
   "source": [
    "在输入框添加默认信息"
   ]
  },
  {
   "cell_type": "code",
   "execution_count": 11,
   "metadata": {
    "collapsed": true
   },
   "outputs": [],
   "source": [
    "import Tkinter as tk\n",
    "\n",
    "root = tk.Tk()\n",
    "tk.Label(root,text=\"Hello World\").pack()\n",
    "message = tk.Entry(root)\n",
    "message.insert(0,\"Hi, what's up\")\n",
    "message.pack()\n",
    "\n",
    "def print_content():\n",
    "    print message.get()\n",
    "    message.delete(0,'end')\n",
    "tk.Button(root,text=\"print\",command=print_content).pack()\n",
    "\n",
    "root.mainloop()"
   ]
  },
  {
   "cell_type": "markdown",
   "metadata": {},
   "source": [
    "用回车键输入信息"
   ]
  },
  {
   "cell_type": "code",
   "execution_count": 12,
   "metadata": {
    "collapsed": false
   },
   "outputs": [
    {
     "name": "stdout",
     "output_type": "stream",
     "text": [
      "Hi, what's up\n"
     ]
    }
   ],
   "source": [
    "import Tkinter as tk\n",
    "\n",
    "root = tk.Tk()\n",
    "tk.Label(root,text=\"Hello World\").pack()\n",
    "message = tk.Entry(root)\n",
    "message.insert(0,\"Hi, what's up\")\n",
    "message.pack()\n",
    "\n",
    "def print_content():\n",
    "    print message.get()\n",
    "    message.delete(0,'end')\n",
    "tk.Button(root,text=\"print\",command=print_content).pack()\n",
    "\n",
    "root.bind('<Return>',lambda event:print_content()) # <Return>代表回车键\n",
    "\n",
    "root.mainloop()"
   ]
  },
  {
   "cell_type": "markdown",
   "metadata": {},
   "source": [
    "运用Tk的变量"
   ]
  },
  {
   "cell_type": "code",
   "execution_count": 13,
   "metadata": {
    "collapsed": false
   },
   "outputs": [
    {
     "name": "stdout",
     "output_type": "stream",
     "text": [
      "Hi, what's up\n"
     ]
    }
   ],
   "source": [
    "import Tkinter as tk\n",
    "\n",
    "root = tk.Tk()\n",
    "tk.Label(root,text=\"Hello World\").pack()\n",
    "\n",
    "var = tk.StringVar(value=\"Hi, what's up\") # value可以设置默认值\n",
    "\n",
    "message = tk.Entry(root,textvariable=var) # 将textvariable绑定var\n",
    "message.pack()\n",
    "\n",
    "def print_content():\n",
    "    print var.get() # 获取var的值\n",
    "    var.set('') # 将var值清零\n",
    "tk.Button(root,text=\"print\",command=print_content).pack()\n",
    "root.bind('<Return>',lambda event:print_content())\n",
    "\n",
    "root.mainloop()"
   ]
  },
  {
   "cell_type": "markdown",
   "metadata": {},
   "source": [
    "在Tk里显示信息"
   ]
  },
  {
   "cell_type": "code",
   "execution_count": 14,
   "metadata": {
    "collapsed": true
   },
   "outputs": [],
   "source": [
    "# coding=utf-8\n",
    "import Tkinter as tk\n",
    "\n",
    "root = tk.Tk()\n",
    "tk.Label(root,text=\"Hello World\").pack()\n",
    "\n",
    "var = tk.StringVar(value=\"Hi, what's up\")\n",
    "\n",
    "text_input = tk.Entry(root,textvariable=var)\n",
    "text_input.pack()\n",
    "\n",
    "def print_content():\n",
    "    print var.get()\n",
    "    var.set('')\n",
    "tk.Button(root,text=\"print\",command=print_content).pack()\n",
    "root.bind('<Return>',lambda event:print_content())\n",
    "\n",
    "text_output = tk.Message(root,text='Show')\n",
    "text_output.pack()\n",
    "\n",
    "root.mainloop()"
   ]
  },
  {
   "cell_type": "markdown",
   "metadata": {},
   "source": [
    "更新message信息：方法一"
   ]
  },
  {
   "cell_type": "code",
   "execution_count": 15,
   "metadata": {
    "collapsed": true
   },
   "outputs": [],
   "source": [
    "# coding=utf-8\n",
    "import Tkinter as tk\n",
    "\n",
    "root = tk.Tk()\n",
    "tk.Label(root,text=\"Hello World\").pack()\n",
    "\n",
    "var = tk.StringVar(value=\"Hi, what's up\")\n",
    "\n",
    "text_input = tk.Entry(root,textvariable=var)\n",
    "text_input.pack()\n",
    "\n",
    "def print_content():\n",
    "    print var.get()\n",
    "    var.set('')\n",
    "tk.Button(root,text=\"print\",command=print_content).pack()\n",
    "root.bind('<Return>',lambda event:print_content())\n",
    "\n",
    "text_output = tk.Message(root,textvariable=var) # 将textvariable设为var\n",
    "text_output.pack()\n",
    "\n",
    "root.mainloop()"
   ]
  },
  {
   "cell_type": "markdown",
   "metadata": {},
   "source": [
    "更新message信息：方法二"
   ]
  },
  {
   "cell_type": "code",
   "execution_count": 16,
   "metadata": {
    "collapsed": true
   },
   "outputs": [],
   "source": [
    "# coding=utf-8\n",
    "import Tkinter as tk\n",
    "\n",
    "root = tk.Tk()\n",
    "tk.Label(root,text=\"Hello World\").pack()\n",
    "\n",
    "var = tk.StringVar(value=\"Hi, what's up\")\n",
    "\n",
    "text_input = tk.Entry(root,textvariable=var)\n",
    "text_input.pack()\n",
    "\n",
    "def print_content():\n",
    "    text_output.config(text=var.get()) # 通过config更新message里要显示的信息\n",
    "    var.set('')\n",
    "tk.Button(root,text=\"print\",command=print_content).pack()\n",
    "root.bind('<Return>',lambda event:print_content())\n",
    "\n",
    "text_output = tk.Message(root,text='')\n",
    "text_output.pack()\n",
    "\n",
    "root.mainloop()"
   ]
  },
  {
   "cell_type": "markdown",
   "metadata": {},
   "source": [
    "更新message信息：方法三"
   ]
  },
  {
   "cell_type": "code",
   "execution_count": 17,
   "metadata": {
    "collapsed": true
   },
   "outputs": [],
   "source": [
    "# coding=utf-8\n",
    "import Tkinter as tk\n",
    "\n",
    "root = tk.Tk()\n",
    "tk.Label(root,text=\"Hello World\").pack()\n",
    "\n",
    "var = tk.StringVar(value=\"Hi, what's up\")\n",
    "\n",
    "text_input = tk.Entry(root,textvariable=var)\n",
    "text_input.pack()\n",
    "\n",
    "def print_content():\n",
    "    text_output['text'] = var.get() # 将var的值赋给text_output的text属性\n",
    "    var.set('')\n",
    "tk.Button(root,text=\"print\",command=print_content).pack()\n",
    "root.bind('<Return>',lambda event:print_content())\n",
    "\n",
    "text_output = tk.Message(root,text='')\n",
    "text_output.pack()\n",
    "\n",
    "root.mainloop()"
   ]
  },
  {
   "cell_type": "markdown",
   "metadata": {},
   "source": [
    "结合1w的代码"
   ]
  },
  {
   "cell_type": "code",
   "execution_count": 19,
   "metadata": {
    "collapsed": false
   },
   "outputs": [],
   "source": [
    "# coding=utf-8\n",
    "import Tkinter as tk\n",
    "from alan_diary import *\n",
    "\n",
    "root = tk.Tk()\n",
    "tk.Label(root,text=\"Hello World\").pack()\n",
    "\n",
    "var = tk.StringVar(value=\"Hi, what's up\")\n",
    "\n",
    "text_input = tk.Entry(root,textvariable=var)\n",
    "text_input.pack()\n",
    "\n",
    "def update_text():\n",
    "    append_text(var.get()) # 将输入的信息更新到log里\n",
    "    text_output.config(text=get_text()) # 读取所有记录显示在message里\n",
    "    var.set('')\n",
    "tk.Button(root,text=\"print\",command=update_text).pack()\n",
    "root.bind('<Return>',lambda event:update_text())\n",
    "\n",
    "text_output = tk.Message(root,text='')\n",
    "text_output.pack()\n",
    "\n",
    "root.mainloop()"
   ]
  },
  {
   "cell_type": "code",
   "execution_count": 21,
   "metadata": {
    "collapsed": true
   },
   "outputs": [],
   "source": [
    "# coding=utf-8\n",
    "import Tkinter as tk\n",
    "from alan_diary import *\n",
    "\n",
    "root = tk.Tk()\n",
    "root.title(\"Alan's diary\")\n",
    "root.geometry('400x400')\n",
    "tk.Label(root,text=\"Welcome to Alan's diary\",pady=20).pack()\n",
    "\n",
    "var = tk.StringVar(value=\"What do you want to write today?\")\n",
    "\n",
    "text_input = tk.Entry(root, textvariable=var, width=36)\n",
    "text_input.pack()\n",
    "\n",
    "def print_content():\n",
    "    append_text(var.get())\n",
    "    text_output.config(text=get_text())\n",
    "    var.set('')\n",
    "tk.Button(root,text=\"print\",command=print_content).pack()\n",
    "root.bind('<Return>',lambda event:print_content())\n",
    "\n",
    "text_output = tk.Message(root,text='', width=360, pady=20)\n",
    "text_output.pack()\n",
    "\n",
    "root.mainloop()"
   ]
  },
  {
   "cell_type": "code",
   "execution_count": 22,
   "metadata": {
    "collapsed": true
   },
   "outputs": [],
   "source": [
    "# coding=utf-8\n",
    "import sys\n",
    "reload(sys)\n",
    "sys.setdefaultencoding('utf-8')\n",
    "\n",
    "import Tkinter as tk\n",
    "from alan_diary import *\n",
    "\n",
    "def enter_and_print(event):\n",
    "    append_text(var.get())\n",
    "    text_output.config(text=get_text())\n",
    "    var.set('')\n",
    "\n",
    "root = tk.Tk()\n",
    "root.title(\"Alan's diary\")\n",
    "\n",
    "var = tk.StringVar(value=\"What do you want to write today?\")\n",
    "\n",
    "text_input = tk.Entry(root, textvariable=var, width=36, bd=5)\n",
    "text_input.pack()\n",
    "\n",
    "root.bind('<Return>',enter_and_print)\n",
    "\n",
    "text_output = tk.Message(root,text='', width=360, pady=20)\n",
    "text_output.pack()\n",
    "\n",
    "root.mainloop()"
   ]
  },
  {
   "cell_type": "markdown",
   "metadata": {},
   "source": [
    "使用Text组件"
   ]
  },
  {
   "cell_type": "code",
   "execution_count": 23,
   "metadata": {
    "collapsed": true
   },
   "outputs": [],
   "source": [
    "# coding=utf-8\n",
    "import sys\n",
    "reload(sys)\n",
    "sys.setdefaultencoding('utf-8')\n",
    "\n",
    "import Tkinter as tk\n",
    "from alan_diary import *\n",
    "\n",
    "\n",
    "def enter_and_print(event):\n",
    "    append_text(var.get())\n",
    "    text_output.delete(0.0,'end') # 先清空\n",
    "    text_output.insert(0.0,get_text())\n",
    "    var.set('')\n",
    "\n",
    "root = tk.Tk()\n",
    "root.title(\"Alan's diary\")\n",
    "\n",
    "var = tk.StringVar(value=\"What do you want to write today?\")\n",
    "\n",
    "text_input = tk.Entry(root, textvariable=var, width=36, bd=5)\n",
    "text_input.pack()\n",
    "\n",
    "root.bind('<Return>', enter_and_print)\n",
    "\n",
    "text_output = tk.Text(root,width=40)\n",
    "text_output.pack()\n",
    "\n",
    "root.mainloop()"
   ]
  },
  {
   "cell_type": "markdown",
   "metadata": {},
   "source": [
    "添加滚动条"
   ]
  },
  {
   "cell_type": "code",
   "execution_count": 25,
   "metadata": {
    "collapsed": false
   },
   "outputs": [],
   "source": [
    "# coding=utf-8\n",
    "import sys\n",
    "reload(sys)\n",
    "sys.setdefaultencoding('utf-8')\n",
    "\n",
    "import Tkinter as tk\n",
    "from alan_diary import *\n",
    "\n",
    "\n",
    "def enter_and_print(event):\n",
    "    append_text(var.get())\n",
    "    text_output.delete(0.0,'end')\n",
    "    text_output.insert(0.0,get_text())\n",
    "    var.set('')\n",
    "\n",
    "root = tk.Tk()\n",
    "root.title(\"Alan's diary\")\n",
    "\n",
    "var = tk.StringVar(value=\"What do you want to write today?\")\n",
    "\n",
    "text_input = tk.Entry(root, textvariable=var, width=36, bd=5)\n",
    "text_input.pack()\n",
    "\n",
    "root.bind('<Return>', enter_and_print)\n",
    "\n",
    "text_output = tk.Text(root,width=46)\n",
    "text_output.pack(side='left',fill='y')\n",
    "\n",
    "s = tk.Scrollbar(root)\n",
    "s.pack(side='right',fill='y')\n",
    "\n",
    "s.config(command=text_output.yview)\n",
    "text_output.config(yscrollcommand=s.set)\n",
    "\n",
    "root.mainloop()"
   ]
  },
  {
   "cell_type": "markdown",
   "metadata": {},
   "source": [
    "使用ScrolledText"
   ]
  },
  {
   "cell_type": "code",
   "execution_count": 26,
   "metadata": {
    "collapsed": true
   },
   "outputs": [],
   "source": [
    "# coding=utf-8\n",
    "import sys\n",
    "reload(sys)\n",
    "sys.setdefaultencoding('utf-8')\n",
    "\n",
    "import Tkinter as tk\n",
    "from alan_diary import *\n",
    "from ScrolledText import ScrolledText\n",
    "\n",
    "def enter_and_print(event):\n",
    "    append_text(var.get())\n",
    "    text_output.delete(0.0,'end')\n",
    "    text_output.insert(0.0,get_text())\n",
    "    var.set('')\n",
    "\n",
    "root = tk.Tk()\n",
    "root.title(\"Alan's diary\")\n",
    "\n",
    "var = tk.StringVar(value=\"What do you want to write today?\")\n",
    "\n",
    "text_input = tk.Entry(root, textvariable=var, width=36, bd=5)\n",
    "text_input.pack()\n",
    "\n",
    "root.bind('<Return>', enter_and_print)\n",
    "\n",
    "text_output = ScrolledText(root,width=46)\n",
    "text_output.pack()\n",
    "\n",
    "root.mainloop()"
   ]
  },
  {
   "cell_type": "code",
   "execution_count": null,
   "metadata": {
    "collapsed": true
   },
   "outputs": [],
   "source": []
  }
 ],
 "metadata": {
  "kernelspec": {
   "display_name": "Python [Root]",
   "language": "python",
   "name": "Python [Root]"
  },
  "language_info": {
   "codemirror_mode": {
    "name": "ipython",
    "version": 2
   },
   "file_extension": ".py",
   "mimetype": "text/x-python",
   "name": "python",
   "nbconvert_exporter": "python",
   "pygments_lexer": "ipython2",
   "version": "2.7.12"
  }
 },
 "nbformat": 4,
 "nbformat_minor": 0
}
