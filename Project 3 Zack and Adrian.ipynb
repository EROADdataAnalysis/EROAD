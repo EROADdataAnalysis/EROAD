{
 "cells": [
  {
   "cell_type": "code",
   "execution_count": 1,
   "metadata": {
    "collapsed": false
   },
   "outputs": [
    {
     "name": "stdout",
     "output_type": "stream",
     "text": [
      "Requirement already satisfied (use --upgrade to upgrade): simplekml in /anaconda/lib/python2.7/site-packages\r\n"
     ]
    }
   ],
   "source": [
    "!pip install simplekml"
   ]
  },
  {
   "cell_type": "code",
   "execution_count": 2,
   "metadata": {
    "collapsed": true
   },
   "outputs": [],
   "source": [
    "import simplekml\n",
    "import pandas\n",
    "import numpy"
   ]
  },
  {
   "cell_type": "code",
   "execution_count": 3,
   "metadata": {
    "collapsed": true
   },
   "outputs": [],
   "source": [
    "kml=simplekml.Kml()"
   ]
  },
  {
   "cell_type": "code",
   "execution_count": 4,
   "metadata": {
    "collapsed": false
   },
   "outputs": [
    {
     "data": {
      "text/plain": [
       "<simplekml.featgeom.Point at 0x113ca9150>"
      ]
     },
     "execution_count": 4,
     "metadata": {},
     "output_type": "execute_result"
    }
   ],
   "source": [
    "kml.newpoint(name=\"Sample\",coords=[(174.76028, -36.80417)])"
   ]
  },
  {
   "cell_type": "code",
   "execution_count": 5,
   "metadata": {
    "collapsed": false
   },
   "outputs": [
    {
     "data": {
      "text/plain": [
       "<simplekml.featgeom.Point at 0x113ca9310>"
      ]
     },
     "execution_count": 5,
     "metadata": {},
     "output_type": "execute_result"
    }
   ],
   "source": [
    "kml.newpoint(name=\"Sample\",coords=[(174.76041, -36.80389)])"
   ]
  },
  {
   "cell_type": "code",
   "execution_count": 6,
   "metadata": {
    "collapsed": true
   },
   "outputs": [],
   "source": [
    "kml.save(\"points.kml\")"
   ]
  },
  {
   "cell_type": "code",
   "execution_count": 7,
   "metadata": {
    "collapsed": true
   },
   "outputs": [],
   "source": [
    "def kml(input=\"Northern Motorway Road Segments Modified.csv\",out=\"Locations.kml\"):\n",
    "    kml=simplekml.Kml()\n",
    "    df=pandas.read_csv(input,index_col=[\"id\",\"full_name\",\"Longitute\",\"Latitute\"])\n",
    "    for id,lon,lat in zip(df.index.get_level_values(\"full_name\"),df.index.get_level_values(\"Longitute\"),\n",
    "                            df.index.get_level_values(\"Latitute\")):\n",
    "        kml.newpoint(name=id,coords=[(lon,lat)])\n",
    "        kml.save(out)"
   ]
  },
  {
   "cell_type": "code",
   "execution_count": 8,
   "metadata": {
    "collapsed": false
   },
   "outputs": [],
   "source": [
    "kml()"
   ]
  },
  {
   "cell_type": "code",
   "execution_count": 9,
   "metadata": {
    "collapsed": true
   },
   "outputs": [],
   "source": [
    "from IPython.display import IFrame "
   ]
  },
  {
   "cell_type": "code",
   "execution_count": 10,
   "metadata": {
    "collapsed": true
   },
   "outputs": [],
   "source": [
    "def show_web_map(url):       \n",
    "    return IFrame(url, width='100%', height=500)"
   ]
  },
  {
   "cell_type": "code",
   "execution_count": 13,
   "metadata": {
    "collapsed": false
   },
   "outputs": [
    {
     "data": {
      "text/html": [
       "\n",
       "        <iframe\n",
       "            width=\"100%\"\n",
       "            height=\"500\"\n",
       "            src=\"https://www.google.com/maps/d/u/0/embed?mid=1Un-dH9_Om41HuJu3zgDNWAeLyxc\"\n",
       "            frameborder=\"0\"\n",
       "            allowfullscreen\n",
       "        ></iframe>\n",
       "        "
      ],
      "text/plain": [
       "<IPython.lib.display.IFrame at 0x11504fad0>"
      ]
     },
     "execution_count": 13,
     "metadata": {},
     "output_type": "execute_result"
    }
   ],
   "source": [
    "show_web_map(\"https://www.google.com/maps/d/u/0/embed?mid=1Un-dH9_Om41HuJu3zgDNWAeLyxc\")"
   ]
  },
  {
   "cell_type": "code",
   "execution_count": 1,
   "metadata": {
    "collapsed": true
   },
   "outputs": [],
   "source": [
    "import pandas as pd\n",
    "import numpy as np\n",
    "import matplotlib.pyplot as plt"
   ]
  },
  {
   "cell_type": "code",
   "execution_count": 2,
   "metadata": {
    "collapsed": true
   },
   "outputs": [],
   "source": [
    "from pylab import rcParams #this module gives us some controls over plot rendering attributes\n",
    "rcParams['figure.figsize'] = 15, 10"
   ]
  },
  {
   "cell_type": "code",
   "execution_count": 3,
   "metadata": {
    "collapsed": true
   },
   "outputs": [],
   "source": [
    "#this line enables the plots to be embedded into the notebook\n",
    "%matplotlib inline"
   ]
  },
  {
   "cell_type": "code",
   "execution_count": 4,
   "metadata": {
    "collapsed": false
   },
   "outputs": [
    {
     "data": {
      "text/html": [
       "<div>\n",
       "<table border=\"1\" class=\"dataframe\">\n",
       "  <thead>\n",
       "    <tr style=\"text-align: right;\">\n",
       "      <th></th>\n",
       "      <th>id</th>\n",
       "      <th>event_timestamp</th>\n",
       "      <th>course_over_ground</th>\n",
       "      <th>machine_id</th>\n",
       "      <th>vehicle_weight_type</th>\n",
       "      <th>speed_gps_kph</th>\n",
       "      <th>latitude</th>\n",
       "      <th>longitude</th>\n",
       "    </tr>\n",
       "  </thead>\n",
       "  <tbody>\n",
       "    <tr>\n",
       "      <th>0</th>\n",
       "      <td>14641931007</td>\n",
       "      <td>15/11/15 17:46</td>\n",
       "      <td>177</td>\n",
       "      <td>10051</td>\n",
       "      <td>HEAVY</td>\n",
       "      <td>3</td>\n",
       "      <td>-36.725578</td>\n",
       "      <td>174.714820</td>\n",
       "    </tr>\n",
       "    <tr>\n",
       "      <th>1</th>\n",
       "      <td>14642568129</td>\n",
       "      <td>15/11/15 18:12</td>\n",
       "      <td>156</td>\n",
       "      <td>10051</td>\n",
       "      <td>HEAVY</td>\n",
       "      <td>13</td>\n",
       "      <td>-36.769465</td>\n",
       "      <td>174.741590</td>\n",
       "    </tr>\n",
       "    <tr>\n",
       "      <th>2</th>\n",
       "      <td>14641876524</td>\n",
       "      <td>15/11/15 17:44</td>\n",
       "      <td>169</td>\n",
       "      <td>10051</td>\n",
       "      <td>HEAVY</td>\n",
       "      <td>0</td>\n",
       "      <td>-36.723136</td>\n",
       "      <td>174.714432</td>\n",
       "    </tr>\n",
       "    <tr>\n",
       "      <th>3</th>\n",
       "      <td>14642262476</td>\n",
       "      <td>15/11/15 18:00</td>\n",
       "      <td>150</td>\n",
       "      <td>10051</td>\n",
       "      <td>HEAVY</td>\n",
       "      <td>17</td>\n",
       "      <td>-36.747435</td>\n",
       "      <td>174.723397</td>\n",
       "    </tr>\n",
       "    <tr>\n",
       "      <th>4</th>\n",
       "      <td>14641991113</td>\n",
       "      <td>15/11/15 17:49</td>\n",
       "      <td>249</td>\n",
       "      <td>10051</td>\n",
       "      <td>HEAVY</td>\n",
       "      <td>6</td>\n",
       "      <td>-36.728260</td>\n",
       "      <td>174.715083</td>\n",
       "    </tr>\n",
       "  </tbody>\n",
       "</table>\n",
       "</div>"
      ],
      "text/plain": [
       "            id event_timestamp  course_over_ground  machine_id  \\\n",
       "0  14641931007  15/11/15 17:46                 177       10051   \n",
       "1  14642568129  15/11/15 18:12                 156       10051   \n",
       "2  14641876524  15/11/15 17:44                 169       10051   \n",
       "3  14642262476  15/11/15 18:00                 150       10051   \n",
       "4  14641991113  15/11/15 17:49                 249       10051   \n",
       "\n",
       "  vehicle_weight_type  speed_gps_kph   latitude   longitude  \n",
       "0               HEAVY              3 -36.725578  174.714820  \n",
       "1               HEAVY             13 -36.769465  174.741590  \n",
       "2               HEAVY              0 -36.723136  174.714432  \n",
       "3               HEAVY             17 -36.747435  174.723397  \n",
       "4               HEAVY              6 -36.728260  174.715083  "
      ]
     },
     "execution_count": 4,
     "metadata": {},
     "output_type": "execute_result"
    }
   ],
   "source": [
    "ts_data = pd.read_csv('Concatenated_machine_data.csv')\n",
    "ts_data.head()"
   ]
  },
  {
   "cell_type": "code",
   "execution_count": 5,
   "metadata": {
    "collapsed": false
   },
   "outputs": [
    {
     "data": {
      "text/html": [
       "<div>\n",
       "<table border=\"1\" class=\"dataframe\">\n",
       "  <thead>\n",
       "    <tr style=\"text-align: right;\">\n",
       "      <th></th>\n",
       "      <th>id</th>\n",
       "      <th>event_timestamp</th>\n",
       "      <th>course_over_ground</th>\n",
       "      <th>machine_id</th>\n",
       "      <th>vehicle_weight_type</th>\n",
       "      <th>speed_gps_kph</th>\n",
       "      <th>latitude</th>\n",
       "      <th>longitude</th>\n",
       "    </tr>\n",
       "  </thead>\n",
       "  <tbody>\n",
       "    <tr>\n",
       "      <th>569936</th>\n",
       "      <td>14738615911</td>\n",
       "      <td>18/11/15 22:24</td>\n",
       "      <td>142</td>\n",
       "      <td>9850</td>\n",
       "      <td>HEAVY</td>\n",
       "      <td>67</td>\n",
       "      <td>-36.759989</td>\n",
       "      <td>174.736392</td>\n",
       "    </tr>\n",
       "    <tr>\n",
       "      <th>569937</th>\n",
       "      <td>14707715840</td>\n",
       "      <td>17/11/15 21:58</td>\n",
       "      <td>209</td>\n",
       "      <td>9850</td>\n",
       "      <td>HEAVY</td>\n",
       "      <td>74</td>\n",
       "      <td>-36.814565</td>\n",
       "      <td>174.751611</td>\n",
       "    </tr>\n",
       "    <tr>\n",
       "      <th>569938</th>\n",
       "      <td>14691746432</td>\n",
       "      <td>17/11/15 05:19</td>\n",
       "      <td>28</td>\n",
       "      <td>9850</td>\n",
       "      <td>HEAVY</td>\n",
       "      <td>60</td>\n",
       "      <td>-36.829255</td>\n",
       "      <td>174.746502</td>\n",
       "    </tr>\n",
       "    <tr>\n",
       "      <th>569939</th>\n",
       "      <td>14658983495</td>\n",
       "      <td>16/11/15 02:53</td>\n",
       "      <td>332</td>\n",
       "      <td>9850</td>\n",
       "      <td>HEAVY</td>\n",
       "      <td>86</td>\n",
       "      <td>-36.734384</td>\n",
       "      <td>174.717181</td>\n",
       "    </tr>\n",
       "    <tr>\n",
       "      <th>569940</th>\n",
       "      <td>14674771261</td>\n",
       "      <td>16/11/15 20:18</td>\n",
       "      <td>164</td>\n",
       "      <td>9850</td>\n",
       "      <td>HEAVY</td>\n",
       "      <td>77</td>\n",
       "      <td>-36.721270</td>\n",
       "      <td>174.713889</td>\n",
       "    </tr>\n",
       "  </tbody>\n",
       "</table>\n",
       "</div>"
      ],
      "text/plain": [
       "                 id event_timestamp  course_over_ground  machine_id  \\\n",
       "569936  14738615911  18/11/15 22:24                 142        9850   \n",
       "569937  14707715840  17/11/15 21:58                 209        9850   \n",
       "569938  14691746432  17/11/15 05:19                  28        9850   \n",
       "569939  14658983495  16/11/15 02:53                 332        9850   \n",
       "569940  14674771261  16/11/15 20:18                 164        9850   \n",
       "\n",
       "       vehicle_weight_type  speed_gps_kph   latitude   longitude  \n",
       "569936               HEAVY             67 -36.759989  174.736392  \n",
       "569937               HEAVY             74 -36.814565  174.751611  \n",
       "569938               HEAVY             60 -36.829255  174.746502  \n",
       "569939               HEAVY             86 -36.734384  174.717181  \n",
       "569940               HEAVY             77 -36.721270  174.713889  "
      ]
     },
     "execution_count": 5,
     "metadata": {},
     "output_type": "execute_result"
    }
   ],
   "source": [
    "ts_data.tail()"
   ]
  },
  {
   "cell_type": "code",
   "execution_count": 18,
   "metadata": {
    "collapsed": false
   },
   "outputs": [
    {
     "name": "stdout",
     "output_type": "stream",
     "text": [
      "<class 'pandas.core.frame.DataFrame'>\n",
      "RangeIndex: 569941 entries, 0 to 569940\n",
      "Data columns (total 8 columns):\n",
      "id                     569941 non-null int64\n",
      "event_timestamp        569941 non-null datetime64[ns]\n",
      "course_over_ground     569941 non-null int64\n",
      "machine_id             569941 non-null int64\n",
      "vehicle_weight_type    569578 non-null object\n",
      "speed_gps_kph          569941 non-null int64\n",
      "latitude               569941 non-null float64\n",
      "longitude              569941 non-null float64\n",
      "dtypes: datetime64[ns](1), float64(2), int64(4), object(1)\n",
      "memory usage: 34.8+ MB\n"
     ]
    }
   ],
   "source": [
    "ts_data.info()"
   ]
  },
  {
   "cell_type": "code",
   "execution_count": 39,
   "metadata": {
    "collapsed": false
   },
   "outputs": [
    {
     "name": "stdout",
     "output_type": "stream",
     "text": [
      "<class 'pandas.core.frame.DataFrame'>\n",
      "RangeIndex: 569941 entries, 0 to 569940\n",
      "Data columns (total 8 columns):\n",
      "id                     569941 non-null int64\n",
      "event_timestamp        569941 non-null object\n",
      "course_over_ground     569941 non-null int64\n",
      "machine_id             569941 non-null int64\n",
      "vehicle_weight_type    569578 non-null object\n",
      "speed_gps_kph          569941 non-null int64\n",
      "latitude               569941 non-null float64\n",
      "longitude              569941 non-null float64\n",
      "dtypes: float64(2), int64(4), object(2)\n",
      "memory usage: 34.8+ MB\n"
     ]
    }
   ],
   "source": [
    "ts_data['event_timestamp'] = pd.to_datetime(ts_data['event_timestamp'], format='%d/%m/%y').dt.date\n",
    "ts_data.info()"
   ]
  },
  {
   "cell_type": "code",
   "execution_count": 40,
   "metadata": {
    "collapsed": false
   },
   "outputs": [
    {
     "name": "stdout",
     "output_type": "stream",
     "text": [
      "<class 'pandas.core.frame.DataFrame'>\n",
      "RangeIndex: 569941 entries, 0 to 569940\n",
      "Data columns (total 8 columns):\n",
      "id                     569941 non-null int64\n",
      "event_timestamp        569941 non-null object\n",
      "course_over_ground     569941 non-null int64\n",
      "machine_id             569941 non-null int64\n",
      "vehicle_weight_type    569578 non-null object\n",
      "speed_gps_kph          569941 non-null int64\n",
      "latitude               569941 non-null float64\n",
      "longitude              569941 non-null float64\n",
      "dtypes: float64(2), int64(4), object(2)\n",
      "memory usage: 34.8+ MB\n",
      "None\n"
     ]
    },
    {
     "data": {
      "text/html": [
       "<div>\n",
       "<table border=\"1\" class=\"dataframe\">\n",
       "  <thead>\n",
       "    <tr style=\"text-align: right;\">\n",
       "      <th></th>\n",
       "      <th>id</th>\n",
       "      <th>event_timestamp</th>\n",
       "      <th>course_over_ground</th>\n",
       "      <th>machine_id</th>\n",
       "      <th>vehicle_weight_type</th>\n",
       "      <th>speed_gps_kph</th>\n",
       "      <th>latitude</th>\n",
       "      <th>longitude</th>\n",
       "    </tr>\n",
       "  </thead>\n",
       "  <tbody>\n",
       "    <tr>\n",
       "      <th>0</th>\n",
       "      <td>14641931007</td>\n",
       "      <td>2015-11-15</td>\n",
       "      <td>177</td>\n",
       "      <td>10051</td>\n",
       "      <td>HEAVY</td>\n",
       "      <td>3</td>\n",
       "      <td>-36.725578</td>\n",
       "      <td>174.714820</td>\n",
       "    </tr>\n",
       "    <tr>\n",
       "      <th>1</th>\n",
       "      <td>14642568129</td>\n",
       "      <td>2015-11-15</td>\n",
       "      <td>156</td>\n",
       "      <td>10051</td>\n",
       "      <td>HEAVY</td>\n",
       "      <td>13</td>\n",
       "      <td>-36.769465</td>\n",
       "      <td>174.741590</td>\n",
       "    </tr>\n",
       "    <tr>\n",
       "      <th>2</th>\n",
       "      <td>14641876524</td>\n",
       "      <td>2015-11-15</td>\n",
       "      <td>169</td>\n",
       "      <td>10051</td>\n",
       "      <td>HEAVY</td>\n",
       "      <td>0</td>\n",
       "      <td>-36.723136</td>\n",
       "      <td>174.714432</td>\n",
       "    </tr>\n",
       "    <tr>\n",
       "      <th>3</th>\n",
       "      <td>14642262476</td>\n",
       "      <td>2015-11-15</td>\n",
       "      <td>150</td>\n",
       "      <td>10051</td>\n",
       "      <td>HEAVY</td>\n",
       "      <td>17</td>\n",
       "      <td>-36.747435</td>\n",
       "      <td>174.723397</td>\n",
       "    </tr>\n",
       "    <tr>\n",
       "      <th>4</th>\n",
       "      <td>14641991113</td>\n",
       "      <td>2015-11-15</td>\n",
       "      <td>249</td>\n",
       "      <td>10051</td>\n",
       "      <td>HEAVY</td>\n",
       "      <td>6</td>\n",
       "      <td>-36.728260</td>\n",
       "      <td>174.715083</td>\n",
       "    </tr>\n",
       "  </tbody>\n",
       "</table>\n",
       "</div>"
      ],
      "text/plain": [
       "            id event_timestamp  course_over_ground  machine_id  \\\n",
       "0  14641931007      2015-11-15                 177       10051   \n",
       "1  14642568129      2015-11-15                 156       10051   \n",
       "2  14641876524      2015-11-15                 169       10051   \n",
       "3  14642262476      2015-11-15                 150       10051   \n",
       "4  14641991113      2015-11-15                 249       10051   \n",
       "\n",
       "  vehicle_weight_type  speed_gps_kph   latitude   longitude  \n",
       "0               HEAVY              3 -36.725578  174.714820  \n",
       "1               HEAVY             13 -36.769465  174.741590  \n",
       "2               HEAVY              0 -36.723136  174.714432  \n",
       "3               HEAVY             17 -36.747435  174.723397  \n",
       "4               HEAVY              6 -36.728260  174.715083  "
      ]
     },
     "execution_count": 40,
     "metadata": {},
     "output_type": "execute_result"
    }
   ],
   "source": [
    "print ts_data.info()\n",
    "ts_data.head()"
   ]
  },
  {
   "cell_type": "code",
   "execution_count": null,
   "metadata": {
    "collapsed": true
   },
   "outputs": [],
   "source": []
  }
 ],
 "metadata": {
  "anaconda-cloud": {},
  "kernelspec": {
   "display_name": "Python [Root]",
   "language": "python",
   "name": "Python [Root]"
  },
  "language_info": {
   "codemirror_mode": {
    "name": "ipython",
    "version": 2
   },
   "file_extension": ".py",
   "mimetype": "text/x-python",
   "name": "python",
   "nbconvert_exporter": "python",
   "pygments_lexer": "ipython2",
   "version": "2.7.12"
  }
 },
 "nbformat": 4,
 "nbformat_minor": 0
}
