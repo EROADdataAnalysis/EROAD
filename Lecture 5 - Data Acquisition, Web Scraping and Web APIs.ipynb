{
 "cells": [
  {
   "cell_type": "markdown",
   "metadata": {
    "collapsed": true
   },
   "source": [
    "# Lecture 5 - Data Acquisition, Web Scraping and Web APIs *"
   ]
  },
  {
   "cell_type": "markdown",
   "metadata": {},
   "source": [
    "# Table of Contents\n",
    "* [Lecture 5 - Data Acquisition, Web Scraping and Web APIs *](#Lecture-5---Data-Acquisition,-Web-Scraping-and-Web-APIs-*)\n",
    "\t* &nbsp;\n",
    "\t\t* [Content](#Content)\n",
    "\t\t* [Learning Outcomes](#Learning-Outcomes)\n",
    "* [Data Acquisition](#Data-Acquisition)\n",
    "* [1. Web scraping](#1.-Web-scraping)\n",
    "\t* [HTML](#HTML)\n",
    "\t\t* &nbsp;\n",
    "\t\t\t* [What is HTML?](#What-is-HTML?)\n",
    "\t* [Intro to Web Scraping](#Intro-to-Web-Scraping)\n",
    "\t\t* [--- WARNING ---](#----WARNING----)\n",
    "\t* [2. Web APIs](#2.-Web-APIs)\n",
    "\t\t* [REST](#REST)\n",
    "\t\t* [JSON](#JSON)\n",
    "\t\t* [Forming an API query](#Forming-an-API-query)\n",
    "\t* [Proprietary API Wrapper Modules](#Proprietary-API-Wrapper-Modules)\n",
    "\t* [API Repositories and Market Places](#API-Repositories-and-Market-Places)\n"
   ]
  },
  {
   "cell_type": "markdown",
   "metadata": {},
   "source": [
    "---\n",
    "* Some material on web scraping and usage of APIs adapted from Kevin Markham's data science courses at https://github.com/justmarkham"
   ]
  },
  {
   "cell_type": "markdown",
   "metadata": {},
   "source": [
    "### Content"
   ]
  },
  {
   "cell_type": "markdown",
   "metadata": {},
   "source": [
    "1. Data gathering via web scraping\n",
    "2. HTML basics\n",
    "3. Data gathering via web APIs\n",
    "4. JSON file format"
   ]
  },
  {
   "cell_type": "markdown",
   "metadata": {},
   "source": [
    "### Learning Outcomes"
   ]
  },
  {
   "cell_type": "markdown",
   "metadata": {},
   "source": [
    "At the end of this lecture, you should be able to:\n",
    "\n",
    "* list the different dynamic sources of data\n",
    "* explain what HTML is and its basic structure\n",
    "* make HTTP requests using python\n",
    "* traverse the HTML document tree\n",
    "* perform web scraping at an introductory level\n",
    "* describe and process the JSON file format\n",
    "* perform rudimentary data acquisition using Web APIs\n",
    "\n",
    "\n",
    "\n",
    "---"
   ]
  },
  {
   "cell_type": "markdown",
   "metadata": {},
   "source": [
    "# Data Acquisition"
   ]
  },
  {
   "cell_type": "markdown",
   "metadata": {},
   "source": [
    "So far, we have looked at how we can acquire data from pre-prepared Excel and text files in the CSV format. We also saw how we can use pandas clipboard facility to paste and build data frames. \n",
    "\n",
    "We also experienced that much of the data does not come in tidy formats that are prepared and ready for data analysis. For this we learned a number of techniques that help us to wrangle and tidy our data into shape. \n",
    "\n",
    "Now we are going to look at two additional sources of data that are dynamic and will require the combination of all the techniques we learned previously, such as wrangling, merging, aggregation, as well as some new skills. \n",
    "\n",
    "It is becoming common these days that data is acquired from multiple sources and merged into a single dataset. The data sources that are increasingly becoming the backbone of many analytics and information systems are web based.\n",
    "\n",
    "This section considers how data can be read (scraped) from web pages (HTML documents), and how data can be retrieved from web servers using their application program interfaces (APIs)."
   ]
  },
  {
   "cell_type": "markdown",
   "metadata": {},
   "source": [
    "# 1. Web scraping"
   ]
  },
  {
   "cell_type": "markdown",
   "metadata": {},
   "source": [
    "Often when we need to acquire data, web pages are a great resource to turn to. Many websites make data available on their web pages for viewing in a browser, but do not make it conveniently downloadable as an easily machine-readable format like JSON, CSV, or XML. Because of this, we sometimes need to employ web scraping techniques.\n",
    "\n",
    "The term \"web scraping\" refers to an application or script that processes HTML pages. This is done in order to extract data embedded in HTML for manipulation. \n",
    "\n",
    "Web scraping applications in effect simulate a person viewing a website with a browser.\n",
    "\n",
    "Our task then becomes writing scripts that can traverse the structure of HTML documents and locate the particular piece of data we need."
   ]
  },
  {
   "cell_type": "markdown",
   "metadata": {},
   "source": [
    "## HTML"
   ]
  },
  {
   "cell_type": "markdown",
   "metadata": {},
   "source": [
    "#### What is HTML?"
   ]
  },
  {
   "cell_type": "markdown",
   "metadata": {},
   "source": [
    "HTML is a markup language (not a programming language) for describing web documents (web pages).\n",
    "\n",
    "    HTML stands for Hyper Text Markup Language\n",
    "    A markup language is a set of markup tags\n",
    "    HTML documents are described by HTML tags\n",
    "    Each HTML tag describes different document content\n",
    "\n",
    "HTML pages consist of elements. Elements are marked up by tags, and the tags may have attributes inside them which describe how the content should be rendered by web browsers. The initial tag specifies the type of the document so that the browsers render the content correctly.\n",
    "\n",
    "Please refer to http://www.w3schools.com/html/html_intro.asp for an introduction to HTML."
   ]
  },
  {
   "cell_type": "raw",
   "metadata": {},
   "source": [
    "<!DOCTYPE html>\n",
    "<html>\n",
    "  <head>\n",
    "    <title>This is a title</title>\n",
    "  </head>\n",
    "  <body >\n",
    "    <p>Hello world!</p>\n",
    "  </body>\n",
    "</html>"
   ]
  },
  {
   "cell_type": "markdown",
   "metadata": {},
   "source": [
    "The examples below will show how we can perform web scraping on HTML pages using a Python package called `BeautifulSoup`. \n",
    "\n",
    "BeautifulSoup is an HTML/XML parser for Python that can turn markup text into a parse tree, that can then be traversed more easily."
   ]
  },
  {
   "cell_type": "code",
   "execution_count": 1,
   "metadata": {
    "collapsed": false
   },
   "outputs": [
    {
     "data": {
      "text/html": [
       "<iframe src=http://www.crummy.com/software/BeautifulSoup/bs4/doc/ width=1100 height=500></iframe>"
      ],
      "text/plain": [
       "<IPython.core.display.HTML object>"
      ]
     },
     "execution_count": 1,
     "metadata": {},
     "output_type": "execute_result"
    }
   ],
   "source": [
    "from IPython.core.display import HTML\n",
    "HTML(\"<iframe src=http://www.crummy.com/software/BeautifulSoup/bs4/doc/ width=1100 height=500></iframe>\")"
   ]
  },
  {
   "cell_type": "markdown",
   "metadata": {},
   "source": [
    "BeautifulSoup provides a simplified, idiomatic way of navigating, searching, and modifying parse tree generated by HTML and XML.\n",
    "\n",
    "More info on BeautifulSoup http://www.crummy.com/software/BeautifulSoup/bs3/documentation.html\n",
    "\n",
    "Good examples of how this is done can be found in : http://www.gregreda.com/2013/03/03/web-scraping-101-with-python/ and http://blog.miguelgrinberg.com/post/easy-web-scraping-with-python"
   ]
  },
  {
   "cell_type": "markdown",
   "metadata": {},
   "source": [
    "## Intro to Web Scraping"
   ]
  },
  {
   "cell_type": "markdown",
   "metadata": {},
   "source": [
    "We are going to begin with a toy example first using the simple html page created below:"
   ]
  },
  {
   "cell_type": "raw",
   "metadata": {},
   "source": [
    "<!doctype html>\n",
    "<html lang=\"en\">\n",
    "<head>\n",
    "  <title>Teo's Webpage</title>\n",
    "</head>\n",
    "\n",
    "<body>\n",
    "  <h1>Teo's Webpage</h1>\n",
    "  <p id=\"intro\">My name is Teo.  I find web scraping interesting.</p>\n",
    "  <p id=\"background\">I live in Auckland and completed my PhD at Massey University in Computer Science, while studying the field of machine learning.</p>\n",
    "  <p id=\"current\">I currently work as a lecturer in Information Technology.</p>\n",
    "  \n",
    "  <h3>My Interests</h3>\n",
    "  <ul>\n",
    "      <li id=\"my favorite\">Data Science and Machine Learning</li>\n",
    "      <li class=\"hobby\">Tennis</li>\n",
    "      <li class=\"hobby\">Reading</li>\n",
    "      <li class=\"hobby\">Travelling</li>\n",
    "      <li class=\"hobby\">Running</li>\n",
    "  </ul>\n",
    "</body>\n",
    "</html>"
   ]
  },
  {
   "cell_type": "code",
   "execution_count": 2,
   "metadata": {
    "collapsed": false
   },
   "outputs": [],
   "source": [
    "# imports\n",
    "import requests                 # How Python gets the webpages\n",
    "from bs4 import BeautifulSoup   # Creates structured, searchable object\n",
    "import numpy as np\n",
    "import pandas as pd\n",
    "import matplotlib.pyplot as plt\n",
    "import json"
   ]
  },
  {
   "cell_type": "code",
   "execution_count": 3,
   "metadata": {
    "collapsed": false
   },
   "outputs": [
    {
     "data": {
      "text/plain": [
       "str"
      ]
     },
     "execution_count": 3,
     "metadata": {},
     "output_type": "execute_result"
    }
   ],
   "source": [
    "# First, let's read the toy webpage as a string - this is what happens initially when you scrape any webpage\n",
    "html_doc = \"\"\"\n",
    "<!doctype html>\n",
    "<html lang=\"en\">\n",
    "<head>\n",
    "  <title>Teo's Webpage</title>\n",
    "</head>\n",
    "\n",
    "<body>\n",
    "  <h1>Teo's Webpage</h1>\n",
    "  <p id=\"intro\">My name is Teo.  I find web scraping interesting.</p>\n",
    "  <p id=\"background\">I live in Auckland and completed my PhD at Massey University in Computer Science, while studying the field of machine learning.</p>\n",
    "  <p id=\"current\">I currently work as a lecturer in Information Technology.</p>\n",
    "  \n",
    "  <h3>My Interests</h3>\n",
    "  <ul>\n",
    "      <li id=\"my favorite\">Data Science and Machine Learning</li>\n",
    "      <li class=\"hobby\">Tennis</li>\n",
    "      <li class=\"hobby\">Reading</li>\n",
    "      <li class=\"hobby\">Travelling</li>\n",
    "      <li class=\"hobby\">Running</li>\n",
    "  </ul>\n",
    "</body>\n",
    "</html>\n",
    "\"\"\"\n",
    "type(html_doc)"
   ]
  },
  {
   "cell_type": "code",
   "execution_count": 67,
   "metadata": {
    "collapsed": false
   },
   "outputs": [
    {
     "name": "stdout",
     "output_type": "stream",
     "text": [
      "<class 'bs4.BeautifulSoup'>\n"
     ]
    },
    {
     "data": {
      "text/plain": [
       "<!DOCTYPE html>\\n<html lang=\"en\">\\n<head>\\n<title>Teo's Webpage</title>\\n</head>\\n<body>\\n<h1>Teo's Webpage</h1>\\n<p id=\"intro\">My name is Teo.  I find web scraping interesting.</p>\\n<p id=\"background\">I live in Auckland and completed my PhD at Massey University in Computer Science, while studying the field of machine learning.</p>\\n<p id=\"current\">I currently work as a lecturer in Information Technology.</p>\\n<h3>My Interests</h3>\\n<ul>\\n<li id=\"my favorite\">Data Science and Machine Learning</li>\\n<li class=\"hobby\">Tennis</li>\\n<li class=\"hobby\">Reading</li>\\n<li class=\"hobby\">Travelling</li>\\n<li class=\"hobby\">Running</li>\\n</ul>\\n</body>\\n</html>\\n"
      ]
     },
     "execution_count": 67,
     "metadata": {},
     "output_type": "execute_result"
    }
   ],
   "source": [
    "# Beautiful soup allows us to create structure from the html elements, and to traverse it\n",
    "page = BeautifulSoup(html_doc, \"lxml\")\n",
    "print type(page)\n",
    "page"
   ]
  },
  {
   "cell_type": "code",
   "execution_count": 6,
   "metadata": {
    "collapsed": false
   },
   "outputs": [
    {
     "data": {
      "text/plain": [
       "<body>\\n<h1>Teo's Webpage</h1>\\n<p id=\"intro\">My name is Teo.  I find web scraping interesting.</p>\\n<p id=\"background\">I live in Auckland and completed my PhD at Massey University in Computer Science, while studying the field of machine learning.</p>\\n<p id=\"current\">I currently work as a lecturer in Information Technology.</p>\\n<h3>My Interests</h3>\\n<ul>\\n<li id=\"my favorite\">Data Science and Machine Learning</li>\\n<li class=\"hobby\">Tennis</li>\\n<li class=\"hobby\">Reading</li>\\n<li class=\"hobby\">Travelling</li>\\n<li class=\"hobby\">Running</li>\\n</ul>\\n</body>"
      ]
     },
     "execution_count": 6,
     "metadata": {},
     "output_type": "execute_result"
    }
   ],
   "source": [
    "# The most useful methods in a Beautiful Soup object are \"find\" and \"findAll\".\n",
    "# \"find\" takes several parameters, the most important are \"name\" and \"attrs\".\n",
    "# name will help us find the type of an element\n",
    "# Let's target \"name\".\n",
    "page.find(name='body') # Finds the 'body' tag and everything inside of it."
   ]
  },
  {
   "cell_type": "code",
   "execution_count": 7,
   "metadata": {
    "collapsed": false
   },
   "outputs": [
    {
     "data": {
      "text/plain": [
       "bs4.element.Tag"
      ]
     },
     "execution_count": 7,
     "metadata": {},
     "output_type": "execute_result"
    }
   ],
   "source": [
    "body = page.find(name='body')\n",
    "type(body) #element.Tag"
   ]
  },
  {
   "cell_type": "markdown",
   "metadata": {},
   "source": [
    "The above result tells us that 'body' element was found in the HTML page, and it tells us what object type it is. When the find fails, then this is what we get:"
   ]
  },
  {
   "cell_type": "code",
   "execution_count": 8,
   "metadata": {
    "collapsed": false
   },
   "outputs": [
    {
     "data": {
      "text/plain": [
       "NoneType"
      ]
     },
     "execution_count": 8,
     "metadata": {},
     "output_type": "execute_result"
    }
   ],
   "source": [
    "body = page.find(name='bodyyy')\n",
    "type(body) #element.Tag"
   ]
  },
  {
   "cell_type": "markdown",
   "metadata": {},
   "source": [
    "We can see its content below"
   ]
  },
  {
   "cell_type": "code",
   "execution_count": 9,
   "metadata": {
    "collapsed": false
   },
   "outputs": [
    {
     "data": {
      "text/plain": [
       "[u'\\n',\n",
       " <h1>Teo's Webpage</h1>,\n",
       " u'\\n',\n",
       " <p id=\"intro\">My name is Teo.  I find web scraping interesting.</p>,\n",
       " u'\\n',\n",
       " <p id=\"background\">I live in Auckland and completed my PhD at Massey University in Computer Science, while studying the field of machine learning.</p>,\n",
       " u'\\n',\n",
       " <p id=\"current\">I currently work as a lecturer in Information Technology.</p>,\n",
       " u'\\n',\n",
       " <h3>My Interests</h3>,\n",
       " u'\\n',\n",
       " <ul>\\n<li id=\"my favorite\">Data Science and Machine Learning</li>\\n<li class=\"hobby\">Tennis</li>\\n<li class=\"hobby\">Reading</li>\\n<li class=\"hobby\">Travelling</li>\\n<li class=\"hobby\">Running</li>\\n</ul>,\n",
       " u'\\n']"
      ]
     },
     "execution_count": 9,
     "metadata": {},
     "output_type": "execute_result"
    }
   ],
   "source": [
    "body = page.find(name='body')\n",
    "body.contents"
   ]
  },
  {
   "cell_type": "markdown",
   "metadata": {},
   "source": [
    "We can recursively search for other elements inside the returned result as well:"
   ]
  },
  {
   "cell_type": "code",
   "execution_count": 10,
   "metadata": {
    "collapsed": false
   },
   "outputs": [
    {
     "name": "stdout",
     "output_type": "stream",
     "text": [
      "<h1>Teo's Webpage</h1>\n"
     ]
    }
   ],
   "source": [
    "h1 = body.find(name='h1') # Find the 'h1' element inside of the 'body' tag\n",
    "print h1"
   ]
  },
  {
   "cell_type": "code",
   "execution_count": 11,
   "metadata": {
    "collapsed": false
   },
   "outputs": [
    {
     "name": "stdout",
     "output_type": "stream",
     "text": [
      "Teo's Webpage\n"
     ]
    }
   ],
   "source": [
    "print h1.text"
   ]
  },
  {
   "cell_type": "markdown",
   "metadata": {},
   "source": [
    "Notice how we can access the entire element or just the content. "
   ]
  },
  {
   "cell_type": "markdown",
   "metadata": {},
   "source": [
    "Now let's find the 'p' elements:"
   ]
  },
  {
   "cell_type": "code",
   "execution_count": 12,
   "metadata": {
    "collapsed": false
   },
   "outputs": [
    {
     "name": "stdout",
     "output_type": "stream",
     "text": [
      "<p id=\"intro\">My name is Teo.  I find web scraping interesting.</p>\n"
     ]
    }
   ],
   "source": [
    "p = page.find(name='p')\n",
    "# This only finds one.  This is where 'findAll' comes in.\n",
    "print p"
   ]
  },
  {
   "cell_type": "markdown",
   "metadata": {},
   "source": [
    "We can also do a search of all instances of an element:"
   ]
  },
  {
   "cell_type": "code",
   "execution_count": 13,
   "metadata": {
    "collapsed": false
   },
   "outputs": [
    {
     "name": "stdout",
     "output_type": "stream",
     "text": [
      "[<p id=\"intro\">My name is Teo.  I find web scraping interesting.</p>, <p id=\"background\">I live in Auckland and completed my PhD at Massey University in Computer Science, while studying the field of machine learning.</p>, <p id=\"current\">I currently work as a lecturer in Information Technology.</p>]\n",
      "<class 'bs4.element.ResultSet'>\n"
     ]
    }
   ],
   "source": [
    "all_p = page.findAll(name='p')\n",
    "print all_p\n",
    "print type(all_p) # Result sets are a lot like Python lists"
   ]
  },
  {
   "cell_type": "markdown",
   "metadata": {},
   "source": [
    "Access specific element with index:"
   ]
  },
  {
   "cell_type": "code",
   "execution_count": 14,
   "metadata": {
    "collapsed": false
   },
   "outputs": [
    {
     "name": "stdout",
     "output_type": "stream",
     "text": [
      "<p id=\"intro\">My name is Teo.  I find web scraping interesting.</p>\n",
      "<p id=\"background\">I live in Auckland and completed my PhD at Massey University in Computer Science, while studying the field of machine learning.</p>\n"
     ]
    }
   ],
   "source": [
    "print all_p[0]\n",
    "print all_p[1]"
   ]
  },
  {
   "cell_type": "code",
   "execution_count": 15,
   "metadata": {
    "collapsed": false
   },
   "outputs": [
    {
     "name": "stdout",
     "output_type": "stream",
     "text": [
      "My name is Teo.  I find web scraping interesting.\n",
      "I live in Auckland and completed my PhD at Massey University in Computer Science, while studying the field of machine learning.\n",
      "I currently work as a lecturer in Information Technology.\n"
     ]
    }
   ],
   "source": [
    "# Iterable like  list\n",
    "for one_p in all_p:\n",
    "    print one_p.text # Print text"
   ]
  },
  {
   "cell_type": "markdown",
   "metadata": {},
   "source": [
    "Access specific attribute of a tag:"
   ]
  },
  {
   "cell_type": "code",
   "execution_count": 16,
   "metadata": {
    "collapsed": false
   },
   "outputs": [
    {
     "name": "stdout",
     "output_type": "stream",
     "text": [
      "<p id=\"intro\">My name is Teo.  I find web scraping interesting.</p>\n"
     ]
    }
   ],
   "source": [
    "print all_p[0] # Specific element"
   ]
  },
  {
   "cell_type": "code",
   "execution_count": 17,
   "metadata": {
    "collapsed": false
   },
   "outputs": [
    {
     "name": "stdout",
     "output_type": "stream",
     "text": [
      "intro\n"
     ]
    }
   ],
   "source": [
    "print all_p[0]['id'] # Specific attribute value of a specific element"
   ]
  },
  {
   "cell_type": "markdown",
   "metadata": {},
   "source": [
    "Now let's look at 'attrs'. Beautiful soup also allows us to locate elements with specific attributes:"
   ]
  },
  {
   "cell_type": "code",
   "execution_count": 18,
   "metadata": {
    "collapsed": false
   },
   "outputs": [
    {
     "name": "stdout",
     "output_type": "stream",
     "text": [
      "<p id=\"intro\">My name is Teo.  I find web scraping interesting.</p>\n"
     ]
    }
   ],
   "source": [
    "print page.find(name='p', attrs={\"id\":\"intro\"})"
   ]
  },
  {
   "cell_type": "code",
   "execution_count": 19,
   "metadata": {
    "collapsed": false
   },
   "outputs": [
    {
     "name": "stdout",
     "output_type": "stream",
     "text": [
      "<p id=\"background\">I live in Auckland and completed my PhD at Massey University in Computer Science, while studying the field of machine learning.</p>\n"
     ]
    }
   ],
   "source": [
    "print page.find(name='p', attrs={\"id\":\"background\"})"
   ]
  },
  {
   "cell_type": "code",
   "execution_count": 20,
   "metadata": {
    "collapsed": false
   },
   "outputs": [
    {
     "data": {
      "text/plain": [
       "u'I currently work as a lecturer in Information Technology.'"
      ]
     },
     "execution_count": 20,
     "metadata": {},
     "output_type": "execute_result"
    }
   ],
   "source": [
    "result = page.find(name='p', attrs={\"id\":\"current\"})\n",
    "result.text"
   ]
  },
  {
   "cell_type": "markdown",
   "metadata": {},
   "source": [
    "Again we can also do a search of all instances of an element and name of a class:"
   ]
  },
  {
   "cell_type": "code",
   "execution_count": 21,
   "metadata": {
    "collapsed": false
   },
   "outputs": [
    {
     "name": "stdout",
     "output_type": "stream",
     "text": [
      "[<li class=\"hobby\">Tennis</li>, <li class=\"hobby\">Reading</li>, <li class=\"hobby\">Travelling</li>, <li class=\"hobby\">Running</li>]\n"
     ]
    }
   ],
   "source": [
    "print page.findAll(\"li\", \"hobby\")"
   ]
  },
  {
   "cell_type": "markdown",
   "metadata": {},
   "source": [
    "**Exercise:** Extract the 'h3' element from Teo's webpage."
   ]
  },
  {
   "cell_type": "code",
   "execution_count": 69,
   "metadata": {
    "collapsed": false
   },
   "outputs": [
    {
     "name": "stdout",
     "output_type": "stream",
     "text": [
      "<h3>My Interests</h3>\n"
     ]
    }
   ],
   "source": [
    "h3 = page.find(name='h3')\n",
    "# This only finds one.  This is where 'findAll' comes in.\n",
    "print h3"
   ]
  },
  {
   "cell_type": "markdown",
   "metadata": {},
   "source": [
    "**Exercise:** Extract Teo's hobbies from the html_doc.  Print out the text of the hobby. "
   ]
  },
  {
   "cell_type": "code",
   "execution_count": 70,
   "metadata": {
    "collapsed": false
   },
   "outputs": [
    {
     "name": "stdout",
     "output_type": "stream",
     "text": [
      "<ul>\n",
      "<li id=\"my favorite\">Data Science and Machine Learning</li>\n",
      "<li class=\"hobby\">Tennis</li>\n",
      "<li class=\"hobby\">Reading</li>\n",
      "<li class=\"hobby\">Travelling</li>\n",
      "<li class=\"hobby\">Running</li>\n",
      "</ul>\n"
     ]
    }
   ],
   "source": [
    "hobbies = page.find(name='ul')\n",
    "# This only finds one.  This is where 'findAll' comes in.\n",
    "print hobbies"
   ]
  },
  {
   "cell_type": "markdown",
   "metadata": {},
   "source": [
    "**Exercise:** Extract Teo's hobby that has the id \"my favorite\"."
   ]
  },
  {
   "cell_type": "code",
   "execution_count": null,
   "metadata": {
    "collapsed": false
   },
   "outputs": [],
   "source": []
  },
  {
   "cell_type": "markdown",
   "metadata": {},
   "source": [
    "In order to illustrate HTML web scraping on a real-world site, we will look at a website that lists the up-to-date gold price found on http://www.gold.org, and which is refreshed every minute. \n",
    "\n",
    "We will attempt to read the asking price of gold from the HTML document."
   ]
  },
  {
   "cell_type": "code",
   "execution_count": 22,
   "metadata": {
    "collapsed": false
   },
   "outputs": [
    {
     "data": {
      "text/html": [
       "<iframe src=http://www.gold.org width=1100 height=500></iframe>"
      ],
      "text/plain": [
       "<IPython.core.display.HTML object>"
      ]
     },
     "execution_count": 22,
     "metadata": {},
     "output_type": "execute_result"
    }
   ],
   "source": [
    "from IPython.core.display import HTML\n",
    "HTML(\"<iframe src=http://www.gold.org width=1100 height=500></iframe>\")"
   ]
  },
  {
   "cell_type": "markdown",
   "metadata": {},
   "source": [
    "The price we are interested in is found in the \"ASK\" row under the \"Spot Price\" section. \n",
    "\n",
    "In order to find where the price is situated in the HTML document, we must look at the document's source code. By right clicking on a page in a browser, an option should be displayed allowing you to view the source.\n",
    "\n",
    "We must inspect the source so that we can find the element that houses this value. We can then use the python's BeautifulSoup package to **read and traverse through the HTML element tree** in order to extract the data that we want.\n",
    "\n",
    "There are three basic steps to scraping a single page:\n",
    "\n",
    "    1. Get (request) the page\n",
    "    2. Parse the page content (read and interpret the document structure)\n",
    "    3. Search through the content of interest\n",
    "\n",
    "\n",
    "Below is the example of a script that will access and display the latest gold price being traded:\n"
   ]
  },
  {
   "cell_type": "code",
   "execution_count": 73,
   "metadata": {
    "collapsed": false
   },
   "outputs": [],
   "source": [
    "#we first need to make some extra imports\n",
    "import json\n",
    "from time import sleep\n",
    "from datetime import datetime\n",
    "\n",
    "#you might need to set the proxies if you are doiung this from Massey's domain\n",
    "#if the below does not work, then try this: \"http://get-proxy.massey.ac.nz/\"\n",
    "massey_proxies = {\n",
    "  \"http\": \"http://alb-cache1.massey.ac.nz/\",\n",
    " \"https\": \"http://alb-cache1.massey.ac.nz/\",\n",
    "}\n",
    "\n",
    "\n",
    "#massey_proxies = \"\""
   ]
  },
  {
   "cell_type": "markdown",
   "metadata": {},
   "source": [
    "**STEP 1: GET** Access the page and read it into the beautiful soup object"
   ]
  },
  {
   "cell_type": "code",
   "execution_count": 74,
   "metadata": {
    "collapsed": false
   },
   "outputs": [
    {
     "data": {
      "text/plain": [
       "<Response [200]>"
      ]
     },
     "execution_count": 74,
     "metadata": {},
     "output_type": "execute_result"
    }
   ],
   "source": [
    "url = \"http://gold.org\"\n",
    "response = requests.get(url, proxies=massey_proxies)\n",
    "response"
   ]
  },
  {
   "cell_type": "markdown",
   "metadata": {},
   "source": [
    "### --- WARNING --- "
   ]
  },
  {
   "cell_type": "markdown",
   "metadata": {},
   "source": [
    "ALWAYS FIRST MAKE SURE THAT THE RESPONSE IS 200 - OTHERWISE YOU MIGHT HAVE AN ERROR, IN WHICH CASE YOU'D BE BEST TO STOP AND NOT TRY TO PROCESS THE DOCUMENT, SINCE THERE WILL BE NOTHING TO PROCESS"
   ]
  },
  {
   "cell_type": "code",
   "execution_count": 75,
   "metadata": {
    "collapsed": false
   },
   "outputs": [],
   "source": [
    "page = response.content"
   ]
  },
  {
   "cell_type": "code",
   "execution_count": 76,
   "metadata": {
    "collapsed": false,
    "scrolled": true
   },
   "outputs": [
    {
     "data": {
      "text/plain": [
       "'<!DOCTYPE html PUBLIC \"-//W3C//DTD XHTML+RDFa 1.0//EN\" \"http://www.w3.org/MarkUp/DTD/xhtml-rdfa-1.dtd\">\\n<!--[if (IE 6) & (!IEMobile)]> <html xmlns=\"http://www.w3.org/1999/xhtml\" version=\"XHTML+RDFa 1.0\" class=\"no-js lt-ie10 lt-ie9 lt-ie8 lt-ie7 ie6\" lang=\"en\"  xmlns:wb=\"http://open.weibo.com/wb\" xml:lang=\"en\" dir=\"ltr\"\\n  xmlns:fb=\"http://ogp.me/ns/fb#\"\\n  xmlns:og=\"http://ogp.me/ns#\"\\n  xmlns:article=\"http://ogp.me/ns/article#\"\\n  xmlns:book=\"http://ogp.me/ns/book#\"\\n  xmlns:profile=\"http://ogp.me/ns/profile#\"\\n  xmlns:video=\"http://ogp.me/ns/video#\"> <![endif]-->\\n<!--[if (IE 7) & (!IEMobile)]> <html xmlns=\"http://www.w3.org/1999/xhtml\" version=\"XHTML+RDFa 1.0\" class=\"no-js lt-ie10 lt-ie9 lt-ie8 ie7\" lang=\"en\"  xmlns:wb=\"http://open.weibo.com/wb\" xml:lang=\"en\" dir=\"ltr\"\\n  xmlns:fb=\"http://ogp.me/ns/fb#\"\\n  xmlns:og=\"http://ogp.me/ns#\"\\n  xmlns:article=\"http://ogp.me/ns/article#\"\\n  xmlns:book=\"http://ogp.me/ns/book#\"\\n  xmlns:profile=\"http://ogp.me/ns/profile#\"\\n  xmlns:video=\"http://ogp.me/ns/video#\"> <![endif]-->\\n<!--[if (IE 8) & (!IEMobile)]> <html xmlns=\"http://www.w3.org/1999/xhtml\" version=\"XHTML+RDFa 1.0\" class=\"no-js lt-ie10 lt-ie9 ie8\" lang=\"en\"  xmlns:wb=\"http://open.weibo.com/wb\" xml:lang=\"en\" dir=\"ltr\"\\n  xmlns:fb=\"http://ogp.me/ns/fb#\"\\n  xmlns:og=\"http://ogp.me/ns#\"\\n  xmlns:article=\"http://ogp.me/ns/article#\"\\n  xmlns:book=\"http://ogp.me/ns/book#\"\\n  xmlns:profile=\"http://ogp.me/ns/profile#\"\\n  xmlns:video=\"http://ogp.me/ns/video#\"> <![endif]-->\\n<!--[if IE 9]> <html xmlns=\"http://www.w3.org/1999/xhtml\" version=\"XHTML+RDFa 1.0\" class=\"no-js lt-ie10 ie9\" lang=\"en\" xml:lang=\"en\"  xmlns:wb=\"http://open.weibo.com/wb\" dir=\"ltr\"\\n  xmlns:fb=\"http://ogp.me/ns/fb#\"\\n  xmlns:og=\"http://ogp.me/ns#\"\\n  xmlns:article=\"http://ogp.me/ns/article#\"\\n  xmlns:book=\"http://ogp.me/ns/book#\"\\n  xmlns:profile=\"http://ogp.me/ns/profile#\"\\n  xmlns:video=\"http://ogp.me/ns/video#\"> <![endif]-->\\n<!--[if !IE]><!--> <html xmlns=\"http://www.w3.org/1999/xhtml\" version=\"XHTML+RDFa 1.0\" class=\"no-js\" lang=\"en\" xml:lang=\"en\"  xmlns:wb=\"http://open.weibo.com/wb\" dir=\"ltr\"\\n  xmlns:fb=\"http://ogp.me/ns/fb#\"\\n  xmlns:og=\"http://ogp.me/ns#\"\\n  xmlns:article=\"http://ogp.me/ns/article#\"\\n  xmlns:book=\"http://ogp.me/ns/book#\"\\n  xmlns:profile=\"http://ogp.me/ns/profile#\"\\n  xmlns:video=\"http://ogp.me/ns/video#\"> <!--<![endif]-->\\n\\n<head profile=\"http://www.w3.org/1999/xhtml/vocab\">\\n  <meta http-equiv=\"X-UA-Compatible\" content=\"IE=edge,chrome=1\" />\\n  <script type=\"text/javascript\">(function(H) {var touch= \\'ontouchstart\\' in window || navigator.msMaxTouchPoints; var bodyClass=\\'js\\';if(touch){bodyClass+=\\' touch\\';}else{bodyClass+=\\' no-touch\\';}if(navigator.userAgent.toLowerCase().indexOf(\"android\") > -1){bodyClass+=\\' android\\';} H.className = H.className.replace(/\\\\bno-js\\\\b/, bodyClass) })(document.documentElement);</script>\\n  <meta http-equiv=\"Content-Type\" content=\"text/html; charset=utf-8\" />\\n<link rel=\"shortcut icon\" href=\"https://beddeb301310b6a9af99-c5ca0775dec2b65b538654c8f83dc83d.ssl.cf3.rackcdn.com/sites/all/themes/gold/favicon.ico\" type=\"image/vnd.microsoft.icon\" />\\n<link href=\"/cn/homepage\" rel=\"alternate\" hreflang=\"zh-hans\" />\\n<meta name=\"description\" content=\"The World Gold Council is the market development organisation for the gold industry. \" />\\n<link rel=\"dns-prefetch\" href=\"//beddeb301310b6a9af99-c5ca0775dec2b65b538654c8f83dc83d.r93.cf3.rackcdn.com\" />\\n<meta http-equiv=\"x-dns-prefetch-control\" content=\"on\" />\\n<meta name=\"generator\" content=\"Drupal 7 (http://drupal.org)\" />\\n<link rel=\"canonical\" href=\"http://cms.gold.org/\" />\\n<link rel=\"shortlink\" href=\"http://cms.gold.org/\" />\\n\\n  <!-- viewport optimisation -->\\n  <meta name=\"viewport\" content=\"width=device-width,minimum-scale=1.0,initial-scale=1.0,minimal-ui\" />\\n  <meta name=\"apple-mobile-web-app-capable\" content=\"yes\" />\\n  <meta name=\"apple-mobile-web-app-title\" content=\"World Gold Council\" />\\n  <meta name=\"apple-mobile-web-app-status-bar-style\" content=\"black\" />\\n\\n  <!-- mobile Internet Explorer allows us to activate ClearType technology for smoothing fonts for easy reading  -->\\n  <meta http-equiv=\"cleartype\" content=\"on\" />\\n\\n  <title>Gold Industry Information | World Gold Council</title>\\n\\n  <link type=\"text/css\" rel=\"stylesheet\" href=\"https://beddeb301310b6a9af99-c5ca0775dec2b65b538654c8f83dc83d.ssl.cf3.rackcdn.com/sites/default/files/css/css_NO9tLVHulmcCzq7LMqBLUOkjEPu5n6YxpLizsz1PHQ0.css\" media=\"all\" />\\n<link type=\"text/css\" rel=\"stylesheet\" href=\"https://beddeb301310b6a9af99-c5ca0775dec2b65b538654c8f83dc83d.ssl.cf3.rackcdn.com/sites/default/files/css/css_LH3UQYG_BxgQwRRcK1jiqCvyS0yJLQVBBHbmno0p1FA.css\" media=\"all\" />\\n<link type=\"text/css\" rel=\"stylesheet\" href=\"https://beddeb301310b6a9af99-c5ca0775dec2b65b538654c8f83dc83d.ssl.cf3.rackcdn.com/sites/default/files/css/css_Y_2QkHuRMMmEeI_Ykky0xMi2Ix52w1RgULobKtplfes.css\" media=\"all\" />\\n  \\n  <link href=\"https://8d9c1676ed05fb2bad3c-75fd16519244bbaf977a5b9a39667d57.ssl.cf3.rackcdn.com/git/cdn/10.36/css/main.css\" rel=\"stylesheet\" media=\"all\" type=\"text/css\" />\\n  \\n\\n\\n  <!--[if lte IE 8]>\\n  <link href=\"https://8d9c1676ed05fb2bad3c-75fd16519244bbaf977a5b9a39667d57.ssl.cf3.rackcdn.com/git/cdn/10.36/css/lte-ie8.css\" rel=\"stylesheet\" media=\"all\" type=\"text/css\" />\\n  <![endif]-->\\n\\n  <script type=\"text/javascript\" src=\"//code.jquery.com/jquery-1.10.2.min.js?v=1.10.2\"></script>\\n<script type=\"text/javascript\" src=\"https://beddeb301310b6a9af99-c5ca0775dec2b65b538654c8f83dc83d.ssl.cf3.rackcdn.com/misc/jquery.once.js?v=1.2\"></script>\\n<script type=\"text/javascript\" src=\"//code.jquery.com/jquery-migrate-1.2.1.min.js?v=1.2.1\"></script>\\n<script type=\"text/javascript\" src=\"https://beddeb301310b6a9af99-c5ca0775dec2b65b538654c8f83dc83d.ssl.cf3.rackcdn.com/misc/drupal.js?obqckk\"></script>\\n<script type=\"text/javascript\" src=\"https://8d9c1676ed05fb2bad3c-75fd16519244bbaf977a5b9a39667d57.ssl.cf3.rackcdn.com/git/cdn/10.36/js/site.min.js?obqckk\"></script>\\n<script type=\"text/javascript\" src=\"https://8d9c1676ed05fb2bad3c-75fd16519244bbaf977a5b9a39667d57.ssl.cf3.rackcdn.com/git/cdn/10.36/js/js-modules.min.js?obqckk\"></script>\\n<script type=\"text/javascript\" src=\"https://8d9c1676ed05fb2bad3c-75fd16519244bbaf977a5b9a39667d57.ssl.cf3.rackcdn.com/git/cdn/10.36/js/enhance-it.min.js?obqckk\"></script>\\n<script type=\"text/javascript\">\\n<!--//--><![CDATA[//><!--\\njQuery.extend(Drupal.settings, {\"basePath\":\"\\\\/\",\"pathPrefix\":\"\",\"ajaxPageState\":{\"theme\":\"gold\",\"theme_token\":\"rli6QhRnj8cW1dvR2qDw7X0EjmLIGmvsdSp-99NAbvQ\",\"js\":{\"\\\\/\\\\/code.jquery.com\\\\/jquery-1.10.2.min.js\":1,\"misc\\\\/jquery.once.js\":1,\"\\\\/\\\\/code.jquery.com\\\\/jquery-migrate-1.2.1.min.js\":1,\"misc\\\\/drupal.js\":1,\"sites\\\\/all\\\\/themes\\\\/gold\\\\/js\\\\/site.js\":1,\"sites\\\\/all\\\\/themes\\\\/gold\\\\/js\\\\/js-modules.js\":1,\"sites\\\\/all\\\\/themes\\\\/gold\\\\/js\\\\/enhance-it.js\":1},\"css\":{\"modules\\\\/system\\\\/system.base.css\":1,\"modules\\\\/system\\\\/system.menus.css\":1,\"modules\\\\/system\\\\/system.messages.css\":1,\"modules\\\\/system\\\\/system.theme.css\":1,\"sites\\\\/all\\\\/modules\\\\/contrib\\\\/date\\\\/date_api\\\\/date.css\":1,\"sites\\\\/all\\\\/modules\\\\/contrib\\\\/date\\\\/date_popup\\\\/themes\\\\/datepicker.1.7.css\":1,\"modules\\\\/field\\\\/theme\\\\/field.css\":1,\"sites\\\\/all\\\\/modules\\\\/contrib_patched\\\\/inline_entity_form\\\\/ief.css\":1,\"modules\\\\/node\\\\/node.css\":1,\"modules\\\\/search\\\\/search.css\":1,\"modules\\\\/user\\\\/user.css\":1,\"sites\\\\/all\\\\/modules\\\\/contrib\\\\/views\\\\/css\\\\/views.css\":1,\"sites\\\\/all\\\\/modules\\\\/contrib\\\\/ctools\\\\/css\\\\/ctools.css\":1,\"modules\\\\/locale\\\\/locale.css\":1}},\"gold_user\":{\"default_currency\":\"USD\"},\"wgc_user\":{\"module_path\":\"sites\\\\/all\\\\/themes\\\\/gold\\\\/js\\\\/site.js\",\"currentNid\":\"5\"},\"wgc_lang_manager\":{\"currentNid\":\"5\"},\"urlIsAjaxTrusted\":{\"\\\\/\":true}});\\n//--><!]]>\\n</script>\\n\\n  <!-- home screen icon set -->\\n  <!--iOS -->\\n\\n  <link href=\"https://8d9c1676ed05fb2bad3c-75fd16519244bbaf977a5b9a39667d57.ssl.cf3.rackcdn.com/git/cdn/10.36/images/apple-touch-icon-precomposed-144.png\" rel=\"apple-touch-icon-precomposed\" sizes=\"144x144\" />\\n  <link href=\"https://8d9c1676ed05fb2bad3c-75fd16519244bbaf977a5b9a39667d57.ssl.cf3.rackcdn.com/git/cdn/10.36/images/apple-touch-icon-precomposed-114.png\" rel=\"apple-touch-icon-precomposed\" sizes=\"114x114\" />\\n  <link href=\"https://8d9c1676ed05fb2bad3c-75fd16519244bbaf977a5b9a39667d57.ssl.cf3.rackcdn.com/git/cdn/10.36/images/apple-touch-icon-precomposed-72.png\" rel=\"apple-touch-icon-precomposed\" sizes=\"72x72\" />\\n  <link href=\"https://8d9c1676ed05fb2bad3c-75fd16519244bbaf977a5b9a39667d57.ssl.cf3.rackcdn.com/git/cdn/10.36/images/apple-touch-icon-precomposed-57.png\" rel=\"apple-touch-icon-precomposed\" />\\n  <link href=\"https://8d9c1676ed05fb2bad3c-75fd16519244bbaf977a5b9a39667d57.ssl.cf3.rackcdn.com/git/cdn/10.36/images/apple-touch-icon-64.png\" rel=\"apple-touch-icon\" />\\n  <link rel=\"shortcut icon\" href=\"https://8d9c1676ed05fb2bad3c-75fd16519244bbaf977a5b9a39667d57.ssl.cf3.rackcdn.com/git/cdn/10.36/images/favicon.ico\" />\\n  <link rel=\"shortcut icon\" href=\"https://8d9c1676ed05fb2bad3c-75fd16519244bbaf977a5b9a39667d57.ssl.cf3.rackcdn.com/git/cdn/10.36/images/favicon.png\" />\\n\\n\\n  <link rel=\"apple-touch-startup-image\" href=\"https://8d9c1676ed05fb2bad3c-75fd16519244bbaf977a5b9a39667d57.ssl.cf3.rackcdn.com/git/cdn/10.36/images/startup-320x460.png\" media=\"screen and (max-device-width:320px)\" />\\n  <link rel=\"apple-touch-startup-image\" href=\"https://8d9c1676ed05fb2bad3c-75fd16519244bbaf977a5b9a39667d57.ssl.cf3.rackcdn.com/git/cdn/10.36/images/startup-640x920.png\" media=\"(max-device-width:480px) and (-webkit-min-device-pixel-ratio:2)\" />\\n  <link rel=\"apple-touch-startup-image\" href=\"https://8d9c1676ed05fb2bad3c-75fd16519244bbaf977a5b9a39667d57.ssl.cf3.rackcdn.com/git/cdn/10.36/images/startup-640x1096.png\" media=\"(max-device-width:548px) and (-webkit-min-device-pixel-ratio:2)\" />\\n  <link rel=\"apple-touch-startup-image\" sizes=\"1024x748\" href=\"https://8d9c1676ed05fb2bad3c-75fd16519244bbaf977a5b9a39667d57.ssl.cf3.rackcdn.com/git/cdn/10.36/images/startup-1024x748.png\" media=\"screen and (min-device-width:481px) and (max-device-width:1024px) and (orientation:landscape)\" />\\n  <link rel=\"apple-touch-startup-image\" sizes=\"768x1004\" href=\"htt'"
      ]
     },
     "execution_count": 76,
     "metadata": {},
     "output_type": "execute_result"
    }
   ],
   "source": [
    "page[:10000]"
   ]
  },
  {
   "cell_type": "markdown",
   "metadata": {},
   "source": [
    "**STEP 2: PARSE** Create a BeautifulSoup object that reads and parses the HTML page into a format that we can search and traverse."
   ]
  },
  {
   "cell_type": "code",
   "execution_count": 77,
   "metadata": {
    "collapsed": false
   },
   "outputs": [],
   "source": [
    "scraping = BeautifulSoup(page, \"lxml\") "
   ]
  },
  {
   "cell_type": "code",
   "execution_count": 78,
   "metadata": {
    "collapsed": false,
    "scrolled": true
   },
   "outputs": [
    {
     "data": {
      "text/plain": [
       "<!DOCTYPE html PUBLIC \"-//W3C//DTD XHTML+RDFa 1.0//EN\" \"http://www.w3.org/MarkUp/DTD/xhtml-rdfa-1.dtd\">\\n<!--[if (IE 6) & (!IEMobile)]> <html xmlns=\"http://www.w3.org/1999/xhtml\" version=\"XHTML+RDFa 1.0\" class=\"no-js lt-ie10 lt-ie9 lt-ie8 lt-ie7 ie6\" lang=\"en\"  xmlns:wb=\"http://open.weibo.com/wb\" xml:lang=\"en\" dir=\"ltr\"\\n  xmlns:fb=\"http://ogp.me/ns/fb#\"\\n  xmlns:og=\"http://ogp.me/ns#\"\\n  xmlns:article=\"http://ogp.me/ns/article#\"\\n  xmlns:book=\"http://ogp.me/ns/book#\"\\n  xmlns:profile=\"http://ogp.me/ns/profile#\"\\n  xmlns:video=\"http://ogp.me/ns/video#\"> <![endif]--><!--[if (IE 7) & (!IEMobile)]> <html xmlns=\"http://www.w3.org/1999/xhtml\" version=\"XHTML+RDFa 1.0\" class=\"no-js lt-ie10 lt-ie9 lt-ie8 ie7\" lang=\"en\"  xmlns:wb=\"http://open.weibo.com/wb\" xml:lang=\"en\" dir=\"ltr\"\\n  xmlns:fb=\"http://ogp.me/ns/fb#\"\\n  xmlns:og=\"http://ogp.me/ns#\"\\n  xmlns:article=\"http://ogp.me/ns/article#\"\\n  xmlns:book=\"http://ogp.me/ns/book#\"\\n  xmlns:profile=\"http://ogp.me/ns/profile#\"\\n  xmlns:video=\"http://ogp.me/ns/video#\"> <![endif]--><!--[if (IE 8) & (!IEMobile)]> <html xmlns=\"http://www.w3.org/1999/xhtml\" version=\"XHTML+RDFa 1.0\" class=\"no-js lt-ie10 lt-ie9 ie8\" lang=\"en\"  xmlns:wb=\"http://open.weibo.com/wb\" xml:lang=\"en\" dir=\"ltr\"\\n  xmlns:fb=\"http://ogp.me/ns/fb#\"\\n  xmlns:og=\"http://ogp.me/ns#\"\\n  xmlns:article=\"http://ogp.me/ns/article#\"\\n  xmlns:book=\"http://ogp.me/ns/book#\"\\n  xmlns:profile=\"http://ogp.me/ns/profile#\"\\n  xmlns:video=\"http://ogp.me/ns/video#\"> <![endif]--><!--[if IE 9]> <html xmlns=\"http://www.w3.org/1999/xhtml\" version=\"XHTML+RDFa 1.0\" class=\"no-js lt-ie10 ie9\" lang=\"en\" xml:lang=\"en\"  xmlns:wb=\"http://open.weibo.com/wb\" dir=\"ltr\"\\n  xmlns:fb=\"http://ogp.me/ns/fb#\"\\n  xmlns:og=\"http://ogp.me/ns#\"\\n  xmlns:article=\"http://ogp.me/ns/article#\"\\n  xmlns:book=\"http://ogp.me/ns/book#\"\\n  xmlns:profile=\"http://ogp.me/ns/profile#\"\\n  xmlns:video=\"http://ogp.me/ns/video#\"> <![endif]--><!--[if !IE]><!--><html class=\"no-js\" dir=\"ltr\" lang=\"en\" version=\"XHTML+RDFa 1.0\" xml:lang=\"en\" xmlns=\"http://www.w3.org/1999/xhtml\" xmlns:article=\"http://ogp.me/ns/article#\" xmlns:book=\"http://ogp.me/ns/book#\" xmlns:fb=\"http://ogp.me/ns/fb#\" xmlns:og=\"http://ogp.me/ns#\" xmlns:profile=\"http://ogp.me/ns/profile#\" xmlns:video=\"http://ogp.me/ns/video#\" xmlns:wb=\"http://open.weibo.com/wb\"> <!--<![endif]-->\\n<head profile=\"http://www.w3.org/1999/xhtml/vocab\">\\n<meta content=\"IE=edge,chrome=1\" http-equiv=\"X-UA-Compatible\"/>\\n<script type=\"text/javascript\">(function(H) {var touch= 'ontouchstart' in window || navigator.msMaxTouchPoints; var bodyClass='js';if(touch){bodyClass+=' touch';}else{bodyClass+=' no-touch';}if(navigator.userAgent.toLowerCase().indexOf(\"android\") > -1){bodyClass+=' android';} H.className = H.className.replace(/\\\\bno-js\\\\b/, bodyClass) })(document.documentElement);</script>\\n<meta content=\"text/html; charset=unicode-escape\" http-equiv=\"Content-Type\"/>\\n<link href=\"https://beddeb301310b6a9af99-c5ca0775dec2b65b538654c8f83dc83d.ssl.cf3.rackcdn.com/sites/all/themes/gold/favicon.ico\" rel=\"shortcut icon\" type=\"image/vnd.microsoft.icon\"/>\\n<link href=\"/cn/homepage\" hreflang=\"zh-hans\" rel=\"alternate\"/>\\n<meta content=\"The World Gold Council is the market development organisation for the gold industry. \" name=\"description\"/>\\n<link href=\"//beddeb301310b6a9af99-c5ca0775dec2b65b538654c8f83dc83d.r93.cf3.rackcdn.com\" rel=\"dns-prefetch\"/>\\n<meta content=\"on\" http-equiv=\"x-dns-prefetch-control\"/>\\n<meta content=\"Drupal 7 (http://drupal.org)\" name=\"generator\"/>\\n<link href=\"http://cms.gold.org/\" rel=\"canonical\"/>\\n<link href=\"http://cms.gold.org/\" rel=\"shortlink\"/>\\n<!-- viewport optimisation -->\\n<meta content=\"width=device-width,minimum-scale=1.0,initial-scale=1.0,minimal-ui\" name=\"viewport\"/>\\n<meta content=\"yes\" name=\"apple-mobile-web-app-capable\"/>\\n<meta content=\"World Gold Council\" name=\"apple-mobile-web-app-title\"/>\\n<meta content=\"black\" name=\"apple-mobile-web-app-status-bar-style\"/>\\n<!-- mobile Internet Explorer allows us to activate ClearType technology for smoothing fonts for easy reading  -->\\n<meta content=\"on\" http-equiv=\"cleartype\"/>\\n<title>Gold Industry Information | World Gold Council</title>\\n<link href=\"https://beddeb301310b6a9af99-c5ca0775dec2b65b538654c8f83dc83d.ssl.cf3.rackcdn.com/sites/default/files/css/css_NO9tLVHulmcCzq7LMqBLUOkjEPu5n6YxpLizsz1PHQ0.css\" media=\"all\" rel=\"stylesheet\" type=\"text/css\"/>\\n<link href=\"https://beddeb301310b6a9af99-c5ca0775dec2b65b538654c8f83dc83d.ssl.cf3.rackcdn.com/sites/default/files/css/css_LH3UQYG_BxgQwRRcK1jiqCvyS0yJLQVBBHbmno0p1FA.css\" media=\"all\" rel=\"stylesheet\" type=\"text/css\"/>\\n<link href=\"https://beddeb301310b6a9af99-c5ca0775dec2b65b538654c8f83dc83d.ssl.cf3.rackcdn.com/sites/default/files/css/css_Y_2QkHuRMMmEeI_Ykky0xMi2Ix52w1RgULobKtplfes.css\" media=\"all\" rel=\"stylesheet\" type=\"text/css\"/>\\n<link href=\"https://8d9c1676ed05fb2bad3c-75fd16519244bbaf977a5b9a39667d57.ssl.cf3.rackcdn.com/git/cdn/10.36/css/main.css\" media=\"all\" rel=\"stylesheet\" type=\"text/css\"/>\\n<!--[if lte IE 8]>\\n  <link href=\"https://8d9c1676ed05fb2bad3c-75fd16519244bbaf977a5b9a39667d57.ssl.cf3.rackcdn.com/git/cdn/10.36/css/lte-ie8.css\" rel=\"stylesheet\" media=\"all\" type=\"text/css\" />\\n  <![endif]-->\\n<script src=\"//code.jquery.com/jquery-1.10.2.min.js?v=1.10.2\" type=\"text/javascript\"></script>\\n<script src=\"https://beddeb301310b6a9af99-c5ca0775dec2b65b538654c8f83dc83d.ssl.cf3.rackcdn.com/misc/jquery.once.js?v=1.2\" type=\"text/javascript\"></script>\\n<script src=\"//code.jquery.com/jquery-migrate-1.2.1.min.js?v=1.2.1\" type=\"text/javascript\"></script>\\n<script src=\"https://beddeb301310b6a9af99-c5ca0775dec2b65b538654c8f83dc83d.ssl.cf3.rackcdn.com/misc/drupal.js?obqckk\" type=\"text/javascript\"></script>\\n<script src=\"https://8d9c1676ed05fb2bad3c-75fd16519244bbaf977a5b9a39667d57.ssl.cf3.rackcdn.com/git/cdn/10.36/js/site.min.js?obqckk\" type=\"text/javascript\"></script>\\n<script src=\"https://8d9c1676ed05fb2bad3c-75fd16519244bbaf977a5b9a39667d57.ssl.cf3.rackcdn.com/git/cdn/10.36/js/js-modules.min.js?obqckk\" type=\"text/javascript\"></script>\\n<script src=\"https://8d9c1676ed05fb2bad3c-75fd16519244bbaf977a5b9a39667d57.ssl.cf3.rackcdn.com/git/cdn/10.36/js/enhance-it.min.js?obqckk\" type=\"text/javascript\"></script>\\n<script type=\"text/javascript\">\\n<!--//--><![CDATA[//><!--\\njQuery.extend(Drupal.settings, {\"basePath\":\"\\\\/\",\"pathPrefix\":\"\",\"ajaxPageState\":{\"theme\":\"gold\",\"theme_token\":\"rli6QhRnj8cW1dvR2qDw7X0EjmLIGmvsdSp-99NAbvQ\",\"js\":{\"\\\\/\\\\/code.jquery.com\\\\/jquery-1.10.2.min.js\":1,\"misc\\\\/jquery.once.js\":1,\"\\\\/\\\\/code.jquery.com\\\\/jquery-migrate-1.2.1.min.js\":1,\"misc\\\\/drupal.js\":1,\"sites\\\\/all\\\\/themes\\\\/gold\\\\/js\\\\/site.js\":1,\"sites\\\\/all\\\\/themes\\\\/gold\\\\/js\\\\/js-modules.js\":1,\"sites\\\\/all\\\\/themes\\\\/gold\\\\/js\\\\/enhance-it.js\":1},\"css\":{\"modules\\\\/system\\\\/system.base.css\":1,\"modules\\\\/system\\\\/system.menus.css\":1,\"modules\\\\/system\\\\/system.messages.css\":1,\"modules\\\\/system\\\\/system.theme.css\":1,\"sites\\\\/all\\\\/modules\\\\/contrib\\\\/date\\\\/date_api\\\\/date.css\":1,\"sites\\\\/all\\\\/modules\\\\/contrib\\\\/date\\\\/date_popup\\\\/themes\\\\/datepicker.1.7.css\":1,\"modules\\\\/field\\\\/theme\\\\/field.css\":1,\"sites\\\\/all\\\\/modules\\\\/contrib_patched\\\\/inline_entity_form\\\\/ief.css\":1,\"modules\\\\/node\\\\/node.css\":1,\"modules\\\\/search\\\\/search.css\":1,\"modules\\\\/user\\\\/user.css\":1,\"sites\\\\/all\\\\/modules\\\\/contrib\\\\/views\\\\/css\\\\/views.css\":1,\"sites\\\\/all\\\\/modules\\\\/contrib\\\\/ctools\\\\/css\\\\/ctools.css\":1,\"modules\\\\/locale\\\\/locale.css\":1}},\"gold_user\":{\"default_currency\":\"USD\"},\"wgc_user\":{\"module_path\":\"sites\\\\/all\\\\/themes\\\\/gold\\\\/js\\\\/site.js\",\"currentNid\":\"5\"},\"wgc_lang_manager\":{\"currentNid\":\"5\"},\"urlIsAjaxTrusted\":{\"\\\\/\":true}});\\n//--><!]]>\\n</script>\\n<!-- home screen icon set -->\\n<!--iOS -->\\n<link href=\"https://8d9c1676ed05fb2bad3c-75fd16519244bbaf977a5b9a39667d57.ssl.cf3.rackcdn.com/git/cdn/10.36/images/apple-touch-icon-precomposed-144.png\" rel=\"apple-touch-icon-precomposed\" sizes=\"144x144\"/>\\n<link href=\"https://8d9c1676ed05fb2bad3c-75fd16519244bbaf977a5b9a39667d57.ssl.cf3.rackcdn.com/git/cdn/10.36/images/apple-touch-icon-precomposed-114.png\" rel=\"apple-touch-icon-precomposed\" sizes=\"114x114\"/>\\n<link href=\"https://8d9c1676ed05fb2bad3c-75fd16519244bbaf977a5b9a39667d57.ssl.cf3.rackcdn.com/git/cdn/10.36/images/apple-touch-icon-precomposed-72.png\" rel=\"apple-touch-icon-precomposed\" sizes=\"72x72\"/>\\n<link href=\"https://8d9c1676ed05fb2bad3c-75fd16519244bbaf977a5b9a39667d57.ssl.cf3.rackcdn.com/git/cdn/10.36/images/apple-touch-icon-precomposed-57.png\" rel=\"apple-touch-icon-precomposed\"/>\\n<link href=\"https://8d9c1676ed05fb2bad3c-75fd16519244bbaf977a5b9a39667d57.ssl.cf3.rackcdn.com/git/cdn/10.36/images/apple-touch-icon-64.png\" rel=\"apple-touch-icon\"/>\\n<link href=\"https://8d9c1676ed05fb2bad3c-75fd16519244bbaf977a5b9a39667d57.ssl.cf3.rackcdn.com/git/cdn/10.36/images/favicon.ico\" rel=\"shortcut icon\"/>\\n<link href=\"https://8d9c1676ed05fb2bad3c-75fd16519244bbaf977a5b9a39667d57.ssl.cf3.rackcdn.com/git/cdn/10.36/images/favicon.png\" rel=\"shortcut icon\"/>\\n<link href=\"https://8d9c1676ed05fb2bad3c-75fd16519244bbaf977a5b9a39667d57.ssl.cf3.rackcdn.com/git/cdn/10.36/images/startup-320x460.png\" media=\"screen and (max-device-width:320px)\" rel=\"apple-touch-startup-image\"/>\\n<link href=\"https://8d9c1676ed05fb2bad3c-75fd16519244bbaf977a5b9a39667d57.ssl.cf3.rackcdn.com/git/cdn/10.36/images/startup-640x920.png\" media=\"(max-device-width:480px) and (-webkit-min-device-pixel-ratio:2)\" rel=\"apple-touch-startup-image\"/>\\n<link href=\"https://8d9c1676ed05fb2bad3c-75fd16519244bbaf977a5b9a39667d57.ssl.cf3.rackcdn.com/git/cdn/10.36/images/startup-640x1096.png\" media=\"(max-device-width:548px) and (-webkit-min-device-pixel-ratio:2)\" rel=\"apple-touch-startup-image\"/>\\n<link href=\"https://8d9c1676ed05fb2bad3c-75fd16519244bbaf977a5b9a39667d57.ssl.cf3.rackcdn.com/git/cdn/10.36/images/startup-1024x748.png\" media=\"screen and (min-device-width:481px) and (max-device-width:1024px) and (orientation:landscape)\" rel=\"apple-touch-startup-image\" sizes=\"1024x748\"/>\\n<link href=\"https://8d9c1676ed05fb2bad3c-75fd16519244bbaf977a5b9a39667d57.ssl.cf3.rackcdn.com/git/cdn/10.36/images/startup-768x1004.png\" media=\"screen and (min-device-width:481px) and (max-device-width:1024px) and (orientation:portrait)\" rel=\"apple-touch-startup-image\" sizes=\"768x1004\"/>\\n<!-- windows pinned site // some nice metadata to make it even better -->\\n<meta content=\"https://8d9c1676ed05fb2bad3c-75fd16519244bbaf977a5b9a39667d57.ssl.cf3.rackcdn.com/git/cdn/10.36/images/apple-touch-icon-precomposed-144.png\" name=\"msapplication-TileImage\"/>\\n<meta content=\"#333333\" name=\"msapplication-TileColor\"/>\\n</head>\\n<body class=\"html front not-logged-in one-sidebar sidebar-second page-node page-node- page-node-5 node-type-homepage wgc-slideon-slider-hide i18n-en footer-columns lang-en\">\\n<script type=\"text/javascript\">window.NREUM||(NREUM={}),__nr_require=function(t,e,n){function r(n){if(!e[n]){var o=e[n]={exports:{}};t[n][0].call(o.exports,function(e){var o=t[n][1][e];return r(o||e)},o,o.exports)}return e[n].exports}if(\"function\"==typeof __nr_require)return __nr_require;for(var o=0;o<n.length;o++)r(n[o]);return r}({1:[function(t,e,n){function r(){}function o(t,e,n){return function(){return i(t,[(new Date).getTime()].concat(u(arguments)),e?null:this,n),e?void 0:this}}var i=t(\"handle\"),a=t(2),u=t(3),c=t(\"ee\").get(\"tracer\"),f=NREUM;\"undefined\"==typeof window.newrelic&&(newrelic=f);var s=[\"setPageViewName\",\"setCustomAttribute\",\"finished\",\"addToTrace\",\"inlineHit\"],p=\"api-\",l=p+\"ixn-\";a(s,function(t,e){f[e]=o(p+e,!0,\"api\")}),f.addPageAction=o(p+\"addPageAction\",!0),e.exports=newrelic,f.interaction=function(){return(new r).get()};var d=r.prototype={createTracer:function(t,e){var n={},r=this,o=\"function\"==typeof e;return i(l+\"tracer\",[Date.now(),t,n],r),function(){if(c.emit((o?\"\":\"no-\")+\"fn-start\",[Date.now(),r,o],n),o)try{return e.apply(this,arguments)}finally{c.emit(\"fn-end\",[Date.now()],n)}}}};a(\"setName,setAttribute,save,ignore,onEnd,getContext,end,get\".split(\",\"),function(t,e){d[e]=o(l+e)}),newrelic.noticeError=function(t){\"string\"==typeof t&&(t=new Error(t)),i(\"err\",[t,(new Date).getTime()])}},{}],2:[function(t,e,n){function r(t,e){var n=[],r=\"\",i=0;for(r in t)o.call(t,r)&&(n[i]=e(r,t[r]),i+=1);return n}var o=Object.prototype.hasOwnProperty;e.exports=r},{}],3:[function(t,e,n){function r(t,e,n){e||(e=0),\"undefined\"==typeof n&&(n=t?t.length:0);for(var r=-1,o=n-e||0,i=Array(o<0?0:o);++r<o;)i[r]=t[e+r];return i}e.exports=r},{}],ee:[function(t,e,n){function r(){}function o(t){function e(t){return t&&t instanceof r?t:t?u(t,a,i):i()}function n(n,r,o){t&&t(n,r,o);for(var i=e(o),a=l(n),u=a.length,c=0;c<u;c++)a[c].apply(i,r);var s=f[m[n]];return s&&s.push([w,n,r,i]),i}function p(t,e){g[t]=l(t).concat(e)}function l(t){return g[t]||[]}function d(t){return s[t]=s[t]||o(n)}function v(t,e){c(t,function(t,n){e=e||\"feature\",m[n]=e,e in f||(f[e]=[])})}var g={},m={},w={on:p,emit:n,get:d,listeners:l,context:e,buffer:v};return w}function i(){return new r}var a=\"nr@context\",u=t(\"gos\"),c=t(2),f={},s={},p=e.exports=o();p.backlog=f},{}],gos:[function(t,e,n){function r(t,e,n){if(o.call(t,e))return t[e];var r=n();if(Object.defineProperty&&Object.keys)try{return Object.defineProperty(t,e,{value:r,writable:!0,enumerable:!1}),r}catch(i){}return t[e]=r,r}var o=Object.prototype.hasOwnProperty;e.exports=r},{}],handle:[function(t,e,n){function r(t,e,n,r){o.buffer([t],r),o.emit(t,e,n)}var o=t(\"ee\").get(\"handle\");e.exports=r,r.ee=o},{}],id:[function(t,e,n){function r(t){var e=typeof t;return!t||\"object\"!==e&&\"function\"!==e?-1:t===window?0:a(t,i,function(){return o++})}var o=1,i=\"nr@id\",a=t(\"gos\");e.exports=r},{}],loader:[function(t,e,n){function r(){if(!h++){var t=y.info=NREUM.info,e=s.getElementsByTagName(\"script\")[0];if(t&&t.licenseKey&&t.applicationID&&e){c(m,function(e,n){t[e]||(t[e]=n)});var n=\"https\"===g.split(\":\")[0]||t.sslForHttp;y.proto=n?\"https://\":\"http://\",u(\"mark\",[\"onload\",a()],null,\"api\");var r=s.createElement(\"script\");r.src=y.proto+t.agent,e.parentNode.insertBefore(r,e)}}}function o(){\"complete\"===s.readyState&&i()}function i(){u(\"mark\",[\"domContent\",a()],null,\"api\")}function a(){return(new Date).getTime()}var u=t(\"handle\"),c=t(2),f=window,s=f.document,p=\"addEventListener\",l=\"attachEvent\",d=f.XMLHttpRequest,v=d&&d.prototype;NREUM.o={ST:setTimeout,CT:clearTimeout,XHR:d,REQ:f.Request,EV:f.Event,PR:f.Promise,MO:f.MutationObserver},t(1);var g=\"\"+location,m={beacon:\"bam.nr-data.net\",errorBeacon:\"bam.nr-data.net\",agent:\"js-agent.newrelic.com/nr-963.min.js\"},w=d&&v&&v[p]&&!/CriOS/.test(navigator.userAgent),y=e.exports={offset:a(),origin:g,features:{},xhrWrappable:w};s[p]?(s[p](\"DOMContentLoaded\",i,!1),f[p](\"load\",r,!1)):(s[l](\"onreadystatechange\",o),f[l](\"onload\",r)),u(\"mark\",[\"firstbyte\",a()],null,\"api\");var h=0},{}]},{},[\"loader\"]);</script>\\n<!--[if lt IE 9]>\\n  <div class=\"cookies browser\">\\n  <p>The browser you are using is out of date. It has disadvantages and a limited feature set. You will not see all the features of some websites. <a href=\"http://browser-update.org/update.html\" target=\"_blank\">Learn how to update your browser</a>.</p>\\n  </div>\\n  <![endif]-->\\n<!-- gold/templates/page.tpl.php -->\\n<div class=\"wrapper\">\\n<div class=\"page\">\\n<div class=\"header\" role=\"banner\">\\n<header>\\n<div class=\"clearfix\">\\n<div class=\"skip\">\\n<p>\\n<span>Skip navigation to one of below anchors:</span>\\n</p>\\n<ol>\\n<li><a href=\"#GoldSpotPrice\" title=\"Skip to Gold Spot Price\">Skip to Gold Spot Price</a></li>\\n<li><a href=\"#SiteSearch\" title=\"Skip to site search\">Skip to site search</a></li>\\n<li><a href=\"#MainNavigation\" title=\"Skip to main navigation\">Skip to main navigation</a></li>\\n<li><a href=\"#MainContent\" title=\"Skip to content\">Skip to content</a></li>\\n<li><a href=\"#Footer\" title=\"Skip to footer\">Skip to footer</a></li>\\n</ol>\\n</div>\\n<div class=\"site-branding\">\\n<p class=\"site-logo\">\\n<a href=\"/\" id=\"logo\" rel=\"home\" title=\"Home\">\\n<img alt=\"World Gold Council\" src=\"https://8d9c1676ed05fb2bad3c-75fd16519244bbaf977a5b9a39667d57.ssl.cf3.rackcdn.com/git/cdn/10.36/logo-en.svg\"/>\\n</a>\\n</p>\\n<p class=\"site-name accessibility\" id=\"site-name\">World Gold Council</p>\\n<p class=\"site-strap\"><a href=\"/\" title=\"The market development organisation for the gold industry\">The market development organisation for the gold industry</a></p>\\n</div>\\n<div class=\"mobile-navigation-panel\">\\n<div class=\"mobile-navigation-panel-inner\">\\n<!-- Start Drupal search block -->\\n<form accept-charset=\"UTF-8\" action=\"/\" id=\"search-block-form\" method=\"post\"><div><div class=\"drupal-site-search\" id=\"SiteSearch\" role=\"search\">\\n<div class=\"block block-search\" id=\"block-search-form\">\\n<div class=\"container-inline\">\\n<div class=\"form-item form-type-textfield form-item-search-block-form\">\\n<label class=\"element-invisible\" for=\"edit-search-block-form--2\">Search </label>\\n<input class=\"form-text\" id=\"edit-search-block-form--2\" maxlength=\"128\" name=\"search_block_form\" placeholder=\"Search ...\" size=\"15\" title=\"Enter the terms you wish to search for.\" type=\"text\" value=\"\"/>\\n</div>\\n<div class=\"form-actions form-wrapper\" id=\"edit-actions\"><input class=\"form-submit\" id=\"edit-submit\" name=\"op\" type=\"submit\" value=\"Search\"/></div><input name=\"form_build_id\" type=\"hidden\" value=\"form-Ic1AqpZvBPCCkENQy4car0AUcOqDgBWL87m1yfYGQyc\"/>\\n<input name=\"form_id\" type=\"hidden\" value=\"search_block_form\"/>\\n</div>\\n</div>\\n</div>\\n</div></form><!-- End Drupal search block -->\\n<div class=\"nav nav-main jsm-navigation\" id=\"MainNavigation\">\\n<nav>\\n<div class=\"clearfix\">\\n<p class=\"jsm-navigation-switcher\" title=\"Main navigation switcher\">\\n<span>Menu:</span>\\n</p>\\n<div class=\"jsm-navigation-container\">\\n<div class=\"region region-navigation\">\\n<div class=\"block block-menu-block\" id=\"block-menu-block-6\">\\n<div class=\"content\">\\n<div class=\"menu-block-wrapper menu-block-6 menu-name-main-menu parent-mlid-0 menu-level-1\">\\n<ul class=\"menu clearfix\"><li class=\"first expanded menu-mlid-2211\"><a href=\"/about-us\">About us</a><ul class=\"menu clearfix\"><li class=\"first leaf menu-mlid-2199\"><a href=\"/about-us/who-we-are\">Who we are</a></li>\\n<li class=\"leaf menu-mlid-2201\"><a href=\"/about-us/public-policy\">Public policy</a></li>\\n<li class=\"leaf menu-mlid-2203\"><a href=\"/about-us/governance\">Governance</a></li>\\n<li class=\"leaf menu-mlid-2205\"><a href=\"/about-us/our-members\">Our Members</a></li>\\n<li class=\"expanded menu-mlid-2207\"><a href=\"/about-us/our-team\">Our team</a><ul class=\"menu clearfix\"><li class=\"first last leaf menu-mlid-3013\"><a class=\"menu-node-unpublished menu-node-unpublished menu-node-unpublished\" href=\"/about-us/our-team/world-gold-council-chairmen\" title=\"Profiles of World Gold Council Chairmen\">World Gold Council Chairmen</a></li>\\n</ul></li>\\n<li class=\"last leaf menu-mlid-2209\"><a href=\"/about-us/our-offices\">Our offices</a></li>\\n</ul></li>\\n<li class=\"expanded menu-mlid-1201\"><a href=\"/gold-mining\">Gold mining</a><ul class=\"menu clearfix\"><li class=\"first leaf menu-mlid-2263\"><a href=\"/gold-mining/interactive-gold-mining-map\">Interactive gold mining map</a></li>\\n<li class=\"expanded menu-mlid-1204\"><a href=\"/gold-mining/responsible-mining\">Responsible mining</a><ul class=\"menu clearfix\"><li class=\"first leaf menu-mlid-1806\"><a href=\"/gold-mining/responsible-mining/transparency\">Transparency</a></li>\\n<li class=\"leaf menu-mlid-1810\"><a href=\"/gold-mining/responsible-mining/social\">Social</a></li>\\n<li class=\"leaf menu-mlid-1811\"><a href=\"/gold-mining/responsible-mining/environment\">Environment</a></li>\\n<li class=\"leaf menu-mlid-1812\"><a href=\"/gold-mining/responsible-mining/safety\">Safety</a></li>\\n<li class=\"leaf menu-mlid-2213\"><a href=\"/gold-mining/responsible-mining/conflict-free\" title=\"Conflict-free gold\">Conflict-free</a></li>\\n<li class=\"last leaf menu-mlid-2691\"><a class=\"menu-node-unpublished menu-node-unpublished menu-node-unpublished menu-node-unpublished menu-node-unpublished menu-node-unpublished menu-node-unpublished menu-node-unpublished menu-node-unpublished\" href=\"/gold-mining/responsible-mining/artisanal-and-small-scale-mining\" title=\"Artisanal and Small-scale Mining\">Artisanal and Small-scale Mining</a></li>\\n</ul></li>\\n<li class=\"expanded menu-mlid-1863\"><a href=\"/gold-mining/gold-development\">Gold for development</a><ul class=\"menu clearfix\"><li class=\"first leaf menu-mlid-1853\"><a href=\"/gold-mining/gold-development/healthcare\">Healthcare</a></li>\\n<li class=\"leaf menu-mlid-1814\"><a href=\"/gold-mining/gold-development/infrastructure\">Infrastructure</a></li>\\n<li class=\"leaf menu-mlid-1816\"><a href=\"/gold-mining/gold-development/community-development\">Community development</a></li>\\n<li class=\"leaf menu-mlid-2215\"><a href=\"/gold-mining/gold-development/employment-and-training\" title=\"Employment and training\">Employment and training</a></li>\\n<li class=\"leaf menu-mlid-2217\"><a href=\"/gold-mining/gold-development/local-supply-chains\" title=\"Local supply chains\">Local supply chains</a></li>\\n<li class=\"last expanded menu-mlid-1844\"><a href=\"/gold-mining/gold-development/case-studies\">Case studies</a><ul class=\"menu clearfix\"><li class=\"first leaf menu-mlid-2143\"><a href=\"/gold-mining/gold-development/case-studies/canada-opportunities-indigenous-communities\">Canada: Opportunities for indigenous communities</a></li>\\n<li class=\"leaf menu-mlid-2145\"><a href=\"/gold-mining/gold-development/case-studies/chile-harvesting-water-snow\">Chile: Harvesting water from snow</a></li>\\n<li class=\"leaf menu-mlid-2147\"><a href=\"/gold-mining/gold-development/case-studies/finland-supporting-local-fire-fighters\">Finland: Supporting local fire fighters</a></li>\\n<li class=\"leaf menu-mlid-2149\"><a href=\"/gold-mining/gold-development/case-studies/guatemala-investing-social-infrastructure\">Guatemala: Investing in social infrastructure</a></li>\\n<li class=\"leaf menu-mlid-2151\"><a href=\"/gold-mining/gold-development/case-studies/papua-new-guinea-supporting-financial-system\">Papua New Guinea: Supporting the financial system</a></li>\\n<li class=\"last leaf menu-mlid-2141\"><a href=\"/gold-mining/gold-development/case-studies/tanzania-partnerships-skills-training\">Tanzania: Partnerships for skills training</a></li>\\n</ul></li>\\n</ul></li>\\n<li class=\"expanded menu-mlid-1815\"><a href=\"/gold-mining/economic-contribution\">Economic contribution</a><ul class=\"menu clearfix\"><li class=\"first leaf menu-mlid-2135\"><a href=\"/gold-mining/economic-contribution/value-distribution\">Value distribution</a></li>\\n<li class=\"leaf menu-mlid-2219\"><a href=\"/gold-mining/economic-contribution/direct-economic-impact\" title=\"Direct economic impact\">Direct economic impact</a></li>\\n<li class=\"last leaf menu-mlid-2259\"><a href=\"/gold-mining/economic-contribution/social-economic-impact\">Social and economic impacts</a></li>\\n</ul></li>\\n<li class=\"leaf menu-mlid-1917\"><a href=\"/gold-mining/responsible-gold-sourcing\" title=\"Responsible gold sourcing\">Responsible gold sourcing</a></li>\\n<li class=\"last leaf menu-mlid-2581\"><a class=\"menu-node-unpublished menu-node-unpublished menu-node-unpublished\" href=\"/gold-mining/global-gold-facts-map\">Global gold facts map</a></li>\\n</ul></li>\\n<li class=\"expanded menu-mlid-704\"><a class=\"menu-node-unpublished menu-node-unpublished menu-node-unpublished menu-node-unpublished menu-node-unpublished menu-node-unpublished\" href=\"/supply-and-demand\">Supply and demand</a><ul class=\"menu clearfix\"><li class=\"first expanded menu-mlid-705\"><a href=\"/supply-and-demand/demand\">Demand</a><ul class=\"menu clearfix\"><li class=\"first leaf menu-mlid-2117\"><a href=\"/supply-and-demand/demand/jewellery\" title=\"Gold demand in the jewellery market\">Jewellery</a></li>\\n<li class=\"leaf menu-mlid-2119\"><a href=\"/supply-and-demand/demand/investment\" title=\"Gold demand in investment\">Investment</a></li>\\n<li class=\"leaf menu-mlid-2121\"><a href=\"/supply-and-demand/demand/central-banks\" title=\"Gold demand in reserve asset management\">Central Banks</a></li>\\n<li class=\"last leaf menu-mlid-2123\"><a href=\"/supply-and-demand/demand/technology\" title=\"Gold demand in technology\">Technology</a></li>\\n</ul></li>\\n<li class=\"leaf menu-mlid-1817\"><a class=\"menu-node-unpublished menu-node-unpublished\" href=\"/supply-and-demand/supply\">Supply</a></li>\\n<li class=\"leaf menu-mlid-2407\"><a class=\"menu-node-unpublished menu-node-unpublished menu-node-unpublished\" href=\"/supply-and-demand/interactive-gold-market-charting\">Interactive gold market charting</a></li>\\n<li class=\"expanded menu-mlid-1091\"><a href=\"/supply-and-demand/gold-demand-trends\">Gold Demand Trends</a><ul class=\"menu clearfix\"><li class=\"first leaf menu-mlid-2261\"><a href=\"/research/gold-demand-trends-explained\" title=\"\">Gold Demand Trends, explained</a></li>\\n<li class=\"last leaf menu-mlid-881\"><a href=\"/supply-and-demand/gold-demand-trends/back-issues\">Back issues</a></li>\\n</ul></li>\\n<li class=\"leaf menu-mlid-2517\"><a class=\"menu-node-unpublished menu-node-unpublished menu-node-unpublished menu-node-unpublished menu-node-unpublished menu-node-unpublished menu-node-unpublished menu-node-unpublished\" href=\"/supply-and-demand/developing-indian-hallmarking\" title=\"Developing Indian hallmarking\">Developing Indian hallmarking</a></li>\\n<li class=\"leaf menu-mlid-2009\"><a href=\"/supply-and-demand/chinas-gold-market-progress-prospects\">China's gold market: progress &amp; prospects</a></li>\\n<li class=\"leaf menu-mlid-2139\"><a href=\"/research/understanding-chinas-gold-market\" title=\"\">Understanding China's gold market</a></li>\\n<li class=\"leaf menu-mlid-2221\"><a href=\"/supply-and-demand/turkey-gold-in-action\">Turkey: gold in action</a></li>\\n<li class=\"last leaf menu-mlid-2223\"><a href=\"/supply-and-demand/ups-and-downs-gold-recycling\">The Ups and Downs of Gold Recycling</a></li>\\n</ul></li>\\n<li class=\"expanded menu-mlid-1202\"><a href=\"/jewellery\">Jewellery</a><ul class=\"menu clearfix\"><li class=\"first leaf menu-mlid-1818\"><a class=\"menu-node-unpublished menu-node-unpublished\" href=\"/jewellery/global-gold-jewellery-market\">Global gold jewellery market</a></li>\\n<li class=\"leaf menu-mlid-1819\"><a href=\"/jewellery/india-market\">India market</a></li>\\n<li class=\"leaf menu-mlid-1820\"><a href=\"/jewellery/china-market\">China market</a></li>\\n<li class=\"leaf menu-mlid-1821\"><a href=\"/jewellery/us-market\">US market</a></li>\\n<li class=\"leaf menu-mlid-1822\"><a href=\"/jewellery/gold-jewellery-design\">Gold jewellery design</a></li>\\n<li class=\"expanded menu-mlid-1823\"><a href=\"/jewellery/heritage\">Heritage</a><ul class=\"menu clearfix\"><li class=\"first last leaf menu-mlid-1856\"><a href=\"/jewellery/heritage/significant-pieces-jewellery\">Significant pieces of jewellery</a></li>\\n</ul></li>\\n<li class=\"last expanded menu-mlid-1826\"><a href=\"/jewellery/about-gold-jewellery\">About gold jewellery</a><ul class=\"menu clearfix\"><li class=\"first last leaf menu-mlid-1825\"><a href=\"/jewellery/about-gold-jewellery/gold-hallmarks\">Gold hallmarks</a></li>\\n</ul></li>\\n</ul></li>\\n<li class=\"expanded menu-mlid-706\"><a class=\"menu-node-unpublished menu-node-unpublished menu-node-unpublished menu-node-unpublished menu-node-unpublished menu-node-unpublished menu-node-unpublished menu-node-unpublished menu-node-unpublished menu-node-unpublished menu-node-unpublished menu-node-unpublished menu-node-unpublished menu-node-unpublished menu-node-unpublished menu-node-unpublished menu-node-unpublished menu-node-unpublished\" href=\"/investment\">Investment</a><ul class=\"menu clearfix\"><li class=\"first collapsed menu-mlid-1827\"><a class=\"menu-node-unpublished menu-node-unpublished\" href=\"/investment/what-we-do\">What we do</a></li>\\n<li class=\"expanded menu-mlid-1828\"><a class=\"menu-node-unpublished\" href=\"/investment/why-invest-gold\">Why invest in gold</a><ul class=\"menu clearfix\"><li class=\"first leaf menu-mlid-1829\"><a class=\"menu-node-unpublished\" href=\"/investment/why-invest-gold/individuals\" title=\"Individuals: Saving for the Future\">Individuals</a></li>\\n<li class=\"leaf menu-mlid-1830\"><a class=\"menu-node-unpublished\" href=\"/investment/why-invest-gold/advisers\" title=\"Advisers: Portfolio Construction\">Advisers</a></li>\\n<li class=\"last leaf menu-mlid-1831\"><a href=\"/investment/why-invest-gold/institutions\">Institutions</a></li>\\n</ul></li>\\n<li class=\"collapsed menu-mlid-1872\"><a href=\"/investment/how-invest-gold\">How to invest in gold</a></li>\\n<li class=\"expanded menu-mlid-707\"><a href=\"/investment/interactive-gold-price-chart\">Interactive gold price chart</a><ul class=\"menu clearfix\"><li class=\"first leaf menu-mlid-2831\"><a class=\"menu-node-unpublished\" href=\"/investment/interactive-gold-price-chart/2016\">2016</a></li>\\n<li class=\"leaf menu-mlid-2253\"><a class=\"menu-node-unpublished\" href=\"/investment/interactive-gold-price-chart/2015\">2015</a></li>\\n<li class=\"leaf menu-mlid-2255\"><a href=\"/investment/interactive-gold-price-chart/2014\">2014</a></li>\\n<li class=\"last leaf menu-mlid-2257\"><a href=\"/investment/interactive-gold-price-chart/2013\">2013</a></li>\\n</ul></li>\\n<li class=\"last leaf menu-mlid-2827\"><a class=\"menu-node-unpublished menu-node-unpublished\" href=\"/investment/interactive-gold-price-chart-india\">Interactive gold price chart: India</a></li>\\n</ul></li>\\n<li class=\"expanded menu-mlid-1194\"><a href=\"/technology\">Technology</a><ul class=\"menu clearfix\"><li class=\"first leaf menu-mlid-1838\"><a href=\"/technology/what-we-do\">What we do</a></li>\\n<li class=\"leaf menu-mlid-1195\"><a class=\"menu-node-unpublished\" href=\"/technology/why-gold\">Why gold?</a></li>\\n<li class=\"leaf menu-mlid-1839\"><a href=\"/technology/innovation\">Innovation</a></li>\\n<li class=\"leaf menu-mlid-1884\"><a href=\"/technology/gold-medicine\">Gold in medicine</a></li>\\n<li class=\"leaf menu-mlid-1885\"><a href=\"/technology/gold-and-environment\">Gold and the environment</a></li>\\n<li class=\"leaf menu-mlid-1886\"><a href=\"/technology/gold-tomorrow%E2%80%99s-electronics\">Gold in tomorrow\\u2019s electronics</a></li>\\n<li class=\"last leaf menu-mlid-1857\"><a href=\"/technology/gold-and-high-tech-engineering\">Gold and high-tech engineering</a></li>\\n</ul></li>\\n<li class=\"last expanded menu-mlid-1203\"><a class=\"menu-node-unpublished menu-node-unpublished menu-node-unpublished menu-node-unpublished\" href=\"/reserve-asset-management\">Reserve asset management</a><ul class=\"menu clearfix\"><li class=\"first leaf menu-mlid-1846\"><a href=\"/reserve-asset-management/what-we-do\">What we do</a></li>\\n<li class=\"leaf menu-mlid-1873\"><a href=\"/reserve-asset-management/bespoke-research-and-training\">Bespoke research and training</a></li>\\n<li class=\"leaf menu-mlid-1845\"><a href=\"/reserve-asset-management/managing-gold-reserves\">Managing gold reserves</a></li>\\n<li class=\"leaf menu-mlid-1206\"><a class=\"menu-node-unpublished menu-node-unpublished\" href=\"/reserve-asset-management/buying-gold\">Buying gold</a></li>\\n<li class=\"expanded menu-mlid-1883\"><a class=\"menu-node-unpublished\" href=\"/reserve-asset-management/gold-financial-system\">Gold in the financial system</a><ul class=\"menu clearfix\"><li class=\"first last collapsed menu-mlid-2661\"><a class=\"menu-node-unpublished menu-node-unpublished menu-node-unpublished menu-node-unpublished menu-node-unpublished menu-node-unpublished menu-node-unpublished menu-node-unpublished menu-node-unpublished menu-node-unpublished menu-node-unpublished menu-node-unpublished menu-node-unpublished menu-node-unpublished menu-node-unpublished\" href=\"/reserve-asset-management/gold-financial-system/shariah-standard-on-gold\">Shariah Standard on Gold</a></li>\\n</ul></li>\\n<li class=\"expanded menu-mlid-1849\"><a href=\"/reserve-asset-management/central-bank-gold-agreements\">Central Bank Gold Agreements</a><ul class=\"menu clearfix\"><li class=\"first last leaf menu-mlid-1852\"><a href=\"/reserve-asset-management/central-bank-gold-agreements/historic-gold-agreements\">Historic gold agreements</a></li>\\n</ul></li>\\n<li class=\"last leaf menu-mlid-1804\"><a class=\"menu-node-unpublished menu-node-unpublished menu-node-unpublished menu-node-unpublished\" href=\"/reserve-asset-management/statistics\">Statistics</a></li>\\n</ul></li>\\n</ul></div>\\n</div>\\n</div>\\n</div>\\n</div>\\n</div>\\n</nav>\\n</div>\\n<div class=\"nav nav-secondary\" id=\"SecondaryNavigation\">\\n<nav>\\n<div class=\"clearfix\">\\n<p>\\n<span>Secondary navigation:</span>\\n</p>\\n<div class=\"region region-shortcuts-navigation\">\\n<div class=\"spotlight spot-prices\" id=\"GoldSpotPrice\">\\n<section>\\n<p class=\"tab\">\\n<a href=\"/investment/interactive-gold-price-chart\"><span class=\"icon graph\" role=\"presentation\"></span>Gold spot price</a>\\n</p>\\n<div class=\"spotlight-callout\">\\n<script type=\"text/javascript\">\\n  var spot_price_data = {\"timestamp\":\"2016-08-17 03:53:02\",\"update_interval\":\"60\",\"values\":{\"USD\":{\"bid\":{\"css\":\"minus\",\"price\":\"1,344.95\",\"performance\":-1},\"mid\":{\"css\":\"minus\",\"price\":\"1,345.15\",\"performance\":-1},\"ask\":{\"css\":\"minus\",\"price\":\"1,345.35\",\"performance\":-1}},\"GBP\":{\"bid\":{\"css\":\"plus\",\"price\":\"1,032.35\",\"performance\":1},\"mid\":{\"css\":\"plus\",\"price\":\"1,032.39\",\"performance\":1},\"ask\":{\"css\":\"plus\",\"price\":\"1,032.42\",\"performance\":1}},\"AUD\":{\"bid\":{\"css\":\"minus\",\"price\":\"1,751.69\",\"performance\":-1},\"mid\":{\"css\":\"minus\",\"price\":\"1,751.61\",\"performance\":-1},\"ask\":{\"css\":\"minus\",\"price\":\"1,751.53\",\"performance\":-1}},\"CAD\":{\"bid\":{\"css\":\"minus\",\"price\":\"1,730.14\",\"performance\":-1},\"mid\":{\"css\":\"minus\",\"price\":\"1,730.67\",\"performance\":-1},\"ask\":{\"css\":\"plus\",\"price\":\"1,731.20\",\"performance\":1}},\"CHF\":{\"bid\":{\"css\":\"plus\",\"price\":\"1,294.38\",\"performance\":1},\"mid\":{\"css\":\"minus\",\"price\":\"1,294.64\",\"performance\":-1},\"ask\":{\"css\":\"minus\",\"price\":\"1,294.90\",\"performance\":-1}},\"EUR\":{\"bid\":{\"css\":\"minus\",\"price\":\"1,193.28\",\"performance\":-1},\"mid\":{\"css\":\"minus\",\"price\":\"1,193.30\",\"performance\":-1},\"ask\":{\"css\":\"minus\",\"price\":\"1,193.32\",\"performance\":-1}},\"JPY\":{\"bid\":{\"css\":\"minus\",\"price\":\"135,262\",\"performance\":-1},\"mid\":{\"css\":\"minus\",\"price\":\"135,295\",\"performance\":-1},\"ask\":{\"css\":\"minus\",\"price\":\"135,329\",\"performance\":-1}},\"ZAR\":{\"bid\":{\"css\":\"minus\",\"price\":\"18,035\",\"performance\":-1},\"mid\":{\"css\":\"minus\",\"price\":\"18,058\",\"performance\":-1},\"ask\":{\"css\":\"minus\",\"price\":\"18,081\",\"performance\":-1}},\"INR\":{\"bid\":{\"css\":\"plus\",\"price\":\"89,965\",\"performance\":1},\"mid\":{\"css\":\"plus\",\"price\":\"89,991\",\"performance\":1},\"ask\":{\"css\":\"plus\",\"price\":\"90,018\",\"performance\":1}},\"CNY\":{\"bid\":{\"css\":\"minus\",\"price\":\"8,924\",\"performance\":-1},\"mid\":{\"css\":\"minus\",\"price\":\"8,926\",\"performance\":-1},\"ask\":{\"css\":\"minus\",\"price\":\"8,927\",\"performance\":-1}},\"HKD\":{\"bid\":{\"css\":\"minus\",\"price\":\"10,428\",\"performance\":-1},\"mid\":{\"css\":\"minus\",\"price\":\"10,430\",\"performance\":-1},\"ask\":{\"css\":\"minus\",\"price\":\"10,432\",\"performance\":-1}}}};\\n</script>\\n<div class=\"select js-show\">\\n<form accept-charset=\"UTF-8\" action=\"/\" id=\"gold-user-currency-change-form\" method=\"post\"><div><div class=\"form-item form-type-select form-item-CurrencySelector\">\\n<label for=\"edit-currencyselector\">Select a currency </label>\\n<select class=\"form-select\" id=\"CurrencySelector1\" name=\"CurrencySelector\"><option value=\"USD\">USD</option><option value=\"GBP\">GBP</option><option value=\"AUD\">AUD</option><option value=\"CAD\">CAD</option><option value=\"CHF\">CHF</option><option value=\"EUR\">EUR</option><option value=\"JPY\">JPY</option><option value=\"ZAR\">ZAR</option><option value=\"INR\">INR</option><option value=\"CNY\">CNY</option><option value=\"HKD\">HKD</option></select>\\n</div>\\n<input name=\"form_build_id\" type=\"hidden\" value=\"form-9CpPgQ6C9ZwRV5oOM1rQQezDte4WYT1nWcxDKJjSBX0\"/>\\n<input name=\"form_id\" type=\"hidden\" value=\"gold_user_currency_change_form\"/>\\n</div></form></div>\\n<h4 class=\"js-hide\">Currency: <span>USD</span></h4>\\n<div class=\"asset ask\">\\n<p class=\"heading\">Ask</p>\\n<dl>\\n<dt class=\"accessibility\">Value</dt>\\n<dd class=\"value\">1,345.35</dd>\\n<dt class=\"accessibility\">Variation</dt>\\n<dd class=\"variation minus\">\\n<span class=\"icon minus\" role=\"presentation\"></span>\\n</dd>\\n</dl>\\n</div>\\n<div class=\"asset mid\">\\n<p class=\"heading\">Mid</p>\\n<dl>\\n<dt class=\"accessibility\">Value</dt>\\n<dd class=\"value\">1,345.15</dd>\\n<dt class=\"accessibility\">Variation</dt>\\n<dd class=\"variation minus\">\\n<span class=\"icon minus\" role=\"presentation\"></span>\\n</dd>\\n</dl>\\n</div>\\n<div class=\"asset bid\">\\n<p class=\"heading\">Bid</p>\\n<dl>\\n<dt class=\"accessibility\">Value</dt>\\n<dd class=\"value\">1,344.95</dd>\\n<dt class=\"accessibility\">Variation</dt>\\n<dd class=\"variation minus\">\\n<span class=\"icon minus\" role=\"presentation\"></span>\\n</dd>\\n</dl>\\n</div>\\n<div class=\"time\">\\n<p class=\"heading accessibility\">Time</p>\\n<p>\\n<span class=\"icon clock\" role=\"presentation\"></span><span class=\"timestamptitle\">Last updated:</span> <span class=\"timestamp\">2016-08-17 03:53:02</span>\\n</p>\\n</div> </div>\\n</section>\\n</div><div class=\"block block-menu-block\" id=\"block-menu-block-2\">\\n<div class=\"content\">\\n<div class=\"menu-block-wrapper menu-block-2 menu-name-menu-shortcuts-navigation parent-mlid-0 menu-level-1\">\\n<ul class=\"shortcuts\"><li class=\"first leaf menu-mlid-2589 mobile-main-nav\"><a href=\"/statistics\"><span class=\"icon stats\" role=\"presentation\"></span>Statistics</a></li>\\n<li class=\"leaf menu-mlid-880\"><a href=\"/research?\"><span class=\"icon doc\" role=\"presentation\"></span>Research</a></li>\\n<li class=\"expanded menu-mlid-2864 mobile-main-nav\"><a href=\"/news-and-events\">News and events</a><ul class=\"shortcuts\"><li class=\"first leaf menu-mlid-879 mobile-main-nav\"><a href=\"/news-and-events/press-releases\">Press Releases</a></li>\\n<li class=\"leaf menu-mlid-878 mobile-main-nav\"><a href=\"/news-and-events/events\">Events</a></li>\\n<li class=\"last leaf menu-mlid-1090 mobile-main-nav\"><a href=\"/news-and-events/media-contacts\">Media contacts</a></li>\\n</ul></li>\\n<li class=\"last leaf menu-mlid-1805 mobile-main-nav js-not-visible\"><div id=\"login-menu\"><span id=\"login_name\"></span><a href=\"/gu/login_toggle\" id=\"login_link\">Login / Logout</a></div></li>\\n</ul></div>\\n</div>\\n</div>\\n</div>\\n</div>\\n</nav>\\n</div>\\n</div>\\n</div>\\n<div class=\"region region-sidebar-lang\">\\n<div class=\"block block-locale\" id=\"block-locale-language\">\\n<div class=\"content\">\\n<ul class=\"language-switcher-locale-url\"><li class=\"zh-hans first\"><a class=\"language-link\" href=\"/cn/homepage\" hreflang=\"zh-hans\" xml:lang=\"zh-hans\"> \\u7b80\\u4f53\\u4e2d\\u6587</a></li>\\n<li class=\"en last active\"><a class=\"language-link active\" href=\"/\" hreflang=\"en\" xml:lang=\"en\"> English</a></li>\\n</ul> </div>\\n</div>\\n</div>\\n</div>\\n</header>\\n</div>\\n<!-- End .header -->\\n<div class=\"main clearfix\">\\n<div class=\"main-content\" id=\"MainContent\" role=\"main\">\\n<div class=\"main-content-inner\">\\n<div class=\"article\">\\n<article>\\n<div class=\"tabs\">\\n</div>\\n<div class=\"title-no-follows\"><h1 class=\"title\" id=\"page-title\" itemprop=\"name\">Gold Industry Information</h1></div>\\n<div class=\"region region-content\">\\n<div class=\"block block-system\" id=\"block-system-main\">\\n<div class=\"content\">\\n<!-- gold/templates/nodes/node-homepage.tpl.php -->\\n<div class=\"section spotlight scheme-default spotlight-primary shadow-transition\"><section>\\n<div class=\"spotlight-inner\">\\n<div class=\"clearfix\">\\n<h2><a href=\"/supply-and-demand/gold-demand-trends/back-issues/gold-demand-trends-q2-2016\">Gold Demand Trends Q2 2016</a></h2>\\n<div class=\"imagery\">\\n<img alt=\"Gold Demand Trends Q2 2016\" src=\"https://beddeb301310b6a9af99-c5ca0775dec2b65b538654c8f83dc83d.ssl.cf3.rackcdn.com/sites/default/files/styles/large_hero/public/images/gdt-q2-2016-hero_image.png?itok=_4ocKxgF\"/>\\n<span class=\"icon arrow-bullet\" role=\"presentation\"></span>\\n</div>\\n<div class=\"spotlight-callout\">\\n<div class=\"callout-inner\">\\n<p>Continued growth in Q2 2016 (+15%) brought total H1 gold demand to 2,335t \\u2013 the second highest first half on record. <a href=\"/supply-and-demand/gold-demand-trends/back-issues/gold-demand-trends-q2-2016\" target=\"_self\">Read more...</a></p>\\n</div>\\n</div>\\n</div>\\n</div>\\n</section></div>\\n<div class=\"row split-4-5\">\\n<div class=\"clearfix\">\\n<div class=\"col c0\">\\n<div class=\"col-inner\">\\n<div class=\" section spotlight scheme-default spotlight-secondary\" data-delta=\"market-update-failed-monetary-po\">\\n<section data-bid=\"285\">\\n<div class=\"spotlight-inner\">\\n<div class=\"clearfix\">\\n<h2><a href=\"/research/market-update-failed-monetary-policies-lift-gold\" title=\"Market update: Failed monetary policies lift gold\">Market update: Failed monetary policies lift gold</a></h2>\\n<div class=\"imagery\">\\n<img alt=\"Market update: Failed monetary policies lift gold\" height=\"210\" src=\"https://beddeb301310b6a9af99-c5ca0775dec2b65b538654c8f83dc83d.ssl.cf3.rackcdn.com/sites/default/files/styles/spotlight__448x210_/public/images/5980_goldcoinstacks-crop.jpg?itok=wZu-OC2T\" width=\"448\"/>\\n<span class=\"icon arrow-bullet\" role=\"presentation\"></span>\\n</div>\\n<div class=\"spotlight-callout\">\\n<div class=\"callout-inner\">\\n<p>The gold price breached US$1,360/oz for a second time in 2016, as investors are starting to lose confidence in the effectiveness of unconventional monetary policies</p>\\n</div>\\n</div>\\n</div>\\n</div>\\n</section>\\n</div>\\n</div>\\n</div>\\n<div class=\"col c1\">\\n<div class=\"col-inner\">\\n<div class=\" section spotlight scheme-default spotlight-secondary\" data-delta=\"world-gold-council-lme-and-key-m\">\\n<section data-bid=\"283\">\\n<div class=\"spotlight-inner\">\\n<div class=\"clearfix\">\\n<h2><a href=\"/news-and-events/press-releases/world-gold-council-lme-and-key-market-participants-launch-lmeprecious\" title=\"World Gold Council, LME and key market participants to launch LMEprecious\">World Gold Council, LME and key market participants to launch LMEprecious</a></h2>\\n<div class=\"imagery\">\\n<img alt=\"World Gold Council, LME and key market participants to launch LMEprecious\" height=\"210\" src=\"https://beddeb301310b6a9af99-c5ca0775dec2b65b538654c8f83dc83d.ssl.cf3.rackcdn.com/sites/default/files/styles/spotlight__565x210_/public/images/rec-1.jpg?itok=2-SSueZu\" width=\"565\"/>\\n<span class=\"icon arrow-bullet\" role=\"presentation\"></span>\\n</div>\\n<div class=\"spotlight-callout\">\\n<div class=\"callout-inner\">\\n<p>The World Gold Council and the London Metal Exchange (LME), together with Goldman Sachs, ICBC Standard Bank, Morgan Stanley, Natixis, OSTC and Societe Generale, today announce their intention to introduce a suite of exchange-traded and centrally-cleared precious metals products. </p>\\n</div>\\n</div>\\n</div>\\n</div>\\n</section>\\n</div>\\n</div>\\n</div>\\n</div>\\n</div>\\n<div class=\"row split-third\">\\n<div class=\"clearfix\">\\n<div class=\"col c2\">\\n<div class=\"col-inner\">\\n<div class=\"section spotlight scheme-default spotlight-secondary\">\\n<section data-bid=\"279\" data-delta=\"market-update-gold-surges-after-\">\\n<div class=\"spotlight-inner\">\\n<div class=\"clearfix\">\\n<h2><a href=\"/research/gold-surges-after-brexit\" title=\"Market update: Gold surges after Brexit\">Market update: Gold surges after Brexit</a></h2>\\n<div class=\"imagery\">\\n<img alt=\"Market update: Gold surges after Brexit\" height=\"210\" src=\"https://beddeb301310b6a9af99-c5ca0775dec2b65b538654c8f83dc83d.ssl.cf3.rackcdn.com/sites/default/files/styles/spotlight__330x210_/public/images/brexit-400.jpg?itok=-pHir4Dm\" width=\"330\"/>\\n<span class=\"icon arrow-bullet\" role=\"presentation\"></span>\\n</div>\\n<div class=\"spotlight-callout\">\\n<div class=\"callout-inner\">\\n<p>With Britain voting to exit the EU, we expect to see strong and sustained inflows into the gold market driven by higher market uncertainty.</p>\\n</div>\\n</div>\\n</div>\\n</div>\\n</section>\\n</div>\\n</div>\\n</div>\\n<div class=\"col c3\">\\n<div class=\"col-inner\">\\n<div class=\"section spotlight scheme-default spotlight-secondary\">\\n<section data-bid=\"277\" data-delta=\"rio-2016-gold-in-sport\">\\n<div class=\"spotlight-inner\">\\n<div class=\"clearfix\">\\n<h2><a href=\"/research/rio-gold-in-sport\" title=\"\">Rio 2016: Gold in sport</a></h2>\\n<div class=\"imagery\">\\n<img alt=\"Rio 2016: Gold in sport\" height=\"210\" src=\"https://beddeb301310b6a9af99-c5ca0775dec2b65b538654c8f83dc83d.ssl.cf3.rackcdn.com/sites/default/files/styles/spotlight__330x210_/public/images/medal_pano.png?itok=e7MJXfEn\" width=\"330\"/>\\n<span class=\"icon arrow-bullet\" role=\"presentation\"></span>\\n</div>\\n<div class=\"spotlight-callout\">\\n<div class=\"callout-inner\">\\n<p>In August and September, the eyes of the world will turn to Brazil for the Rio 2016 Olympic and Paralympic Games and with it will come a natural focus on the competition for gold. Download our new fact-sheet to learn about gold in sport.</p>\\n</div>\\n</div>\\n</div>\\n</div>\\n</section>\\n</div>\\n</div>\\n</div>\\n<div class=\"col c4\">\\n<div class=\"col-inner\">\\n<div class=\"section spotlight scheme-default spotlight-secondary\">\\n<section data-bid=\"269\" data-delta=\"about-the-world-gold-council\">\\n<div class=\"spotlight-inner\">\\n<div class=\"clearfix\">\\n<h2><a href=\"/about-us\" title=\"About the World Gold Council\">About the World Gold Council</a></h2>\\n<div class=\"imagery\">\\n<img alt=\"About the World Gold Council\" height=\"210\" src=\"https://beddeb301310b6a9af99-c5ca0775dec2b65b538654c8f83dc83d.ssl.cf3.rackcdn.com/sites/default/files/styles/spotlight__330x210_/public/images/sci.png?itok=biFnJIpd\" width=\"330\"/>\\n<span class=\"icon arrow-bullet\" role=\"presentation\"></span>\\n</div>\\n<div class=\"spotlight-callout\">\\n<div class=\"callout-inner\">\\n<p>The World Gold Council is the market development organisation for the gold industry. With our unique insight into the global gold market, we see unrealised potential for gold across society and intervene to create new possibilities.</p>\\n</div>\\n</div>\\n</div>\\n</div>\\n</section>\\n</div>\\n</div>\\n</div>\\n</div>\\n</div>\\n<div class=\"row split-third\">\\n<div class=\"clearfix\">\\n<div class=\"col c5\">\\n<div class=\"col-inner\">\\n<div class=\"section spotlight scheme-default spotlight-secondary\">\\n<section data-bid=\"273\" data-delta=\"gold-investor-june-2016-new\">\\n<div class=\"spotlight-inner\">\\n<div class=\"clearfix\">\\n<h2><a href=\"http://www.gold.org/research/gold-investor\" title=\"Gold Investor, June 2016\">Gold Investor, June 2016</a></h2>\\n<div class=\"imagery\">\\n<img alt=\"Gold Investor, June 2016\" height=\"210\" src=\"https://beddeb301310b6a9af99-c5ca0775dec2b65b538654c8f83dc83d.ssl.cf3.rackcdn.com/sites/default/files/styles/spotlight__330x210_/public/images/mk1.png?itok=qTneO-Z8\" width=\"330\"/>\\n<span class=\"icon arrow-bullet\" role=\"presentation\"></span>\\n</div>\\n<div class=\"spotlight-callout\">\\n<div class=\"callout-inner\">\\n<p>The World Gold Council and some of the world\\u2019s most influential market commentators and central bankers offer their unique analysis of topical issues and their impact on gold.</p>\\n</div>\\n</div>\\n</div>\\n</div>\\n</section>\\n</div>\\n</div>\\n</div>\\n<div class=\"col c6\">\\n<div class=\"col-inner\">\\n<div class=\"section spotlight scheme-default spotlight-secondary\">\\n<section data-bid=\"263\" data-delta=\"thinking-of-investing-in-gold\">\\n<div class=\"spotlight-inner\">\\n<div class=\"clearfix\">\\n<h2><a href=\"http://www.gold.org/research/thinking-investing-gold\" title=\"Thinking of investing in gold?\">Thinking of investing in gold?</a></h2>\\n<div class=\"imagery\">\\n<img alt=\"Thinking of investing in gold?\" height=\"210\" src=\"https://beddeb301310b6a9af99-c5ca0775dec2b65b538654c8f83dc83d.ssl.cf3.rackcdn.com/sites/default/files/styles/spotlight__330x210_/public/images/info.png?itok=e_P0wyqu\" width=\"330\"/>\\n<span class=\"icon arrow-bullet\" role=\"presentation\"></span>\\n</div>\\n<div class=\"spotlight-callout\">\\n<div class=\"callout-inner\">\\n<p>Learn more about key ways to invest in gold with our product info-graphic, focusing on Bars &amp; Coins, ETFs and Jewellery.</p>\\n</div>\\n</div>\\n</div>\\n</div>\\n</section>\\n</div>\\n</div>\\n</div>\\n<div class=\"col c7\">\\n<div class=\"col-inner\">\\n<div class=\"section spotlight scheme-default spotlight-secondary\">\\n<section data-bid=\"221\" data-delta=\"interactive-gold-market-charting\">\\n<div class=\"spotlight-inner\">\\n<div class=\"clearfix\">\\n<h2><a href=\"https://www.gold.org/supply-and-demand/interactive-gold-market-charting\" title=\"\">Interactive Gold Market Charting</a></h2>\\n<div class=\"imagery\">\\n<img alt=\"Interactive Gold Market Charting\" height=\"210\" src=\"https://beddeb301310b6a9af99-c5ca0775dec2b65b538654c8f83dc83d.ssl.cf3.rackcdn.com/sites/default/files/styles/spotlight__330x210_/public/images/viz_promo.png?itok=G8p6DxAW\" width=\"330\"/>\\n<span class=\"icon arrow-bullet\" role=\"presentation\"></span>\\n</div>\\n<div class=\"spotlight-callout\">\\n<div class=\"callout-inner\">\\n<p>Create custom charts on the global supply and demand of gold.</p>\\n</div>\\n</div>\\n</div>\\n</div>\\n</section>\\n</div>\\n</div>\\n</div>\\n</div>\\n</div>\\n</div>\\n</div>\\n</div>\\n</article>\\n</div>\\n</div>\\n</div>\\n<div class=\"sidebar sidebar2\" id=\"sidebar-second\">\\n<div class=\"sidebar-inner\">\\n<div class=\"region region-sidebar-second\">\\n<div class=\"aside spotlight wgc-login related\" id=\"wgcLoginBlock\">\\n<aside>\\n<div class=\"spotlight-inner\">\\n<div class=\"clearfix\">\\n<h2 class=\"subscribe-title\"></h2>\\n<div class=\"spotlight-callout working\">\\n<p></p>\\n</div>\\n<div class=\"hidden thanks\" id=\"wgcLoginRegIncompleteBlock\">\\n<h3> Thank you, <strong class=\"user-name\"></strong>. </h3>\\n<div class=\"msg success\">\\n                    You have been sent an activation link to the email address <strong class=\"user-email\"></strong> which you must click to complete your registration.\\n                    </div>\\n<div class=\"msg info\">\\n                    Please check your inbox and click the link in the email to activate your account. You will not be able to login <em>again</em> until this is done. \\n                    The email will have come from 'World Gold Council', from the address 'info@gold.org'. The subject of the email is '<span class=\"user-name\"></span>, please activate your membership with gold.org'.\\n                    If you wish to resend the activation email, <a id=\"wgcLoginLinkResend\">please click here.</a>\\n                    If you are having problems, <a href=\"/contact-us\">please contact us.</a>\\n</div>\\n</div>\\n<div class=\"spotlight-callout hidden logged-in\">\\n<p><a class=\"update\"></a></p>\\n<p><a class=\"logout\"></a></p>\\n</div>\\n<div class=\"spotlight-callout hidden subscribe logged-out\">\\n<p class=\"subscribe-text\"></p>\\n<div id=\"wgcLoginSocialBlock\">\\n</div>\\n</div>\\n<div class=\"register-form hidden logged-out\">\\n<hr/>\\n<p class=\"register-text\"></p>\\n<form id=\"wgcLoginBlockRegisterForm\">\\n<label><span class=\"register-label-email\"></span><input class=\"register-field-email\" name=\"email\" placeholder=\"Enter your email\" type=\"email\" value=\"\"/></label>\\n<div class=\"hidden-elements hidden\">\\n<label><span class=\"register-label-name\"></span><input class=\"register-field-name\" name=\"name\" placeholder=\"Enter your full name\" type=\"text\" value=\"\"/></label>\\n<label><span class=\"register-label-prefessional-sector\">Select your professional sector</span><select name=\"pro_sector\"></select></label>\\n<label class=\"hidden\"><span class=\"register-label-prefessional-sector-other\">Enter your professional sector</span><input class=\"register-field-sector-other\" name=\"pro_sector_other\" placeholder=\"Enter your professional sector\" type=\"text\" value=\"\"/></label>\\n<ul class=\"interests-list\">\\n<li><label><input name=\"subs[]\" type=\"checkbox\" value=\"6bdb6986\"/><span class=\"register-1-cb\">Investing in gold</span></label></li>\\n<li><label><input name=\"subs[]\" type=\"checkbox\" value=\"6bdbd8e4\"/><span class=\"register-2-cb\">Supply and demand</span></label></li>\\n<li><label><input name=\"subs[]\" type=\"checkbox\" value=\"6bdb905a\"/><span class=\"register-3-cb\">Gold in technology</span></label></li>\\n<li><label><input name=\"subs[]\" type=\"checkbox\" value=\"6bdbfb1c\"/><span class=\"register-4-cb\">Central banking</span></label></li>\\n<li><label><input name=\"subs[]\" type=\"checkbox\" value=\"6bdbb53a\"/><span class=\"register-5-cb\">Jewellery</span></label></li>\\n<li><label><input name=\"subs[]\" type=\"checkbox\" value=\"6bdc1d2c\"/><span class=\"register-6-cb\">Gold mining</span></label></li>\\n</ul>\\n</div>\\n<input class=\"register-button form-submit\" name=\"op\" type=\"submit\" value=\"Subscribe\"/>\\n<div class=\"loading hidden\"></div>\\n</form>\\n</div>\\n</div>\\n</div>\\n</aside>\\n</div>\\n<div class=\"section spotlight spot-prices\">\\n<section>\\n<div class=\"spotlight-inner\">\\n<div class=\"clearfix\">\\n<h2><a href=\"/investment/interactive-gold-price-chart\" style=\"color:#fff;font-size:102%;\"><span class=\"icon graph\" role=\"presentation\"></span>Spot price</a></h2>\\n<div class=\"spotlight-callout\">\\n<div class=\"select js-show\">\\n<form accept-charset=\"UTF-8\" action=\"/\" id=\"gold-user-currency-change-form--2\" method=\"post\"><div><div class=\"form-item form-type-select form-item-CurrencySelector\">\\n<label for=\"edit-currencyselector--2\">Select a currency </label>\\n<select class=\"form-select\" id=\"CurrencySelector2\" name=\"CurrencySelector\"><option value=\"USD\">USD</option><option value=\"GBP\">GBP</option><option value=\"AUD\">AUD</option><option value=\"CAD\">CAD</option><option value=\"CHF\">CHF</option><option value=\"EUR\">EUR</option><option value=\"JPY\">JPY</option><option value=\"ZAR\">ZAR</option><option value=\"INR\">INR</option><option value=\"CNY\">CNY</option><option value=\"HKD\">HKD</option></select>\\n</div>\\n<input name=\"form_build_id\" type=\"hidden\" value=\"form-04NS5uhLMU5B5W-yt-4poHyxEU8PBjd-KH6ZKuWLjZs\"/>\\n<input name=\"form_id\" type=\"hidden\" value=\"gold_user_currency_change_form\"/>\\n</div></form></div>\\n<h4 class=\"js-hide\">Currency: <span>USD</span></h4>\\n<div class=\"assets clearfix\">\\n<div class=\"asset ask\">\\n<div class=\"asset-inner\">\\n<h3 class=\"heading\">Ask</h3>\\n<dl>\\n<dt class=\"accessibility\">Value</dt>\\n<dd class=\"value\">1,345.35</dd>\\n<dt class=\"accessibility\">Variation</dt>\\n<dd class=\"variation minus\">\\n<span class=\"icon minus\" role=\"presentation\"></span>\\n</dd>\\n</dl>\\n</div>\\n</div>\\n<div class=\"asset mid\">\\n<div class=\"asset-inner\">\\n<h3 class=\"heading\">Mid</h3>\\n<dl>\\n<dt class=\"accessibility\">Value</dt>\\n<dd class=\"value\">1,345.15</dd>\\n<dt class=\"accessibility\">Variation</dt>\\n<dd class=\"variation minus\">\\n<span class=\"icon minus\" role=\"presentation\"></span>\\n</dd>\\n</dl>\\n</div>\\n</div>\\n<div class=\"asset bid\">\\n<div class=\"asset-inner\">\\n<h3 class=\"heading\">Bid</h3>\\n<dl>\\n<dt class=\"accessibility\">Value</dt>\\n<dd class=\"value\">1,344.95</dd>\\n<dt class=\"accessibility\">Variation</dt>\\n<dd class=\"variation minus\">\\n<span class=\"icon minus\" role=\"presentation\"></span>\\n</dd>\\n</dl>\\n</div>\\n</div>\\n</div>\\n<div class=\"time\">\\n<h3 class=\"accessibility\">Time</h3>\\n<p>\\n<span class=\"icon clock\" role=\"presentation\"></span>Last updated: 2016-08-17 03:53:02\\t</p>\\n</div>\\n<div class=\"links\">\\n<ul class=\"clearfix\">\\n<li><a href=\"//www.gold.org/investment/interactive-gold-price-chart\"><span class=\"icon interactive\" role=\"presentation\"></span>Price chart</a></li>\\n<li><a href=\"https://www.gold.org/statistics\"><span class=\"icon trends\" role=\"presentation\"></span>Statistics</a></li>\\n<li><a href=\"research\"><span class=\"icon research\" role=\"presentation\"></span>Research</a></li>\\n</ul>\\n</div> </div>\\n</div>\\n</div>\\n</section>\\n</div>\\n<div class=\"aside spotlight related\">\\n<aside>\\n<div class=\"spotlight-inner\">\\n<div class=\"clearfix\">\\n<h2>Follow us:</h2>\\n<div class=\"spotlight-callout\" id=\"wgcFollowsBlock\">\\n<ul>\\n<li><a class=\"twitter\" href=\"https://twitter.com/goldcouncil\"><span>Twitter</span></a></li>\\n<li><a class=\"facebook\" href=\"https://www.facebook.com/worldgoldcouncil\" target=\"_blank\"><span>Facebook</span></a></li>\\n<li><a class=\"linkedin\" href=\"https://www.linkedin.com/company/world-gold-council\"><span>Linked In</span></a></li>\\n<li><a class=\"googleplus\" href=\"https://plus.google.com/+worldgoldcouncil\"><span>Google+</span></a></li>\\n<li><a class=\"youtube\" href=\"https://www.youtube.com/c/worldgoldcouncil\"><span>YouTube</span></a></li>\\n</ul>\\n</div>\\n</div>\\n</div>\\n</aside>\\n</div>\\n<!-- gold_most_popular/theme/gmp-block-list-tpl.php -->\\n<!--\\r\\n\\r\\n<div class=\"aside spotlight related popular\">\\r\\n  <aside>\\r\\n    <div class=\"spotlight-inner\">\\r\\n      <div class=\"clearfix\">\\r\\n        <h2>Most popular</h2>\\r\\n        <div class=\"clearfix\">\\r\\n            <ul>\\r\\n              \\r\\n<li class=\"document\"><span class=\"classment\">1</span>\\r\\n      <div class=\"callout\">\\r\\n        <h3 data-count=\"13124\" data-nid=\"5077\">\\r\\n          <a href=\"/supply-and-demand/gold-demand-trends/back-issues/gold-demand-trends-q2-2016\">Gold Demand Trends Q2 2016</a>\\r\\n        </h3>\\r\\n    </div>\\r\\n</li>\\r\\n<li class=\"document\"><span class=\"classment\">2</span>\\r\\n      <div class=\"callout\">\\r\\n        <h3 data-count=\"3354\" data-nid=\"2055\">\\r\\n          <a href=\"/research/latest-world-official-gold-reserves\">Latest World Official Gold Reserves</a>\\r\\n        </h3>\\r\\n    </div>\\r\\n</li>\\r\\n<li class=\"document\"><span class=\"classment\">3</span>\\r\\n      <div class=\"callout\">\\r\\n        <h3 data-count=\"217\" data-nid=\"4989\">\\r\\n          <a href=\"/research/thinking-investing-gold\">Thinking of investing in gold? </a>\\r\\n        </h3>\\r\\n    </div>\\r\\n</li>            </ul>\\r\\n        </div>\\r\\n      </div>\\r\\n    </div>\\r\\n  </aside>\\r\\n</div>  \\r\\n\\r\\n-->\\n<div class=\"aside spotlight related popular\"><aside>\\n<div class=\"spotlight-inner\"><div class=\"clearfix\">\\n<h2>Most popular</h2>\\n<div class=\"spotlight-callout\">\\n<div class=\"jsm-accordion\">\\n<div class=\"jsm-chamber\">\\n<p class=\"jsm-key\">Read <span class=\"jsm-pallet\">\\u25ba</span></p>\\n<div class=\"jsm-chamber-inner\">\\n<div class=\"clearfix\">\\n<ul>\\n<li class=\"document\"><span class=\"classment\">1</span>\\n<div class=\"callout\">\\n<h3 data-count=\"13124\" data-nid=\"5077\">\\n<a href=\"/supply-and-demand/gold-demand-trends/back-issues/gold-demand-trends-q2-2016\">Gold Demand Trends Q2 2016</a>\\n</h3>\\n</div>\\n</li>\\n<li class=\"document\"><span class=\"classment\">2</span>\\n<div class=\"callout\">\\n<h3 data-count=\"3354\" data-nid=\"2055\">\\n<a href=\"/research/latest-world-official-gold-reserves\">Latest World Official Gold Reserves</a>\\n</h3>\\n</div>\\n</li>\\n<li class=\"document\"><span class=\"classment\">3</span>\\n<div class=\"callout\">\\n<h3 data-count=\"217\" data-nid=\"4989\">\\n<a href=\"/research/thinking-investing-gold\">Thinking of investing in gold? </a>\\n</h3>\\n</div>\\n</li> </ul>\\n</div>\\n</div>\\n</div>\\n<div class=\"jsm-chamber most-popular-downloads\">\\n<p class=\"jsm-key\">Downloaded <span class=\"jsm-pallet\">\\u25ba</span></p>\\n<div class=\"jsm-chamber-inner\">\\n<div class=\"clearfix\">\\n<ul>\\n<li class=\"document\"><span class=\"classment\">1</span>\\n<div class=\"callout\">\\n<h3>\\n<a class=\"download xls \" href=\"/download/file/5105/GDT_Q2_16_tables.xls\" target=\"_blank\" title=\"Download GDT_Q2_16_tables.xls\">GDT Q2 2016 Statistics XLS</a>\\n</h3>\\n</div>\\n</li>\\n<li class=\"document\"><span class=\"classment\">2</span>\\n<div class=\"callout\">\\n<h3>\\n<a class=\"download pdf \" href=\"/download/file/5107/GDT_Q2_2016.pdf\" target=\"_blank\" title=\"Download GDT_Q2_2016.pdf\">Gold Demand Trends Q2 2016</a>\\n</h3>\\n</div>\\n</li>\\n<li class=\"document\"><span class=\"classment\">3</span>\\n<div class=\"callout\">\\n<h3>\\n<a class=\"download xls \" href=\"/download/file/2977/Prices.xls\" target=\"_blank\" title=\"Download Prices.xls\">Gold price in a range of currencies since 1978 - XLS</a>\\n</h3>\\n</div>\\n</li> </ul>\\n</div>\\n</div>\\n</div>\\n</div>\\n</div>\\n</div></div>\\n</aside></div>\\n</div>\\n</div>\\n</div>\\n<!-- /.section, /#sidebar-second -->\\n</div>\\n<!-- End .main -->\\n<div class=\"footer\" id=\"Footer\" role=\"contentinfo\">\\n<footer>\\n<div class=\"nav nav-tertiary\">\\n<div class=\"clearfix\">\\n<p>\\n<span>Tertiary navigation:</span>\\n</p>\\n<div class=\"clearfix\" id=\"footer-columns\">\\n<div class=\"region region-footer-firstcolumn\">\\n<div class=\"menu-block-wrapper menu-block-4 menu-name-menu-footer-menu parent-mlid-0 menu-level-1\">\\n<ul class=\"shortcuts\"><li class=\"first expanded menu-mlid-1847\"><a href=\"/history-and-facts\"><span class=\"icon doc\" role=\"presentation\"></span>History and facts</a></li><li class=\"leaf menu-mlid-2573\"><a href=\"/advanced-by-gold\">Advanced by gold</a></li><li class=\"leaf menu-mlid-2587\"><a href=\"/statistics\">Statistics</a></li><li class=\"expanded menu-mlid-1174\"><a href=\"/contact-us\">Contact us</a></li><li class=\"leaf menu-mlid-1168\"><a href=\"/sitemap\">Site map</a></li><li class=\"leaf menu-mlid-1897\"><a href=\"/privacy\">Privacy</a></li><li class=\"leaf menu-mlid-1851\"><a href=\"/cookies\">Cookies</a></li><li class=\"leaf menu-mlid-1841\"><a href=\"/terms-and-conditions\">Terms and conditions</a></li><li class=\"last leaf menu-mlid-1896\"><a href=\"/accessibility\">Accessibility</a></li></ul></div>\\n</div>\\n</div>\\n<!-- /#footer-columns -->\\n</div>\\n</div>\\n<div class=\"copyright\">\\n<div class=\"region region-footer\">\\n<div class=\"block block-block\" id=\"block-block-1\">\\n<div class=\"content\">\\n<p>\\xa9 2016\\xa0World Gold Council</p>\\n<p>\\u6caaICP\\u590716026324\\u53f7</p>\\n</div>\\n</div>\\n<div class=\"block block-wgc-slideon\" id=\"block-wgc-slideon-wgc-slideon-block\">\\n<div class=\"content\">\\n<aside class=\"wgc-slideon-container\">\\n<div class=\"wgc-slideon-box\">\\n<button class=\"wgc-slideon-close\">X</button>\\n<div class=\"wgc-slideon-content\">\\n<h4 class=\"title\">Subscribe to gold.org</h4>\\n<p class=\"copy\">Connect and subscribe with the World Gold Council using your social media account or email address. Get regular updates delivered to your inbox from the World Gold Council.</p>\\n<button class=\"subscribe\">Subscribe</button>\\n</div>\\n</div>\\n</aside>\\n</div>\\n</div>\\n</div>\\n</div>\\n<!-- /#footer -->\\n</footer>\\n</div>\\n<!-- End .footer -->\\n</div>\\n</div>\\n<!-- Google Analytics code. Do not delete -->\\n<script>\\n(function(i,s,o,g,r,a,m){i['GoogleAnalyticsObject']=r;i[r]=i[r]||function(){\\n(i[r].q=i[r].q||[]).push(arguments)},i[r].l=1*new Date();a=s.createElement(o),\\nm=s.getElementsByTagName(o)[0];a.async=1;a.src=g;m.parentNode.insertBefore(a,m)\\n})(window,document,'script','//www.google-analytics.com/analytics.js','ga');\\nga('create', 'UA-299455-1', 'gold.org');\\nga('require', 'displayfeatures');\\nga('send', 'pageview');\\n</script>\\n<!-- Twitter audience tag \\n<script type=\"text/javascript\">\\njQuery(document).ready(function(){\\n  jQuery.getScript(\"//platform.twitter.com/oct.js\").done(function(){\\n    console.log('Twitter loaded');\\n    twttr.conversion.trackPid('nuvc4', { tw_sale_amount: 0, tw_order_quantity: 0 });\\n  });\\n});\\n\\n</script>\\n<noscript>\\n<img height=\"1\" width=\"1\" style=\"display:none;\" alt=\"\" src=\"https://analytics.twitter.com/i/adsct?txn_id=nuvc4&p_id=Twitter&tw_sale_amount=0&tw_order_quantity=0\" />\\n<img height=\"1\" width=\"1\" style=\"display:none;\" alt=\"\" src=\"//t.co/i/adsct?txn_id=nuvc4&p_id=Twitter&tw_sale_amount=0&tw_order_quantity=0\" />\\n</noscript>\\n-->\\n<!-- Twitter universal website tag code -->\\n<script> !function(e,n,u,a){e.twq||(a=e.twq=function(){a.exe?a.exe.apply(a,arguments): a.queue.push(arguments);},a.version='1',a.queue=[],t=n.createElement(u), t.async=!0,t.src='//static.ads-twitter.com/uwt.js',s=n.getElementsByTagName(u)[0], s.parentNode.insertBefore(t,s))}(window,document,'script'); \\n// Insert Twitter Pixel ID and Standard Event data below \\ntwq('init','nvao6'); twq('track','PageView'); \\n</script> <!-- End Twitter universal website tag code -->\\n<!-- Google Code for Remarketing Tag -->\\n<script type=\"text/javascript\">\\n  /* <![CDATA[ */\\n  goog_snippet_vars = function() {\\n    var w = window;\\n    w.google_conversion_id = 997849090;\\n    w.google_conversion_label = \"RMSjCMustmYQgvDn2wM\";\\n    w.google_remarketing_only = false;\\n  }\\n  // DO NOT CHANGE THE CODE BELOW.\\n  goog_report_conversion = function(url) {\\n    goog_snippet_vars();\\n    window.google_conversion_format = \"3\";\\n    var opt = new Object();\\n    opt.onload_callback = function() {\\n    if (typeof(url) != 'undefined') {\\n      window.location = url;\\n    }\\n  }\\n  var conv_handler = window['google_trackConversion'];\\n  if (typeof(conv_handler) == 'function') {\\n    conv_handler(opt);\\n  }\\n}\\n/* ]]> */\\n</script>\\n<script type=\"text/javascript\">\\n/* <![CDATA[ */\\nvar google_conversion_id = 997849090;\\nvar google_custom_params = window.google_tag_params;\\nvar google_remarketing_only = true;\\n/* ]]> */\\n</script>\\n<script src=\"//www.googleadservices.com/pagead/conversion_async.js\" type=\"text/javascript\">\\n</script>\\n<!-- AddThis BEGIN -->\\n<!-- Go to www.addthis.com/dashboard to customize your tools -->\\n<script async=\"async\" src=\"//s7.addthis.com/js/300/addthis_widget.js#pubid=ra-53319eac1d9c9e70\" type=\"text/javascript\"></script>\\n<script type=\"text/javascript\">\\nvar addthis_config = {\\n  data_ga_property: 'UA-299455-1',\\n  data_ga_social: true\\n};\\n\\n</script>\\n<!-- AddThis END -->\\n<noscript>\\n<div style=\"display:inline;\">\\n<img alt=\"\" height=\"1\" src=\"//googleads.g.doubleclick.net/pagead/viewthroughconversion/997849090/?value=0&amp;guid=ON&amp;script=0\" style=\"border-style:none;\" width=\"1\"/>\\n</div>\\n</noscript>\\n<script>\\n// This is the code obtained from the Janrain dashboard.\\n(function() {\\n  if (typeof window.janrain !== 'object') window.janrain = {};\\n  if (typeof window.janrain.settings !== 'object') window.janrain.settings = {};\\n\\n  appName = 'world-gold-council';\\n  // This is where you can add/modify Janrain Widget settings.\\n  janrain.settings.type = 'embed';\\n  janrain.settings.appId = 'cickmkplnmfolflmolai';\\n  janrain.settings.appUrl = 'https://social.gold.org';\\n  janrain.settings.tokenAction = 'event';\\n  janrain.settings.custom = true;\\n  // Only edit above this line.\\n  // This code has been moved to the jQuery block in site.js\\n/*\\n\\n  function isReady() { janrain.ready = true; };\\n  if (document.addEventListener) {\\n    document.addEventListener(\"DOMContentLoaded\", isReady, false);\\n  } else {\\n    window.attachEvent('onload', isReady);\\n  }\\n*/\\n  var e = document.createElement('script');\\n  e.type = 'text/javascript';\\n  e.id = 'janrainAuthWidget';\\n\\n  if (document.location.protocol === 'https:') {\\n    e.src = 'https://rpxnow.com/js/lib/' + appName + '/engage.js';\\n  } else {\\n    e.src = 'http://widget-cdn.rpxnow.com/js/lib/' + appName + '/engage.js';\\n  }\\n\\n  var s = document.getElementsByTagName('script')[0];\\n  s.parentNode.insertBefore(e, s);\\n}());\\n\\n\\n</script>\\n<script type=\"text/javascript\">window.NREUM||(NREUM={});NREUM.info={\"beacon\":\"bam.nr-data.net\",\"licenseKey\":\"5b0646e35f\",\"applicationID\":\"2940179\",\"transactionName\":\"YlUDZxRRWkRWUExRW1sfIFASWVtZGF1XXFFqQABUA29CXlJE\",\"queueTime\":0,\"applicationTime\":3218,\"atts\":\"ThIAEVxLSUo=\",\"errorBeacon\":\"bam.nr-data.net\",\"agent\":\"\"}</script></body>\\n</html>\\n<!-- Page cached by Boost @ 2016-08-17 03:54:53 on 552789-drupal1.lon.wgcserver.org, expires @ 2016-08-17 04:54:53, lifetime 1 hour -->"
      ]
     },
     "execution_count": 78,
     "metadata": {},
     "output_type": "execute_result"
    }
   ],
   "source": [
    "scraping"
   ]
  },
  {
   "cell_type": "markdown",
   "metadata": {},
   "source": [
    "Now we can search for a given tag, id or class name.\n",
    "\n",
    "**STEP 3: SEARCH** Search through the page for 'dd' type tags with the class name 'value':"
   ]
  },
  {
   "cell_type": "code",
   "execution_count": 29,
   "metadata": {
    "collapsed": false
   },
   "outputs": [
    {
     "data": {
      "text/plain": [
       "<dd class=\"value\">1,345.35</dd>"
      ]
     },
     "execution_count": 29,
     "metadata": {},
     "output_type": "execute_result"
    }
   ],
   "source": [
    "element = scraping.find(\"dd\", attrs={\"class\" : \"value\"})\n",
    "element"
   ]
  },
  {
   "cell_type": "markdown",
   "metadata": {},
   "source": [
    "Once we have found the tag we want, we extract the contents of it by calling .contents and optionally convert it into a float."
   ]
  },
  {
   "cell_type": "code",
   "execution_count": 30,
   "metadata": {
    "collapsed": false
   },
   "outputs": [
    {
     "name": "stdout",
     "output_type": "stream",
     "text": [
      "1345.35\n"
     ]
    }
   ],
   "source": [
    "print float(str(element.contents[0]).replace(',', ''))"
   ]
  },
  {
   "cell_type": "markdown",
   "metadata": {},
   "source": [
    "As it turns out, there are multiple tags in the document with this tag-name combination. "
   ]
  },
  {
   "cell_type": "markdown",
   "metadata": {},
   "source": [
    "If we re-run the search from before and ask for all results to be returned that match our criteria, this is what we get:"
   ]
  },
  {
   "cell_type": "code",
   "execution_count": 31,
   "metadata": {
    "collapsed": false
   },
   "outputs": [
    {
     "data": {
      "text/plain": [
       "[<dd class=\"value\">1,345.35</dd>,\n",
       " <dd class=\"value\">1,345.15</dd>,\n",
       " <dd class=\"value\">1,344.95</dd>,\n",
       " <dd class=\"value\">1,345.35</dd>,\n",
       " <dd class=\"value\">1,345.15</dd>,\n",
       " <dd class=\"value\">1,344.95</dd>]"
      ]
     },
     "execution_count": 31,
     "metadata": {},
     "output_type": "execute_result"
    }
   ],
   "source": [
    "element = scraping.find_all(\"dd\", attrs={\"class\" : \"value\"})\n",
    "element"
   ]
  },
  {
   "cell_type": "raw",
   "metadata": {},
   "source": [
    "ATTRIBUTES\n",
    "\n",
    "Classes are NOT unique\n",
    "\n",
    "    You can use the same class on multiple elements.\n",
    "    You can use multiple classes on the same element.\n",
    "\n",
    "ID's are unique and elements with ID's are easy to extract\n",
    "\n",
    "    Each element can have only one ID\n",
    "    Each page can have only one element with that ID\n",
    "\n"
   ]
  },
  {
   "cell_type": "markdown",
   "metadata": {},
   "source": [
    "Our previous scrape worked because the value of interest was the first one. But say we would now like to scrape the mid price now on the top of the page. \n",
    "\n",
    "We would first need to go back to the webpage and extract a section which houses the element of target, which would then hopefully make it easier to extract the actual element we are after. In our case, we will extract the 'div' section with 'asset mid' attribute (there could however be a shortcut to the example below)."
   ]
  },
  {
   "cell_type": "code",
   "execution_count": 32,
   "metadata": {
    "collapsed": false
   },
   "outputs": [],
   "source": [
    "element2 = scraping.find(\"div\", attrs={\"class\" : \"asset mid\"})"
   ]
  },
  {
   "cell_type": "code",
   "execution_count": 33,
   "metadata": {
    "collapsed": false
   },
   "outputs": [
    {
     "name": "stdout",
     "output_type": "stream",
     "text": [
      "<div class=\"asset mid\">\n",
      "<p class=\"heading\">Mid</p>\n",
      "<dl>\n",
      "<dt class=\"accessibility\">Value</dt>\n",
      "<dd class=\"value\">1,345.15</dd>\n",
      "<dt class=\"accessibility\">Variation</dt>\n",
      "<dd class=\"variation minus\">\n",
      "<span class=\"icon minus\" role=\"presentation\"></span>\n",
      "</dd>\n",
      "</dl>\n",
      "</div>\n"
     ]
    }
   ],
   "source": [
    "print element2"
   ]
  },
  {
   "cell_type": "code",
   "execution_count": 34,
   "metadata": {
    "collapsed": false
   },
   "outputs": [
    {
     "data": {
      "text/plain": [
       "[u'1,345.15']"
      ]
     },
     "execution_count": 34,
     "metadata": {},
     "output_type": "execute_result"
    }
   ],
   "source": [
    "element2.find(\"dd\", \"value\").contents"
   ]
  },
  {
   "cell_type": "markdown",
   "metadata": {},
   "source": [
    "**Exercise:** Scrape the bid price from the web page and convert it into a float."
   ]
  },
  {
   "cell_type": "code",
   "execution_count": 87,
   "metadata": {
    "collapsed": false
   },
   "outputs": [
    {
     "name": "stdout",
     "output_type": "stream",
     "text": [
      "<div class=\"asset bid\">\n",
      "<p class=\"heading\">Bid</p>\n",
      "<dl>\n",
      "<dt class=\"accessibility\">Value</dt>\n",
      "<dd class=\"value\">1,344.95</dd>\n",
      "<dt class=\"accessibility\">Variation</dt>\n",
      "<dd class=\"variation minus\">\n",
      "<span class=\"icon minus\" role=\"presentation\"></span>\n",
      "</dd>\n",
      "</dl>\n",
      "</div>\n",
      "1,345.15\n",
      "1345.15\n"
     ]
    }
   ],
   "source": [
    "element3 = scraping.find(\"div\", attrs={\"class\" : \"asset bid\"})\n",
    "print element3\n",
    "bid = element2.find(\"dd\", \"value\").contents\n",
    "print bid[0]\n",
    "\n",
    "print float(str(bid[0]).replace(',', ''))"
   ]
  },
  {
   "cell_type": "markdown",
   "metadata": {},
   "source": [
    "Below is an example of how we might write a script that continually extracts data from a page every 1-2 seconds:"
   ]
  },
  {
   "cell_type": "code",
   "execution_count": 35,
   "metadata": {
    "collapsed": false
   },
   "outputs": [
    {
     "name": "stderr",
     "output_type": "stream",
     "text": [
      "D:\\Program Files\\Anaconda\\lib\\site-packages\\bs4\\__init__.py:166: UserWarning: No parser was explicitly specified, so I'm using the best available HTML parser for this system (\"lxml\"). This usually isn't a problem, but if you run this code on another system, or in a different virtual environment, it may use a different parser and behave differently.\n",
      "\n",
      "To get rid of this warning, change this:\n",
      "\n",
      " BeautifulSoup([your markup])\n",
      "\n",
      "to this:\n",
      "\n",
      " BeautifulSoup([your markup], \"lxml\")\n",
      "\n",
      "  markup_type=markup_type))\n"
     ]
    },
    {
     "name": "stdout",
     "output_type": "stream",
     "text": [
      "03:05:39PM, Gold price is: 1,345.35 \n",
      " \n",
      "03:05:40PM, Gold price is: 1,345.35 \n",
      " \n",
      "03:05:42PM, Gold price is: 1,345.35 \n",
      " \n",
      "03:05:44PM, Gold price is: 1,345.35 \n",
      " \n",
      "03:05:46PM, Gold price is: 1,345.35 \n",
      " \n",
      "03:05:47PM, Gold price is: 1,345.35 \n",
      " \n",
      "03:05:52PM, Gold price is: 1,345.35 \n",
      " \n",
      "03:05:54PM, Gold price is: 1,345.35 \n",
      " \n",
      "03:05:56PM, Gold price is: 1,345.35 \n",
      " \n",
      "03:05:57PM, Gold price is: 1,345.35 \n",
      " \n"
     ]
    }
   ],
   "source": [
    "def GetGoldPrice():\n",
    "    url = \"http://gold.org\"\n",
    "    response = requests.get(url, proxies=massey_proxies)\n",
    "    page = response.content\n",
    "    #create a BeautifulSoup object that reads in the HTML page\n",
    "    scraping = BeautifulSoup(page)\n",
    "    #search through the page for 'dd' type tags with the class name 'value'\n",
    "    element = scraping.find(\"dd\", \"value\")\n",
    "    #access the contents inside the tags\n",
    "    price = element.contents[0].string\n",
    "    return price\n",
    "\n",
    "for x in range(0,10):\n",
    "    time_now = datetime.now().strftime(\"%I:%M:%S%p\")\n",
    "    print(\"{0}, Gold price is: {1} \\n \".format(time_now, GetGoldPrice()))\n",
    "    sleep(0.01)"
   ]
  },
  {
   "cell_type": "markdown",
   "metadata": {},
   "source": [
    "**Exercise**: Extract the current FTSE 100 stock market index from the Google Finance page http://www.google.com/finance"
   ]
  },
  {
   "cell_type": "code",
   "execution_count": 115,
   "metadata": {
    "collapsed": false
   },
   "outputs": [
    {
     "data": {
      "text/plain": [
       "<Response [200]>"
      ]
     },
     "execution_count": 115,
     "metadata": {},
     "output_type": "execute_result"
    }
   ],
   "source": [
    "url = \"http://www.google.com/finance\"\n",
    "response = requests.get(url, proxies=massey_proxies)\n",
    "response"
   ]
  },
  {
   "cell_type": "code",
   "execution_count": 116,
   "metadata": {
    "collapsed": false
   },
   "outputs": [
    {
     "data": {
      "text/plain": [
       "'<!DOCTYPE html><html><head><script>(function(){(function(){function e(a){this.t={};this.tick=function(a,c,b){var d=void 0!=b?b:(new Date).getTime();this.t[a]=[d,c];if(void 0==b)try{window.console.timeStamp(\"CSI/\"+a)}catch(e){}};this.tick(\"start\",null,a)}var a,d;window.performance&&(d=(a=window.performance.timing)&&a.responseStart);var f=0<d?new e(d):new e;window.jstiming={Timer:e,load:f};if(a){var c=a.navigationStart;0<c&&d>=c&&(window.jstiming.srt=d-c)}if(a){var b=window.jstiming.load;0<c&&d>=c&&(b.tick(\"_wtsrt\",void 0,c),b.tick(\"wtsrt_\",\"_wtsrt\",\\nd),b.tick(\"tbsd_\",\"wtsrt_\"))}try{a=null,window.chrome&&window.chrome.csi&&(a=Math.floor(window.chrome.csi().pageT),b&&0<c&&(b.tick(\"_tbnd\",void 0,window.chrome.csi().startE),b.tick(\"tbnd_\",\"_tbnd\",c))),null==a&&window.gtbExternal&&(a=window.gtbExternal.pageT()),null==a&&window.external&&(a=window.external.pageT,b&&0<c&&(b.tick(\"_tbnd\",void 0,window.external.startE),b.tick(\"tbnd_\",\"_tbnd\",c))),a&&(window.jstiming.pt=a)}catch(g){}})();})();\\n</script><title>Google Finance: Stock market quotes, news, currency conversions &amp; more</title><meta name=\"Description\" content=\"Get real-time stock quotes &amp; charts, financial news, currency conversions, or track your portfolio with Google Finance.\"><meta http-equiv=\"X-UA-Compatible\" content=\"IE=10\"><link rel=\"stylesheet\" type=\"text/css\" href=\"/finance/f/finance_us-1489929081.css\"><link rel=\"stylesheet\" type=\"text/css\" href=\"/_/scs/finance-static/_/ss/k=finance.a.-1ad9g7dkeydo6.L.W.O/d=0/rs=AGHGApFc6f3qtgX-rKpnovDqtgcuZ4H2Ng\"><link rel=\"icon\" type=\"image/vnd.microsoft.icon\" href=\"/finance/favicon.ico\"><style>#gbar,#guser{font-size:13px;padding-right:8px;padding-top:4px !important;}#gbar{padding-left:8px;height:22px}#guser{padding-bottom:7px !important;text-align:right}.gbh,.gbd{border-top:1px solid #c9d7f1;font-size:1px}.gbh{height:0;position:absolute;top:24px;width:100%}@media all{.gb1{height:22px;margin-right:.5em;vertical-align:top}#gbar{float:left}}a.gb1,a.gb4{text-decoration:underline !important}a.gb1,a.gb4{color:#00c !important}.gbi .gb4{color:#dd8e27 !important}.gbf .gb4{color:#900 !important}\\n</style><script></script><script>\\n      function _rpt() {}\\n      function _tck() {}\\n    </script><script>\\n    (function(i,s,o,g,r,a,m){i[\\'GoogleAnalyticsObject\\']=r;i[r]=i[r]||function(){\\n    (i[r].q=i[r].q||[]).push(arguments)},i[r].l=1*new Date();a=s.createElement(o),\\n    m=s.getElementsByTagName(o)[0];a.async=1;a.src=g;m.parentNode.insertBefore(a,m)\\n    })(window,document,\\'script\\',\\'//www.google-analytics.com/analytics.js\\',\\'ga\\');\\n\\n    ga(\\'create\\', \\'UA-40765809-1\\', {\\n      \\'allowLinker\\': true,\\n      \\'cookiePath\\': \\'/finance\\'\\n    });\\n    ga(\\'send\\', \\'pageview\\');\\n    </script></head><body><div class=fjfe-bodywrapper><div id=fjfe-real-body class=g-doc><input type=\"text\" name=\"hist_state\" id=\"hist_state\" style=\"display:none;\"><iframe id=\"hist_frame\" name=\"hist_frame\" class=invfr tabindex=\"-1\"></iframe><iframe src=\"/_/scs/finance-static/_/js/k=finance.a.en_US.0md5hz5pgeA.O/m=b/rt=h/d=0/rs=AGHGApHi_3j1v_Z6n816dUrW-04N4o1Vbg\" class=invfr tabindex=\"-1\"></iframe><div id=gbar><nobr><a class=gb1 href=\"https://www.google.co.nz/webhp?tab=ew\">Search</a> <a class=gb1 href=\"http://www.google.co.nz/imghp?hl=en&tab=ei\">Images</a> <a class=gb1 href=\"http://maps.google.co.nz/maps?hl=en&tab=el\">Maps</a> <a class=gb1 href=\"https://play.google.com/?hl=en&tab=e8\">Play</a> <a class=gb1 href=\"http://www.youtube.com/?tab=e1\">YouTube</a> <a class=gb1 href=\"http://news.google.co.nz/nwshp?hl=en&tab=en\">News</a> <a class=gb1 href=\"https://mail.google.com/mail/?tab=em\">Gmail</a> <a class=gb1 href=\"https://drive.google.com/?tab=eo\">Drive</a> <a class=gb1 style=\"text-decoration:none\" href=\"https://www.google.co.nz/intl/en/options/\"><u>More</u> &raquo;</a></nobr></div><div id=guser width=100%><nobr><span id=gbn class=gbi></span><span id=gbf class=gbf></span><span id=gbe></span><a  href=\"http://www.google.com/support/finance?hl=en\" class=gb4>Help</a> | <a target=_top id=gb_70 href=\"https://accounts.google.com/ServiceLogin?service=finance&passive=1209600&continue=http://www.google.com/finance&followup=http://www.google.com/finance\" class=gb4>Sign in</a></nobr></div><div class=gbh style=left:0></div><div class=gbh style=right:0></div><div id=fjfe-click-wrapper><script>\\n(function() {\\n  var l = window.location;\\n  var q = l.search ? l.search.substr(1) : \\'\\';\\n  var h = l.hash ? l.hash.substr(1) : \\'\\';\\n  var p = \\'/finance\\';\\n  var ss = \\'stockscreener\\';\\n  var conn = window.history && window.history.pushState ? \\'/\\' : \\'#\\';\\n  if (l.pathname == p + \\'/\\' + ss) {\\n    if (h) l.href = p + conn + ss + \\'?\\' + q + \\'&\\' + h;\\n  } else if (l.pathname != p && h) {\\n    l.href = p + l.hash;\\n  }\\n  if (h) {\\ndocument.getElementById(\\'fjfe-click-wrapper\\').style.display = \\'none\\';\\n  }\\n})();\\n</script><div id=gf-head class=\"g-section g-tpl-75-25 g-split\"><div class=\"g-unit g-first\"><div class=fjfe-logo><a href=\"/finance/?ei=quKzV9HZEcLs0gTuibLQBQ\"><img src=\"/finance/f/logo_material-4224265490.png\" alt=\"Google Finance\"></a></div><div id=gf-search class=fjfe-search><form method=\"get\" action=\"/finance\" autocomplete=\"off\"><input class=fjfe-searchbox-input name=q type=text tabindex=1 value=\"\"></input><span class=fjfe-searchbox-button-wrapper><span class=fjfe-searchbox-button-wrapper2><input class=fjfe-searchbox-button type=submit tabindex=2 value=\"Get quotes\"></input></span></span><input type=hidden name=\"ei\" value=\"quKzV9HZEcLs0gTuibLQBQ\"></input></form></div></div><div class=\"g-unit fjfe-promo\"><div id=\"ad2-target\" class=\"id-ad2-target\"></div></div></div><div class=elastic><div id=app class=\"g-section g-tpl-left-11p4em\"><div class=\"g-unit g-first\"><div id=gf-nav><div class=fjfe-nav-nav><ul class=fjfe-nav id=navmenu><li class=\"fjfe-nav-selected\">Markets<li class=fjfe-nav-item><a href=\"/finance/market_news?ei=quKzV9HZEcLs0gTuibLQBQ\"><div>News</div></a><li class=fjfe-nav-item><a href=\"/finance/portfolio?action=view&amp;ei=quKzV9HZEcLs0gTuibLQBQ\"><div>Portfolios</div></a><li class=fjfe-nav-item><a href=\"/finance/stockscreener?ei=quKzV9HZEcLs0gTuibLQBQ\"><div>Stock screener</div></a><li class=fjfe-nav-item><a href=\"/finance/domestic_trends?ei=quKzV9HZEcLs0gTuibLQBQ\"><div>Google Domestic Trends</div></a></ul></div><div class=\"fjfe-recentquotes fjfe-recentquotes-noquote\"><h4>Recent Quotes <span class=\"fjfe-recentquotes-duration\">(<a href=\"//www.google.com/history/optout?hl=en\">30 days</a>)</span></h4><div class=fjfe-recentquotes-noquote-notification>You have no recent quotes</div><div class=fjfe-recentquotes-quotes><div class=\"fjfe-toggle fjfe-toggle-button\"><span class=fjfe-chg-toggle>chg</span> | <span class=fjfe-perc-toggle>%</span></div><div class=fjfe-table-div><table class=fjfe-recentquotes-table id=rq width=100%></table></div></div></div></div></div><div class=g-unit id=gf-viewc><div class=fjfe-content>\\n<div class=\"g-section sfe-break-bottom-13\">\\n<div class=\"hdg top appbar-hide\"><div class=\"g-section g-tpl-50-50 g-split\">\\n<div class=\"g-unit g-first\"><h3>Market summary</h3></div>\\n<div class=\"g-unit\">Aug 16 - Markets closed\\n</div>\\n</div></div>\\n</div>\\n<div id=reorder class=\"g-section g-tpl-right-1 id-reorder\">\\n<div class=\"g-unit g-first\">\\n<div class=\"g-c\">\\n<div id=ad class=sfe-break-bottom-16>\\n<div id=ad-label class=\"id-ad-label invisible\">\\nAdvertisement</div>\\n<div id=ad-target class=\"id-ad-target ads-300-250\"></div>\\n</div>\\n<div>\\n</div>\\n<div class=rgt-reorder>\\n<div id=portfolios\\n>\\n<div id=home-portfolios class=id-home-portfolios>\\n</div>\\n</div><script>_tck(\\'aft\\');</script>\\n<div id=markets\\n>\\n<div id=markets>\\n<div class=hdg><div class=float><h3>World markets</h3></div>\\n<div class=\"gf-reorder-btn SP_menu_button\"></div>\\n</div>\\n<div class=sfe-section>\\n<table class=quotes width=100%><tbody><tr>\\n<td class=symbol><a href=\"/finance?q=SHA:000001&amp;ei=quKzV9HZEcLs0gTuibLQBQ\" >Shanghai\\n<td class=price><span id=\"ref_7521596_l\">3,104.09</span>\\n<td class=\"change\"><span class=chr id=\"ref_7521596_c\">-5.95</span> <span class=chr id=\"ref_7521596_cp\">(-0.19%)</span><tr>\\n<td class=symbol><a href=\"/finance?q=INDEXNIKKEI:NI225&amp;ei=quKzV9HZEcLs0gTuibLQBQ\" >Nikkei 225\\n<td class=price><span id=\"ref_15513676_l\">16,705.56</span>\\n<td class=\"change\"><span class=chg id=\"ref_15513676_c\">+109.05</span> <span class=chg id=\"ref_15513676_cp\">(0.66%)</span><tr>\\n<td class=symbol><a href=\"/finance?q=INDEXHANGSENG:HSI&amp;ei=quKzV9HZEcLs0gTuibLQBQ\" >Hang Seng Index\\n<td class=price><span id=\"ref_13414271_l\">22,963.51</span>\\n<td class=\"change\"><span class=chg id=\"ref_13414271_c\">+52.67</span> <span class=chg id=\"ref_13414271_cp\">(0.23%)</span><tr>\\n<td class=symbol><a href=\"/finance?q=TPE:TAIEX&amp;ei=quKzV9HZEcLs0gTuibLQBQ\" >TSEC\\n<td class=price><span id=\"ref_9947405_l\">9,094.42</span>\\n<td class=\"change\"><span class=chr id=\"ref_9947405_c\">-15.94</span> <span class=chr id=\"ref_9947405_cp\">(-0.17%)</span><tr>\\n<td class=symbol><a href=\"/finance?q=INDEXFTSE:UKX&amp;ei=quKzV9HZEcLs0gTuibLQBQ\" >FTSE 100\\n<td class=price><span id=\"ref_12590587_l\">6,893.92</span>\\n<td class=\"change\"><span class=chr id=\"ref_12590587_c\">-47.27</span> <span class=chr id=\"ref_12590587_cp\">(-0.68%)</span><tr>\\n<td class=symbol><a href=\"/finance?q=INDEXSTOXX:SX5E&amp;ei=quKzV9HZEcLs0gTuibLQBQ\" >EURO STOXX 50\\n<td class=price><span id=\"ref_7354851_l\">3,016.19</span>\\n<td class=\"change\"><span class=chr id=\"ref_7354851_c\">-30.46</span> <span class=chr id=\"ref_7354851_cp\">(-1.00%)</span><tr>\\n<td class=symbol><a href=\"/finance?q=INDEXEURO:PX1&amp;ei=quKzV9HZEcLs0gTuibLQBQ\" >CAC 40\\n<td class=price><span id=\"ref_9237947_l\">4,460.44</span>\\n<td class=\"change\"><span class=chr id=\"ref_9237947_c\">-37.42</span> <span class=chr id=\"ref_9237947_cp\">(-0.83%)</span><tr>\\n<td class=symbol><a href=\"/finance?q=INDEXTSI:OSPTX&amp;ei=quKzV9HZEcLs0gTuibLQBQ\" >S&amp;P TSX\\n<td class=price><span id=\"ref_9291235_l\">14,703.44</span>\\n<td class=\"change\"><span class=chr id=\"ref_9291235_c\">-73.58</span> <span class=chr id=\"ref_9291235_cp\">(-0.50%)</span><tr>\\n<td class=symbol><a href=\"/finance?q=INDEXASX:XJO&amp;ei=q'"
      ]
     },
     "execution_count": 116,
     "metadata": {},
     "output_type": "execute_result"
    }
   ],
   "source": [
    "page = response.content\n",
    "page[:10000]"
   ]
  },
  {
   "cell_type": "code",
   "execution_count": 117,
   "metadata": {
    "collapsed": false
   },
   "outputs": [
    {
     "data": {
      "text/plain": [
       "<!DOCTYPE html>\\n<html><head><script>(function(){(function(){function e(a){this.t={};this.tick=function(a,c,b){var d=void 0!=b?b:(new Date).getTime();this.t[a]=[d,c];if(void 0==b)try{window.console.timeStamp(\"CSI/\"+a)}catch(e){}};this.tick(\"start\",null,a)}var a,d;window.performance&&(d=(a=window.performance.timing)&&a.responseStart);var f=0<d?new e(d):new e;window.jstiming={Timer:e,load:f};if(a){var c=a.navigationStart;0<c&&d>=c&&(window.jstiming.srt=d-c)}if(a){var b=window.jstiming.load;0<c&&d>=c&&(b.tick(\"_wtsrt\",void 0,c),b.tick(\"wtsrt_\",\"_wtsrt\",\\nd),b.tick(\"tbsd_\",\"wtsrt_\"))}try{a=null,window.chrome&&window.chrome.csi&&(a=Math.floor(window.chrome.csi().pageT),b&&0<c&&(b.tick(\"_tbnd\",void 0,window.chrome.csi().startE),b.tick(\"tbnd_\",\"_tbnd\",c))),null==a&&window.gtbExternal&&(a=window.gtbExternal.pageT()),null==a&&window.external&&(a=window.external.pageT,b&&0<c&&(b.tick(\"_tbnd\",void 0,window.external.startE),b.tick(\"tbnd_\",\"_tbnd\",c))),a&&(window.jstiming.pt=a)}catch(g){}})();})();\\n</script><title>Google Finance: Stock market quotes, news, currency conversions &amp; more</title><meta content=\"Get real-time stock quotes &amp; charts, financial news, currency conversions, or track your portfolio with Google Finance.\" name=\"Description\"/><meta content=\"IE=10\" http-equiv=\"X-UA-Compatible\"/><link href=\"/finance/f/finance_us-1489929081.css\" rel=\"stylesheet\" type=\"text/css\"/><link href=\"/_/scs/finance-static/_/ss/k=finance.a.-1ad9g7dkeydo6.L.W.O/d=0/rs=AGHGApFc6f3qtgX-rKpnovDqtgcuZ4H2Ng\" rel=\"stylesheet\" type=\"text/css\"/><link href=\"/finance/favicon.ico\" rel=\"icon\" type=\"image/vnd.microsoft.icon\"/><style>#gbar,#guser{font-size:13px;padding-right:8px;padding-top:4px !important;}#gbar{padding-left:8px;height:22px}#guser{padding-bottom:7px !important;text-align:right}.gbh,.gbd{border-top:1px solid #c9d7f1;font-size:1px}.gbh{height:0;position:absolute;top:24px;width:100%}@media all{.gb1{height:22px;margin-right:.5em;vertical-align:top}#gbar{float:left}}a.gb1,a.gb4{text-decoration:underline !important}a.gb1,a.gb4{color:#00c !important}.gbi .gb4{color:#dd8e27 !important}.gbf .gb4{color:#900 !important}\\n</style><script></script><script>\\n      function _rpt() {}\\n      function _tck() {}\\n    </script><script>\\n    (function(i,s,o,g,r,a,m){i['GoogleAnalyticsObject']=r;i[r]=i[r]||function(){\\n    (i[r].q=i[r].q||[]).push(arguments)},i[r].l=1*new Date();a=s.createElement(o),\\n    m=s.getElementsByTagName(o)[0];a.async=1;a.src=g;m.parentNode.insertBefore(a,m)\\n    })(window,document,'script','//www.google-analytics.com/analytics.js','ga');\\n\\n    ga('create', 'UA-40765809-1', {\\n      'allowLinker': true,\\n      'cookiePath': '/finance'\\n    });\\n    ga('send', 'pageview');\\n    </script></head><body><div class=\"fjfe-bodywrapper\"><div class=\"g-doc\" id=\"fjfe-real-body\"><input id=\"hist_state\" name=\"hist_state\" style=\"display:none;\" type=\"text\"/><iframe class=\"invfr\" id=\"hist_frame\" name=\"hist_frame\" tabindex=\"-1\"></iframe><iframe class=\"invfr\" src=\"/_/scs/finance-static/_/js/k=finance.a.en_US.0md5hz5pgeA.O/m=b/rt=h/d=0/rs=AGHGApHi_3j1v_Z6n816dUrW-04N4o1Vbg\" tabindex=\"-1\"></iframe><div id=\"gbar\"><nobr><a class=\"gb1\" href=\"https://www.google.co.nz/webhp?tab=ew\">Search</a> <a class=\"gb1\" href=\"http://www.google.co.nz/imghp?hl=en&amp;tab=ei\">Images</a> <a class=\"gb1\" href=\"http://maps.google.co.nz/maps?hl=en&amp;tab=el\">Maps</a> <a class=\"gb1\" href=\"https://play.google.com/?hl=en&amp;tab=e8\">Play</a> <a class=\"gb1\" href=\"http://www.youtube.com/?tab=e1\">YouTube</a> <a class=\"gb1\" href=\"http://news.google.co.nz/nwshp?hl=en&amp;tab=en\">News</a> <a class=\"gb1\" href=\"https://mail.google.com/mail/?tab=em\">Gmail</a> <a class=\"gb1\" href=\"https://drive.google.com/?tab=eo\">Drive</a> <a class=\"gb1\" href=\"https://www.google.co.nz/intl/en/options/\" style=\"text-decoration:none\"><u>More</u> \\xbb</a></nobr></div><div id=\"guser\" width=\"100%\"><nobr><span class=\"gbi\" id=\"gbn\"></span><span class=\"gbf\" id=\"gbf\"></span><span id=\"gbe\"></span><a class=\"gb4\" href=\"http://www.google.com/support/finance?hl=en\">Help</a> | <a class=\"gb4\" href=\"https://accounts.google.com/ServiceLogin?service=finance&amp;passive=1209600&amp;continue=http://www.google.com/finance&amp;followup=http://www.google.com/finance\" id=\"gb_70\" target=\"_top\">Sign in</a></nobr></div><div class=\"gbh\" style=\"left:0\"></div><div class=\"gbh\" style=\"right:0\"></div><div id=\"fjfe-click-wrapper\"><script>\\n(function() {\\n  var l = window.location;\\n  var q = l.search ? l.search.substr(1) : '';\\n  var h = l.hash ? l.hash.substr(1) : '';\\n  var p = '/finance';\\n  var ss = 'stockscreener';\\n  var conn = window.history && window.history.pushState ? '/' : '#';\\n  if (l.pathname == p + '/' + ss) {\\n    if (h) l.href = p + conn + ss + '?' + q + '&' + h;\\n  } else if (l.pathname != p && h) {\\n    l.href = p + l.hash;\\n  }\\n  if (h) {\\ndocument.getElementById('fjfe-click-wrapper').style.display = 'none';\\n  }\\n})();\\n</script><div class=\"g-section g-tpl-75-25 g-split\" id=\"gf-head\"><div class=\"g-unit g-first\"><div class=\"fjfe-logo\"><a href=\"/finance/?ei=quKzV9HZEcLs0gTuibLQBQ\"><img alt=\"Google Finance\" src=\"/finance/f/logo_material-4224265490.png\"/></a></div><div class=\"fjfe-search\" id=\"gf-search\"><form action=\"/finance\" autocomplete=\"off\" method=\"get\"><input class=\"fjfe-searchbox-input\" name=\"q\" tabindex=\"1\" type=\"text\" value=\"\"/><span class=\"fjfe-searchbox-button-wrapper\"><span class=\"fjfe-searchbox-button-wrapper2\"><input class=\"fjfe-searchbox-button\" tabindex=\"2\" type=\"submit\" value=\"Get quotes\"/></span></span><input name=\"ei\" type=\"hidden\" value=\"quKzV9HZEcLs0gTuibLQBQ\"/></form></div></div><div class=\"g-unit fjfe-promo\"><div class=\"id-ad2-target\" id=\"ad2-target\"></div></div></div><div class=\"elastic\"><div class=\"g-section g-tpl-left-11p4em\" id=\"app\"><div class=\"g-unit g-first\"><div id=\"gf-nav\"><div class=\"fjfe-nav-nav\"><ul class=\"fjfe-nav\" id=\"navmenu\"><li class=\"fjfe-nav-selected\">Markets</li><li class=\"fjfe-nav-item\"><a href=\"/finance/market_news?ei=quKzV9HZEcLs0gTuibLQBQ\"><div>News</div></a></li><li class=\"fjfe-nav-item\"><a href=\"/finance/portfolio?action=view&amp;ei=quKzV9HZEcLs0gTuibLQBQ\"><div>Portfolios</div></a></li><li class=\"fjfe-nav-item\"><a href=\"/finance/stockscreener?ei=quKzV9HZEcLs0gTuibLQBQ\"><div>Stock screener</div></a></li><li class=\"fjfe-nav-item\"><a href=\"/finance/domestic_trends?ei=quKzV9HZEcLs0gTuibLQBQ\"><div>Google Domestic Trends</div></a></li></ul></div><div class=\"fjfe-recentquotes fjfe-recentquotes-noquote\"><h4>Recent Quotes <span class=\"fjfe-recentquotes-duration\">(<a href=\"//www.google.com/history/optout?hl=en\">30 days</a>)</span></h4><div class=\"fjfe-recentquotes-noquote-notification\">You have no recent quotes</div><div class=\"fjfe-recentquotes-quotes\"><div class=\"fjfe-toggle fjfe-toggle-button\"><span class=\"fjfe-chg-toggle\">chg</span> | <span class=\"fjfe-perc-toggle\">%</span></div><div class=\"fjfe-table-div\"><table class=\"fjfe-recentquotes-table\" id=\"rq\" width=\"100%\"></table></div></div></div></div></div><div class=\"g-unit\" id=\"gf-viewc\"><div class=\"fjfe-content\">\\n<div class=\"g-section sfe-break-bottom-13\">\\n<div class=\"hdg top appbar-hide\"><div class=\"g-section g-tpl-50-50 g-split\">\\n<div class=\"g-unit g-first\"><h3>Market summary</h3></div>\\n<div class=\"g-unit\">Aug 16 - Markets closed\\n</div>\\n</div></div>\\n</div>\\n<div class=\"g-section g-tpl-right-1 id-reorder\" id=\"reorder\">\\n<div class=\"g-unit g-first\">\\n<div class=\"g-c\">\\n<div class=\"sfe-break-bottom-16\" id=\"ad\">\\n<div class=\"id-ad-label invisible\" id=\"ad-label\">\\nAdvertisement</div>\\n<div class=\"id-ad-target ads-300-250\" id=\"ad-target\"></div>\\n</div>\\n<div>\\n</div>\\n<div class=\"rgt-reorder\">\\n<div id=\"portfolios\">\\n<div class=\"id-home-portfolios\" id=\"home-portfolios\">\\n</div>\\n</div><script>_tck('aft');</script>\\n<div id=\"markets\">\\n<div id=\"markets\">\\n<div class=\"hdg\"><div class=\"float\"><h3>World markets</h3></div>\\n<div class=\"gf-reorder-btn SP_menu_button\"></div>\\n</div>\\n<div class=\"sfe-section\">\\n<table class=\"quotes\" width=\"100%\"><tbody><tr>\\n<td class=\"symbol\"><a href=\"/finance?q=SHA:000001&amp;ei=quKzV9HZEcLs0gTuibLQBQ\">Shanghai\\n</a></td><td class=\"price\"><span id=\"ref_7521596_l\">3,104.09</span>\\n</td><td class=\"change\"><span class=\"chr\" id=\"ref_7521596_c\">-5.95</span> <span class=\"chr\" id=\"ref_7521596_cp\">(-0.19%)</span></td></tr><tr>\\n<td class=\"symbol\"><a href=\"/finance?q=INDEXNIKKEI:NI225&amp;ei=quKzV9HZEcLs0gTuibLQBQ\">Nikkei 225\\n</a></td><td class=\"price\"><span id=\"ref_15513676_l\">16,705.56</span>\\n</td><td class=\"change\"><span class=\"chg\" id=\"ref_15513676_c\">+109.05</span> <span class=\"chg\" id=\"ref_15513676_cp\">(0.66%)</span></td></tr><tr>\\n<td class=\"symbol\"><a href=\"/finance?q=INDEXHANGSENG:HSI&amp;ei=quKzV9HZEcLs0gTuibLQBQ\">Hang Seng Index\\n</a></td><td class=\"price\"><span id=\"ref_13414271_l\">22,963.51</span>\\n</td><td class=\"change\"><span class=\"chg\" id=\"ref_13414271_c\">+52.67</span> <span class=\"chg\" id=\"ref_13414271_cp\">(0.23%)</span></td></tr><tr>\\n<td class=\"symbol\"><a href=\"/finance?q=TPE:TAIEX&amp;ei=quKzV9HZEcLs0gTuibLQBQ\">TSEC\\n</a></td><td class=\"price\"><span id=\"ref_9947405_l\">9,094.42</span>\\n</td><td class=\"change\"><span class=\"chr\" id=\"ref_9947405_c\">-15.94</span> <span class=\"chr\" id=\"ref_9947405_cp\">(-0.17%)</span></td></tr><tr>\\n<td class=\"symbol\"><a href=\"/finance?q=INDEXFTSE:UKX&amp;ei=quKzV9HZEcLs0gTuibLQBQ\">FTSE 100\\n</a></td><td class=\"price\"><span id=\"ref_12590587_l\">6,893.92</span>\\n</td><td class=\"change\"><span class=\"chr\" id=\"ref_12590587_c\">-47.27</span> <span class=\"chr\" id=\"ref_12590587_cp\">(-0.68%)</span></td></tr><tr>\\n<td class=\"symbol\"><a href=\"/finance?q=INDEXSTOXX:SX5E&amp;ei=quKzV9HZEcLs0gTuibLQBQ\">EURO STOXX 50\\n</a></td><td class=\"price\"><span id=\"ref_7354851_l\">3,016.19</span>\\n</td><td class=\"change\"><span class=\"chr\" id=\"ref_7354851_c\">-30.46</span> <span class=\"chr\" id=\"ref_7354851_cp\">(-1.00%)</span></td></tr><tr>\\n<td class=\"symbol\"><a href=\"/finance?q=INDEXEURO:PX1&amp;ei=quKzV9HZEcLs0gTuibLQBQ\">CAC 40\\n</a></td><td class=\"price\"><span id=\"ref_9237947_l\">4,460.44</span>\\n</td><td class=\"change\"><span class=\"chr\" id=\"ref_9237947_c\">-37.42</span> <span class=\"chr\" id=\"ref_9237947_cp\">(-0.83%)</span></td></tr><tr>\\n<td class=\"symbol\"><a href=\"/finance?q=INDEXTSI:OSPTX&amp;ei=quKzV9HZEcLs0gTuibLQBQ\">S&amp;P TSX\\n</a></td><td class=\"price\"><span id=\"ref_9291235_l\">14,703.44</span>\\n</td><td class=\"change\"><span class=\"chr\" id=\"ref_9291235_c\">-73.58</span> <span class=\"chr\" id=\"ref_9291235_cp\">(-0.50%)</span></td></tr><tr>\\n<td class=\"symbol\"><a href=\"/finance?q=INDEXASX:XJO&amp;ei=quKzV9HZEcLs0gTuibLQBQ\">S&amp;P/ASX 200\\n</a></td><td class=\"price\"><span id=\"ref_14240693_l\">5,526.30</span>\\n</td><td class=\"change\"><span class=\"chr\" id=\"ref_14240693_c\">-5.70</span> <span class=\"chr\" id=\"ref_14240693_cp\">(-0.10%)</span></td></tr><tr>\\n<td class=\"symbol\"><a href=\"/finance?q=INDEXBOM:SENSEX&amp;ei=quKzV9HZEcLs0gTuibLQBQ\">BSE Sensex\\n</a></td><td class=\"price\"><span id=\"ref_15173681_l\">28,109.72</span>\\n</td><td class=\"change\"><span class=\"chg\" id=\"ref_15173681_c\">+45.11</span> <span class=\"chg\" id=\"ref_15173681_cp\">(0.16%)</span></td></tr><tr>\\n<td class=\"symbol\"><a href=\"/finance?q=TLV:T25&amp;ei=quKzV9HZEcLs0gTuibLQBQ\">TA25\\n</a></td><td class=\"price\"><span id=\"ref_835285966959493_l\">1,467.58</span>\\n</td><td class=\"change\"><span class=\"chr\" id=\"ref_835285966959493_c\">-4.87</span> <span class=\"chr\" id=\"ref_835285966959493_cp\">(-0.33%)</span></td></tr><tr></tr><tr>\\n<td class=\"symbol\"><a href=\"/finance?q=INDEXSWX:SMI&amp;ei=quKzV9HZEcLs0gTuibLQBQ\">SMI\\n</a></td><td class=\"price\"><span id=\"ref_1052581216806242_l\">8,215.45</span>\\n</td><td class=\"change\"><span class=\"chr\" id=\"ref_1052581216806242_c\">-89.83</span> <span class=\"chr\" id=\"ref_1052581216806242_cp\">(-1.08%)</span></td></tr><tr>\\n<td class=\"symbol\"><a href=\"/finance?q=INDEXVIE:ATX&amp;ei=quKzV9HZEcLs0gTuibLQBQ\">ATX\\n</a></td><td class=\"price\"><span id=\"ref_1066235873319497_l\">2,276.46</span>\\n</td><td class=\"change\"><span class=\"chr\" id=\"ref_1066235873319497_c\">-8.07</span> <span class=\"chr\" id=\"ref_1066235873319497_cp\">(-0.35%)</span></td></tr><tr>\\n<td class=\"symbol\"><a href=\"/finance?q=INDEXBVMF:IBOV&amp;ei=quKzV9HZEcLs0gTuibLQBQ\">IBOVESPA\\n</a></td><td class=\"price\"><span id=\"ref_851377182412228_l\">58,855.43</span>\\n</td><td class=\"change\"><span class=\"chr\" id=\"ref_851377182412228_c\">-290.54</span> <span class=\"chr\" id=\"ref_851377182412228_cp\">(-0.49%)</span></td></tr><tr>\\n<td class=\"symbol\"><a href=\"/finance?q=INDEXBKK:SET&amp;ei=quKzV9HZEcLs0gTuibLQBQ\">SET\\n</a></td><td class=\"price\"><span id=\"ref_192906426752897_l\">1,538.29</span>\\n</td><td class=\"change\"><span class=\"chg\" id=\"ref_192906426752897_c\">+0.77</span> <span class=\"chg\" id=\"ref_192906426752897_cp\">(0.05%)</span></td></tr><tr>\\n<td class=\"symbol\"><a href=\"/finance?q=INDEXIST:XU100&amp;ei=quKzV9HZEcLs0gTuibLQBQ\">BIST100\\n</a></td><td class=\"price\"><span id=\"ref_456528970194751_l\">77,707.13</span>\\n</td><td class=\"change\"><span class=\"chr\" id=\"ref_456528970194751_c\">-765.44</span> <span class=\"chr\" id=\"ref_456528970194751_cp\">(-0.98%)</span></td></tr><tr>\\n<td class=\"symbol\"><a href=\"/finance?q=INDEXBME:IB&amp;ei=quKzV9HZEcLs0gTuibLQBQ\">IBEX\\n</a></td><td class=\"price\"><span id=\"ref_1054681020857808_l\">8,621.70</span>\\n</td><td class=\"change\"><span class=\"chr\" id=\"ref_1054681020857808_c\">-98.90</span> <span class=\"chr\" id=\"ref_1054681020857808_cp\">(-1.13%)</span></td></tr><tr>\\n<td class=\"symbol\"><a href=\"/finance?q=WSE:WIG&amp;ei=quKzV9HZEcLs0gTuibLQBQ\">WIG\\n</a></td><td class=\"price\"><span id=\"ref_698684623076010_l\">48,463.51</span>\\n</td><td class=\"change\"><span class=\"chr\" id=\"ref_698684623076010_c\">-167.93</span> <span class=\"chr\" id=\"ref_698684623076010_cp\">(-0.35%)</span></td></tr><tr>\\n<td class=\"symbol\"><a href=\"/finance?q=TADAWUL:TASI&amp;ei=quKzV9HZEcLs0gTuibLQBQ\">TASI\\n</a></td><td class=\"price\"><span id=\"ref_1095233500396574_l\">6,328.55</span>\\n</td><td class=\"change\"><span class=\"chr\" id=\"ref_1095233500396574_c\">-29.02</span> <span class=\"chr\" id=\"ref_1095233500396574_cp\">(-0.46%)</span></td></tr><tr>\\n<td class=\"symbol\"><a href=\"/finance?q=BCBA:IAR&amp;ei=quKzV9HZEcLs0gTuibLQBQ\">MERVAL\\n</a></td><td class=\"price\"><span id=\"ref_393322345722481_l\">13,974.95</span>\\n</td><td class=\"change\"><span class=\"chr\" id=\"ref_393322345722481_c\">-218.76</span> <span class=\"chr\" id=\"ref_393322345722481_cp\">(-1.54%)</span></td></tr><tr>\\n<td class=\"symbol\"><a href=\"/finance?q=INDEXBMV:ME&amp;ei=quKzV9HZEcLs0gTuibLQBQ\">IPC\\n</a></td><td class=\"price\"><span id=\"ref_999678732197294_l\">48,351.96</span>\\n</td><td class=\"change\"><span class=\"chr\" id=\"ref_999678732197294_c\">-342.94</span> <span class=\"chr\" id=\"ref_999678732197294_cp\">(-0.70%)</span></td></tr><tr>\\n<td class=\"symbol\"><a href=\"/finance?q=IDX:COMPOSITE&amp;ei=quKzV9HZEcLs0gTuibLQBQ\">IDX Composite\\n</a></td><td class=\"price\"><span id=\"ref_218574097879841_l\">5,371.85</span>\\n</td><td class=\"change\"><span class=\"chg\" id=\"ref_218574097879841_c\">+51.29</span> <span class=\"chg\" id=\"ref_218574097879841_cp\">(0.96%)</span>\\n</td></tr></tbody></table>\\n</div>\\n</div>\\n</div>\\n<div id=\"currencies\">\\n<div id=\"currencies\">\\n<div class=\"hdg\"><div class=\"float\"><h3>Currencies</h3></div>\\n<div class=\"gf-reorder-btn SP_menu_button\"></div>\\n</div>\\n<div class=\"sfe-section\">\\n<table class=\"quotes\" width=\"100%\"><tbody><tr>\\n<td class=\"symbol\"><a href=\"/finance?q=EURUSD&amp;ei=quKzV9HZEcLs0gTuibLQBQ\">EUR/USD</a>\\n</td><td class=\"price\">1.1271\\n</td><td class=\"change chr\">-0.0005 (-0.04%)</td></tr><tr>\\n<td class=\"symbol\"><a href=\"/finance?q=USDJPY&amp;ei=quKzV9HZEcLs0gTuibLQBQ\">USD/JPY</a>\\n</td><td class=\"price\">100.6325\\n</td><td class=\"change chg\">+0.4370 (0.44%)</td></tr><tr>\\n<td class=\"symbol\"><a href=\"/finance?q=GBPUSD&amp;ei=quKzV9HZEcLs0gTuibLQBQ\">GBP/USD</a>\\n</td><td class=\"price\">1.3032\\n</td><td class=\"change chg\">+0.0004 (0.03%)</td></tr><tr>\\n<td class=\"symbol\"><a href=\"/finance?q=USDCAD&amp;ei=quKzV9HZEcLs0gTuibLQBQ\">USD/CAD</a>\\n</td><td class=\"price\">1.2872\\n</td><td class=\"change chg\">+0.0006 (0.04%)</td></tr><tr>\\n<td class=\"symbol\"><a href=\"/finance?q=USDHKD&amp;ei=quKzV9HZEcLs0gTuibLQBQ\">USD/HKD</a>\\n</td><td class=\"price\">7.7555\\n</td><td class=\"change chg\">+0.0008 (0.01%)</td></tr><tr>\\n<td class=\"symbol\"><a href=\"/finance?q=USDCNY&amp;ei=quKzV9HZEcLs0gTuibLQBQ\">USD/CNY</a>\\n</td><td class=\"price\">6.6327\\n</td><td class=\"change chg\">+0.0074 (0.11%)</td></tr><tr>\\n<td class=\"symbol\"><a href=\"/finance?q=AUDUSD&amp;ei=quKzV9HZEcLs0gTuibLQBQ\">AUD/USD</a>\\n</td><td class=\"price\">0.7673\\n</td><td class=\"change chr\">-0.0022 (-0.29%)\\n</td></tr></tbody></table>\\n</div>\\n</div>\\n</div>\\n<div id=\"bonds\">\\n<div id=\"bonds\">\\n<div class=\"hdg\"><div class=\"float\"><h3>Bonds</h3></div>\\n<div class=\"gf-reorder-btn SP_menu_button\"></div>\\n</div>\\n<div class=\"sfe-section\">\\n<table class=\"quotes\" width=\"100%\"><tbody><tr>\\n<td class=\"symbol\">3 Month\\n</td><td class=\"price\">0.27%\\n</td><td class=\"change chr\">-0.01 (-3.57%)</td></tr><tr>\\n<td class=\"symbol\">6 Month\\n</td><td class=\"price\">0.42%\\n</td><td class=\"change chb\">0.00 (0.00%)</td></tr><tr></tr><tr>\\n<td class=\"symbol\">2 Year\\n</td><td class=\"price\">0.74%\\n</td><td class=\"change chg\">+0.02 (2.78%)</td></tr><tr>\\n<td class=\"symbol\">5 Year\\n</td><td class=\"price\">1.16%\\n</td><td class=\"change chg\">+0.04 (3.57%)</td></tr><tr>\\n<td class=\"symbol\">10 Year\\n</td><td class=\"price\">1.58%\\n</td><td class=\"change chg\">+0.04 (2.60%)</td></tr><tr>\\n<td class=\"symbol\">30 Year\\n</td><td class=\"price\">2.29%\\n</td><td class=\"change chg\">+0.05 (2.23%)\\n</td></tr></tbody></table>\\n</div>\\n</div>\\n</div>\\n</div>\\n</div>\\n</div>\\n<div class=\"g-unit\">\\n<div class=\"g-c sfe-break-right g-floatfix\">\\n<div class=\"sfe-section\" id=\"summary\">\\n<div id=\"summary-news-story\">\\n<div class=\"g-section news\">\\n<div class=\"news major\" id=\"fix-w\">\\n<span class=\"name\">\\n<a href=\"http://news.google.com/news/url?sa=T&amp;ct2=us&amp;fd=S&amp;url=http://www.cbsnews.com/news/gawker-sold-to-univision-for-135-million/&amp;cid=52779181808118&amp;ei=GOKzV5HiI9KvuATwmovgBg&amp;usg=AFQjCNFcbQ2RovQrVLtXLq4FvXuzoL8qug\" id=\"n-hp-\" rel=\"nofollow\">Gawker sold to Univision for $135\\xa0million</a>\\n</span>\\n<br/>\\n<div class=\"byline\">\\n<span class=\"src\">CBS News</span> - <span class=\"date\">1 hour ago</span>\\n</div>\\n<!-- google_ad_section_end -->\\n<div class=\"snippet\">NEW YORK -- Spanish-language broadcaster Univision won an auction Tuesday for Gawker Media, which was put on the block in the aftermath of a $140 million judgment against it in the Hulk Hogan invasion-of-privacy case.</div>\\n<!-- google_ad_section_start -->\\n<div class=\"rel-article\">\\n<a href=\"http://news.google.com/news/url?sa=T&amp;ct2=us&amp;fd=S&amp;url=http://www.nytimes.com/2016/08/17/business/media/gawker-sale.html&amp;cid=52779181808118&amp;ei=GOKzV5HiI9KvuATwmovgBg&amp;usg=AFQjCNFRRlz1-960PYDJKlKhoa4ac8YYZA\" id=\"n-hp-\" rel=\"nofollow\">Univision's $135 Million Bid Is Said to Win Auction for Bankrupt Gawker</a>\\xa0\\xa0<span class=\"byline\">\\n<span class=\"src\">New York Times</span>\\n</span></div>\\n<div class=\"rel-article\">\\n<a href=\"http://news.google.com/news/url?sa=T&amp;ct2=us&amp;fd=S&amp;url=http://www.hollywoodreporter.com/news/univision-buy-gawker-media-135m-920016&amp;cid=52779181808118&amp;ei=GOKzV5HiI9KvuATwmovgBg&amp;usg=AFQjCNENpVsjUWwT62pKjjLb4RyrIN_49A\" id=\"n-hp-\" rel=\"nofollow\">Univision to Buy Gawker Media for $135M</a>\\xa0\\xa0<span class=\"byline\">\\n<span class=\"src\">Hollywood Reporter</span>\\n</span></div>\\n<div class=\"rel-article\">\\n<span class=\"byline\">\\n<a class=\"rel\" href=\"http://news.google.com/news/url?sa=T&amp;ct2=us&amp;fd=S&amp;url=http://money.cnn.com/2016/08/16/media/gawker-sale-univision/&amp;cid=52779181808118&amp;ei=GOKzV5HiI9KvuATwmovgBg&amp;usg=AFQjCNEtvZJvnuI3qMjsG3927oozWkwcWw\" id=\"n-hp-\" rel=\"nofollow\">CNNMoney</a>\\xa0\\xa0\\n<a class=\"rel\" href=\"http://news.google.com/news/url?sa=T&amp;ct2=us&amp;fd=S&amp;url=http://www.usatoday.com/story/money/2016/08/16/gawker-sold-univision-135m/88873898/&amp;cid=52779181808118&amp;ei=GOKzV5HiI9KvuATwmovgBg&amp;usg=AFQjCNGXGWWDlL_sXjaKhlmQjfnW8qH-2g\" id=\"n-hp-\" rel=\"nofollow\">USA TODAY</a>\\xa0\\xa0\\n</span></div>\\n</div>\\n</div>\\n</div>\\n<div class=\"id-summary-chart\"><div class=\"sfe-home-chart\">\\n<div class=\"ic-chart\"><a href=\"/finance?q=INDEXDJX:.DJI,INDEXSP:.INX,INDEXNASDAQ:.IXIC&amp;ei=quKzV9HZEcLs0gTuibLQBQ\"><img alt=\"Market Chart\" class=\"id-mkt-chart\" height=\"130\" id=\"mkt-chart\" onload=\"_tck('ic')\" src=\"/finance/chart?cht=c&amp;q=INDEXDJX:.DJI,INDEXSP:.INX,INDEXNASDAQ:.IXIC&amp;tlf=12h&amp;ei=quKzV9HZEcLs0gTuibLQBQ\" width=\"250\"/></a></div>\\n</div>\\n<table id=\"sfe-mktsumm\">\\n<tr>\\n<td class=\"legend\"><img alt=\"\" class=\"SP_legend0 legend\" src=\"data:image/gif;base64,R0lGODlhAQABAIAAAP///////yH5BAEKAAEALAAAAAABAAEAAAICTAEAOw==\"/>\\n</td><td><div class=\"name bld\">\\n<a href=\"/finance?q=INDEXDJX:.DJI&amp;ei=quKzV9HZEcLs0gTuibLQBQ\">Dow Jones</a></div>\\n</td><td class=\"bld\"><span id=\"ref_983582_l\">18,552.02</span>\\n</td><td><span class=\"bld chr\" id=\"ref_983582_c\">-84.03</span>\\n</td><td><span class=\"chr\" id=\"ref_983582_cp\">(-0.45%)</span>\\n</td></tr><tr>\\n<td class=\"legend\"><img alt=\"\" class=\"SP_legend1 legend\" src=\"data:image/gif;base64,R0lGODlhAQABAIAAAP///////yH5BAEKAAEALAAAAAABAAEAAAICTAEAOw==\"/>\\n</td><td><div class=\"name bld\">\\n<a href=\"/finance?q=INDEXSP:.INX&amp;ei=quKzV9HZEcLs0gTuibLQBQ\">S&amp;P 500</a></div>\\n</td><td class=\"bld\"><span id=\"ref_626307_l\">2,178.15</span>\\n</td><td><span class=\"bld chr\" id=\"ref_626307_c\">-12.00</span>\\n</td><td><span class=\"chr\" id=\"ref_626307_cp\">(-0.55%)</span>\\n</td></tr><tr>\\n<td class=\"legend\"><img alt=\"\" class=\"SP_legend2 legend\" src=\"data:image/gif;base64,R0lGODlhAQABAIAAAP///////yH5BAEKAAEALAAAAAABAAEAAAICTAEAOw==\"/>\\n</td><td><div class=\"name bld\">\\n<a href=\"/finance?q=INDEXNASDAQ:.IXIC&amp;ei=quKzV9HZEcLs0gTuibLQBQ\">Nasdaq</a></div>\\n</td><td class=\"bld\"><span id=\"ref_13756934_l\">5,227.11</span>\\n</td><td><span class=\"bld chr\" id=\"ref_13756934_c\">-34.90</span>\\n</td><td><span class=\"chr\" id=\"ref_13756934_cp\">(-0.66%)</span>\\n</td></tr></table>\\n</div>\\n</div>\\n<div class=\"sfe-section clf\"></div>\\n<div class=\"mid-reorder\">\\n<div id=\"mk-news\">\\n<div class=\"hdg\">\\n<h3>Top stories</h3>\\n<div class=\"gf-reorder-btn SP_menu_button\"></div>\\n</div>\\n<div class=\"goog-tab-bar hdg id-news-tabs\" id=\"news-tabs\">\\n<div class=\"goog-tab goog-tab-selected\">\\n<a class=\"t\" id=\"market-news-title\"><b class=\"t\"><b class=\"t\">Market</b></b></a></div>\\n</div>\\n<div class=\"goog-tabpane-clear\"></div>\\n<div class=\"news sfe-section-major id-market-news\" id=\"market-news\">\\n<div class=\"g-section g-tpl-right-14 g-floatfix\">\\n<div class=\"g-unit g-first\">\\n<div id=\"scroll-container\"></div>\\n</div>\\n<div class=\"g-unit\">\\n<div class=\"streaming id-market-news-stream\" id=\"market-news-stream\">\\n<div class=\"cluster\">\\n<div>\\n<a class=\"title\" href=\"http://news.google.com/news/url?sa=T&amp;ct2=us&amp;fd=S&amp;url=http://www.nytimes.com/aponline/2016/08/16/world/asia/ap-as-macau-wynn.html&amp;cid=52779181000451&amp;ei=GOKzV5HiI9KvuATwmovgBg&amp;usg=AFQjCNGtRWsAOjJcu9syryhpJjD2pBJnTw\" id=\"n-hp-\" rel=\"nofollow\">Casino Mogul Wynn Readies Lavish New Macau Resort</a></div>\\n<div class=\"byline\">\\n<span class=\"src\">New York Times</span>\\n<span class=\"date\" tm=\"1471403475\"> - 54 minutes ago</span></div>\\n<!-- google_ad_section_end -->\\n<div class=\"snippet\">MACAU - From a pair of giant golden dragons encircling a vast man-made lagoon to phoenix and cloud motifs inside, Steve Wynn's Macau resort brims with auspicious Chinese symbolism.</div>\\n<!-- google_ad_section_start -->\\n</div>\\n<div class=\"cluster\">\\n<div>\\n<a class=\"title\" href=\"http://news.google.com/news/url?sa=T&amp;ct2=us&amp;fd=S&amp;url=http://www.wsj.com/articles/health-law-setback-becomes-campaign-fodder-1471393164&amp;cid=52779181606256&amp;ei=GOKzV5HiI9KvuATwmovgBg&amp;usg=AFQjCNFhM8xPMdlTEq7kw8YtZGIOBXtGJA\" id=\"n-hp-\" rel=\"nofollow\">Health-Law Setback Becomes Campaign Fodder</a></div>\\n<div class=\"byline\">\\n<span class=\"src\">Wall Street Journal</span>\\n<span class=\"date\" tm=\"1471393198\"> - 3 hours ago</span></div>\\n<!-- google_ad_section_end -->\\n<div class=\"snippet\">The decision by the nation's third-largest health insurer to pull out of the Affordable Care Act's exchanges in nearly a dozen states is a double whammy to President Barack Obama's signature health law, increasing financial strains on the program while\\xa0...</div>\\n<!-- google_ad_section_start -->\\n</div>\\n<div class=\"cluster\">\\n<div>\\n<a class=\"title\" href=\"http://news.google.com/news/url?sa=T&amp;ct2=us&amp;fd=S&amp;url=http://www.reuters.com/article/us-global-markets-idUSKCN10S03F&amp;cid=52779181668229&amp;ei=GOKzV5HiI9KvuATwmovgBg&amp;usg=AFQjCNG82KlNecHQI4tBpD0sRLpMnxyHyg\" id=\"n-hp-\" rel=\"nofollow\">Asian stocks ease off one-year high after Fed rate comments</a></div>\\n<div class=\"byline\">\\n<span class=\"src\">Reuters</span>\\n<span class=\"date\" tm=\"1471395172\"> - 3 hours ago</span></div>\\n<!-- google_ad_section_end -->\\n<div class=\"snippet\">People are reflected in a screen displaying the Nikkei average outside a brokerage in Tokyo, Japan April 19, 2016. REUTERS/Thomas Peter.</div>\\n<!-- google_ad_section_start -->\\n</div>\\n<div class=\"cluster\">\\n<div>\\n<a class=\"title\" href=\"http://news.google.com/news/url?sa=T&amp;ct2=us&amp;fd=S&amp;url=http://www.bloomberg.com/news/articles/2016-08-16/barnes-noble-ousts-ceo-boire-postpones-riggio-s-retirement&amp;cid=52779183230086&amp;ei=GOKzV5HiI9KvuATwmovgBg&amp;usg=AFQjCNFiSy3-ZEZsVag1Q3BSr0_mPrLAFQ\" id=\"n-hp-\" rel=\"nofollow\">Barnes &amp; Noble Ousts Its CEO After Less Than a Year on the Job</a></div>\\n<div class=\"byline\">\\n<span class=\"src\">Bloomberg</span>\\n<span class=\"date\" tm=\"1471381317\"> - 7 hours ago</span></div>\\n<!-- google_ad_section_end -->\\n<div class=\"snippet\">Barnes &amp; Noble Inc. ousted Chief Executive Officer Ron Boire after less than a year on the job, saying he wasn't the right person to revamp a bookstore chain struggling to compete with Amazon.</div>\\n<!-- google_ad_section_start -->\\n</div>\\n<div class=\"cluster\">\\n<div>\\n<a class=\"title\" href=\"http://news.google.com/news/url?sa=T&amp;ct2=us&amp;fd=S&amp;url=http://www.chicagotribune.com/lifestyles/travel/ct-airline-computer-outages-what-to-know-20160816-story.html&amp;cid=52779182130791&amp;ei=GOKzV5HiI9KvuATwmovgBg&amp;usg=AFQjCNG2Nd1aZ-sPWBSi25iOMQhz_h8jsQ\" id=\"n-hp-\" rel=\"nofollow\">Airline computer outages like Delta's will likely happen again. Here's what to ...</a></div>\\n<div class=\"byline\">\\n<span class=\"src\">Chicago Tribune</span>\\n<span class=\"date\" tm=\"1471360478\"> - 12 hours ago</span></div>\\n<!-- google_ad_section_end -->\\n<div class=\"snippet\">Travelers check the Delta departures board at LaGuardia Airport on Aug. 8, 2016, in the Queens borough of New York City. Delta flights around the globe were grounded and delayed because of a system outage.</div>\\n<!-- google_ad_section_start -->\\n</div></div>\\n</div>\\n</div>\\n<div class=\"section-link\"><a href=\"/finance/market_news?ei=quKzV9HZEcLs0gTuibLQBQ\">More market news \\xbb\\n</a></div>\\n</div>\\n</div>\\n<div id=\"trend\">\\n<div class=\"hdg\">\\n<h3>Trends</h3>\\n<div class=\"gf-reorder-btn SP_menu_button hide\"></div>\\n</div>\\n<div class=\"hdg goog-tab-bar id-trends\" id=\"trends\">\\n<div class=\"goog-tab goog-tab-selected\"><a class=\"t\" id=\"l_tm_zeitgeist\"><b class=\"t\"><b class=\"t\">Popular</b></b></a></div>\\n<div class=\"goog-tab\"><a class=\"t\" id=\"l_tm_price\"><b class=\"t\"><b class=\"t\">Price</b></b></a></div>\\n<div class=\"goog-tab\"><a class=\"t\" id=\"l_tm_mcap\"><b class=\"t\"><b class=\"t\">Mkt Cap</b></b></a></div>\\n<div class=\"goog-tab\"><a class=\"t\" id=\"l_tm_volume\"><b class=\"t\"><b class=\"t\">Vol</b></b></a></div>\\n</div>\\n<div class=\"goog-tab-bar-clear\"></div>\\n<div class=\"id-topmovers sfe-section-major\" id=\"topmovers\"><div class=\"g-wrap\">\\n<div class=\"tm_category id-tm_price_0\" id=\"tm_price_0\" style=\"display:none\">\\n<table cellpadding=\"3\">\\n<tr class=\"colHeader\">\\n<td class=\"title chg\">Gainers</td><td class=\"change\">Change\\n</td><td class=\"mktCap\">Mkt Cap\\n</td></tr>\\n<tr>\\n<td class=\"symbol\">\\n<a href=\"/finance?q=NASDAQ:GK&amp;ei=quKzV9HZEcLs0gTuibLQBQ\" title=\"GK\">GK</a>\\n</td><td class=\"name\">\\n<a href=\"/finance?q=NASDAQ:GK&amp;ei=quKzV9HZEcLs0gTuibLQBQ\">G&amp;K Services Inc</a>\\n</td><td class=\"change chg\">17.74%\\n</td><td class=\"mktCap\">1.94B\\n</td></tr><tr>\\n<td class=\"symbol\">\\n<a href=\"/finance?q=NASDAQ:QLYS&amp;ei=quKzV9HZEcLs0gTuibLQBQ\" title=\"QLYS\">QLYS</a>\\n</td><td class=\"name\">\\n<a href=\"/finance?q=NASDAQ:QLYS&amp;ei=quKzV9HZEcLs0gTuibLQBQ\">Qualys Inc</a>\\n</td><td class=\"change chg\">7.51%\\n</td><td class=\"mktCap\">1.18B\\n</td></tr><tr>\\n<td class=\"symbol\">\\n<a href=\"/finance?q=NYSE:CHK&amp;ei=quKzV9HZEcLs0gTuibLQBQ\" title=\"CHK\">CHK</a>\\n</td><td class=\"name\">\\n<a href=\"/finance?q=NYSE:CHK&amp;ei=quKzV9HZEcLs0gTuibLQBQ\">Chesapeake Energy Corporation</a>\\n</td><td class=\"change chg\">7.45%\\n</td><td class=\"mktCap\">5.03B\\n</td></tr><tr>\\n<td class=\"symbol\">\\n<a href=\"/finance?q=NYSE:CHK-D&amp;ei=quKzV9HZEcLs0gTuibLQBQ\" title=\"CHK-D\">CHK-D</a>\\n</td><td class=\"name\">\\n<a href=\"/finance?q=NYSE:CHK-D&amp;ei=quKzV9HZEcLs0gTuibLQBQ\">Chesapeake Energy Corporation</a>\\n</td><td class=\"change chg\">7.06%\\n</td><td class=\"mktCap\">4.94B\\n</td></tr><tr>\\n<td class=\"symbol\">\\n<a href=\"/finance?q=NYSE:DKS&amp;ei=quKzV9HZEcLs0gTuibLQBQ\" title=\"DKS\">DKS</a>\\n</td><td class=\"name\">\\n<a href=\"/finance?q=NYSE:DKS&amp;ei=quKzV9HZEcLs0gTuibLQBQ\">Dicks Sporting Goods Inc</a>\\n</td><td class=\"change chg\">7.05%\\n</td><td class=\"mktCap\">6.72B\\n</td></tr><tr><td style=\"height:.7em\">\\n</td></tr><tr class=\"colHeader\">\\n<td class=\"title chr\">Losers</td><td class=\"change\">Change\\n</td><td class=\"mktCap\">Mkt Cap\\n</td></tr>\\n<tr>\\n<td class=\"symbol\">\\n<a href=\"/finance?q=NASDAQ:HAIN&amp;ei=quKzV9HZEcLs0gTuibLQBQ\" title=\"HAIN\">HAIN</a>\\n</td><td class=\"name\">\\n<a href=\"/finance?q=NASDAQ:HAIN&amp;ei=quKzV9HZEcLs0gTuibLQBQ\">Hain Celestial Group Inc</a>\\n</td><td class=\"change chr\">-26.31%\\n</td><td class=\"mktCap\">3.93B\\n</td></tr><tr>\\n<td class=\"symbol\">\\n<a href=\"/finance?q=NASDAQ:ALRM&amp;ei=quKzV9HZEcLs0gTuibLQBQ\" title=\"ALRM\">ALRM</a>\\n</td><td class=\"name\">\\n<a href=\"/finance?q=NASDAQ:ALRM&amp;ei=quKzV9HZEcLs0gTuibLQBQ\">AlarmCom Hldg Inc</a>\\n</td><td class=\"change chr\">-9.02%\\n</td><td class=\"mktCap\">1.46B\\n</td></tr><tr>\\n<td class=\"symbol\">\\n<a href=\"/finance?q=NASDAQ:ONCE&amp;ei=quKzV9HZEcLs0gTuibLQBQ\" title=\"ONCE\">ONCE</a>\\n</td><td class=\"name\">\\n<a href=\"/finance?q=NASDAQ:ONCE&amp;ei=quKzV9HZEcLs0gTuibLQBQ\">Spark Therapeutics Inc</a>\\n</td><td class=\"change chr\">-7.17%\\n</td><td class=\"mktCap\">1.87B\\n</td></tr><tr>\\n<td class=\"symbol\">\\n<a href=\"/finance?q=NASDAQ:VRSN&amp;ei=quKzV9HZEcLs0gTuibLQBQ\" title=\"VRSN\">VRSN</a>\\n</td><td class=\"name\">\\n<a href=\"/finance?q=NASDAQ:VRSN&amp;ei=quKzV9HZEcLs0gTuibLQBQ\">Verisign, Inc.</a>\\n</td><td class=\"change chr\">-7.14%\\n</td><td class=\"mktCap\">7.97B\\n</td></tr><tr>\\n<td class=\"symbol\">\\n<a href=\"/finance?q=NYSE:CMCM&amp;ei=quKzV9HZEcLs0gTuibLQBQ\" title=\"CMCM\">CMCM</a>\\n</td><td class=\"name\">\\n<a href=\"/finance?q=NYSE:CMCM&amp;ei=quKzV9HZEcLs0gTuibLQBQ\">Cheetah Mobile Inc (ADR)</a>\\n</td><td class=\"change chr\">-7.01%\\n</td><td class=\"mktCap\">1.84B\\n</td></tr><tr><td style=\"height:.7em\">\\n</td></tr></table>\\n<div class=\"dis\">Excludes stocks with mkt cap less than $1B.\\n<a class=\"secondary\" href=\"//www.google.com/support/finance/bin/answer.py?answer=71891&amp;hl=en-US\">Learn more</a></div></div>\\n<div class=\"tm_category id-tm_mcap_0\" id=\"tm_mcap_0\" style=\"display:none\">\\n<table cellpadding=\"3\">\\n<tr class=\"colHeader\">\\n<td class=\"title chg\">Gainers</td><td class=\"change\">Change\\n</td><td class=\"mktCap\">Mkt Cap\\n</td></tr>\\n<tr>\\n<td class=\"symbol\">\\n<a href=\"/finance?q=NYSE:RDS.B&amp;ei=quKzV9HZEcLs0gTuibLQBQ\" title=\"RDS.B\">RDS.B</a>\\n</td><td class=\"name\">\\n<a href=\"/finance?q=NYSE:RDS.B&amp;ei=quKzV9HZEcLs0gTuibLQBQ\">Royal Dutch Shell plc (ADR)</a>\\n</td><td class=\"change chg\">1.42%\\n</td><td class=\"mktCap\">209.90B\\n</td></tr><tr>\\n<td class=\"symbol\">\\n<a href=\"/finance?q=NYSE:RDS.A&amp;ei=quKzV9HZEcLs0gTuibLQBQ\" title=\"RDS.A\">RDS.A</a>\\n</td><td class=\"name\">\\n<a href=\"/finance?q=NYSE:RDS.A&amp;ei=quKzV9HZEcLs0gTuibLQBQ\">Royal Dutch Shell plc (ADR)</a>\\n</td><td class=\"change chg\">1.36%\\n</td><td class=\"mktCap\">209.14B\\n</td></tr><tr>\\n<td class=\"symbol\">\\n<a href=\"/finance?q=NYSE:BAC&amp;ei=quKzV9HZEcLs0gTuibLQBQ\" title=\"BAC\">BAC</a>\\n</td><td class=\"name\">\\n<a href=\"/finance?q=NYSE:BAC&amp;ei=quKzV9HZEcLs0gTuibLQBQ\">Bank of America Corp</a>\\n</td><td class=\"change chg\">1.00%\\n</td><td class=\"mktCap\">155.95B\\n</td></tr><tr>\\n<td class=\"symbol\">\\n<a href=\"/finance?q=NYSE:TOT&amp;ei=quKzV9HZEcLs0gTuibLQBQ\" title=\"TOT\">TOT</a>\\n</td><td class=\"name\">\\n<a href=\"/finance?q=NYSE:TOT&amp;ei=quKzV9HZEcLs0gTuibLQBQ\">Total SA (ADR)</a>\\n</td><td class=\"change chg\">1.19%\\n</td><td class=\"mktCap\">123.34B\\n</td></tr><tr>\\n<td class=\"symbol\">\\n<a href=\"/finance?q=NASDAQ:INTC&amp;ei=quKzV9HZEcLs0gTuibLQBQ\" title=\"INTC\">INTC</a>\\n</td><td class=\"name\">\\n<a href=\"/finance?q=NASDAQ:INTC&amp;ei=quKzV9HZEcLs0gTuibLQBQ\">Intel Corporation</a>\\n</td><td class=\"change chg\">0.86%\\n</td><td class=\"mktCap\">168.22B\\n</td></tr><tr><td style=\"height:.7em\">\\n</td></tr><tr class=\"colHeader\">\\n<td class=\"title chr\">Losers</td><td class=\"change\">Change\\n</td><td class=\"mktCap\">Mkt Cap\\n</td></tr>\\n<tr>\\n<td class=\"symbol\">\\n<a href=\"/finance?q=NYSE:T&amp;ei=quKzV9HZEcLs0gTuibLQBQ\" title=\"T\">T</a>\\n</td><td class=\"name\">\\n<a href=\"/finance?q=NYSE:T&amp;ei=quKzV9HZEcLs0gTuibLQBQ\">AT&amp;T Inc.</a>\\n</td><td class=\"change chr\">-2.46%\\n</td><td class=\"mktCap\">256.59B\\n</td></tr><tr>\\n<td class=\"symbol\">\\n<a href=\"/finance?q=NYSE:JNJ&amp;ei=quKzV9HZEcLs0gTuibLQBQ\" title=\"JNJ\">JNJ</a>\\n</td><td class=\"name\">\\n<a href=\"/finance?q=NYSE:JNJ&amp;ei=quKzV9HZEcLs0gTuibLQBQ\">Johnson &amp; Johnson</a>\\n</td><td class=\"change chr\">-1.62%\\n</td><td class=\"mktCap\">326.78B\\n</td></tr><tr>\\n<td class=\"symbol\">\\n<a href=\"/finance?q=NYSE:CHL&amp;ei=quKzV9HZEcLs0gTuibLQBQ\" title=\"CHL\">CHL</a>\\n</td><td class=\"name\">\\n<a href=\"/finance?q=NYSE:CHL&amp;ei=quKzV9HZEcLs0gTuibLQBQ\">China Mobile Ltd. (ADR)</a>\\n</td><td class=\"change chr\">-1.68%\\n</td><td class=\"mktCap\">257.70B\\n</td></tr><tr>\\n<td class=\"symbol\">\\n<a href=\"/finance?q=NASDAQ:GOOG&amp;ei=quKzV9HZEcLs0gTuibLQBQ\" title=\"GOOG\">GOOG</a>\\n</td><td class=\"name\">\\n<a href=\"/finance?q=NASDAQ:GOOG&amp;ei=quKzV9HZEcLs0gTuibLQBQ\">Alphabet Inc</a>\\n</td><td class=\"change chr\">-0.68%\\n</td><td class=\"mktCap\">541.60B\\n</td></tr><tr>\\n<td class=\"symbol\">\\n<a href=\"/finance?q=NYSE:VZ&amp;ei=quKzV9HZEcLs0gTuibLQBQ\" title=\"VZ\">VZ</a>\\n</td><td class=\"name\">\\n<a href=\"/finance?q=NYSE:VZ&amp;ei=quKzV9HZEcLs0gTuibLQBQ\">Verizon Communications Inc.</a>\\n</td><td class=\"change chr\">-1.59%\\n</td><td class=\"mktCap\">214.91B\\n</td></tr><tr><td style=\"height:.7em\">\\n</td></tr></table>\\n<div class=\"dis\">Excludes stocks with mkt cap less than $1B.\\n<a class=\"secondary\" href=\"//www.google.com/support/finance/bin/answer.py?answer=71891&amp;hl=en-US\">Learn more</a></div></div>\\n<div class=\"tm_category id-tm_volume_0\" id=\"tm_volume_0\" style=\"display:none\">\\n<table cellpadding=\"3\">\\n<tr class=\"colHeader\">\\n<td class=\"title chg\">Leaders</td><td class=\"volume\">Volume\\n</td><td class=\"mktCap\">Mkt Cap\\n</td></tr>\\n<tr>\\n<td class=\"symbol\">\\n<a href=\"/finance?q=NYSE:BAC&amp;ei=quKzV9HZEcLs0gTuibLQBQ\" title=\"BAC\">BAC</a>\\n</td><td class=\"name\">\\n<a href=\"/finance?q=NYSE:BAC&amp;ei=quKzV9HZEcLs0gTuibLQBQ\">Bank of America Corp</a>\\n</td><td class=\"volume\">80.31M\\n</td><td class=\"mktCap\">155.95B\\n</td></tr><tr>\\n<td class=\"symbol\">\\n<a href=\"/finance?q=NYSE:CHK&amp;ei=quKzV9HZEcLs0gTuibLQBQ\" title=\"CHK\">CHK</a>\\n</td><td class=\"name\">\\n<a href=\"/finance?q=NYSE:CHK&amp;ei=quKzV9HZEcLs0gTuibLQBQ\">Chesapeake Energy Corporation</a>\\n</td><td class=\"volume\">77.07M\\n</td><td class=\"mktCap\">5.03B\\n</td></tr><tr>\\n<td class=\"symbol\">\\n<a href=\"/finance?q=NASDAQ:SIRI&amp;ei=quKzV9HZEcLs0gTuibLQBQ\" title=\"SIRI\">SIRI</a>\\n</td><td class=\"name\">\\n<a href=\"/finance?q=NASDAQ:SIRI&amp;ei=quKzV9HZEcLs0gTuibLQBQ\">Sirius XM Holdings Inc.</a>\\n</td><td class=\"volume\">54.07M\\n</td><td class=\"mktCap\">20.66B\\n</td></tr><tr>\\n<td class=\"symbol\">\\n<a href=\"/finance?q=NASDAQ:HBAN&amp;ei=quKzV9HZEcLs0gTuibLQBQ\" title=\"HBAN\">HBAN</a>\\n</td><td class=\"name\">\\n<a href=\"/finance?q=NASDAQ:HBAN&amp;ei=quKzV9HZEcLs0gTuibLQBQ\">Huntington Bancshares Incorporated</a>\\n</td><td class=\"volume\">41.80M\\n</td><td class=\"mktCap\">7.87B\\n</td></tr><tr>\\n<td class=\"symbol\">\\n<a href=\"/finance?q=NASDAQ:HAIN&amp;ei=quKzV9HZEcLs0gTuibLQBQ\" title=\"HAIN\">HAIN</a>\\n</td><td class=\"name\">\\n<a href=\"/finance?q=NASDAQ:HAIN&amp;ei=quKzV9HZEcLs0gTuibLQBQ\">Hain Celestial Group Inc</a>\\n</td><td class=\"volume\">41.61M\\n</td><td class=\"mktCap\">3.93B\\n</td></tr><tr>\\n<td class=\"symbol\">\\n<a href=\"/finance?q=NASDAQ:AAPL&amp;ei=quKzV9HZEcLs0gTuibLQBQ\" title=\"AAPL\">AAPL</a>\\n</td><td class=\"name\">\\n<a href=\"/finance?q=NASDAQ:AAPL&amp;ei=quKzV9HZEcLs0gTuibLQBQ\">Apple Inc.</a>\\n</td><td class=\"volume\">33.79M\\n</td><td class=\"mktCap\">596.47B\\n</td></tr><tr>\\n<td class=\"symbol\">\\n<a href=\"/finance?q=NYSE:T&amp;ei=quKzV9HZEcLs0gTuibLQBQ\" title=\"T\">T</a>\\n</td><td class=\"name\">\\n<a href=\"/finance?q=NYSE:T&amp;ei=quKzV9HZEcLs0gTuibLQBQ\">AT&amp;T Inc.</a>\\n</td><td class=\"volume\">31.65M\\n</td><td class=\"mktCap\">256.59B\\n</td></tr><tr>\\n<td class=\"symbol\">\\n<a href=\"/finance?q=NYSE:VIPS&amp;ei=quKzV9HZEcLs0gTuibLQBQ\" title=\"VIPS\">VIPS</a>\\n</td><td class=\"name\">\\n<a href=\"/finance?q=NYSE:VIPS&amp;ei=quKzV9HZEcLs0gTuibLQBQ\">Vipshop Holdings Ltd - ADR</a>\\n</td><td class=\"volume\">28.28M\\n</td><td class=\"mktCap\">9.72B\\n</td></tr><tr>\\n<td class=\"symbol\">\\n<a href=\"/finance?q=NYSE:BABA&amp;ei=quKzV9HZEcLs0gTuibLQBQ\" title=\"BABA\">BABA</a>\\n</td><td class=\"name\">\\n<a href=\"/finance?q=NYSE:BABA&amp;ei=quKzV9HZEcLs0gTuibLQBQ\">Alibaba Group Holding Ltd</a>\\n</td><td class=\"volume\">27.51M\\n</td><td class=\"mktCap\">236.50B\\n</td></tr><tr>\\n<td class=\"symbol\">\\n<a href=\"/finance?q=NASDAQ:AMD&amp;ei=quKzV9HZEcLs0gTuibLQBQ\" title=\"AMD\">AMD</a>\\n</td><td class=\"name\">\\n<a href=\"/finance?q=NASDAQ:AMD&amp;ei=quKzV9HZEcLs0gTuibLQBQ\">Advanced Micro Devices, Inc.</a>\\n</td><td class=\"volume\">26.77M\\n</td><td class=\"mktCap\">5.57B\\n</td></tr><tr><td colspan=\"3\" style=\"height:.7em\">\\n</td></tr></table>\\n<div class=\"dis\">Excludes stocks with mkt cap less than $1B.\\n<a class=\"secondary\" href=\"//www.google.com/support/finance/bin/answer.py?answer=71891&amp;hl=en-US\">Learn more</a></div></div>\\n<div class=\"tm_category id-tm_zeitgeist\" id=\"tm_zeitgeist\">\\n<table cellpadding=\"3\">\\n<tr class=\"colHeader\">\\n<td class=\"grey\">Popular searches on Google</td><td class=\"change\">Change\\n</td><td class=\"mktCap\">Mkt Cap\\n</td></tr>\\n<tr>\\n<td class=\"symbol\">\\n<a href=\"/finance?q=NYSE:FRO&amp;ei=quKzV9HZEcLs0gTuibLQBQ\" title=\"FRO\">FRO</a>\\n</td><td class=\"name\">\\n<a href=\"/finance?q=NYSE:FRO&amp;ei=quKzV9HZEcLs0gTuibLQBQ\">Frontline Ltd.</a>\\n</td><td class=\"change chr\">-0.71%\\n</td><td class=\"mktCap\">10.84B\\n</td></tr><tr><td style=\"height:.7em\">\\n</td></tr></table>\\n</div>\\n</div></div>\\n</div>\\n<div id=\"country-widget\">\\n<div class=\"hdg\">\\n<div class=\"float\"><h3>Sector summary</h3></div>\\n<div class=\"gf-reorder-btn SP_menu_button hide\"></div>\\n</div>\\n<div class=\"id-secperf sfe-section-major\" id=\"secperf\">\\n<table cellpadding=\"0\" cellspacing=\"0\" width=\"100%\">\\n<tr class=\"colHeader\">\\n<td style=\"text-align:left; padding-right:0.5em\">Sector</td>\\n<td style=\"padding-right:1em;\">Change</td>\\n<td colspan=\"2\" style=\"text-align:center\">% down / up</td>\\n</tr>\\n<tr>\\n<td style=\"text-align:left; padding-right:0.5em\"><a href=\"/finance?catid=TRBC:50&amp;ei=quKzV9HZEcLs0gTuibLQBQ\">Energy</a></td>\\n<td style=\"width:20%; padding-right:1em\">\\n<span class=\"chg\">+0.39%</span>\\n</td>\\n<td style=\"width:35%\">\\n<table cellpadding=\"0\" cellspacing=\"0\" class=\"bars\" width=\"100%\">\\n<tr style=\"height:0.9em\">\\n<td style=\"background-color:#FFFFFF; width:51%\"></td>\\n<td class=\"chrSectorDark\" style=\"width:12%\" title=\"10% companies in Energy down by more than 2%\"></td>\\n<td class=\"chrSectorLight\" style=\"width:37%; border-right:1px #CCB3AB solid\" title=\"31% companies in Energy down between 0% and 2%\"></td>\\n</tr>\\n</table>\\n</td>\\n<td style=\"width:25%\">\\n<table cellpadding=\"0\" cellspacing=\"0\" class=\"bars\" width=\"100%\">\\n<tr style=\"height:0.9em\">\\n<td class=\"chgSectorLight\" style=\"width:74%;\" title=\"44% companies in Energy are up between 0% and 2%\"></td>\\n<td class=\"chgSectorDark\" style=\"width:25%\" title=\"15% companies in Energy are up more than 2%\"></td>\\n<td style=\"background-color:#FFFFFF; width:1%\"></td>\\n</tr>\\n</table>\\n</td>\\n</tr>\\n<tr>\\n<td style=\"text-align:left; padding-right:0.5em\"><a href=\"/finance?catid=TRBC:51&amp;ei=quKzV9HZEcLs0gTuibLQBQ\">Basic Materials</a></td>\\n<td style=\"width:20%; padding-right:1em\">\\n<span class=\"chr\">-0.01%</span>\\n</td>\\n<td style=\"width:35%\">\\n<table cellpadding=\"0\" cellspacing=\"0\" class=\"bars\" width=\"100%\">\\n<tr style=\"height:0.9em\">\\n<td style=\"background-color:#FFFFFF; width:24%\"></td>\\n<td class=\"chrSectorDark\" style=\"width:15%\" title=\"13% companies in Basic Materials down by more than 2%\"></td>\\n<td class=\"chrSectorLight\" style=\"width:61%; border-right:1px #CCB3AB solid\" title=\"51% companies in Basic Materials down between 0% and 2%\"></td>\\n</tr>\\n</table>\\n</td>\\n<td style=\"width:25%\">\\n<table cellpadding=\"0\" cellspacing=\"0\" class=\"bars\" width=\"100%\">\\n<tr style=\"height:0.9em\">\\n<td class=\"chgSectorLight\" style=\"width:47%;\" title=\"28% companies in Basic Materials are up between 0% and 2%\"></td>\\n<td class=\"chgSectorDark\" style=\"width:13%\" title=\"8% companies in Basic Materials are up more than 2%\"></td>\\n<td style=\"background-color:#FFFFFF; width:40%\"></td>\\n</tr>\\n</table>\\n</td>\\n</tr>\\n<tr>\\n<td style=\"text-align:left; padding-right:0.5em\"><a href=\"/finance?catid=TRBC:52&amp;ei=quKzV9HZEcLs0gTuibLQBQ\">Industrials</a></td>\\n<td style=\"width:20%; padding-right:1em\">\\n<span class=\"chr\">-0.45%</span>\\n</td>\\n<td style=\"width:35%\">\\n<table cellpadding=\"0\" cellspacing=\"0\" class=\"bars\" width=\"100%\">\\n<tr style=\"height:0.9em\">\\n<td style=\"background-color:#FFFFFF; width:23%\"></td>\\n<td class=\"chrSectorDark\" style=\"width:14%\" title=\"12% companies in Industrials down by more than 2%\"></td>\\n<td class=\"chrSectorLight\" style=\"width:63%; border-right:1px #CCB3AB solid\" title=\"53% companies in Industrials down between 0% and 2%\"></td>\\n</tr>\\n</table>\\n</td>\\n<td style=\"width:25%\">\\n<table cellpadding=\"0\" cellspacing=\"0\" class=\"bars\" width=\"100%\">\\n<tr style=\"height:0.9em\">\\n<td class=\"chgSectorLight\" style=\"width:47%;\" title=\"28% companies in Industrials are up between 0% and 2%\"></td>\\n<td class=\"chgSectorDark\" style=\"width:11%\" title=\"7% companies in Industrials are up more than 2%\"></td>\\n<td style=\"background-color:#FFFFFF; width:42%\"></td>\\n</tr>\\n</table>\\n</td>\\n</tr>\\n<tr>\\n<td style=\"text-align:left; padding-right:0.5em\"><a href=\"/finance?catid=TRBC:53&amp;ei=quKzV9HZEcLs0gTuibLQBQ\">Cyclical Cons. Goods ...</a></td>\\n<td style=\"width:20%; padding-right:1em\">\\n<span class=\"chr\">-0.57%</span>\\n</td>\\n<td style=\"width:35%\">\\n<table cellpadding=\"0\" cellspacing=\"0\" class=\"bars\" width=\"100%\">\\n<tr style=\"height:0.9em\">\\n<td style=\"background-color:#FFFFFF; width:24%\"></td>\\n<td class=\"chrSectorDark\" style=\"width:14%\" title=\"12% companies in Cyclical Cons. Goods &amp; Services down by more than 2%\"></td>\\n<td class=\"chrSectorLight\" style=\"width:62%; border-right:1px #CCB3AB solid\" title=\"52% companies in Cyclical Cons. Goods &amp; Services down between 0% and 2%\"></td>\\n</tr>\\n</table>\\n</td>\\n<td style=\"width:25%\">\\n<table cellpadding=\"0\" cellspacing=\"0\" class=\"bars\" width=\"100%\">\\n<tr style=\"height:0.9em\">\\n<td class=\"chgSectorLight\" style=\"width:45%;\" title=\"27% companies in Cyclical Cons. Goods &amp; Services are up between 0% and 2%\"></td>\\n<td class=\"chgSectorDark\" style=\"width:15%\" title=\"9% companies in Cyclical Cons. Goods &amp; Services are up more than 2%\"></td>\\n<td style=\"background-color:#FFFFFF; width:40%\"></td>\\n</tr>\\n</table>\\n</td>\\n</tr>\\n<tr>\\n<td style=\"text-align:left; padding-right:0.5em\"><a href=\"/finance?catid=TRBC:54&amp;ei=quKzV9HZEcLs0gTuibLQBQ\">Non-Cyclical Cons. Goods...</a></td>\\n<td style=\"width:20%; padding-right:1em\">\\n<span class=\"chr\">-0.04%</span>\\n</td>\\n<td style=\"width:35%\">\\n<table cellpadding=\"0\" cellspacing=\"0\" class=\"bars\" width=\"100%\">\\n<tr style=\"height:0.9em\">\\n<td style=\"background-color:#FFFFFF; width:25%\"></td>\\n<td class=\"chrSectorDark\" style=\"width:10%\" title=\"9% companies in Non-Cyclical Cons. Goods &amp; Services down by more than 2%\"></td>\\n<td class=\"chrSectorLight\" style=\"width:65%; border-right:1px #CCB3AB solid\" title=\"54% companies in Non-Cyclical Cons. Goods &amp; Services down between 0% and 2%\"></td>\\n</tr>\\n</table>\\n</td>\\n<td style=\"width:25%\">\\n<table cellpadding=\"0\" cellspacing=\"0\" class=\"bars\" width=\"100%\">\\n<tr style=\"height:0.9em\">\\n<td class=\"chgSectorLight\" style=\"width:54%;\" title=\"32% companies in Non-Cyclical Cons. Goods &amp; Services are up between 0% and 2%\"></td>\\n<td class=\"chgSectorDark\" style=\"width:8%\" title=\"5% companies in Non-Cyclical Cons. Goods &amp; Services are up more than 2%\"></td>\\n<td style=\"background-color:#FFFFFF; width:38%\"></td>\\n</tr>\\n</table>\\n</td>\\n</tr>\\n<tr>\\n<td style=\"text-align:left; padding-right:0.5em\"><a href=\"/finance?catid=TRBC:55&amp;ei=quKzV9HZEcLs0gTuibLQBQ\">Financials</a></td>\\n<td style=\"width:20%; padding-right:1em\">\\n<span class=\"chr\">-0.33%</span>\\n</td>\\n<td style=\"width:35%\">\\n<table cellpadding=\"0\" cellspacing=\"0\" class=\"bars\" width=\"100%\">\\n<tr style=\"height:0.9em\">\\n<td style=\"background-color:#FFFFFF; width:35%\"></td>\\n<td class=\"chrSectorDark\" style=\"width:3%\" title=\"3% companies in Financials down by more than 2%\"></td>\\n<td class=\"chrSectorLight\" style=\"width:62%; border-right:1px #CCB3AB solid\" title=\"52% companies in Financials down between 0% and 2%\"></td>\\n</tr>\\n</table>\\n</td>\\n<td style=\"width:25%\">\\n<table cellpadding=\"0\" cellspacing=\"0\" class=\"bars\" width=\"100%\">\\n<tr style=\"height:0.9em\">\\n<td class=\"chgSectorLight\" style=\"width:71%;\" title=\"42% companies in Financials are up between 0% and 2%\"></td>\\n<td class=\"chgSectorDark\" style=\"width:5%\" title=\"3% companies in Financials are up more than 2%\"></td>\\n<td style=\"background-color:#FFFFFF; width:24%\"></td>\\n</tr>\\n</table>\\n</td>\\n</tr>\\n<tr>\\n<td style=\"text-align:left; padding-right:0.5em\"><a href=\"/finance?catid=TRBC:56&amp;ei=quKzV9HZEcLs0gTuibLQBQ\">Healthcare</a></td>\\n<td style=\"width:20%; padding-right:1em\">\\n<span class=\"chr\">-0.80%</span>\\n</td>\\n<td style=\"width:35%\">\\n<table cellpadding=\"0\" cellspacing=\"0\" class=\"bars\" width=\"100%\">\\n<tr style=\"height:0.9em\">\\n<td style=\"background-color:#FFFFFF; width:18%\"></td>\\n<td class=\"chrSectorDark\" style=\"width:28%\" title=\"24% companies in Healthcare down by more than 2%\"></td>\\n<td class=\"chrSectorLight\" style=\"width:54%; border-right:1px #CCB3AB solid\" title=\"45% companies in Healthcare down between 0% and 2%\"></td>\\n</tr>\\n</table>\\n</td>\\n<td style=\"width:25%\">\\n<table cellpadding=\"0\" cellspacing=\"0\" class=\"bars\" width=\"100%\">\\n<tr style=\"height:0.9em\">\\n<td class=\"chgSectorLight\" style=\"width:37%;\" title=\"22% companies in Healthcare are up between 0% and 2%\"></td>\\n<td class=\"chgSectorDark\" style=\"width:15%\" title=\"9% companies in Healthcare are up more than 2%\"></td>\\n<td style=\"background-color:#FFFFFF; width:48%\"></td>\\n</tr>\\n</table>\\n</td>\\n</tr>\\n<tr>\\n<td style=\"text-align:left; padding-right:0.5em\"><a href=\"/finance?catid=TRBC:57&amp;ei=quKzV9HZEcLs0gTuibLQBQ\">Technology</a></td>\\n<td style=\"width:20%; padding-right:1em\">\\n<span class=\"chr\">-0.51%</span>\\n</td>\\n<td style=\"width:35%\">\\n<table cellpadding=\"0\" cellspacing=\"0\" class=\"bars\" width=\"100%\">\\n<tr style=\"height:0.9em\">\\n<td style=\"background-color:#FFFFFF; width:24%\"></td>\\n<td class=\"chrSectorDark\" style=\"width:15%\" title=\"13% companies in Technology down by more than 2%\"></td>\\n<td class=\"chrSectorLight\" style=\"width:61%; border-right:1px #CCB3AB solid\" title=\"51% companies in Technology down between 0% and 2%\"></td>\\n</tr>\\n</table>\\n</td>\\n<td style=\"width:25%\">\\n<table cellpadding=\"0\" cellspacing=\"0\" class=\"bars\" width=\"100%\">\\n<tr style=\"height:0.9em\">\\n<td class=\"chgSectorLight\" style=\"width:49%;\" title=\"29% companies in Technology are up between 0% and 2%\"></td>\\n<td class=\"chgSectorDark\" style=\"width:11%\" title=\"7% companies in Technology are up more than 2%\"></td>\\n<td style=\"background-color:#FFFFFF; width:40%\"></td>\\n</tr>\\n</table>\\n</td>\\n</tr>\\n<tr>\\n<td style=\"text-align:left; padding-right:0.5em\"><a href=\"/finance?catid=TRBC:58&amp;ei=quKzV9HZEcLs0gTuibLQBQ\">Telecommunications Servi...</a></td>\\n<td style=\"width:20%; padding-right:1em\">\\n<span class=\"chr\">-1.02%</span>\\n</td>\\n<td style=\"width:35%\">\\n<table cellpadding=\"0\" cellspacing=\"0\" class=\"bars\" width=\"100%\">\\n<tr style=\"height:0.9em\">\\n<td style=\"background-color:#FFFFFF; width:24%\"></td>\\n<td class=\"chrSectorDark\" style=\"width:20%\" title=\"17% companies in Telecommunications Services down by more than 2%\"></td>\\n<td class=\"chrSectorLight\" style=\"width:56%; border-right:1px #CCB3AB solid\" title=\"47% companies in Telecommunications Services down between 0% and 2%\"></td>\\n</tr>\\n</table>\\n</td>\\n<td style=\"width:25%\">\\n<table cellpadding=\"0\" cellspacing=\"0\" class=\"bars\" width=\"100%\">\\n<tr style=\"height:0.9em\">\\n<td class=\"chgSectorLight\" style=\"width:47%;\" title=\"28% companies in Telecommunications Services are up between 0% and 2%\"></td>\\n<td class=\"chgSectorDark\" style=\"width:13%\" title=\"8% companies in Telecommunications Services are up more than 2%\"></td>\\n<td style=\"background-color:#FFFFFF; width:40%\"></td>\\n</tr>\\n</table>\\n</td>\\n</tr>\\n<tr>\\n<td style=\"text-align:left; padding-right:0.5em\"><a href=\"/finance?catid=TRBC:59&amp;ei=quKzV9HZEcLs0gTuibLQBQ\">Utilities</a></td>\\n<td style=\"width:20%; padding-right:1em\">\\n<span class=\"chr\">-1.00%</span>\\n</td>\\n<td style=\"width:35%\">\\n<table cellpadding=\"0\" cellspacing=\"0\" class=\"bars\" width=\"100%\">\\n<tr style=\"height:0.9em\">\\n<td style=\"background-color:#FFFFFF; width:1%\"></td>\\n<td class=\"chrSectorDark\" style=\"width:21%\" title=\"18% companies in Utilities down by more than 2%\"></td>\\n<td class=\"chrSectorLight\" style=\"width:78%; border-right:1px #CCB3AB solid\" title=\"65% companies in Utilities down between 0% and 2%\"></td>\\n</tr>\\n</table>\\n</td>\\n<td style=\"width:25%\">\\n<table cellpadding=\"0\" cellspacing=\"0\" class=\"bars\" width=\"100%\">\\n<tr style=\"height:0.9em\">\\n<td class=\"chgSectorLight\" style=\"width:23%;\" title=\"14% companies in Utilities are up between 0% and 2%\"></td>\\n<td class=\"chgSectorDark\" style=\"width:5%\" title=\"3% companies in Utilities are up more than 2%\"></td>\\n<td style=\"background-color:#FFFFFF; width:72%\"></td>\\n</tr>\\n</table>\\n</td>\\n</tr>\\n</table>\\n</div>\\n</div>\\n</div>\\n</div>\\n</div>\\n</div>\\n</div></div></div></div></div><div id=\"gf-foot\"><div class=\"fjfe-footer-links\" id=\"fjfe-edition-links\">Google Finance Beta available in: <a class=\"fjfe-edition-link\" href=\"http://www.google.com.hk/finance?ei=quKzV9HZEcLs0gTuibLQBQ\">Hong Kong</a> - <a class=\"fjfe-edition-link\" href=\"http://www.google.ca/finance?ei=quKzV9HZEcLs0gTuibLQBQ\">Canada</a> - <a class=\"fjfe-edition-link\" href=\"http://www.google.com/finance?ei=quKzV9HZEcLs0gTuibLQBQ\">U.S.</a> - <a class=\"fjfe-edition-link\" href=\"http://www.google.com.hk/finance?hl=zh-CN&amp;ei=quKzV9HZEcLs0gTuibLQBQ\">China</a> - <a class=\"fjfe-edition-link\" href=\"http://www.google.co.uk/finance?ei=quKzV9HZEcLs0gTuibLQBQ\">U.K.</a></div><p class=\"fjfe-footer-disclaimer\">Information is provided \"as is\" and solely for informational purposes, not for trading purposes or advice, and may be delayed.<br/>To see all exchange delays, please <a class=\"fjfe-secondary-link fjfe-no-sticky-params\" href=\"http://www.google.com/intl/en/googlefinance/disclaimer/?ei=quKzV9HZEcLs0gTuibLQBQ\"> see disclaimer</a>.</p><div class=\"fjfe-footer-links\">\\xa92016 Google - <a href=\"http://www.google.com?hl=en&amp;ei=quKzV9HZEcLs0gTuibLQBQ\">Google Home</a> - <a href=\"http://googlefinanceblog.blogspot.com?ei=quKzV9HZEcLs0gTuibLQBQ\">Blog</a> - <a href=\"http://support.google.com/finance?hl=en&amp;ei=quKzV9HZEcLs0gTuibLQBQ\">Help</a> - <a href=\"http://support.google.com/finance?ctx=report&amp;hl=en&amp;ei=quKzV9HZEcLs0gTuibLQBQ\">Report a Problem</a> - <a href=\"http://www.google.com/intl/en/policies/privacy/?ei=quKzV9HZEcLs0gTuibLQBQ\">Privacy Policy</a> - <a href=\"http://www.google.com/intl/en/policies/terms/?ei=quKzV9HZEcLs0gTuibLQBQ\">Terms of Service</a></div></div><script>var _cleardot = 'data:image\\\\/gif;base64,R0lGODlhAQABAIAAAP\\\\/\\\\/\\\\/\\\\/\\\\/\\\\/\\\\/yH5BAEKAAEALAAAAAABAAEAAAICTAEAOw\\\\x3d\\\\x3d';\\n    var google = google || {};\\n    google.finance = google.finance || {};\\n    google.finance.gce = false ;</script><script src=\"/finance/f/sfe-opt-3379333646.js\"></script><script>\\n      _regOnLoad = function(f) {\\n        if (document.readyState == 'complete') {\\n          f && f();\\n        } else {\\n          // Window.attachEvent() for IE8 and below compatability.\\n          var addEventFunction = window.attachEvent ||\\n              window.addEventListener || function(ignored, f) { f(); };\\n          var event = window.attachEvent ? 'onload' : 'load';\\n          f && addEventFunction(event, f);\\n        }\\n      };\\n    \\n      google.finance.renderRecentQuotes = function() {};\\n    </script>\\n<script>\\nvar _prefs=_prefs||{};_prefs.hash=\"\";\\n_prefs.promo=_prefs.promo||{};\\n_prefs.home_tabs=_prefs.home_tabs||{};\\n_prefs.home=_prefs.home||{};\\n_prefs.home[\"sorder\"] = 'MPTC-WAFB';\\nfunction initPage() {\\ngoogle.MiniPortfolios.setHiddenPids(\\n\"\",\\n\"\");\\ngoogle.finance.data.home = google.finance.data.home || {};\\ngoogle.finance.data.home.tmExch = [];\\ngoogle.finance.common.listenToForm('pform');\\ngoogle.finance.onHomeLoad();\\n}\\nvar _chartConfigObject;\\nvar _cleardot;\\nvar _companyName;\\nvar _eventid = 'quKzV9HZEcLs0gTuibLQBQ';\\nvar _expid;\\nvar _external_target;\\nvar _localDomain = 'www.google.com';\\nvar _minZoomDays;\\nvar _minZoomDaysNoIntraDay;\\nvar _prefs;\\nvar _ticker;\\nvar _urlSuffix;\\nvar google = google || {};\\ngoogle.finance = google.finance || {};\\ngoogle.finance.data = {common:{rq:{ct:\"\"},up:\"chg\",down:\"chr\",linktargetInternal:\"\",hash:\"\",dfp:\"ad-g.doubleclick.net/adi/com.gf.home/default;dcopt=ist;myd=ad;sz=300x250;tile=1\",streaming:[{cid:\"983582\",s:\".DJI\",e:\"INDEXDJX\"},{cid:\"626307\",s:\".INX\",e:\"INDEXSP\"},{cid:\"13756934\",s:\".IXIC\",e:\"INDEXNASDAQ\"},{cid:\"7521596\",s:\"000001\",e:\"SHA\"},{cid:\"15513676\",s:\"NI225\",e:\"INDEXNIKKEI\"},{cid:\"13414271\",s:\"HSI\",e:\"INDEXHANGSENG\"},{cid:\"9947405\",s:\"TAIEX\",e:\"TPE\"},{cid:\"12590587\",s:\"UKX\",e:\"INDEXFTSE\"},{cid:\"7354851\",s:\"SX5E\",e:\"INDEXSTOXX\"},{cid:\"9237947\",s:\"PX1\",e:\"INDEXEURO\"},{cid:\"9291235\",s:\"OSPTX\",e:\"INDEXTSI\"},{cid:\"14240693\",s:\"XJO\",e:\"INDEXASX\"},{cid:\"15173681\",s:\"SENSEX\",e:\"INDEXBOM\"},{cid:\"835285966959493\",s:\"T25\",e:\"TLV\"},{cid:\"542029859096076\",s:\"KOSPI\",e:\"INDEXKRX\"},{cid:\"1052581216806242\",s:\"SMI\",e:\"INDEXSWX\"},{cid:\"1066235873319497\",s:\"ATX\",e:\"INDEXVIE\"},{cid:\"851377182412228\",s:\"IBOV\",e:\"INDEXBVMF\"},{cid:\"192906426752897\",s:\"SET\",e:\"INDEXBKK\"},{cid:\"456528970194751\",s:\"XU100\",e:\"INDEXIST\"},{cid:\"1054681020857808\",s:\"IB\",e:\"INDEXBME\"},{cid:\"698684623076010\",s:\"WIG\",e:\"WSE\"},{cid:\"1095233500396574\",s:\"TASI\",e:\"TADAWUL\"},{cid:\"393322345722481\",s:\"IAR\",e:\"BCBA\"},{cid:\"999678732197294\",s:\"ME\",e:\"INDEXBMV\"},{cid:\"218574097879841\",s:\"COMPOSITE\",e:\"IDX\"}]},home:{widescreen_width:1290},stickyUrlArgs:\"\\\\u0026ei=quKzV9HZEcLs0gTuibLQBQ\"};\\ngoogle.finance.data.numberFormat = [{'threshold':1000000, 'symbol':'M'}, {'threshold':1000000000,'symbol':'B'}, {'threshold':1000000000000,'symbol':'T'}] ;\\n_setStickyUrlParams(\"ei=quKzV9HZEcLs0gTuibLQBQ\");\\nif (_s_Store) {\\n_s_Store._allowMatchAdvancedSearch = true;\\nvar _fieldToDisplayNameMap = {GrossMargin:\"Gross margin&nbsp;(%)\",Return1Week:\"1w return\",Return156Week:\"156w return\",NextYearEPS:\"Next year EPS\",LTDebtToAssetsYear:\"LT debt/assets (Recent&nbsp;yr)&nbsp;(%)\",RevenueGrowthRate5Years:\"5y revenue growth rate\",EarningsAfterTaxes:\"Earnings after taxes\",DividendPerShare:\"Div per share\",MarketCap:\"Market cap\",NetProfitMarginPercent:\"Net profit margin&nbsp;(%)\",Float:\"Float\",EarningsBeforeTaxes:\"Earnings before taxes\",QuotePercChange:\"Quote change&nbsp;(%)\",TotalDebtToEquityYear:\"Total debt/equity (Recent&nbsp;yr)&nbsp;(%)\",TotalDebtToCapitalQuarter:\"Total debt/capital (Recent&nbsp;qtr)&nbsp;(%)\",LTDebtToCapitalQuarter:\"LT debt/capital (Recent&nbsp;qtr)&nbsp;(%)\",EPSGrowthRate10Years:\"10y EPS growth rate\",Beta:\"Beta\",ReturnOnAssetsPTM:\"Return on assets (PTM)&nbsp;(%)\",CapitalGain:\"Capital gain\",BetaDown:\"Beta down from RAS\",IncomeDividend:\"Income dividend\",RevenueGrowthRate10Years:\"10y revenue growth rate\",MarketCapShareBasis:\"Market cap share basis\",IAD:\"Div rate indicated annual\",Return4Week:\"4w return\",Price150DayAverage:\"150d avg price\",EPSGrowthRate5Years:\"5y EPS growth rate\",ReturnOnAssetsTTM:\"Return on assets (TTM)&nbsp;(%)\",TotalDebtToAssetsYear:\"Total debt/assets (Recent&nbsp;yr)&nbsp;(%)\",Volume:\"Volume\",DividendRecentQuarter:\"Div recent quarter\",CurrentRatioYear:\"Current ratio\",Low52Week:\"52w low\",ExpenseRatio:\"Expense ratio\",Price13WeekPercChange:\"13w&nbsp;price change&nbsp;(%)\",Price1DayPercChange:\"1d&nbsp;price change&nbsp;(%)\",ReturnOnEquity5Years:\"Return on equity (5&nbsp;yr&nbsp;avg)&nbsp;(%)\",TotalDebtToCapitalYear:\"Total debt/capital (Recent&nbsp;yr)&nbsp;(%)\",TotalDebtToAssetsQuarter:\"Total debt/assets (Recent&nbsp;qtr)&nbsp;(%)\",NavChange:\"Nav change\",OperatingMargin:\"Operating margin&nbsp;(%)\",DPSRecentYear:\"Div per share (Recent&nbsp;yr)\",ANI:\"Earnings after taxes (Recent&nbsp;yr)\",AverageVolume:\"Average volume\",High52Week:\"52w high\",Return13Week:\"13w return\",PriceToCashFlowPerShare:\"Price to cash flow per share\",ATAXRATE:\"Tax rate (Recent&nbsp;yr)\",Price26WeekPercChange:\"26w&nbsp;price change&nbsp;(%)\",QuoteChange:\"Quote change\",NetIncomeChangePerc:\"Net income change&nbsp;(%)\",ReturnOnInvestment5Years:\"Return on investment (5&nbsp;yr&nbsp;avg)&nbsp;(%)\",PE:\"P/E ratio\",ReturnOnInvestmentYear:\"Return on investment (Recent&nbsp;yr)&nbsp;(%)\",Price200DayAverage:\"200d avg price\",DividendNextQuarter:\"Div next quarter\",EBITD:\"EBITDA\",PriceYTDPercChange:\"YTD&nbsp;price change&nbsp;(%)\",ReturnOnInvestmentTTM:\"Return on investment (TTM)&nbsp;(%)\",NavChangePercent:\"Nav change&nbsp;(%)\",EBITDMargin:\"EBITDA margin&nbsp;(%)\",LTDebtToEquityQuarter:\"LT debt/equity (Recent&nbsp;qtr)&nbsp;(%)\",BetaRAS:\"Beta from RAS\",PriceSales:\"Price to sales\",NetAssets:\"Net assets\",ReturnOnEquityTTM:\"Return on equity (TTM)&nbsp;(%)\",CashPerShareYear:\"Cash/share\",ReturnOnAssets5Years:\"Return on assets (5&nbsp;yr&nbsp;avg)&nbsp;(%)\",ReturnDay:\"1d return\",Return52Week:\"52w return\",ForwardPE1Year:\"1y fwd P/E\",NetIncomeGrowthRate5Years:\"5y net income growth rate\",DividendYield:\"Div yield&nbsp;(%)\",Dividend:\"Div from cash flow\",BetaUp:\"Beta up from RAS\",LTDebtToCapitalYear:\"LT debt/capital (Recent&nbsp;yr)&nbsp;(%)\",nprice:\"Price from RAS\",Return260Week:\"260w return\",ReturnOnEquityQuarter:\"Return on equity (Recent&nbsp;qtr)&nbsp;(%)\",ACOGS:\"Cost of goods sold\",LTDebtToAssetsQuarter:\"LT debt/assets (Recent&nbsp;qtr)&nbsp;(%)\",PriceToBook:\"Price to book\",LTDebtToEquityYear:\"LT debt/equity (Recent&nbsp;yr)&nbsp;(%)\",ReturnYTD:\"Return YTD\",ReturnOnEquityYear:\"Return on equity (Recent&nbsp;yr)&nbsp;(%)\",ReturnOnAssetsQuarter:\"Return on assets (Recent&nbsp;qtr)&nbsp;(%)\",TotalDebtToEquityQuarter:\"Total debt/equity (Recent&nbsp;qtr)&nbsp;(%)\",NavPrior:\"Nav prior\",AINTCOV:\"Interest coverage\",EPS:\"EPS\",ReturnOnInvestmentQuarter:\"Return on investment (Recent&nbsp;qtr)&nbsp;(%)\",QuoteLast:\"Last price\",Price50DayAverage:\"50d avg price\",Price4WeekPercChange:\"4w&nbsp;price change&nbsp;(%)\",ReturnOnAssetsYear:\"Return on assets (Recent&nbsp;yr)&nbsp;(%)\",MarketCapRAS:\"Mkt cap from RAS\",Price52WeekPercChange:\"52w&nbsp;price change&nbsp;(%)\",ShortInterestRatioPercent:\"Short interest ratio&nbsp;(%)\",InstitutionalPercentHeld:\"Institutional percent held\",BookValuePerShareYear:\"Book value/share\",ReturnOnEquityPTM:\"Return on equity (PTM)&nbsp;(%)\"};\\n_s_Store._asStore._addStrings(_fieldToDisplayNameMap);\\n}\\nif (_s_Store) {\\n_s_Store._allowMultipleInBox = true;\\n}\\n_regOnLoad(initPage);\\n</script></div></div><script>var googlefinance = {i: [\"f.b.id\",\"\",null,0,\"\",0,null,[\"f.b.cf\",\"0md5hz5pgeA.en_US.\",0],[],1,[],\"quKzV9HZEcLs0gTuibLQBQ\",\"www.google.com\",\"Sl4Qzfpbl39-GraW1dIVcP7Y0UA:1471406762432\",1]}; GF_domReady = 1;</script></body></html>"
      ]
     },
     "execution_count": 117,
     "metadata": {},
     "output_type": "execute_result"
    }
   ],
   "source": [
    "scraping = BeautifulSoup(page, \"lxml\") \n",
    "scraping"
   ]
  },
  {
   "cell_type": "code",
   "execution_count": 120,
   "metadata": {
    "collapsed": false,
    "scrolled": true
   },
   "outputs": [
    {
     "name": "stdout",
     "output_type": "stream",
     "text": [
      "None\n"
     ]
    }
   ],
   "source": [
    "element_FTSE100 = scraping.find(attrs={\"id\":\"ref_12590587_1\"})\n",
    "print element_FTSE100"
   ]
  },
  {
   "cell_type": "code",
   "execution_count": 103,
   "metadata": {
    "collapsed": false
   },
   "outputs": [
    {
     "ename": "AttributeError",
     "evalue": "'NoneType' object has no attribute 'text'",
     "output_type": "error",
     "traceback": [
      "\u001b[1;31m---------------------------------------------------------------------------\u001b[0m",
      "\u001b[1;31mAttributeError\u001b[0m                            Traceback (most recent call last)",
      "\u001b[1;32m<ipython-input-103-e57b2cc92534>\u001b[0m in \u001b[0;36m<module>\u001b[1;34m()\u001b[0m\n\u001b[1;32m----> 1\u001b[1;33m \u001b[0melement_FTSE100\u001b[0m\u001b[1;33m.\u001b[0m\u001b[0mtext\u001b[0m\u001b[1;33m\u001b[0m\u001b[0m\n\u001b[0m",
      "\u001b[1;31mAttributeError\u001b[0m: 'NoneType' object has no attribute 'text'"
     ]
    }
   ],
   "source": [
    "element_FTSE100.text"
   ]
  },
  {
   "cell_type": "markdown",
   "metadata": {},
   "source": [
    "We can also read in entire HTML tables into dataframe objects:"
   ]
  },
  {
   "cell_type": "code",
   "execution_count": 94,
   "metadata": {
    "collapsed": false
   },
   "outputs": [],
   "source": [
    "scraping_html_table = BeautifulSoup(response.content)"
   ]
  },
  {
   "cell_type": "code",
   "execution_count": 95,
   "metadata": {
    "collapsed": false,
    "scrolled": true
   },
   "outputs": [
    {
     "data": {
      "text/plain": [
       "[<table class=\"quotes\" width=\"100%\"><tbody><tr>\\n<td class=\"symbol\"><a href=\"/finance?q=SHA:000001&amp;ei=Cd2zV9nlGtec0QSqmongCg\">Shanghai\\n</a></td><td class=\"price\"><span id=\"ref_7521596_l\">3,104.09</span>\\n</td><td class=\"change\"><span class=\"chr\" id=\"ref_7521596_c\">-5.95</span> <span class=\"chr\" id=\"ref_7521596_cp\">(-0.19%)</span></td></tr><tr>\\n<td class=\"symbol\"><a href=\"/finance?q=INDEXNIKKEI:NI225&amp;ei=Cd2zV9nlGtec0QSqmongCg\">Nikkei 225\\n</a></td><td class=\"price\"><span id=\"ref_15513676_l\">16,679.89</span>\\n</td><td class=\"change\"><span class=\"chg\" id=\"ref_15513676_c\">+83.38</span> <span class=\"chg\" id=\"ref_15513676_cp\">(0.50%)</span></td></tr><tr>\\n<td class=\"symbol\"><a href=\"/finance?q=INDEXHANGSENG:HSI&amp;ei=Cd2zV9nlGtec0QSqmongCg\">Hang Seng Index\\n</a></td><td class=\"price\"><span id=\"ref_13414271_l\">22,964.85</span>\\n</td><td class=\"change\"><span class=\"chg\" id=\"ref_13414271_c\">+54.01</span> <span class=\"chg\" id=\"ref_13414271_cp\">(0.24%)</span></td></tr><tr>\\n<td class=\"symbol\"><a href=\"/finance?q=TPE:TAIEX&amp;ei=Cd2zV9nlGtec0QSqmongCg\">TSEC\\n</a></td><td class=\"price\"><span id=\"ref_9947405_l\">9,085.14</span>\\n</td><td class=\"change\"><span class=\"chr\" id=\"ref_9947405_c\">-25.22</span> <span class=\"chr\" id=\"ref_9947405_cp\">(-0.28%)</span></td></tr><tr>\\n<td class=\"symbol\"><a href=\"/finance?q=INDEXFTSE:UKX&amp;ei=Cd2zV9nlGtec0QSqmongCg\">FTSE 100\\n</a></td><td class=\"price\"><span id=\"ref_12590587_l\">6,893.92</span>\\n</td><td class=\"change\"><span class=\"chr\" id=\"ref_12590587_c\">-47.27</span> <span class=\"chr\" id=\"ref_12590587_cp\">(-0.68%)</span></td></tr><tr>\\n<td class=\"symbol\"><a href=\"/finance?q=INDEXSTOXX:SX5E&amp;ei=Cd2zV9nlGtec0QSqmongCg\">EURO STOXX 50\\n</a></td><td class=\"price\"><span id=\"ref_7354851_l\">3,016.19</span>\\n</td><td class=\"change\"><span class=\"chr\" id=\"ref_7354851_c\">-30.46</span> <span class=\"chr\" id=\"ref_7354851_cp\">(-1.00%)</span></td></tr><tr>\\n<td class=\"symbol\"><a href=\"/finance?q=INDEXEURO:PX1&amp;ei=Cd2zV9nlGtec0QSqmongCg\">CAC 40\\n</a></td><td class=\"price\"><span id=\"ref_9237947_l\">4,460.44</span>\\n</td><td class=\"change\"><span class=\"chr\" id=\"ref_9237947_c\">-37.42</span> <span class=\"chr\" id=\"ref_9237947_cp\">(-0.83%)</span></td></tr><tr>\\n<td class=\"symbol\"><a href=\"/finance?q=INDEXTSI:OSPTX&amp;ei=Cd2zV9nlGtec0QSqmongCg\">S&amp;P TSX\\n</a></td><td class=\"price\"><span id=\"ref_9291235_l\">14,703.44</span>\\n</td><td class=\"change\"><span class=\"chr\" id=\"ref_9291235_c\">-73.58</span> <span class=\"chr\" id=\"ref_9291235_cp\">(-0.50%)</span></td></tr><tr>\\n<td class=\"symbol\"><a href=\"/finance?q=INDEXASX:XJO&amp;ei=Cd2zV9nlGtec0QSqmongCg\">S&amp;P/ASX 200\\n</a></td><td class=\"price\"><span id=\"ref_14240693_l\">5,527.30</span>\\n</td><td class=\"change\"><span class=\"chr\" id=\"ref_14240693_c\">-4.70</span> <span class=\"chr\" id=\"ref_14240693_cp\">(-0.08%)</span></td></tr><tr>\\n<td class=\"symbol\"><a href=\"/finance?q=INDEXBOM:SENSEX&amp;ei=Cd2zV9nlGtec0QSqmongCg\">BSE Sensex\\n</a></td><td class=\"price\"><span id=\"ref_15173681_l\">28,061.79</span>\\n</td><td class=\"change\"><span class=\"chr\" id=\"ref_15173681_c\">-2.82</span> <span class=\"chr\" id=\"ref_15173681_cp\">(-0.01%)</span></td></tr><tr>\\n<td class=\"symbol\"><a href=\"/finance?q=TLV:T25&amp;ei=Cd2zV9nlGtec0QSqmongCg\">TA25\\n</a></td><td class=\"price\"><span id=\"ref_835285966959493_l\">1,467.58</span>\\n</td><td class=\"change\"><span class=\"chr\" id=\"ref_835285966959493_c\">-4.87</span> <span class=\"chr\" id=\"ref_835285966959493_cp\">(-0.33%)</span></td></tr><tr></tr><tr>\\n<td class=\"symbol\"><a href=\"/finance?q=INDEXSWX:SMI&amp;ei=Cd2zV9nlGtec0QSqmongCg\">SMI\\n</a></td><td class=\"price\"><span id=\"ref_1052581216806242_l\">8,215.45</span>\\n</td><td class=\"change\"><span class=\"chr\" id=\"ref_1052581216806242_c\">-89.83</span> <span class=\"chr\" id=\"ref_1052581216806242_cp\">(-1.08%)</span></td></tr><tr>\\n<td class=\"symbol\"><a href=\"/finance?q=INDEXVIE:ATX&amp;ei=Cd2zV9nlGtec0QSqmongCg\">ATX\\n</a></td><td class=\"price\"><span id=\"ref_1066235873319497_l\">2,276.46</span>\\n</td><td class=\"change\"><span class=\"chr\" id=\"ref_1066235873319497_c\">-8.07</span> <span class=\"chr\" id=\"ref_1066235873319497_cp\">(-0.35%)</span></td></tr><tr>\\n<td class=\"symbol\"><a href=\"/finance?q=INDEXBVMF:IBOV&amp;ei=Cd2zV9nlGtec0QSqmongCg\">IBOVESPA\\n</a></td><td class=\"price\"><span id=\"ref_851377182412228_l\">58,855.43</span>\\n</td><td class=\"change\"><span class=\"chr\" id=\"ref_851377182412228_c\">-290.54</span> <span class=\"chr\" id=\"ref_851377182412228_cp\">(-0.49%)</span></td></tr><tr>\\n<td class=\"symbol\"><a href=\"/finance?q=INDEXBKK:SET&amp;ei=Cd2zV9nlGtec0QSqmongCg\">SET\\n</a></td><td class=\"price\"><span id=\"ref_192906426752897_l\">1,535.45</span>\\n</td><td class=\"change\"><span class=\"chr\" id=\"ref_192906426752897_c\">-2.07</span> <span class=\"chr\" id=\"ref_192906426752897_cp\">(-0.13%)</span></td></tr><tr>\\n<td class=\"symbol\"><a href=\"/finance?q=INDEXIST:XU100&amp;ei=Cd2zV9nlGtec0QSqmongCg\">BIST100\\n</a></td><td class=\"price\"><span id=\"ref_456528970194751_l\">77,707.13</span>\\n</td><td class=\"change\"><span class=\"chr\" id=\"ref_456528970194751_c\">-765.44</span> <span class=\"chr\" id=\"ref_456528970194751_cp\">(-0.98%)</span></td></tr><tr>\\n<td class=\"symbol\"><a href=\"/finance?q=INDEXBME:IB&amp;ei=Cd2zV9nlGtec0QSqmongCg\">IBEX\\n</a></td><td class=\"price\"><span id=\"ref_1054681020857808_l\">8,621.70</span>\\n</td><td class=\"change\"><span class=\"chr\" id=\"ref_1054681020857808_c\">-98.90</span> <span class=\"chr\" id=\"ref_1054681020857808_cp\">(-1.13%)</span></td></tr><tr>\\n<td class=\"symbol\"><a href=\"/finance?q=WSE:WIG&amp;ei=Cd2zV9nlGtec0QSqmongCg\">WIG\\n</a></td><td class=\"price\"><span id=\"ref_698684623076010_l\">48,463.51</span>\\n</td><td class=\"change\"><span class=\"chr\" id=\"ref_698684623076010_c\">-167.93</span> <span class=\"chr\" id=\"ref_698684623076010_cp\">(-0.35%)</span></td></tr><tr>\\n<td class=\"symbol\"><a href=\"/finance?q=TADAWUL:TASI&amp;ei=Cd2zV9nlGtec0QSqmongCg\">TASI\\n</a></td><td class=\"price\"><span id=\"ref_1095233500396574_l\">6,328.55</span>\\n</td><td class=\"change\"><span class=\"chr\" id=\"ref_1095233500396574_c\">-29.02</span> <span class=\"chr\" id=\"ref_1095233500396574_cp\">(-0.46%)</span></td></tr><tr>\\n<td class=\"symbol\"><a href=\"/finance?q=BCBA:IAR&amp;ei=Cd2zV9nlGtec0QSqmongCg\">MERVAL\\n</a></td><td class=\"price\"><span id=\"ref_393322345722481_l\">13,974.95</span>\\n</td><td class=\"change\"><span class=\"chr\" id=\"ref_393322345722481_c\">-218.76</span> <span class=\"chr\" id=\"ref_393322345722481_cp\">(-1.54%)</span></td></tr><tr>\\n<td class=\"symbol\"><a href=\"/finance?q=INDEXBMV:ME&amp;ei=Cd2zV9nlGtec0QSqmongCg\">IPC\\n</a></td><td class=\"price\"><span id=\"ref_999678732197294_l\">48,351.96</span>\\n</td><td class=\"change\"><span class=\"chr\" id=\"ref_999678732197294_c\">-342.94</span> <span class=\"chr\" id=\"ref_999678732197294_cp\">(-0.70%)</span></td></tr><tr>\\n<td class=\"symbol\"><a href=\"/finance?q=IDX:COMPOSITE&amp;ei=Cd2zV9nlGtec0QSqmongCg\">IDX Composite\\n</a></td><td class=\"price\"><span id=\"ref_218574097879841_l\">5,371.85</span>\\n</td><td class=\"change\"><span class=\"chg\" id=\"ref_218574097879841_c\">+51.29</span> <span class=\"chg\" id=\"ref_218574097879841_cp\">(0.96%)</span>\\n</td></tr></tbody></table>,\n",
       " <table class=\"quotes\" width=\"100%\"><tbody><tr>\\n<td class=\"symbol\"><a href=\"/finance?q=EURUSD&amp;ei=Cd2zV9nlGtec0QSqmongCg\">EUR/USD</a>\\n</td><td class=\"price\">1.1274\\n</td><td class=\"change chr\">-0.0002 (-0.02%)</td></tr><tr>\\n<td class=\"symbol\"><a href=\"/finance?q=USDJPY&amp;ei=Cd2zV9nlGtec0QSqmongCg\">USD/JPY</a>\\n</td><td class=\"price\">100.6220\\n</td><td class=\"change chg\">+0.4265 (0.43%)</td></tr><tr>\\n<td class=\"symbol\"><a href=\"/finance?q=GBPUSD&amp;ei=Cd2zV9nlGtec0QSqmongCg\">GBP/USD</a>\\n</td><td class=\"price\">1.3036\\n</td><td class=\"change chg\">+0.0008 (0.07%)</td></tr><tr>\\n<td class=\"symbol\"><a href=\"/finance?q=USDCAD&amp;ei=Cd2zV9nlGtec0QSqmongCg\">USD/CAD</a>\\n</td><td class=\"price\">1.2871\\n</td><td class=\"change chg\">+0.0004 (0.03%)</td></tr><tr>\\n<td class=\"symbol\"><a href=\"/finance?q=USDHKD&amp;ei=Cd2zV9nlGtec0QSqmongCg\">USD/HKD</a>\\n</td><td class=\"price\">7.7543\\n</td><td class=\"change chb\">-0.0004 (0.00%)</td></tr><tr>\\n<td class=\"symbol\"><a href=\"/finance?q=USDCNY&amp;ei=Cd2zV9nlGtec0QSqmongCg\">USD/CNY</a>\\n</td><td class=\"price\">6.6304\\n</td><td class=\"change chg\">+0.0050 (0.08%)</td></tr><tr>\\n<td class=\"symbol\"><a href=\"/finance?q=AUDUSD&amp;ei=Cd2zV9nlGtec0QSqmongCg\">AUD/USD</a>\\n</td><td class=\"price\">0.7681\\n</td><td class=\"change chr\">-0.0014 (-0.18%)\\n</td></tr></tbody></table>,\n",
       " <table class=\"quotes\" width=\"100%\"><tbody><tr>\\n<td class=\"symbol\">3 Month\\n</td><td class=\"price\">0.27%\\n</td><td class=\"change chr\">-0.01 (-3.57%)</td></tr><tr>\\n<td class=\"symbol\">6 Month\\n</td><td class=\"price\">0.42%\\n</td><td class=\"change chb\">0.00 (0.00%)</td></tr><tr></tr><tr>\\n<td class=\"symbol\">2 Year\\n</td><td class=\"price\">0.74%\\n</td><td class=\"change chg\">+0.02 (2.78%)</td></tr><tr>\\n<td class=\"symbol\">5 Year\\n</td><td class=\"price\">1.16%\\n</td><td class=\"change chg\">+0.04 (3.57%)</td></tr><tr>\\n<td class=\"symbol\">10 Year\\n</td><td class=\"price\">1.58%\\n</td><td class=\"change chg\">+0.04 (2.60%)</td></tr><tr>\\n<td class=\"symbol\">30 Year\\n</td><td class=\"price\">2.29%\\n</td><td class=\"change chg\">+0.05 (2.23%)\\n</td></tr></tbody></table>]"
      ]
     },
     "execution_count": 95,
     "metadata": {},
     "output_type": "execute_result"
    }
   ],
   "source": [
    "scraping_html_table_FTSE100 = scraping.find_all(\"table\", \"quotes\")\n",
    "scraping_html_table_FTSE100"
   ]
  },
  {
   "cell_type": "code",
   "execution_count": 96,
   "metadata": {
    "collapsed": false
   },
   "outputs": [
    {
     "data": {
      "text/html": [
       "<div>\n",
       "<table border=\"1\" class=\"dataframe\">\n",
       "  <thead>\n",
       "    <tr style=\"text-align: right;\">\n",
       "      <th></th>\n",
       "      <th>0</th>\n",
       "      <th>1</th>\n",
       "      <th>2</th>\n",
       "    </tr>\n",
       "  </thead>\n",
       "  <tbody>\n",
       "    <tr>\n",
       "      <th>0</th>\n",
       "      <td>Shanghai\\n</td>\n",
       "      <td>3,104.09\\n</td>\n",
       "      <td>-5.95 (-0.19%)</td>\n",
       "    </tr>\n",
       "    <tr>\n",
       "      <th>1</th>\n",
       "      <td>Nikkei 225\\n</td>\n",
       "      <td>16,679.89\\n</td>\n",
       "      <td>+83.38 (0.50%)</td>\n",
       "    </tr>\n",
       "    <tr>\n",
       "      <th>2</th>\n",
       "      <td>Hang Seng Index\\n</td>\n",
       "      <td>22,964.85\\n</td>\n",
       "      <td>+54.01 (0.24%)</td>\n",
       "    </tr>\n",
       "    <tr>\n",
       "      <th>3</th>\n",
       "      <td>TSEC\\n</td>\n",
       "      <td>9,085.14\\n</td>\n",
       "      <td>-25.22 (-0.28%)</td>\n",
       "    </tr>\n",
       "    <tr>\n",
       "      <th>4</th>\n",
       "      <td>FTSE 100\\n</td>\n",
       "      <td>6,893.92\\n</td>\n",
       "      <td>-47.27 (-0.68%)</td>\n",
       "    </tr>\n",
       "    <tr>\n",
       "      <th>5</th>\n",
       "      <td>EURO STOXX 50\\n</td>\n",
       "      <td>3,016.19\\n</td>\n",
       "      <td>-30.46 (-1.00%)</td>\n",
       "    </tr>\n",
       "    <tr>\n",
       "      <th>6</th>\n",
       "      <td>CAC 40\\n</td>\n",
       "      <td>4,460.44\\n</td>\n",
       "      <td>-37.42 (-0.83%)</td>\n",
       "    </tr>\n",
       "    <tr>\n",
       "      <th>7</th>\n",
       "      <td>S&amp;P TSX\\n</td>\n",
       "      <td>14,703.44\\n</td>\n",
       "      <td>-73.58 (-0.50%)</td>\n",
       "    </tr>\n",
       "    <tr>\n",
       "      <th>8</th>\n",
       "      <td>S&amp;P/ASX 200\\n</td>\n",
       "      <td>5,527.30\\n</td>\n",
       "      <td>-4.70 (-0.08%)</td>\n",
       "    </tr>\n",
       "    <tr>\n",
       "      <th>9</th>\n",
       "      <td>BSE Sensex\\n</td>\n",
       "      <td>28,061.79\\n</td>\n",
       "      <td>-2.82 (-0.01%)</td>\n",
       "    </tr>\n",
       "    <tr>\n",
       "      <th>10</th>\n",
       "      <td>TA25\\n</td>\n",
       "      <td>1,467.58\\n</td>\n",
       "      <td>-4.87 (-0.33%)</td>\n",
       "    </tr>\n",
       "    <tr>\n",
       "      <th>11</th>\n",
       "      <td>SMI\\n</td>\n",
       "      <td>8,215.45\\n</td>\n",
       "      <td>-89.83 (-1.08%)</td>\n",
       "    </tr>\n",
       "    <tr>\n",
       "      <th>12</th>\n",
       "      <td>ATX\\n</td>\n",
       "      <td>2,276.46\\n</td>\n",
       "      <td>-8.07 (-0.35%)</td>\n",
       "    </tr>\n",
       "    <tr>\n",
       "      <th>13</th>\n",
       "      <td>IBOVESPA\\n</td>\n",
       "      <td>58,855.43\\n</td>\n",
       "      <td>-290.54 (-0.49%)</td>\n",
       "    </tr>\n",
       "    <tr>\n",
       "      <th>14</th>\n",
       "      <td>SET\\n</td>\n",
       "      <td>1,535.45\\n</td>\n",
       "      <td>-2.07 (-0.13%)</td>\n",
       "    </tr>\n",
       "    <tr>\n",
       "      <th>15</th>\n",
       "      <td>BIST100\\n</td>\n",
       "      <td>77,707.13\\n</td>\n",
       "      <td>-765.44 (-0.98%)</td>\n",
       "    </tr>\n",
       "    <tr>\n",
       "      <th>16</th>\n",
       "      <td>IBEX\\n</td>\n",
       "      <td>8,621.70\\n</td>\n",
       "      <td>-98.90 (-1.13%)</td>\n",
       "    </tr>\n",
       "    <tr>\n",
       "      <th>17</th>\n",
       "      <td>WIG\\n</td>\n",
       "      <td>48,463.51\\n</td>\n",
       "      <td>-167.93 (-0.35%)</td>\n",
       "    </tr>\n",
       "    <tr>\n",
       "      <th>18</th>\n",
       "      <td>TASI\\n</td>\n",
       "      <td>6,328.55\\n</td>\n",
       "      <td>-29.02 (-0.46%)</td>\n",
       "    </tr>\n",
       "    <tr>\n",
       "      <th>19</th>\n",
       "      <td>MERVAL\\n</td>\n",
       "      <td>13,974.95\\n</td>\n",
       "      <td>-218.76 (-1.54%)</td>\n",
       "    </tr>\n",
       "    <tr>\n",
       "      <th>20</th>\n",
       "      <td>IPC\\n</td>\n",
       "      <td>48,351.96\\n</td>\n",
       "      <td>-342.94 (-0.70%)</td>\n",
       "    </tr>\n",
       "    <tr>\n",
       "      <th>21</th>\n",
       "      <td>IDX Composite\\n</td>\n",
       "      <td>5,371.85\\n</td>\n",
       "      <td>+51.29 (0.96%)\\n</td>\n",
       "    </tr>\n",
       "  </tbody>\n",
       "</table>\n",
       "</div>"
      ],
      "text/plain": [
       "                    0            1                 2\n",
       "0          Shanghai\\n   3,104.09\\n    -5.95 (-0.19%)\n",
       "1        Nikkei 225\\n  16,679.89\\n    +83.38 (0.50%)\n",
       "2   Hang Seng Index\\n  22,964.85\\n    +54.01 (0.24%)\n",
       "3              TSEC\\n   9,085.14\\n   -25.22 (-0.28%)\n",
       "4          FTSE 100\\n   6,893.92\\n   -47.27 (-0.68%)\n",
       "5     EURO STOXX 50\\n   3,016.19\\n   -30.46 (-1.00%)\n",
       "6            CAC 40\\n   4,460.44\\n   -37.42 (-0.83%)\n",
       "7           S&P TSX\\n  14,703.44\\n   -73.58 (-0.50%)\n",
       "8       S&P/ASX 200\\n   5,527.30\\n    -4.70 (-0.08%)\n",
       "9        BSE Sensex\\n  28,061.79\\n    -2.82 (-0.01%)\n",
       "10             TA25\\n   1,467.58\\n    -4.87 (-0.33%)\n",
       "11              SMI\\n   8,215.45\\n   -89.83 (-1.08%)\n",
       "12              ATX\\n   2,276.46\\n    -8.07 (-0.35%)\n",
       "13         IBOVESPA\\n  58,855.43\\n  -290.54 (-0.49%)\n",
       "14              SET\\n   1,535.45\\n    -2.07 (-0.13%)\n",
       "15          BIST100\\n  77,707.13\\n  -765.44 (-0.98%)\n",
       "16             IBEX\\n   8,621.70\\n   -98.90 (-1.13%)\n",
       "17              WIG\\n  48,463.51\\n  -167.93 (-0.35%)\n",
       "18             TASI\\n   6,328.55\\n   -29.02 (-0.46%)\n",
       "19           MERVAL\\n  13,974.95\\n  -218.76 (-1.54%)\n",
       "20              IPC\\n  48,351.96\\n  -342.94 (-0.70%)\n",
       "21    IDX Composite\\n   5,371.85\\n  +51.29 (0.96%)\\n"
      ]
     },
     "execution_count": 96,
     "metadata": {},
     "output_type": "execute_result"
    }
   ],
   "source": [
    "df = pd.read_html(str(scraping_html_table_FTSE100))\n",
    "df[0]"
   ]
  },
  {
   "cell_type": "markdown",
   "metadata": {},
   "source": [
    "**Exercise**: Extract the second table from the wikipedia page (https://en.wikipedia.org/wiki/Richter_magnitude_scale) on earthquake magnitudes giving the approximate energy equivalents in terms of TNT explosive force:"
   ]
  },
  {
   "cell_type": "code",
   "execution_count": 109,
   "metadata": {
    "collapsed": false
   },
   "outputs": [
    {
     "data": {
      "text/plain": [
       "<Response [200]>"
      ]
     },
     "execution_count": 109,
     "metadata": {},
     "output_type": "execute_result"
    }
   ],
   "source": [
    "url = \"https://en.wikipedia.org/wiki/Richter_magnitude_scale\"\n",
    "response = requests.get(url, proxies=massey_proxies)\n",
    "response"
   ]
  },
  {
   "cell_type": "code",
   "execution_count": 111,
   "metadata": {
    "collapsed": false,
    "scrolled": true
   },
   "outputs": [
    {
     "data": {
      "text/plain": [
       "[<table class=\"wikitable\">\\n<tr>\\n<th>Magnitude</th>\\n<th>Description</th>\\n<th><a href=\"/wiki/Mercalli_intensity_scale\" title=\"Mercalli intensity scale\">Mercalli intensity</a></th>\\n<th>Average earthquake effects</th>\\n<th>Average frequency of occurrence (estimated)</th>\\n</tr>\\n<tr>\\n<td>1.0\\u20131.9</td>\\n<td><a href=\"/wiki/Microearthquake\" title=\"Microearthquake\">Micro</a></td>\\n<td>I</td>\\n<td>Microearthquakes, not felt, or felt rarely. Recorded by seismographs.<sup class=\"reference\" id=\"cite_ref-16\"><a href=\"#cite_note-16\">[16]</a></sup></td>\\n<td>Continual/several million per year</td>\\n</tr>\\n<tr>\\n<td>2.0\\u20132.9</td>\\n<td rowspan=\"2\">Minor</td>\\n<td>I to II</td>\\n<td>Felt slightly by some people. No damage to buildings.</td>\\n<td>Over one million per year</td>\\n</tr>\\n<tr>\\n<td>3.0\\u20133.9</td>\\n<td>III to IV</td>\\n<td>Often felt by people, but very rarely causes damage. Shaking of indoor objects can be noticeable.</td>\\n<td>Over 100,000 per year</td>\\n</tr>\\n<tr>\\n<td>4.0\\u20134.9</td>\\n<td>Light</td>\\n<td>IV to VI</td>\\n<td>Noticeable shaking of indoor objects and rattling noises. Felt by most people in the affected area. Slightly felt outside. Generally causes none to minimal damage. Moderate to significant damage very unlikely. Some objects may fall off shelves or be knocked over.</td>\\n<td>10,000 to 15,000 per year</td>\\n</tr>\\n<tr>\\n<td>5.0\\u20135.9</td>\\n<td>Moderate</td>\\n<td>VI to VIII</td>\\n<td>Can cause damage of varying severity to poorly constructed buildings. At most, none to slight damage to all other buildings. Felt by everyone.</td>\\n<td>1,000 to 1,500 per year</td>\\n</tr>\\n<tr>\\n<td>6.0\\u20136.9</td>\\n<td>Strong</td>\\n<td>VII to X</td>\\n<td>Damage to a moderate number of well-built structures in populated areas. Earthquake-resistant structures survive with slight to moderate damage. Poorly designed structures receive moderate to severe damage. Felt in wider areas; up to hundreds of miles/kilometers from the epicenter. Strong to violent shaking in epicentral area.</td>\\n<td>100 to 150 per year</td>\\n</tr>\\n<tr>\\n<td>7.0\\u20137.9</td>\\n<td>Major</td>\\n<td rowspan=\"3\">VIII or greater<sup class=\"reference\" id=\"cite_ref-17\"><a href=\"#cite_note-17\">[17]</a></sup></td>\\n<td>Causes damage to most buildings, some to partially or completely collapse or receive severe damage. Well-designed structures are likely to receive damage. Felt across great distances with major damage mostly limited to 250\\xa0km from epicenter.</td>\\n<td>10 to 20 per year</td>\\n</tr>\\n<tr>\\n<td>8.0\\u20138.9</td>\\n<td rowspan=\"2\">Great</td>\\n<td>Major damage to buildings, structures likely to be destroyed. Will cause moderate to heavy damage to sturdy or earthquake-resistant buildings. Damaging in large areas. Felt in extremely large regions.</td>\\n<td>One per year</td>\\n</tr>\\n<tr>\\n<td>9.0 and greater</td>\\n<td>At or near total destruction \\u2013 severe damage or collapse to all buildings. Heavy damage and shaking extends to distant locations. Permanent changes in ground topography.</td>\\n<td>One per 10 to 50 years</td>\\n</tr>\\n</table>,\n",
       " <table class=\"wikitable\">\\n<tr>\\n<th>Approximate magnitude</th>\\n<th>Approximate TNT equivalent for<br/>\\nseismic energy yield</th>\\n<th>Joule equivalent</th>\\n<th>Example</th>\\n</tr>\\n<tr>\\n<td>0.0</td>\\n<td>15 g</td>\\n<td>63 kJ</td>\\n<td></td>\\n</tr>\\n<tr>\\n<td>0.2</td>\\n<td>30 g</td>\\n<td>130 kJ</td>\\n<td>Large <a class=\"mw-redirect\" href=\"/wiki/Hand_grenade\" title=\"Hand grenade\">hand grenade</a></td>\\n</tr>\\n<tr>\\n<td>1.5</td>\\n<td>2.7\\xa0kg</td>\\n<td>11 MJ</td>\\n<td>Seismic impact of typical small construction blast</td>\\n</tr>\\n<tr>\\n<td>2.1</td>\\n<td>21\\xa0kg</td>\\n<td>89 MJ</td>\\n<td><a class=\"mw-redirect\" href=\"/wiki/West_fertilizer_plant_explosion\" title=\"West fertilizer plant explosion\">West fertilizer plant explosion</a><sup class=\"reference\" id=\"cite_ref-22\"><a href=\"#cite_note-22\">[22]</a></sup></td>\\n</tr>\\n<tr>\\n<td>3.0</td>\\n<td>480\\xa0kg</td>\\n<td>2.0 GJ</td>\\n<td><a href=\"/wiki/Oklahoma_City_bombing\" title=\"Oklahoma City bombing\">Oklahoma City bombing</a>, 1995</td>\\n</tr>\\n<tr>\\n<td>3.5</td>\\n<td>2.7 metric tons</td>\\n<td>11 GJ</td>\\n<td><a href=\"/wiki/PEPCON_disaster\" title=\"PEPCON disaster\">PEPCON fuel plant explosion, Henderson, Nevada</a>, 1988</td>\\n</tr>\\n<tr>\\n<td>3.87</td>\\n<td>9.5 metric tons</td>\\n<td>40 GJ</td>\\n<td><a href=\"/wiki/Chernobyl_disaster\" title=\"Chernobyl disaster\">Explosion at Chernobyl nuclear power plant</a>, 1986</td>\\n</tr>\\n<tr>\\n<td>3.91</td>\\n<td>11 metric tons</td>\\n<td>46 GJ</td>\\n<td><a class=\"mw-redirect\" href=\"/wiki/GBU-43/B_Massive_Ordnance_Air_Blast_bomb\" title=\"GBU-43/B Massive Ordnance Air Blast bomb\">Massive Ordnance Air Blast bomb</a></td>\\n</tr>\\n<tr>\\n<td>6.0</td>\\n<td>15 kilotons</td>\\n<td>63 TJ</td>\\n<td>Approximate yield of the <a href=\"/wiki/Little_Boy\" title=\"Little Boy\">Little Boy</a> atomic bomb dropped on <a href=\"/wiki/Hiroshima\" title=\"Hiroshima\">Hiroshima</a> (~16 kt)<br/></td>\\n</tr>\\n<tr>\\n<td>7.9</td>\\n<td>10.7 megatons</td>\\n<td>45 PJ</td>\\n<td><a href=\"/wiki/Tunguska_event\" title=\"Tunguska event\">Tunguska event</a></td>\\n</tr>\\n<tr>\\n<td>8.35</td>\\n<td>50 megatons</td>\\n<td>210 PJ</td>\\n<td><a href=\"/wiki/Tsar_Bomba\" title=\"Tsar Bomba\">Tsar Bomba</a>\\u2014Largest thermonuclear weapon ever tested. Most of the energy was dissipated in the atmosphere. The seismic shock was estimated at 5.0\\u20135.2<sup class=\"reference\" id=\"cite_ref-23\"><a href=\"#cite_note-23\">[23]</a></sup></td>\\n</tr>\\n<tr>\\n<td>9.15</td>\\n<td>800 megatons</td>\\n<td>3.3 EJ</td>\\n<td><a href=\"/wiki/Toba_catastrophe_theory#The_Eruption\" title=\"Toba catastrophe theory\">Toba eruption</a> 75,000 years ago; among the largest known volcanic events.<sup class=\"reference\" id=\"cite_ref-24\"><a href=\"#cite_note-24\">[24]</a></sup></td>\\n</tr>\\n<tr>\\n<td>13.0</td>\\n<td>100 teratons</td>\\n<td>420 ZJ</td>\\n<td><a href=\"/wiki/Yucat%C3%A1n_Peninsula\" title=\"Yucat\\xe1n Peninsula\">Yucat\\xe1n Peninsula</a> impact (creating <a href=\"/wiki/Chicxulub_crater\" title=\"Chicxulub crater\">Chicxulub crater</a>) 65 <a class=\"mw-redirect\" href=\"/wiki/Mya_(unit)\" title=\"Mya (unit)\">Ma</a> ago (10<sup>8</sup> megatons; over 4\\xd710<sup>29</sup> ergs = <a class=\"mw-redirect\" href=\"/wiki/1_E21_J\" title=\"1 E21 J\">400 ZJ</a>).<sup class=\"reference\" id=\"cite_ref-25\"><a href=\"#cite_note-25\">[25]</a></sup><sup class=\"reference\" id=\"cite_ref-26\"><a href=\"#cite_note-26\">[26]</a></sup><sup class=\"reference\" id=\"cite_ref-27\"><a href=\"#cite_note-27\">[27]</a></sup><sup class=\"reference\" id=\"cite_ref-28\"><a href=\"#cite_note-28\">[28]</a></sup><sup class=\"reference\" id=\"cite_ref-29\"><a href=\"#cite_note-29\">[29]</a></sup></td>\\n</tr>\\n</table>]"
      ]
     },
     "execution_count": 111,
     "metadata": {},
     "output_type": "execute_result"
    }
   ],
   "source": [
    "page = response.content\n",
    "scraping = BeautifulSoup(page, \"lxml\") \n",
    "scraping\n",
    "scraping_html_table = BeautifulSoup(response.content)\n",
    "scraping_html_table_mag = scraping.find_all(\"table\", \"wikitable\")\n",
    "scraping_html_table_mag"
   ]
  },
  {
   "cell_type": "code",
   "execution_count": 114,
   "metadata": {
    "collapsed": false
   },
   "outputs": [
    {
     "data": {
      "text/html": [
       "<div>\n",
       "<table border=\"1\" class=\"dataframe\">\n",
       "  <thead>\n",
       "    <tr style=\"text-align: right;\">\n",
       "      <th></th>\n",
       "      <th>0</th>\n",
       "      <th>1</th>\n",
       "      <th>2</th>\n",
       "      <th>3</th>\n",
       "    </tr>\n",
       "  </thead>\n",
       "  <tbody>\n",
       "    <tr>\n",
       "      <th>0</th>\n",
       "      <td>Approximate magnitude</td>\n",
       "      <td>Approximate TNT equivalent for\\nseismic energy...</td>\n",
       "      <td>Joule equivalent</td>\n",
       "      <td>Example</td>\n",
       "    </tr>\n",
       "    <tr>\n",
       "      <th>1</th>\n",
       "      <td>0.0</td>\n",
       "      <td>15 g</td>\n",
       "      <td>63 kJ</td>\n",
       "      <td>NaN</td>\n",
       "    </tr>\n",
       "    <tr>\n",
       "      <th>2</th>\n",
       "      <td>0.2</td>\n",
       "      <td>30 g</td>\n",
       "      <td>130 kJ</td>\n",
       "      <td>Large hand grenade</td>\n",
       "    </tr>\n",
       "    <tr>\n",
       "      <th>3</th>\n",
       "      <td>1.5</td>\n",
       "      <td>2.7\\xa0kg</td>\n",
       "      <td>11 MJ</td>\n",
       "      <td>Seismic impact of typical small construction b...</td>\n",
       "    </tr>\n",
       "    <tr>\n",
       "      <th>4</th>\n",
       "      <td>2.1</td>\n",
       "      <td>21\\xa0kg</td>\n",
       "      <td>89 MJ</td>\n",
       "      <td>West fertilizer plant explosion[22]</td>\n",
       "    </tr>\n",
       "    <tr>\n",
       "      <th>5</th>\n",
       "      <td>3.0</td>\n",
       "      <td>480\\xa0kg</td>\n",
       "      <td>2.0 GJ</td>\n",
       "      <td>Oklahoma City bombing, 1995</td>\n",
       "    </tr>\n",
       "    <tr>\n",
       "      <th>6</th>\n",
       "      <td>3.5</td>\n",
       "      <td>2.7 metric tons</td>\n",
       "      <td>11 GJ</td>\n",
       "      <td>PEPCON fuel plant explosion, Henderson, Nevada...</td>\n",
       "    </tr>\n",
       "    <tr>\n",
       "      <th>7</th>\n",
       "      <td>3.87</td>\n",
       "      <td>9.5 metric tons</td>\n",
       "      <td>40 GJ</td>\n",
       "      <td>Explosion at Chernobyl nuclear power plant, 1986</td>\n",
       "    </tr>\n",
       "    <tr>\n",
       "      <th>8</th>\n",
       "      <td>3.91</td>\n",
       "      <td>11 metric tons</td>\n",
       "      <td>46 GJ</td>\n",
       "      <td>Massive Ordnance Air Blast bomb</td>\n",
       "    </tr>\n",
       "    <tr>\n",
       "      <th>9</th>\n",
       "      <td>6.0</td>\n",
       "      <td>15 kilotons</td>\n",
       "      <td>63 TJ</td>\n",
       "      <td>Approximate yield of the Little Boy atomic bom...</td>\n",
       "    </tr>\n",
       "    <tr>\n",
       "      <th>10</th>\n",
       "      <td>7.9</td>\n",
       "      <td>10.7 megatons</td>\n",
       "      <td>45 PJ</td>\n",
       "      <td>Tunguska event</td>\n",
       "    </tr>\n",
       "    <tr>\n",
       "      <th>11</th>\n",
       "      <td>8.35</td>\n",
       "      <td>50 megatons</td>\n",
       "      <td>210 PJ</td>\n",
       "      <td>Tsar Bomba\\u2014Largest thermonuclear weapon e...</td>\n",
       "    </tr>\n",
       "    <tr>\n",
       "      <th>12</th>\n",
       "      <td>9.15</td>\n",
       "      <td>800 megatons</td>\n",
       "      <td>3.3 EJ</td>\n",
       "      <td>Toba eruption 75,000 years ago; among the larg...</td>\n",
       "    </tr>\n",
       "    <tr>\n",
       "      <th>13</th>\n",
       "      <td>13.0</td>\n",
       "      <td>100 teratons</td>\n",
       "      <td>420 ZJ</td>\n",
       "      <td>Yucat\\xe1n Peninsula impact (creating Chicxulu...</td>\n",
       "    </tr>\n",
       "  </tbody>\n",
       "</table>\n",
       "</div>"
      ],
      "text/plain": [
       "                        0                                                  1  \\\n",
       "0   Approximate magnitude  Approximate TNT equivalent for\\nseismic energy...   \n",
       "1                     0.0                                               15 g   \n",
       "2                     0.2                                               30 g   \n",
       "3                     1.5                                          2.7\\xa0kg   \n",
       "4                     2.1                                           21\\xa0kg   \n",
       "5                     3.0                                          480\\xa0kg   \n",
       "6                     3.5                                    2.7 metric tons   \n",
       "7                    3.87                                    9.5 metric tons   \n",
       "8                    3.91                                     11 metric tons   \n",
       "9                     6.0                                        15 kilotons   \n",
       "10                    7.9                                      10.7 megatons   \n",
       "11                   8.35                                        50 megatons   \n",
       "12                   9.15                                       800 megatons   \n",
       "13                   13.0                                       100 teratons   \n",
       "\n",
       "                   2                                                  3  \n",
       "0   Joule equivalent                                            Example  \n",
       "1              63 kJ                                                NaN  \n",
       "2             130 kJ                                 Large hand grenade  \n",
       "3              11 MJ  Seismic impact of typical small construction b...  \n",
       "4              89 MJ                West fertilizer plant explosion[22]  \n",
       "5             2.0 GJ                        Oklahoma City bombing, 1995  \n",
       "6              11 GJ  PEPCON fuel plant explosion, Henderson, Nevada...  \n",
       "7              40 GJ   Explosion at Chernobyl nuclear power plant, 1986  \n",
       "8              46 GJ                    Massive Ordnance Air Blast bomb  \n",
       "9              63 TJ  Approximate yield of the Little Boy atomic bom...  \n",
       "10             45 PJ                                     Tunguska event  \n",
       "11            210 PJ  Tsar Bomba\\u2014Largest thermonuclear weapon e...  \n",
       "12            3.3 EJ  Toba eruption 75,000 years ago; among the larg...  \n",
       "13            420 ZJ  Yucat\\xe1n Peninsula impact (creating Chicxulu...  "
      ]
     },
     "execution_count": 114,
     "metadata": {},
     "output_type": "execute_result"
    }
   ],
   "source": [
    "df = pd.read_html(str(scraping_html_table_mag))\n",
    "df[1]"
   ]
  },
  {
   "cell_type": "markdown",
   "metadata": {},
   "source": [
    "## 2. Web APIs"
   ]
  },
  {
   "cell_type": "markdown",
   "metadata": {},
   "source": [
    "Web servers serve out web pages in the HTML format as they are requested by users. Web servers are also capable of providing data that is not formatted in HTML. \n",
    "\n",
    "These web servers provide public (and private) APIs through which users can interact, construct queries that the web servers understand, and receive data from them. \n",
    "\n",
    "Depending on who owns them, web servers will have different APIs. They usually provide developer help pages that demonstrate how they work and how queries can be constructed using HTTP which the servers understand.\n",
    "\n",
    "Many websites have public APIs providing data feeds via JSON or some other common formats. We will consider only **JSON** as it is becoming a standard, and is conveniently, virtually identical to python's dictionaries in its syntax. \n",
    "\n",
    "Increasingly though, in order to access these APIs we must register for API Keys. They are **credentials**. Some of them are free and simply require that an account be created with a given website, while others must be purchased and have limits on the amount of data that can be pulled.\n",
    "\n",
    "There are a number of ways to access these APIs. **REST** is becoming the most common mechanism. "
   ]
  },
  {
   "cell_type": "markdown",
   "metadata": {},
   "source": [
    "### REST"
   ]
  },
  {
   "cell_type": "markdown",
   "metadata": {},
   "source": [
    "**REST is a lightweight mechanism built on top of the HTTP protocol** which enables applications to exchange data with severs. \n",
    "\n",
    "A combination of HTTP requests, together with valid REST queries can easily be constructed from Python. One easy-to-use method is through the `requests` package (http://docs.python-requests.org).\n",
    "\n",
    "Previously, using Web Services and SOAP would result in queries like:"
   ]
  },
  {
   "cell_type": "raw",
   "metadata": {},
   "source": [
    "<?xml version=\"1.0\"?>\n",
    "<soap:Envelope\n",
    "xmlns:soap=\"http://www.w3.org/2001/12/soap-envelope\"\n",
    "soap:encodingStyle=\"http://www.w3.org/2001/12/soap-encoding\">\n",
    " <soap:body pb=\"http://www.whitepages.com/phonebook\">\n",
    "  <pb:GetUserDetails>\n",
    "   <pb:UserID>12345678</pb:UserID>\n",
    "  </pb:GetUserDetails>\n",
    " </soap:Body>\n",
    "</soap:Envelope>"
   ]
  },
  {
   "cell_type": "markdown",
   "metadata": {},
   "source": [
    "Using REST, such clumsy queries can be transformed into simple HTTP requests of a format (1) like:"
   ]
  },
  {
   "cell_type": "raw",
   "metadata": {},
   "source": [
    "http://www.whitepages.com/phonebook/UserDetails/12345678"
   ]
  },
  {
   "cell_type": "markdown",
   "metadata": {},
   "source": [
    "Or alternatively, passing arguments using format (2) as follows:"
   ]
  },
  {
   "cell_type": "raw",
   "metadata": {},
   "source": [
    "http://www.whitepages.com/phonebook?UserDetails=12345678"
   ]
  },
  {
   "cell_type": "markdown",
   "metadata": {},
   "source": [
    "There are slight differences in what you can expect from the two formats. Format 1 (path segment parameter) will return a 404 error when the parameter value does not correspond to an existing resource. \n",
    "\n",
    "Format 2 uses optional parameters. Instead of en error, this format will return an empty list when the parameter is not found in the query result. \n",
    "\n",
    "Example (no longer works as the API for Echonest has been taken ovber by Spotify this year and has been deprecated):"
   ]
  },
  {
   "cell_type": "code",
   "execution_count": 40,
   "metadata": {
    "collapsed": false
   },
   "outputs": [
    {
     "data": {
      "text/plain": [
       "<Response [403]>"
      ]
     },
     "execution_count": 40,
     "metadata": {},
     "output_type": "execute_result"
    }
   ],
   "source": [
    "#echonest api - http://developer.echonest.com/index.html\n",
    "url = \"http://developer.echonest.com/api/v4/artist/reviews?api_key=YB4F9B7ZLS2YMOGUG&id=ARH6W4X1187B99274F&format=json&results=1&start=0\"\n",
    "response = requests.get(url, proxies=massey_proxies)\n",
    "\n",
    "#we want HTTP Response 200\n",
    "response"
   ]
  },
  {
   "cell_type": "code",
   "execution_count": 41,
   "metadata": {
    "collapsed": false
   },
   "outputs": [
    {
     "data": {
      "text/plain": [
       "{u'response': {u'status': {u'code': 2,\n",
       "   u'message': u'2|API key not allowed: \"YB4F9B7ZLS2YMOGUG\" is not allowed to call this method',\n",
       "   u'version': u'4.2'}}}"
      ]
     },
     "execution_count": 41,
     "metadata": {},
     "output_type": "execute_result"
    }
   ],
   "source": [
    "response_json = response.content\n",
    "json.loads(response_json)"
   ]
  },
  {
   "cell_type": "markdown",
   "metadata": {},
   "source": [
    "### JSON"
   ]
  },
  {
   "cell_type": "markdown",
   "metadata": {},
   "source": [
    "JSON (short for JavaScript Object Notation) has become one of the standard formats\n",
    "for sending data by HTTP request between web servers and browsers and other applications. \n",
    "\n",
    "It is a much more flexible data format than a tabular text form like CSV. \n",
    "\n",
    "Here is an example:"
   ]
  },
  {
   "cell_type": "code",
   "execution_count": 122,
   "metadata": {
    "collapsed": false
   },
   "outputs": [
    {
     "data": {
      "text/plain": [
       "'\\n{\"name\": \"Massey University\",\\n\"campuses_NZ\": [\"Albany\", \"Palmerston North\", \"Wellington\"],\\n\"campuses_international\": null,\\n\"colleges\": [{\"name\": \"Sciences\", \"degrees\": 10, \"majors\": 30},\\n{\"name\": \"Business\", \"degrees\": 8, \"majors\": 25}]\\n}\\n'"
      ]
     },
     "execution_count": 122,
     "metadata": {},
     "output_type": "execute_result"
    }
   ],
   "source": [
    "#In Python triple-quoted strings allow us to include strings that have escape chars in it.\n",
    "obj = \"\"\"\n",
    "{\"name\": \"Massey University\",\n",
    "\"campuses_NZ\": [\"Albany\", \"Palmerston North\", \"Wellington\"],\n",
    "\"campuses_international\": null,\n",
    "\"colleges\": [{\"name\": \"Sciences\", \"degrees\": 10, \"majors\": 30},\n",
    "{\"name\": \"Business\", \"degrees\": 8, \"majors\": 25}]\n",
    "}\n",
    "\"\"\"\n",
    "obj\n",
    "#type(obj)\n"
   ]
  },
  {
   "cell_type": "markdown",
   "metadata": {},
   "source": [
    "JSON is very nearly valid Python code with the exception of its null value `null` and\n",
    "some other nuances (such as disallowing trailing commas at the end of lists). The basic\n",
    "types are objects (dicts), arrays (lists), strings, numbers, booleans, and nulls. \n",
    "\n",
    "**All of the keys in an object must be strings**. There are several Python libraries for reading and\n",
    "writing JSON data. We will use `json` here as it is built into the Python standard library. \n",
    "\n",
    "To convert (deserialize) a JSON string from above to an equivalent Python object (`dict`), use `json.loads`:"
   ]
  },
  {
   "cell_type": "code",
   "execution_count": 43,
   "metadata": {
    "collapsed": false
   },
   "outputs": [
    {
     "data": {
      "text/plain": [
       "{u'campuses_NZ': [u'Albany', u'Palmerston North', u'Wellington'],\n",
       " u'campuses_international': None,\n",
       " u'colleges': [{u'degrees': 10, u'majors': 30, u'name': u'Sciences'},\n",
       "  {u'degrees': 8, u'majors': 25, u'name': u'Business'}],\n",
       " u'name': u'Massey University'}"
      ]
     },
     "execution_count": 43,
     "metadata": {},
     "output_type": "execute_result"
    }
   ],
   "source": [
    "result = json.loads(obj)\n",
    "result"
   ]
  },
  {
   "cell_type": "markdown",
   "metadata": {},
   "source": [
    "`json.dumps` on the other hand converts a Python object back to JSON:"
   ]
  },
  {
   "cell_type": "code",
   "execution_count": 44,
   "metadata": {
    "collapsed": false
   },
   "outputs": [
    {
     "data": {
      "text/plain": [
       "'{\"campuses_international\": null, \"campuses_NZ\": [\"Albany\", \"Palmerston North\", \"Wellington\"], \"colleges\": [{\"majors\": 30, \"degrees\": 10, \"name\": \"Sciences\"}, {\"majors\": 25, \"degrees\": 8, \"name\": \"Business\"}], \"name\": \"Massey University\"}'"
      ]
     },
     "execution_count": 44,
     "metadata": {},
     "output_type": "execute_result"
    }
   ],
   "source": [
    "as_json = json.dumps(result)\n",
    "as_json"
   ]
  },
  {
   "cell_type": "markdown",
   "metadata": {},
   "source": [
    "How you convert a JSON object or list of objects to a DataFrame or some other data\n",
    "structure for analysis will be up to you. Conveniently, you can pass a list of JSON objects\n",
    "to the DataFrame constructor and select a subset of the data fields:"
   ]
  },
  {
   "cell_type": "code",
   "execution_count": 45,
   "metadata": {
    "collapsed": false
   },
   "outputs": [
    {
     "data": {
      "text/html": [
       "<div>\n",
       "<table border=\"1\" class=\"dataframe\">\n",
       "  <thead>\n",
       "    <tr style=\"text-align: right;\">\n",
       "      <th></th>\n",
       "      <th>name</th>\n",
       "      <th>degrees</th>\n",
       "    </tr>\n",
       "  </thead>\n",
       "  <tbody>\n",
       "    <tr>\n",
       "      <th>0</th>\n",
       "      <td>Sciences</td>\n",
       "      <td>10</td>\n",
       "    </tr>\n",
       "    <tr>\n",
       "      <th>1</th>\n",
       "      <td>Business</td>\n",
       "      <td>8</td>\n",
       "    </tr>\n",
       "  </tbody>\n",
       "</table>\n",
       "</div>"
      ],
      "text/plain": [
       "       name  degrees\n",
       "0  Sciences       10\n",
       "1  Business        8"
      ]
     },
     "execution_count": 45,
     "metadata": {},
     "output_type": "execute_result"
    }
   ],
   "source": [
    "massey_colleges = pd.DataFrame(result['colleges'], columns=['name', 'degrees'])\n",
    "massey_colleges"
   ]
  },
  {
   "cell_type": "markdown",
   "metadata": {},
   "source": [
    "We can convert a data frame back to a JSON object with the following:"
   ]
  },
  {
   "cell_type": "code",
   "execution_count": 46,
   "metadata": {
    "collapsed": false
   },
   "outputs": [
    {
     "data": {
      "text/plain": [
       "'{\"name\":{\"0\":\"Sciences\",\"1\":\"Business\"},\"degrees\":{\"0\":10,\"1\":8}}'"
      ]
     },
     "execution_count": 46,
     "metadata": {},
     "output_type": "execute_result"
    }
   ],
   "source": [
    "massey_colleges.to_json()"
   ]
  },
  {
   "cell_type": "markdown",
   "metadata": {},
   "source": [
    "### Forming an API query"
   ]
  },
  {
   "cell_type": "markdown",
   "metadata": {},
   "source": [
    "Yahoo makes a weather forecast API available https://developer.yahoo.com/weather/ with the documentation on its usage here https://developer.yahoo.com/weather/documentation.html\n",
    "\n",
    "It is important to study the documentation for each particular API as they are likely to be very different.\n",
    "\n",
    "The following shows the weather forecast for the current wind conditions in Auckland:"
   ]
  },
  {
   "cell_type": "code",
   "execution_count": 47,
   "metadata": {
    "collapsed": false
   },
   "outputs": [
    {
     "data": {
      "text/plain": [
       "{u'query': {u'count': 1,\n",
       "  u'created': u'2016-08-17T03:09:04Z',\n",
       "  u'lang': u'en-US',\n",
       "  u'results': {u'channel': {u'wind': {u'chill': u'57',\n",
       "     u'direction': u'203',\n",
       "     u'speed': u'7'}}}}}"
      ]
     },
     "execution_count": 47,
     "metadata": {},
     "output_type": "execute_result"
    }
   ],
   "source": [
    "import urllib2, urllib, json\n",
    "\n",
    "baseurl = \"https://query.yahooapis.com/v1/public/yql?\"\n",
    "# auckland is id 2348079\n",
    "yql_query = \"select wind from weather.forecast where woeid=2348079\"\n",
    "yql_url = baseurl + urllib.urlencode({'q':yql_query}) + \"&format=json\"\n",
    "result = urllib2.urlopen(yql_url).read()\n",
    "data = json.loads(result)\n",
    "\n",
    "data"
   ]
  },
  {
   "cell_type": "code",
   "execution_count": 48,
   "metadata": {
    "collapsed": false
   },
   "outputs": [
    {
     "name": "stdout",
     "output_type": "stream",
     "text": [
      "{u'channel': {u'wind': {u'direction': u'203', u'speed': u'7', u'chill': u'57'}}}\n"
     ]
    }
   ],
   "source": [
    "print data['query']['results']"
   ]
  },
  {
   "cell_type": "markdown",
   "metadata": {},
   "source": [
    "Code below queries for the current weather conditions in Auckland:"
   ]
  },
  {
   "cell_type": "code",
   "execution_count": 49,
   "metadata": {
    "collapsed": false
   },
   "outputs": [
    {
     "data": {
      "text/plain": [
       "{u'query': {u'count': 1,\n",
       "  u'created': u'2016-08-17T03:09:09Z',\n",
       "  u'lang': u'en-US',\n",
       "  u'results': {u'channel': {u'item': {u'condition': {u'code': u'34',\n",
       "      u'date': u'Wed, 17 Aug 2016 02:00 PM NZST',\n",
       "      u'temp': u'13',\n",
       "      u'text': u'Mostly Sunny'}}}}}}"
      ]
     },
     "execution_count": 49,
     "metadata": {},
     "output_type": "execute_result"
    }
   ],
   "source": [
    "yql_query = \"select item.condition from weather.forecast where woeid =2348079 and u='c' \"\n",
    "yql_url = baseurl + urllib.urlencode({'q':yql_query}) + \"&format=json\"\n",
    "result = urllib2.urlopen(yql_url).read()\n",
    "data = json.loads(result)\n",
    "\n",
    "data"
   ]
  },
  {
   "cell_type": "markdown",
   "metadata": {},
   "source": [
    "**Exercise:** Find out the ID for Wellington and search for the current weather conditions there:"
   ]
  },
  {
   "cell_type": "code",
   "execution_count": 124,
   "metadata": {
    "collapsed": false
   },
   "outputs": [
    {
     "data": {
      "text/plain": [
       "{u'query': {u'count': 1,\n",
       "  u'created': u'2016-08-17T04:34:15Z',\n",
       "  u'lang': u'en-US',\n",
       "  u'results': {u'channel': {u'wind': {u'chill': u'48',\n",
       "     u'direction': u'0',\n",
       "     u'speed': u'18'}}}}}"
      ]
     },
     "execution_count": 124,
     "metadata": {},
     "output_type": "execute_result"
    }
   ],
   "source": [
    "import urllib2, urllib, json\n",
    "\n",
    "baseurl = \"https://query.yahooapis.com/v1/public/yql?\"\n",
    "# wellington is id 2351310\n",
    "yql_query = \"select wind from weather.forecast where woeid=2351310\"\n",
    "yql_url = baseurl + urllib.urlencode({'q':yql_query}) + \"&format=json\"\n",
    "result = urllib2.urlopen(yql_url).read()\n",
    "data = json.loads(result)\n",
    "\n",
    "data"
   ]
  },
  {
   "cell_type": "markdown",
   "metadata": {},
   "source": [
    "## Proprietary API Wrapper Modules"
   ]
  },
  {
   "cell_type": "markdown",
   "metadata": {},
   "source": [
    "Well established companies will sometimes write and make available modules in various programming languages that form a wrapper around their REST APIs and an easier interface for communicating with their servers.\n",
    "\n",
    "Spotify is an example of such a company that has provided a Python module. Some of their APIs are free-access and some require an account to be created with them first. Premium content can only be pulled from their servers using a paid Premium account."
   ]
  },
  {
   "cell_type": "code",
   "execution_count": 50,
   "metadata": {
    "collapsed": false
   },
   "outputs": [
    {
     "name": "stdout",
     "output_type": "stream",
     "text": [
      "Collecting spotipy\n",
      "  Downloading spotipy-2.3.8.tar.gz\n",
      "Requirement already satisfied (use --upgrade to upgrade): requests>=1.0 in d:\\program files\\anaconda\\lib\\site-packages (from spotipy)\n",
      "Building wheels for collected packages: spotipy\n",
      "  Running setup.py bdist_wheel for spotipy: started\n",
      "  Running setup.py bdist_wheel for spotipy: finished with status 'done'\n",
      "  Stored in directory: C:\\Users\\OEM\\AppData\\Local\\pip\\Cache\\wheels\\2b\\5b\\e8\\05820c08321dafd920a5bfa63362476536dd77c98c49e169de\n",
      "Successfully built spotipy\n",
      "Installing collected packages: spotipy\n",
      "Successfully installed spotipy-2.3.8\n"
     ]
    }
   ],
   "source": [
    "!pip install spotipy"
   ]
  },
  {
   "cell_type": "markdown",
   "metadata": {},
   "source": [
    "Example of a search query for Madonna:"
   ]
  },
  {
   "cell_type": "code",
   "execution_count": 51,
   "metadata": {
    "collapsed": false
   },
   "outputs": [
    {
     "name": "stdout",
     "output_type": "stream",
     "text": [
      "(' ', 0, u'Madonna')\n",
      "(' ', 1, u'Like A Prayer')\n",
      "(' ', 2, u\"Bitch I'm Madonna\")\n",
      "(' ', 3, u'Material Girl')\n",
      "(' ', 4, u'Vogue')\n",
      "(' ', 5, u'4 Minutes - feat. Justin Timberlake And Timbaland')\n",
      "(' ', 6, u'Lady Madonna - Remastered 2015')\n",
      "(' ', 7, u'Like A Virgin')\n",
      "(' ', 8, u'Into The Groove')\n",
      "(' ', 9, u\"Bitch I'm Madonna\")\n",
      "(' ', 10, u'Like A Virgin')\n",
      "(' ', 11, u'La Isla Bonita')\n",
      "(' ', 12, u'Holiday')\n",
      "(' ', 13, u'Like A Prayer')\n",
      "(' ', 14, u'Holiday')\n",
      "(' ', 15, u'Borderline')\n",
      "(' ', 16, u\"Bitch I'm Madonna\")\n",
      "(' ', 17, u'Crazy For You')\n",
      "(' ', 18, u'Lucky Star')\n",
      "(' ', 19, u'Hung Up')\n"
     ]
    }
   ],
   "source": [
    "import spotipy\n",
    "\n",
    "sp = spotipy.Spotify()\n",
    "results = sp.search(q='madonna', limit=20)\n",
    "for i, t in enumerate(results['tracks']['items']):\n",
    "    print(' ', i, t['name'])"
   ]
  },
  {
   "cell_type": "markdown",
   "metadata": {
    "collapsed": false
   },
   "source": [
    "Below is  example code adapted from https://github.com/plamere/spotipy/blob/master/examples/artist_albums.py showing how to query Spotify and show the albums and tracks for a given artist."
   ]
  },
  {
   "cell_type": "code",
   "execution_count": 52,
   "metadata": {
    "collapsed": true
   },
   "outputs": [],
   "source": [
    "def get_artist(name):\n",
    "    results = sp.search(q='artist:' + name, type='artist')\n",
    "    items = results['artists']['items']\n",
    "    if len(items) > 0:\n",
    "        return items[0]\n",
    "    else:\n",
    "        return None\n",
    "    \n",
    "def show_artist_albums(artist):\n",
    "    albums = []\n",
    "    results = sp.artist_albums(artist['id'], album_type='album')\n",
    "    albums.extend(results['items'])\n",
    "    while results['next']:\n",
    "        results = sp.next(results)\n",
    "        albums.extend(results['items'])\n",
    "    seen = set() # to avoid dups\n",
    "    albums.sort(key=lambda album:album['name'].lower())\n",
    "    for album in albums:\n",
    "        name = album['name']\n",
    "        if name not in seen:\n",
    "            print((' ' + name))\n",
    "            seen.add(name)\n",
    "            "
   ]
  },
  {
   "cell_type": "code",
   "execution_count": 126,
   "metadata": {
    "collapsed": false,
    "scrolled": true
   },
   "outputs": [
    {
     "data": {
      "text/plain": [
       "{u'external_urls': {u'spotify': u'https://open.spotify.com/artist/1uNFoZAHBGtllmzznpCI3s'},\n",
       " u'followers': {u'href': None, u'total': 6136975},\n",
       " u'genres': [u'teen pop'],\n",
       " u'href': u'https://api.spotify.com/v1/artists/1uNFoZAHBGtllmzznpCI3s',\n",
       " u'id': u'1uNFoZAHBGtllmzznpCI3s',\n",
       " u'images': [{u'height': 1000,\n",
       "   u'url': u'https://i.scdn.co/image/5c3cf2ee3494e2da71dcf26303202ec491b26213',\n",
       "   u'width': 1000},\n",
       "  {u'height': 640,\n",
       "   u'url': u'https://i.scdn.co/image/2e451efa87b706098553583cffac821b7ebac450',\n",
       "   u'width': 640},\n",
       "  {u'height': 200,\n",
       "   u'url': u'https://i.scdn.co/image/ca283ddea2afc65c15d802d45ee3d3fd255ab4e2',\n",
       "   u'width': 200},\n",
       "  {u'height': 64,\n",
       "   u'url': u'https://i.scdn.co/image/ce41eb4beaad8d07fd55a68aba16b27e341a2e4f',\n",
       "   u'width': 64}],\n",
       " u'name': u'Justin Bieber',\n",
       " u'popularity': 94,\n",
       " u'type': u'artist',\n",
       " u'uri': u'spotify:artist:1uNFoZAHBGtllmzznpCI3s'}"
      ]
     },
     "execution_count": 126,
     "metadata": {},
     "output_type": "execute_result"
    }
   ],
   "source": [
    "artist = get_artist('Bieber')\n",
    "artist"
   ]
  },
  {
   "cell_type": "code",
   "execution_count": 54,
   "metadata": {
    "collapsed": false
   },
   "outputs": [
    {
     "name": "stdout",
     "output_type": "stream",
     "text": [
      " Believe\n",
      " Believe (Deluxe Edition)\n",
      " Believe Acoustic\n",
      " Journals\n",
      " My World\n",
      " My World (Canada Version - All BP's)\n",
      " My World (France Version)\n",
      " My World 2.0\n",
      " My Worlds\n",
      " My Worlds (International Version)\n",
      " My Worlds (Oz Version)\n",
      " My Worlds - The Collection (International Package)\n",
      " My Worlds - The Collection (Oz Package)\n",
      " My Worlds Acoustic\n",
      " Never Say Never - The Remixes\n",
      " Purpose (Deluxe)\n",
      " Under The Mistletoe\n",
      " Under The Mistletoe (Deluxe Edition)\n"
     ]
    }
   ],
   "source": [
    "show_artist_albums(artist)"
   ]
  },
  {
   "cell_type": "markdown",
   "metadata": {},
   "source": [
    "**Exercise:** Search for Taylor Swift and find out her current popularity rating ans well as the number of followers she has:"
   ]
  },
  {
   "cell_type": "code",
   "execution_count": 127,
   "metadata": {
    "collapsed": false
   },
   "outputs": [
    {
     "data": {
      "text/plain": [
       "<function keys>"
      ]
     },
     "execution_count": 127,
     "metadata": {},
     "output_type": "execute_result"
    }
   ],
   "source": [
    "artist.keys"
   ]
  },
  {
   "cell_type": "code",
   "execution_count": null,
   "metadata": {
    "collapsed": false
   },
   "outputs": [],
   "source": []
  },
  {
   "cell_type": "markdown",
   "metadata": {},
   "source": [
    "## API Repositories and Market Places"
   ]
  },
  {
   "cell_type": "markdown",
   "metadata": {},
   "source": [
    "A large number of other API repositories can be found under these links:\n",
    "\n",
    "http://www.publicapis.com/\n",
    "\n",
    "http://www.programmableweb.com/apis/directory\n",
    "\n",
    "Mashape (http://www.publicapis.com/) is the Cloud API Marketplace where developers can easily consume Cloud APIs to integrate in their next project, and where existing APIs can be distributed to the community and monetized.\n",
    "\n",
    "In order to access their APIs, it is usually required to at least create an account, while some web sites will charge fees for accessing their data. There are different ways of communicating with API servers. Mashape has created a python library that can simplify accessing their data. The library is called *unirest* and can easily be installed on your computer if you type in your command line the following line:"
   ]
  },
  {
   "cell_type": "code",
   "execution_count": 55,
   "metadata": {
    "collapsed": false,
    "scrolled": true
   },
   "outputs": [
    {
     "name": "stdout",
     "output_type": "stream",
     "text": [
      "Collecting unirest\n",
      "  Downloading Unirest-1.1.7.tar.gz\n",
      "Collecting poster>=0.8.1 (from unirest)\n",
      "  Downloading poster-0.8.1.tar.gz\n",
      "Building wheels for collected packages: unirest, poster\n",
      "  Running setup.py bdist_wheel for unirest: started\n",
      "  Running setup.py bdist_wheel for unirest: finished with status 'done'\n",
      "  Stored in directory: C:\\Users\\OEM\\AppData\\Local\\pip\\Cache\\wheels\\67\\ed\\96\\d2b57abe9692255f18d20de5e2b2e15f0ea4f34fa027baef32\n",
      "  Running setup.py bdist_wheel for poster: started\n",
      "  Running setup.py bdist_wheel for poster: finished with status 'done'\n",
      "  Stored in directory: C:\\Users\\OEM\\AppData\\Local\\pip\\Cache\\wheels\\7f\\50\\85\\e015e7056e73b6dac4653f1d27cee339c5adfa1b34c47bab9a\n",
      "Successfully built unirest poster\n",
      "Installing collected packages: poster, unirest\n",
      "Successfully installed poster-0.8.1 unirest-1.1.7\n"
     ]
    }
   ],
   "source": [
    "!pip install unirest"
   ]
  },
  {
   "cell_type": "code",
   "execution_count": 56,
   "metadata": {
    "collapsed": false
   },
   "outputs": [],
   "source": [
    "import unirest"
   ]
  },
  {
   "cell_type": "markdown",
   "metadata": {},
   "source": [
    "One of the free APIs listed under this market place is Bitcoin Exchange Rates which lists exchange rates between major companies and bitcoin as well as exchange rates between the major currencies.\n",
    "\n",
    "https://www.mashape.com/montanaflynn/bitcoin-exchange-rates#\n",
    "\n",
    "Below is an example of how to construct a query for the buying price of one bitcoin, wit hthe result returned in USD."
   ]
  },
  {
   "cell_type": "code",
   "execution_count": 57,
   "metadata": {
    "collapsed": false
   },
   "outputs": [
    {
     "data": {
      "text/plain": [
       "{u'amount': u'589.66',\n",
       " u'btc': {u'amount': u'1.00000000', u'currency': u'BTC'},\n",
       " u'currency': u'USD',\n",
       " u'fees': [{u'coinbase': {u'amount': u'5.69', u'currency': u'USD'}},\n",
       "  {u'bank': {u'amount': u'0.15', u'currency': u'USD'}}],\n",
       " u'subtotal': {u'amount': u'583.82', u'currency': u'USD'},\n",
       " u'total': {u'amount': u'589.66', u'currency': u'USD'}}"
      ]
     },
     "execution_count": 57,
     "metadata": {},
     "output_type": "execute_result"
    }
   ],
   "source": [
    "response = unirest.get(\"https://montanaflynn-bitcoin-exchange-rate.p.mashape.com/prices/buy?qty=1\",\n",
    "  headers={\n",
    "    \"X-Mashape-Key\": \"2BTWnoXPgrmshykB91haA2hod3UYp1FDVvyjsnjK3EfNKw5329\",\n",
    "    \"Accept\": \"text/plain\"\n",
    "  }\n",
    ")\n",
    "\n",
    "response.body"
   ]
  },
  {
   "cell_type": "code",
   "execution_count": 58,
   "metadata": {
    "collapsed": false
   },
   "outputs": [
    {
     "data": {
      "text/plain": [
       "dict"
      ]
     },
     "execution_count": 58,
     "metadata": {},
     "output_type": "execute_result"
    }
   ],
   "source": [
    "type(response.body)"
   ]
  },
  {
   "cell_type": "markdown",
   "metadata": {},
   "source": [
    "Notice that the type of the result response body is a familiar dictionary from which we can easily extract our data"
   ]
  },
  {
   "cell_type": "markdown",
   "metadata": {},
   "source": [
    "**Exercise:** Extract the total amount of the cost for 1 bitcoin."
   ]
  },
  {
   "cell_type": "code",
   "execution_count": null,
   "metadata": {
    "collapsed": false
   },
   "outputs": [],
   "source": []
  },
  {
   "cell_type": "code",
   "execution_count": null,
   "metadata": {
    "collapsed": false
   },
   "outputs": [],
   "source": []
  },
  {
   "cell_type": "code",
   "execution_count": null,
   "metadata": {
    "collapsed": false
   },
   "outputs": [],
   "source": []
  },
  {
   "cell_type": "markdown",
   "metadata": {},
   "source": [
    "**Exercise:** Execute a query for the cost of 15 for bitcoins and extract the total price from the dictionary."
   ]
  },
  {
   "cell_type": "code",
   "execution_count": null,
   "metadata": {
    "collapsed": false
   },
   "outputs": [],
   "source": []
  },
  {
   "cell_type": "markdown",
   "metadata": {},
   "source": [
    "**Exercise:** Search through the https://www.mashape.com/montanaflynn/bitcoin-exchange-rates# webpage and find out how to construct a query to extract from their API the sell price for a single bitcoin. Execute this and extract the price."
   ]
  },
  {
   "cell_type": "code",
   "execution_count": null,
   "metadata": {
    "collapsed": false
   },
   "outputs": [],
   "source": []
  },
  {
   "cell_type": "markdown",
   "metadata": {},
   "source": [
    "Below is an example of a query for extracting the current exchange rates between the major currencies"
   ]
  },
  {
   "cell_type": "code",
   "execution_count": 59,
   "metadata": {
    "collapsed": false,
    "scrolled": true
   },
   "outputs": [
    {
     "data": {
      "text/plain": [
       "{u'usd_to_byr': u'20026.25',\n",
       " u'ils_to_usd': u'0.264273',\n",
       " u'hrk_to_btc': u'0.000259',\n",
       " u'btc_to_eek': u'8091.215314',\n",
       " u'kmf_to_eth': u'0.000203',\n",
       " u'inr_to_eth': u'0.001342',\n",
       " u'jep_to_btc': u'0.002248',\n",
       " u'nok_to_usd': u'0.12201',\n",
       " u'btc_to_irr': u'17459927.52',\n",
       " u'ltc_to_uzs': u'8970.0',\n",
       " u'sos_to_eth': u'0.000154',\n",
       " u'bam_to_ltc': u'0.19174',\n",
       " u'irr_to_usd': u'0.000033',\n",
       " u'usd_to_hrk': u'6.64218',\n",
       " u'usd_to_nzd': u'1.371975',\n",
       " u'mur_to_ltc': u'0.009606',\n",
       " u'usd_to_tjs': u'7.86775',\n",
       " u'btc_to_sdg': u'3528.001758',\n",
       " u'gmd_to_ltc': u'0.00778',\n",
       " u'usd_to_uah': u'24.97498',\n",
       " u'try_to_eth': u'0.030575',\n",
       " u'cop_to_usd': u'0.000345',\n",
       " u'xof_to_ltc': u'0.00057',\n",
       " u'btc_to_lvl': u'362.413415',\n",
       " u'php_to_usd': u'0.021591',\n",
       " u'ltc_to_rub': u'191.76543',\n",
       " u'mro_to_ltc': u'0.000938',\n",
       " u'eth_to_try': u'32.70625',\n",
       " u'usd_to_rsd': u'109.48834',\n",
       " u'btc_to_cdf': u'570768.6369',\n",
       " u'mga_to_btc': u'0.000001',\n",
       " u'btc_to_zwl': u'187216.722078',\n",
       " u'gel_to_ltc': u'0.143241',\n",
       " u'eth_to_xcd': u'30.094073',\n",
       " u'ghs_to_eth': u'0.02285',\n",
       " u'ltc_to_xaf': u'1751.956998',\n",
       " u'yer_to_ltc': u'0.001333',\n",
       " u'aud_to_usd': u'0.769623',\n",
       " u'rub_to_eth': u'0.001403',\n",
       " u'usd_to_mur': u'34.700763',\n",
       " u'lak_to_ltc': u'0.000041',\n",
       " u'idr_to_ltc': u'0.000025',\n",
       " u'irr_to_btc': u'0.0',\n",
       " u'eth_to_lkr': u'1620.674811',\n",
       " u'ltc_to_xau': u'0.002225',\n",
       " u'usd_to_ggp': u'0.765963',\n",
       " u'btc_to_byn': u'1131.09738',\n",
       " u'jep_to_usd': u'1.305546',\n",
       " u'btc_to_pgk': u'1839.590298',\n",
       " u'bam_to_usd': u'0.57522',\n",
       " u'ltc_to_wst': u'7.619901',\n",
       " u'ltc_to_sbd': u'23.432343',\n",
       " u'sdg_to_ltc': u'0.054868',\n",
       " u'hnl_to_usd': u'0.043811',\n",
       " u'ltc_to_php': u'138.94854',\n",
       " u'ltc_to_mzn': u'213.600003',\n",
       " u'ltc_to_gyd': u'617.369001',\n",
       " u'ltc_to_tnd': u'6.583155',\n",
       " u'gtq_to_eth': u'0.011948',\n",
       " u'eth_to_rub': u'712.728182',\n",
       " u'btc_to_aud': u'754.551563',\n",
       " u'sos_to_ltc': u'0.000573',\n",
       " u'bdt_to_eth': u'0.001144',\n",
       " u'imp_to_btc': u'0.002248',\n",
       " u'btc_to_tnd': u'1274.323257',\n",
       " u'bwp_to_eth': u'0.008692',\n",
       " u'thb_to_eth': u'0.002589',\n",
       " u'mop_to_eth': u'0.011229',\n",
       " u'djf_to_btc': u'0.00001',\n",
       " u'btc_to_btc': u'0.999914',\n",
       " u'usd_to_sll': u'5557.5',\n",
       " u'btc_to_bgn': u'1010.21122',\n",
       " u'yer_to_usd': u'0.003999',\n",
       " u'ltl_to_eth': u'0.029295',\n",
       " u'nio_to_ltc': u'0.011544',\n",
       " u'kwd_to_usd': u'3.316915',\n",
       " u'usd_to_php': u'46.31618',\n",
       " u'bgn_to_eth': u'0.051556',\n",
       " u'btc_to_btn': u'38811.395068',\n",
       " u'ltc_to_ars': u'43.99971',\n",
       " u'twd_to_ltc': u'0.010647',\n",
       " u'eth_to_mnt': u'24643.358337',\n",
       " u'btc_to_svc': u'5076.600814',\n",
       " u'lsl_to_btc': u'0.000129',\n",
       " u'usd_to_jpy': u'100.6385',\n",
       " u'usd_to_mxn': u'18.06661',\n",
       " u'ltc_to_mop': u'23.96031',\n",
       " u'pgk_to_btc': u'0.000544',\n",
       " u'bzd_to_btc': u'0.000862',\n",
       " u'eth_to_vuv': u'1179.335489',\n",
       " u'btc_to_cve': u'56981.136063',\n",
       " u'eth_to_dzd': u'1214.0024',\n",
       " u'zwl_to_eth': u'0.000278',\n",
       " u'zmk_to_eth': u'0.000017',\n",
       " u'clf_to_btc': u'0.07008',\n",
       " u'bam_to_eth': u'0.051589',\n",
       " u'eth_to_vef': u'111.254834',\n",
       " u'usd_to_clp': u'649.725598',\n",
       " u'btc_to_brl': u'1857.573454',\n",
       " u'btc_to_ils': u'2197.422993',\n",
       " u'ghs_to_btc': u'0.000439',\n",
       " u'mxn_to_usd': u'0.055351',\n",
       " u'cdf_to_btc': u'0.000002',\n",
       " u'btc_to_try': u'1703.423653',\n",
       " u'cup_to_ltc': u'0.01348',\n",
       " u'gip_to_eth': u'0.117089',\n",
       " u'kyd_to_eth': u'0.108804',\n",
       " u'eth_to_fjd': u'22.811228',\n",
       " u'fkp_to_ltc': u'0.435182',\n",
       " u'usd_to_clf': u'0.024572',\n",
       " u'btc_to_egp': u'5154.700104',\n",
       " u'btc_to_mwk': u'417337.206745',\n",
       " u'ltc_to_cop': u'8703.815001',\n",
       " u'usd_to_kes': u'101.46574',\n",
       " u'bgn_to_usd': u'0.57485',\n",
       " u'usd_to_dkk': u'6.607188',\n",
       " u'eth_to_kwd': u'3.361558',\n",
       " u'eth_to_bbd': u'22.3',\n",
       " u'ltc_to_xag': u'0.150245',\n",
       " u'hnl_to_eth': u'0.003929',\n",
       " u'btc_to_gbp': u'444.810033',\n",
       " u'xpf_to_ltc': u'0.003147',\n",
       " u'btc_to_lkr': u'84408.814021',\n",
       " u'ltc_to_std': u'65636.7',\n",
       " u'ltc_to_jod': u'2.128824',\n",
       " u'rwf_to_ltc': u'0.000419',\n",
       " u'btc_to_isk': u'68130.999552',\n",
       " u'eth_to_lbp': u'16825.535837',\n",
       " u'btc_to_rub': u'37120.673503',\n",
       " u'usd_to_bsd': u'1.0',\n",
       " u'eth_to_mwk': u'8013.000853',\n",
       " u'mtl_to_usd': u'1.462839',\n",
       " u'usd_to_sbd': u'7.810781',\n",
       " u'byr_to_ltc': u'0.000017',\n",
       " u'mdl_to_eth': u'0.004553',\n",
       " u'mvr_to_eth': u'0.005902',\n",
       " u'usd_to_fkp': u'0.765963',\n",
       " u'usd_to_mga': u'3027.955',\n",
       " u'bzd_to_ltc': u'0.16679',\n",
       " u'bgn_to_btc': u'0.00099',\n",
       " u'eth_to_amd': u'5304.333795',\n",
       " u'eth_to_eek': u'155.353786',\n",
       " u'btc_to_khr': u'2366860.8292',\n",
       " u'ang_to_eth': u'0.050493',\n",
       " u'usd_to_uzs': u'2990.0',\n",
       " u'ltc_to_mad': u'29.099319',\n",
       " u'bhd_to_usd': u'2.65233',\n",
       " u'btc_to_scr': u'7688.523741',\n",
       " u'rsd_to_usd': u'0.009133',\n",
       " u'ltc_to_gel': u'6.98124',\n",
       " u'eth_to_cad': u'14.35529',\n",
       " u'usd_to_kwd': u'0.301485',\n",
       " u'btc_to_byr': u'11629643.9',\n",
       " u'cad_to_usd': u'0.776717',\n",
       " u'eth_to_kpw': u'10036.0035',\n",
       " u'std_to_ltc': u'0.000015',\n",
       " u'usd_to_jmd': u'126.849401',\n",
       " u'mro_to_usd': u'0.002814',\n",
       " u'clp_to_ltc': u'0.000513',\n",
       " u'cad_to_eth': u'0.069661',\n",
       " u'vuv_to_btc': u'0.000016',\n",
       " u'btc_to_eur': u'514.459848',\n",
       " u'kyd_to_ltc': u'0.40439',\n",
       " u'btc_to_mkd': u'31765.651131',\n",
       " u'xau_to_eth': u'120.952257',\n",
       " u'btc_to_azn': u'940.635738',\n",
       " u'qar_to_eth': u'0.024636',\n",
       " u'btc_to_kgs': u'39929.030777',\n",
       " u'dzd_to_usd': u'0.009184',\n",
       " u'cny_to_btc': u'0.00026',\n",
       " u'pen_to_ltc': u'0.100781',\n",
       " u'crc_to_eth': u'0.000164',\n",
       " u'ern_to_btc': u'0.000115',\n",
       " u'eth_to_sar': u'41.810772',\n",
       " u'eth_to_ern': u'167.266725',\n",
       " u'krw_to_usd': u'0.00091',\n",
       " u'scr_to_usd': u'0.075531',\n",
       " u'ars_to_eth': u'0.006115',\n",
       " u'kzt_to_eth': u'0.000261',\n",
       " u'eth_to_bif': u'18492.72081',\n",
       " u'ltc_to_bgn': u'5.218752',\n",
       " u'ttd_to_eth': u'0.013392',\n",
       " u'ltc_to_isk': u'351.9648',\n",
       " u'eth_to_kyd': u'9.1908',\n",
       " u'cuc_to_btc': u'0.001722',\n",
       " u'bwp_to_usd': u'0.09692',\n",
       " u'pgk_to_ltc': u'0.105226',\n",
       " u'btc_to_kzt': u'199723.662005',\n",
       " u'eth_to_bnd': u'14.942951',\n",
       " u'tzs_to_btc': u'0.000001',\n",
       " u'ltc_to_shp': u'2.297889',\n",
       " u'rsd_to_eth': u'0.000819',\n",
       " u'btc_to_hrk': u'3857.24677',\n",
       " u'tmm_to_usd': u'0.350877',\n",
       " u'ltc_to_sar': u'11.249535',\n",
       " u'ltc_to_xdr': u'2.145684',\n",
       " u'bbd_to_eth': u'0.044843',\n",
       " u'ngn_to_ltc': u'0.001046',\n",
       " u'btc_to_lsl': u'7768.802474',\n",
       " u'ltc_to_tmt': u'10.4043',\n",
       " u'ltc_to_etb': u'66.14733',\n",
       " u'dzd_to_eth': u'0.000824',\n",
       " u'ltc_to_bwp': u'30.953325',\n",
       " u'awg_to_eth': u'0.050011',\n",
       " u'ils_to_ltc': u'0.088091',\n",
       " u'isk_to_eth': u'0.000764',\n",
       " u'usd_to_czk': u'23.99165',\n",
       " u'usd_to_twd': u'31.30687',\n",
       " u'xof_to_usd': u'0.001711',\n",
       " u'kzt_to_ltc': u'0.000969',\n",
       " u'cop_to_btc': u'0.000001',\n",
       " u'jod_to_usd': u'1.409229',\n",
       " u'bbd_to_usd': u'0.5',\n",
       " u'std_to_btc': u'0.0',\n",
       " u'lvl_to_ltc': u'0.534123',\n",
       " u'ltc_to_bsd': u'3.0',\n",
       " u'usd_to_xaf': u'583.985666',\n",
       " u'usd_to_xag': u'0.0500815',\n",
       " u'eth_to_gel': u'25.946942',\n",
       " u'btc_to_chf': u'559.624185',\n",
       " u'sgd_to_ltc': u'0.248488',\n",
       " u'usd_to_top': u'2.25385',\n",
       " u'szl_to_eth': u'0.006715',\n",
       " u'btc_to_bdt': u'45514.38935',\n",
       " u'mxn_to_eth': u'0.004964',\n",
       " u'eth_to_huf': u'3066.32805',\n",
       " u'gbp_to_btc': u'0.002248',\n",
       " u'usd_to_pkr': u'104.616',\n",
       " u'eth_to_myr': u'44.52825',\n",
       " u'ltc_to_fkp': u'2.297889',\n",
       " u'cup_to_usd': u'0.040439',\n",
       " u'btc_to_hnl': u'13255.131445',\n",
       " u'bzd_to_eth': u'0.044876',\n",
       " u'cny_to_usd': u'0.150868',\n",
       " u'cop_to_eth': u'0.000031',\n",
       " u'xag_to_btc': u'0.034384',\n",
       " u'btc_to_nio': u'16769.027514',\n",
       " u'btc_to_djf': u'103039.618821',\n",
       " u'ltc_to_lak': u'24246.75',\n",
       " u'pkr_to_btc': u'0.000016',\n",
       " u'ltc_to_pln': u'11.378196',\n",
       " u'btc_to_all': u'70136.690288',\n",
       " u'btc_to_kwd': u'175.078369',\n",
       " u'usd_to_cup': u'24.728383',\n",
       " u'pln_to_btc': u'0.000454',\n",
       " u'ltc_to_cad': u'3.86241',\n",
       " u'ltl_to_usd': u'0.326641',\n",
       " u'ltc_to_vef': u'29.934036',\n",
       " u'eth_to_iqd': u'12999.59991',\n",
       " u'btc_to_bmd': u'580.72',\n",
       " u'aud_to_eth': u'0.069024',\n",
       " u'ggp_to_ltc': u'0.435182',\n",
       " u'eth_to_kes': u'1131.343001',\n",
       " u'crc_to_ltc': u'0.000608',\n",
       " u'ltc_to_krw': u'3295.349952',\n",
       " u'php_to_eth': u'0.001936',\n",
       " u'vef_to_eth': u'0.008988',\n",
       " u'hkd_to_ltc': u'0.042985',\n",
       " u'eth_to_tnd': u'24.467393',\n",
       " u'rwf_to_eth': u'0.000113',\n",
       " u'eth_to_mop': u'89.052486',\n",
       " u'kzt_to_usd': u'0.002908',\n",
       " u'ltc_to_sos': u'1744.1175',\n",
       " u'uah_to_usd': u'0.04004',\n",
       " u'ltc_to_djf': u'532.302756',\n",
       " u'btc_to_gip': u'444.810033',\n",
       " u'eth_to_pab': u'11.15',\n",
       " u'btc_to_aed': u'2132.919519',\n",
       " u'eth_to_htg': u'712.671907',\n",
       " u'eth_to_vnd': u'248114.26',\n",
       " u'bob_to_eth': u'0.01296',\n",
       " u'imp_to_usd': u'1.305546',\n",
       " u'eth_to_kzt': u'3834.754841',\n",
       " u'btc_to_xau': u'0.430604',\n",
       " u'zar_to_btc': u'0.000128',\n",
       " u'eth_to_cdf': u'10958.930813',\n",
       " u'btc_to_mga': u'1758394.0276',\n",
       " u'eth_to_szl': u'148.910257',\n",
       " u'xpf_to_eth': u'0.000847',\n",
       " u'ltc_to_vnd': u'66757.2',\n",
       " u'mop_to_btc': u'0.000216',\n",
       " u'btc_to_xag': u'29.083329',\n",
       " u'btc_to_xaf': u'339132.15596',\n",
       " u'usd_to_khr': u'4075.735',\n",
       " u'cdf_to_eth': u'0.000091',\n",
       " u'ltc_to_zwl': u'967.161741',\n",
       " u'btc_to_mzn': u'41347.264581',\n",
       " u'ltc_to_mdl': u'59.0967',\n",
       " u'usd_to_bwp': u'10.317775',\n",
       " u'uah_to_btc': u'0.000069',\n",
       " u'zmw_to_eth': u'0.008839',\n",
       " u'ern_to_ltc': u'0.02222',\n",
       " u'all_to_usd': u'0.00828',\n",
       " u'ggp_to_usd': u'1.305546',\n",
       " u'btc_to_ugx': u'1953795.66126',\n",
       " u'usd_to_tnd': u'2.194385',\n",
       " u'cdf_to_ltc': u'0.000339',\n",
       " u'bob_to_usd': u'0.1445',\n",
       " u'omr_to_ltc': u'0.865859',\n",
       " u'jep_to_ltc': u'0.435182',\n",
       " u'xaf_to_btc': u'0.000003',\n",
       " u'usd_to_nio': u'28.87627',\n",
       " u'byn_to_usd': u'0.513413',\n",
       " u'bmd_to_ltc': u'0.333333',\n",
       " u'btc_to_rwf': u'461457.385516',\n",
       " u'etb_to_usd': u'0.045353',\n",
       " u'eth_to_dop': u'512.587912',\n",
       " u'usd_to_aud': u'1.299338',\n",
       " u'eth_to_fkp': u'8.540487',\n",
       " u'uyu_to_btc': u'0.00006',\n",
       " u'jod_to_ltc': u'0.469743',\n",
       " u'usd_to_mdl': u'19.6989',\n",
       " u'npr_to_usd': u'0.009361',\n",
       " u'usd_to_dop': u'45.97201',\n",
       " u'btc_to_sgd': u'779.00336',\n",
       " u'eth_to_crc': u'6112.916095',\n",
       " u'npr_to_eth': u'0.00084',\n",
       " u'usd_to_svc': u'8.741908',\n",
       " u'eth_to_nok': u'91.385746',\n",
       " u'ltc_to_bam': u'5.215398',\n",
       " u'ghs_to_usd': u'0.254775',\n",
       " u'eth_to_bgn': u'19.396362',\n",
       " u'isk_to_ltc': u'0.002841',\n",
       " u'usd_to_gip': u'0.765963',\n",
       " u'aed_to_eth': u'0.024418',\n",
       " u'ars_to_btc': u'0.000117',\n",
       " u'usd_to_vnd': u'22252.4',\n",
       " u'btc_to_czk': u'13932.430988',\n",
       " u'bif_to_usd': u'0.000603',\n",
       " u'vnd_to_usd': u'0.000045',\n",
       " u'ltc_to_ltl': u'9.184383',\n",
       " u'ltc_to_hkd': u'23.263956',\n",
       " u'mga_to_usd': u'0.00033',\n",
       " u'eth_to_jep': u'8.540487',\n",
       " u'eur_to_btc': u'0.001944',\n",
       " u'ltc_to_top': u'6.76155',\n",
       " u'eth_to_twd': u'349.071601',\n",
       " u'usd_to_mzn': u'71.200001',\n",
       " u'eth_to_mkd': u'609.910129',\n",
       " u'usd_to_kzt': u'343.924201',\n",
       " u'eth_to_zwl': u'3594.617804',\n",
       " u'ttd_to_ltc': u'0.049773',\n",
       " u'sar_to_usd': u'0.266678',\n",
       " u'btc_to_eth': u'52.137643',\n",
       " u'btc_to_ngn': u'184978.367616',\n",
       " u'btc_to_cup': u'14360.266576',\n",
       " u'usd_to_eth': u'0.089767',\n",
       " u'btc_to_kes': u'58923.184533',\n",
       " u'eth_to_nio': u'321.970411',\n",
       " u'mkd_to_btc': u'0.000031',\n",
       " u'usd_to_std': u'21878.9',\n",
       " u'usd_to_etb': u'22.04911',\n",
       " u'btc_to_shp': u'444.810033',\n",
       " u'eth_to_cve': u'1094.055082',\n",
       " u'nzd_to_btc': u'0.001255',\n",
       " u'mvr_to_usd': u'0.065804',\n",
       " u'eth_to_mdl': u'219.642735',\n",
       " u'sek_to_btc': u'0.000205',\n",
       " u'kes_to_ltc': u'0.003285',\n",
       " u'usd_to_hnl': u'22.82534',\n",
       " u'egp_to_btc': u'0.000194',\n",
       " u'krw_to_eth': u'0.000082',\n",
       " u'nad_to_usd': u'0.074943',\n",
       " u'eth_to_pkr': u'1166.4684',\n",
       " u'irr_to_eth': u'0.000003',\n",
       " u'sbd_to_eth': u'0.011482',\n",
       " u'lsl_to_ltc': u'0.024917',\n",
       " u'vnd_to_eth': u'0.000004',\n",
       " u'btc_to_bam': u'1009.561976',\n",
       " u'azn_to_btc': u'0.001063',\n",
       " u'btc_to_krw': u'637891.874708',\n",
       " u'usd_to_irr': u'30066.0',\n",
       " u'sar_to_btc': u'0.000459',\n",
       " u'usd_to_lbp': u'1509.016667',\n",
       " u'thb_to_ltc': u'0.009622',\n",
       " u'egp_to_ltc': u'0.037553',\n",
       " u'clp_to_btc': u'0.000003',\n",
       " u'ltc_to_mro': u'1066.037001',\n",
       " u'lkr_to_btc': u'0.000012',\n",
       " u'lbp_to_usd': u'0.000663',\n",
       " u'btc_to_bhd': u'218.947119',\n",
       " u'tzs_to_ltc': u'0.000153',\n",
       " u'xpf_to_usd': u'0.009441',\n",
       " u'btc_to_ron': u'2298.191851',\n",
       " u'ltc_to_dop': u'137.91603',\n",
       " u'eth_to_khr': u'45444.44525',\n",
       " u'clf_to_ltc': u'13.565576',\n",
       " u'myr_to_btc': u'0.000431',\n",
       " u'btc_to_clf': u'14.269452',\n",
       " u'eth_to_lyd': u'15.428757',\n",
       " u'mad_to_eth': u'0.009246',\n",
       " u'ron_to_btc': u'0.000435',\n",
       " u'wst_to_ltc': u'0.131235',\n",
       " u'usd_to_cve': u'98.121532',\n",
       " u'hkd_to_eth': u'0.011565',\n",
       " u'eth_to_mtl': u'7.622162',\n",
       " u'btc_to_cuc': u'580.72',\n",
       " u'btc_to_xof': u'339335.986357',\n",
       " u'bbd_to_ltc': u'0.166667',\n",
       " u'mtl_to_btc': u'0.002519',\n",
       " u'syp_to_btc': u'0.000008',\n",
       " u'btc_to_xdr': u'415.347204',\n",
       " u'ltc_to_lvl': u'1.872228',\n",
       " u'usd_to_gyd': u'205.789667',\n",
       " u'eth_to_php': u'516.425407',\n",
       " u'lvl_to_usd': u'1.602369',\n",
       " u'amd_to_ltc': u'0.000701',\n",
       " u'btc_to_lak': u'4693524.22',\n",
       " u'usd_to_amd': u'475.725004',\n",
       " u'usd_to_bif': u'1658.539983',\n",
       " u'uah_to_ltc': u'0.013347',\n",
       " u'eth_to_uzs': u'33338.5',\n",
       " u'ltc_to_inr': u'200.543913',\n",
       " u'ltc_to_xpf': u'317.74875',\n",
       " u'usd_to_imp': u'0.765963',\n",
       " u'eth_to_srd': u'79.973375',\n",
       " u'usd_to_mmk': u'1190.25',\n",
       " u'usd_to_bnd': u'1.340175',\n",
       " u'ltc_to_try': u'8.799888',\n",
       " u'btc_to_gel': u'1351.381898',\n",
       " u'nok_to_ltc': u'0.04067',\n",
       " u'jmd_to_ltc': u'0.002628',\n",
       " u'usd_to_chf': u'0.963673',\n",
       " u'sar_to_eth': u'0.023917',\n",
       " u'lrd_to_btc': u'0.000018',\n",
       " u'jpy_to_ltc': u'0.003312',\n",
       " u'eth_to_hnl': u'254.502541',\n",
       " u'usd_to_sdg': u'6.07522',\n",
       " u'eth_to_mro': u'3962.104187',\n",
       " u'btc_to_bob': u'4018.811204',\n",
       " u'eth_to_wst': u'28.320632',\n",
       " u'usd_to_ltl': u'3.061461',\n",
       " u'usd_to_ltc': u'0.333333',\n",
       " u'eth_to_pen': u'36.878737',\n",
       " u'ltc_to_pgk': u'9.503325',\n",
       " u'btc_to_jep': u'444.810033',\n",
       " u'btc_to_tzs': u'1268367.9736',\n",
       " u'gel_to_btc': u'0.00074',\n",
       " u'ltc_to_ngn': u'955.5984',\n",
       " u'nzd_to_ltc': u'0.242959',\n",
       " u'eth_to_gtq': u'83.696929',\n",
       " u'vuv_to_usd': u'0.009454',\n",
       " u'xcd_to_eth': u'0.033229',\n",
       " u'ltc_to_tjs': u'23.60325',\n",
       " u'btc_to_wst': u'1475.009636',\n",
       " u'bzd_to_usd': u'0.500371',\n",
       " u'bnd_to_ltc': u'0.248724',\n",
       " u'btc_to_mdl': u'11439.545208',\n",
       " u'nok_to_eth': u'0.010943',\n",
       " u'ltc_to_bmd': u'3.0',\n",
       " u'eth_to_djf': u'1978.39191',\n",
       " u'myr_to_usd': u'0.250403',\n",
       " u'ltc_to_gnf': u'26976.48',\n",
       " u'pen_to_usd': u'0.302342',\n",
       " u'eth_to_ngn': u'3551.64072',\n",
       " u'vnd_to_ltc': u'0.000015',\n",
       " u'btc_to_jpy': u'58442.78972',\n",
       " u'nzd_to_eth': u'0.06537',\n",
       " u'sek_to_ltc': u'0.039588',\n",
       " u'eth_to_hrk': u'74.060307',\n",
       " u'chf_to_btc': u'0.001787',\n",
       " u'tmt_to_btc': u'0.000497',\n",
       " u'eth_to_eur': u'9.877785',\n",
       " u'usd_to_wst': u'2.539967',\n",
       " u'bnd_to_eth': u'0.066921',\n",
       " u'lyd_to_ltc': u'0.240892',\n",
       " u'dop_to_usd': u'0.021752',\n",
       " u'btc_to_clp': u'377308.649271',\n",
       " u'pyg_to_ltc': u'0.00006',\n",
       " u'eth_to_pln': u'42.288962',\n",
       " u'xau_to_ltc': u'449.539222',\n",
       " u'afn_to_btc': u'0.000026',\n",
       " u'ltc_to_thb': u'103.92396',\n",
       " u'ltc_to_ggp': u'2.297889',\n",
       " u'pab_to_eth': u'0.089686',\n",
       " u'cny_to_eth': u'0.013531',\n",
       " u'bmd_to_eth': u'0.089686',\n",
       " u'usd_to_srd': u'7.1725',\n",
       " u'mkd_to_usd': u'0.018281',\n",
       " u'idr_to_eth': u'0.000007',\n",
       " u'eth_to_jpy': u'1122.119275',\n",
       " u'eth_to_gyd': u'2294.554787',\n",
       " u'btc_to_mvr': u'8825.00846',\n",
       " u'ltc_to_uyu': u'86.21166',\n",
       " u'sdg_to_btc': u'0.000283',\n",
       " u'vuv_to_eth': u'0.000848',\n",
       " u'lyd_to_eth': u'0.064814',\n",
       " u'inr_to_btc': u'0.000026',\n",
       " u'mnt_to_eth': u'0.000041',\n",
       " u'nio_to_usd': u'0.034631',\n",
       " u'eth_to_aed': u'40.952701',\n",
       " u'htg_to_btc': u'0.000027',\n",
       " u'btc_to_ars': u'8517.17053',\n",
       " u'ltc_to_lrd': u'282.75',\n",
       " u'egp_to_eth': u'0.010104',\n",
       " u'usd_to_gmd': u'42.84378',\n",
       " u'mzn_to_eth': u'0.00126',\n",
       " u'usd_to_jep': u'0.765963',\n",
       " u'eth_to_hkd': u'86.46437',\n",
       " u'svc_to_btc': u'0.000197',\n",
       " u'chf_to_eth': u'0.093067',\n",
       " u'mro_to_eth': u'0.000252',\n",
       " u'eth_to_gnf': u'100262.584',\n",
       " u'lkr_to_ltc': u'0.002293',\n",
       " u'isk_to_btc': u'0.000015',\n",
       " u'ltc_to_sdg': u'18.22566',\n",
       " u'ltc_to_btn': u'200.499699',\n",
       " u'btc_to_sll': u'3227351.4',\n",
       " u'tmt_to_ltc': u'0.096114',\n",
       " u'btc_to_bzd': u'1160.579954',\n",
       " u'mvr_to_btc': u'0.000113',\n",
       " u'eth_to_mzn': u'793.880011',\n",
       " u'mdl_to_ltc': u'0.016921',\n",
       " u'usd_to_mvr': u'15.196667',\n",
       " u'btc_to_kyd': u'478.679947',\n",
       " u'eth_to_sdg': u'67.738703',\n",
       " u'myr_to_eth': u'0.022458',\n",
       " u'btn_to_usd': u'0.014963',\n",
       " u'ltc_to_uah': u'74.92494',\n",
       " u'ltc_to_xcd': u'8.09706',\n",
       " u'ltc_to_lbp': u'4527.050001',\n",
       " u'usd_to_shp': u'0.765963',\n",
       " u'eth_to_awg': u'19.995663',\n",
       " u'nio_to_eth': u'0.003106',\n",
       " u'scr_to_eth': u'0.006774',\n",
       " u'djf_to_usd': u'0.005636',\n",
       " u'mzn_to_usd': u'0.014045',\n",
       " u'eth_to_xof': u'6515.353781',\n",
       " u'xcd_to_usd': u'0.370505',\n",
       " u'usd_to_crc': u'548.243596',\n",
       " u'ltc_to_mnt': u'6630.500001',\n",
       " u'cve_to_ltc': u'0.003397',\n",
       " u'usd_to_bdt': u'78.375791',\n",
       " u'btc_to_lbp': u'876316.15886',\n",
       " u'ltc_to_afn': u'202.360953',\n",
       " u'btc_to_myr': u'2319.143067',\n",
       " u'eth_to_mxn': u'201.442702',\n",
       " u'dkk_to_usd': u'0.15135',\n",
       " u'btc_to_dkk': u'3836.926215',\n",
       " u'btc_to_mad': u'5632.852177',\n",
       " u'clp_to_eth': u'0.000138',\n",
       " u'usd_to_myr': u'3.993565',\n",
       " u'usd_to_zmw': u'10.146075',\n",
       " u'ltc_to_kyd': u'2.472861',\n",
       " u'ltc_to_aoa': u'496.681503',\n",
       " u'usd_to_omr': u'0.384974',\n",
       " u'eth_to_uyu': u'320.420003',\n",
       " u'kwd_to_btc': u'0.005712',\n",
       " u'usd_to_bmd': u'1.0',\n",
       " u'ltc_to_zar': u'40.22034',\n",
       " u'usd_to_mkd': u'54.70046',\n",
       " u'mxn_to_ltc': u'0.01845',\n",
       " u'aoa_to_ltc': u'0.002013',\n",
       " u'ltc_to_aud': u'3.898014',\n",
       " u'eth_to_usd': u'11.14',\n",
       " u'btc_to_rsd': u'63582.068805',\n",
       " u'eth_to_top': u'25.130428',\n",
       " u'mur_to_btc': u'0.00005',\n",
       " u'btc_to_gnf': u'5221927.1552',\n",
       " u'ltc_to_dkk': u'19.821564',\n",
       " u'usd_to_zmk': u'5253.075255',\n",
       " u'btn_to_btc': u'0.000026',\n",
       " u'btc_to_pkr': u'60752.60352',\n",
       " u'ltc_to_mga': u'9083.865',\n",
       " u'inr_to_usd': u'0.014959',\n",
       " u'php_to_ltc': u'0.007197',\n",
       " u'btc_to_cny': u'3849.201475',\n",
       " u'eth_to_egp': u'98.971804',\n",
       " u'fkp_to_usd': u'1.305546',\n",
       " u'gnf_to_btc': u'0.0',\n",
       " u'usd_to_vuv': u'105.769999',\n",
       " u'usd_to_kmf': u'441.241667',\n",
       " u'ngn_to_eth': u'0.000282',\n",
       " u'tmm_to_btc': u'0.001025',\n",
       " u'xcd_to_btc': u'0.000638',\n",
       " u'usd_to_ngn': u'318.5328',\n",
       " u'ghs_to_ltc': u'0.084925',\n",
       " u'ltc_to_eek': u'41.799225',\n",
       " u'ltc_to_kpw': u'2700.27',\n",
       " u'zmw_to_usd': u'0.09856',\n",
       " u'lak_to_btc': u'0.0',\n",
       " u'usd_to_krw': u'1098.449984',\n",
       " u'usd_to_iqd': u'1165.8834',\n",
       " u'djf_to_eth': u'0.000505',\n",
       " u'awg_to_btc': u'0.00096',\n",
       " u'usd_to_cdf': u'982.86375',\n",
       " u'all_to_eth': u'0.000743',\n",
       " u'ltc_to_nzd': u'4.115925',\n",
       " u'all_to_btc': u'0.000014',\n",
       " u'btc_to_ghs': u'2279.346325',\n",
       " u'czk_to_ltc': u'0.013894',\n",
       " u'eth_to_std': u'243949.735',\n",
       " u'azn_to_usd': u'0.61737',\n",
       " u'ltc_to_bzd': u'5.995557',\n",
       " u'krw_to_ltc': u'0.000303',\n",
       " u'sos_to_usd': u'0.00172',\n",
       " u'gmd_to_btc': u'0.00004',\n",
       " u'szl_to_ltc': u'0.024959',\n",
       " u'btc_to_uzs': u'1736352.8',\n",
       " u'kes_to_usd': u'0.009856',\n",
       " u'btc_to_cad': u'747.659578',\n",
       " u'bob_to_btc': u'0.000249',\n",
       " u'std_to_eth': u'0.000004',\n",
       " u'iqd_to_btc': u'0.000001',\n",
       " u'pab_to_usd': u'1.0',\n",
       " u'usd_to_brl': u'3.198742',\n",
       " u'usd_to_gnf': u'8992.16',\n",
       " u'eek_to_ltc': u'0.023924',\n",
       " u'eth_to_scr': u'147.621986',\n",
       " u'brl_to_btc': u'0.000538',\n",
       " u'lyd_to_btc': u'0.001244',\n",
       " u'rub_to_ltc': u'0.005215',\n",
       " u'cve_to_eth': u'0.000914',\n",
       " u'usd_to_ugx': u'3364.436667',\n",
       " u'syp_to_eth': u'0.000417',\n",
       " u'mmk_to_ltc': u'0.00028',\n",
       " u'dkk_to_btc': u'0.000261',\n",
       " u'czk_to_eth': u'0.003738',\n",
       " u'nad_to_ltc': u'0.024981',\n",
       " u'gip_to_ltc': u'0.435182',\n",
       " u'eth_to_lvl': u'6.958447',\n",
       " u'btc_to_vuv': u'61422.753819',\n",
       " u'usd_to_bam': u'1.738466',\n",
       " u'uzs_to_usd': u'0.000334',\n",
       " u'bam_to_btc': u'0.000991',\n",
       " u'eur_to_usd': u'1.128796',\n",
       " u'eth_to_ttd': u'74.671773',\n",
       " u'ltc_to_byn': u'5.84325',\n",
       " u'crc_to_btc': u'0.000003',\n",
       " u'eth_to_bob': u'77.162393',\n",
       " u'ltc_to_yer': u'750.251997',\n",
       " u'usd_to_eur': u'0.8859',\n",
       " u'eth_to_cup': u'275.72147',\n",
       " u'usd_to_huf': u'275.007',\n",
       " u'btc_to_bwp': u'5991.738298',\n",
       " u'aud_to_btc': u'0.001325',\n",
       " u'pln_to_ltc': u'0.087887',\n",
       " u'ltc_to_pen': u'9.92253',\n",
       " u'mad_to_ltc': u'0.034365',\n",
       " u'eth_to_sll': u'61966.125',\n",
       " u'aed_to_btc': u'0.000469',\n",
       " u'xdr_to_btc': u'0.002408',\n",
       " u'usd_to_scr': u'13.23964',\n",
       " u'btc_to_sos': u'337614.6382',\n",
       " u'yer_to_btc': u'0.000007',\n",
       " u'eth_to_cuc': u'11.15',\n",
       " u'ltc_to_kzt': u'1031.772603',\n",
       " u'ltc_to_syp': u'644.750007',\n",
       " u'btc_to_thb': u'20116.90735',\n",
       " u'afn_to_ltc': u'0.004942',\n",
       " u'ngn_to_btc': u'0.000005',\n",
       " u'aoa_to_usd': u'0.00604',\n",
       " u'ltc_to_mmk': u'3570.75',\n",
       " u'cad_to_ltc': u'0.258906',\n",
       " u'gmd_to_usd': u'0.023341',\n",
       " u'zmw_to_btc': u'0.00017',\n",
       " u'kgs_to_btc': u'0.000025',\n",
       " u'kyd_to_btc': u'0.002089',\n",
       " u'jmd_to_usd': u'0.007883',\n",
       " u'tnd_to_usd': u'0.455709',\n",
       " u'lak_to_usd': u'0.000124',\n",
       " u'ngn_to_usd': u'0.003139',\n",
       " u'usd_to_rub': u'63.92181',\n",
       " u'usd_to_ttd': u'6.69702',\n",
       " u'fjd_to_ltc': u'0.162931',\n",
       " u'ltc_to_lkr': u'436.056003',\n",
       " u'huf_to_eth': u'0.000326',\n",
       " u'shp_to_ltc': u'0.435182',\n",
       " u'sbd_to_ltc': u'0.042676',\n",
       " u'svc_to_eth': u'0.010259',\n",
       " u'lrd_to_ltc': u'0.003537',\n",
       " u'ltc_to_nad': u'40.03044',\n",
       " u'btc_to_aoa': u'96144.294141',\n",
       " u'eth_to_xdr': u'7.974792',\n",
       " u'eth_to_shp': u'8.540487',\n",
       " u'scr_to_ltc': u'0.025177',\n",
       " u'khr_to_eth': u'0.000022',\n",
       " u'btc_to_cop': u'1684826.48246',\n",
       " u'eth_to_all': u'1346.64571',\n",
       " u'mkd_to_eth': u'0.00164',\n",
       " u'azn_to_ltc': u'0.20579',\n",
       " u'kmf_to_btc': u'0.000004',\n",
       " u'eth_to_ron': u'44.12598',\n",
       " u'fjd_to_eth': u'0.043838',\n",
       " u'zmk_to_usd': u'0.00019',\n",
       " u'lbp_to_btc': u'0.000001',\n",
       " u'kpw_to_btc': u'0.000002',\n",
       " u'usd_to_mro': u'355.345667',\n",
       " u'usd_to_sek': u'8.420075',\n",
       " u'aoa_to_eth': u'0.000542',\n",
       " u'sll_to_eth': u'0.000016',\n",
       " u'ggp_to_eth': u'0.117089',\n",
       " u'all_to_ltc': u'0.00276',\n",
       " u'czk_to_usd': u'0.041681',\n",
       " u'mga_to_ltc': u'0.00011',\n",
       " u'npr_to_ltc': u'0.00312',\n",
       " u'jpy_to_eth': u'0.000891',\n",
       " u'eth_to_byr': u'223292.6875',\n",
       " u'usd_to_zar': u'13.40678',\n",
       " u'byn_to_ltc': u'0.171138',\n",
       " u'usd_to_inr': u'66.847971',\n",
       " u'ltc_to_cdf': u'2948.59125',\n",
       " u'usd_to_bhd': u'0.377027',\n",
       " u'usd_to_dzd': u'108.879139',\n",
       " u'mwk_to_ltc': u'0.000464',\n",
       " u'btc_to_pln': u'2202.515327',\n",
       " u'btc_to_jod': u'412.083558',\n",
       " u'ltc_to_zmw': u'30.438225',\n",
       " u'cuc_to_ltc': u'0.333333',\n",
       " u'bob_to_ltc': u'0.048167',\n",
       " u'ltc_to_gtq': u'22.519353',\n",
       " u'tzs_to_usd': u'0.000458',\n",
       " u'btc_to_mro': u'206356.33574',\n",
       " u'amd_to_usd': u'0.002102',\n",
       " u'eth_to_mur': u'386.913507',\n",
       " u'kyd_to_usd': u'1.21317',\n",
       " u'brl_to_ltc': u'0.104208',\n",
       " u'usd_to_lsl': u'13.37788',\n",
       " u'shp_to_btc': u'0.002248',\n",
       " u'usd_to_mnt': u'2210.166667',\n",
       " u'usd_to_aed': u'3.672888',\n",
       " u'btc_to_uyu': u'16688.278398',\n",
       " u'ltc_to_myr': u'11.980695',\n",
       " u'btc_to_twd': u'18180.525546',\n",
       " u'uzs_to_btc': u'0.000001',\n",
       " u'kwd_to_eth': u'0.297481',\n",
       " u'usd_to_pab': u'1.0',\n",
       " u'mxn_to_btc': u'0.000095',\n",
       " u'mdl_to_usd': u'0.050764',\n",
       " u'ltl_to_ltc': u'0.10888',\n",
       " u'btc_to_top': u'1308.855772',\n",
       " u'lsl_to_usd': u'0.07475',\n",
       " u'ltc_to_mur': u'104.102289',\n",
       " u'usd_to_egp': u'8.876395',\n",
       " u'nad_to_btc': u'0.000129',\n",
       " u'clp_to_usd': u'0.001539',\n",
       " u'bsd_to_ltc': u'0.333333',\n",
       " u'ang_to_ltc': u'0.187664',\n",
       " u'ltc_to_kwd': u'0.904455',\n",
       " u'cop_to_ltc': u'0.000115',\n",
       " u'gyd_to_usd': u'0.004859',\n",
       " u'ltc_to_gmd': u'128.53134',\n",
       " u'eth_to_mvr': u'169.442837',\n",
       " u'ltc_to_omr': u'1.154922',\n",
       " u'xdr_to_usd': u'1.398156',\n",
       " u'eur_to_ltc': u'0.376265',\n",
       " u'usd_to_usd': u'1.0',\n",
       " u'eth_to_jod': u'7.912129',\n",
       " u'usd_to_tmm': u'2.85',\n",
       " u'eth_to_krw': u'12247.717322',\n",
       " u'btc_to_mnt': u'1283487.98686',\n",
       " u'eth_to_clf': u'0.273978',\n",
       " u'ugx_to_ltc': u'0.000099',\n",
       " u'byr_to_eth': u'0.000004',\n",
       " u'usd_to_tmt': u'3.4681',\n",
       " u'isk_to_usd': u'0.008524',\n",
       " u'zmk_to_btc': u'0.0',\n",
       " u'rwf_to_btc': u'0.000002',\n",
       " u'usd_to_hkd': u'7.754652',\n",
       " u'kpw_to_usd': u'0.001111',\n",
       " u'mkd_to_ltc': u'0.006094',\n",
       " u'dop_to_btc': u'0.000037',\n",
       " u'eth_to_clp': u'7244.440418',\n",
       " u'sgd_to_eth': u'0.066858',\n",
       " u'bsd_to_usd': u'1.0',\n",
       " u'php_to_btc': u'0.000037',\n",
       " u'usd_to_kpw': u'900.09',\n",
       " u'usd_to_gbp': u'0.765963',\n",
       " u'btc_to_htg': u'37117.742609',\n",
       " u'ltc_to_dzd': u'326.637417',\n",
       " u'czk_to_btc': u'0.000072',\n",
       " u'ugx_to_btc': u'0.000001',\n",
       " u'eth_to_azn': u'18.060491',\n",
       " u'xau_to_usd': u'1348.617667',\n",
       " u'dzd_to_btc': u'0.000016',\n",
       " u'bwp_to_btc': u'0.000167',\n",
       " u'uyu_to_ltc': u'0.011599',\n",
       " u'lsl_to_eth': u'0.006704',\n",
       " u'mtl_to_eth': u'0.131196',\n",
       " u'gyd_to_eth': u'0.000436',\n",
       " u'mwk_to_eth': u'0.000125',\n",
       " u'mtl_to_ltc': u'0.487613',\n",
       " u'ltc_to_cny': u'19.884978',\n",
       " u'usd_to_xau': u'0.0007415',\n",
       " u'jod_to_eth': u'0.126388',\n",
       " u'uah_to_eth': u'0.003591',\n",
       " u'xag_to_usd': u'19.967453',\n",
       " u'gbp_to_eth': u'0.117089',\n",
       " u'pab_to_btc': u'0.001722',\n",
       " u'std_to_usd': u'0.000046',\n",
       " u'eth_to_xag': u'0.558409',\n",
       " u'eth_to_xaf': u'6511.440176',\n",
       " u'xof_to_btc': u'0.000003',\n",
       " u'usd_to_gel': u'2.32708',\n",
       " u'btc_to_ltl': u'1777.851632',\n",
       " u'eth_to_ggp': u'8.540487',\n",
       " u'usd_to_mwk': u'718.654785',\n",
       " u'btc_to_yer': u'145228.779899',\n",
       " u'eth_to_xau': u'0.008268',\n",
       " u'huf_to_btc': u'0.000006',\n",
       " u'awg_to_ltc': u'0.185874',\n",
       " u'ltc_to_cve': u'294.364596',\n",
       " u'btc_to_gyd': u'119506.17542',\n",
       " u'ltc_to_khr': u'12227.205',\n",
       " u'usd_to_xcd': u'2.69902',\n",
       " u'usd_to_awg': u'1.793333',\n",
       " u'eth_to_mga': u'33761.69825',\n",
       " u'pkr_to_usd': u'0.009559',\n",
       " u'btc_to_std': u'12705514.808',\n",
       " u'eth_to_brl': u'35.665973',\n",
       " u'ltc_to_qar': u'10.921422',\n",
       " u'eth_to_xpf': u'1180.966188',\n",
       " u'bhd_to_eth': u'0.237877',\n",
       " u'usd_to_lak': u'8082.25',\n",
       " u'rwf_to_usd': u'0.001258',\n",
       " u'btc_to_pen': u'1920.737207',\n",
       " u'btc_to_nok': u'4759.599122',\n",
       " u'ltc_to_mxn': u'54.19983',\n",
       " u'usd_to_qar': u'3.640474',\n",
       " u'btc_to_tmt': u'2013.995032',\n",
       " u'crc_to_usd': u'0.001824',\n",
       " u'eth_to_czk': u'267.506897',\n",
       " u'btc_to_bbd': u'1161.44',\n",
       " u'mzn_to_btc': u'0.000024',\n",
       " u'usd_to_xdr': u'0.715228',\n",
       " u'eth_to_kgs': u'766.649492',\n",
       " u'usd_to_ils': u'3.783963',\n",
       " u'ltc_to_pab': u'3.0',\n",
       " u'bdt_to_btc': u'0.000022',\n",
       " u'mnt_to_usd': u'0.000452',\n",
       " u'sbd_to_btc': u'0.00022',\n",
       " u'btc_to_bif': u'963147.338928',\n",
       " u'gtq_to_btc': u'0.000229',\n",
       " u'syp_to_usd': u'0.004653',\n",
       " u'eth_to_nad': u'148.779802',\n",
       " u'usd_to_ang': u'1.776225',\n",
       " u'ltc_to_kmf': u'1323.725001',\n",
       " u'mmk_to_eth': u'0.000075',\n",
       " u'gnf_to_usd': u'0.000111',\n",
       " u'usd_to_fjd': u'2.04585',\n",
       " u'aed_to_usd': u'0.272265',\n",
       " u'btc_to_npr': u'62039.420387',\n",
       " u'usd_to_kgs': u'68.757802',\n",
       " u'btc_to_fkp': u'444.810033',\n",
       " u'usd_to_try': u'2.933296',\n",
       " u'btc_to_dop': u'26696.865647',\n",
       " u'twd_to_btc': u'0.000055',\n",
       " u'btc_to_hkd': u'4503.281509',\n",
       " u'pyg_to_btc': u'0.0',\n",
       " u'brl_to_usd': u'0.312623',\n",
       " u'btc_to_mop': u'4638.077074',\n",
       " u'btc_to_etb': u'12804.359159',\n",
       " u'btc_to_dzd': u'63228.2936',\n",
       " u'btc_to_jmd': u'73663.984149',\n",
       " u'rsd_to_ltc': u'0.003044',\n",
       " u'ltc_to_svc': u'26.225724',\n",
       " u'pln_to_usd': u'0.263662',\n",
       " u'lak_to_eth': u'0.000011',\n",
       " u'top_to_usd': u'0.443685',\n",
       " u'eth_to_uah': u'278.471027',\n",
       " u'eth_to_pyg': u'61641.752913',\n",
       " u'bdt_to_usd': u'0.012759',\n",
       " u'vnd_to_btc': u'0.0',\n",
       " u'gyd_to_ltc': u'0.00162',\n",
       " u'btc_to_xcd': u'1567.374894',\n",
       " u'sbd_to_usd': u'0.128028',\n",
       " u'nok_to_btc': u'0.00021',\n",
       " u'lkr_to_eth': u'0.000617',\n",
       " u'xpf_to_btc': u'0.000016',\n",
       " u'azn_to_eth': u'0.055369',\n",
       " u'eth_to_rwf': u'8860.121657',\n",
       " u'byn_to_btc': u'0.000884',\n",
       " u'btn_to_eth': u'0.001342',\n",
       " u'btc_to_lyd': u'803.568396',\n",
       " u'twd_to_usd': u'0.031942',\n",
       " u'eth_to_imp': u'8.540487',\n",
       " u'tmt_to_usd': u'0.288342',\n",
       " u'usd_to_nok': u'8.196031',\n",
       " u'zwl_to_usd': u'0.003102',\n",
       " u'bsd_to_eth': u'0.089686',\n",
       " u'gmd_to_eth': u'0.002093',\n",
       " u'top_to_btc': u'0.000764',\n",
       " u'khr_to_usd': u'0.000245',\n",
       " u'sgd_to_usd': u'0.745465',\n",
       " u'cve_to_usd': u'0.010191',\n",
       " u'ltc_to_bhd': u'1.131081',\n",
       " u'imp_to_ltc': u'0.435182',\n",
       " u'egp_to_usd': u'0.112658',\n",
       " u'gel_to_usd': u'0.429723',\n",
       " u'myr_to_ltc': u'0.083468',\n",
       " u'ron_to_eth': u'0.022662',\n",
       " u'eth_to_cop': u'32349.179087',\n",
       " u'hrk_to_ltc': u'0.050184',\n",
       " u'eth_to_zar': u'149.485597',\n",
       " u'zar_to_ltc': u'0.024863',\n",
       " u'ltc_to_gip': u'2.297889',\n",
       " u'mad_to_usd': u'0.103095',\n",
       " u'xag_to_ltc': u'6.655818',\n",
       " u'xaf_to_ltc': u'0.000571',\n",
       " u'eth_to_aoa': u'1845.999586',\n",
       " u'sll_to_ltc': u'0.00006',\n",
       " u'awg_to_usd': u'0.557621',\n",
       " u'tjs_to_eth': u'0.011399',\n",
       " u'bgn_to_ltc': u'0.191617',\n",
       " u'dkk_to_eth': u'0.013574',\n",
       " u'hnl_to_btc': u'0.000075',\n",
       " u'eth_to_dkk': u'73.670146',\n",
       " u'usd_to_bzd': u'1.998519',\n",
       " u'eth_to_nzd': u'15.297521',\n",
       " u'eth_to_chf': u'10.744954',\n",
       " u'ltc_to_jep': u'2.297889',\n",
       " u'usd_to_vef': u'9.978012',\n",
       " u'mro_to_btc': u'0.000005',\n",
       " u'ltc_to_zmk': u'15759.225765',\n",
       " u'uyu_to_eth': u'0.003121',\n",
       " u'lbp_to_eth': u'0.000059',\n",
       " u'eth_to_inr': u'745.354877',\n",
       " u'etb_to_btc': u'0.000078',\n",
       " u'eth_to_sos': u'6482.303375',\n",
       " u'sar_to_ltc': u'0.088893',\n",
       " u'idr_to_btc': u'0.0',\n",
       " u'bmd_to_btc': u'0.001722',\n",
       " u'eth_to_etb': u'245.847577',\n",
       " u'fkp_to_btc': u'0.002248',\n",
       " u'ltc_to_amd': u'1427.175012',\n",
       " u'jmd_to_btc': u'0.000014',\n",
       " u'zar_to_eth': u'0.00669',\n",
       " u'ltc_to_czk': u'71.97495',\n",
       " u'brl_to_eth': u'0.028038',\n",
       " u'gbp_to_ltc': u'0.435182',\n",
       " u'afn_to_eth': u'0.00133',\n",
       " u'dzd_to_ltc': u'0.003061',\n",
       " u'jpy_to_btc': u'0.000017',\n",
       " u'sdg_to_usd': u'0.164603',\n",
       " u'btc_to_syp': u'124806.408022',\n",
       " u'tjs_to_ltc': u'0.042367',\n",
       " u'htg_to_usd': u'0.015645',\n",
       " u'usd_to_pen': u'3.30751',\n",
       " u'eek_to_eth': u'0.006437',\n",
       " u'usd_to_xof': u'584.336662',\n",
       " u'gtq_to_usd': u'0.133219',\n",
       " u'svc_to_usd': u'0.114392',\n",
       " u'ltc_to_azn': u'4.859325',\n",
       " u'xaf_to_eth': u'0.000154',\n",
       " u'ars_to_usd': u'0.068182',\n",
       " u'cny_to_ltc': u'0.050289',\n",
       " u'ltc_to_idr': u'39306.099999',\n",
       " u'ltc_to_scr': u'39.71892',\n",
       " u'etb_to_eth': u'0.004068',\n",
       " u'cdf_to_usd': u'0.001017',\n",
       " u'btc_to_zmw': u'5892.028674',\n",
       " u'eth_to_bwp': u'115.043191',\n",
       " u'kpw_to_ltc': u'0.00037',\n",
       " u'ltc_to_nok': u'24.588093',\n",
       " u'kwd_to_ltc': u'1.105638',\n",
       " u'ltc_to_mtl': u'2.050806',\n",
       " u'btc_to_ang': u'1031.489382',\n",
       " u'lvl_to_btc': u'0.002759',\n",
       " u'yer_to_eth': u'0.000359',\n",
       " u'ltc_to_ern': u'45.0045',\n",
       " u'usd_to_zwl': u'322.387247',\n",
       " u'eth_to_ils': u'42.191187',\n",
       " u'kpw_to_eth': u'0.0001',\n",
       " u'irr_to_ltc': u'0.000011',\n",
       " u'sgd_to_btc': u'0.001284',\n",
       " u'rub_to_btc': u'0.000027',\n",
       " u'byr_to_btc': u'0.0',\n",
       " u'usd_to_idr': u'13102.033333',\n",
       " u'pen_to_eth': u'0.027116',\n",
       " u'zar_to_usd': u'0.074589',\n",
       " u'ltc_to_rwf': u'2383.889235',\n",
       " u'usd_to_sos': u'581.3725',\n",
       " u'eek_to_usd': u'0.071772',\n",
       " u'btc_to_zmk': u'3050565.862084',\n",
       " u'mwk_to_btc': u'0.000002',\n",
       " u'ltc_to_imp': u'2.297889',\n",
       " u'bwp_to_ltc': u'0.032307',\n",
       " u'ltc_to_nio': u'86.62881',\n",
       " u'kmf_to_usd': u'0.002266',\n",
       " u'aud_to_ltc': u'0.256541',\n",
       " u'tmt_to_eth': u'0.02586',\n",
       " u'tnd_to_ltc': u'0.151903',\n",
       " u'btc_to_mxn': u'10491.641759',\n",
       " u'bmd_to_usd': u'1.0',\n",
       " u'btc_to_pyg': u'3210457.28714',\n",
       " u'ltc_to_hnl': u'68.47602',\n",
       " u'iqd_to_usd': u'0.000858',\n",
       " u'iqd_to_ltc': u'0.000286',\n",
       " u'tjs_to_usd': u'0.127101',\n",
       " u'wst_to_eth': u'0.03531',\n",
       " u'usd_to_bgn': u'1.739584',\n",
       " u'clf_to_usd': u'40.696728',\n",
       " u'eth_to_ghs': u'43.76414',\n",
       " u'zwl_to_btc': u'0.000005',\n",
       " u'btc_to_pab': u'580.72',\n",
       " u'eth_to_npr': u'1191.175674',\n",
       " u'ltc_to_twd': u'93.92061',\n",
       " u'bnd_to_btc': u'0.001285',\n",
       " u'ltc_to_crc': u'1644.730788',\n",
       " u'lrd_to_usd': u'0.01061',\n",
       " ...}"
      ]
     },
     "execution_count": 59,
     "metadata": {},
     "output_type": "execute_result"
    }
   ],
   "source": [
    "response = unirest.get(\"https://montanaflynn-bitcoin-exchange-rate.p.mashape.com/currencies/exchange_rates\",\n",
    "  headers={\n",
    "    \"X-Mashape-Key\": \"QgrDeDPRdFmshQBsi3cDAvZvD6Ykp1AxBj4jsn1po92UN8XxKx\",\n",
    "    \"Accept\": \"text/plain\"\n",
    "  }\n",
    ")\n",
    "\n",
    "response.body"
   ]
  },
  {
   "cell_type": "markdown",
   "metadata": {},
   "source": [
    "\n",
    "Markit http://www.markit.com/Company/About-Markit is a provider of financial information services.\n",
    "\n",
    "Below is an example of how the current stock proce of Apple can be queried though their API\n"
   ]
  },
  {
   "cell_type": "code",
   "execution_count": 60,
   "metadata": {
    "collapsed": false
   },
   "outputs": [
    {
     "data": {
      "text/plain": [
       "<Response [200]>"
      ]
     },
     "execution_count": 60,
     "metadata": {},
     "output_type": "execute_result"
    }
   ],
   "source": [
    "url = \"http://dev.markitondemand.com/Api/v2/Quote/json?symbol=AAPL\"\n",
    "response = requests.get(url, proxies=massey_proxies)\n",
    "\n",
    "response"
   ]
  },
  {
   "cell_type": "code",
   "execution_count": 61,
   "metadata": {
    "collapsed": false
   },
   "outputs": [
    {
     "data": {
      "text/plain": [
       "{u'Change': -0.0900000000000034,\n",
       " u'ChangePercent': -0.0822067957617861,\n",
       " u'ChangePercentYTD': 3.92361770853125,\n",
       " u'ChangeYTD': 105.26,\n",
       " u'High': 110.23,\n",
       " u'LastPrice': 109.39,\n",
       " u'Low': 109.21,\n",
       " u'MSDate': 42598.6659722222,\n",
       " u'MarketCap': 589441779770L,\n",
       " u'Name': u'Apple Inc',\n",
       " u'Open': 109.67,\n",
       " u'Status': u'SUCCESS',\n",
       " u'Symbol': u'AAPL',\n",
       " u'Timestamp': u'Tue Aug 16 15:59:00 UTC-04:00 2016',\n",
       " u'Volume': 1957567}"
      ]
     },
     "execution_count": 61,
     "metadata": {},
     "output_type": "execute_result"
    }
   ],
   "source": [
    "markit_dict = json.loads(response.content)\n",
    "markit_dict"
   ]
  },
  {
   "cell_type": "markdown",
   "metadata": {},
   "source": [
    "**Exercise:** Look through their API documentation at http://dev.markitondemand.com/#doc_lookup and construct a query."
   ]
  },
  {
   "cell_type": "code",
   "execution_count": null,
   "metadata": {
    "collapsed": false
   },
   "outputs": [],
   "source": []
  },
  {
   "cell_type": "markdown",
   "metadata": {},
   "source": [
    "Another popular API provider is https://apigee.com/providers"
   ]
  },
  {
   "cell_type": "code",
   "execution_count": 62,
   "metadata": {
    "collapsed": false
   },
   "outputs": [
    {
     "data": {
      "text/html": [
       "<iframe src=https://apigee.com/providers width=1100 height=500></iframe>"
      ],
      "text/plain": [
       "<IPython.core.display.HTML object>"
      ]
     },
     "execution_count": 62,
     "metadata": {},
     "output_type": "execute_result"
    }
   ],
   "source": [
    "from IPython.core.display import HTML\n",
    "HTML(\"<iframe src=https://apigee.com/providers width=1100 height=500></iframe>\")"
   ]
  },
  {
   "cell_type": "code",
   "execution_count": null,
   "metadata": {
    "collapsed": true
   },
   "outputs": [],
   "source": []
  },
  {
   "cell_type": "code",
   "execution_count": null,
   "metadata": {
    "collapsed": true
   },
   "outputs": [],
   "source": []
  },
  {
   "cell_type": "code",
   "execution_count": 63,
   "metadata": {
    "collapsed": false
   },
   "outputs": [
    {
     "data": {
      "application/javascript": [
       "require(['base/js/utils'],\n",
       "function(utils) {\n",
       "   utils.load_extensions('calico-spell-check', 'calico-document-tools', 'calico-cell-tools');\n",
       "});"
      ],
      "text/plain": [
       "<IPython.core.display.Javascript object>"
      ]
     },
     "metadata": {},
     "output_type": "display_data"
    }
   ],
   "source": [
    "%%javascript\n",
    "require(['base/js/utils'],\n",
    "function(utils) {\n",
    "   utils.load_extensions('calico-spell-check', 'calico-document-tools', 'calico-cell-tools');\n",
    "});"
   ]
  },
  {
   "cell_type": "code",
   "execution_count": null,
   "metadata": {
    "collapsed": true
   },
   "outputs": [],
   "source": []
  }
 ],
 "metadata": {
  "anaconda-cloud": {},
  "kernelspec": {
   "display_name": "Python [Root]",
   "language": "python",
   "name": "Python [Root]"
  },
  "language_info": {
   "codemirror_mode": {
    "name": "ipython",
    "version": 2
   },
   "file_extension": ".py",
   "mimetype": "text/x-python",
   "name": "python",
   "nbconvert_exporter": "python",
   "pygments_lexer": "ipython2",
   "version": "2.7.12"
  }
 },
 "nbformat": 4,
 "nbformat_minor": 0
}
