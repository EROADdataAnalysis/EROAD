{
 "cells": [
  {
   "cell_type": "markdown",
   "metadata": {},
   "source": [
    "# Table of Contents\n",
    "* [Lecture 2D - Introduction to Time Series Data](#Lecture-8---Introduction-to-Time-Series-Data)\n",
    "\t* &nbsp;\n",
    "\t\t* [Content](#Content)\n",
    "\t\t* [Learning Outcomes](#Learning-Outcomes)\n",
    "* [Importing Time Series Data](#Importing-Time-Series-Data)\n",
    "* [Converting into Time Series Data](#Converting-into-Time-Series-Data)\n",
    "* [Filtering Time Series Data](#Filtering-Time-Series-Data)\n",
    "* [Resampling](#Resampling)\n",
    "\t* &nbsp;\n",
    "\t\t* [Moving (rolling/running) statistics](#Moving-%28rolling/running%29-statistics)\n",
    "\t* [Shift operations](#Shift-operations)\n",
    "\t\t* [Exercise:](#Exercise:)\n"
   ]
  },
  {
   "cell_type": "markdown",
   "metadata": {},
   "source": [
    "# Lecture 2D - Introduction to Time Series Data"
   ]
  },
  {
   "cell_type": "markdown",
   "metadata": {},
   "source": [
    "---"
   ]
  },
  {
   "cell_type": "markdown",
   "metadata": {},
   "source": [
    "### Content"
   ]
  },
  {
   "cell_type": "markdown",
   "metadata": {},
   "source": [
    "1. Importing time series data\n",
    "2. Time series data types and conversions\n",
    "3. Time series filtering\n",
    "4. Time series resampling\n",
    "5. Plotting time series"
   ]
  },
  {
   "cell_type": "markdown",
   "metadata": {},
   "source": [
    "### Learning Outcomes"
   ]
  },
  {
   "cell_type": "markdown",
   "metadata": {},
   "source": [
    "At the end of this lecture, you should be able to:\n",
    "\n",
    "* import time series data\n",
    "* convert datasets into appropriate time series data types\n",
    "* filter dataframes based on time series conditions\n",
    "* perform resampling of time series data\n",
    "* perform running averages on time series data\n",
    "* visualise time series data"
   ]
  },
  {
   "cell_type": "markdown",
   "metadata": {},
   "source": [
    "The overall goal of Pandas is that of becoming \"the most powerful and flexible open source data analysis manipulation tool available in any language\", and it is already well on its way toward realizing this. One of the domains where Pandas has been excelling and has become a proven a tool is in the domain of time series data analysis. \n",
    "\n",
    "Time series data is a sequence of data points that comprises of measurements made over a time interval, where the time interval is continuous, having the same distance between consecutive data points, while generating at most one data point for each given moment in time.\n",
    "\n",
    "Time series analysis is an substantive topic. The aim here will be to provide a brief introduction on how to process, manipulate and visualise time series data using a small subset of Pandas capabilities."
   ]
  },
  {
   "cell_type": "code",
   "execution_count": 2,
   "metadata": {
    "collapsed": true
   },
   "outputs": [],
   "source": [
    "import pandas as pd\n",
    "import numpy as np\n",
    "import matplotlib.pyplot as plt"
   ]
  },
  {
   "cell_type": "code",
   "execution_count": 3,
   "metadata": {
    "collapsed": true
   },
   "outputs": [],
   "source": [
    "from pylab import rcParams #this module gives us some controls over plot rendering attributes\n",
    "rcParams['figure.figsize'] = 15, 10"
   ]
  },
  {
   "cell_type": "code",
   "execution_count": 4,
   "metadata": {
    "collapsed": true
   },
   "outputs": [],
   "source": [
    "#this line enables the plots to be embedded into the notebook\n",
    "%matplotlib inline"
   ]
  },
  {
   "cell_type": "markdown",
   "metadata": {},
   "source": [
    "# Importing Time Series Data"
   ]
  },
  {
   "cell_type": "markdown",
   "metadata": {},
   "source": [
    "Below is a dataset extracted from Yahoo Finance showing the daily Apple stock price movements from 1980 to February 2016."
   ]
  },
  {
   "cell_type": "code",
   "execution_count": 5,
   "metadata": {
    "collapsed": false
   },
   "outputs": [
    {
     "data": {
      "text/html": [
       "<div>\n",
       "<table border=\"1\" class=\"dataframe\">\n",
       "  <thead>\n",
       "    <tr style=\"text-align: right;\">\n",
       "      <th></th>\n",
       "      <th>Date</th>\n",
       "      <th>Open</th>\n",
       "      <th>High</th>\n",
       "      <th>Low</th>\n",
       "      <th>Close</th>\n",
       "      <th>Volume</th>\n",
       "      <th>Adj Close</th>\n",
       "    </tr>\n",
       "  </thead>\n",
       "  <tbody>\n",
       "    <tr>\n",
       "      <th>0</th>\n",
       "      <td>2016-02-03</td>\n",
       "      <td>95.000000</td>\n",
       "      <td>96.839996</td>\n",
       "      <td>94.080002</td>\n",
       "      <td>96.349998</td>\n",
       "      <td>45964300</td>\n",
       "      <td>95.830001</td>\n",
       "    </tr>\n",
       "    <tr>\n",
       "      <th>1</th>\n",
       "      <td>2016-02-02</td>\n",
       "      <td>95.419998</td>\n",
       "      <td>96.040001</td>\n",
       "      <td>94.279999</td>\n",
       "      <td>94.480003</td>\n",
       "      <td>37357200</td>\n",
       "      <td>93.970098</td>\n",
       "    </tr>\n",
       "    <tr>\n",
       "      <th>2</th>\n",
       "      <td>2016-02-01</td>\n",
       "      <td>96.470001</td>\n",
       "      <td>96.709999</td>\n",
       "      <td>95.400002</td>\n",
       "      <td>96.430000</td>\n",
       "      <td>40943500</td>\n",
       "      <td>95.909571</td>\n",
       "    </tr>\n",
       "    <tr>\n",
       "      <th>3</th>\n",
       "      <td>2016-01-29</td>\n",
       "      <td>94.790001</td>\n",
       "      <td>97.339996</td>\n",
       "      <td>94.349998</td>\n",
       "      <td>97.339996</td>\n",
       "      <td>64416500</td>\n",
       "      <td>96.814656</td>\n",
       "    </tr>\n",
       "    <tr>\n",
       "      <th>4</th>\n",
       "      <td>2016-01-28</td>\n",
       "      <td>93.790001</td>\n",
       "      <td>94.519997</td>\n",
       "      <td>92.389999</td>\n",
       "      <td>94.089996</td>\n",
       "      <td>55678800</td>\n",
       "      <td>93.582196</td>\n",
       "    </tr>\n",
       "  </tbody>\n",
       "</table>\n",
       "</div>"
      ],
      "text/plain": [
       "         Date       Open       High        Low      Close    Volume  Adj Close\n",
       "0  2016-02-03  95.000000  96.839996  94.080002  96.349998  45964300  95.830001\n",
       "1  2016-02-02  95.419998  96.040001  94.279999  94.480003  37357200  93.970098\n",
       "2  2016-02-01  96.470001  96.709999  95.400002  96.430000  40943500  95.909571\n",
       "3  2016-01-29  94.790001  97.339996  94.349998  97.339996  64416500  96.814656\n",
       "4  2016-01-28  93.790001  94.519997  92.389999  94.089996  55678800  93.582196"
      ]
     },
     "execution_count": 5,
     "metadata": {},
     "output_type": "execute_result"
    }
   ],
   "source": [
    "ts_data = pd.read_csv('appleStockPrice.csv')\n",
    "ts_data.head()"
   ]
  },
  {
   "cell_type": "code",
   "execution_count": 6,
   "metadata": {
    "collapsed": false
   },
   "outputs": [
    {
     "data": {
      "text/html": [
       "<div>\n",
       "<table border=\"1\" class=\"dataframe\">\n",
       "  <thead>\n",
       "    <tr style=\"text-align: right;\">\n",
       "      <th></th>\n",
       "      <th>Date</th>\n",
       "      <th>Open</th>\n",
       "      <th>High</th>\n",
       "      <th>Low</th>\n",
       "      <th>Close</th>\n",
       "      <th>Volume</th>\n",
       "      <th>Adj Close</th>\n",
       "    </tr>\n",
       "  </thead>\n",
       "  <tbody>\n",
       "    <tr>\n",
       "      <th>8857</th>\n",
       "      <td>1980-12-18</td>\n",
       "      <td>26.625000</td>\n",
       "      <td>26.750000</td>\n",
       "      <td>26.625</td>\n",
       "      <td>26.625</td>\n",
       "      <td>18362400</td>\n",
       "      <td>0.401907</td>\n",
       "    </tr>\n",
       "    <tr>\n",
       "      <th>8858</th>\n",
       "      <td>1980-12-17</td>\n",
       "      <td>25.875000</td>\n",
       "      <td>25.999999</td>\n",
       "      <td>25.875</td>\n",
       "      <td>25.875</td>\n",
       "      <td>21610400</td>\n",
       "      <td>0.390586</td>\n",
       "    </tr>\n",
       "    <tr>\n",
       "      <th>8859</th>\n",
       "      <td>1980-12-16</td>\n",
       "      <td>25.375000</td>\n",
       "      <td>25.375000</td>\n",
       "      <td>25.250</td>\n",
       "      <td>25.250</td>\n",
       "      <td>26432000</td>\n",
       "      <td>0.381151</td>\n",
       "    </tr>\n",
       "    <tr>\n",
       "      <th>8860</th>\n",
       "      <td>1980-12-15</td>\n",
       "      <td>27.375001</td>\n",
       "      <td>27.375001</td>\n",
       "      <td>27.250</td>\n",
       "      <td>27.250</td>\n",
       "      <td>43971200</td>\n",
       "      <td>0.411342</td>\n",
       "    </tr>\n",
       "    <tr>\n",
       "      <th>8861</th>\n",
       "      <td>1980-12-12</td>\n",
       "      <td>28.750000</td>\n",
       "      <td>28.875000</td>\n",
       "      <td>28.750</td>\n",
       "      <td>28.750</td>\n",
       "      <td>117258400</td>\n",
       "      <td>0.433984</td>\n",
       "    </tr>\n",
       "  </tbody>\n",
       "</table>\n",
       "</div>"
      ],
      "text/plain": [
       "            Date       Open       High     Low   Close     Volume  Adj Close\n",
       "8857  1980-12-18  26.625000  26.750000  26.625  26.625   18362400   0.401907\n",
       "8858  1980-12-17  25.875000  25.999999  25.875  25.875   21610400   0.390586\n",
       "8859  1980-12-16  25.375000  25.375000  25.250  25.250   26432000   0.381151\n",
       "8860  1980-12-15  27.375001  27.375001  27.250  27.250   43971200   0.411342\n",
       "8861  1980-12-12  28.750000  28.875000  28.750  28.750  117258400   0.433984"
      ]
     },
     "execution_count": 6,
     "metadata": {},
     "output_type": "execute_result"
    }
   ],
   "source": [
    "ts_data.tail()"
   ]
  },
  {
   "cell_type": "markdown",
   "metadata": {},
   "source": [
    "Notice that the data that we imported has the order of observations in a descending order in respect to Date. We will deal with this later.\n",
    "\n",
    "Examine the data types for each of the columns."
   ]
  },
  {
   "cell_type": "code",
   "execution_count": 7,
   "metadata": {
    "collapsed": false
   },
   "outputs": [
    {
     "name": "stdout",
     "output_type": "stream",
     "text": [
      "<class 'pandas.core.frame.DataFrame'>\n",
      "RangeIndex: 8862 entries, 0 to 8861\n",
      "Data columns (total 7 columns):\n",
      "Date         8862 non-null object\n",
      "Open         8862 non-null float64\n",
      "High         8862 non-null float64\n",
      "Low          8862 non-null float64\n",
      "Close        8862 non-null float64\n",
      "Volume       8862 non-null int64\n",
      "Adj Close    8862 non-null float64\n",
      "dtypes: float64(5), int64(1), object(1)\n",
      "memory usage: 484.7+ KB\n"
     ]
    }
   ],
   "source": [
    "ts_data.info()"
   ]
  },
  {
   "cell_type": "markdown",
   "metadata": {},
   "source": [
    "Notice that the 'Date' column is an 'object' data type. This means that it has been interepreted as a 'string' rather than as a 'date' data type."
   ]
  },
  {
   "cell_type": "markdown",
   "metadata": {},
   "source": [
    "# Converting into Time Series Data"
   ]
  },
  {
   "cell_type": "markdown",
   "metadata": {},
   "source": [
    "Below is an example of how we can convert a column that is interpreted as a string, into a datetime datatype."
   ]
  },
  {
   "cell_type": "code",
   "execution_count": 8,
   "metadata": {
    "collapsed": false
   },
   "outputs": [
    {
     "name": "stdout",
     "output_type": "stream",
     "text": [
      "<class 'pandas.core.frame.DataFrame'>\n",
      "RangeIndex: 8862 entries, 0 to 8861\n",
      "Data columns (total 7 columns):\n",
      "Date         8862 non-null datetime64[ns]\n",
      "Open         8862 non-null float64\n",
      "High         8862 non-null float64\n",
      "Low          8862 non-null float64\n",
      "Close        8862 non-null float64\n",
      "Volume       8862 non-null int64\n",
      "Adj Close    8862 non-null float64\n",
      "dtypes: datetime64[ns](1), float64(5), int64(1)\n",
      "memory usage: 484.7 KB\n"
     ]
    }
   ],
   "source": [
    "ts_data['Date'] = pd.to_datetime(ts_data['Date'], format='%Y-%m-%d')\n",
    "ts_data.info()"
   ]
  },
  {
   "cell_type": "markdown",
   "metadata": {},
   "source": [
    "Notice the 'format' specification and how it fits exactly the format of the original string."
   ]
  },
  {
   "cell_type": "code",
   "execution_count": 9,
   "metadata": {
    "collapsed": false
   },
   "outputs": [
    {
     "name": "stdout",
     "output_type": "stream",
     "text": [
      "<class 'pandas.core.frame.DataFrame'>\n",
      "RangeIndex: 8862 entries, 0 to 8861\n",
      "Data columns (total 7 columns):\n",
      "Date         8862 non-null datetime64[ns]\n",
      "Open         8862 non-null float64\n",
      "High         8862 non-null float64\n",
      "Low          8862 non-null float64\n",
      "Close        8862 non-null float64\n",
      "Volume       8862 non-null int64\n",
      "Adj Close    8862 non-null float64\n",
      "dtypes: datetime64[ns](1), float64(5), int64(1)\n",
      "memory usage: 484.7 KB\n",
      "None\n"
     ]
    },
    {
     "data": {
      "text/html": [
       "<div>\n",
       "<table border=\"1\" class=\"dataframe\">\n",
       "  <thead>\n",
       "    <tr style=\"text-align: right;\">\n",
       "      <th></th>\n",
       "      <th>Date</th>\n",
       "      <th>Open</th>\n",
       "      <th>High</th>\n",
       "      <th>Low</th>\n",
       "      <th>Close</th>\n",
       "      <th>Volume</th>\n",
       "      <th>Adj Close</th>\n",
       "    </tr>\n",
       "  </thead>\n",
       "  <tbody>\n",
       "    <tr>\n",
       "      <th>0</th>\n",
       "      <td>2016-02-03</td>\n",
       "      <td>95.000000</td>\n",
       "      <td>96.839996</td>\n",
       "      <td>94.080002</td>\n",
       "      <td>96.349998</td>\n",
       "      <td>45964300</td>\n",
       "      <td>95.830001</td>\n",
       "    </tr>\n",
       "    <tr>\n",
       "      <th>1</th>\n",
       "      <td>2016-02-02</td>\n",
       "      <td>95.419998</td>\n",
       "      <td>96.040001</td>\n",
       "      <td>94.279999</td>\n",
       "      <td>94.480003</td>\n",
       "      <td>37357200</td>\n",
       "      <td>93.970098</td>\n",
       "    </tr>\n",
       "    <tr>\n",
       "      <th>2</th>\n",
       "      <td>2016-02-01</td>\n",
       "      <td>96.470001</td>\n",
       "      <td>96.709999</td>\n",
       "      <td>95.400002</td>\n",
       "      <td>96.430000</td>\n",
       "      <td>40943500</td>\n",
       "      <td>95.909571</td>\n",
       "    </tr>\n",
       "    <tr>\n",
       "      <th>3</th>\n",
       "      <td>2016-01-29</td>\n",
       "      <td>94.790001</td>\n",
       "      <td>97.339996</td>\n",
       "      <td>94.349998</td>\n",
       "      <td>97.339996</td>\n",
       "      <td>64416500</td>\n",
       "      <td>96.814656</td>\n",
       "    </tr>\n",
       "    <tr>\n",
       "      <th>4</th>\n",
       "      <td>2016-01-28</td>\n",
       "      <td>93.790001</td>\n",
       "      <td>94.519997</td>\n",
       "      <td>92.389999</td>\n",
       "      <td>94.089996</td>\n",
       "      <td>55678800</td>\n",
       "      <td>93.582196</td>\n",
       "    </tr>\n",
       "  </tbody>\n",
       "</table>\n",
       "</div>"
      ],
      "text/plain": [
       "        Date       Open       High        Low      Close    Volume  Adj Close\n",
       "0 2016-02-03  95.000000  96.839996  94.080002  96.349998  45964300  95.830001\n",
       "1 2016-02-02  95.419998  96.040001  94.279999  94.480003  37357200  93.970098\n",
       "2 2016-02-01  96.470001  96.709999  95.400002  96.430000  40943500  95.909571\n",
       "3 2016-01-29  94.790001  97.339996  94.349998  97.339996  64416500  96.814656\n",
       "4 2016-01-28  93.790001  94.519997  92.389999  94.089996  55678800  93.582196"
      ]
     },
     "execution_count": 9,
     "metadata": {},
     "output_type": "execute_result"
    }
   ],
   "source": [
    "print ts_data.info()\n",
    "ts_data.head()"
   ]
  },
  {
   "cell_type": "markdown",
   "metadata": {},
   "source": [
    "The Date column is now a datetime64 data type. Notice that the appearance of the Date column has not changed, which is why it is important to check that the data types are as you would like them to be for each column.\n",
    "\n"
   ]
  },
  {
   "cell_type": "markdown",
   "metadata": {},
   "source": [
    "**Exercise:** Use the pd.read_clipboard() function to read the below data into a dataframe. Then convert the column Date into a datetime data type that has the format of Year/Month/Day as above:  "
   ]
  },
  {
   "cell_type": "raw",
   "metadata": {},
   "source": [
    "Date\n",
    "03/02/2016\n",
    "02/02/2016\n",
    "01/02/2016\n",
    "29/01/2016\n",
    "28/01/2016\n",
    "27/01/2016\n",
    "26/01/2016\n",
    "25/01/2016\n",
    "22/01/2016\n",
    "21/01/2016"
   ]
  },
  {
   "cell_type": "code",
   "execution_count": null,
   "metadata": {
    "collapsed": false
   },
   "outputs": [],
   "source": []
  },
  {
   "cell_type": "code",
   "execution_count": null,
   "metadata": {
    "collapsed": false
   },
   "outputs": [],
   "source": []
  },
  {
   "cell_type": "code",
   "execution_count": null,
   "metadata": {
    "collapsed": false
   },
   "outputs": [],
   "source": []
  },
  {
   "cell_type": "markdown",
   "metadata": {},
   "source": [
    "We can perform more powerful manipulation and processing if we make the Date column the index."
   ]
  },
  {
   "cell_type": "code",
   "execution_count": 10,
   "metadata": {
    "collapsed": false,
    "scrolled": true
   },
   "outputs": [
    {
     "data": {
      "text/html": [
       "<div>\n",
       "<table border=\"1\" class=\"dataframe\">\n",
       "  <thead>\n",
       "    <tr style=\"text-align: right;\">\n",
       "      <th></th>\n",
       "      <th>Open</th>\n",
       "      <th>High</th>\n",
       "      <th>Low</th>\n",
       "      <th>Close</th>\n",
       "      <th>Volume</th>\n",
       "      <th>Adj Close</th>\n",
       "    </tr>\n",
       "    <tr>\n",
       "      <th>Date</th>\n",
       "      <th></th>\n",
       "      <th></th>\n",
       "      <th></th>\n",
       "      <th></th>\n",
       "      <th></th>\n",
       "      <th></th>\n",
       "    </tr>\n",
       "  </thead>\n",
       "  <tbody>\n",
       "    <tr>\n",
       "      <th>2016-02-03</th>\n",
       "      <td>95.000000</td>\n",
       "      <td>96.839996</td>\n",
       "      <td>94.080002</td>\n",
       "      <td>96.349998</td>\n",
       "      <td>45964300</td>\n",
       "      <td>95.830001</td>\n",
       "    </tr>\n",
       "    <tr>\n",
       "      <th>2016-02-02</th>\n",
       "      <td>95.419998</td>\n",
       "      <td>96.040001</td>\n",
       "      <td>94.279999</td>\n",
       "      <td>94.480003</td>\n",
       "      <td>37357200</td>\n",
       "      <td>93.970098</td>\n",
       "    </tr>\n",
       "    <tr>\n",
       "      <th>2016-02-01</th>\n",
       "      <td>96.470001</td>\n",
       "      <td>96.709999</td>\n",
       "      <td>95.400002</td>\n",
       "      <td>96.430000</td>\n",
       "      <td>40943500</td>\n",
       "      <td>95.909571</td>\n",
       "    </tr>\n",
       "    <tr>\n",
       "      <th>2016-01-29</th>\n",
       "      <td>94.790001</td>\n",
       "      <td>97.339996</td>\n",
       "      <td>94.349998</td>\n",
       "      <td>97.339996</td>\n",
       "      <td>64416500</td>\n",
       "      <td>96.814656</td>\n",
       "    </tr>\n",
       "    <tr>\n",
       "      <th>2016-01-28</th>\n",
       "      <td>93.790001</td>\n",
       "      <td>94.519997</td>\n",
       "      <td>92.389999</td>\n",
       "      <td>94.089996</td>\n",
       "      <td>55678800</td>\n",
       "      <td>93.582196</td>\n",
       "    </tr>\n",
       "  </tbody>\n",
       "</table>\n",
       "</div>"
      ],
      "text/plain": [
       "                 Open       High        Low      Close    Volume  Adj Close\n",
       "Date                                                                       \n",
       "2016-02-03  95.000000  96.839996  94.080002  96.349998  45964300  95.830001\n",
       "2016-02-02  95.419998  96.040001  94.279999  94.480003  37357200  93.970098\n",
       "2016-02-01  96.470001  96.709999  95.400002  96.430000  40943500  95.909571\n",
       "2016-01-29  94.790001  97.339996  94.349998  97.339996  64416500  96.814656\n",
       "2016-01-28  93.790001  94.519997  92.389999  94.089996  55678800  93.582196"
      ]
     },
     "execution_count": 10,
     "metadata": {},
     "output_type": "execute_result"
    }
   ],
   "source": [
    "ts_data = ts_data.set_index(['Date'])\n",
    "ts_data.head()"
   ]
  },
  {
   "cell_type": "markdown",
   "metadata": {},
   "source": [
    "It is important to know how to manually convert columns into datetime and make them into a dataframe index; however, when reading in a csv file, we can do all of the above automatically in future by specifying a couple of parameters. "
   ]
  },
  {
   "cell_type": "code",
   "execution_count": 12,
   "metadata": {
    "collapsed": false
   },
   "outputs": [
    {
     "name": "stdout",
     "output_type": "stream",
     "text": [
      "<class 'pandas.core.frame.DataFrame'>\n",
      "DatetimeIndex: 8862 entries, 2016-02-03 to 1980-12-12\n",
      "Data columns (total 6 columns):\n",
      "Open         8862 non-null float64\n",
      "High         8862 non-null float64\n",
      "Low          8862 non-null float64\n",
      "Close        8862 non-null float64\n",
      "Volume       8862 non-null int64\n",
      "Adj Close    8862 non-null float64\n",
      "dtypes: float64(5), int64(1)\n",
      "memory usage: 484.6 KB\n",
      "None\n"
     ]
    },
    {
     "data": {
      "text/html": [
       "<div>\n",
       "<table border=\"1\" class=\"dataframe\">\n",
       "  <thead>\n",
       "    <tr style=\"text-align: right;\">\n",
       "      <th></th>\n",
       "      <th>Open</th>\n",
       "      <th>High</th>\n",
       "      <th>Low</th>\n",
       "      <th>Close</th>\n",
       "      <th>Volume</th>\n",
       "      <th>Adj Close</th>\n",
       "    </tr>\n",
       "    <tr>\n",
       "      <th>Date</th>\n",
       "      <th></th>\n",
       "      <th></th>\n",
       "      <th></th>\n",
       "      <th></th>\n",
       "      <th></th>\n",
       "      <th></th>\n",
       "    </tr>\n",
       "  </thead>\n",
       "  <tbody>\n",
       "    <tr>\n",
       "      <th>2016-02-03</th>\n",
       "      <td>95.000000</td>\n",
       "      <td>96.839996</td>\n",
       "      <td>94.080002</td>\n",
       "      <td>96.349998</td>\n",
       "      <td>45964300</td>\n",
       "      <td>95.830001</td>\n",
       "    </tr>\n",
       "    <tr>\n",
       "      <th>2016-02-02</th>\n",
       "      <td>95.419998</td>\n",
       "      <td>96.040001</td>\n",
       "      <td>94.279999</td>\n",
       "      <td>94.480003</td>\n",
       "      <td>37357200</td>\n",
       "      <td>93.970098</td>\n",
       "    </tr>\n",
       "    <tr>\n",
       "      <th>2016-02-01</th>\n",
       "      <td>96.470001</td>\n",
       "      <td>96.709999</td>\n",
       "      <td>95.400002</td>\n",
       "      <td>96.430000</td>\n",
       "      <td>40943500</td>\n",
       "      <td>95.909571</td>\n",
       "    </tr>\n",
       "    <tr>\n",
       "      <th>2016-01-29</th>\n",
       "      <td>94.790001</td>\n",
       "      <td>97.339996</td>\n",
       "      <td>94.349998</td>\n",
       "      <td>97.339996</td>\n",
       "      <td>64416500</td>\n",
       "      <td>96.814656</td>\n",
       "    </tr>\n",
       "    <tr>\n",
       "      <th>2016-01-28</th>\n",
       "      <td>93.790001</td>\n",
       "      <td>94.519997</td>\n",
       "      <td>92.389999</td>\n",
       "      <td>94.089996</td>\n",
       "      <td>55678800</td>\n",
       "      <td>93.582196</td>\n",
       "    </tr>\n",
       "  </tbody>\n",
       "</table>\n",
       "</div>"
      ],
      "text/plain": [
       "                 Open       High        Low      Close    Volume  Adj Close\n",
       "Date                                                                       \n",
       "2016-02-03  95.000000  96.839996  94.080002  96.349998  45964300  95.830001\n",
       "2016-02-02  95.419998  96.040001  94.279999  94.480003  37357200  93.970098\n",
       "2016-02-01  96.470001  96.709999  95.400002  96.430000  40943500  95.909571\n",
       "2016-01-29  94.790001  97.339996  94.349998  97.339996  64416500  96.814656\n",
       "2016-01-28  93.790001  94.519997  92.389999  94.089996  55678800  93.582196"
      ]
     },
     "execution_count": 12,
     "metadata": {},
     "output_type": "execute_result"
    }
   ],
   "source": [
    "ts_data = pd.read_csv('appleStockPrice.csv', index_col='Date', parse_dates=True)\n",
    "print ts_data.info()\n",
    "ts_data.head()"
   ]
  },
  {
   "cell_type": "markdown",
   "metadata": {},
   "source": [
    "# Filtering Time Series Data"
   ]
  },
  {
   "cell_type": "code",
   "execution_count": 13,
   "metadata": {
    "collapsed": false
   },
   "outputs": [
    {
     "data": {
      "text/html": [
       "<div>\n",
       "<table border=\"1\" class=\"dataframe\">\n",
       "  <thead>\n",
       "    <tr style=\"text-align: right;\">\n",
       "      <th></th>\n",
       "      <th>Open</th>\n",
       "      <th>High</th>\n",
       "      <th>Low</th>\n",
       "      <th>Close</th>\n",
       "      <th>Volume</th>\n",
       "      <th>Adj Close</th>\n",
       "    </tr>\n",
       "    <tr>\n",
       "      <th>Date</th>\n",
       "      <th></th>\n",
       "      <th></th>\n",
       "      <th></th>\n",
       "      <th></th>\n",
       "      <th></th>\n",
       "      <th></th>\n",
       "    </tr>\n",
       "  </thead>\n",
       "  <tbody>\n",
       "    <tr>\n",
       "      <th>2016-02-03</th>\n",
       "      <td>95.000000</td>\n",
       "      <td>96.839996</td>\n",
       "      <td>94.080002</td>\n",
       "      <td>96.349998</td>\n",
       "      <td>45964300</td>\n",
       "      <td>95.830001</td>\n",
       "    </tr>\n",
       "    <tr>\n",
       "      <th>2016-02-02</th>\n",
       "      <td>95.419998</td>\n",
       "      <td>96.040001</td>\n",
       "      <td>94.279999</td>\n",
       "      <td>94.480003</td>\n",
       "      <td>37357200</td>\n",
       "      <td>93.970098</td>\n",
       "    </tr>\n",
       "    <tr>\n",
       "      <th>2016-02-01</th>\n",
       "      <td>96.470001</td>\n",
       "      <td>96.709999</td>\n",
       "      <td>95.400002</td>\n",
       "      <td>96.430000</td>\n",
       "      <td>40943500</td>\n",
       "      <td>95.909571</td>\n",
       "    </tr>\n",
       "    <tr>\n",
       "      <th>2016-01-29</th>\n",
       "      <td>94.790001</td>\n",
       "      <td>97.339996</td>\n",
       "      <td>94.349998</td>\n",
       "      <td>97.339996</td>\n",
       "      <td>64416500</td>\n",
       "      <td>96.814656</td>\n",
       "    </tr>\n",
       "    <tr>\n",
       "      <th>2016-01-28</th>\n",
       "      <td>93.790001</td>\n",
       "      <td>94.519997</td>\n",
       "      <td>92.389999</td>\n",
       "      <td>94.089996</td>\n",
       "      <td>55678800</td>\n",
       "      <td>93.582196</td>\n",
       "    </tr>\n",
       "    <tr>\n",
       "      <th>2016-01-27</th>\n",
       "      <td>96.040001</td>\n",
       "      <td>96.629997</td>\n",
       "      <td>93.339996</td>\n",
       "      <td>93.419998</td>\n",
       "      <td>133369700</td>\n",
       "      <td>92.915814</td>\n",
       "    </tr>\n",
       "    <tr>\n",
       "      <th>2016-01-26</th>\n",
       "      <td>99.930000</td>\n",
       "      <td>100.879997</td>\n",
       "      <td>98.070000</td>\n",
       "      <td>99.989998</td>\n",
       "      <td>75077000</td>\n",
       "      <td>99.450356</td>\n",
       "    </tr>\n",
       "    <tr>\n",
       "      <th>2016-01-25</th>\n",
       "      <td>101.519997</td>\n",
       "      <td>101.529999</td>\n",
       "      <td>99.209999</td>\n",
       "      <td>99.440002</td>\n",
       "      <td>51794500</td>\n",
       "      <td>98.903329</td>\n",
       "    </tr>\n",
       "    <tr>\n",
       "      <th>2016-01-22</th>\n",
       "      <td>98.629997</td>\n",
       "      <td>101.459999</td>\n",
       "      <td>98.370003</td>\n",
       "      <td>101.419998</td>\n",
       "      <td>65800500</td>\n",
       "      <td>100.872638</td>\n",
       "    </tr>\n",
       "    <tr>\n",
       "      <th>2016-01-21</th>\n",
       "      <td>97.059998</td>\n",
       "      <td>97.879997</td>\n",
       "      <td>94.940002</td>\n",
       "      <td>96.300003</td>\n",
       "      <td>52161500</td>\n",
       "      <td>95.780276</td>\n",
       "    </tr>\n",
       "    <tr>\n",
       "      <th>2016-01-20</th>\n",
       "      <td>95.099998</td>\n",
       "      <td>98.190002</td>\n",
       "      <td>93.419998</td>\n",
       "      <td>96.790001</td>\n",
       "      <td>72334400</td>\n",
       "      <td>96.267629</td>\n",
       "    </tr>\n",
       "    <tr>\n",
       "      <th>2016-01-19</th>\n",
       "      <td>98.410004</td>\n",
       "      <td>98.650002</td>\n",
       "      <td>95.500000</td>\n",
       "      <td>96.660004</td>\n",
       "      <td>53087700</td>\n",
       "      <td>96.138333</td>\n",
       "    </tr>\n",
       "    <tr>\n",
       "      <th>2016-01-15</th>\n",
       "      <td>96.199997</td>\n",
       "      <td>97.709999</td>\n",
       "      <td>95.360001</td>\n",
       "      <td>97.129997</td>\n",
       "      <td>79833900</td>\n",
       "      <td>96.605790</td>\n",
       "    </tr>\n",
       "    <tr>\n",
       "      <th>2016-01-14</th>\n",
       "      <td>97.959999</td>\n",
       "      <td>100.480003</td>\n",
       "      <td>95.739998</td>\n",
       "      <td>99.519997</td>\n",
       "      <td>63170100</td>\n",
       "      <td>98.982891</td>\n",
       "    </tr>\n",
       "    <tr>\n",
       "      <th>2016-01-13</th>\n",
       "      <td>100.320000</td>\n",
       "      <td>101.190002</td>\n",
       "      <td>97.300003</td>\n",
       "      <td>97.389999</td>\n",
       "      <td>62439600</td>\n",
       "      <td>96.864389</td>\n",
       "    </tr>\n",
       "    <tr>\n",
       "      <th>2016-01-12</th>\n",
       "      <td>100.550003</td>\n",
       "      <td>100.690002</td>\n",
       "      <td>98.839996</td>\n",
       "      <td>99.959999</td>\n",
       "      <td>49154200</td>\n",
       "      <td>99.420519</td>\n",
       "    </tr>\n",
       "    <tr>\n",
       "      <th>2016-01-11</th>\n",
       "      <td>98.970001</td>\n",
       "      <td>99.059998</td>\n",
       "      <td>97.339996</td>\n",
       "      <td>98.529999</td>\n",
       "      <td>49739400</td>\n",
       "      <td>97.998236</td>\n",
       "    </tr>\n",
       "    <tr>\n",
       "      <th>2016-01-08</th>\n",
       "      <td>98.550003</td>\n",
       "      <td>99.110001</td>\n",
       "      <td>96.760002</td>\n",
       "      <td>96.959999</td>\n",
       "      <td>70798000</td>\n",
       "      <td>96.436710</td>\n",
       "    </tr>\n",
       "    <tr>\n",
       "      <th>2016-01-07</th>\n",
       "      <td>98.680000</td>\n",
       "      <td>100.129997</td>\n",
       "      <td>96.430000</td>\n",
       "      <td>96.449997</td>\n",
       "      <td>81094400</td>\n",
       "      <td>95.929460</td>\n",
       "    </tr>\n",
       "    <tr>\n",
       "      <th>2016-01-06</th>\n",
       "      <td>100.559998</td>\n",
       "      <td>102.370003</td>\n",
       "      <td>99.870003</td>\n",
       "      <td>100.699997</td>\n",
       "      <td>68457400</td>\n",
       "      <td>100.156523</td>\n",
       "    </tr>\n",
       "    <tr>\n",
       "      <th>2016-01-05</th>\n",
       "      <td>105.750000</td>\n",
       "      <td>105.849998</td>\n",
       "      <td>102.410004</td>\n",
       "      <td>102.709999</td>\n",
       "      <td>55791000</td>\n",
       "      <td>102.155677</td>\n",
       "    </tr>\n",
       "    <tr>\n",
       "      <th>2016-01-04</th>\n",
       "      <td>102.610001</td>\n",
       "      <td>105.370003</td>\n",
       "      <td>102.000000</td>\n",
       "      <td>105.349998</td>\n",
       "      <td>67649400</td>\n",
       "      <td>104.781429</td>\n",
       "    </tr>\n",
       "  </tbody>\n",
       "</table>\n",
       "</div>"
      ],
      "text/plain": [
       "                  Open        High         Low       Close     Volume  \\\n",
       "Date                                                                    \n",
       "2016-02-03   95.000000   96.839996   94.080002   96.349998   45964300   \n",
       "2016-02-02   95.419998   96.040001   94.279999   94.480003   37357200   \n",
       "2016-02-01   96.470001   96.709999   95.400002   96.430000   40943500   \n",
       "2016-01-29   94.790001   97.339996   94.349998   97.339996   64416500   \n",
       "2016-01-28   93.790001   94.519997   92.389999   94.089996   55678800   \n",
       "2016-01-27   96.040001   96.629997   93.339996   93.419998  133369700   \n",
       "2016-01-26   99.930000  100.879997   98.070000   99.989998   75077000   \n",
       "2016-01-25  101.519997  101.529999   99.209999   99.440002   51794500   \n",
       "2016-01-22   98.629997  101.459999   98.370003  101.419998   65800500   \n",
       "2016-01-21   97.059998   97.879997   94.940002   96.300003   52161500   \n",
       "2016-01-20   95.099998   98.190002   93.419998   96.790001   72334400   \n",
       "2016-01-19   98.410004   98.650002   95.500000   96.660004   53087700   \n",
       "2016-01-15   96.199997   97.709999   95.360001   97.129997   79833900   \n",
       "2016-01-14   97.959999  100.480003   95.739998   99.519997   63170100   \n",
       "2016-01-13  100.320000  101.190002   97.300003   97.389999   62439600   \n",
       "2016-01-12  100.550003  100.690002   98.839996   99.959999   49154200   \n",
       "2016-01-11   98.970001   99.059998   97.339996   98.529999   49739400   \n",
       "2016-01-08   98.550003   99.110001   96.760002   96.959999   70798000   \n",
       "2016-01-07   98.680000  100.129997   96.430000   96.449997   81094400   \n",
       "2016-01-06  100.559998  102.370003   99.870003  100.699997   68457400   \n",
       "2016-01-05  105.750000  105.849998  102.410004  102.709999   55791000   \n",
       "2016-01-04  102.610001  105.370003  102.000000  105.349998   67649400   \n",
       "\n",
       "             Adj Close  \n",
       "Date                    \n",
       "2016-02-03   95.830001  \n",
       "2016-02-02   93.970098  \n",
       "2016-02-01   95.909571  \n",
       "2016-01-29   96.814656  \n",
       "2016-01-28   93.582196  \n",
       "2016-01-27   92.915814  \n",
       "2016-01-26   99.450356  \n",
       "2016-01-25   98.903329  \n",
       "2016-01-22  100.872638  \n",
       "2016-01-21   95.780276  \n",
       "2016-01-20   96.267629  \n",
       "2016-01-19   96.138333  \n",
       "2016-01-15   96.605790  \n",
       "2016-01-14   98.982891  \n",
       "2016-01-13   96.864389  \n",
       "2016-01-12   99.420519  \n",
       "2016-01-11   97.998236  \n",
       "2016-01-08   96.436710  \n",
       "2016-01-07   95.929460  \n",
       "2016-01-06  100.156523  \n",
       "2016-01-05  102.155677  \n",
       "2016-01-04  104.781429  "
      ]
     },
     "execution_count": 13,
     "metadata": {},
     "output_type": "execute_result"
    }
   ],
   "source": [
    "ts_data['2016']"
   ]
  },
  {
   "cell_type": "code",
   "execution_count": 14,
   "metadata": {
    "collapsed": false
   },
   "outputs": [
    {
     "data": {
      "text/html": [
       "<div>\n",
       "<table border=\"1\" class=\"dataframe\">\n",
       "  <thead>\n",
       "    <tr style=\"text-align: right;\">\n",
       "      <th></th>\n",
       "      <th>Open</th>\n",
       "      <th>High</th>\n",
       "      <th>Low</th>\n",
       "      <th>Close</th>\n",
       "      <th>Volume</th>\n",
       "      <th>Adj Close</th>\n",
       "    </tr>\n",
       "    <tr>\n",
       "      <th>Date</th>\n",
       "      <th></th>\n",
       "      <th></th>\n",
       "      <th></th>\n",
       "      <th></th>\n",
       "      <th></th>\n",
       "      <th></th>\n",
       "    </tr>\n",
       "  </thead>\n",
       "  <tbody>\n",
       "    <tr>\n",
       "      <th>2016-02-03</th>\n",
       "      <td>95.000000</td>\n",
       "      <td>96.839996</td>\n",
       "      <td>94.080002</td>\n",
       "      <td>96.349998</td>\n",
       "      <td>45964300</td>\n",
       "      <td>95.830001</td>\n",
       "    </tr>\n",
       "    <tr>\n",
       "      <th>2016-02-02</th>\n",
       "      <td>95.419998</td>\n",
       "      <td>96.040001</td>\n",
       "      <td>94.279999</td>\n",
       "      <td>94.480003</td>\n",
       "      <td>37357200</td>\n",
       "      <td>93.970098</td>\n",
       "    </tr>\n",
       "    <tr>\n",
       "      <th>2016-02-01</th>\n",
       "      <td>96.470001</td>\n",
       "      <td>96.709999</td>\n",
       "      <td>95.400002</td>\n",
       "      <td>96.430000</td>\n",
       "      <td>40943500</td>\n",
       "      <td>95.909571</td>\n",
       "    </tr>\n",
       "  </tbody>\n",
       "</table>\n",
       "</div>"
      ],
      "text/plain": [
       "                 Open       High        Low      Close    Volume  Adj Close\n",
       "Date                                                                       \n",
       "2016-02-03  95.000000  96.839996  94.080002  96.349998  45964300  95.830001\n",
       "2016-02-02  95.419998  96.040001  94.279999  94.480003  37357200  93.970098\n",
       "2016-02-01  96.470001  96.709999  95.400002  96.430000  40943500  95.909571"
      ]
     },
     "execution_count": 14,
     "metadata": {},
     "output_type": "execute_result"
    }
   ],
   "source": [
    "ts_data['2016-2']"
   ]
  },
  {
   "cell_type": "code",
   "execution_count": 15,
   "metadata": {
    "collapsed": false
   },
   "outputs": [
    {
     "data": {
      "text/html": [
       "<div>\n",
       "<table border=\"1\" class=\"dataframe\">\n",
       "  <thead>\n",
       "    <tr style=\"text-align: right;\">\n",
       "      <th></th>\n",
       "      <th>Open</th>\n",
       "      <th>High</th>\n",
       "      <th>Low</th>\n",
       "      <th>Close</th>\n",
       "      <th>Volume</th>\n",
       "      <th>Adj Close</th>\n",
       "    </tr>\n",
       "    <tr>\n",
       "      <th>Date</th>\n",
       "      <th></th>\n",
       "      <th></th>\n",
       "      <th></th>\n",
       "      <th></th>\n",
       "      <th></th>\n",
       "      <th></th>\n",
       "    </tr>\n",
       "  </thead>\n",
       "  <tbody>\n",
       "    <tr>\n",
       "      <th>2016-02-03</th>\n",
       "      <td>95.000000</td>\n",
       "      <td>96.839996</td>\n",
       "      <td>94.080002</td>\n",
       "      <td>96.349998</td>\n",
       "      <td>45964300</td>\n",
       "      <td>95.830001</td>\n",
       "    </tr>\n",
       "    <tr>\n",
       "      <th>2016-02-02</th>\n",
       "      <td>95.419998</td>\n",
       "      <td>96.040001</td>\n",
       "      <td>94.279999</td>\n",
       "      <td>94.480003</td>\n",
       "      <td>37357200</td>\n",
       "      <td>93.970098</td>\n",
       "    </tr>\n",
       "    <tr>\n",
       "      <th>2016-02-01</th>\n",
       "      <td>96.470001</td>\n",
       "      <td>96.709999</td>\n",
       "      <td>95.400002</td>\n",
       "      <td>96.430000</td>\n",
       "      <td>40943500</td>\n",
       "      <td>95.909571</td>\n",
       "    </tr>\n",
       "  </tbody>\n",
       "</table>\n",
       "</div>"
      ],
      "text/plain": [
       "                 Open       High        Low      Close    Volume  Adj Close\n",
       "Date                                                                       \n",
       "2016-02-03  95.000000  96.839996  94.080002  96.349998  45964300  95.830001\n",
       "2016-02-02  95.419998  96.040001  94.279999  94.480003  37357200  93.970098\n",
       "2016-02-01  96.470001  96.709999  95.400002  96.430000  40943500  95.909571"
      ]
     },
     "execution_count": 15,
     "metadata": {},
     "output_type": "execute_result"
    }
   ],
   "source": [
    "ts_data.ix['2016-2']"
   ]
  },
  {
   "cell_type": "markdown",
   "metadata": {},
   "source": [
    "**Exercise:** Filter the above dataframe to only display values from October 2015 to December 2015. "
   ]
  },
  {
   "cell_type": "code",
   "execution_count": null,
   "metadata": {
    "collapsed": false,
    "scrolled": true
   },
   "outputs": [],
   "source": []
  },
  {
   "cell_type": "markdown",
   "metadata": {},
   "source": [
    "Given that the index is in the 'wrong' order, it makes it somewhat less intuitive to work with.\n",
    "\n",
    "We can reorder the index to make things easier."
   ]
  },
  {
   "cell_type": "code",
   "execution_count": 16,
   "metadata": {
    "collapsed": false
   },
   "outputs": [
    {
     "data": {
      "text/html": [
       "<div>\n",
       "<table border=\"1\" class=\"dataframe\">\n",
       "  <thead>\n",
       "    <tr style=\"text-align: right;\">\n",
       "      <th></th>\n",
       "      <th>Open</th>\n",
       "      <th>High</th>\n",
       "      <th>Low</th>\n",
       "      <th>Close</th>\n",
       "      <th>Volume</th>\n",
       "      <th>Adj Close</th>\n",
       "    </tr>\n",
       "    <tr>\n",
       "      <th>Date</th>\n",
       "      <th></th>\n",
       "      <th></th>\n",
       "      <th></th>\n",
       "      <th></th>\n",
       "      <th></th>\n",
       "      <th></th>\n",
       "    </tr>\n",
       "  </thead>\n",
       "  <tbody>\n",
       "    <tr>\n",
       "      <th>1980-12-12</th>\n",
       "      <td>28.750000</td>\n",
       "      <td>28.875000</td>\n",
       "      <td>28.750</td>\n",
       "      <td>28.750</td>\n",
       "      <td>117258400</td>\n",
       "      <td>0.433984</td>\n",
       "    </tr>\n",
       "    <tr>\n",
       "      <th>1980-12-15</th>\n",
       "      <td>27.375001</td>\n",
       "      <td>27.375001</td>\n",
       "      <td>27.250</td>\n",
       "      <td>27.250</td>\n",
       "      <td>43971200</td>\n",
       "      <td>0.411342</td>\n",
       "    </tr>\n",
       "    <tr>\n",
       "      <th>1980-12-16</th>\n",
       "      <td>25.375000</td>\n",
       "      <td>25.375000</td>\n",
       "      <td>25.250</td>\n",
       "      <td>25.250</td>\n",
       "      <td>26432000</td>\n",
       "      <td>0.381151</td>\n",
       "    </tr>\n",
       "    <tr>\n",
       "      <th>1980-12-17</th>\n",
       "      <td>25.875000</td>\n",
       "      <td>25.999999</td>\n",
       "      <td>25.875</td>\n",
       "      <td>25.875</td>\n",
       "      <td>21610400</td>\n",
       "      <td>0.390586</td>\n",
       "    </tr>\n",
       "    <tr>\n",
       "      <th>1980-12-18</th>\n",
       "      <td>26.625000</td>\n",
       "      <td>26.750000</td>\n",
       "      <td>26.625</td>\n",
       "      <td>26.625</td>\n",
       "      <td>18362400</td>\n",
       "      <td>0.401907</td>\n",
       "    </tr>\n",
       "  </tbody>\n",
       "</table>\n",
       "</div>"
      ],
      "text/plain": [
       "                 Open       High     Low   Close     Volume  Adj Close\n",
       "Date                                                                  \n",
       "1980-12-12  28.750000  28.875000  28.750  28.750  117258400   0.433984\n",
       "1980-12-15  27.375001  27.375001  27.250  27.250   43971200   0.411342\n",
       "1980-12-16  25.375000  25.375000  25.250  25.250   26432000   0.381151\n",
       "1980-12-17  25.875000  25.999999  25.875  25.875   21610400   0.390586\n",
       "1980-12-18  26.625000  26.750000  26.625  26.625   18362400   0.401907"
      ]
     },
     "execution_count": 16,
     "metadata": {},
     "output_type": "execute_result"
    }
   ],
   "source": [
    "ts_data.sort_index(ascending=True, inplace=True)\n",
    "ts_data.head()"
   ]
  },
  {
   "cell_type": "markdown",
   "metadata": {},
   "source": [
    "**Exercise:** Filter the above dataframe to only display values after January 15 2015.\n"
   ]
  },
  {
   "cell_type": "code",
   "execution_count": null,
   "metadata": {
    "collapsed": false,
    "scrolled": true
   },
   "outputs": [],
   "source": []
  },
  {
   "cell_type": "markdown",
   "metadata": {},
   "source": [
    "Filtering can also be done through a *truncate()*. Truncate is simply a convenience function that is equivalent to slicing. Below is an example of filtering data to just December 2015 and January 2016 observations:\n"
   ]
  },
  {
   "cell_type": "code",
   "execution_count": 17,
   "metadata": {
    "collapsed": false,
    "scrolled": true
   },
   "outputs": [
    {
     "data": {
      "text/html": [
       "<div>\n",
       "<table border=\"1\" class=\"dataframe\">\n",
       "  <thead>\n",
       "    <tr style=\"text-align: right;\">\n",
       "      <th></th>\n",
       "      <th>Open</th>\n",
       "      <th>High</th>\n",
       "      <th>Low</th>\n",
       "      <th>Close</th>\n",
       "      <th>Volume</th>\n",
       "      <th>Adj Close</th>\n",
       "    </tr>\n",
       "    <tr>\n",
       "      <th>Date</th>\n",
       "      <th></th>\n",
       "      <th></th>\n",
       "      <th></th>\n",
       "      <th></th>\n",
       "      <th></th>\n",
       "      <th></th>\n",
       "    </tr>\n",
       "  </thead>\n",
       "  <tbody>\n",
       "    <tr>\n",
       "      <th>2015-12-01</th>\n",
       "      <td>118.750000</td>\n",
       "      <td>118.809998</td>\n",
       "      <td>116.860001</td>\n",
       "      <td>117.339996</td>\n",
       "      <td>34852400</td>\n",
       "      <td>116.706717</td>\n",
       "    </tr>\n",
       "    <tr>\n",
       "      <th>2015-12-02</th>\n",
       "      <td>117.339996</td>\n",
       "      <td>118.110001</td>\n",
       "      <td>116.080002</td>\n",
       "      <td>116.279999</td>\n",
       "      <td>33386600</td>\n",
       "      <td>115.652440</td>\n",
       "    </tr>\n",
       "    <tr>\n",
       "      <th>2015-12-03</th>\n",
       "      <td>116.550003</td>\n",
       "      <td>116.790001</td>\n",
       "      <td>114.220001</td>\n",
       "      <td>115.199997</td>\n",
       "      <td>41569500</td>\n",
       "      <td>114.578267</td>\n",
       "    </tr>\n",
       "    <tr>\n",
       "      <th>2015-12-04</th>\n",
       "      <td>115.290001</td>\n",
       "      <td>119.250000</td>\n",
       "      <td>115.110001</td>\n",
       "      <td>119.029999</td>\n",
       "      <td>57777000</td>\n",
       "      <td>118.387598</td>\n",
       "    </tr>\n",
       "    <tr>\n",
       "      <th>2015-12-07</th>\n",
       "      <td>118.980003</td>\n",
       "      <td>119.860001</td>\n",
       "      <td>117.809998</td>\n",
       "      <td>118.279999</td>\n",
       "      <td>32084200</td>\n",
       "      <td>117.641646</td>\n",
       "    </tr>\n",
       "    <tr>\n",
       "      <th>2015-12-08</th>\n",
       "      <td>117.519997</td>\n",
       "      <td>118.599998</td>\n",
       "      <td>116.860001</td>\n",
       "      <td>118.230003</td>\n",
       "      <td>34309500</td>\n",
       "      <td>117.591921</td>\n",
       "    </tr>\n",
       "    <tr>\n",
       "      <th>2015-12-09</th>\n",
       "      <td>117.639999</td>\n",
       "      <td>117.690002</td>\n",
       "      <td>115.080002</td>\n",
       "      <td>115.620003</td>\n",
       "      <td>46361400</td>\n",
       "      <td>114.996006</td>\n",
       "    </tr>\n",
       "    <tr>\n",
       "      <th>2015-12-10</th>\n",
       "      <td>116.040001</td>\n",
       "      <td>116.940002</td>\n",
       "      <td>115.510002</td>\n",
       "      <td>116.169998</td>\n",
       "      <td>29212700</td>\n",
       "      <td>115.543033</td>\n",
       "    </tr>\n",
       "    <tr>\n",
       "      <th>2015-12-11</th>\n",
       "      <td>115.190002</td>\n",
       "      <td>115.389999</td>\n",
       "      <td>112.849998</td>\n",
       "      <td>113.180000</td>\n",
       "      <td>46886200</td>\n",
       "      <td>112.569172</td>\n",
       "    </tr>\n",
       "    <tr>\n",
       "      <th>2015-12-14</th>\n",
       "      <td>112.180000</td>\n",
       "      <td>112.680000</td>\n",
       "      <td>109.790001</td>\n",
       "      <td>112.480003</td>\n",
       "      <td>64318700</td>\n",
       "      <td>111.872953</td>\n",
       "    </tr>\n",
       "    <tr>\n",
       "      <th>2015-12-15</th>\n",
       "      <td>111.940002</td>\n",
       "      <td>112.800003</td>\n",
       "      <td>110.349998</td>\n",
       "      <td>110.489998</td>\n",
       "      <td>52978100</td>\n",
       "      <td>109.893688</td>\n",
       "    </tr>\n",
       "    <tr>\n",
       "      <th>2015-12-16</th>\n",
       "      <td>111.070000</td>\n",
       "      <td>111.989998</td>\n",
       "      <td>108.800003</td>\n",
       "      <td>111.339996</td>\n",
       "      <td>56238500</td>\n",
       "      <td>110.739099</td>\n",
       "    </tr>\n",
       "    <tr>\n",
       "      <th>2015-12-17</th>\n",
       "      <td>112.019997</td>\n",
       "      <td>112.250000</td>\n",
       "      <td>108.980003</td>\n",
       "      <td>108.980003</td>\n",
       "      <td>44772800</td>\n",
       "      <td>108.391842</td>\n",
       "    </tr>\n",
       "    <tr>\n",
       "      <th>2015-12-18</th>\n",
       "      <td>108.910004</td>\n",
       "      <td>109.519997</td>\n",
       "      <td>105.809998</td>\n",
       "      <td>106.029999</td>\n",
       "      <td>96453300</td>\n",
       "      <td>105.457759</td>\n",
       "    </tr>\n",
       "    <tr>\n",
       "      <th>2015-12-21</th>\n",
       "      <td>107.279999</td>\n",
       "      <td>107.370003</td>\n",
       "      <td>105.570000</td>\n",
       "      <td>107.330002</td>\n",
       "      <td>47590600</td>\n",
       "      <td>106.750746</td>\n",
       "    </tr>\n",
       "    <tr>\n",
       "      <th>2015-12-22</th>\n",
       "      <td>107.400002</td>\n",
       "      <td>107.720001</td>\n",
       "      <td>106.449997</td>\n",
       "      <td>107.230003</td>\n",
       "      <td>32789400</td>\n",
       "      <td>106.651287</td>\n",
       "    </tr>\n",
       "    <tr>\n",
       "      <th>2015-12-23</th>\n",
       "      <td>107.269997</td>\n",
       "      <td>108.849998</td>\n",
       "      <td>107.199997</td>\n",
       "      <td>108.610001</td>\n",
       "      <td>32657400</td>\n",
       "      <td>108.023837</td>\n",
       "    </tr>\n",
       "    <tr>\n",
       "      <th>2015-12-24</th>\n",
       "      <td>109.000000</td>\n",
       "      <td>109.000000</td>\n",
       "      <td>107.949997</td>\n",
       "      <td>108.029999</td>\n",
       "      <td>13596700</td>\n",
       "      <td>107.446965</td>\n",
       "    </tr>\n",
       "    <tr>\n",
       "      <th>2015-12-28</th>\n",
       "      <td>107.589996</td>\n",
       "      <td>107.690002</td>\n",
       "      <td>106.180000</td>\n",
       "      <td>106.820000</td>\n",
       "      <td>26704200</td>\n",
       "      <td>106.243496</td>\n",
       "    </tr>\n",
       "    <tr>\n",
       "      <th>2015-12-29</th>\n",
       "      <td>106.959999</td>\n",
       "      <td>109.430000</td>\n",
       "      <td>106.860001</td>\n",
       "      <td>108.739998</td>\n",
       "      <td>30931200</td>\n",
       "      <td>108.153132</td>\n",
       "    </tr>\n",
       "    <tr>\n",
       "      <th>2015-12-30</th>\n",
       "      <td>108.580002</td>\n",
       "      <td>108.699997</td>\n",
       "      <td>107.180000</td>\n",
       "      <td>107.320000</td>\n",
       "      <td>25213800</td>\n",
       "      <td>106.740798</td>\n",
       "    </tr>\n",
       "    <tr>\n",
       "      <th>2015-12-31</th>\n",
       "      <td>107.010002</td>\n",
       "      <td>107.029999</td>\n",
       "      <td>104.820000</td>\n",
       "      <td>105.260002</td>\n",
       "      <td>40912300</td>\n",
       "      <td>104.691918</td>\n",
       "    </tr>\n",
       "    <tr>\n",
       "      <th>2016-01-04</th>\n",
       "      <td>102.610001</td>\n",
       "      <td>105.370003</td>\n",
       "      <td>102.000000</td>\n",
       "      <td>105.349998</td>\n",
       "      <td>67649400</td>\n",
       "      <td>104.781429</td>\n",
       "    </tr>\n",
       "    <tr>\n",
       "      <th>2016-01-05</th>\n",
       "      <td>105.750000</td>\n",
       "      <td>105.849998</td>\n",
       "      <td>102.410004</td>\n",
       "      <td>102.709999</td>\n",
       "      <td>55791000</td>\n",
       "      <td>102.155677</td>\n",
       "    </tr>\n",
       "    <tr>\n",
       "      <th>2016-01-06</th>\n",
       "      <td>100.559998</td>\n",
       "      <td>102.370003</td>\n",
       "      <td>99.870003</td>\n",
       "      <td>100.699997</td>\n",
       "      <td>68457400</td>\n",
       "      <td>100.156523</td>\n",
       "    </tr>\n",
       "    <tr>\n",
       "      <th>2016-01-07</th>\n",
       "      <td>98.680000</td>\n",
       "      <td>100.129997</td>\n",
       "      <td>96.430000</td>\n",
       "      <td>96.449997</td>\n",
       "      <td>81094400</td>\n",
       "      <td>95.929460</td>\n",
       "    </tr>\n",
       "    <tr>\n",
       "      <th>2016-01-08</th>\n",
       "      <td>98.550003</td>\n",
       "      <td>99.110001</td>\n",
       "      <td>96.760002</td>\n",
       "      <td>96.959999</td>\n",
       "      <td>70798000</td>\n",
       "      <td>96.436710</td>\n",
       "    </tr>\n",
       "    <tr>\n",
       "      <th>2016-01-11</th>\n",
       "      <td>98.970001</td>\n",
       "      <td>99.059998</td>\n",
       "      <td>97.339996</td>\n",
       "      <td>98.529999</td>\n",
       "      <td>49739400</td>\n",
       "      <td>97.998236</td>\n",
       "    </tr>\n",
       "    <tr>\n",
       "      <th>2016-01-12</th>\n",
       "      <td>100.550003</td>\n",
       "      <td>100.690002</td>\n",
       "      <td>98.839996</td>\n",
       "      <td>99.959999</td>\n",
       "      <td>49154200</td>\n",
       "      <td>99.420519</td>\n",
       "    </tr>\n",
       "    <tr>\n",
       "      <th>2016-01-13</th>\n",
       "      <td>100.320000</td>\n",
       "      <td>101.190002</td>\n",
       "      <td>97.300003</td>\n",
       "      <td>97.389999</td>\n",
       "      <td>62439600</td>\n",
       "      <td>96.864389</td>\n",
       "    </tr>\n",
       "    <tr>\n",
       "      <th>2016-01-14</th>\n",
       "      <td>97.959999</td>\n",
       "      <td>100.480003</td>\n",
       "      <td>95.739998</td>\n",
       "      <td>99.519997</td>\n",
       "      <td>63170100</td>\n",
       "      <td>98.982891</td>\n",
       "    </tr>\n",
       "    <tr>\n",
       "      <th>2016-01-15</th>\n",
       "      <td>96.199997</td>\n",
       "      <td>97.709999</td>\n",
       "      <td>95.360001</td>\n",
       "      <td>97.129997</td>\n",
       "      <td>79833900</td>\n",
       "      <td>96.605790</td>\n",
       "    </tr>\n",
       "    <tr>\n",
       "      <th>2016-01-19</th>\n",
       "      <td>98.410004</td>\n",
       "      <td>98.650002</td>\n",
       "      <td>95.500000</td>\n",
       "      <td>96.660004</td>\n",
       "      <td>53087700</td>\n",
       "      <td>96.138333</td>\n",
       "    </tr>\n",
       "    <tr>\n",
       "      <th>2016-01-20</th>\n",
       "      <td>95.099998</td>\n",
       "      <td>98.190002</td>\n",
       "      <td>93.419998</td>\n",
       "      <td>96.790001</td>\n",
       "      <td>72334400</td>\n",
       "      <td>96.267629</td>\n",
       "    </tr>\n",
       "    <tr>\n",
       "      <th>2016-01-21</th>\n",
       "      <td>97.059998</td>\n",
       "      <td>97.879997</td>\n",
       "      <td>94.940002</td>\n",
       "      <td>96.300003</td>\n",
       "      <td>52161500</td>\n",
       "      <td>95.780276</td>\n",
       "    </tr>\n",
       "    <tr>\n",
       "      <th>2016-01-22</th>\n",
       "      <td>98.629997</td>\n",
       "      <td>101.459999</td>\n",
       "      <td>98.370003</td>\n",
       "      <td>101.419998</td>\n",
       "      <td>65800500</td>\n",
       "      <td>100.872638</td>\n",
       "    </tr>\n",
       "    <tr>\n",
       "      <th>2016-01-25</th>\n",
       "      <td>101.519997</td>\n",
       "      <td>101.529999</td>\n",
       "      <td>99.209999</td>\n",
       "      <td>99.440002</td>\n",
       "      <td>51794500</td>\n",
       "      <td>98.903329</td>\n",
       "    </tr>\n",
       "    <tr>\n",
       "      <th>2016-01-26</th>\n",
       "      <td>99.930000</td>\n",
       "      <td>100.879997</td>\n",
       "      <td>98.070000</td>\n",
       "      <td>99.989998</td>\n",
       "      <td>75077000</td>\n",
       "      <td>99.450356</td>\n",
       "    </tr>\n",
       "    <tr>\n",
       "      <th>2016-01-27</th>\n",
       "      <td>96.040001</td>\n",
       "      <td>96.629997</td>\n",
       "      <td>93.339996</td>\n",
       "      <td>93.419998</td>\n",
       "      <td>133369700</td>\n",
       "      <td>92.915814</td>\n",
       "    </tr>\n",
       "    <tr>\n",
       "      <th>2016-01-28</th>\n",
       "      <td>93.790001</td>\n",
       "      <td>94.519997</td>\n",
       "      <td>92.389999</td>\n",
       "      <td>94.089996</td>\n",
       "      <td>55678800</td>\n",
       "      <td>93.582196</td>\n",
       "    </tr>\n",
       "    <tr>\n",
       "      <th>2016-01-29</th>\n",
       "      <td>94.790001</td>\n",
       "      <td>97.339996</td>\n",
       "      <td>94.349998</td>\n",
       "      <td>97.339996</td>\n",
       "      <td>64416500</td>\n",
       "      <td>96.814656</td>\n",
       "    </tr>\n",
       "  </tbody>\n",
       "</table>\n",
       "</div>"
      ],
      "text/plain": [
       "                  Open        High         Low       Close     Volume  \\\n",
       "Date                                                                    \n",
       "2015-12-01  118.750000  118.809998  116.860001  117.339996   34852400   \n",
       "2015-12-02  117.339996  118.110001  116.080002  116.279999   33386600   \n",
       "2015-12-03  116.550003  116.790001  114.220001  115.199997   41569500   \n",
       "2015-12-04  115.290001  119.250000  115.110001  119.029999   57777000   \n",
       "2015-12-07  118.980003  119.860001  117.809998  118.279999   32084200   \n",
       "2015-12-08  117.519997  118.599998  116.860001  118.230003   34309500   \n",
       "2015-12-09  117.639999  117.690002  115.080002  115.620003   46361400   \n",
       "2015-12-10  116.040001  116.940002  115.510002  116.169998   29212700   \n",
       "2015-12-11  115.190002  115.389999  112.849998  113.180000   46886200   \n",
       "2015-12-14  112.180000  112.680000  109.790001  112.480003   64318700   \n",
       "2015-12-15  111.940002  112.800003  110.349998  110.489998   52978100   \n",
       "2015-12-16  111.070000  111.989998  108.800003  111.339996   56238500   \n",
       "2015-12-17  112.019997  112.250000  108.980003  108.980003   44772800   \n",
       "2015-12-18  108.910004  109.519997  105.809998  106.029999   96453300   \n",
       "2015-12-21  107.279999  107.370003  105.570000  107.330002   47590600   \n",
       "2015-12-22  107.400002  107.720001  106.449997  107.230003   32789400   \n",
       "2015-12-23  107.269997  108.849998  107.199997  108.610001   32657400   \n",
       "2015-12-24  109.000000  109.000000  107.949997  108.029999   13596700   \n",
       "2015-12-28  107.589996  107.690002  106.180000  106.820000   26704200   \n",
       "2015-12-29  106.959999  109.430000  106.860001  108.739998   30931200   \n",
       "2015-12-30  108.580002  108.699997  107.180000  107.320000   25213800   \n",
       "2015-12-31  107.010002  107.029999  104.820000  105.260002   40912300   \n",
       "2016-01-04  102.610001  105.370003  102.000000  105.349998   67649400   \n",
       "2016-01-05  105.750000  105.849998  102.410004  102.709999   55791000   \n",
       "2016-01-06  100.559998  102.370003   99.870003  100.699997   68457400   \n",
       "2016-01-07   98.680000  100.129997   96.430000   96.449997   81094400   \n",
       "2016-01-08   98.550003   99.110001   96.760002   96.959999   70798000   \n",
       "2016-01-11   98.970001   99.059998   97.339996   98.529999   49739400   \n",
       "2016-01-12  100.550003  100.690002   98.839996   99.959999   49154200   \n",
       "2016-01-13  100.320000  101.190002   97.300003   97.389999   62439600   \n",
       "2016-01-14   97.959999  100.480003   95.739998   99.519997   63170100   \n",
       "2016-01-15   96.199997   97.709999   95.360001   97.129997   79833900   \n",
       "2016-01-19   98.410004   98.650002   95.500000   96.660004   53087700   \n",
       "2016-01-20   95.099998   98.190002   93.419998   96.790001   72334400   \n",
       "2016-01-21   97.059998   97.879997   94.940002   96.300003   52161500   \n",
       "2016-01-22   98.629997  101.459999   98.370003  101.419998   65800500   \n",
       "2016-01-25  101.519997  101.529999   99.209999   99.440002   51794500   \n",
       "2016-01-26   99.930000  100.879997   98.070000   99.989998   75077000   \n",
       "2016-01-27   96.040001   96.629997   93.339996   93.419998  133369700   \n",
       "2016-01-28   93.790001   94.519997   92.389999   94.089996   55678800   \n",
       "2016-01-29   94.790001   97.339996   94.349998   97.339996   64416500   \n",
       "\n",
       "             Adj Close  \n",
       "Date                    \n",
       "2015-12-01  116.706717  \n",
       "2015-12-02  115.652440  \n",
       "2015-12-03  114.578267  \n",
       "2015-12-04  118.387598  \n",
       "2015-12-07  117.641646  \n",
       "2015-12-08  117.591921  \n",
       "2015-12-09  114.996006  \n",
       "2015-12-10  115.543033  \n",
       "2015-12-11  112.569172  \n",
       "2015-12-14  111.872953  \n",
       "2015-12-15  109.893688  \n",
       "2015-12-16  110.739099  \n",
       "2015-12-17  108.391842  \n",
       "2015-12-18  105.457759  \n",
       "2015-12-21  106.750746  \n",
       "2015-12-22  106.651287  \n",
       "2015-12-23  108.023837  \n",
       "2015-12-24  107.446965  \n",
       "2015-12-28  106.243496  \n",
       "2015-12-29  108.153132  \n",
       "2015-12-30  106.740798  \n",
       "2015-12-31  104.691918  \n",
       "2016-01-04  104.781429  \n",
       "2016-01-05  102.155677  \n",
       "2016-01-06  100.156523  \n",
       "2016-01-07   95.929460  \n",
       "2016-01-08   96.436710  \n",
       "2016-01-11   97.998236  \n",
       "2016-01-12   99.420519  \n",
       "2016-01-13   96.864389  \n",
       "2016-01-14   98.982891  \n",
       "2016-01-15   96.605790  \n",
       "2016-01-19   96.138333  \n",
       "2016-01-20   96.267629  \n",
       "2016-01-21   95.780276  \n",
       "2016-01-22  100.872638  \n",
       "2016-01-25   98.903329  \n",
       "2016-01-26   99.450356  \n",
       "2016-01-27   92.915814  \n",
       "2016-01-28   93.582196  \n",
       "2016-01-29   96.814656  "
      ]
     },
     "execution_count": 17,
     "metadata": {},
     "output_type": "execute_result"
    }
   ],
   "source": [
    "ts_data.truncate(before='2015-12-1', after='2016-1-31')"
   ]
  },
  {
   "cell_type": "markdown",
   "metadata": {},
   "source": [
    "**Exercise:** Use the truncate function to filter the above dataframe to only display values after November 2015."
   ]
  },
  {
   "cell_type": "code",
   "execution_count": null,
   "metadata": {
    "collapsed": true
   },
   "outputs": [],
   "source": []
  },
  {
   "cell_type": "markdown",
   "metadata": {},
   "source": [
    "# Resampling"
   ]
  },
  {
   "cell_type": "markdown",
   "metadata": {},
   "source": [
    "Resampling transforms time series data into a different frequency (e.g., converting hourly data into daily data). Pandas provide and easy way to perform these frequency conversion operations which are extremely common in  financial applications, but not limited to them only.\n",
    "\n",
    "Resampling requires that 1) the resampling time period is specified, 2) the method to apply to the resampled data (default is mean). For those familiar with SQL, resampling is essentially a time-based **groupby** operation, followed by a reduction method on each of its groups. \n",
    "\n",
    "Reduction can be: 'mean','median','sum','min','max','first','last','ohlc' or other available numpy/user defined transformation.\n",
    "\n",
    "A variety of built-in reduction time frequencies are available:"
   ]
  },
  {
   "cell_type": "raw",
   "metadata": {},
   "source": [
    "Alias  Frequency\n",
    "    B: business day frequency\n",
    "    D: calendar day frequency\n",
    "    W: weekly frequency\n",
    "    M: month end frequency\n",
    "    BM: business month end frequency\n",
    "    MS: month start frequency\n",
    "    BMS: business month start frequency\n",
    "    Q: quarter end frequency\n",
    "    BQ: business quarter endfrequency\n",
    "    QS: quarter start frequency\n",
    "    BQS: business quarter start frequency\n",
    "    A: year end frequency\n",
    "    BA: business year end frequency\n",
    "    AS: year start frequency\n",
    "    BAS: business year start frequency\n",
    "    H: hourly frequency\n",
    "    T: minutely frequency\n",
    "    S: secondly frequency\n",
    "    L: milliseonds\n",
    "    U: microseconds"
   ]
  },
  {
   "cell_type": "code",
   "execution_count": 18,
   "metadata": {
    "collapsed": false,
    "scrolled": false
   },
   "outputs": [
    {
     "name": "stderr",
     "output_type": "stream",
     "text": [
      "D:\\Program Files\\Anaconda\\lib\\site-packages\\ipykernel\\__main__.py:1: FutureWarning: how in .resample() is deprecated\n",
      "the new syntax is .resample(...).mean()\n",
      "  if __name__ == '__main__':\n"
     ]
    },
    {
     "data": {
      "text/html": [
       "<div>\n",
       "<table border=\"1\" class=\"dataframe\">\n",
       "  <thead>\n",
       "    <tr style=\"text-align: right;\">\n",
       "      <th></th>\n",
       "      <th>Open</th>\n",
       "      <th>High</th>\n",
       "      <th>Low</th>\n",
       "      <th>Close</th>\n",
       "      <th>Volume</th>\n",
       "      <th>Adj Close</th>\n",
       "    </tr>\n",
       "    <tr>\n",
       "      <th>Date</th>\n",
       "      <th></th>\n",
       "      <th></th>\n",
       "      <th></th>\n",
       "      <th></th>\n",
       "      <th></th>\n",
       "      <th></th>\n",
       "    </tr>\n",
       "  </thead>\n",
       "  <tbody>\n",
       "    <tr>\n",
       "      <th>2015-01-31</th>\n",
       "      <td>111.164000</td>\n",
       "      <td>112.254000</td>\n",
       "      <td>109.332000</td>\n",
       "      <td>110.641501</td>\n",
       "      <td>65232190</td>\n",
       "      <td>108.200805</td>\n",
       "    </tr>\n",
       "    <tr>\n",
       "      <th>2015-02-28</th>\n",
       "      <td>125.023683</td>\n",
       "      <td>126.144738</td>\n",
       "      <td>124.031053</td>\n",
       "      <td>125.432105</td>\n",
       "      <td>59817642</td>\n",
       "      <td>123.076764</td>\n",
       "    </tr>\n",
       "    <tr>\n",
       "      <th>2015-03-31</th>\n",
       "      <td>126.466365</td>\n",
       "      <td>127.436363</td>\n",
       "      <td>124.985910</td>\n",
       "      <td>125.970908</td>\n",
       "      <td>51756459</td>\n",
       "      <td>123.678248</td>\n",
       "    </tr>\n",
       "    <tr>\n",
       "      <th>2015-04-30</th>\n",
       "      <td>127.535239</td>\n",
       "      <td>128.422380</td>\n",
       "      <td>126.224763</td>\n",
       "      <td>127.291428</td>\n",
       "      <td>47435023</td>\n",
       "      <td>124.974734</td>\n",
       "    </tr>\n",
       "    <tr>\n",
       "      <th>2015-05-31</th>\n",
       "      <td>128.707501</td>\n",
       "      <td>129.771001</td>\n",
       "      <td>127.663000</td>\n",
       "      <td>128.761500</td>\n",
       "      <td>47707605</td>\n",
       "      <td>126.841840</td>\n",
       "    </tr>\n",
       "    <tr>\n",
       "      <th>2015-06-30</th>\n",
       "      <td>128.013636</td>\n",
       "      <td>128.761364</td>\n",
       "      <td>127.240910</td>\n",
       "      <td>127.806817</td>\n",
       "      <td>39932390</td>\n",
       "      <td>126.004877</td>\n",
       "    </tr>\n",
       "    <tr>\n",
       "      <th>2015-07-31</th>\n",
       "      <td>125.450455</td>\n",
       "      <td>126.203637</td>\n",
       "      <td>124.340000</td>\n",
       "      <td>125.335455</td>\n",
       "      <td>48068509</td>\n",
       "      <td>123.568357</td>\n",
       "    </tr>\n",
       "    <tr>\n",
       "      <th>2015-08-31</th>\n",
       "      <td>113.439524</td>\n",
       "      <td>115.500000</td>\n",
       "      <td>111.290952</td>\n",
       "      <td>113.394762</td>\n",
       "      <td>76475157</td>\n",
       "      <td>112.228004</td>\n",
       "    </tr>\n",
       "    <tr>\n",
       "      <th>2015-09-30</th>\n",
       "      <td>113.012381</td>\n",
       "      <td>114.207142</td>\n",
       "      <td>111.523810</td>\n",
       "      <td>112.797619</td>\n",
       "      <td>57454633</td>\n",
       "      <td>111.710669</td>\n",
       "    </tr>\n",
       "    <tr>\n",
       "      <th>2015-10-31</th>\n",
       "      <td>112.924545</td>\n",
       "      <td>114.132273</td>\n",
       "      <td>111.875454</td>\n",
       "      <td>113.360000</td>\n",
       "      <td>50553454</td>\n",
       "      <td>112.267631</td>\n",
       "    </tr>\n",
       "    <tr>\n",
       "      <th>2015-11-30</th>\n",
       "      <td>118.218000</td>\n",
       "      <td>119.272000</td>\n",
       "      <td>117.256500</td>\n",
       "      <td>118.162500</td>\n",
       "      <td>37532030</td>\n",
       "      <td>117.447254</td>\n",
       "    </tr>\n",
       "    <tr>\n",
       "      <th>2015-12-31</th>\n",
       "      <td>112.295909</td>\n",
       "      <td>113.021364</td>\n",
       "      <td>110.741818</td>\n",
       "      <td>111.726818</td>\n",
       "      <td>41890750</td>\n",
       "      <td>111.123833</td>\n",
       "    </tr>\n",
       "  </tbody>\n",
       "</table>\n",
       "</div>"
      ],
      "text/plain": [
       "                  Open        High         Low       Close    Volume  \\\n",
       "Date                                                                   \n",
       "2015-01-31  111.164000  112.254000  109.332000  110.641501  65232190   \n",
       "2015-02-28  125.023683  126.144738  124.031053  125.432105  59817642   \n",
       "2015-03-31  126.466365  127.436363  124.985910  125.970908  51756459   \n",
       "2015-04-30  127.535239  128.422380  126.224763  127.291428  47435023   \n",
       "2015-05-31  128.707501  129.771001  127.663000  128.761500  47707605   \n",
       "2015-06-30  128.013636  128.761364  127.240910  127.806817  39932390   \n",
       "2015-07-31  125.450455  126.203637  124.340000  125.335455  48068509   \n",
       "2015-08-31  113.439524  115.500000  111.290952  113.394762  76475157   \n",
       "2015-09-30  113.012381  114.207142  111.523810  112.797619  57454633   \n",
       "2015-10-31  112.924545  114.132273  111.875454  113.360000  50553454   \n",
       "2015-11-30  118.218000  119.272000  117.256500  118.162500  37532030   \n",
       "2015-12-31  112.295909  113.021364  110.741818  111.726818  41890750   \n",
       "\n",
       "             Adj Close  \n",
       "Date                    \n",
       "2015-01-31  108.200805  \n",
       "2015-02-28  123.076764  \n",
       "2015-03-31  123.678248  \n",
       "2015-04-30  124.974734  \n",
       "2015-05-31  126.841840  \n",
       "2015-06-30  126.004877  \n",
       "2015-07-31  123.568357  \n",
       "2015-08-31  112.228004  \n",
       "2015-09-30  111.710669  \n",
       "2015-10-31  112.267631  \n",
       "2015-11-30  117.447254  \n",
       "2015-12-31  111.123833  "
      ]
     },
     "execution_count": 18,
     "metadata": {},
     "output_type": "execute_result"
    }
   ],
   "source": [
    "ts_data['2015'].resample('M', how='mean')"
   ]
  },
  {
   "cell_type": "markdown",
   "metadata": {},
   "source": [
    "**Exercise:** Resample the date above dataframe based on the quarter end frequency on data between 1990 and 2010 using the median as the reduction method. "
   ]
  },
  {
   "cell_type": "code",
   "execution_count": null,
   "metadata": {
    "collapsed": false,
    "scrolled": true
   },
   "outputs": [],
   "source": []
  },
  {
   "cell_type": "markdown",
   "metadata": {},
   "source": [
    "**Exercise:** Describe what the output of the below means? "
   ]
  },
  {
   "cell_type": "code",
   "execution_count": null,
   "metadata": {
    "collapsed": false,
    "scrolled": true
   },
   "outputs": [],
   "source": []
  },
  {
   "cell_type": "markdown",
   "metadata": {},
   "source": [
    "Visualising the data is as simple as calling *plot()* on the required column:"
   ]
  },
  {
   "cell_type": "code",
   "execution_count": 19,
   "metadata": {
    "collapsed": false
   },
   "outputs": [
    {
     "data": {
      "text/html": [
       "<div>\n",
       "<table border=\"1\" class=\"dataframe\">\n",
       "  <thead>\n",
       "    <tr style=\"text-align: right;\">\n",
       "      <th></th>\n",
       "      <th>Open</th>\n",
       "      <th>High</th>\n",
       "      <th>Low</th>\n",
       "      <th>Close</th>\n",
       "      <th>Volume</th>\n",
       "      <th>Adj Close</th>\n",
       "    </tr>\n",
       "    <tr>\n",
       "      <th>Date</th>\n",
       "      <th></th>\n",
       "      <th></th>\n",
       "      <th></th>\n",
       "      <th></th>\n",
       "      <th></th>\n",
       "      <th></th>\n",
       "    </tr>\n",
       "  </thead>\n",
       "  <tbody>\n",
       "    <tr>\n",
       "      <th>1980-12-12</th>\n",
       "      <td>28.750000</td>\n",
       "      <td>28.875000</td>\n",
       "      <td>28.750</td>\n",
       "      <td>28.750</td>\n",
       "      <td>117258400</td>\n",
       "      <td>0.433984</td>\n",
       "    </tr>\n",
       "    <tr>\n",
       "      <th>1980-12-15</th>\n",
       "      <td>27.375001</td>\n",
       "      <td>27.375001</td>\n",
       "      <td>27.250</td>\n",
       "      <td>27.250</td>\n",
       "      <td>43971200</td>\n",
       "      <td>0.411342</td>\n",
       "    </tr>\n",
       "    <tr>\n",
       "      <th>1980-12-16</th>\n",
       "      <td>25.375000</td>\n",
       "      <td>25.375000</td>\n",
       "      <td>25.250</td>\n",
       "      <td>25.250</td>\n",
       "      <td>26432000</td>\n",
       "      <td>0.381151</td>\n",
       "    </tr>\n",
       "    <tr>\n",
       "      <th>1980-12-17</th>\n",
       "      <td>25.875000</td>\n",
       "      <td>25.999999</td>\n",
       "      <td>25.875</td>\n",
       "      <td>25.875</td>\n",
       "      <td>21610400</td>\n",
       "      <td>0.390586</td>\n",
       "    </tr>\n",
       "    <tr>\n",
       "      <th>1980-12-18</th>\n",
       "      <td>26.625000</td>\n",
       "      <td>26.750000</td>\n",
       "      <td>26.625</td>\n",
       "      <td>26.625</td>\n",
       "      <td>18362400</td>\n",
       "      <td>0.401907</td>\n",
       "    </tr>\n",
       "  </tbody>\n",
       "</table>\n",
       "</div>"
      ],
      "text/plain": [
       "                 Open       High     Low   Close     Volume  Adj Close\n",
       "Date                                                                  \n",
       "1980-12-12  28.750000  28.875000  28.750  28.750  117258400   0.433984\n",
       "1980-12-15  27.375001  27.375001  27.250  27.250   43971200   0.411342\n",
       "1980-12-16  25.375000  25.375000  25.250  25.250   26432000   0.381151\n",
       "1980-12-17  25.875000  25.999999  25.875  25.875   21610400   0.390586\n",
       "1980-12-18  26.625000  26.750000  26.625  26.625   18362400   0.401907"
      ]
     },
     "execution_count": 19,
     "metadata": {},
     "output_type": "execute_result"
    }
   ],
   "source": [
    "ts_data.head()"
   ]
  },
  {
   "cell_type": "code",
   "execution_count": null,
   "metadata": {
    "collapsed": false,
    "scrolled": true
   },
   "outputs": [],
   "source": [
    "#ts_data[['Volume']].resample('M', how='sum').plot()\n",
    "plt.plot( ts_data[['Volume']].resample('M', how='sum'))"
   ]
  },
  {
   "cell_type": "markdown",
   "metadata": {},
   "source": [
    "We can increase the size of the plot and render several plots at the same time:"
   ]
  },
  {
   "cell_type": "code",
   "execution_count": null,
   "metadata": {
    "collapsed": false
   },
   "outputs": [],
   "source": [
    "rcParams['figure.figsize'] = 15, 10\n",
    "ts_data.plot(subplots=True)"
   ]
  },
  {
   "cell_type": "markdown",
   "metadata": {},
   "source": [
    "**Exercise:** The period leading to the recent global financial crisis and the immediate aftermath are interesting to look at into more detail from the perspective of the adjusted closing price and the total volume of shares traded for Apple. Render separately two plots for these columns for data from 2007 to 2010."
   ]
  },
  {
   "cell_type": "code",
   "execution_count": null,
   "metadata": {
    "collapsed": false
   },
   "outputs": [],
   "source": []
  },
  {
   "cell_type": "markdown",
   "metadata": {},
   "source": [
    "We can use resampling to reduce the frequency of Apple share trading to annual and plot the historical variation between the min/max and the mean prices for Apple shares in each year:"
   ]
  },
  {
   "cell_type": "code",
   "execution_count": null,
   "metadata": {
    "collapsed": false
   },
   "outputs": [],
   "source": [
    "plt.plot( ts_data[['Adj Close']].resample('A', how='mean'))\n",
    "plt.plot( ts_data[['Adj Close']].resample('A', how='min'))\n",
    "plt.plot( ts_data[['Adj Close']].resample('A', how='max'))\n"
   ]
  },
  {
   "cell_type": "markdown",
   "metadata": {},
   "source": [
    "**Exercise:** Render a graph that is the same as above, only this time use a 5 year frequency:"
   ]
  },
  {
   "cell_type": "code",
   "execution_count": null,
   "metadata": {
    "collapsed": false,
    "scrolled": false
   },
   "outputs": [],
   "source": []
  },
  {
   "cell_type": "markdown",
   "metadata": {},
   "source": [
    "### Moving (rolling/running) statistics"
   ]
  },
  {
   "cell_type": "markdown",
   "metadata": {},
   "source": [
    "A rolling average is a series of averages of different subsets of the full data set as defined by a filter window.\n",
    "\n",
    "It is widely used indicator that helps smooth out price movements by filtering out the noise from random fluctuations."
   ]
  },
  {
   "cell_type": "code",
   "execution_count": null,
   "metadata": {
    "collapsed": false,
    "scrolled": true
   },
   "outputs": [],
   "source": [
    "pd.rolling_mean(ts_data[['Adj Close']], window=5).head(10)"
   ]
  },
  {
   "cell_type": "code",
   "execution_count": null,
   "metadata": {
    "collapsed": false
   },
   "outputs": [],
   "source": [
    "pd.rolling_mean(ts_data[['Adj Close']], window=5).plot(style='-g')"
   ]
  },
  {
   "cell_type": "markdown",
   "metadata": {},
   "source": [
    "**Exercise:** Generate rolling mean plots on the Volume column for the Apple share trading data. Determine the most 'useful' window size."
   ]
  },
  {
   "cell_type": "code",
   "execution_count": null,
   "metadata": {
    "collapsed": false
   },
   "outputs": [],
   "source": []
  },
  {
   "cell_type": "markdown",
   "metadata": {},
   "source": [
    "##  Shift operations"
   ]
  },
  {
   "cell_type": "markdown",
   "metadata": {},
   "source": [
    "“Shifting” refers to moving data backward and forward through time. Both Series and\n",
    "DataFrame have a  shift method for performing this operation."
   ]
  },
  {
   "cell_type": "markdown",
   "metadata": {},
   "source": [
    "If we wanted to calculate the difference in oil price from one year to the next (something very common in time series analysis), then pandas provides for us a method called shift(), which allows us to select a column and move the data in it up or down by a given amount. \n",
    "\n",
    "In our case, we want to see the difference between the values in price from one year to the next so we will shift the columns by one."
   ]
  },
  {
   "cell_type": "code",
   "execution_count": null,
   "metadata": {
    "collapsed": false
   },
   "outputs": [],
   "source": [
    "ts_data.head()"
   ]
  },
  {
   "cell_type": "code",
   "execution_count": null,
   "metadata": {
    "collapsed": false,
    "scrolled": true
   },
   "outputs": [],
   "source": [
    "\n",
    "ts_data['shifted'] = ts_data['Adj Close'].shift(1)\n",
    "ts_data"
   ]
  },
  {
   "cell_type": "markdown",
   "metadata": {},
   "source": [
    "**Exercise**: Plot the positive and negative fluctuations of the oil price from year to year for the above dataset."
   ]
  },
  {
   "cell_type": "code",
   "execution_count": null,
   "metadata": {
    "collapsed": false
   },
   "outputs": [],
   "source": []
  },
  {
   "cell_type": "markdown",
   "metadata": {
    "collapsed": true
   },
   "source": [
    "### Exercise: "
   ]
  },
  {
   "cell_type": "markdown",
   "metadata": {},
   "source": [
    "Read in the oil_price.csv dataset.\n",
    "\n",
    "Convert the 'Year' feature into datetime and set it as the index.\n",
    "\n",
    "Perform the same analysis as above using the 'shift' function and plot the InflationAdjustedPrice difference from one year to the next."
   ]
  },
  {
   "cell_type": "code",
   "execution_count": null,
   "metadata": {
    "collapsed": true
   },
   "outputs": [],
   "source": []
  },
  {
   "cell_type": "code",
   "execution_count": null,
   "metadata": {
    "collapsed": true
   },
   "outputs": [],
   "source": []
  },
  {
   "cell_type": "code",
   "execution_count": null,
   "metadata": {
    "collapsed": false
   },
   "outputs": [],
   "source": [
    "%%javascript\n",
    "require(['base/js/utils'],\n",
    "function(utils) {\n",
    "   utils.load_extensions('calico-spell-check', 'calico-document-tools', 'calico-cell-tools');\n",
    "});"
   ]
  },
  {
   "cell_type": "code",
   "execution_count": null,
   "metadata": {
    "collapsed": true
   },
   "outputs": [],
   "source": []
  }
 ],
 "metadata": {
  "kernelspec": {
   "display_name": "Python [Root]",
   "language": "python",
   "name": "Python [Root]"
  },
  "language_info": {
   "codemirror_mode": {
    "name": "ipython",
    "version": 2
   },
   "file_extension": ".py",
   "mimetype": "text/x-python",
   "name": "python",
   "nbconvert_exporter": "python",
   "pygments_lexer": "ipython2",
   "version": "2.7.12"
  }
 },
 "nbformat": 4,
 "nbformat_minor": 0
}
