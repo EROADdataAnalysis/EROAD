{
 "cells": [
  {
   "cell_type": "code",
   "execution_count": 21,
   "metadata": {
    "collapsed": false
   },
   "outputs": [
    {
     "data": {
      "text/html": [
       "<style>.container { width:80% !important; }</style>"
      ],
      "text/plain": [
       "<IPython.core.display.HTML object>"
      ]
     },
     "metadata": {},
     "output_type": "display_data"
    }
   ],
   "source": [
    "from IPython.core.display import display, HTML\n",
    "display(HTML(\"<style>.container { width:80% !important; }</style>\"))"
   ]
  },
  {
   "cell_type": "markdown",
   "metadata": {},
   "source": [
    "# Lecture 4 - Regression\n",
    "---\n",
    "\n",
    "### Content\n",
    "\n",
    "1. Intro to regression\n",
    "2. Assessing the goodness of fit\n",
    "\n",
    "### Learning Outcomes\n",
    "\n",
    "At the end of this lecture, you should be able to:\n",
    "\n",
    "* describe the purpose of linear regression\n",
    "* perform introductory regression model fitting using python libraries\n",
    "* explain the degree of fit of a linear regression model\n"
   ]
  },
  {
   "cell_type": "markdown",
   "metadata": {},
   "source": [
    "---\n",
    "\n",
    "---"
   ]
  },
  {
   "cell_type": "markdown",
   "metadata": {},
   "source": [
    "## Linear Regression - An Introduction"
   ]
  },
  {
   "cell_type": "markdown",
   "metadata": {},
   "source": [
    "Often in real world applications we need to understand how the value of one variable is affected or determined by one or several other variables. \n",
    "\n",
    "This not only helps us to **understand and explain** the relationships of existing data and get a grasp of the situation, but it also enables us to make **predictions on future data**.\n",
    "\n",
    "We may for example want to know:\n",
    "\n",
    "* How does sales volume change with changes in price. How is this affected by changes in the weather?\n",
    "\n",
    "* How does the amount of a drug absorbed vary with dosage and with body weight of patient?  Does it depend on blood pressure?\n",
    "\n",
    "* How are the conversions on an e-commerce website affected by two different page titles in an A/B comparison? \n",
    "\n",
    "* How does the energy released by an earthquake vary with the depth of it's epicenter?\n",
    "\n",
    "* How is the interest rate charged on a loan affected by credit history and by loan amount?\n",
    "\n",
    "* What exam mark is a student likely to achieve given their previous assignment marks?\n",
    "\n",
    "If we can find a **pattern** that accurately describes the relationship between these variables, then we can predict the latter, given the former. Eg. Given a persons credit rating (x1) and the requested loan amount (x2), what will the likely interest rate (y) be?\n",
    "\n",
    "Answering the above questions, requires us to create a **model** which describes the pattern in the data.  \n",
    "\n",
    "A model is a mathematical formula where one variable (response, usually $y$) varies depending on one or more independent variables (covariates, usually $x_i$). For example, the total number of Facebook friends a person has ($y$) might be related to the number of hours $x$ a person spends on Facebook a day.\n",
    "\n",
    "One of the common and simplest models we can create is a **Linear Model**. With a linear model we make a big assumption that one response variable changes linearly with the changes in one or two other variables. \n",
    "\n",
    "\n",
    "While this is a big and simplistic assumption, it turns out that many real world problems can be modeled usefully in this way and the model thus works quite well.  Often data that don't appear to have a linear relationship can be transformed using simple mappings so that they do show a linear relationship.  This is very powerful and accordingly Linear Models have wide applicability. \n",
    "\n",
    "Note that linear modeling involves numerical and not categorical outcomes. Creating a Linear Model involves a technique known as **Linear Regression**. Given numerical problems, experimenting initially with linear regression is a wise choice before moving to other methods at subsequent attempts to find better fits to the problem if needed.\n",
    "\n",
    "Linear Regression is one of the foundational tools of Data Science. It is the first **machine learning algorithm** we will look at from the perspective of how to use it and interpret it, rather than from the mathematical perspective.\n",
    "\n",
    "---\n"
   ]
  },
  {
   "cell_type": "code",
   "execution_count": 22,
   "metadata": {
    "collapsed": false
   },
   "outputs": [
    {
     "name": "stdout",
     "output_type": "stream",
     "text": [
      "Requirement already satisfied (use --upgrade to upgrade): patsy==0.4.1 in d:\\program files\\anaconda\\lib\\site-packages\n",
      "Requirement already satisfied (use --upgrade to upgrade): six in d:\\program files\\anaconda\\lib\\site-packages (from patsy==0.4.1)\n",
      "Requirement already satisfied (use --upgrade to upgrade): numpy in d:\\program files\\anaconda\\lib\\site-packages (from patsy==0.4.1)\n"
     ]
    }
   ],
   "source": [
    "!pip install patsy==0.4.1"
   ]
  },
  {
   "cell_type": "code",
   "execution_count": 23,
   "metadata": {
    "collapsed": true
   },
   "outputs": [],
   "source": [
    "import patsy"
   ]
  },
  {
   "cell_type": "code",
   "execution_count": 24,
   "metadata": {
    "collapsed": false
   },
   "outputs": [
    {
     "data": {
      "text/plain": [
       "'0.4.1'"
      ]
     },
     "execution_count": 24,
     "metadata": {},
     "output_type": "execute_result"
    }
   ],
   "source": [
    "#ensure it is version '0.4.1'\n",
    "patsy.__version__"
   ]
  },
  {
   "cell_type": "code",
   "execution_count": 25,
   "metadata": {
    "collapsed": false
   },
   "outputs": [
    {
     "name": "stdout",
     "output_type": "stream",
     "text": [
      "Requirement already satisfied (use --upgrade to upgrade): seaborn in d:\\program files\\anaconda\\lib\\site-packages\n",
      "Requirement already satisfied (use --upgrade to upgrade): tushare in d:\\program files\\anaconda\\lib\\site-packages\n"
     ]
    }
   ],
   "source": [
    "!pip install seaborn tushare  -i http://pypi.douban.com/simple --trusted-host pypi.douban.com"
   ]
  },
  {
   "cell_type": "code",
   "execution_count": 26,
   "metadata": {
    "collapsed": false
   },
   "outputs": [],
   "source": [
    "import pandas as pd\n",
    "import matplotlib.pyplot as plt\n",
    "import matplotlib as mpl\n",
    "import seaborn as sns\n",
    "import numpy as np\n",
    "\n",
    "%matplotlib inline"
   ]
  },
  {
   "cell_type": "code",
   "execution_count": 27,
   "metadata": {
    "collapsed": false
   },
   "outputs": [],
   "source": [
    "pd.options.display.max_columns = 50"
   ]
  },
  {
   "cell_type": "code",
   "execution_count": 28,
   "metadata": {
    "collapsed": false
   },
   "outputs": [],
   "source": [
    "from pylab import rcParams\n",
    "\n",
    "sns.set(style=\"ticks\")\n",
    "#sns.set_style(\"whitegrid\")\n",
    "rcParams['figure.dpi'] = 350\n",
    "rcParams['lines.linewidth'] = 2\n",
    "rcParams['axes.facecolor'] = 'white'\n",
    "rcParams['patch.edgecolor'] = 'white'\n",
    "rcParams['font.family'] = 'StixGeneral'\n",
    "rcParams['figure.figsize'] = 10,8\n",
    "rcParams['font.size'] = 20"
   ]
  },
  {
   "cell_type": "code",
   "execution_count": 29,
   "metadata": {
    "collapsed": false
   },
   "outputs": [],
   "source": [
    "rcParams['axes.labelsize'] = 'large'\n",
    "rcParams['xtick.labelsize'] = 20\n",
    "rcParams['ytick.labelsize'] = 20"
   ]
  },
  {
   "cell_type": "code",
   "execution_count": 30,
   "metadata": {
    "collapsed": false
   },
   "outputs": [
    {
     "data": {
      "text/plain": [
       "(0, 10)"
      ]
     },
     "execution_count": 30,
     "metadata": {},
     "output_type": "execute_result"
    },
    {
     "data": {
      "image/png": "[encoded data removed]",
      "text/plain": [
       "<matplotlib.figure.Figure at 0xca6ff60>"
      ]
     },
     "metadata": {},
     "output_type": "display_data"
    }
   ],
   "source": [
    "x = [2.2, 4.3, 5.1, 5.8, 6.4, 8.0]\n",
    "y = [0.4, 10.1, 7.0, 10.9, 17.4, 18.5]\n",
    "x = np.array(x)\n",
    "y = np.array(y)\n",
    "plt.plot(x,y,'ro')\n",
    "plt.xlabel(\"X\")\n",
    "plt.ylabel(\"Y\")\n",
    "plt.ylim([-5,30])\n",
    "plt.xlim([0,10])"
   ]
  },
  {
   "cell_type": "markdown",
   "metadata": {},
   "source": [
    "We can build a model to characterize the relationship between $X$ and $Y$, recognizing that additional factors other than $X$ (the ones we have measured or are interested in) may influence the response variable $Y$.\n",
    "\n",
    "Our task is to find the optimal values for the $y$ intercept $\\beta_0$ and the coefficient for $x$ values $\\beta_1$:\n",
    "\n",
    "\n",
    "<div style=\"font-size: 150%;\">  \n",
    "$y_i = \\beta_0 + \\beta_1 x_i + \\epsilon_i$\n",
    "</div>\n",
    "\n",
    "where $\\epsilon_i$ represents our expected error so that our predicted $y_i$ for a given $x_i$ will be in the vicinity of $y_i \\pm \\epsilon_i$.\n",
    "\n",
    "The approximate equation for the line in this example is roughly $y = -4.35 + 3.0 \\times x $. We will say this is our initial **model**. "
   ]
  },
  {
   "cell_type": "code",
   "execution_count": 31,
   "metadata": {
    "collapsed": false
   },
   "outputs": [
    {
     "data": {
      "text/plain": [
       "<matplotlib.text.Text at 0xddbb710>"
      ]
     },
     "execution_count": 31,
     "metadata": {},
     "output_type": "execute_result"
    },
    {
     "data": {
      "image/png": "[encoded data removed]",
      "text/plain": [
       "<matplotlib.figure.Figure at 0xddbde10>"
      ]
     },
     "metadata": {},
     "output_type": "display_data"
    }
   ],
   "source": [
    "b0, b1 = (-4.35, 3.0)\n",
    "plt.plot(x, y, 'ro')\n",
    "plt.plot([0,10], [b0, b0+b1*10])\n",
    "plt.xlabel(\"X\")\n",
    "plt.ylabel(\"Y\")"
   ]
  },
  {
   "cell_type": "markdown",
   "metadata": {},
   "source": [
    "## Model Assumptions:\n",
    "\n",
    "Each model/classification algorithm comes with some assumptions regarding the data it is applied to, and it is important to be aware of these since they directly affect the efficacy of the generated model accuracy. Generating regression models using the least squares approach comes with the following three assumptions about the underlying data:\n",
    "\n",
    "1. The relationship between the two variables should be **linear**.\n",
    "2. The variance around the regression line is the same for all values of X - this is called **homoscedasticity**.\n",
    "3. The **residuals** or the **errors of prediction are distributed normally** around the regression line."
   ]
  },
  {
   "cell_type": "markdown",
   "metadata": {},
   "source": [
    "If we believe that our data does not (strongly) violate the above assumptions, we can proceed with generating a linear regression model. There are a number of different libraries in Python which allow us to do this. "
   ]
  },
  {
   "cell_type": "markdown",
   "metadata": {},
   "source": [
    "## Measuring the Goodness-of-fit\n",
    "\n",
    "Once the model has been generated, the questions should then be raised: \n",
    "\n",
    "1. How well does the model fit the data?\n",
    "2. How accurate and reliable is this model likely to be when predicting new data? \n",
    "\n",
    "In order to be able to give and a robust evaluation, we need to define a few terms which will allow us to quantify the above.\n",
    "\n"
   ]
  },
  {
   "cell_type": "markdown",
   "metadata": {},
   "source": [
    "Below is the the formula that gives us the predicted values for $y$ given $x$.\n",
    "\n",
    "<div style=\"font-size: 150%;\">  \n",
    "$\\hat{y} = \\beta_0 + \\beta_1 x$\n",
    "</div>"
   ]
  },
  {
   "cell_type": "code",
   "execution_count": 32,
   "metadata": {
    "collapsed": false
   },
   "outputs": [
    {
     "name": "stdout",
     "output_type": "stream",
     "text": [
      "[2.2000000000000002, 2.2000000000000002] [0.40000000000000002, 2.2500000000000009]\n",
      "[4.2999999999999998, 4.2999999999999998] [10.1, 8.5499999999999989]\n",
      "[5.0999999999999996, 5.0999999999999996] [7.0, 10.949999999999999]\n",
      "[5.7999999999999998, 5.7999999999999998] [10.9, 13.049999999999999]\n",
      "[6.4000000000000004, 6.4000000000000004] [17.399999999999999, 14.850000000000003]\n",
      "[8.0, 8.0] [18.5, 19.649999999999999]\n"
     ]
    },
    {
     "data": {
      "text/plain": [
       "<matplotlib.text.Text at 0xe211dd8>"
      ]
     },
     "execution_count": 32,
     "metadata": {},
     "output_type": "execute_result"
    },
    {
     "data": {
      "image/png": "[encoded data removed]",
      "text/plain": [
       "<matplotlib.figure.Figure at 0xddbbe48>"
      ]
     },
     "metadata": {},
     "output_type": "display_data"
    }
   ],
   "source": [
    "plt.plot(x, y, 'ro')\n",
    "plt.plot([0,10], [b0, b0+b1*10])\n",
    "for xi, yi in zip(x,y):\n",
    "    print [xi]*2, [yi, b0+b1*xi]\n",
    "    plt.plot([xi]*2, [yi, b0+b1*xi], 'k:')\n",
    "plt.xlim(2, 8.2); plt.ylim(0, 20)\n",
    "\n",
    "plt.text(6.5, 15.7, r'}',    fontsize=48)\n",
    "plt.text(6.7, 15.7, r'$(y_i - \\hat{y}_i)$ = residual',    fontsize=48)"
   ]
  },
  {
   "cell_type": "markdown",
   "metadata": {},
   "source": [
    "The difference between the true value of $y_i$ and the predicted value of $\\hat{y}_i$ is the error of the regression line and is called the **residual**. The least squares procedure for fitting a regression line, optimizes the line so that the sum of squared residuals is minimized."
   ]
  },
  {
   "cell_type": "code",
   "execution_count": 33,
   "metadata": {
    "collapsed": false
   },
   "outputs": [
    {
     "name": "stdout",
     "output_type": "stream",
     "text": [
      "10.7166666667\n",
      "[2.2000000000000002, 2.2000000000000002] [0.40000000000000002, 2.2500000000000009]\n",
      "[4.2999999999999998, 4.2999999999999998] [10.1, 8.5499999999999989]\n",
      "[5.0999999999999996, 5.0999999999999996] [7.0, 10.949999999999999]\n",
      "[5.7999999999999998, 5.7999999999999998] [10.9, 13.049999999999999]\n",
      "[6.4000000000000004, 6.4000000000000004] [17.399999999999999, 14.850000000000003]\n",
      "[8.0, 8.0] [18.5, 19.649999999999999]\n"
     ]
    },
    {
     "data": {
      "text/plain": [
       "<matplotlib.text.Text at 0xcb478d0>"
      ]
     },
     "execution_count": 33,
     "metadata": {},
     "output_type": "execute_result"
    },
    {
     "data": {
      "image/png": "[encoded data removed]",
      "text/plain": [
       "<matplotlib.figure.Figure at 0xddbd860>"
      ]
     },
     "metadata": {},
     "output_type": "display_data"
    }
   ],
   "source": [
    "print np.mean(y)\n",
    "plt.plot( x, [np.mean(y)]*len(x),'k:')\n",
    "plt.text(2, np.mean(y), r'$\\bar{y}$',    fontsize=48)\n",
    "\n",
    "plt.plot([2,6.4], [14.85, b0+b1*6.4], 'k:')\n",
    "plt.text(2, b0+b1*6.4, r'$\\hat{y}_i$',    fontsize=48)\n",
    "\n",
    "plt.plot([2,6.4], [17.4]*2, 'k:')\n",
    "plt.text(2, 17.4, r'$y_i$',    fontsize=48)\n",
    "\n",
    "plt.plot(x, y, 'ro')\n",
    "plt.plot([0,10], [b0, b0+b1*10])\n",
    "for xi, yi in zip(x,y):\n",
    "    print [xi]*2, [yi, b0+b1*xi]\n",
    "    plt.plot([xi]*2, [yi, b0+b1*xi], 'k:')\n",
    "plt.xlim(2, 8.2); plt.ylim(0, 20)\n",
    "\n",
    "plt.text(6.5, 15.7, r'}',    fontsize=48)\n",
    "plt.text(8.4, 16.2, r'$(y_i - \\hat{y}_i)$',    fontsize=48)\n",
    "\n",
    "plt.text(6.5, 11.5, r'}',    fontsize=110)\n",
    "plt.text(8.4, 13.7, r'$(y_i - \\bar{y})$',    fontsize=48)\n",
    "\n",
    "plt.text(7, 12.0, r'}',    fontsize=180)\n",
    "plt.text(8.4, 11.4, r'$(\\hat{y}_i - \\bar{y})$',    fontsize=48)"
   ]
  },
  {
   "cell_type": "markdown",
   "metadata": {},
   "source": [
    "The above graph allows us to visually see how the total variation in $y$ can be explained by $x$, given the generated linear regression model. \n",
    "\n",
    "\n",
    "<div style=\"font-size: 120%;\">  \n",
    "$$ (y_i - \\bar{y}) = (\\hat{y}_i - \\bar{y}) + (y_i - \\hat{y}_i) $$\n",
    "</div>\n",
    "\n",
    "The above quantities are squared and summed for each value of observations. Squaring serves two purposes: (1) to prevent positive and negative values from canceling each other out and (2) to strongly penalize large deviations. Whether the latter is a good thing or not depends on the goals of the analysis. This give us the following:\n",
    "\n",
    "<div style=\"font-size: 120%;\">  \n",
    "$$ SS_{Total} = \\sum_{i=1}^N(y_i - \\bar{y})^2  $$\n",
    "</div>\n",
    "\n",
    "<div style=\"font-size: 120%;\">  \n",
    "$$ SS_{Regression} = \\sum_{i=1}^N(\\hat{y}_i - \\bar{y})^2  $$\n",
    "</div>\n",
    "\n",
    "<div style=\"font-size: 120%;\">  \n",
    "$$ SS_{Residual} = \\sum_{i=1}^N(y_i - \\hat{y}_i)^2  $$\n",
    "</div>\n",
    "\n",
    "The total proportion of all the variation in $y$, explained by $x$ can therefore be defined as:\n",
    "\n",
    "<div style=\"font-size: 120%;\">  \n",
    "$$R^2 = \\frac{SS_{Regression}}{SS_{Total}} $$  \n",
    "</div>\n",
    "\n",
    "often called the **coefficient of determination** and used as the primary criterion for summarizing how well a linear regression model fits the data.\n",
    "\n",
    "If the predictions ($\\hat{y}$) are close to the actual values ($y$), we would expect $R^2$ to be close to 1. On the other hand, if the predictions are unrelated to the actual values, then $R^2 = 0$ . In all cases, $R^2$ lies between 0 and 1.\n",
    "\n",
    "The $R^2$ value is commonly used, often incorrectly, in forecasting. There are no set rules of what a good $R^2$ value is and typical values of $R^2$ depend on the type of data used. Sometimes a regression line will still be useful and yield statistically significant results even when $R^2$ is low. This means even when R-squared is low, low P values still indicate a real relationship between the significant predictors and the response variable. However, the low $R^2$ models will be less useful for precise predictions.\n",
    "\n",
    "Validating a model’s out-of-sample (test set) forecasting performance  is much better than measuring the in-sample (training set) $R^2$ value.\n",
    "\n"
   ]
  },
  {
   "cell_type": "markdown",
   "metadata": {},
   "source": [
    "### Root Mean Squared Error###\n",
    "\n",
    "Another way to express how far typical points or observations are, on average, from your regression line is through the Root Mean Squared Error (RMSE) or root-mean-square deviation (RMSD). \n",
    "\n",
    "Essentially, the RMSE is the standard deviation of the residuals or the measure of the spread of the residuals around the regression line on the vertical axis. Since the RMS error is measured on the same scale with the same units as $y$, the RMSE can be interpreted in the same manner as the standard deviation. This means that 68% of the residuals can be expected to fall within $1 \\pm$RMSE, meanwhile 95% can be expected to fall within $2 \\pm$RMSE.\n",
    "\n",
    "RMSE can be quantified as:\n",
    "\n",
    "<div style=\"font-size: 120%;\">  \n",
    "   $$ \\operatorname{RMSE}=\\sqrt{\\frac{\\sum_{i=1}^n (y - \\hat y_i)^2}{N}} $$\n",
    "</div>\n",
    "\n",
    "A shortcut for calculating the RMSE if you have the $R^2$ is as follows:\n",
    "<div style=\"font-size: 120%;\">  \n",
    "$$ RMSE = \\sigma_y \\times \\sqrt{1 - R^2}   $$\n",
    "</div>\n",
    "\n",
    "where $\\sigma_y$ is the standard deviation of the quantity you are trying to predict and $R^2$ is the correlation coefficient. "
   ]
  },
  {
   "cell_type": "markdown",
   "metadata": {},
   "source": [
    "## Example\n",
    "\n",
    "Given a set of student grades in assignments/course work, is it possible to predict the score they will achieve in the exam?\n",
    "\n",
    "The example below is based on an anonymized dataset from a class. The values have been permuted with noise and thus no single observation represents a real student's assignment/exam grade. However, while the permutation and the introduction of noise has weakened the real relationships to some degree, the trends have nonetheless been preserved and are effective for analysis.\n",
    "\n",
    "A# refer to assignment numbers, CW is the total course work (sum of assignment scores) and the exam represents the numeric score achieved."
   ]
  },
  {
   "cell_type": "code",
   "execution_count": 34,
   "metadata": {
    "collapsed": false
   },
   "outputs": [
    {
     "data": {
      "text/html": [
       "<div>\n",
       "<table border=\"1\" class=\"dataframe\">\n",
       "  <thead>\n",
       "    <tr style=\"text-align: right;\">\n",
       "      <th></th>\n",
       "      <th>A1</th>\n",
       "      <th>A2</th>\n",
       "      <th>A3</th>\n",
       "      <th>A4</th>\n",
       "      <th>A5</th>\n",
       "      <th>CW</th>\n",
       "      <th>Exam</th>\n",
       "      <th>Total</th>\n",
       "      <th>Grade</th>\n",
       "      <th>Mode</th>\n",
       "    </tr>\n",
       "  </thead>\n",
       "  <tbody>\n",
       "    <tr>\n",
       "      <th>0</th>\n",
       "      <td>3.5</td>\n",
       "      <td>5.50</td>\n",
       "      <td>7.5</td>\n",
       "      <td>6.5</td>\n",
       "      <td>7.5</td>\n",
       "      <td>30.50</td>\n",
       "      <td>30.0</td>\n",
       "      <td>60.50</td>\n",
       "      <td>B-</td>\n",
       "      <td>INT</td>\n",
       "    </tr>\n",
       "    <tr>\n",
       "      <th>1</th>\n",
       "      <td>2.5</td>\n",
       "      <td>4.50</td>\n",
       "      <td>3.2</td>\n",
       "      <td>3.8</td>\n",
       "      <td>NaN</td>\n",
       "      <td>14.00</td>\n",
       "      <td>10.0</td>\n",
       "      <td>24.00</td>\n",
       "      <td>E</td>\n",
       "      <td>INT</td>\n",
       "    </tr>\n",
       "    <tr>\n",
       "      <th>2</th>\n",
       "      <td>4.0</td>\n",
       "      <td>5.25</td>\n",
       "      <td>7.1</td>\n",
       "      <td>10.2</td>\n",
       "      <td>11.5</td>\n",
       "      <td>38.05</td>\n",
       "      <td>31.0</td>\n",
       "      <td>69.05</td>\n",
       "      <td>B</td>\n",
       "      <td>INT</td>\n",
       "    </tr>\n",
       "    <tr>\n",
       "      <th>3</th>\n",
       "      <td>4.0</td>\n",
       "      <td>NaN</td>\n",
       "      <td>3.0</td>\n",
       "      <td>7.7</td>\n",
       "      <td>9.5</td>\n",
       "      <td>24.20</td>\n",
       "      <td>23.0</td>\n",
       "      <td>47.20</td>\n",
       "      <td>R</td>\n",
       "      <td>INT</td>\n",
       "    </tr>\n",
       "    <tr>\n",
       "      <th>4</th>\n",
       "      <td>4.5</td>\n",
       "      <td>4.75</td>\n",
       "      <td>7.4</td>\n",
       "      <td>10.3</td>\n",
       "      <td>8.8</td>\n",
       "      <td>35.75</td>\n",
       "      <td>40.0</td>\n",
       "      <td>75.75</td>\n",
       "      <td>B+</td>\n",
       "      <td>EXT</td>\n",
       "    </tr>\n",
       "  </tbody>\n",
       "</table>\n",
       "</div>"
      ],
      "text/plain": [
       "    A1    A2   A3    A4    A5     CW  Exam  Total Grade Mode\n",
       "0  3.5  5.50  7.5   6.5   7.5  30.50  30.0  60.50    B-  INT\n",
       "1  2.5  4.50  3.2   3.8   NaN  14.00  10.0  24.00     E  INT\n",
       "2  4.0  5.25  7.1  10.2  11.5  38.05  31.0  69.05     B  INT\n",
       "3  4.0   NaN  3.0   7.7   9.5  24.20  23.0  47.20     R  INT\n",
       "4  4.5  4.75  7.4  10.3   8.8  35.75  40.0  75.75    B+  EXT"
      ]
     },
     "execution_count": 34,
     "metadata": {},
     "output_type": "execute_result"
    }
   ],
   "source": [
    "#regression library\n",
    "import statsmodels.formula.api as smf\n",
    "\n",
    "grades = pd.read_csv(\"grades_prediction_mode.csv\", index_col=0)\n",
    "grades.head()"
   ]
  },
  {
   "cell_type": "markdown",
   "metadata": {},
   "source": [
    "Let's first take a look at the means for each of the course assessments divided by the final grade in order to see if there are some patterns:\n",
    "\n",
    "**Exercise:** Use pivot tables to generate a table which summarizes all the medians, min and max values for all the assessments based on the final student grade. Can we tell if there are any obvious trends?"
   ]
  },
  {
   "cell_type": "code",
   "execution_count": 35,
   "metadata": {
    "collapsed": false
   },
   "outputs": [
    {
     "data": {
      "text/html": [
       "<div>\n",
       "<table border=\"1\" class=\"dataframe\">\n",
       "  <thead>\n",
       "    <tr>\n",
       "      <th></th>\n",
       "      <th colspan=\"7\" halign=\"left\">median</th>\n",
       "      <th colspan=\"7\" halign=\"left\">amax</th>\n",
       "      <th colspan=\"7\" halign=\"left\">amin</th>\n",
       "    </tr>\n",
       "    <tr>\n",
       "      <th></th>\n",
       "      <th>A1</th>\n",
       "      <th>A2</th>\n",
       "      <th>A3</th>\n",
       "      <th>A4</th>\n",
       "      <th>A5</th>\n",
       "      <th>CW</th>\n",
       "      <th>Exam</th>\n",
       "      <th>A1</th>\n",
       "      <th>A2</th>\n",
       "      <th>A3</th>\n",
       "      <th>A4</th>\n",
       "      <th>A5</th>\n",
       "      <th>CW</th>\n",
       "      <th>Exam</th>\n",
       "      <th>A1</th>\n",
       "      <th>A2</th>\n",
       "      <th>A3</th>\n",
       "      <th>A4</th>\n",
       "      <th>A5</th>\n",
       "      <th>CW</th>\n",
       "      <th>Exam</th>\n",
       "    </tr>\n",
       "    <tr>\n",
       "      <th>Grade</th>\n",
       "      <th></th>\n",
       "      <th></th>\n",
       "      <th></th>\n",
       "      <th></th>\n",
       "      <th></th>\n",
       "      <th></th>\n",
       "      <th></th>\n",
       "      <th></th>\n",
       "      <th></th>\n",
       "      <th></th>\n",
       "      <th></th>\n",
       "      <th></th>\n",
       "      <th></th>\n",
       "      <th></th>\n",
       "      <th></th>\n",
       "      <th></th>\n",
       "      <th></th>\n",
       "      <th></th>\n",
       "      <th></th>\n",
       "      <th></th>\n",
       "      <th></th>\n",
       "    </tr>\n",
       "  </thead>\n",
       "  <tbody>\n",
       "    <tr>\n",
       "      <th>A</th>\n",
       "      <td>4.500</td>\n",
       "      <td>5.500</td>\n",
       "      <td>7.40</td>\n",
       "      <td>10.300</td>\n",
       "      <td>11.400</td>\n",
       "      <td>38.700</td>\n",
       "      <td>48.0</td>\n",
       "      <td>4.5</td>\n",
       "      <td>5.50</td>\n",
       "      <td>7.50</td>\n",
       "      <td>10.5</td>\n",
       "      <td>11.5</td>\n",
       "      <td>39.50</td>\n",
       "      <td>52.0</td>\n",
       "      <td>4.00</td>\n",
       "      <td>4.25</td>\n",
       "      <td>7.0</td>\n",
       "      <td>8.80</td>\n",
       "      <td>9.5</td>\n",
       "      <td>35.05</td>\n",
       "      <td>46.000</td>\n",
       "    </tr>\n",
       "    <tr>\n",
       "      <th>A+</th>\n",
       "      <td>4.500</td>\n",
       "      <td>5.250</td>\n",
       "      <td>7.50</td>\n",
       "      <td>10.500</td>\n",
       "      <td>11.500</td>\n",
       "      <td>38.900</td>\n",
       "      <td>52.0</td>\n",
       "      <td>4.5</td>\n",
       "      <td>5.50</td>\n",
       "      <td>7.50</td>\n",
       "      <td>10.5</td>\n",
       "      <td>11.5</td>\n",
       "      <td>39.50</td>\n",
       "      <td>57.0</td>\n",
       "      <td>4.50</td>\n",
       "      <td>5.00</td>\n",
       "      <td>7.2</td>\n",
       "      <td>8.90</td>\n",
       "      <td>10.1</td>\n",
       "      <td>37.50</td>\n",
       "      <td>50.000</td>\n",
       "    </tr>\n",
       "    <tr>\n",
       "      <th>A-</th>\n",
       "      <td>4.500</td>\n",
       "      <td>5.000</td>\n",
       "      <td>7.00</td>\n",
       "      <td>10.250</td>\n",
       "      <td>11.200</td>\n",
       "      <td>36.850</td>\n",
       "      <td>46.0</td>\n",
       "      <td>4.5</td>\n",
       "      <td>5.50</td>\n",
       "      <td>7.50</td>\n",
       "      <td>10.5</td>\n",
       "      <td>11.5</td>\n",
       "      <td>39.30</td>\n",
       "      <td>51.0</td>\n",
       "      <td>0.50</td>\n",
       "      <td>4.75</td>\n",
       "      <td>4.9</td>\n",
       "      <td>9.20</td>\n",
       "      <td>9.3</td>\n",
       "      <td>32.90</td>\n",
       "      <td>43.000</td>\n",
       "    </tr>\n",
       "    <tr>\n",
       "      <th>B</th>\n",
       "      <td>4.500</td>\n",
       "      <td>5.250</td>\n",
       "      <td>6.70</td>\n",
       "      <td>10.100</td>\n",
       "      <td>10.500</td>\n",
       "      <td>35.000</td>\n",
       "      <td>37.0</td>\n",
       "      <td>4.5</td>\n",
       "      <td>5.50</td>\n",
       "      <td>7.50</td>\n",
       "      <td>10.5</td>\n",
       "      <td>11.5</td>\n",
       "      <td>39.30</td>\n",
       "      <td>45.0</td>\n",
       "      <td>3.00</td>\n",
       "      <td>3.00</td>\n",
       "      <td>3.0</td>\n",
       "      <td>6.25</td>\n",
       "      <td>5.6</td>\n",
       "      <td>25.95</td>\n",
       "      <td>28.000</td>\n",
       "    </tr>\n",
       "    <tr>\n",
       "      <th>B+</th>\n",
       "      <td>4.500</td>\n",
       "      <td>5.000</td>\n",
       "      <td>7.20</td>\n",
       "      <td>8.725</td>\n",
       "      <td>10.900</td>\n",
       "      <td>34.980</td>\n",
       "      <td>43.0</td>\n",
       "      <td>4.5</td>\n",
       "      <td>5.50</td>\n",
       "      <td>7.50</td>\n",
       "      <td>10.5</td>\n",
       "      <td>11.5</td>\n",
       "      <td>39.10</td>\n",
       "      <td>49.0</td>\n",
       "      <td>3.25</td>\n",
       "      <td>3.85</td>\n",
       "      <td>4.0</td>\n",
       "      <td>7.75</td>\n",
       "      <td>7.9</td>\n",
       "      <td>31.65</td>\n",
       "      <td>40.000</td>\n",
       "    </tr>\n",
       "    <tr>\n",
       "      <th>B-</th>\n",
       "      <td>4.000</td>\n",
       "      <td>4.750</td>\n",
       "      <td>6.40</td>\n",
       "      <td>7.200</td>\n",
       "      <td>8.950</td>\n",
       "      <td>29.800</td>\n",
       "      <td>33.0</td>\n",
       "      <td>4.5</td>\n",
       "      <td>5.50</td>\n",
       "      <td>7.50</td>\n",
       "      <td>9.7</td>\n",
       "      <td>11.5</td>\n",
       "      <td>38.45</td>\n",
       "      <td>43.0</td>\n",
       "      <td>3.00</td>\n",
       "      <td>4.25</td>\n",
       "      <td>2.5</td>\n",
       "      <td>4.25</td>\n",
       "      <td>6.3</td>\n",
       "      <td>20.45</td>\n",
       "      <td>23.000</td>\n",
       "    </tr>\n",
       "    <tr>\n",
       "      <th>C</th>\n",
       "      <td>4.000</td>\n",
       "      <td>4.750</td>\n",
       "      <td>4.10</td>\n",
       "      <td>7.250</td>\n",
       "      <td>8.100</td>\n",
       "      <td>21.750</td>\n",
       "      <td>27.0</td>\n",
       "      <td>4.5</td>\n",
       "      <td>5.50</td>\n",
       "      <td>5.50</td>\n",
       "      <td>8.4</td>\n",
       "      <td>11.5</td>\n",
       "      <td>32.05</td>\n",
       "      <td>34.0</td>\n",
       "      <td>3.50</td>\n",
       "      <td>3.60</td>\n",
       "      <td>2.9</td>\n",
       "      <td>3.80</td>\n",
       "      <td>5.4</td>\n",
       "      <td>16.80</td>\n",
       "      <td>21.000</td>\n",
       "    </tr>\n",
       "    <tr>\n",
       "      <th>C+</th>\n",
       "      <td>3.625</td>\n",
       "      <td>4.250</td>\n",
       "      <td>4.25</td>\n",
       "      <td>7.250</td>\n",
       "      <td>7.625</td>\n",
       "      <td>24.725</td>\n",
       "      <td>31.5</td>\n",
       "      <td>4.5</td>\n",
       "      <td>5.40</td>\n",
       "      <td>6.10</td>\n",
       "      <td>8.5</td>\n",
       "      <td>9.3</td>\n",
       "      <td>31.05</td>\n",
       "      <td>42.0</td>\n",
       "      <td>2.75</td>\n",
       "      <td>3.05</td>\n",
       "      <td>2.5</td>\n",
       "      <td>4.25</td>\n",
       "      <td>5.0</td>\n",
       "      <td>12.80</td>\n",
       "      <td>26.000</td>\n",
       "    </tr>\n",
       "    <tr>\n",
       "      <th>D</th>\n",
       "      <td>3.625</td>\n",
       "      <td>4.500</td>\n",
       "      <td>3.15</td>\n",
       "      <td>5.750</td>\n",
       "      <td>5.500</td>\n",
       "      <td>16.100</td>\n",
       "      <td>22.0</td>\n",
       "      <td>4.5</td>\n",
       "      <td>5.00</td>\n",
       "      <td>4.25</td>\n",
       "      <td>7.3</td>\n",
       "      <td>9.5</td>\n",
       "      <td>20.50</td>\n",
       "      <td>32.0</td>\n",
       "      <td>3.10</td>\n",
       "      <td>0.70</td>\n",
       "      <td>1.9</td>\n",
       "      <td>2.50</td>\n",
       "      <td>2.5</td>\n",
       "      <td>3.10</td>\n",
       "      <td>12.000</td>\n",
       "    </tr>\n",
       "    <tr>\n",
       "      <th>DNC</th>\n",
       "      <td>3.525</td>\n",
       "      <td>4.250</td>\n",
       "      <td>4.80</td>\n",
       "      <td>6.100</td>\n",
       "      <td>2.600</td>\n",
       "      <td>11.000</td>\n",
       "      <td>NaN</td>\n",
       "      <td>4.5</td>\n",
       "      <td>5.50</td>\n",
       "      <td>7.00</td>\n",
       "      <td>9.8</td>\n",
       "      <td>3.0</td>\n",
       "      <td>26.40</td>\n",
       "      <td>NaN</td>\n",
       "      <td>0.50</td>\n",
       "      <td>2.60</td>\n",
       "      <td>0.7</td>\n",
       "      <td>1.50</td>\n",
       "      <td>2.2</td>\n",
       "      <td>3.30</td>\n",
       "      <td>NaN</td>\n",
       "    </tr>\n",
       "    <tr>\n",
       "      <th>E</th>\n",
       "      <td>3.500</td>\n",
       "      <td>4.375</td>\n",
       "      <td>2.80</td>\n",
       "      <td>3.800</td>\n",
       "      <td>6.500</td>\n",
       "      <td>10.550</td>\n",
       "      <td>11.0</td>\n",
       "      <td>4.0</td>\n",
       "      <td>4.75</td>\n",
       "      <td>4.50</td>\n",
       "      <td>4.0</td>\n",
       "      <td>6.5</td>\n",
       "      <td>14.00</td>\n",
       "      <td>16.0</td>\n",
       "      <td>0.25</td>\n",
       "      <td>1.25</td>\n",
       "      <td>0.0</td>\n",
       "      <td>1.80</td>\n",
       "      <td>6.5</td>\n",
       "      <td>3.50</td>\n",
       "      <td>1.001</td>\n",
       "    </tr>\n",
       "    <tr>\n",
       "      <th>R</th>\n",
       "      <td>4.000</td>\n",
       "      <td>4.250</td>\n",
       "      <td>3.30</td>\n",
       "      <td>7.525</td>\n",
       "      <td>8.500</td>\n",
       "      <td>23.225</td>\n",
       "      <td>23.5</td>\n",
       "      <td>4.5</td>\n",
       "      <td>5.50</td>\n",
       "      <td>6.70</td>\n",
       "      <td>8.5</td>\n",
       "      <td>11.5</td>\n",
       "      <td>35.00</td>\n",
       "      <td>30.0</td>\n",
       "      <td>3.40</td>\n",
       "      <td>2.25</td>\n",
       "      <td>1.9</td>\n",
       "      <td>4.30</td>\n",
       "      <td>2.7</td>\n",
       "      <td>15.30</td>\n",
       "      <td>13.000</td>\n",
       "    </tr>\n",
       "  </tbody>\n",
       "</table>\n",
       "</div>"
      ],
      "text/plain": [
       "      median                                            amax              \\\n",
       "          A1     A2    A3      A4      A5      CW  Exam   A1    A2    A3   \n",
       "Grade                                                                      \n",
       "A      4.500  5.500  7.40  10.300  11.400  38.700  48.0  4.5  5.50  7.50   \n",
       "A+     4.500  5.250  7.50  10.500  11.500  38.900  52.0  4.5  5.50  7.50   \n",
       "A-     4.500  5.000  7.00  10.250  11.200  36.850  46.0  4.5  5.50  7.50   \n",
       "B      4.500  5.250  6.70  10.100  10.500  35.000  37.0  4.5  5.50  7.50   \n",
       "B+     4.500  5.000  7.20   8.725  10.900  34.980  43.0  4.5  5.50  7.50   \n",
       "B-     4.000  4.750  6.40   7.200   8.950  29.800  33.0  4.5  5.50  7.50   \n",
       "C      4.000  4.750  4.10   7.250   8.100  21.750  27.0  4.5  5.50  5.50   \n",
       "C+     3.625  4.250  4.25   7.250   7.625  24.725  31.5  4.5  5.40  6.10   \n",
       "D      3.625  4.500  3.15   5.750   5.500  16.100  22.0  4.5  5.00  4.25   \n",
       "DNC    3.525  4.250  4.80   6.100   2.600  11.000   NaN  4.5  5.50  7.00   \n",
       "E      3.500  4.375  2.80   3.800   6.500  10.550  11.0  4.0  4.75  4.50   \n",
       "R      4.000  4.250  3.30   7.525   8.500  23.225  23.5  4.5  5.50  6.70   \n",
       "\n",
       "                                amin                                        \n",
       "         A4    A5     CW  Exam    A1    A2   A3    A4    A5     CW    Exam  \n",
       "Grade                                                                       \n",
       "A      10.5  11.5  39.50  52.0  4.00  4.25  7.0  8.80   9.5  35.05  46.000  \n",
       "A+     10.5  11.5  39.50  57.0  4.50  5.00  7.2  8.90  10.1  37.50  50.000  \n",
       "A-     10.5  11.5  39.30  51.0  0.50  4.75  4.9  9.20   9.3  32.90  43.000  \n",
       "B      10.5  11.5  39.30  45.0  3.00  3.00  3.0  6.25   5.6  25.95  28.000  \n",
       "B+     10.5  11.5  39.10  49.0  3.25  3.85  4.0  7.75   7.9  31.65  40.000  \n",
       "B-      9.7  11.5  38.45  43.0  3.00  4.25  2.5  4.25   6.3  20.45  23.000  \n",
       "C       8.4  11.5  32.05  34.0  3.50  3.60  2.9  3.80   5.4  16.80  21.000  \n",
       "C+      8.5   9.3  31.05  42.0  2.75  3.05  2.5  4.25   5.0  12.80  26.000  \n",
       "D       7.3   9.5  20.50  32.0  3.10  0.70  1.9  2.50   2.5   3.10  12.000  \n",
       "DNC     9.8   3.0  26.40   NaN  0.50  2.60  0.7  1.50   2.2   3.30     NaN  \n",
       "E       4.0   6.5  14.00  16.0  0.25  1.25  0.0  1.80   6.5   3.50   1.001  \n",
       "R       8.5  11.5  35.00  30.0  3.40  2.25  1.9  4.30   2.7  15.30  13.000  "
      ]
     },
     "execution_count": 35,
     "metadata": {},
     "output_type": "execute_result"
    }
   ],
   "source": [
    "grades.pivot_table(values=['Exam','CW','A1',\"A2\",'A3','A4','A5'], index=['Grade'], aggfunc=[np.median, np.max, np.min])"
   ]
  },
  {
   "cell_type": "markdown",
   "metadata": {},
   "source": [
    "If we wanted to drill deeper and see if there were any differences of note between the performances of internal and extramural students, we could do so using pivots.\n",
    "\n",
    "**Exercise:** Use pivot tables to generate the same pivots as above, except, add Mode as an additional index: if there are any obvious trends?"
   ]
  },
  {
   "cell_type": "code",
   "execution_count": 36,
   "metadata": {
    "collapsed": false
   },
   "outputs": [
    {
     "data": {
      "text/html": [
       "<div>\n",
       "<table border=\"1\" class=\"dataframe\">\n",
       "  <thead>\n",
       "    <tr>\n",
       "      <th></th>\n",
       "      <th></th>\n",
       "      <th colspan=\"7\" halign=\"left\">median</th>\n",
       "      <th colspan=\"7\" halign=\"left\">amax</th>\n",
       "      <th colspan=\"7\" halign=\"left\">amin</th>\n",
       "    </tr>\n",
       "    <tr>\n",
       "      <th></th>\n",
       "      <th></th>\n",
       "      <th>A1</th>\n",
       "      <th>A2</th>\n",
       "      <th>A3</th>\n",
       "      <th>A4</th>\n",
       "      <th>A5</th>\n",
       "      <th>CW</th>\n",
       "      <th>Exam</th>\n",
       "      <th>A1</th>\n",
       "      <th>A2</th>\n",
       "      <th>A3</th>\n",
       "      <th>A4</th>\n",
       "      <th>A5</th>\n",
       "      <th>CW</th>\n",
       "      <th>Exam</th>\n",
       "      <th>A1</th>\n",
       "      <th>A2</th>\n",
       "      <th>A3</th>\n",
       "      <th>A4</th>\n",
       "      <th>A5</th>\n",
       "      <th>CW</th>\n",
       "      <th>Exam</th>\n",
       "    </tr>\n",
       "    <tr>\n",
       "      <th>Mode</th>\n",
       "      <th>Grade</th>\n",
       "      <th></th>\n",
       "      <th></th>\n",
       "      <th></th>\n",
       "      <th></th>\n",
       "      <th></th>\n",
       "      <th></th>\n",
       "      <th></th>\n",
       "      <th></th>\n",
       "      <th></th>\n",
       "      <th></th>\n",
       "      <th></th>\n",
       "      <th></th>\n",
       "      <th></th>\n",
       "      <th></th>\n",
       "      <th></th>\n",
       "      <th></th>\n",
       "      <th></th>\n",
       "      <th></th>\n",
       "      <th></th>\n",
       "      <th></th>\n",
       "      <th></th>\n",
       "    </tr>\n",
       "  </thead>\n",
       "  <tbody>\n",
       "    <tr>\n",
       "      <th rowspan=\"12\" valign=\"top\">EXT</th>\n",
       "      <th>A</th>\n",
       "      <td>4.500</td>\n",
       "      <td>5.500</td>\n",
       "      <td>7.40</td>\n",
       "      <td>10.100</td>\n",
       "      <td>11.50</td>\n",
       "      <td>38.700</td>\n",
       "      <td>48.0</td>\n",
       "      <td>4.5</td>\n",
       "      <td>5.50</td>\n",
       "      <td>7.50</td>\n",
       "      <td>10.5</td>\n",
       "      <td>11.5</td>\n",
       "      <td>39.50</td>\n",
       "      <td>52.0</td>\n",
       "      <td>4.00</td>\n",
       "      <td>4.25</td>\n",
       "      <td>7.00</td>\n",
       "      <td>8.80</td>\n",
       "      <td>10.10</td>\n",
       "      <td>35.05</td>\n",
       "      <td>46.000</td>\n",
       "    </tr>\n",
       "    <tr>\n",
       "      <th>A+</th>\n",
       "      <td>4.500</td>\n",
       "      <td>5.250</td>\n",
       "      <td>7.45</td>\n",
       "      <td>10.500</td>\n",
       "      <td>11.50</td>\n",
       "      <td>38.850</td>\n",
       "      <td>52.5</td>\n",
       "      <td>4.5</td>\n",
       "      <td>5.50</td>\n",
       "      <td>7.50</td>\n",
       "      <td>10.5</td>\n",
       "      <td>11.5</td>\n",
       "      <td>39.50</td>\n",
       "      <td>57.0</td>\n",
       "      <td>4.50</td>\n",
       "      <td>5.00</td>\n",
       "      <td>7.20</td>\n",
       "      <td>8.90</td>\n",
       "      <td>10.10</td>\n",
       "      <td>37.50</td>\n",
       "      <td>50.000</td>\n",
       "    </tr>\n",
       "    <tr>\n",
       "      <th>A-</th>\n",
       "      <td>4.500</td>\n",
       "      <td>5.000</td>\n",
       "      <td>7.20</td>\n",
       "      <td>10.200</td>\n",
       "      <td>11.50</td>\n",
       "      <td>37.900</td>\n",
       "      <td>45.0</td>\n",
       "      <td>4.5</td>\n",
       "      <td>5.50</td>\n",
       "      <td>7.50</td>\n",
       "      <td>10.4</td>\n",
       "      <td>11.5</td>\n",
       "      <td>39.30</td>\n",
       "      <td>46.0</td>\n",
       "      <td>4.50</td>\n",
       "      <td>4.75</td>\n",
       "      <td>6.70</td>\n",
       "      <td>9.80</td>\n",
       "      <td>9.30</td>\n",
       "      <td>35.90</td>\n",
       "      <td>43.000</td>\n",
       "    </tr>\n",
       "    <tr>\n",
       "      <th>B</th>\n",
       "      <td>4.500</td>\n",
       "      <td>5.250</td>\n",
       "      <td>7.00</td>\n",
       "      <td>10.100</td>\n",
       "      <td>9.50</td>\n",
       "      <td>36.250</td>\n",
       "      <td>38.0</td>\n",
       "      <td>4.5</td>\n",
       "      <td>5.50</td>\n",
       "      <td>7.50</td>\n",
       "      <td>10.5</td>\n",
       "      <td>11.3</td>\n",
       "      <td>39.20</td>\n",
       "      <td>45.0</td>\n",
       "      <td>3.00</td>\n",
       "      <td>4.75</td>\n",
       "      <td>6.70</td>\n",
       "      <td>6.25</td>\n",
       "      <td>5.60</td>\n",
       "      <td>27.00</td>\n",
       "      <td>28.000</td>\n",
       "    </tr>\n",
       "    <tr>\n",
       "      <th>B+</th>\n",
       "      <td>4.500</td>\n",
       "      <td>4.750</td>\n",
       "      <td>7.40</td>\n",
       "      <td>10.000</td>\n",
       "      <td>10.80</td>\n",
       "      <td>36.300</td>\n",
       "      <td>43.0</td>\n",
       "      <td>4.5</td>\n",
       "      <td>5.50</td>\n",
       "      <td>7.50</td>\n",
       "      <td>10.5</td>\n",
       "      <td>11.3</td>\n",
       "      <td>39.10</td>\n",
       "      <td>46.0</td>\n",
       "      <td>4.00</td>\n",
       "      <td>4.50</td>\n",
       "      <td>6.70</td>\n",
       "      <td>8.30</td>\n",
       "      <td>7.90</td>\n",
       "      <td>32.25</td>\n",
       "      <td>40.000</td>\n",
       "    </tr>\n",
       "    <tr>\n",
       "      <th>B-</th>\n",
       "      <td>4.500</td>\n",
       "      <td>4.750</td>\n",
       "      <td>6.90</td>\n",
       "      <td>6.800</td>\n",
       "      <td>6.75</td>\n",
       "      <td>28.000</td>\n",
       "      <td>33.0</td>\n",
       "      <td>4.5</td>\n",
       "      <td>5.00</td>\n",
       "      <td>7.40</td>\n",
       "      <td>8.3</td>\n",
       "      <td>10.5</td>\n",
       "      <td>34.10</td>\n",
       "      <td>43.0</td>\n",
       "      <td>3.00</td>\n",
       "      <td>4.25</td>\n",
       "      <td>3.90</td>\n",
       "      <td>4.40</td>\n",
       "      <td>6.30</td>\n",
       "      <td>20.45</td>\n",
       "      <td>31.000</td>\n",
       "    </tr>\n",
       "    <tr>\n",
       "      <th>C</th>\n",
       "      <td>4.250</td>\n",
       "      <td>4.875</td>\n",
       "      <td>3.10</td>\n",
       "      <td>4.100</td>\n",
       "      <td>6.15</td>\n",
       "      <td>22.475</td>\n",
       "      <td>28.0</td>\n",
       "      <td>4.5</td>\n",
       "      <td>5.00</td>\n",
       "      <td>3.30</td>\n",
       "      <td>4.4</td>\n",
       "      <td>6.9</td>\n",
       "      <td>23.50</td>\n",
       "      <td>29.0</td>\n",
       "      <td>4.00</td>\n",
       "      <td>4.75</td>\n",
       "      <td>2.90</td>\n",
       "      <td>3.80</td>\n",
       "      <td>5.40</td>\n",
       "      <td>21.45</td>\n",
       "      <td>27.000</td>\n",
       "    </tr>\n",
       "    <tr>\n",
       "      <th>C+</th>\n",
       "      <td>4.000</td>\n",
       "      <td>5.000</td>\n",
       "      <td>3.55</td>\n",
       "      <td>4.800</td>\n",
       "      <td>5.90</td>\n",
       "      <td>17.900</td>\n",
       "      <td>37.5</td>\n",
       "      <td>4.5</td>\n",
       "      <td>5.00</td>\n",
       "      <td>3.80</td>\n",
       "      <td>4.8</td>\n",
       "      <td>5.9</td>\n",
       "      <td>23.00</td>\n",
       "      <td>42.0</td>\n",
       "      <td>3.50</td>\n",
       "      <td>5.00</td>\n",
       "      <td>3.30</td>\n",
       "      <td>4.80</td>\n",
       "      <td>5.90</td>\n",
       "      <td>12.80</td>\n",
       "      <td>33.000</td>\n",
       "    </tr>\n",
       "    <tr>\n",
       "      <th>D</th>\n",
       "      <td>4.000</td>\n",
       "      <td>2.250</td>\n",
       "      <td>3.25</td>\n",
       "      <td>7.300</td>\n",
       "      <td>2.50</td>\n",
       "      <td>11.800</td>\n",
       "      <td>22.0</td>\n",
       "      <td>4.4</td>\n",
       "      <td>5.00</td>\n",
       "      <td>3.70</td>\n",
       "      <td>7.3</td>\n",
       "      <td>2.5</td>\n",
       "      <td>17.45</td>\n",
       "      <td>25.0</td>\n",
       "      <td>3.25</td>\n",
       "      <td>0.70</td>\n",
       "      <td>2.80</td>\n",
       "      <td>7.30</td>\n",
       "      <td>2.50</td>\n",
       "      <td>6.65</td>\n",
       "      <td>22.000</td>\n",
       "    </tr>\n",
       "    <tr>\n",
       "      <th>DNC</th>\n",
       "      <td>3.525</td>\n",
       "      <td>4.250</td>\n",
       "      <td>4.80</td>\n",
       "      <td>6.100</td>\n",
       "      <td>2.60</td>\n",
       "      <td>11.000</td>\n",
       "      <td>NaN</td>\n",
       "      <td>4.5</td>\n",
       "      <td>5.50</td>\n",
       "      <td>7.00</td>\n",
       "      <td>9.8</td>\n",
       "      <td>3.0</td>\n",
       "      <td>26.40</td>\n",
       "      <td>NaN</td>\n",
       "      <td>0.50</td>\n",
       "      <td>2.60</td>\n",
       "      <td>0.70</td>\n",
       "      <td>1.50</td>\n",
       "      <td>2.20</td>\n",
       "      <td>3.30</td>\n",
       "      <td>NaN</td>\n",
       "    </tr>\n",
       "    <tr>\n",
       "      <th>E</th>\n",
       "      <td>4.000</td>\n",
       "      <td>3.500</td>\n",
       "      <td>3.45</td>\n",
       "      <td>1.800</td>\n",
       "      <td>6.50</td>\n",
       "      <td>12.000</td>\n",
       "      <td>9.0</td>\n",
       "      <td>4.0</td>\n",
       "      <td>4.50</td>\n",
       "      <td>4.50</td>\n",
       "      <td>1.8</td>\n",
       "      <td>6.5</td>\n",
       "      <td>12.20</td>\n",
       "      <td>12.0</td>\n",
       "      <td>0.25</td>\n",
       "      <td>1.25</td>\n",
       "      <td>2.40</td>\n",
       "      <td>1.80</td>\n",
       "      <td>6.50</td>\n",
       "      <td>8.50</td>\n",
       "      <td>1.001</td>\n",
       "    </tr>\n",
       "    <tr>\n",
       "      <th>R</th>\n",
       "      <td>4.000</td>\n",
       "      <td>4.250</td>\n",
       "      <td>3.10</td>\n",
       "      <td>4.400</td>\n",
       "      <td>2.70</td>\n",
       "      <td>16.550</td>\n",
       "      <td>29.0</td>\n",
       "      <td>4.0</td>\n",
       "      <td>5.00</td>\n",
       "      <td>4.00</td>\n",
       "      <td>6.6</td>\n",
       "      <td>2.7</td>\n",
       "      <td>20.65</td>\n",
       "      <td>30.0</td>\n",
       "      <td>4.00</td>\n",
       "      <td>4.25</td>\n",
       "      <td>1.90</td>\n",
       "      <td>4.30</td>\n",
       "      <td>2.70</td>\n",
       "      <td>15.30</td>\n",
       "      <td>24.000</td>\n",
       "    </tr>\n",
       "    <tr>\n",
       "      <th rowspan=\"12\" valign=\"top\">INT</th>\n",
       "      <th>A</th>\n",
       "      <td>4.250</td>\n",
       "      <td>5.500</td>\n",
       "      <td>7.45</td>\n",
       "      <td>10.450</td>\n",
       "      <td>10.45</td>\n",
       "      <td>38.100</td>\n",
       "      <td>47.0</td>\n",
       "      <td>4.5</td>\n",
       "      <td>5.50</td>\n",
       "      <td>7.50</td>\n",
       "      <td>10.5</td>\n",
       "      <td>11.4</td>\n",
       "      <td>39.30</td>\n",
       "      <td>48.0</td>\n",
       "      <td>4.00</td>\n",
       "      <td>5.50</td>\n",
       "      <td>7.40</td>\n",
       "      <td>10.40</td>\n",
       "      <td>9.50</td>\n",
       "      <td>36.90</td>\n",
       "      <td>46.000</td>\n",
       "    </tr>\n",
       "    <tr>\n",
       "      <th>A+</th>\n",
       "      <td>4.500</td>\n",
       "      <td>5.500</td>\n",
       "      <td>7.50</td>\n",
       "      <td>10.500</td>\n",
       "      <td>11.50</td>\n",
       "      <td>39.500</td>\n",
       "      <td>50.0</td>\n",
       "      <td>4.5</td>\n",
       "      <td>5.50</td>\n",
       "      <td>7.50</td>\n",
       "      <td>10.5</td>\n",
       "      <td>11.5</td>\n",
       "      <td>39.50</td>\n",
       "      <td>50.0</td>\n",
       "      <td>4.50</td>\n",
       "      <td>5.50</td>\n",
       "      <td>7.50</td>\n",
       "      <td>10.50</td>\n",
       "      <td>11.50</td>\n",
       "      <td>39.50</td>\n",
       "      <td>50.000</td>\n",
       "    </tr>\n",
       "    <tr>\n",
       "      <th>A-</th>\n",
       "      <td>4.000</td>\n",
       "      <td>5.500</td>\n",
       "      <td>5.10</td>\n",
       "      <td>10.300</td>\n",
       "      <td>11.00</td>\n",
       "      <td>36.100</td>\n",
       "      <td>46.0</td>\n",
       "      <td>4.5</td>\n",
       "      <td>5.50</td>\n",
       "      <td>7.50</td>\n",
       "      <td>10.5</td>\n",
       "      <td>11.0</td>\n",
       "      <td>36.20</td>\n",
       "      <td>51.0</td>\n",
       "      <td>0.50</td>\n",
       "      <td>5.00</td>\n",
       "      <td>4.90</td>\n",
       "      <td>9.20</td>\n",
       "      <td>10.70</td>\n",
       "      <td>32.90</td>\n",
       "      <td>46.000</td>\n",
       "    </tr>\n",
       "    <tr>\n",
       "      <th>B</th>\n",
       "      <td>4.250</td>\n",
       "      <td>5.000</td>\n",
       "      <td>6.45</td>\n",
       "      <td>9.750</td>\n",
       "      <td>10.50</td>\n",
       "      <td>34.800</td>\n",
       "      <td>37.0</td>\n",
       "      <td>4.5</td>\n",
       "      <td>5.50</td>\n",
       "      <td>7.50</td>\n",
       "      <td>10.5</td>\n",
       "      <td>11.5</td>\n",
       "      <td>39.30</td>\n",
       "      <td>43.0</td>\n",
       "      <td>3.75</td>\n",
       "      <td>3.00</td>\n",
       "      <td>3.00</td>\n",
       "      <td>7.10</td>\n",
       "      <td>6.75</td>\n",
       "      <td>25.95</td>\n",
       "      <td>29.000</td>\n",
       "    </tr>\n",
       "    <tr>\n",
       "      <th>B+</th>\n",
       "      <td>4.500</td>\n",
       "      <td>5.000</td>\n",
       "      <td>6.80</td>\n",
       "      <td>8.500</td>\n",
       "      <td>11.00</td>\n",
       "      <td>34.450</td>\n",
       "      <td>43.0</td>\n",
       "      <td>4.5</td>\n",
       "      <td>5.50</td>\n",
       "      <td>7.50</td>\n",
       "      <td>10.2</td>\n",
       "      <td>11.5</td>\n",
       "      <td>37.30</td>\n",
       "      <td>49.0</td>\n",
       "      <td>3.25</td>\n",
       "      <td>3.85</td>\n",
       "      <td>4.00</td>\n",
       "      <td>7.75</td>\n",
       "      <td>8.50</td>\n",
       "      <td>31.65</td>\n",
       "      <td>41.000</td>\n",
       "    </tr>\n",
       "    <tr>\n",
       "      <th>B-</th>\n",
       "      <td>4.000</td>\n",
       "      <td>4.875</td>\n",
       "      <td>4.95</td>\n",
       "      <td>8.150</td>\n",
       "      <td>9.50</td>\n",
       "      <td>30.600</td>\n",
       "      <td>32.5</td>\n",
       "      <td>4.5</td>\n",
       "      <td>5.50</td>\n",
       "      <td>7.50</td>\n",
       "      <td>9.7</td>\n",
       "      <td>11.5</td>\n",
       "      <td>38.45</td>\n",
       "      <td>37.0</td>\n",
       "      <td>3.25</td>\n",
       "      <td>4.25</td>\n",
       "      <td>2.50</td>\n",
       "      <td>4.25</td>\n",
       "      <td>7.50</td>\n",
       "      <td>25.85</td>\n",
       "      <td>23.000</td>\n",
       "    </tr>\n",
       "    <tr>\n",
       "      <th>C</th>\n",
       "      <td>4.000</td>\n",
       "      <td>4.625</td>\n",
       "      <td>5.00</td>\n",
       "      <td>7.475</td>\n",
       "      <td>9.90</td>\n",
       "      <td>21.750</td>\n",
       "      <td>27.0</td>\n",
       "      <td>4.5</td>\n",
       "      <td>5.50</td>\n",
       "      <td>5.50</td>\n",
       "      <td>8.4</td>\n",
       "      <td>11.5</td>\n",
       "      <td>32.05</td>\n",
       "      <td>34.0</td>\n",
       "      <td>3.50</td>\n",
       "      <td>3.60</td>\n",
       "      <td>3.30</td>\n",
       "      <td>6.90</td>\n",
       "      <td>5.60</td>\n",
       "      <td>16.80</td>\n",
       "      <td>21.000</td>\n",
       "    </tr>\n",
       "    <tr>\n",
       "      <th>C+</th>\n",
       "      <td>3.625</td>\n",
       "      <td>4.250</td>\n",
       "      <td>4.30</td>\n",
       "      <td>7.500</td>\n",
       "      <td>8.00</td>\n",
       "      <td>26.500</td>\n",
       "      <td>29.5</td>\n",
       "      <td>4.5</td>\n",
       "      <td>5.40</td>\n",
       "      <td>6.10</td>\n",
       "      <td>8.5</td>\n",
       "      <td>9.3</td>\n",
       "      <td>31.05</td>\n",
       "      <td>41.0</td>\n",
       "      <td>2.75</td>\n",
       "      <td>3.05</td>\n",
       "      <td>2.50</td>\n",
       "      <td>4.25</td>\n",
       "      <td>5.00</td>\n",
       "      <td>14.65</td>\n",
       "      <td>26.000</td>\n",
       "    </tr>\n",
       "    <tr>\n",
       "      <th>D</th>\n",
       "      <td>3.500</td>\n",
       "      <td>4.750</td>\n",
       "      <td>3.15</td>\n",
       "      <td>4.625</td>\n",
       "      <td>6.00</td>\n",
       "      <td>17.450</td>\n",
       "      <td>19.0</td>\n",
       "      <td>4.5</td>\n",
       "      <td>5.00</td>\n",
       "      <td>4.25</td>\n",
       "      <td>5.9</td>\n",
       "      <td>9.5</td>\n",
       "      <td>20.50</td>\n",
       "      <td>32.0</td>\n",
       "      <td>3.10</td>\n",
       "      <td>3.50</td>\n",
       "      <td>1.90</td>\n",
       "      <td>2.50</td>\n",
       "      <td>5.00</td>\n",
       "      <td>3.10</td>\n",
       "      <td>12.000</td>\n",
       "    </tr>\n",
       "    <tr>\n",
       "      <th>DNC</th>\n",
       "      <td>NaN</td>\n",
       "      <td>NaN</td>\n",
       "      <td>NaN</td>\n",
       "      <td>NaN</td>\n",
       "      <td>NaN</td>\n",
       "      <td>NaN</td>\n",
       "      <td>NaN</td>\n",
       "      <td>NaN</td>\n",
       "      <td>NaN</td>\n",
       "      <td>NaN</td>\n",
       "      <td>NaN</td>\n",
       "      <td>NaN</td>\n",
       "      <td>NaN</td>\n",
       "      <td>NaN</td>\n",
       "      <td>NaN</td>\n",
       "      <td>NaN</td>\n",
       "      <td>NaN</td>\n",
       "      <td>NaN</td>\n",
       "      <td>NaN</td>\n",
       "      <td>NaN</td>\n",
       "      <td>NaN</td>\n",
       "    </tr>\n",
       "    <tr>\n",
       "      <th>E</th>\n",
       "      <td>3.000</td>\n",
       "      <td>4.500</td>\n",
       "      <td>1.60</td>\n",
       "      <td>3.900</td>\n",
       "      <td>NaN</td>\n",
       "      <td>9.550</td>\n",
       "      <td>11.5</td>\n",
       "      <td>3.8</td>\n",
       "      <td>4.75</td>\n",
       "      <td>3.20</td>\n",
       "      <td>4.0</td>\n",
       "      <td>NaN</td>\n",
       "      <td>14.00</td>\n",
       "      <td>16.0</td>\n",
       "      <td>2.30</td>\n",
       "      <td>4.25</td>\n",
       "      <td>0.00</td>\n",
       "      <td>3.80</td>\n",
       "      <td>NaN</td>\n",
       "      <td>3.50</td>\n",
       "      <td>10.000</td>\n",
       "    </tr>\n",
       "    <tr>\n",
       "      <th>R</th>\n",
       "      <td>4.000</td>\n",
       "      <td>4.625</td>\n",
       "      <td>3.50</td>\n",
       "      <td>7.700</td>\n",
       "      <td>9.00</td>\n",
       "      <td>25.800</td>\n",
       "      <td>21.0</td>\n",
       "      <td>4.5</td>\n",
       "      <td>5.50</td>\n",
       "      <td>6.70</td>\n",
       "      <td>8.5</td>\n",
       "      <td>11.5</td>\n",
       "      <td>35.00</td>\n",
       "      <td>24.0</td>\n",
       "      <td>3.40</td>\n",
       "      <td>2.25</td>\n",
       "      <td>2.65</td>\n",
       "      <td>7.40</td>\n",
       "      <td>8.10</td>\n",
       "      <td>22.25</td>\n",
       "      <td>13.000</td>\n",
       "    </tr>\n",
       "  </tbody>\n",
       "</table>\n",
       "</div>"
      ],
      "text/plain": [
       "           median                                           amax              \\\n",
       "               A1     A2    A3      A4     A5      CW  Exam   A1    A2    A3   \n",
       "Mode Grade                                                                     \n",
       "EXT  A      4.500  5.500  7.40  10.100  11.50  38.700  48.0  4.5  5.50  7.50   \n",
       "     A+     4.500  5.250  7.45  10.500  11.50  38.850  52.5  4.5  5.50  7.50   \n",
       "     A-     4.500  5.000  7.20  10.200  11.50  37.900  45.0  4.5  5.50  7.50   \n",
       "     B      4.500  5.250  7.00  10.100   9.50  36.250  38.0  4.5  5.50  7.50   \n",
       "     B+     4.500  4.750  7.40  10.000  10.80  36.300  43.0  4.5  5.50  7.50   \n",
       "     B-     4.500  4.750  6.90   6.800   6.75  28.000  33.0  4.5  5.00  7.40   \n",
       "     C      4.250  4.875  3.10   4.100   6.15  22.475  28.0  4.5  5.00  3.30   \n",
       "     C+     4.000  5.000  3.55   4.800   5.90  17.900  37.5  4.5  5.00  3.80   \n",
       "     D      4.000  2.250  3.25   7.300   2.50  11.800  22.0  4.4  5.00  3.70   \n",
       "     DNC    3.525  4.250  4.80   6.100   2.60  11.000   NaN  4.5  5.50  7.00   \n",
       "     E      4.000  3.500  3.45   1.800   6.50  12.000   9.0  4.0  4.50  4.50   \n",
       "     R      4.000  4.250  3.10   4.400   2.70  16.550  29.0  4.0  5.00  4.00   \n",
       "INT  A      4.250  5.500  7.45  10.450  10.45  38.100  47.0  4.5  5.50  7.50   \n",
       "     A+     4.500  5.500  7.50  10.500  11.50  39.500  50.0  4.5  5.50  7.50   \n",
       "     A-     4.000  5.500  5.10  10.300  11.00  36.100  46.0  4.5  5.50  7.50   \n",
       "     B      4.250  5.000  6.45   9.750  10.50  34.800  37.0  4.5  5.50  7.50   \n",
       "     B+     4.500  5.000  6.80   8.500  11.00  34.450  43.0  4.5  5.50  7.50   \n",
       "     B-     4.000  4.875  4.95   8.150   9.50  30.600  32.5  4.5  5.50  7.50   \n",
       "     C      4.000  4.625  5.00   7.475   9.90  21.750  27.0  4.5  5.50  5.50   \n",
       "     C+     3.625  4.250  4.30   7.500   8.00  26.500  29.5  4.5  5.40  6.10   \n",
       "     D      3.500  4.750  3.15   4.625   6.00  17.450  19.0  4.5  5.00  4.25   \n",
       "     DNC      NaN    NaN   NaN     NaN    NaN     NaN   NaN  NaN   NaN   NaN   \n",
       "     E      3.000  4.500  1.60   3.900    NaN   9.550  11.5  3.8  4.75  3.20   \n",
       "     R      4.000  4.625  3.50   7.700   9.00  25.800  21.0  4.5  5.50  6.70   \n",
       "\n",
       "                                     amin                                   \\\n",
       "              A4    A5     CW  Exam    A1    A2    A3     A4     A5     CW   \n",
       "Mode Grade                                                                   \n",
       "EXT  A      10.5  11.5  39.50  52.0  4.00  4.25  7.00   8.80  10.10  35.05   \n",
       "     A+     10.5  11.5  39.50  57.0  4.50  5.00  7.20   8.90  10.10  37.50   \n",
       "     A-     10.4  11.5  39.30  46.0  4.50  4.75  6.70   9.80   9.30  35.90   \n",
       "     B      10.5  11.3  39.20  45.0  3.00  4.75  6.70   6.25   5.60  27.00   \n",
       "     B+     10.5  11.3  39.10  46.0  4.00  4.50  6.70   8.30   7.90  32.25   \n",
       "     B-      8.3  10.5  34.10  43.0  3.00  4.25  3.90   4.40   6.30  20.45   \n",
       "     C       4.4   6.9  23.50  29.0  4.00  4.75  2.90   3.80   5.40  21.45   \n",
       "     C+      4.8   5.9  23.00  42.0  3.50  5.00  3.30   4.80   5.90  12.80   \n",
       "     D       7.3   2.5  17.45  25.0  3.25  0.70  2.80   7.30   2.50   6.65   \n",
       "     DNC     9.8   3.0  26.40   NaN  0.50  2.60  0.70   1.50   2.20   3.30   \n",
       "     E       1.8   6.5  12.20  12.0  0.25  1.25  2.40   1.80   6.50   8.50   \n",
       "     R       6.6   2.7  20.65  30.0  4.00  4.25  1.90   4.30   2.70  15.30   \n",
       "INT  A      10.5  11.4  39.30  48.0  4.00  5.50  7.40  10.40   9.50  36.90   \n",
       "     A+     10.5  11.5  39.50  50.0  4.50  5.50  7.50  10.50  11.50  39.50   \n",
       "     A-     10.5  11.0  36.20  51.0  0.50  5.00  4.90   9.20  10.70  32.90   \n",
       "     B      10.5  11.5  39.30  43.0  3.75  3.00  3.00   7.10   6.75  25.95   \n",
       "     B+     10.2  11.5  37.30  49.0  3.25  3.85  4.00   7.75   8.50  31.65   \n",
       "     B-      9.7  11.5  38.45  37.0  3.25  4.25  2.50   4.25   7.50  25.85   \n",
       "     C       8.4  11.5  32.05  34.0  3.50  3.60  3.30   6.90   5.60  16.80   \n",
       "     C+      8.5   9.3  31.05  41.0  2.75  3.05  2.50   4.25   5.00  14.65   \n",
       "     D       5.9   9.5  20.50  32.0  3.10  3.50  1.90   2.50   5.00   3.10   \n",
       "     DNC     NaN   NaN    NaN   NaN   NaN   NaN   NaN    NaN    NaN    NaN   \n",
       "     E       4.0   NaN  14.00  16.0  2.30  4.25  0.00   3.80    NaN   3.50   \n",
       "     R       8.5  11.5  35.00  24.0  3.40  2.25  2.65   7.40   8.10  22.25   \n",
       "\n",
       "                    \n",
       "              Exam  \n",
       "Mode Grade          \n",
       "EXT  A      46.000  \n",
       "     A+     50.000  \n",
       "     A-     43.000  \n",
       "     B      28.000  \n",
       "     B+     40.000  \n",
       "     B-     31.000  \n",
       "     C      27.000  \n",
       "     C+     33.000  \n",
       "     D      22.000  \n",
       "     DNC       NaN  \n",
       "     E       1.001  \n",
       "     R      24.000  \n",
       "INT  A      46.000  \n",
       "     A+     50.000  \n",
       "     A-     46.000  \n",
       "     B      29.000  \n",
       "     B+     41.000  \n",
       "     B-     23.000  \n",
       "     C      21.000  \n",
       "     C+     26.000  \n",
       "     D      12.000  \n",
       "     DNC       NaN  \n",
       "     E      10.000  \n",
       "     R      13.000  "
      ]
     },
     "execution_count": 36,
     "metadata": {},
     "output_type": "execute_result"
    }
   ],
   "source": [
    "grades.pivot_table(values=['Exam','CW','A1',\"A2\",'A3','A4','A5'], index=['Mode','Grade'], aggfunc=[np.median, np.max, np.min])"
   ]
  },
  {
   "cell_type": "markdown",
   "metadata": {},
   "source": [
    "Let's turn to a graphical representation of this data cloud and visually examine if there are strong relationships between the different features in this dataset.\n",
    "\n",
    "**Exercise:** Generate a graph that visualises the pair-wise relationships between all the features in the dataset. Are there correlations? Which ones are weak/strong? Why?"
   ]
  },
  {
   "cell_type": "code",
   "execution_count": 37,
   "metadata": {
    "collapsed": false
   },
   "outputs": [
    {
     "ename": "SyntaxError",
     "evalue": "non-keyword arg after keyword arg (<ipython-input-37-d63b9901f29e>, line 1)",
     "output_type": "error",
     "traceback": [
      "\u001b[1;36m  File \u001b[1;32m\"<ipython-input-37-d63b9901f29e>\"\u001b[1;36m, line \u001b[1;32m1\u001b[0m\n\u001b[1;33m    pd.tools.plotting.scatter_matrix(grades, alpha=1, figsize(20, 15))\u001b[0m\n\u001b[1;31mSyntaxError\u001b[0m\u001b[1;31m:\u001b[0m non-keyword arg after keyword arg\n"
     ]
    }
   ],
   "source": [
    "pd.tools.plotting.scatter_matrix(grades, alpha=1, figsize(20, 15))"
   ]
  },
  {
   "cell_type": "markdown",
   "metadata": {},
   "source": [
    "We can also calculate numerically the strengths of the correlations from the above in a matrix format:"
   ]
  },
  {
   "cell_type": "code",
   "execution_count": 38,
   "metadata": {
    "collapsed": false
   },
   "outputs": [
    {
     "data": {
      "text/html": [
       "<div>\n",
       "<table border=\"1\" class=\"dataframe\">\n",
       "  <thead>\n",
       "    <tr style=\"text-align: right;\">\n",
       "      <th></th>\n",
       "      <th>A1</th>\n",
       "      <th>A2</th>\n",
       "      <th>A3</th>\n",
       "      <th>A4</th>\n",
       "      <th>A5</th>\n",
       "      <th>CW</th>\n",
       "      <th>Exam</th>\n",
       "      <th>Total</th>\n",
       "    </tr>\n",
       "  </thead>\n",
       "  <tbody>\n",
       "    <tr>\n",
       "      <th>A1</th>\n",
       "      <td>1.000000</td>\n",
       "      <td>0.464685</td>\n",
       "      <td>0.382809</td>\n",
       "      <td>0.458047</td>\n",
       "      <td>0.389768</td>\n",
       "      <td>0.497669</td>\n",
       "      <td>0.329278</td>\n",
       "      <td>0.463103</td>\n",
       "    </tr>\n",
       "    <tr>\n",
       "      <th>A2</th>\n",
       "      <td>0.464685</td>\n",
       "      <td>1.000000</td>\n",
       "      <td>0.435899</td>\n",
       "      <td>0.402199</td>\n",
       "      <td>0.436249</td>\n",
       "      <td>0.531480</td>\n",
       "      <td>0.419396</td>\n",
       "      <td>0.493696</td>\n",
       "    </tr>\n",
       "    <tr>\n",
       "      <th>A3</th>\n",
       "      <td>0.382809</td>\n",
       "      <td>0.435899</td>\n",
       "      <td>1.000000</td>\n",
       "      <td>0.673946</td>\n",
       "      <td>0.404791</td>\n",
       "      <td>0.760577</td>\n",
       "      <td>0.623255</td>\n",
       "      <td>0.706977</td>\n",
       "    </tr>\n",
       "    <tr>\n",
       "      <th>A4</th>\n",
       "      <td>0.458047</td>\n",
       "      <td>0.402199</td>\n",
       "      <td>0.673946</td>\n",
       "      <td>1.000000</td>\n",
       "      <td>0.678972</td>\n",
       "      <td>0.856847</td>\n",
       "      <td>0.596316</td>\n",
       "      <td>0.756806</td>\n",
       "    </tr>\n",
       "    <tr>\n",
       "      <th>A5</th>\n",
       "      <td>0.389768</td>\n",
       "      <td>0.436249</td>\n",
       "      <td>0.404791</td>\n",
       "      <td>0.678972</td>\n",
       "      <td>1.000000</td>\n",
       "      <td>0.821625</td>\n",
       "      <td>0.418337</td>\n",
       "      <td>0.697616</td>\n",
       "    </tr>\n",
       "    <tr>\n",
       "      <th>CW</th>\n",
       "      <td>0.497669</td>\n",
       "      <td>0.531480</td>\n",
       "      <td>0.760577</td>\n",
       "      <td>0.856847</td>\n",
       "      <td>0.821625</td>\n",
       "      <td>1.000000</td>\n",
       "      <td>0.664341</td>\n",
       "      <td>0.893246</td>\n",
       "    </tr>\n",
       "    <tr>\n",
       "      <th>Exam</th>\n",
       "      <td>0.329278</td>\n",
       "      <td>0.419396</td>\n",
       "      <td>0.623255</td>\n",
       "      <td>0.596316</td>\n",
       "      <td>0.418337</td>\n",
       "      <td>0.664341</td>\n",
       "      <td>1.000000</td>\n",
       "      <td>0.930145</td>\n",
       "    </tr>\n",
       "    <tr>\n",
       "      <th>Total</th>\n",
       "      <td>0.463103</td>\n",
       "      <td>0.493696</td>\n",
       "      <td>0.706977</td>\n",
       "      <td>0.756806</td>\n",
       "      <td>0.697616</td>\n",
       "      <td>0.893246</td>\n",
       "      <td>0.930145</td>\n",
       "      <td>1.000000</td>\n",
       "    </tr>\n",
       "  </tbody>\n",
       "</table>\n",
       "</div>"
      ],
      "text/plain": [
       "             A1        A2        A3        A4        A5        CW      Exam  \\\n",
       "A1     1.000000  0.464685  0.382809  0.458047  0.389768  0.497669  0.329278   \n",
       "A2     0.464685  1.000000  0.435899  0.402199  0.436249  0.531480  0.419396   \n",
       "A3     0.382809  0.435899  1.000000  0.673946  0.404791  0.760577  0.623255   \n",
       "A4     0.458047  0.402199  0.673946  1.000000  0.678972  0.856847  0.596316   \n",
       "A5     0.389768  0.436249  0.404791  0.678972  1.000000  0.821625  0.418337   \n",
       "CW     0.497669  0.531480  0.760577  0.856847  0.821625  1.000000  0.664341   \n",
       "Exam   0.329278  0.419396  0.623255  0.596316  0.418337  0.664341  1.000000   \n",
       "Total  0.463103  0.493696  0.706977  0.756806  0.697616  0.893246  0.930145   \n",
       "\n",
       "          Total  \n",
       "A1     0.463103  \n",
       "A2     0.493696  \n",
       "A3     0.706977  \n",
       "A4     0.756806  \n",
       "A5     0.697616  \n",
       "CW     0.893246  \n",
       "Exam   0.930145  \n",
       "Total  1.000000  "
      ]
     },
     "execution_count": 38,
     "metadata": {},
     "output_type": "execute_result"
    }
   ],
   "source": [
    "grades.corr()"
   ]
  },
  {
   "cell_type": "markdown",
   "metadata": {},
   "source": [
    "Now that we see that there are relationships in the data and in particular between the CW as a predictor and Exam as a response variable, we can generate a regression model, visualise it, and evaluate its reliability as follows:"
   ]
  },
  {
   "cell_type": "code",
   "execution_count": 39,
   "metadata": {
    "collapsed": false
   },
   "outputs": [
    {
     "data": {
      "text/html": [
       "<table class=\"simpletable\">\n",
       "<caption>OLS Regression Results</caption>\n",
       "<tr>\n",
       "  <th>Dep. Variable:</th>          <td>Exam</td>       <th>  R-squared:         </th> <td>   0.329</td>\n",
       "</tr>\n",
       "<tr>\n",
       "  <th>Model:</th>                   <td>OLS</td>       <th>  Adj. R-squared:    </th> <td>   0.321</td>\n",
       "</tr>\n",
       "<tr>\n",
       "  <th>Method:</th>             <td>Least Squares</td>  <th>  F-statistic:       </th> <td>   43.56</td>\n",
       "</tr>\n",
       "<tr>\n",
       "  <th>Date:</th>             <td>Wed, 10 Aug 2016</td> <th>  Prob (F-statistic):</th> <td>2.88e-09</td>\n",
       "</tr>\n",
       "<tr>\n",
       "  <th>Time:</th>                 <td>16:35:27</td>     <th>  Log-Likelihood:    </th> <td> -318.60</td>\n",
       "</tr>\n",
       "<tr>\n",
       "  <th>No. Observations:</th>      <td>    91</td>      <th>  AIC:               </th> <td>   641.2</td>\n",
       "</tr>\n",
       "<tr>\n",
       "  <th>Df Residuals:</th>          <td>    89</td>      <th>  BIC:               </th> <td>   646.2</td>\n",
       "</tr>\n",
       "<tr>\n",
       "  <th>Df Model:</th>              <td>     1</td>      <th>                     </th>     <td> </td>   \n",
       "</tr>\n",
       "<tr>\n",
       "  <th>Covariance Type:</th>      <td>nonrobust</td>    <th>                     </th>     <td> </td>   \n",
       "</tr>\n",
       "</table>\n",
       "<table class=\"simpletable\">\n",
       "<tr>\n",
       "      <td></td>         <th>coef</th>     <th>std err</th>      <th>t</th>      <th>P>|t|</th> <th>[95.0% Conf. Int.]</th> \n",
       "</tr>\n",
       "<tr>\n",
       "  <th>Intercept</th> <td>    4.3357</td> <td>    5.127</td> <td>    0.846</td> <td> 0.400</td> <td>   -5.851    14.523</td>\n",
       "</tr>\n",
       "<tr>\n",
       "  <th>CW</th>        <td>    1.0090</td> <td>    0.153</td> <td>    6.600</td> <td> 0.000</td> <td>    0.705     1.313</td>\n",
       "</tr>\n",
       "</table>\n",
       "<table class=\"simpletable\">\n",
       "<tr>\n",
       "  <th>Omnibus:</th>       <td> 7.811</td> <th>  Durbin-Watson:     </th> <td>   1.489</td>\n",
       "</tr>\n",
       "<tr>\n",
       "  <th>Prob(Omnibus):</th> <td> 0.020</td> <th>  Jarque-Bera (JB):  </th> <td>   7.449</td>\n",
       "</tr>\n",
       "<tr>\n",
       "  <th>Skew:</th>          <td>-0.680</td> <th>  Prob(JB):          </th> <td>  0.0241</td>\n",
       "</tr>\n",
       "<tr>\n",
       "  <th>Kurtosis:</th>      <td> 3.342</td> <th>  Cond. No.          </th> <td>    202.</td>\n",
       "</tr>\n",
       "</table>"
      ],
      "text/plain": [
       "<class 'statsmodels.iolib.summary.Summary'>\n",
       "\"\"\"\n",
       "                            OLS Regression Results                            \n",
       "==============================================================================\n",
       "Dep. Variable:                   Exam   R-squared:                       0.329\n",
       "Model:                            OLS   Adj. R-squared:                  0.321\n",
       "Method:                 Least Squares   F-statistic:                     43.56\n",
       "Date:                Wed, 10 Aug 2016   Prob (F-statistic):           2.88e-09\n",
       "Time:                        16:35:27   Log-Likelihood:                -318.60\n",
       "No. Observations:                  91   AIC:                             641.2\n",
       "Df Residuals:                      89   BIC:                             646.2\n",
       "Df Model:                           1                                         \n",
       "Covariance Type:            nonrobust                                         \n",
       "==============================================================================\n",
       "                 coef    std err          t      P>|t|      [95.0% Conf. Int.]\n",
       "------------------------------------------------------------------------------\n",
       "Intercept      4.3357      5.127      0.846      0.400        -5.851    14.523\n",
       "CW             1.0090      0.153      6.600      0.000         0.705     1.313\n",
       "==============================================================================\n",
       "Omnibus:                        7.811   Durbin-Watson:                   1.489\n",
       "Prob(Omnibus):                  0.020   Jarque-Bera (JB):                7.449\n",
       "Skew:                          -0.680   Prob(JB):                       0.0241\n",
       "Kurtosis:                       3.342   Cond. No.                         202.\n",
       "==============================================================================\n",
       "\n",
       "Warnings:\n",
       "[1] Standard Errors assume that the covariance matrix of the errors is correctly specified.\n",
       "\"\"\""
      ]
     },
     "execution_count": 39,
     "metadata": {},
     "output_type": "execute_result"
    },
    {
     "data": {
      "image/png": "[encoded data removed]",
      "text/plain": [
       "<matplotlib.figure.Figure at 0xe2f59e8>"
      ]
     },
     "metadata": {},
     "output_type": "display_data"
    }
   ],
   "source": [
    "#generate the x-axis values that are in range for the CW values\n",
    "x = pd.DataFrame({'CW': np.linspace(grades.CW.min(), grades.CW.max(), len(grades.CW))})\n",
    "\n",
    "#generate the model which uses the course work score to predict the exan mark - the ols() return the generated model\n",
    "mod = smf.ols(formula='Exam ~ 1 + CW', data=grades.dropna()).fit()\n",
    "\n",
    "#plot the actual data\n",
    "plt.scatter(grades.CW, grades.Exam, s=20, alpha=0.6)\n",
    "plt.xlabel('CW'); plt.ylabel('Exam')\n",
    "\n",
    "#render the regression line by predicting the ys using the generated model from above\n",
    "plt.plot(x.CW, mod.predict(x), 'b-', label='Linear $R^2$=%.2f' % mod.rsquared, alpha=0.9)\n",
    "\n",
    "#give the figure a meaningful legend\n",
    "plt.legend(loc='upper left', framealpha=0.5, prop={'size':'small'})\n",
    "plt.title(\"Predicting student exam results based on course work\")\n",
    "\n",
    "#display the model statistics describing the goodness of fit\n",
    "mod.summary()"
   ]
  },
  {
   "cell_type": "code",
   "execution_count": null,
   "metadata": {
    "collapsed": false
   },
   "outputs": [],
   "source": []
  },
  {
   "cell_type": "markdown",
   "metadata": {},
   "source": [
    "**Exercise:** Describe what you see in the regression output and the model fit? How good of a fit is the model? Is the relationship between the variables significant? Is the model likely to be accurate for predictions?"
   ]
  },
  {
   "cell_type": "raw",
   "metadata": {},
   "source": [
    "\n",
    "\n"
   ]
  },
  {
   "cell_type": "markdown",
   "metadata": {},
   "source": [
    "Given the above regression model that we have generated, we can now make predictions about individual observations for whom we do not know what the true dependent variable value is.\n",
    "\n",
    "Here is an example of a student who achieved 25/40 from the class course work, and we are going to predict what he would have achieved in his exam, given the above model:"
   ]
  },
  {
   "cell_type": "code",
   "execution_count": 40,
   "metadata": {
    "collapsed": false
   },
   "outputs": [
    {
     "data": {
      "text/plain": [
       "CW    25\n",
       "dtype: int64"
      ]
     },
     "execution_count": 40,
     "metadata": {},
     "output_type": "execute_result"
    }
   ],
   "source": [
    "#first create a series object with the value to predict\n",
    "student_course_work = pd.Series(data={'CW':25})\n",
    "student_course_work"
   ]
  },
  {
   "cell_type": "code",
   "execution_count": 41,
   "metadata": {
    "collapsed": false
   },
   "outputs": [
    {
     "data": {
      "text/plain": [
       "array([ 29.56116849])"
      ]
     },
     "execution_count": 41,
     "metadata": {},
     "output_type": "execute_result"
    }
   ],
   "source": [
    "mod.predict(student_course_work)"
   ]
  },
  {
   "cell_type": "markdown",
   "metadata": {},
   "source": [
    "**Exercise:** Let's assume that you are now interested in finding out how well you can predict a student's overall total mark for a paper, based on their exam result. Write code that does this and consider the interpretation of your findings."
   ]
  },
  {
   "cell_type": "code",
   "execution_count": 42,
   "metadata": {
    "collapsed": false
   },
   "outputs": [
    {
     "data": {
      "text/html": [
       "<table class=\"simpletable\">\n",
       "<caption>OLS Regression Results</caption>\n",
       "<tr>\n",
       "  <th>Dep. Variable:</th>          <td>Total</td>      <th>  R-squared:         </th> <td>   0.890</td>\n",
       "</tr>\n",
       "<tr>\n",
       "  <th>Model:</th>                   <td>OLS</td>       <th>  Adj. R-squared:    </th> <td>   0.889</td>\n",
       "</tr>\n",
       "<tr>\n",
       "  <th>Method:</th>             <td>Least Squares</td>  <th>  F-statistic:       </th> <td>   721.8</td>\n",
       "</tr>\n",
       "<tr>\n",
       "  <th>Date:</th>             <td>Wed, 10 Aug 2016</td> <th>  Prob (F-statistic):</th> <td>1.79e-44</td>\n",
       "</tr>\n",
       "<tr>\n",
       "  <th>Time:</th>                 <td>16:35:28</td>     <th>  Log-Likelihood:    </th> <td> -267.14</td>\n",
       "</tr>\n",
       "<tr>\n",
       "  <th>No. Observations:</th>      <td>    91</td>      <th>  AIC:               </th> <td>   538.3</td>\n",
       "</tr>\n",
       "<tr>\n",
       "  <th>Df Residuals:</th>          <td>    89</td>      <th>  BIC:               </th> <td>   543.3</td>\n",
       "</tr>\n",
       "<tr>\n",
       "  <th>Df Model:</th>              <td>     1</td>      <th>                     </th>     <td> </td>   \n",
       "</tr>\n",
       "<tr>\n",
       "  <th>Covariance Type:</th>      <td>nonrobust</td>    <th>                     </th>     <td> </td>   \n",
       "</tr>\n",
       "</table>\n",
       "<table class=\"simpletable\">\n",
       "<tr>\n",
       "      <td></td>         <th>coef</th>     <th>std err</th>      <th>t</th>      <th>P>|t|</th> <th>[95.0% Conf. Int.]</th> \n",
       "</tr>\n",
       "<tr>\n",
       "  <th>Intercept</th> <td>   20.7912</td> <td>    1.922</td> <td>   10.817</td> <td> 0.000</td> <td>   16.972    24.610</td>\n",
       "</tr>\n",
       "<tr>\n",
       "  <th>Exam</th>      <td>    1.3257</td> <td>    0.049</td> <td>   26.866</td> <td> 0.000</td> <td>    1.228     1.424</td>\n",
       "</tr>\n",
       "</table>\n",
       "<table class=\"simpletable\">\n",
       "<tr>\n",
       "  <th>Omnibus:</th>       <td> 2.126</td> <th>  Durbin-Watson:     </th> <td>   2.120</td>\n",
       "</tr>\n",
       "<tr>\n",
       "  <th>Prob(Omnibus):</th> <td> 0.345</td> <th>  Jarque-Bera (JB):  </th> <td>   1.761</td>\n",
       "</tr>\n",
       "<tr>\n",
       "  <th>Skew:</th>          <td>-0.339</td> <th>  Prob(JB):          </th> <td>   0.415</td>\n",
       "</tr>\n",
       "<tr>\n",
       "  <th>Kurtosis:</th>      <td> 3.061</td> <th>  Cond. No.          </th> <td>    155.</td>\n",
       "</tr>\n",
       "</table>"
      ],
      "text/plain": [
       "<class 'statsmodels.iolib.summary.Summary'>\n",
       "\"\"\"\n",
       "                            OLS Regression Results                            \n",
       "==============================================================================\n",
       "Dep. Variable:                  Total   R-squared:                       0.890\n",
       "Model:                            OLS   Adj. R-squared:                  0.889\n",
       "Method:                 Least Squares   F-statistic:                     721.8\n",
       "Date:                Wed, 10 Aug 2016   Prob (F-statistic):           1.79e-44\n",
       "Time:                        16:35:28   Log-Likelihood:                -267.14\n",
       "No. Observations:                  91   AIC:                             538.3\n",
       "Df Residuals:                      89   BIC:                             543.3\n",
       "Df Model:                           1                                         \n",
       "Covariance Type:            nonrobust                                         \n",
       "==============================================================================\n",
       "                 coef    std err          t      P>|t|      [95.0% Conf. Int.]\n",
       "------------------------------------------------------------------------------\n",
       "Intercept     20.7912      1.922     10.817      0.000        16.972    24.610\n",
       "Exam           1.3257      0.049     26.866      0.000         1.228     1.424\n",
       "==============================================================================\n",
       "Omnibus:                        2.126   Durbin-Watson:                   2.120\n",
       "Prob(Omnibus):                  0.345   Jarque-Bera (JB):                1.761\n",
       "Skew:                          -0.339   Prob(JB):                        0.415\n",
       "Kurtosis:                       3.061   Cond. No.                         155.\n",
       "==============================================================================\n",
       "\n",
       "Warnings:\n",
       "[1] Standard Errors assume that the covariance matrix of the errors is correctly specified.\n",
       "\"\"\""
      ]
     },
     "execution_count": 42,
     "metadata": {},
     "output_type": "execute_result"
    },
    {
     "data": {
      "image/png": "[encoded data removed]",
      "text/plain": [
       "<matplotlib.figure.Figure at 0xe018358>"
      ]
     },
     "metadata": {},
     "output_type": "display_data"
    }
   ],
   "source": [
    "\n",
    "#generate the model which uses the course work score to predict the exan mark - the ols() return the generated model\n",
    "\n",
    "#plot the actual data\n",
    "\n",
    "#render the regression line by predicting the ys using the generated model from above\n",
    "\n",
    "#display the model statistics describing the goodness of fit\n",
    "\n",
    "#generate the x-axis values that are in range for the CW values\n",
    "x = pd.DataFrame({'Exam': np.linspace(grades.Exam.min(), grades.Exam.max(), len(grades.Exam))})\n",
    "\n",
    "#generate the model which uses the course work score to predict the exan mark - the ols() return the generated model\n",
    "mod = smf.ols(formula='Total ~ 1 + Exam', data=grades.dropna()).fit()\n",
    "\n",
    "#plot the actual data\n",
    "plt.scatter(grades.Exam, grades.Total, s=20, alpha=0.6)\n",
    "plt.xlabel('Exam'); plt.ylabel('Total')\n",
    "\n",
    "#render the regression line by predicting the ys using the generated model from above\n",
    "plt.plot(x.Exam, mod.predict(x), 'b-', label='Linear $R^2$=%.2f' % mod.rsquared, alpha=0.9)\n",
    "\n",
    "#give the figure a meaningful legend\n",
    "plt.legend(loc='upper left', framealpha=0.5, prop={'size':'small'})\n",
    "plt.title(\"Predicting student exam results based on course work\")\n",
    "\n",
    "#display the model statistics describing the goodness of fit\n",
    "mod.summary()\n"
   ]
  },
  {
   "cell_type": "markdown",
   "metadata": {},
   "source": [
    "**Exercise:** Using the above model you generated, predict the total score students with the following exam marks [15, 40, 55] are likely to get."
   ]
  },
  {
   "cell_type": "code",
   "execution_count": 43,
   "metadata": {
    "collapsed": false
   },
   "outputs": [
    {
     "data": {
      "text/plain": [
       "CW    25\n",
       "dtype: int64"
      ]
     },
     "execution_count": 43,
     "metadata": {},
     "output_type": "execute_result"
    }
   ],
   "source": [
    "student_course_work = pd.Series(data={'CW':25})\n",
    "student_course_work"
   ]
  },
  {
   "cell_type": "markdown",
   "metadata": {},
   "source": [
    "## Regression Line Confidence Intervals\n",
    "\n",
    "The **regression line is an estimation** of where the true model parameters should lie. \n",
    "\n",
    "Sometimes we would like to know what is the the **region in which the true model parameters lie given a certain confidence value**. For this we can define a confidence interval.\n",
    "\n",
    "The confidence interval lets us define a window in which the true regression line is likely to be situated for example with a 95% confidence. Another way of thinking about this is that our result (whatever it is), can be estimated with a 95% chance of lying in this range.\n",
    "\n",
    "For linear regression we can visually display a confidence interval in which we expect the true value to lie. \n",
    "\n",
    "Below is an example of a function defined by James Bagrow (http://nbviewer.ipython.org/url/bagrow.com/dsv/LEC10_notes_2014-02-13.ipynb) on how to calculate a specified confidence interval using Student's t Distribution:\n",
    "\n"
   ]
  },
  {
   "cell_type": "code",
   "execution_count": 44,
   "metadata": {
    "collapsed": false
   },
   "outputs": [],
   "source": [
    "import scipy\n",
    "\n",
    "def linregress_CIs(xd,yd,conf=0.95):\n",
    "    \"\"\"Linear regression CIs FTW!\"\"\"\n",
    "    alpha=1.-conf   # significance\n",
    "    n = xd.size   # data sample size\n",
    "    x = np.linspace(xd.min(),xd.max(),1000)\n",
    "        \n",
    "    # Predicted values from fitted model:\n",
    "    a, b, r, p, err = scipy.stats.linregress(xd,yd)\n",
    "    y = a*x+b\n",
    "    \n",
    "    sd = 1./(n-2.)*np.sum((yd-a*xd-b)**2)\n",
    "    sd = np.sqrt(sd)\n",
    "    sxd = np.sum((xd-xd.mean())**2)\n",
    "    sx  = (x-xd.mean())**2\n",
    "    \n",
    "    # quantile of student's t distribution for p=1-alpha/2\n",
    "    q = scipy.stats.t.ppf(1.-alpha/2, n-2)\n",
    "    \n",
    "    # get the upper and lower CI:\n",
    "    dy = q*sd*np.sqrt( 1./n + sx/sxd )\n",
    "    yl = y-dy\n",
    "    yu = y+dy\n",
    "    \n",
    "    return yl,yu,x"
   ]
  },
  {
   "cell_type": "code",
   "execution_count": 45,
   "metadata": {
    "collapsed": false
   },
   "outputs": [
    {
     "data": {
      "image/png": "[encoded data removed]",
      "text/plain": [
       "<matplotlib.figure.Figure at 0xe6b8240>"
      ]
     },
     "metadata": {},
     "output_type": "display_data"
    },
    {
     "data": {
      "text/html": [
       "<table class=\"simpletable\">\n",
       "<caption>OLS Regression Results</caption>\n",
       "<tr>\n",
       "  <th>Dep. Variable:</th>          <td>Total</td>      <th>  R-squared:         </th> <td>   0.890</td>\n",
       "</tr>\n",
       "<tr>\n",
       "  <th>Model:</th>                   <td>OLS</td>       <th>  Adj. R-squared:    </th> <td>   0.889</td>\n",
       "</tr>\n",
       "<tr>\n",
       "  <th>Method:</th>             <td>Least Squares</td>  <th>  F-statistic:       </th> <td>   721.8</td>\n",
       "</tr>\n",
       "<tr>\n",
       "  <th>Date:</th>             <td>Wed, 10 Aug 2016</td> <th>  Prob (F-statistic):</th> <td>1.79e-44</td>\n",
       "</tr>\n",
       "<tr>\n",
       "  <th>Time:</th>                 <td>16:35:30</td>     <th>  Log-Likelihood:    </th> <td> -267.14</td>\n",
       "</tr>\n",
       "<tr>\n",
       "  <th>No. Observations:</th>      <td>    91</td>      <th>  AIC:               </th> <td>   538.3</td>\n",
       "</tr>\n",
       "<tr>\n",
       "  <th>Df Residuals:</th>          <td>    89</td>      <th>  BIC:               </th> <td>   543.3</td>\n",
       "</tr>\n",
       "<tr>\n",
       "  <th>Df Model:</th>              <td>     1</td>      <th>                     </th>     <td> </td>   \n",
       "</tr>\n",
       "<tr>\n",
       "  <th>Covariance Type:</th>      <td>nonrobust</td>    <th>                     </th>     <td> </td>   \n",
       "</tr>\n",
       "</table>\n",
       "<table class=\"simpletable\">\n",
       "<tr>\n",
       "      <td></td>         <th>coef</th>     <th>std err</th>      <th>t</th>      <th>P>|t|</th> <th>[95.0% Conf. Int.]</th> \n",
       "</tr>\n",
       "<tr>\n",
       "  <th>Intercept</th> <td>   20.7912</td> <td>    1.922</td> <td>   10.817</td> <td> 0.000</td> <td>   16.972    24.610</td>\n",
       "</tr>\n",
       "<tr>\n",
       "  <th>Exam</th>      <td>    1.3257</td> <td>    0.049</td> <td>   26.866</td> <td> 0.000</td> <td>    1.228     1.424</td>\n",
       "</tr>\n",
       "</table>\n",
       "<table class=\"simpletable\">\n",
       "<tr>\n",
       "  <th>Omnibus:</th>       <td> 2.126</td> <th>  Durbin-Watson:     </th> <td>   2.120</td>\n",
       "</tr>\n",
       "<tr>\n",
       "  <th>Prob(Omnibus):</th> <td> 0.345</td> <th>  Jarque-Bera (JB):  </th> <td>   1.761</td>\n",
       "</tr>\n",
       "<tr>\n",
       "  <th>Skew:</th>          <td>-0.339</td> <th>  Prob(JB):          </th> <td>   0.415</td>\n",
       "</tr>\n",
       "<tr>\n",
       "  <th>Kurtosis:</th>      <td> 3.061</td> <th>  Cond. No.          </th> <td>    155.</td>\n",
       "</tr>\n",
       "</table>"
      ],
      "text/plain": [
       "<class 'statsmodels.iolib.summary.Summary'>\n",
       "\"\"\"\n",
       "                            OLS Regression Results                            \n",
       "==============================================================================\n",
       "Dep. Variable:                  Total   R-squared:                       0.890\n",
       "Model:                            OLS   Adj. R-squared:                  0.889\n",
       "Method:                 Least Squares   F-statistic:                     721.8\n",
       "Date:                Wed, 10 Aug 2016   Prob (F-statistic):           1.79e-44\n",
       "Time:                        16:35:30   Log-Likelihood:                -267.14\n",
       "No. Observations:                  91   AIC:                             538.3\n",
       "Df Residuals:                      89   BIC:                             543.3\n",
       "Df Model:                           1                                         \n",
       "Covariance Type:            nonrobust                                         \n",
       "==============================================================================\n",
       "                 coef    std err          t      P>|t|      [95.0% Conf. Int.]\n",
       "------------------------------------------------------------------------------\n",
       "Intercept     20.7912      1.922     10.817      0.000        16.972    24.610\n",
       "Exam           1.3257      0.049     26.866      0.000         1.228     1.424\n",
       "==============================================================================\n",
       "Omnibus:                        2.126   Durbin-Watson:                   2.120\n",
       "Prob(Omnibus):                  0.345   Jarque-Bera (JB):                1.761\n",
       "Skew:                          -0.339   Prob(JB):                        0.415\n",
       "Kurtosis:                       3.061   Cond. No.                         155.\n",
       "==============================================================================\n",
       "\n",
       "Warnings:\n",
       "[1] Standard Errors assume that the covariance matrix of the errors is correctly specified.\n",
       "\"\"\""
      ]
     },
     "execution_count": 45,
     "metadata": {},
     "output_type": "execute_result"
    }
   ],
   "source": [
    "grades_no_NAN = grades.dropna()\n",
    "yl,yu,xd = linregress_CIs(grades_no_NAN.Exam.as_matrix(),grades_no_NAN.Total.as_matrix(), .95)\n",
    "mod = smf.ols(formula='Total ~ 1 + Exam', data=grades.dropna()).fit()\n",
    "\n",
    "plt.xlabel('Exam')\n",
    "plt.ylabel('Total Grade')\n",
    "plt.plot(grades.Exam,grades.Total, 'o')\n",
    "plt.plot(grades.Exam, mod.params[1]*grades.Exam+mod.params[0],'k-')\n",
    "plt.fill_between(xd, yl, yu, alpha=0.3, facecolor='blue',edgecolor='none')\n",
    "plt.show()\n",
    "mod.summary()"
   ]
  },
  {
   "cell_type": "markdown",
   "metadata": {},
   "source": [
    "The blue area is a 95% confidence interval on the line. **It does not mean that 95% of the data points fall inside the blue area**.\n",
    "\n",
    "The  confidence bands are curved. This also does not mean that the confidence band includes the possibility of curves as well as straight lines. Rather, the curved lines are the boundaries of all possible straight lines that could be fit within this confidence interval.\n",
    "\n",
    "Given the assumptions of linear regression, **you can be 95% confident that the two curved confidence bands enclose the true best-fit linear regression line**, leaving a 5% chance that the true line is outside those boundaries.\n",
    "\n",
    "Many data points will be outside the 95% confidence bands. The confidence bands are 95% sure to contain the best-fit regression line. This is not the same as saying it will contain 95% of the data points.\n",
    "\n",
    "\n",
    "**Exercise:** Generate a scatter plot matrix for the above student grade problem. Select a different combination of variables and build a regression model together with the confidence intervals using the function provided."
   ]
  },
  {
   "cell_type": "code",
   "execution_count": null,
   "metadata": {
    "collapsed": false
   },
   "outputs": [],
   "source": []
  },
  {
   "cell_type": "markdown",
   "metadata": {},
   "source": [
    "## Regression Line Prediction Bands\n",
    "\n",
    "The **prediction bands identify the region that specifies where a given percentage of points should fall**. \n",
    "\n",
    "The **prediction band** deals specifically with where the **predictions** should fall, while the **confidence intervals** define where the true **regression line** should fall. \n",
    "\n",
    "Use prediction bands when your intent is to depict the variation in your data. Meanwhile, use confidence intervals to visually analyze how precisely your data define the best-fit line.\n"
   ]
  },
  {
   "cell_type": "code",
   "execution_count": 46,
   "metadata": {
    "collapsed": false
   },
   "outputs": [
    {
     "data": {
      "text/plain": [
       "<matplotlib.text.Text at 0xea7d860>"
      ]
     },
     "execution_count": 46,
     "metadata": {},
     "output_type": "execute_result"
    },
    {
     "data": {
      "image/png": "[encoded data removed]",
      "text/plain": [
       "<matplotlib.figure.Figure at 0xe024da0>"
      ]
     },
     "metadata": {},
     "output_type": "display_data"
    }
   ],
   "source": [
    "import statsmodels.api as sm\n",
    "from statsmodels.sandbox.regression.predstd import wls_prediction_std\n",
    "\n",
    "#generate the model\n",
    "mod = smf.ols(formula='Total ~ 1 + Exam', data=grades.dropna()).fit()\n",
    "\n",
    "#extract the parameters for the confidence window\n",
    "x_pred = np.linspace(grades.Exam.min(), grades.Exam.max(), len(grades.Exam))\n",
    "x_pred2 = sm.add_constant(x_pred)\n",
    "\n",
    "#confidence = 95% (alpha=0.05)\n",
    "sdev, lower, upper = wls_prediction_std(mod, exog=x_pred2, alpha=0.05)\n",
    "\n",
    "#plot points and confidence window\n",
    "plt.scatter(grades.Exam, grades.Total, s=10, alpha=0.9)\n",
    "plt.fill_between(x_pred, lower, upper, color='#888888', alpha=0.2)\n",
    "\n",
    "#plot the regression line\n",
    "plt.plot(grades.Exam.dropna(), mod.predict(grades[['Exam']] ), 'b-', label='Linear n=1 $R^2$=%.2f' % mod.rsquared, alpha=0.9)\n",
    "\n",
    "plt.xlabel('Exam')\n",
    "plt.ylabel('Total Grade')"
   ]
  },
  {
   "cell_type": "markdown",
   "metadata": {},
   "source": [
    "**Exercise:**: Draw 99% prediction bands for the prediction model you generated in the previous exercise.\n",
    "        "
   ]
  },
  {
   "cell_type": "code",
   "execution_count": 47,
   "metadata": {
    "collapsed": false
   },
   "outputs": [
    {
     "data": {
      "text/plain": [
       "<matplotlib.text.Text at 0xe733cf8>"
      ]
     },
     "execution_count": 47,
     "metadata": {},
     "output_type": "execute_result"
    },
    {
     "data": {
      "image/png": "[encoded data removed]",
      "text/plain": [
       "<matplotlib.figure.Figure at 0xeaaf9e8>"
      ]
     },
     "metadata": {},
     "output_type": "display_data"
    }
   ],
   "source": [
    "import statsmodels.api as sm\n",
    "from statsmodels.sandbox.regression.predstd import wls_prediction_std\n",
    "\n",
    "#generate the model\n",
    "mod = smf.ols(formula='Total ~ 1 + Exam', data=grades.dropna()).fit()\n",
    "\n",
    "#extract the parameters for the confidence window\n",
    "x_pred = np.linspace(grades.Exam.min(), grades.Exam.max(), len(grades.Exam))\n",
    "x_pred2 = sm.add_constant(x_pred)\n",
    "\n",
    "#confidence = 95% (alpha=0.05)\n",
    "sdev, lower, upper = wls_prediction_std(mod, exog=x_pred2, alpha=0.5)\n",
    "\n",
    "#plot points and confidence window\n",
    "plt.scatter(grades.Exam, grades.Total, s=10, alpha=0.9)\n",
    "plt.fill_between(x_pred, lower, upper, color='#888888', alpha=0.2)\n",
    "\n",
    "#plot the regression line\n",
    "plt.plot(grades.Exam.dropna(), mod.predict(grades[['Exam']] ), 'b-', label='Linear n=1 $R^2$=%.2f' % mod.rsquared, alpha=0.9)\n",
    "\n",
    "plt.xlabel('Exam')\n",
    "plt.ylabel('Total Grade')"
   ]
  },
  {
   "cell_type": "markdown",
   "metadata": {},
   "source": [
    "**Exercise:**: Calculate the RMSE for the above model and plot a figure that displays the spread of the residuals at one standard deviation from the regression line (covering some 68% of the predictions)."
   ]
  },
  {
   "cell_type": "code",
   "execution_count": 48,
   "metadata": {
    "collapsed": false
   },
   "outputs": [
    {
     "data": {
      "text/plain": [
       "<matplotlib.text.Text at 0xe575cc0>"
      ]
     },
     "execution_count": 48,
     "metadata": {},
     "output_type": "execute_result"
    },
    {
     "data": {
      "image/png": "[encoded data removed]",
      "text/plain": [
       "<matplotlib.figure.Figure at 0xe7a6550>"
      ]
     },
     "metadata": {},
     "output_type": "display_data"
    }
   ],
   "source": [
    "import statsmodels.api as sm\n",
    "from statsmodels.sandbox.regression.predstd import wls_prediction_std\n",
    "\n",
    "#generate the model\n",
    "mod = smf.ols(formula='Total ~ 1 + Exam', data=grades.dropna()).fit()\n",
    "\n",
    "#extract the parameters for the confidence window\n",
    "x_pred = np.linspace(grades.Exam.min(), grades.Exam.max(), len(grades.Exam))\n",
    "x_pred2 = sm.add_constant(x_pred)\n",
    "\n",
    "#confidence = 95% (alpha=0.05)\n",
    "sdev, lower, upper = wls_prediction_std(mod, exog=x_pred2, alpha=0.5)\n",
    "\n",
    "#plot points and confidence window\n",
    "plt.scatter(grades.Exam, grades.Total, s=10, alpha=0.9)\n",
    "plt.fill_between(x_pred, lower, upper, color='#888888', alpha=0.2)\n",
    "\n",
    "#plot the regression line\n",
    "plt.plot(grades.Exam.dropna(), mod.predict(grades[['Exam']] ), 'b-', label='Linear n=1 $R^2$=%.2f' % mod.rsquared, alpha=0.9)\n",
    "\n",
    "plt.xlabel('Exam')\n",
    "plt.ylabel('Total Grade')"
   ]
  },
  {
   "cell_type": "markdown",
   "metadata": {},
   "source": [
    "Sometimes it is useful to visualise the residuals in respect to the response variable, in oder to inspect the normality of their distribution and unusual shapes which might be indicative of non-normality.\n",
    "\n",
    "**Exercise:**: Use a scatter plot to visualise the distribution of the residuals."
   ]
  },
  {
   "cell_type": "code",
   "execution_count": null,
   "metadata": {
    "collapsed": false
   },
   "outputs": [],
   "source": []
  },
  {
   "cell_type": "markdown",
   "metadata": {},
   "source": [
    "## Be Careful with Predictions\n",
    "\n",
    "We have to be very careful to understand the difference between **extrapolation** and **interpolation**. The two are subtly different. Interpolation is concerned with predicting points within your range of data, which is what regression is designed to do.\n",
    "\n",
    "Extrapolation is about making predictions that are outside the range of the data that your algorithm has been trained on. You must be very cautious of extrapolation. People extrapolate all the time. But if you're going to do it, you need to specify additional assumptions that make explicit your ignorance about what happens outside the data range.\n",
    "\n",
    "\n",
    "---\n",
    "\n",
    "---\n"
   ]
  },
  {
   "cell_type": "markdown",
   "metadata": {},
   "source": [
    "## Fitting Linear and Polynomial models\n",
    "\n",
    "We do not need to be restricted to a straight-line regression model. Despite its name, linear regression can be used to fit non-linear functions. A linear regression model is linear in the model parameters, not necessarily in the predictors. If you add non-linear transformations of your predictors to the linear regression model, the model will be non-linear in the predictors. For example we can represent a curved relationship between our variables by introducing **polynomial** terms. For example, a cubic model below can still be treated as a linear regression problem:\n",
    "\n",
    "<div style=\"font-size: 150%;\">  \n",
    "$y_i = \\beta_0 + \\beta_1 x_i + \\beta_2 x_i^2 + \\epsilon_i$\n",
    "</div>\n",
    "\n",
    "\n",
    "A very popular regression technique is [Polynomial Regression](http://en.wikipedia.org/wiki/Polynomial_regression) (a special case of multiple linear regression), a technique which models the relationship between the response and the predictors as an n-th order polynomial. The higher the order of the polynomial the more \"wigglier\" functions you can fit. Using higher order polynomial comes at a price, however. First, the computational complexity of model fitting grows as the number of adaptable parameters grows. Second, more complex models have a higher risk of **overfitting**. Overfitting refers to a situation in which the model fits the idiosyncrasies of the training data and loses the ability to generalize from the seen to predict the unseen.\n"
   ]
  },
  {
   "cell_type": "markdown",
   "metadata": {},
   "source": [
    "The examples below from the 'student grade' prediction dataset will show how linear regression can be used to fit linear and polynomial models using the `ols` method found in the  `statsmodels.formula.api` module."
   ]
  },
  {
   "cell_type": "code",
   "execution_count": 49,
   "metadata": {
    "collapsed": false
   },
   "outputs": [
    {
     "data": {
      "text/html": [
       "<div>\n",
       "<table border=\"1\" class=\"dataframe\">\n",
       "  <thead>\n",
       "    <tr style=\"text-align: right;\">\n",
       "      <th></th>\n",
       "      <th>A1</th>\n",
       "      <th>A2</th>\n",
       "      <th>A3</th>\n",
       "      <th>A4</th>\n",
       "      <th>A5</th>\n",
       "      <th>CW</th>\n",
       "      <th>Exam</th>\n",
       "      <th>Total</th>\n",
       "      <th>Grade</th>\n",
       "      <th>Mode</th>\n",
       "    </tr>\n",
       "  </thead>\n",
       "  <tbody>\n",
       "    <tr>\n",
       "      <th>0</th>\n",
       "      <td>3.5</td>\n",
       "      <td>5.50</td>\n",
       "      <td>7.5</td>\n",
       "      <td>6.5</td>\n",
       "      <td>7.5</td>\n",
       "      <td>30.50</td>\n",
       "      <td>30.0</td>\n",
       "      <td>60.50</td>\n",
       "      <td>B-</td>\n",
       "      <td>INT</td>\n",
       "    </tr>\n",
       "    <tr>\n",
       "      <th>1</th>\n",
       "      <td>2.5</td>\n",
       "      <td>4.50</td>\n",
       "      <td>3.2</td>\n",
       "      <td>3.8</td>\n",
       "      <td>NaN</td>\n",
       "      <td>14.00</td>\n",
       "      <td>10.0</td>\n",
       "      <td>24.00</td>\n",
       "      <td>E</td>\n",
       "      <td>INT</td>\n",
       "    </tr>\n",
       "    <tr>\n",
       "      <th>2</th>\n",
       "      <td>4.0</td>\n",
       "      <td>5.25</td>\n",
       "      <td>7.1</td>\n",
       "      <td>10.2</td>\n",
       "      <td>11.5</td>\n",
       "      <td>38.05</td>\n",
       "      <td>31.0</td>\n",
       "      <td>69.05</td>\n",
       "      <td>B</td>\n",
       "      <td>INT</td>\n",
       "    </tr>\n",
       "    <tr>\n",
       "      <th>3</th>\n",
       "      <td>4.0</td>\n",
       "      <td>NaN</td>\n",
       "      <td>3.0</td>\n",
       "      <td>7.7</td>\n",
       "      <td>9.5</td>\n",
       "      <td>24.20</td>\n",
       "      <td>23.0</td>\n",
       "      <td>47.20</td>\n",
       "      <td>R</td>\n",
       "      <td>INT</td>\n",
       "    </tr>\n",
       "    <tr>\n",
       "      <th>4</th>\n",
       "      <td>4.5</td>\n",
       "      <td>4.75</td>\n",
       "      <td>7.4</td>\n",
       "      <td>10.3</td>\n",
       "      <td>8.8</td>\n",
       "      <td>35.75</td>\n",
       "      <td>40.0</td>\n",
       "      <td>75.75</td>\n",
       "      <td>B+</td>\n",
       "      <td>EXT</td>\n",
       "    </tr>\n",
       "  </tbody>\n",
       "</table>\n",
       "</div>"
      ],
      "text/plain": [
       "    A1    A2   A3    A4    A5     CW  Exam  Total Grade Mode\n",
       "0  3.5  5.50  7.5   6.5   7.5  30.50  30.0  60.50    B-  INT\n",
       "1  2.5  4.50  3.2   3.8   NaN  14.00  10.0  24.00     E  INT\n",
       "2  4.0  5.25  7.1  10.2  11.5  38.05  31.0  69.05     B  INT\n",
       "3  4.0   NaN  3.0   7.7   9.5  24.20  23.0  47.20     R  INT\n",
       "4  4.5  4.75  7.4  10.3   8.8  35.75  40.0  75.75    B+  EXT"
      ]
     },
     "execution_count": 49,
     "metadata": {},
     "output_type": "execute_result"
    }
   ],
   "source": [
    "grades = pd.read_csv(\"grades_prediction_mode.csv\", index_col=0)\n",
    "grades.head()"
   ]
  },
  {
   "cell_type": "code",
   "execution_count": 50,
   "metadata": {
    "collapsed": false
   },
   "outputs": [
    {
     "data": {
      "text/html": [
       "<div>\n",
       "<table border=\"1\" class=\"dataframe\">\n",
       "  <thead>\n",
       "    <tr style=\"text-align: right;\">\n",
       "      <th></th>\n",
       "      <th>A1</th>\n",
       "      <th>A2</th>\n",
       "      <th>A3</th>\n",
       "      <th>A4</th>\n",
       "      <th>A5</th>\n",
       "      <th>CW</th>\n",
       "      <th>Exam</th>\n",
       "      <th>Total</th>\n",
       "      <th>Grade</th>\n",
       "      <th>Mode</th>\n",
       "    </tr>\n",
       "  </thead>\n",
       "  <tbody>\n",
       "    <tr>\n",
       "      <th>0</th>\n",
       "      <td>3.5</td>\n",
       "      <td>5.500000</td>\n",
       "      <td>7.5</td>\n",
       "      <td>6.5</td>\n",
       "      <td>7.500000</td>\n",
       "      <td>30.50</td>\n",
       "      <td>30.0</td>\n",
       "      <td>60.50</td>\n",
       "      <td>B-</td>\n",
       "      <td>INT</td>\n",
       "    </tr>\n",
       "    <tr>\n",
       "      <th>1</th>\n",
       "      <td>2.5</td>\n",
       "      <td>4.500000</td>\n",
       "      <td>3.2</td>\n",
       "      <td>3.8</td>\n",
       "      <td>9.376263</td>\n",
       "      <td>14.00</td>\n",
       "      <td>10.0</td>\n",
       "      <td>24.00</td>\n",
       "      <td>E</td>\n",
       "      <td>INT</td>\n",
       "    </tr>\n",
       "    <tr>\n",
       "      <th>2</th>\n",
       "      <td>4.0</td>\n",
       "      <td>5.250000</td>\n",
       "      <td>7.1</td>\n",
       "      <td>10.2</td>\n",
       "      <td>11.500000</td>\n",
       "      <td>38.05</td>\n",
       "      <td>31.0</td>\n",
       "      <td>69.05</td>\n",
       "      <td>B</td>\n",
       "      <td>INT</td>\n",
       "    </tr>\n",
       "    <tr>\n",
       "      <th>3</th>\n",
       "      <td>4.0</td>\n",
       "      <td>4.712917</td>\n",
       "      <td>3.0</td>\n",
       "      <td>7.7</td>\n",
       "      <td>9.500000</td>\n",
       "      <td>24.20</td>\n",
       "      <td>23.0</td>\n",
       "      <td>47.20</td>\n",
       "      <td>R</td>\n",
       "      <td>INT</td>\n",
       "    </tr>\n",
       "    <tr>\n",
       "      <th>4</th>\n",
       "      <td>4.5</td>\n",
       "      <td>4.750000</td>\n",
       "      <td>7.4</td>\n",
       "      <td>10.3</td>\n",
       "      <td>8.800000</td>\n",
       "      <td>35.75</td>\n",
       "      <td>40.0</td>\n",
       "      <td>75.75</td>\n",
       "      <td>B+</td>\n",
       "      <td>EXT</td>\n",
       "    </tr>\n",
       "  </tbody>\n",
       "</table>\n",
       "</div>"
      ],
      "text/plain": [
       "    A1        A2   A3    A4         A5     CW  Exam  Total Grade Mode\n",
       "0  3.5  5.500000  7.5   6.5   7.500000  30.50  30.0  60.50    B-  INT\n",
       "1  2.5  4.500000  3.2   3.8   9.376263  14.00  10.0  24.00     E  INT\n",
       "2  4.0  5.250000  7.1  10.2  11.500000  38.05  31.0  69.05     B  INT\n",
       "3  4.0  4.712917  3.0   7.7   9.500000  24.20  23.0  47.20     R  INT\n",
       "4  4.5  4.750000  7.4  10.3   8.800000  35.75  40.0  75.75    B+  EXT"
      ]
     },
     "execution_count": 50,
     "metadata": {},
     "output_type": "execute_result"
    }
   ],
   "source": [
    "grades_no_NaN = grades.fillna(grades.mean())\n",
    "grades_no_NaN.head()"
   ]
  },
  {
   "cell_type": "code",
   "execution_count": 51,
   "metadata": {
    "collapsed": false
   },
   "outputs": [
    {
     "data": {
      "text/plain": [
       "<matplotlib.legend.Legend at 0x103ff550>"
      ]
     },
     "execution_count": 51,
     "metadata": {},
     "output_type": "execute_result"
    },
    {
     "data": {
      "image/png": "[encoded data removed]",
      "text/plain": [
       "<matplotlib.figure.Figure at 0xe743d68>"
      ]
     },
     "metadata": {},
     "output_type": "display_data"
    }
   ],
   "source": [
    "plt.scatter( grades_no_NaN.CW, grades_no_NaN.Exam, s=10, alpha=0.3)\n",
    "plt.xlabel('CW')\n",
    "plt.ylabel('Exam')\n",
    "\n",
    "# points linearlyd space on lstats\n",
    "x = pd.DataFrame({'CW': np.linspace(grades_no_NaN.CW.min(), grades_no_NaN.CW.max(), len(grades_no_NaN.CW)) })\n",
    "\n",
    "# 1-st order polynomial\n",
    "poly_1 = smf.ols(formula='Exam ~ 1 + CW', data=grades_no_NaN).fit()\n",
    "plt.plot(x, poly_1.predict(x), 'b-', label='Poly n=1 $R^2$=%.2f' % poly_1.rsquared,  alpha=0.9)\n",
    "\n",
    "# 2-nd order polynomial\n",
    "poly_2 = smf.ols(formula='Exam ~ 1 + CW + I(CW ** 2.0)', data=grades_no_NaN).fit()\n",
    "plt.plot(x, poly_2.predict(x), 'g-', label='Poly n=2 $R^2$=%.2f' % poly_2.rsquared, alpha=0.9)\n",
    "\n",
    "# 3-rd order polynomial\n",
    "poly_3 = smf.ols(formula='Exam ~ 1 + CW + I(CW ** 2.0) + I(CW ** 3.0)', data=grades_no_NaN).fit()\n",
    "plt.plot(x, poly_3.predict(x), 'r-', alpha=0.9,\n",
    "         label='Poly n=3 $R^2$=%.2f' % poly_3.rsquared)\n",
    "\n",
    "plt.legend()\n",
    "#poly_1.mse_resid\n"
   ]
  },
  {
   "cell_type": "markdown",
   "metadata": {},
   "source": [
    "**Exercise:** Describe the goodness-of-fit for each of the generated models. Which is better? Why?"
   ]
  },
  {
   "cell_type": "raw",
   "metadata": {},
   "source": [
    "\n",
    "\n",
    "\n"
   ]
  },
  {
   "cell_type": "markdown",
   "metadata": {},
   "source": [
    "**Exercise:** For each of the above three generated models, write code that predicts exam scores for students who score [4, 25, 40,100] in their course work:"
   ]
  },
  {
   "cell_type": "code",
   "execution_count": null,
   "metadata": {
    "collapsed": false
   },
   "outputs": [],
   "source": []
  },
  {
   "cell_type": "markdown",
   "metadata": {},
   "source": [
    "**Exercise:** Attempt to create a polynomial model that better fits the data:"
   ]
  },
  {
   "cell_type": "code",
   "execution_count": null,
   "metadata": {
    "collapsed": false
   },
   "outputs": [],
   "source": []
  },
  {
   "cell_type": "markdown",
   "metadata": {},
   "source": [
    "## Multiple linear regression\n",
    "\n",
    "The above were examples of linear and polynomial regression models. One feature (predictor variable) and one prediction output (response variable). Below is an example of multiple linear regression. Several different features and one prediction output value."
   ]
  },
  {
   "cell_type": "code",
   "execution_count": 52,
   "metadata": {
    "collapsed": false
   },
   "outputs": [
    {
     "name": "stdout",
     "output_type": "stream",
     "text": [
      "Intercept    5.425709\n",
      "A1           0.520149\n",
      "A2           2.490116\n",
      "A3           2.816537\n",
      "dtype: float64\n",
      "R-Squared:  0.344016601265\n"
     ]
    },
    {
     "data": {
      "text/html": [
       "<table class=\"simpletable\">\n",
       "<caption>OLS Regression Results</caption>\n",
       "<tr>\n",
       "  <th>Dep. Variable:</th>          <td>Exam</td>       <th>  R-squared:         </th> <td>   0.344</td>\n",
       "</tr>\n",
       "<tr>\n",
       "  <th>Model:</th>                   <td>OLS</td>       <th>  Adj. R-squared:    </th> <td>   0.328</td>\n",
       "</tr>\n",
       "<tr>\n",
       "  <th>Method:</th>             <td>Least Squares</td>  <th>  F-statistic:       </th> <td>   21.68</td>\n",
       "</tr>\n",
       "<tr>\n",
       "  <th>Date:</th>             <td>Wed, 10 Aug 2016</td> <th>  Prob (F-statistic):</th> <td>2.36e-11</td>\n",
       "</tr>\n",
       "<tr>\n",
       "  <th>Time:</th>                 <td>16:35:34</td>     <th>  Log-Likelihood:    </th> <td> -463.18</td>\n",
       "</tr>\n",
       "<tr>\n",
       "  <th>No. Observations:</th>      <td>   128</td>      <th>  AIC:               </th> <td>   934.4</td>\n",
       "</tr>\n",
       "<tr>\n",
       "  <th>Df Residuals:</th>          <td>   124</td>      <th>  BIC:               </th> <td>   945.8</td>\n",
       "</tr>\n",
       "<tr>\n",
       "  <th>Df Model:</th>              <td>     3</td>      <th>                     </th>     <td> </td>   \n",
       "</tr>\n",
       "<tr>\n",
       "  <th>Covariance Type:</th>      <td>nonrobust</td>    <th>                     </th>     <td> </td>   \n",
       "</tr>\n",
       "</table>\n",
       "<table class=\"simpletable\">\n",
       "<tr>\n",
       "      <td></td>         <th>coef</th>     <th>std err</th>      <th>t</th>      <th>P>|t|</th> <th>[95.0% Conf. Int.]</th> \n",
       "</tr>\n",
       "<tr>\n",
       "  <th>Intercept</th> <td>    5.4257</td> <td>    5.379</td> <td>    1.009</td> <td> 0.315</td> <td>   -5.222    16.073</td>\n",
       "</tr>\n",
       "<tr>\n",
       "  <th>A1</th>        <td>    0.5201</td> <td>    1.274</td> <td>    0.408</td> <td> 0.684</td> <td>   -2.002     3.043</td>\n",
       "</tr>\n",
       "<tr>\n",
       "  <th>A2</th>        <td>    2.4901</td> <td>    1.170</td> <td>    2.129</td> <td> 0.035</td> <td>    0.175     4.805</td>\n",
       "</tr>\n",
       "<tr>\n",
       "  <th>A3</th>        <td>    2.8165</td> <td>    0.491</td> <td>    5.737</td> <td> 0.000</td> <td>    1.845     3.788</td>\n",
       "</tr>\n",
       "</table>\n",
       "<table class=\"simpletable\">\n",
       "<tr>\n",
       "  <th>Omnibus:</th>       <td>11.682</td> <th>  Durbin-Watson:     </th> <td>   1.930</td>\n",
       "</tr>\n",
       "<tr>\n",
       "  <th>Prob(Omnibus):</th> <td> 0.003</td> <th>  Jarque-Bera (JB):  </th> <td>  12.330</td>\n",
       "</tr>\n",
       "<tr>\n",
       "  <th>Skew:</th>          <td>-0.653</td> <th>  Prob(JB):          </th> <td> 0.00210</td>\n",
       "</tr>\n",
       "<tr>\n",
       "  <th>Kurtosis:</th>      <td> 3.780</td> <th>  Cond. No.          </th> <td>    57.0</td>\n",
       "</tr>\n",
       "</table>"
      ],
      "text/plain": [
       "<class 'statsmodels.iolib.summary.Summary'>\n",
       "\"\"\"\n",
       "                            OLS Regression Results                            \n",
       "==============================================================================\n",
       "Dep. Variable:                   Exam   R-squared:                       0.344\n",
       "Model:                            OLS   Adj. R-squared:                  0.328\n",
       "Method:                 Least Squares   F-statistic:                     21.68\n",
       "Date:                Wed, 10 Aug 2016   Prob (F-statistic):           2.36e-11\n",
       "Time:                        16:35:34   Log-Likelihood:                -463.18\n",
       "No. Observations:                 128   AIC:                             934.4\n",
       "Df Residuals:                     124   BIC:                             945.8\n",
       "Df Model:                           3                                         \n",
       "Covariance Type:            nonrobust                                         \n",
       "==============================================================================\n",
       "                 coef    std err          t      P>|t|      [95.0% Conf. Int.]\n",
       "------------------------------------------------------------------------------\n",
       "Intercept      5.4257      5.379      1.009      0.315        -5.222    16.073\n",
       "A1             0.5201      1.274      0.408      0.684        -2.002     3.043\n",
       "A2             2.4901      1.170      2.129      0.035         0.175     4.805\n",
       "A3             2.8165      0.491      5.737      0.000         1.845     3.788\n",
       "==============================================================================\n",
       "Omnibus:                       11.682   Durbin-Watson:                   1.930\n",
       "Prob(Omnibus):                  0.003   Jarque-Bera (JB):               12.330\n",
       "Skew:                          -0.653   Prob(JB):                      0.00210\n",
       "Kurtosis:                       3.780   Cond. No.                         57.0\n",
       "==============================================================================\n",
       "\n",
       "Warnings:\n",
       "[1] Standard Errors assume that the covariance matrix of the errors is correctly specified.\n",
       "\"\"\""
      ]
     },
     "execution_count": 52,
     "metadata": {},
     "output_type": "execute_result"
    }
   ],
   "source": [
    "multi_linear = smf.ols(formula='Exam ~ 1 + A1 + A2 + A3', data=grades_no_NaN).fit()\n",
    "print multi_linear.params[0:4]\n",
    "print 'R-Squared: ', multi_linear.rsquared\n",
    "multi_linear.summary()"
   ]
  },
  {
   "cell_type": "markdown",
   "metadata": {},
   "source": [
    "**Exercise:** For the above generated model, write code that predicts exam scores for a student who scores 4,5,8 in their first 3 assignments:\n"
   ]
  },
  {
   "cell_type": "code",
   "execution_count": null,
   "metadata": {
    "collapsed": false
   },
   "outputs": [],
   "source": []
  },
  {
   "cell_type": "markdown",
   "metadata": {},
   "source": [
    "**Exercise:** Experiment with a different combination of variables in order to generate a multiple linear regression model that better fits the data:"
   ]
  },
  {
   "cell_type": "code",
   "execution_count": null,
   "metadata": {
    "collapsed": false
   },
   "outputs": [],
   "source": []
  },
  {
   "cell_type": "code",
   "execution_count": null,
   "metadata": {
    "collapsed": false
   },
   "outputs": [],
   "source": []
  },
  {
   "cell_type": "code",
   "execution_count": null,
   "metadata": {
    "collapsed": false
   },
   "outputs": [],
   "source": []
  },
  {
   "cell_type": "code",
   "execution_count": null,
   "metadata": {
    "collapsed": false
   },
   "outputs": [],
   "source": []
  },
  {
   "cell_type": "code",
   "execution_count": 53,
   "metadata": {
    "collapsed": false
   },
   "outputs": [
    {
     "data": {
      "application/javascript": [
       "require(['base/js/utils'],\n",
       "function(utils) {\n",
       "   utils.load_extensions('calico-spell-check', 'calico-document-tools', 'calico-cell-tools');\n",
       "});"
      ],
      "text/plain": [
       "<IPython.core.display.Javascript object>"
      ]
     },
     "metadata": {},
     "output_type": "display_data"
    }
   ],
   "source": [
    "%%javascript\n",
    "require(['base/js/utils'],\n",
    "function(utils) {\n",
    "   utils.load_extensions('calico-spell-check', 'calico-document-tools', 'calico-cell-tools');\n",
    "});\n"
   ]
  },
  {
   "cell_type": "code",
   "execution_count": null,
   "metadata": {
    "collapsed": false
   },
   "outputs": [],
   "source": []
  },
  {
   "cell_type": "code",
   "execution_count": null,
   "metadata": {
    "collapsed": true
   },
   "outputs": [],
   "source": []
  },
  {
   "cell_type": "code",
   "execution_count": null,
   "metadata": {
    "collapsed": true
   },
   "outputs": [],
   "source": []
  },
  {
   "cell_type": "code",
   "execution_count": null,
   "metadata": {
    "collapsed": true
   },
   "outputs": [],
   "source": []
  }
 ],
 "metadata": {
  "anaconda-cloud": {},
  "kernelspec": {
   "display_name": "Python [Root]",
   "language": "python",
   "name": "Python [Root]"
  },
  "language_info": {
   "codemirror_mode": {
    "name": "ipython",
    "version": 2
   },
   "file_extension": ".py",
   "mimetype": "text/x-python",
   "name": "python",
   "nbconvert_exporter": "python",
   "pygments_lexer": "ipython2",
   "version": "2.7.12"
  }
 },
 "nbformat": 4,
 "nbformat_minor": 0
}
